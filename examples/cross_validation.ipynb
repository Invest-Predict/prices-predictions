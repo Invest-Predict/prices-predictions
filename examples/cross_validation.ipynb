{
 "cells": [
  {
   "cell_type": "code",
   "execution_count": 26,
   "metadata": {},
   "outputs": [
    {
     "name": "stdout",
     "output_type": "stream",
     "text": [
      "The IPython.extensions.autoreload extension is already loaded. To reload it, use:\n",
      "  %reload_ext IPython.extensions.autoreload\n"
     ]
    }
   ],
   "source": [
    "%load_ext IPython.extensions.autoreload\n",
    "%autoreload 2"
   ]
  },
  {
   "cell_type": "code",
   "execution_count": 40,
   "metadata": {},
   "outputs": [],
   "source": [
    "import sys\n",
    "\n",
    "sys.path.append('../model')\n",
    "\n",
    "from data import FinData\n",
    "from preprocessing import train_valid_split\n",
    "from model import CatboostFinModel"
   ]
  },
  {
   "cell_type": "code",
   "execution_count": 41,
   "metadata": {},
   "outputs": [],
   "source": [
    "import pandas as pd\n",
    "import polars as pl\n",
    "import numpy as np\n",
    "import matplotlib.pyplot as plt\n",
    "import seaborn as sns\n",
    "import sklearn\n",
    "import datetime as dt\n",
    "\n",
    "# from model.data import FinData\n",
    "# from model.preprocessing import train_valid_split\n",
    "# from ..model.model import CatboostFinModel"
   ]
  },
  {
   "cell_type": "code",
   "execution_count": 42,
   "metadata": {},
   "outputs": [
    {
     "ename": "TypeError",
     "evalue": "StandartFeaturesMixin.insert_rolling_means() missing 1 required positional argument: 'windows_ma'",
     "output_type": "error",
     "traceback": [
      "\u001b[1;31m---------------------------------------------------------------------------\u001b[0m",
      "\u001b[1;31mTypeError\u001b[0m                                 Traceback (most recent call last)",
      "Cell \u001b[1;32mIn[42], line 4\u001b[0m\n\u001b[0;32m      1\u001b[0m data \u001b[38;5;241m=\u001b[39m FinData(\u001b[38;5;124m\"\u001b[39m\u001b[38;5;124m../datasets/T_yandex_10min.csv\u001b[39m\u001b[38;5;124m\"\u001b[39m)\n\u001b[0;32m      3\u001b[0m data\u001b[38;5;241m.\u001b[39minsert_shifts_norms()\n\u001b[1;32m----> 4\u001b[0m \u001b[43mdata\u001b[49m\u001b[38;5;241;43m.\u001b[39;49m\u001b[43minsert_rolling_means\u001b[49m\u001b[43m(\u001b[49m\u001b[43m)\u001b[49m\n\u001b[0;32m      5\u001b[0m data\u001b[38;5;241m.\u001b[39minsert_exp_rolling_means()\n\u001b[0;32m      6\u001b[0m data\u001b[38;5;241m.\u001b[39minsert_stochastic_oscillator()\n",
      "\u001b[1;31mTypeError\u001b[0m: StandartFeaturesMixin.insert_rolling_means() missing 1 required positional argument: 'windows_ma'"
     ]
    }
   ],
   "source": [
    "data = FinData(\"../datasets/T_yandex_10min.csv\")\n",
    "\n",
    "data.insert_shifts_norms()\n",
    "data.insert_rolling_means([3, 6, 18])\n",
    "data.insert_exp_rolling_means()\n",
    "data.insert_stochastic_oscillator()\n",
    "data.insert_high_low_diff()\n",
    "data.insert_holidays()\n",
    "data.insert_rsi()\n",
    "data.insert_bollinger()\n",
    "data.insert_random_prediction()\n",
    "\n",
    "data.make_binary_class_target()\n",
    "data.restrict_time_down_stupidly(months=12)"
   ]
  },
  {
   "cell_type": "code",
   "execution_count": 37,
   "metadata": {},
   "outputs": [
    {
     "name": "stdout",
     "output_type": "stream",
     "text": [
      "fist_date: 2024-09-15 04:00:00 - last_date: 2024-11-15 04:00:00\n",
      "const_acc: 0.5728643216080402\n",
      "fist_date: 2024-08-14 04:00:00 - last_date: 2024-10-14 04:00:00\n",
      "const_acc: 0.5742574257425742\n",
      "fist_date: 2024-09-13 04:00:00 - last_date: 2024-11-13 04:00:00\n",
      "const_acc: 0.6030150753768844\n",
      "fist_date: 2024-08-04 07:00:00 - last_date: 2024-10-04 07:00:00\n",
      "const_acc: 0.542713567839196\n",
      "(199,)\n",
      "On trial 4 with date 2024-08-04 00:00:00 got accuracy 0.592964824120603\n",
      "fist_date: 2024-08-04 07:00:00 - last_date: 2024-10-04 07:00:00\n",
      "const_acc: 0.542713567839196\n",
      "fist_date: 2024-08-16 04:00:00 - last_date: 2024-10-16 04:00:00\n",
      "const_acc: 0.4723618090452261\n",
      "fist_date: 2024-08-24 04:00:00 - last_date: 2024-10-24 04:00:00\n",
      "const_acc: 0.5276381909547738\n",
      "fist_date: 2024-08-16 04:00:00 - last_date: 2024-10-16 04:00:00\n",
      "const_acc: 0.4723618090452261\n",
      "(199,)\n",
      "On trial 3 with date 2024-08-16 00:00:00 got accuracy 0.5728643216080402\n",
      "fist_date: 2024-08-04 07:00:00 - last_date: 2024-10-04 07:00:00\n",
      "const_acc: 0.542713567839196\n",
      "fist_date: 2024-09-17 04:00:00 - last_date: 2024-11-17 04:00:00\n",
      "const_acc: 0.5441860465116279\n",
      "fist_date: 2024-08-12 04:00:00 - last_date: 2024-10-12 04:00:00\n",
      "const_acc: 0.5226130653266332\n",
      "fist_date: 2024-08-06 04:00:00 - last_date: 2024-10-06 04:00:00\n",
      "const_acc: 0.6268656716417911\n",
      "(201,)\n",
      "On trial 2 with date 2024-08-06 00:00:00 got accuracy 0.6517412935323383\n",
      "fist_date: 2024-09-07 04:00:00 - last_date: 2024-11-07 04:00:00\n",
      "const_acc: 0.5326633165829145\n",
      "fist_date: 2024-08-31 04:00:00 - last_date: 2024-10-31 04:00:00\n",
      "const_acc: 0.5477386934673367\n",
      "fist_date: 2024-08-11 04:00:00 - last_date: 2024-10-11 04:00:00\n",
      "const_acc: 0.5577889447236181\n",
      "fist_date: 2024-08-19 04:00:00 - last_date: 2024-10-19 04:00:00\n",
      "const_acc: 0.6130653266331658\n",
      "(199,)\n",
      "On trial 1 with date 2024-08-19 00:00:00 got accuracy 0.6030150753768844\n",
      "fist_date: 2024-09-24 04:00:00 - last_date: 2024-11-24 04:00:00\n",
      "const_acc: 0.6069651741293532\n",
      "fist_date: 2024-08-02 07:00:00 - last_date: 2024-10-02 07:00:00\n",
      "const_acc: 0.5829145728643216\n",
      "fist_date: 2024-08-07 04:00:00 - last_date: 2024-10-07 04:00:00\n",
      "const_acc: 0.6403940886699507\n",
      "fist_date: 2024-08-23 04:00:00 - last_date: 2024-10-23 04:00:00\n",
      "const_acc: 0.5326633165829145\n",
      "(199,)\n",
      "On trial 0 with date 2024-08-23 00:00:00 got accuracy 0.5979899497487438\n"
     ]
    },
    {
     "data": {
      "text/plain": [
       "0.603715092877322"
      ]
     },
     "execution_count": 37,
     "metadata": {},
     "output_type": "execute_result"
    }
   ],
   "source": [
    "numeric = data.numeric_features\n",
    "\n",
    "cat = data.cat_features\n",
    "\n",
    "args = {\"iterations\" : 10000, \n",
    "        \"depth\" : 5, \n",
    "        \"learning_rate\" : 0.01, # тут слегка неадекватные параметры, которые можно менять \n",
    "        \"use_best_model\" : True, \n",
    "        \"l2_leaf_reg\" : 200,\n",
    "        \"loss_function\" : 'CrossEntropy', \n",
    "        \"eval_metric\" : 'Accuracy', \n",
    "        \"cat_features\" : cat, \n",
    "        \"random_state\" : 42,\n",
    "        \"early_stopping_rounds\" : 5000}\n",
    "\n",
    "\n",
    "model = CatboostFinModel(args)\n",
    "model.cross_validation(data.df, cat, n_samples=5)"
   ]
  },
  {
   "cell_type": "code",
   "execution_count": null,
   "metadata": {},
   "outputs": [
    {
     "ename": "NotImplementedError",
     "evalue": "\nstatsmodels.tsa.arima_model.ARMA and statsmodels.tsa.arima_model.ARIMA have\nbeen removed in favor of statsmodels.tsa.arima.model.ARIMA (note the .\nbetween arima and model) and statsmodels.tsa.SARIMAX.\n\nstatsmodels.tsa.arima.model.ARIMA makes use of the statespace framework and\nis both well tested and maintained. It also offers alternative specialized\nparameter estimators.\n",
     "output_type": "error",
     "traceback": [
      "\u001b[1;31m---------------------------------------------------------------------------\u001b[0m",
      "\u001b[1;31mNotImplementedError\u001b[0m                       Traceback (most recent call last)",
      "Cell \u001b[1;32mIn[39], line 40\u001b[0m\n\u001b[0;32m     38\u001b[0m plt\u001b[38;5;241m.\u001b[39mplot(data, label\u001b[38;5;241m=\u001b[39m\u001b[38;5;124m'\u001b[39m\u001b[38;5;124mOriginal Series\u001b[39m\u001b[38;5;124m'\u001b[39m)\n\u001b[0;32m     39\u001b[0m plt\u001b[38;5;241m.\u001b[39mplot(fourier_decomposition(data), label\u001b[38;5;241m=\u001b[39m\u001b[38;5;124m'\u001b[39m\u001b[38;5;124mFourier Decomposition\u001b[39m\u001b[38;5;124m'\u001b[39m)\n\u001b[1;32m---> 40\u001b[0m plt\u001b[38;5;241m.\u001b[39mplot(\u001b[43marima_decomposition\u001b[49m\u001b[43m(\u001b[49m\u001b[43mdata\u001b[49m\u001b[43m)\u001b[49m, label\u001b[38;5;241m=\u001b[39m\u001b[38;5;124m'\u001b[39m\u001b[38;5;124mARIMA Decomposition\u001b[39m\u001b[38;5;124m'\u001b[39m)\n\u001b[0;32m     41\u001b[0m plt\u001b[38;5;241m.\u001b[39mlegend()\n\u001b[0;32m     42\u001b[0m plt\u001b[38;5;241m.\u001b[39mshow()\n",
      "Cell \u001b[1;32mIn[39], line 29\u001b[0m, in \u001b[0;36marima_decomposition\u001b[1;34m(series, order)\u001b[0m\n\u001b[0;32m     28\u001b[0m \u001b[38;5;28;01mdef\u001b[39;00m \u001b[38;5;21marima_decomposition\u001b[39m(series, order\u001b[38;5;241m=\u001b[39m(\u001b[38;5;241m5\u001b[39m, \u001b[38;5;241m1\u001b[39m, \u001b[38;5;241m0\u001b[39m)):\n\u001b[1;32m---> 29\u001b[0m     model \u001b[38;5;241m=\u001b[39m \u001b[43mARIMA\u001b[49m\u001b[43m(\u001b[49m\u001b[43morder\u001b[49m\u001b[38;5;241;43m=\u001b[39;49m\u001b[43morder\u001b[49m\u001b[43m)\u001b[49m\n\u001b[0;32m     30\u001b[0m     model_fit \u001b[38;5;241m=\u001b[39m model\u001b[38;5;241m.\u001b[39mfit(series)\n\u001b[0;32m     32\u001b[0m     \u001b[38;5;66;03m# Прогноз и выделение трендовой составляющей\u001b[39;00m\n",
      "File \u001b[1;32mc:\\Users\\burko\\OneDrive\\Documents\\GitHub\\prices-predictions\\.venv\\Lib\\site-packages\\statsmodels\\tsa\\arima_model.py:45\u001b[0m, in \u001b[0;36mARIMA.__init__\u001b[1;34m(self, *args, **kwargs)\u001b[0m\n\u001b[0;32m     44\u001b[0m \u001b[38;5;28;01mdef\u001b[39;00m \u001b[38;5;21m__init__\u001b[39m(\u001b[38;5;28mself\u001b[39m, \u001b[38;5;241m*\u001b[39margs, \u001b[38;5;241m*\u001b[39m\u001b[38;5;241m*\u001b[39mkwargs):\n\u001b[1;32m---> 45\u001b[0m     \u001b[38;5;28;43msuper\u001b[39;49m\u001b[43m(\u001b[49m\u001b[43m)\u001b[49m\u001b[38;5;241;43m.\u001b[39;49m\u001b[38;5;21;43m__init__\u001b[39;49m\u001b[43m(\u001b[49m\u001b[38;5;241;43m*\u001b[39;49m\u001b[43margs\u001b[49m\u001b[43m,\u001b[49m\u001b[43m \u001b[49m\u001b[38;5;241;43m*\u001b[39;49m\u001b[38;5;241;43m*\u001b[39;49m\u001b[43mkwargs\u001b[49m\u001b[43m)\u001b[49m\n",
      "File \u001b[1;32mc:\\Users\\burko\\OneDrive\\Documents\\GitHub\\prices-predictions\\.venv\\Lib\\site-packages\\statsmodels\\tsa\\arima_model.py:29\u001b[0m, in \u001b[0;36mARMA.__init__\u001b[1;34m(self, *args, **kwargs)\u001b[0m\n\u001b[0;32m     28\u001b[0m \u001b[38;5;28;01mdef\u001b[39;00m \u001b[38;5;21m__init__\u001b[39m(\u001b[38;5;28mself\u001b[39m, \u001b[38;5;241m*\u001b[39margs, \u001b[38;5;241m*\u001b[39m\u001b[38;5;241m*\u001b[39mkwargs):\n\u001b[1;32m---> 29\u001b[0m     \u001b[38;5;28;01mraise\u001b[39;00m \u001b[38;5;167;01mNotImplementedError\u001b[39;00m(ARIMA_DEPRECATION_ERROR)\n",
      "\u001b[1;31mNotImplementedError\u001b[0m: \nstatsmodels.tsa.arima_model.ARMA and statsmodels.tsa.arima_model.ARIMA have\nbeen removed in favor of statsmodels.tsa.arima.model.ARIMA (note the .\nbetween arima and model) and statsmodels.tsa.SARIMAX.\n\nstatsmodels.tsa.arima.model.ARIMA makes use of the statespace framework and\nis both well tested and maintained. It also offers alternative specialized\nparameter estimators.\n"
     ]
    },
    {
     "data": {
      "image/png": "[encoded data removed]",
      "text/plain": [
       "<Figure size 640x480 with 1 Axes>"
      ]
     },
     "metadata": {},
     "output_type": "display_data"
    }
   ],
   "source": [
    "from sklearn.datasets import load_iris\n",
    "from sklearn.feature_selection import RFE\n",
    "from sklearn.model_selection import cross_val_score\n",
    "from catboost import CatBoostClassifier\n",
    "from sklearn.metrics import accuracy_score, classification_report\n",
    "from sklearn.model_selection import train_test_split\n",
    "from catboost import CatBoostClassifier, Pool\n",
    "\n",
    "model = CatBoostClassifier(\n",
    "    iterations=500, depth=5,use_best_model=True, loss_function='CrossEntropy', eval_metric='Accuracy', verbose=False)\n",
    "\n",
    "# Загрузка данных Iris\n",
    "X = data.df.drop(columns=\"direction_binary\")\n",
    "y = data.df[\"direction_binary\"]\n",
    "# Инициализация модели логистической регрессии\n",
    "# logreg = LogisticRegression(random_state=42)\n",
    "\n",
    "# Определение количества признаков для исключения\n",
    "n_features_to_select = 10\n",
    "\n",
    "# Выполнение RFE\n",
    "rfe = RFE(model, n_features_to_select, step=1)\n",
    "X_rfe = rfe.fit_transform(X, y)\n",
    "\n",
    "# Оценка модели с использованием кросс-валидации\n",
    "scores = cross_val_score(model, X_rfe, y, scoring='accuracy', cv=5)\n",
    "\n",
    "print(\"Точность модели после RFE (n_features_to_select = %d):\" % n_features_to_select)\n",
    "print(\"Mean Accuracy: %.3f\" % scores.mean())\n",
    "\n",
    "# Вывод выбранных признаков\n",
    "print(\"Выбранные признаки:\", rfe.support_)\n",
    "print(\"Индексы выбранных признаков:\", rfe.ranking_)\n"
   ]
  }
 ],
 "metadata": {
  "kernelspec": {
   "display_name": ".venv",
   "language": "python",
   "name": "python3"
  },
  "language_info": {
   "codemirror_mode": {
    "name": "ipython",
    "version": 3
   },
   "file_extension": ".py",
   "mimetype": "text/x-python",
   "name": "python",
   "nbconvert_exporter": "python",
   "pygments_lexer": "ipython3",
   "version": "3.12.8"
  }
 },
 "nbformat": 4,
 "nbformat_minor": 2
}
