{
 "cells": [
  {
   "cell_type": "code",
   "execution_count": 26,
   "metadata": {},
   "outputs": [
    {
     "name": "stdout",
     "output_type": "stream",
     "text": [
      "The IPython.extensions.autoreload extension is already loaded. To reload it, use:\n",
      "  %reload_ext IPython.extensions.autoreload\n"
     ]
    }
   ],
   "source": [
    "%load_ext IPython.extensions.autoreload\n",
    "%autoreload 2"
   ]
  },
  {
   "cell_type": "code",
   "execution_count": 30,
   "metadata": {},
   "outputs": [],
   "source": [
    "import sys\n",
    "\n",
    "sys.path.append('../model')\n",
    "\n",
    "from data import FinData\n",
    "from preprocessing import train_valid_split\n",
    "from model import CatboostFinModel"
   ]
  },
  {
   "cell_type": "code",
   "execution_count": 31,
   "metadata": {},
   "outputs": [],
   "source": [
    "import pandas as pd\n",
    "import polars as pl\n",
    "import numpy as np\n",
    "import matplotlib.pyplot as plt\n",
    "import seaborn as sns\n",
    "import sklearn\n",
    "import datetime as dt\n",
    "\n",
    "# from model.data import FinData\n",
    "# from model.preprocessing import train_valid_split\n",
    "# from ..model.model import CatboostFinModel"
   ]
  },
  {
   "cell_type": "code",
   "execution_count": 32,
   "metadata": {},
   "outputs": [],
   "source": [
    "data = FinData(\"../datasets/T_yandex_10min.csv\")\n",
    "\n",
    "data.insert_shifts_norms()\n",
    "data.insert_rolling_means()\n",
    "data.insert_exp_rolling_means()\n",
    "data.insert_stochastic_oscillator()\n",
    "data.insert_high_low_diff()\n",
    "data.insert_holidays()\n",
    "data.insert_rsi()\n",
    "data.insert_bollinger()\n",
    "data.insert_random_prediction()\n",
    "\n",
    "data.make_binary_class_target()"
   ]
  },
  {
   "cell_type": "code",
   "execution_count": 33,
   "metadata": {},
   "outputs": [
    {
     "name": "stdout",
     "output_type": "stream",
     "text": [
      "fist_date: 2024-08-12 04:00:00 - last_date: 2024-10-12 04:00:00\n",
      "const_acc: 0.5226130653266332\n",
      "fist_date: 2024-08-27 04:00:00 - last_date: 2024-10-27 04:00:00\n",
      "const_acc: 0.5621890547263682\n",
      "fist_date: 2024-08-28 04:00:00 - last_date: 2024-10-28 04:00:00\n",
      "const_acc: 0.6206896551724138\n",
      "fist_date: 2024-09-30 04:00:00 - last_date: 2024-11-30 04:00:00\n",
      "const_acc: 0.5125628140703518\n",
      "(199,)\n",
      "On trial 4 with date 2024-09-30 00:00:00 got accuracy 0.5577889447236181\n",
      "fist_date: 2024-08-03 07:00:00 - last_date: 2024-10-03 07:00:00\n",
      "const_acc: 0.5829145728643216\n",
      "fist_date: 2024-09-13 04:00:00 - last_date: 2024-11-13 04:00:00\n",
      "const_acc: 0.6030150753768844\n",
      "fist_date: 2024-08-02 07:00:00 - last_date: 2024-10-02 07:00:00\n",
      "const_acc: 0.5829145728643216\n",
      "fist_date: 2024-09-22 04:00:00 - last_date: 2024-11-22 04:00:00\n",
      "const_acc: 0.5326633165829145\n",
      "(199,)\n",
      "On trial 3 with date 2024-09-22 00:00:00 got accuracy 0.6130653266331658\n",
      "fist_date: 2024-09-05 04:00:00 - last_date: 2024-11-05 04:00:00\n",
      "const_acc: 0.6089108910891089\n",
      "fist_date: 2024-08-28 04:00:00 - last_date: 2024-10-28 04:00:00\n",
      "const_acc: 0.6206896551724138\n",
      "fist_date: 2024-09-04 04:00:00 - last_date: 2024-11-04 04:00:00\n",
      "const_acc: 0.572139303482587\n",
      "fist_date: 2024-09-18 04:00:00 - last_date: 2024-11-18 04:00:00\n",
      "const_acc: 0.6030927835051546\n",
      "(194,)\n",
      "On trial 2 with date 2024-09-18 00:00:00 got accuracy 0.7268041237113402\n",
      "fist_date: 2024-09-02 04:00:00 - last_date: 2024-11-02 04:00:00\n",
      "const_acc: 0.542713567839196\n",
      "fist_date: 2024-09-15 04:00:00 - last_date: 2024-11-15 04:00:00\n",
      "const_acc: 0.5728643216080402\n",
      "fist_date: 2024-09-08 04:00:00 - last_date: 2024-11-08 04:00:00\n",
      "const_acc: 0.4946236559139785\n",
      "(186,)\n",
      "On trial 1 with date 2024-09-08 00:00:00 got accuracy 0.5268817204301075\n",
      "fist_date: 2024-09-17 04:00:00 - last_date: 2024-11-17 04:00:00\n",
      "const_acc: 0.5441860465116279\n",
      "fist_date: 2024-08-26 04:00:00 - last_date: 2024-10-26 04:00:00\n",
      "const_acc: 0.49748743718592964\n",
      "(199,)\n",
      "On trial 0 with date 2024-08-26 00:00:00 got accuracy 0.5326633165829145\n"
     ]
    },
    {
     "data": {
      "text/plain": [
       "0.5914406864162293"
      ]
     },
     "execution_count": 33,
     "metadata": {},
     "output_type": "execute_result"
    }
   ],
   "source": [
    "numeric = data.numeric_features\n",
    "\n",
    "cat = data.cat_features\n",
    "\n",
    "args = {\"iterations\" : 10000, \n",
    "        \"depth\" : 5, \n",
    "        \"learning_rate\" : 0.01, # тут слегка неадекватные параметры, которые можно менять \n",
    "        \"use_best_model\" : True, \n",
    "        \"l2_leaf_reg\" : 200,\n",
    "        \"loss_function\" : 'CrossEntropy', \n",
    "        \"eval_metric\" : 'Accuracy', \n",
    "        \"cat_features\" : cat, \n",
    "        \"random_state\" : 42,\n",
    "        \"early_stopping_rounds\" : 5000}\n",
    "\n",
    "\n",
    "model = CatboostFinModel(args)\n",
    "model.cross_validation(data.df, cat, n_samples=5)"
   ]
  }
 ],
 "metadata": {
  "kernelspec": {
   "display_name": ".venv",
   "language": "python",
   "name": "python3"
  },
  "language_info": {
   "codemirror_mode": {
    "name": "ipython",
    "version": 3
   },
   "file_extension": ".py",
   "mimetype": "text/x-python",
   "name": "python",
   "nbconvert_exporter": "python",
   "pygments_lexer": "ipython3",
   "version": "3.12.8"
  }
 },
 "nbformat": 4,
 "nbformat_minor": 2
}
