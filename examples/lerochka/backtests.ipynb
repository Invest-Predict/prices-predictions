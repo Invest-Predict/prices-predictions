{
 "cells": [
  {
   "cell_type": "code",
   "execution_count": 2,
   "metadata": {},
   "outputs": [],
   "source": [
    "%load_ext IPython.extensions.autoreload\n",
    "%autoreload 2\n",
    "\n",
    "import warnings\n",
    "warnings.filterwarnings('ignore')"
   ]
  },
  {
   "cell_type": "code",
   "execution_count": 4,
   "metadata": {},
   "outputs": [],
   "source": [
    "import sys\n",
    "sys.path.append('../..')\n",
    "from model import FinData\n",
    "from model import train_valid_split\n",
    "from model import CatboostFinModel\n",
    "from backtests import Backtest\n",
    "\n",
    "import matplotlib.pyplot as plt\n",
    "import seaborn as sns\n",
    "import datetime as dt"
   ]
  },
  {
   "cell_type": "code",
   "execution_count": null,
   "metadata": {},
   "outputs": [
    {
     "name": "stderr",
     "output_type": "stream",
     "text": [
      "2025-02-25 21:55:16,408 - INFO - Backtesting started for stock - Sber\n",
      "2025-02-25 21:55:16,416 - INFO - Train dates: 2024-08-01 07:00:00 - 2024-08-30 20:40:00 | Valid dates: 2024-08-31 04:00:00 - 2024-09-04 20:40:00 | Test dates: 2024-09-05 04:00:00 - 2024-09-09 20:40:00\n"
     ]
    },
    {
     "name": "stdout",
     "output_type": "stream",
     "text": [
      "0:\tlearn: 0.6900678\ttest: 0.6908888\tbest: 0.6908888 (0)\ttotal: 38.3ms\tremaining: 1m 54s\n",
      "500:\tlearn: 0.5043878\ttest: 0.5378641\tbest: 0.5376830 (462)\ttotal: 16.6s\tremaining: 1m 22s\n",
      "1000:\tlearn: 0.4883516\ttest: 0.5418291\tbest: 0.5374284 (548)\ttotal: 32.4s\tremaining: 1m 4s\n",
      "Stopped by overfitting detector  (500 iterations wait)\n",
      "\n",
      "bestTest = 0.5374283589\n",
      "bestIteration = 548\n",
      "\n",
      "Shrink model to first 549 iterations.\n"
     ]
    },
    {
     "name": "stderr",
     "output_type": "stream",
     "text": [
      "2025-02-25 21:55:52,660 - INFO - LONG! - Sber, Date&Time: 2024-09-08 18:40:00, proba: 0.5097920778136797 - I bought for 590.2 and sold for 590.9 + commission 3.7795199999999998 -> budget: 5001.820479999999\n",
      "2025-02-25 21:55:53,427 - INFO - \n",
      "\n",
      "\n",
      "My budget before 5000 and after trading 5001.820479999999\n",
      "Mommy, are you prod of me?\n",
      "2025-02-25 21:55:59,063 - INFO - Backtesting started for stock - Sber\n",
      "2025-02-25 21:55:59,066 - INFO - Train dates: 2024-08-06 07:00:00 - 2024-09-04 20:40:00 | Valid dates: 2024-09-05 04:00:00 - 2024-09-09 20:40:00 | Test dates: 2024-09-10 04:00:00 - 2024-09-14 20:40:00\n"
     ]
    },
    {
     "name": "stdout",
     "output_type": "stream",
     "text": [
      "0:\tlearn: 0.6903852\ttest: 0.6900962\tbest: 0.6900962 (0)\ttotal: 31.1ms\tremaining: 1m 33s\n",
      "500:\tlearn: 0.5082921\ttest: 0.5205364\tbest: 0.5205167 (499)\ttotal: 15s\tremaining: 1m 15s\n",
      "1000:\tlearn: 0.4928659\ttest: 0.5189920\tbest: 0.5189920 (1000)\ttotal: 29.5s\tremaining: 58.9s\n",
      "1500:\tlearn: 0.4777096\ttest: 0.5176492\tbest: 0.5176492 (1500)\ttotal: 43.9s\tremaining: 43.9s\n",
      "2000:\tlearn: 0.4629241\ttest: 0.5168962\tbest: 0.5167417 (1688)\ttotal: 58.2s\tremaining: 29.1s\n",
      "2500:\tlearn: 0.4476568\ttest: 0.5160161\tbest: 0.5158126 (2356)\ttotal: 1m 12s\tremaining: 14.5s\n",
      "2999:\tlearn: 0.4338726\ttest: 0.5161240\tbest: 0.5157792 (2795)\ttotal: 1m 27s\tremaining: 0us\n",
      "\n",
      "bestTest = 0.5157791539\n",
      "bestIteration = 2795\n",
      "\n",
      "Shrink model to first 2796 iterations.\n"
     ]
    },
    {
     "name": "stderr",
     "output_type": "stream",
     "text": [
      "2025-02-25 21:57:26,965 - INFO - LONG! - Sber, Date&Time: 2024-09-10 08:00:00, proba: 0.6652355608811823 - I bought for 599.8 and sold for 601.6 + commission 3.8444800000000003 -> budget: 5012.376\n",
      "2025-02-25 21:57:27,010 - INFO - LONG! - Sber, Date&Time: 2024-09-10 08:50:00, proba: 0.6639669608432774 - I bought for 599.3 and sold for 600.1 + commission 3.8380800000000006 -> budget: 5014.93792\n",
      "2025-02-25 21:57:27,023 - INFO - LONG! - Sber, Date&Time: 2024-09-10 09:00:00, proba: 0.5274188125325248 - I bought for 600.1 and sold for 601.2 + commission 3.844160000000001 -> budget: 5019.893760000001\n",
      "2025-02-25 21:57:27,055 - INFO - LONG! - Sber, Date&Time: 2024-09-10 09:40:00, proba: 0.5361454483698995 - I bought for 599.5 and sold for 601.0 + commission 3.8416 -> budget: 5028.052160000001\n",
      "2025-02-25 21:57:27,507 - INFO - LONG! - Sber, Date&Time: 2024-09-11 05:00:00, proba: 0.5518069373638741 - I bought for 595.2 and sold for 596.3 + commission 3.8128 -> budget: 5033.039360000001\n",
      "2025-02-25 21:57:27,527 - INFO - LONG! - Sber, Date&Time: 2024-09-11 05:40:00, proba: 0.5350145466482643 - I bought for 595.7 and sold for 595.6 + commission 3.812160000000001 -> budget: 5028.4272\n",
      "2025-02-25 21:57:28,390 - INFO - LONG! - Sber, Date&Time: 2024-09-12 05:50:00, proba: 0.5598557195252689 - I bought for 590.1 and sold for 590.9 + commission 3.7792000000000003 -> budget: 5031.048\n",
      "2025-02-25 21:57:28,398 - INFO - LONG! - Sber, Date&Time: 2024-09-12 06:10:00, proba: 0.6555704814370532 - I bought for 590.0 and sold for 592.9 + commission 3.7852800000000006 -> budget: 5050.4627199999995\n",
      "2025-02-25 21:57:29,212 - INFO - LONG! - Sber, Date&Time: 2024-09-13 10:40:00, proba: 0.6060659146840193 - I bought for 592.0 and sold for 593.4 + commission 3.7932800000000007 -> budget: 5057.8694399999995\n",
      "2025-02-25 21:57:29,801 - INFO - LONG! - Sber, Date&Time: 2024-09-14 10:40:00, proba: 0.5220221460949959 - I bought for 607.4 and sold for 609.3 + commission 3.8934399999999996 -> budget: 5069.1759999999995\n",
      "2025-02-25 21:57:30,107 - INFO - LONG! - Sber, Date&Time: 2024-09-14 18:50:00, proba: 0.5095820111835042 - I bought for 607.8 and sold for 608.2 + commission 3.8912 -> budget: 5068.4848\n",
      "2025-02-25 21:57:30,167 - INFO - \n",
      "\n",
      "\n",
      "My budget before 5001.820479999999 and after trading 5068.4848\n",
      "Mommy, are you prod of me?\n",
      "2025-02-25 21:57:36,036 - INFO - Backtesting started for stock - Sber\n",
      "2025-02-25 21:57:36,038 - INFO - Train dates: 2024-08-11 04:10:00 - 2024-09-09 20:40:00 | Valid dates: 2024-09-10 04:00:00 - 2024-09-14 20:40:00 | Test dates: 2024-09-15 04:00:00 - 2024-09-19 20:40:00\n"
     ]
    },
    {
     "name": "stdout",
     "output_type": "stream",
     "text": [
      "0:\tlearn: 0.6903677\ttest: 0.6901870\tbest: 0.6901870 (0)\ttotal: 37.9ms\tremaining: 1m 53s\n",
      "500:\tlearn: 0.5061624\ttest: 0.5144825\tbest: 0.5144825 (500)\ttotal: 17.3s\tremaining: 1m 26s\n",
      "1000:\tlearn: 0.4915934\ttest: 0.5124348\tbest: 0.5123582 (984)\ttotal: 34.9s\tremaining: 1m 9s\n",
      "1500:\tlearn: 0.4764228\ttest: 0.5118209\tbest: 0.5117953 (1414)\ttotal: 52.3s\tremaining: 52.3s\n",
      "2000:\tlearn: 0.4625448\ttest: 0.5110391\tbest: 0.5110168 (1932)\ttotal: 1m 10s\tremaining: 35.4s\n",
      "2500:\tlearn: 0.4486400\ttest: 0.5103546\tbest: 0.5103351 (2457)\ttotal: 1m 31s\tremaining: 18.2s\n"
     ]
    },
    {
     "name": "stderr",
     "output_type": "stream",
     "text": [
      "2025-02-25 21:59:24,032 - INFO - LONG! - Sber, Date&Time: 2024-09-15 04:00:00, proba: 0.5635880927926926 - I bought for 608.0 and sold for 609.0 + commission 3.8944 -> budget: 5072.5904\n"
     ]
    },
    {
     "name": "stdout",
     "output_type": "stream",
     "text": [
      "2999:\tlearn: 0.4354655\ttest: 0.5103615\tbest: 0.5102596 (2821)\ttotal: 1m 48s\tremaining: 0us\n",
      "\n",
      "bestTest = 0.5102596152\n",
      "bestIteration = 2821\n",
      "\n",
      "Shrink model to first 2822 iterations.\n"
     ]
    },
    {
     "name": "stderr",
     "output_type": "stream",
     "text": [
      "2025-02-25 21:59:24,148 - INFO - LONG! - Sber, Date&Time: 2024-09-15 05:30:00, proba: 0.5100333122187013 - I bought for 608.0 and sold for 608.1 + commission 3.89152 -> budget: 5069.49888\n",
      "2025-02-25 21:59:24,253 - INFO - LONG! - Sber, Date&Time: 2024-09-15 06:40:00, proba: 0.5421215526032707 - I bought for 608.4 and sold for 608.3 + commission 3.8934399999999996 -> budget: 5064.80544\n",
      "2025-02-25 21:59:24,268 - INFO - LONG! - Sber, Date&Time: 2024-09-15 06:50:00, proba: 0.5225790255016892 - I bought for 608.3 and sold for 609.1 + commission 3.8956800000000005 -> budget: 5067.309760000001\n",
      "2025-02-25 21:59:24,397 - INFO - LONG! - Sber, Date&Time: 2024-09-15 08:40:00, proba: 0.5294952776597456 - I bought for 608.4 and sold for 608.5 + commission 3.8940800000000007 -> budget: 5064.215680000001\n",
      "2025-02-25 21:59:24,888 - INFO - LONG! - Sber, Date&Time: 2024-09-15 14:20:00, proba: 0.5147752292565514 - I bought for 608.8 and sold for 608.8 + commission 3.89632 -> budget: 5060.319360000001\n",
      "2025-02-25 21:59:24,904 - INFO - LONG! - Sber, Date&Time: 2024-09-15 14:30:00, proba: 0.5141809106471066 - I bought for 608.8 and sold for 609.5 + commission 3.8985600000000002 -> budget: 5062.020800000002\n",
      "2025-02-25 21:59:25,090 - INFO - LONG! - Sber, Date&Time: 2024-09-15 17:20:00, proba: 0.5963192871044952 - I bought for 609.7 and sold for 610.7 + commission 3.9052800000000003 -> budget: 5066.115520000002\n",
      "2025-02-25 21:59:25,136 - INFO - LONG! - Sber, Date&Time: 2024-09-15 17:50:00, proba: 0.5181544114020628 - I bought for 609.5 and sold for 610.9 + commission 3.9052800000000003 -> budget: 5073.410240000002\n",
      "2025-02-25 21:59:25,312 - INFO - LONG! - Sber, Date&Time: 2024-09-15 20:10:00, proba: 0.5506697236072624 - I bought for 610.0 and sold for 610.9 + commission 3.9068800000000006 -> budget: 5076.703360000002\n",
      "2025-02-25 21:59:28,237 - INFO - LONG! - Sber, Date&Time: 2024-09-19 04:30:00, proba: 0.6206104236604665 - I bought for 627.8 and sold for 628.8 + commission 4.02112 -> budget: 5080.682240000002\n",
      "2025-02-25 21:59:28,311 - INFO - LONG! - Sber, Date&Time: 2024-09-19 05:30:00, proba: 0.5484729731425194 - I bought for 628.0 and sold for 628.9 + commission 4.022080000000001 -> budget: 5083.860160000002\n",
      "2025-02-25 21:59:29,242 - INFO - \n",
      "\n",
      "\n",
      "My budget before 5068.4848 and after trading 5083.860160000002\n",
      "Mommy, are you prod of me?\n",
      "2025-02-25 21:59:38,193 - INFO - Backtesting started for stock - Sber\n",
      "2025-02-25 21:59:38,196 - INFO - Train dates: 2024-08-16 04:00:00 - 2024-09-14 20:40:00 | Valid dates: 2024-09-15 04:00:00 - 2024-09-19 20:40:00 | Test dates: 2024-09-20 04:00:00 - 2024-09-24 20:40:00\n"
     ]
    },
    {
     "name": "stdout",
     "output_type": "stream",
     "text": [
      "0:\tlearn: 0.6902436\ttest: 0.6903667\tbest: 0.6903667 (0)\ttotal: 56.8ms\tremaining: 2m 50s\n",
      "500:\tlearn: 0.5036263\ttest: 0.5470929\tbest: 0.5468025 (428)\ttotal: 15.5s\tremaining: 1m 17s\n",
      "1000:\tlearn: 0.4887193\ttest: 0.5465041\tbest: 0.5464915 (985)\ttotal: 31.3s\tremaining: 1m 2s\n",
      "1500:\tlearn: 0.4723083\ttest: 0.5453192\tbest: 0.5451855 (1450)\ttotal: 52.9s\tremaining: 52.9s\n",
      "2000:\tlearn: 0.4568411\ttest: 0.5446597\tbest: 0.5445537 (1798)\ttotal: 1m 8s\tremaining: 34.4s\n",
      "2500:\tlearn: 0.4426087\ttest: 0.5449388\tbest: 0.5443294 (2147)\ttotal: 1m 23s\tremaining: 16.7s\n",
      "Stopped by overfitting detector  (500 iterations wait)\n",
      "\n",
      "bestTest = 0.5443294084\n",
      "bestIteration = 2147\n",
      "\n",
      "Shrink model to first 2148 iterations.\n"
     ]
    },
    {
     "name": "stderr",
     "output_type": "stream",
     "text": [
      "2025-02-25 22:01:06,761 - INFO - LONG! - Sber, Date&Time: 2024-09-21 04:20:00, proba: 0.5126832118162018 - I bought for 631.2 and sold for 631.7 + commission 4.04128 -> budget: 5083.818880000002\n",
      "2025-02-25 22:01:06,903 - INFO - LONG! - Sber, Date&Time: 2024-09-21 07:20:00, proba: 0.54415228599585 - I bought for 630.7 and sold for 633.5 + commission 4.04544 -> budget: 5102.173440000001\n",
      "2025-02-25 22:01:07,245 - INFO - LONG! - Sber, Date&Time: 2024-09-21 14:50:00, proba: 0.5777552471537414 - I bought for 632.4 and sold for 632.9 + commission 4.04896 -> budget: 5102.124480000001\n",
      "2025-02-25 22:01:07,707 - INFO - LONG! - Sber, Date&Time: 2024-09-22 10:10:00, proba: 0.5205375354942468 - I bought for 633.0 and sold for 633.2 + commission 4.05184 -> budget: 5099.672640000002\n",
      "2025-02-25 22:01:07,744 - INFO - LONG! - Sber, Date&Time: 2024-09-22 10:50:00, proba: 0.5024449122964456 - I bought for 633.3 and sold for 634.8 + commission 4.05792 -> budget: 5107.614720000001\n",
      "2025-02-25 22:01:07,913 - INFO - LONG! - Sber, Date&Time: 2024-09-22 14:10:00, proba: 0.5293791016367697 - I bought for 633.9 and sold for 634.9 + commission 4.06016 -> budget: 5111.554560000001\n",
      "2025-02-25 22:01:07,927 - INFO - LONG! - Sber, Date&Time: 2024-09-22 14:30:00, proba: 0.5712347633291832 - I bought for 633.7 and sold for 633.9 + commission 4.0563199999999995 -> budget: 5109.098240000001\n",
      "2025-02-25 22:01:07,982 - INFO - LONG! - Sber, Date&Time: 2024-09-22 15:50:00, proba: 0.5245271308768786 - I bought for 633.8 and sold for 634.9 + commission 4.0598399999999994 -> budget: 5113.8384000000015\n",
      "2025-02-25 22:01:08,014 - INFO - LONG! - Sber, Date&Time: 2024-09-22 16:10:00, proba: 0.5663281652152834 - I bought for 632.0 and sold for 634.7 + commission 4.05344 -> budget: 5131.384960000002\n",
      "2025-02-25 22:01:08,131 - INFO - LONG! - Sber, Date&Time: 2024-09-22 17:10:00, proba: 0.6154825705431595 - I bought for 633.0 and sold for 632.7 + commission 4.0502400000000005 -> budget: 5124.934720000003\n",
      "2025-02-25 22:01:08,135 - INFO - LONG! - Sber, Date&Time: 2024-09-22 17:20:00, proba: 0.5525847791533931 - I bought for 632.7 and sold for 633.8 + commission 4.0528 -> budget: 5129.681920000002\n",
      "2025-02-25 22:01:09,475 - INFO - \n",
      "\n",
      "\n",
      "My budget before 5083.860160000002 and after trading 5129.681920000002\n",
      "Mommy, are you prod of me?\n",
      "2025-02-25 22:01:15,024 - INFO - Backtesting started for stock - Sber\n",
      "2025-02-25 22:01:15,024 - INFO - Train dates: 2024-08-21 04:00:00 - 2024-09-19 20:40:00 | Valid dates: 2024-09-20 04:00:00 - 2024-09-24 20:40:00 | Test dates: 2024-09-25 04:00:00 - 2024-09-29 20:40:00\n"
     ]
    },
    {
     "name": "stdout",
     "output_type": "stream",
     "text": [
      "0:\tlearn: 0.6903734\ttest: 0.6903186\tbest: 0.6903186 (0)\ttotal: 33.6ms\tremaining: 1m 40s\n",
      "500:\tlearn: 0.5119369\ttest: 0.5305004\tbest: 0.5304877 (496)\ttotal: 14.1s\tremaining: 1m 10s\n",
      "1000:\tlearn: 0.4960378\ttest: 0.5297866\tbest: 0.5297552 (992)\ttotal: 28.6s\tremaining: 57.1s\n",
      "1500:\tlearn: 0.4810571\ttest: 0.5289960\tbest: 0.5289332 (1471)\ttotal: 43.3s\tremaining: 43.2s\n",
      "2000:\tlearn: 0.4665726\ttest: 0.5288793\tbest: 0.5287060 (1924)\ttotal: 57.7s\tremaining: 28.8s\n",
      "2500:\tlearn: 0.4528683\ttest: 0.5288321\tbest: 0.5285545 (2304)\ttotal: 1m 11s\tremaining: 14.3s\n"
     ]
    },
    {
     "name": "stderr",
     "output_type": "stream",
     "text": [
      "2025-02-25 22:02:35,308 - INFO - LONG! - Sber, Date&Time: 2024-09-25 04:50:00, proba: 0.519544879132702 - I bought for 643.8 and sold for 645.0 + commission 3.60864 -> budget: 5134.473280000002\n"
     ]
    },
    {
     "name": "stdout",
     "output_type": "stream",
     "text": [
      "Stopped by overfitting detector  (500 iterations wait)\n",
      "\n",
      "bestTest = 0.5285544776\n",
      "bestIteration = 2304\n",
      "\n",
      "Shrink model to first 2305 iterations.\n"
     ]
    },
    {
     "name": "stderr",
     "output_type": "stream",
     "text": [
      "2025-02-25 22:02:35,913 - INFO - LONG! - Sber, Date&Time: 2024-09-25 20:40:00, proba: 0.5383406335890574 - I bought for 640.0 and sold for 640.8 + commission 4.09856 -> budget: 5136.774720000001\n",
      "2025-02-25 22:02:35,977 - INFO - LONG! - Sber, Date&Time: 2024-09-26 05:30:00, proba: 0.5055932974222667 - I bought for 640.0 and sold for 640.5 + commission 4.0976 -> budget: 5136.677120000001\n",
      "2025-02-25 22:02:36,541 - INFO - LONG! - Sber, Date&Time: 2024-09-26 19:30:00, proba: 0.5147088640198906 - I bought for 639.2 and sold for 639.2 + commission 4.09088 -> budget: 5132.586240000001\n",
      "2025-02-25 22:02:36,798 - INFO - LONG! - Sber, Date&Time: 2024-09-27 06:30:00, proba: 0.575116976674147 - I bought for 640.5 and sold for 640.2 + commission 4.0982400000000005 -> budget: 5126.088000000002\n",
      "2025-02-25 22:02:36,845 - INFO - LONG! - Sber, Date&Time: 2024-09-27 07:30:00, proba: 0.505256065624076 - I bought for 641.7 and sold for 642.7 + commission 3.596320000000001 -> budget: 5129.491680000002\n",
      "2025-02-25 22:02:37,307 - INFO - LONG! - Sber, Date&Time: 2024-09-27 19:40:00, proba: 0.5415646714782035 - I bought for 642.8 and sold for 643.3 + commission 3.60108 -> budget: 5129.3906000000015\n",
      "2025-02-25 22:02:37,624 - INFO - LONG! - Sber, Date&Time: 2024-09-28 10:20:00, proba: 0.510986807399872 - I bought for 645.2 and sold for 646.3 + commission 3.6162000000000005 -> budget: 5133.474400000001\n",
      "2025-02-25 22:02:37,841 - INFO - LONG! - Sber, Date&Time: 2024-09-28 15:40:00, proba: 0.5256800926994288 - I bought for 645.0 and sold for 646.7 + commission 3.61676 -> budget: 5141.757640000002\n",
      "2025-02-25 22:02:37,849 - INFO - LONG! - Sber, Date&Time: 2024-09-28 16:00:00, proba: 0.5041390756784702 - I bought for 644.7 and sold for 646.4 + commission 3.61508 -> budget: 5150.042560000001\n",
      "2025-02-25 22:02:38,067 - INFO - LONG! - Sber, Date&Time: 2024-09-29 04:00:00, proba: 0.554907318173958 - I bought for 645.0 and sold for 646.7 + commission 3.61676 -> budget: 5158.325800000001\n",
      "2025-02-25 22:02:38,115 - INFO - LONG! - Sber, Date&Time: 2024-09-29 04:50:00, proba: 0.5739090922849502 - I bought for 645.1 and sold for 646.3 + commission 3.61592 -> budget: 5163.109880000001\n",
      "2025-02-25 22:02:38,137 - INFO - LONG! - Sber, Date&Time: 2024-09-29 05:10:00, proba: 0.6299992521716388 - I bought for 645.4 and sold for 645.5 + commission 3.61452 -> budget: 5160.195360000001\n",
      "2025-02-25 22:02:38,143 - INFO - LONG! - Sber, Date&Time: 2024-09-29 05:20:00, proba: 0.5665969442149226 - I bought for 645.5 and sold for 647.2 + commission 3.6195600000000008 -> budget: 5168.475800000001\n",
      "2025-02-25 22:02:38,160 - INFO - LONG! - Sber, Date&Time: 2024-09-29 05:40:00, proba: 0.5072028512876802 - I bought for 645.7 and sold for 646.0 + commission 4.13344 -> budget: 5166.742360000001\n",
      "2025-02-25 22:02:38,210 - INFO - LONG! - Sber, Date&Time: 2024-09-29 06:20:00, proba: 0.5260980703220578 - I bought for 646.1 and sold for 646.8 + commission 3.6201200000000004 -> budget: 5168.02224\n",
      "2025-02-25 22:02:38,281 - INFO - LONG! - Sber, Date&Time: 2024-09-29 07:10:00, proba: 0.5053001697211005 - I bought for 646.1 and sold for 645.8 + commission 3.6173200000000008 -> budget: 5162.30492\n",
      "2025-02-25 22:02:38,296 - INFO - LONG! - Sber, Date&Time: 2024-09-29 07:20:00, proba: 0.6618637555112513 - I bought for 645.8 and sold for 645.9 + commission 3.6167599999999993 -> budget: 5159.3881599999995\n",
      "2025-02-25 22:02:38,311 - INFO - LONG! - Sber, Date&Time: 2024-09-29 07:30:00, proba: 0.5448033900842314 - I bought for 645.9 and sold for 646.8 + commission 3.61956 -> budget: 5162.0686\n",
      "2025-02-25 22:02:38,381 - INFO - LONG! - Sber, Date&Time: 2024-09-29 08:40:00, proba: 0.5320067651967172 - I bought for 646.3 and sold for 646.2 + commission 3.619 -> budget: 5157.7496\n",
      "2025-02-25 22:02:38,441 - INFO - LONG! - Sber, Date&Time: 2024-09-29 09:30:00, proba: 0.5214428444317988 - I bought for 646.3 and sold for 647.0 + commission 3.6212400000000002 -> budget: 5159.02836\n",
      "2025-02-25 22:02:38,613 - INFO - LONG! - Sber, Date&Time: 2024-09-29 12:30:00, proba: 0.5706863099937615 - I bought for 645.3 and sold for 646.6 + commission 3.6173200000000008 -> budget: 5164.51104\n",
      "2025-02-25 22:02:38,631 - INFO - LONG! - Sber, Date&Time: 2024-09-29 12:50:00, proba: 0.5226536854938588 - I bought for 645.9 and sold for 647.1 + commission 3.6204 -> budget: 5169.290640000001\n",
      "2025-02-25 22:02:38,743 - INFO - LONG! - Sber, Date&Time: 2024-09-29 14:50:00, proba: 0.5509006655949755 - I bought for 646.1 and sold for 646.1 + commission 4.13504 -> budget: 5165.155600000001\n",
      "2025-02-25 22:02:38,779 - INFO - LONG! - Sber, Date&Time: 2024-09-29 15:30:00, proba: 0.5360776117529488 - I bought for 645.4 and sold for 645.6 + commission 4.1312 -> budget: 5162.6244000000015\n",
      "2025-02-25 22:02:38,790 - INFO - LONG! - Sber, Date&Time: 2024-09-29 15:40:00, proba: 0.5451414252210965 - I bought for 645.6 and sold for 645.6 + commission 3.6153600000000004 -> budget: 5159.009040000002\n",
      "2025-02-25 22:02:38,822 - INFO - LONG! - Sber, Date&Time: 2024-09-29 16:20:00, proba: 0.5557523171142951 - I bought for 645.3 and sold for 646.7 + commission 3.6176000000000004 -> budget: 5165.191440000002\n",
      "2025-02-25 22:02:38,928 - INFO - LONG! - Sber, Date&Time: 2024-09-29 18:00:00, proba: 0.6065931104657152 - I bought for 645.1 and sold for 645.2 + commission 4.128960000000001 -> budget: 5161.8624800000025\n",
      "2025-02-25 22:02:38,934 - INFO - LONG! - Sber, Date&Time: 2024-09-29 18:10:00, proba: 0.5269999453977606 - I bought for 645.2 and sold for 646.1 + commission 4.132160000000001 -> budget: 5164.930320000002\n",
      "2025-02-25 22:02:38,961 - INFO - LONG! - Sber, Date&Time: 2024-09-29 18:40:00, proba: 0.5520075021623991 - I bought for 644.6 and sold for 644.7 + commission 4.1257600000000005 -> budget: 5161.6045600000025\n",
      "2025-02-25 22:02:39,084 - INFO - \n",
      "\n",
      "\n",
      "My budget before 5129.681920000002 and after trading 5161.6045600000025\n",
      "Mommy, are you prod of me?\n",
      "2025-02-25 22:02:44,495 - INFO - Backtesting started for stock - Sber\n",
      "2025-02-25 22:02:44,498 - INFO - Train dates: 2024-08-26 04:00:00 - 2024-09-24 20:40:00 | Valid dates: 2024-09-25 04:00:00 - 2024-09-29 20:40:00 | Test dates: 2024-09-30 04:00:00 - 2024-10-04 20:40:00\n"
     ]
    },
    {
     "name": "stdout",
     "output_type": "stream",
     "text": [
      "0:\tlearn: 0.6902701\ttest: 0.6902926\tbest: 0.6902926 (0)\ttotal: 26.7ms\tremaining: 1m 20s\n",
      "500:\tlearn: 0.5078875\ttest: 0.5282929\tbest: 0.5282616 (497)\ttotal: 14s\tremaining: 1m 9s\n",
      "1000:\tlearn: 0.4911978\ttest: 0.5263537\tbest: 0.5263204 (983)\ttotal: 27.8s\tremaining: 55.6s\n",
      "1500:\tlearn: 0.4737955\ttest: 0.5253589\tbest: 0.5251451 (1425)\ttotal: 42.1s\tremaining: 42.1s\n",
      "2000:\tlearn: 0.4579265\ttest: 0.5244685\tbest: 0.5244183 (1999)\ttotal: 55.8s\tremaining: 27.9s\n",
      "2500:\tlearn: 0.4439316\ttest: 0.5247375\tbest: 0.5243427 (2276)\ttotal: 1m 9s\tremaining: 13.9s\n"
     ]
    },
    {
     "name": "stderr",
     "output_type": "stream",
     "text": [
      "2025-02-25 22:04:01,685 - INFO - LONG! - Sber, Date&Time: 2024-09-30 04:00:00, proba: 0.5917124983124203 - I bought for 645.5 and sold for 648.2 + commission 3.6223600000000005 -> budget: 5176.882200000003\n"
     ]
    },
    {
     "name": "stdout",
     "output_type": "stream",
     "text": [
      "Stopped by overfitting detector  (500 iterations wait)\n",
      "\n",
      "bestTest = 0.5243427334\n",
      "bestIteration = 2276\n",
      "\n",
      "Shrink model to first 2277 iterations.\n"
     ]
    },
    {
     "name": "stderr",
     "output_type": "stream",
     "text": [
      "2025-02-25 22:04:02,218 - INFO - LONG! - Sber, Date&Time: 2024-09-30 17:20:00, proba: 0.5366475250267736 - I bought for 642.0 and sold for 642.3 + commission 4.10976 -> budget: 5175.172440000002\n",
      "2025-02-25 22:04:02,376 - INFO - LONG! - Sber, Date&Time: 2024-10-01 04:00:00, proba: 0.6035606818329239 - I bought for 640.8 and sold for 641.7 + commission 4.104 -> budget: 5178.268440000003\n",
      "2025-02-25 22:04:02,442 - INFO - LONG! - Sber, Date&Time: 2024-10-01 05:30:00, proba: 0.5321173332535547 - I bought for 641.1 and sold for 641.6 + commission 4.104640000000001 -> budget: 5178.163800000003\n",
      "2025-02-25 22:04:03,553 - INFO - LONG! - Sber, Date&Time: 2024-10-02 15:40:00, proba: 0.5521879871423232 - I bought for 644.0 and sold for 642.5 + commission 4.1168000000000005 -> budget: 5162.047000000003\n",
      "2025-02-25 22:04:03,560 - INFO - LONG! - Sber, Date&Time: 2024-10-02 16:00:00, proba: 0.5927046244031068 - I bought for 642.5 and sold for 643.3 + commission 4.11456 -> budget: 5164.332440000003\n",
      "2025-02-25 22:04:03,560 - INFO - LONG! - Sber, Date&Time: 2024-10-02 16:10:00, proba: 0.5361765399548464 - I bought for 643.3 and sold for 643.7 + commission 4.1184 -> budget: 5163.414040000003\n",
      "2025-02-25 22:04:03,852 - INFO - LONG! - Sber, Date&Time: 2024-10-03 06:20:00, proba: 0.5230724498358822 - I bought for 651.0 and sold for 650.3 + commission 3.64364 -> budget: 5154.870400000003\n",
      "2025-02-25 22:04:05,051 - INFO - \n",
      "\n",
      "\n",
      "My budget before 5161.6045600000025 and after trading 5154.870400000003\n",
      "Mommy, are you prod of me?\n",
      "2025-02-25 22:04:10,369 - INFO - Backtesting started for stock - Sber\n",
      "2025-02-25 22:04:10,369 - INFO - Train dates: 2024-08-31 04:00:00 - 2024-09-29 20:40:00 | Valid dates: 2024-09-30 04:00:00 - 2024-10-04 20:40:00 | Test dates: 2024-10-05 04:00:00 - 2024-10-09 20:40:00\n"
     ]
    },
    {
     "name": "stdout",
     "output_type": "stream",
     "text": [
      "0:\tlearn: 0.6902194\ttest: 0.6907290\tbest: 0.6907290 (0)\ttotal: 38.1ms\tremaining: 1m 54s\n",
      "500:\tlearn: 0.5027931\ttest: 0.5654707\tbest: 0.5654063 (493)\ttotal: 14.8s\tremaining: 1m 13s\n",
      "Stopped by overfitting detector  (500 iterations wait)\n",
      "\n",
      "bestTest = 0.5654063292\n",
      "bestIteration = 493\n",
      "\n",
      "Shrink model to first 494 iterations.\n"
     ]
    },
    {
     "name": "stderr",
     "output_type": "stream",
     "text": [
      "2025-02-25 22:04:40,150 - INFO - LONG! - Sber, Date&Time: 2024-10-06 12:50:00, proba: 0.5373115700842488 - I bought for 659.1 and sold for 659.8 + commission 3.69292 -> budget: 5156.077480000003\n",
      "2025-02-25 22:04:40,437 - INFO - LONG! - Sber, Date&Time: 2024-10-06 20:40:00, proba: 0.5366828628049701 - I bought for 660.1 and sold for 660.9 + commission 3.6988 -> budget: 5157.978680000002\n",
      "2025-02-25 22:04:40,452 - INFO - LONG! - Sber, Date&Time: 2024-10-07 04:10:00, proba: 0.5190238486476887 - I bought for 660.3 and sold for 662.1 + commission 3.7027200000000007 -> budget: 5166.875960000002\n",
      "2025-02-25 22:04:41,684 - INFO - LONG! - Sber, Date&Time: 2024-10-09 05:00:00, proba: 0.5385294500534996 - I bought for 622.5 and sold for 623.0 + commission 3.9856000000000003 -> budget: 5166.890360000002\n",
      "2025-02-25 22:04:42,201 - INFO - \n",
      "\n",
      "\n",
      "My budget before 5154.870400000003 and after trading 5166.890360000002\n",
      "Mommy, are you prod of me?\n",
      "2025-02-25 22:04:48,071 - INFO - Backtesting started for stock - Sber\n",
      "2025-02-25 22:04:48,071 - INFO - Train dates: 2024-09-05 04:00:00 - 2024-10-04 20:40:00 | Valid dates: 2024-10-05 04:00:00 - 2024-10-09 20:40:00 | Test dates: 2024-10-10 04:00:00 - 2024-10-14 20:40:00\n"
     ]
    },
    {
     "name": "stdout",
     "output_type": "stream",
     "text": [
      "0:\tlearn: 0.6900635\ttest: 0.6905689\tbest: 0.6905689 (0)\ttotal: 34.7ms\tremaining: 1m 44s\n",
      "500:\tlearn: 0.5105654\ttest: 0.4877558\tbest: 0.4877428 (497)\ttotal: 14.4s\tremaining: 1m 11s\n",
      "1000:\tlearn: 0.4911631\ttest: 0.4890662\tbest: 0.4868224 (596)\ttotal: 28.2s\tremaining: 56.3s\n",
      "Stopped by overfitting detector  (500 iterations wait)\n",
      "\n",
      "bestTest = 0.4868223831\n",
      "bestIteration = 596\n",
      "\n",
      "Shrink model to first 597 iterations.\n"
     ]
    },
    {
     "name": "stderr",
     "output_type": "stream",
     "text": [
      "2025-02-25 22:05:19,634 - INFO - LONG! - Sber, Date&Time: 2024-10-11 04:00:00, proba: 0.5445338308441755 - I bought for 618.1 and sold for 620.4 + commission 3.9632 -> budget: 5181.327160000002\n",
      "2025-02-25 22:05:20,407 - INFO - LONG! - Sber, Date&Time: 2024-10-12 07:20:00, proba: 0.5299952536533469 - I bought for 614.4 and sold for 614.7 + commission 3.9331199999999997 -> budget: 5179.7940400000025\n",
      "2025-02-25 22:05:20,580 - INFO - LONG! - Sber, Date&Time: 2024-10-12 11:10:00, proba: 0.5404891823421242 - I bought for 613.9 and sold for 613.8 + commission 3.9286399999999997 -> budget: 5175.065400000002\n",
      "2025-02-25 22:05:20,670 - INFO - LONG! - Sber, Date&Time: 2024-10-12 13:10:00, proba: 0.5170164736183462 - I bought for 613.2 and sold for 613.2 + commission 3.9244800000000004 -> budget: 5171.140920000003\n",
      "2025-02-25 22:05:21,609 - INFO - LONG! - Sber, Date&Time: 2024-10-14 05:50:00, proba: 0.5094056735683982 - I bought for 612.1 and sold for 613.5 + commission 3.92192 -> budget: 5178.419000000003\n",
      "2025-02-25 22:05:22,117 - INFO - \n",
      "\n",
      "\n",
      "My budget before 5166.890360000002 and after trading 5178.419000000003\n",
      "Mommy, are you prod of me?\n",
      "2025-02-25 22:05:27,417 - INFO - Backtesting started for stock - Sber\n",
      "2025-02-25 22:05:27,417 - INFO - Train dates: 2024-09-10 04:00:00 - 2024-10-09 20:40:00 | Valid dates: 2024-10-10 04:00:00 - 2024-10-14 20:40:00 | Test dates: 2024-10-15 04:00:00 - 2024-10-19 20:40:00\n"
     ]
    },
    {
     "name": "stdout",
     "output_type": "stream",
     "text": [
      "0:\tlearn: 0.6899554\ttest: 0.6895588\tbest: 0.6895588 (0)\ttotal: 44.2ms\tremaining: 2m 12s\n",
      "500:\tlearn: 0.5065434\ttest: 0.4727220\tbest: 0.4726855 (499)\ttotal: 14.4s\tremaining: 1m 12s\n",
      "1000:\tlearn: 0.4860939\ttest: 0.4680886\tbest: 0.4680317 (992)\ttotal: 28.1s\tremaining: 56.1s\n",
      "1500:\tlearn: 0.4672159\ttest: 0.4657041\tbest: 0.4656273 (1492)\ttotal: 41.7s\tremaining: 41.6s\n",
      "2000:\tlearn: 0.4498414\ttest: 0.4654092\tbest: 0.4652380 (1982)\ttotal: 55.2s\tremaining: 27.6s\n",
      "2500:\tlearn: 0.4355336\ttest: 0.4652749\tbest: 0.4651364 (2493)\ttotal: 1m 8s\tremaining: 13.7s\n"
     ]
    },
    {
     "name": "stderr",
     "output_type": "stream",
     "text": [
      "2025-02-25 22:06:49,891 - INFO - LONG! - Sber, Date&Time: 2024-10-15 04:00:00, proba: 0.747758840146322 - I bought for 610.2 and sold for 610.9 + commission 3.90752 -> budget: 5180.111480000002\n"
     ]
    },
    {
     "name": "stdout",
     "output_type": "stream",
     "text": [
      "2999:\tlearn: 0.4218371\ttest: 0.4645001\tbest: 0.4644968 (2995)\ttotal: 1m 22s\tremaining: 0us\n",
      "\n",
      "bestTest = 0.4644967821\n",
      "bestIteration = 2995\n",
      "\n",
      "Shrink model to first 2996 iterations.\n"
     ]
    },
    {
     "name": "stderr",
     "output_type": "stream",
     "text": [
      "2025-02-25 22:06:50,562 - INFO - LONG! - Sber, Date&Time: 2024-10-16 04:20:00, proba: 0.5048101833041173 - I bought for 608.7 and sold for 608.6 + commission 3.8953600000000006 -> budget: 5175.416120000002\n",
      "2025-02-25 22:06:51,893 - INFO - LONG! - Sber, Date&Time: 2024-10-18 06:10:00, proba: 0.5499899111252649 - I bought for 593.6 and sold for 593.9 + commission 3.8000000000000003 -> budget: 5174.016120000001\n",
      "2025-02-25 22:06:52,404 - INFO - LONG! - Sber, Date&Time: 2024-10-19 04:10:00, proba: 0.5412731420514576 - I bought for 595.3 and sold for 597.0 + commission 3.81536 -> budget: 5183.800760000002\n",
      "2025-02-25 22:06:52,453 - INFO - LONG! - Sber, Date&Time: 2024-10-19 05:10:00, proba: 0.593706891070697 - I bought for 593.7 and sold for 598.4 + commission 3.81472 -> budget: 5217.586040000001\n",
      "2025-02-25 22:06:52,723 - INFO - LONG! - Sber, Date&Time: 2024-10-19 11:20:00, proba: 0.5326108515947342 - I bought for 596.5 and sold for 597.1 + commission 3.81952 -> budget: 5218.566520000001\n",
      "2025-02-25 22:06:52,800 - INFO - LONG! - Sber, Date&Time: 2024-10-19 12:50:00, proba: 0.5578412240693325 - I bought for 595.9 and sold for 595.9 + commission 3.81376 -> budget: 5214.752760000001\n",
      "2025-02-25 22:06:52,823 - INFO - LONG! - Sber, Date&Time: 2024-10-19 13:10:00, proba: 0.5208933610716167 - I bought for 595.4 and sold for 595.9 + commission 3.81216 -> budget: 5214.940600000001\n",
      "2025-02-25 22:06:52,932 - INFO - LONG! - Sber, Date&Time: 2024-10-19 15:50:00, proba: 0.5406223080055882 - I bought for 595.6 and sold for 594.8 + commission 3.8092800000000007 -> budget: 5204.73132\n",
      "2025-02-25 22:06:52,948 - INFO - LONG! - Sber, Date&Time: 2024-10-19 16:00:00, proba: 0.6113399385993313 - I bought for 594.8 and sold for 595.9 + commission 3.8102399999999994 -> budget: 5209.72108\n",
      "2025-02-25 22:06:53,053 - INFO - LONG! - Sber, Date&Time: 2024-10-19 17:30:00, proba: 0.5538973668009393 - I bought for 595.4 and sold for 596.3 + commission 3.8134399999999995 -> budget: 5213.10764\n",
      "2025-02-25 22:06:53,207 - INFO - \n",
      "\n",
      "\n",
      "My budget before 5178.419000000003 and after trading 5213.10764\n",
      "Mommy, are you prod of me?\n",
      "2025-02-25 22:06:58,424 - INFO - Backtesting started for stock - Sber\n",
      "2025-02-25 22:06:58,440 - INFO - Train dates: 2024-09-15 04:00:00 - 2024-10-14 20:40:00 | Valid dates: 2024-10-15 04:00:00 - 2024-10-19 20:40:00 | Test dates: 2024-10-20 04:00:00 - 2024-10-24 20:40:00\n"
     ]
    },
    {
     "name": "stdout",
     "output_type": "stream",
     "text": [
      "0:\tlearn: 0.6900617\ttest: 0.6901715\tbest: 0.6901715 (0)\ttotal: 25.8ms\tremaining: 1m 17s\n",
      "500:\tlearn: 0.4972789\ttest: 0.5180705\tbest: 0.5180337 (488)\ttotal: 13.8s\tremaining: 1m 8s\n",
      "1000:\tlearn: 0.4744110\ttest: 0.5175647\tbest: 0.5171435 (776)\ttotal: 27.9s\tremaining: 55.7s\n",
      "Stopped by overfitting detector  (500 iterations wait)\n",
      "\n",
      "bestTest = 0.5171434588\n",
      "bestIteration = 776\n",
      "\n",
      "Shrink model to first 777 iterations.\n"
     ]
    },
    {
     "name": "stderr",
     "output_type": "stream",
     "text": [
      "2025-02-25 22:07:34,892 - INFO - LONG! - Sber, Date&Time: 2024-10-20 10:40:00, proba: 0.5123667716594343 - I bought for 595.4 and sold for 595.7 + commission 3.81152 -> budget: 5211.6961200000005\n",
      "2025-02-25 22:07:34,953 - INFO - LONG! - Sber, Date&Time: 2024-10-20 12:10:00, proba: 0.5075979339249678 - I bought for 595.8 and sold for 595.7 + commission 3.8128 -> budget: 5207.083320000002\n",
      "2025-02-25 22:07:35,217 - INFO - LONG! - Sber, Date&Time: 2024-10-20 18:00:00, proba: 0.5095281960444047 - I bought for 596.0 and sold for 596.7 + commission 3.8166400000000005 -> budget: 5208.866680000002\n",
      "2025-02-25 22:07:35,373 - INFO - LONG! - Sber, Date&Time: 2024-10-20 20:20:00, proba: 0.505222656455939 - I bought for 595.0 and sold for 597.0 + commission 3.8144 -> budget: 5221.052280000002\n",
      "2025-02-25 22:07:35,457 - INFO - LONG! - Sber, Date&Time: 2024-10-21 05:00:00, proba: 0.5769115720995703 - I bought for 596.4 and sold for 597.3 + commission 3.8198399999999997 -> budget: 5224.432440000001\n",
      "2025-02-25 22:07:35,479 - INFO - LONG! - Sber, Date&Time: 2024-10-21 05:20:00, proba: 0.5328271860589902 - I bought for 595.9 and sold for 596.1 + commission 3.8144 -> budget: 5222.218040000002\n",
      "2025-02-25 22:07:35,541 - INFO - LONG! - Sber, Date&Time: 2024-10-21 06:20:00, proba: 0.5598511096899074 - I bought for 596.4 and sold for 597.9 + commission 3.82176 -> budget: 5230.396280000002\n",
      "2025-02-25 22:07:36,283 - INFO - LONG! - Sber, Date&Time: 2024-10-22 04:00:00, proba: 0.5390592628739241 - I bought for 593.6 and sold for 594.0 + commission 3.8003199999999997 -> budget: 5229.795960000001\n",
      "2025-02-25 22:07:38,116 - INFO - \n",
      "\n",
      "\n",
      "My budget before 5213.10764 and after trading 5229.795960000001\n",
      "Mommy, are you prod of me?\n",
      "2025-02-25 22:07:43,539 - INFO - Backtesting started for stock - Sber\n",
      "2025-02-25 22:07:43,541 - INFO - Train dates: 2024-09-20 04:00:00 - 2024-10-19 20:40:00 | Valid dates: 2024-10-20 04:00:00 - 2024-10-24 20:40:00 | Test dates: 2024-10-25 04:00:00 - 2024-10-29 20:40:00\n"
     ]
    },
    {
     "name": "stdout",
     "output_type": "stream",
     "text": [
      "0:\tlearn: 0.6897751\ttest: 0.6896904\tbest: 0.6896904 (0)\ttotal: 38.6ms\tremaining: 1m 55s\n",
      "500:\tlearn: 0.4935382\ttest: 0.5249748\tbest: 0.5249302 (494)\ttotal: 14.5s\tremaining: 1m 12s\n",
      "1000:\tlearn: 0.4733779\ttest: 0.5237067\tbest: 0.5237067 (1000)\ttotal: 26.8s\tremaining: 53.6s\n",
      "1500:\tlearn: 0.4552841\ttest: 0.5225899\tbest: 0.5225899 (1500)\ttotal: 38.7s\tremaining: 38.6s\n",
      "2000:\tlearn: 0.4386964\ttest: 0.5225270\tbest: 0.5223815 (1919)\ttotal: 50.5s\tremaining: 25.2s\n",
      "2500:\tlearn: 0.4254895\ttest: 0.5224671\tbest: 0.5223465 (2143)\ttotal: 1m 2s\tremaining: 12.4s\n",
      "2999:\tlearn: 0.4117137\ttest: 0.5226840\tbest: 0.5223200 (2549)\ttotal: 1m 14s\tremaining: 0us\n",
      "\n",
      "bestTest = 0.5223199776\n",
      "bestIteration = 2549\n",
      "\n",
      "Shrink model to first 2550 iterations.\n"
     ]
    },
    {
     "name": "stderr",
     "output_type": "stream",
     "text": [
      "2025-02-25 22:08:59,418 - INFO - LONG! - Sber, Date&Time: 2024-10-26 17:10:00, proba: 0.5467731270479661 - I bought for 570.2 and sold for 571.5 + commission 4.11012 -> budget: 5237.385840000001\n",
      "2025-02-25 22:08:59,716 - INFO - LONG! - Sber, Date&Time: 2024-10-27 07:30:00, proba: 0.5256323078464669 - I bought for 569.9 and sold for 570.0 + commission 4.10364 -> budget: 5234.182200000001\n",
      "2025-02-25 22:09:00,117 - INFO - LONG! - Sber, Date&Time: 2024-10-27 17:30:00, proba: 0.5124303734660811 - I bought for 568.0 and sold for 567.4 + commission 4.087440000000001 -> budget: 5224.694760000001\n",
      "2025-02-25 22:09:00,240 - INFO - LONG! - Sber, Date&Time: 2024-10-27 20:00:00, proba: 0.6071336851705762 - I bought for 568.2 and sold for 568.1 + commission 4.090680000000001 -> budget: 5219.704080000001\n",
      "2025-02-25 22:09:00,258 - INFO - LONG! - Sber, Date&Time: 2024-10-27 20:40:00, proba: 0.5143720030082978 - I bought for 568.1 and sold for 567.0 + commission 4.08636 -> budget: 5205.7177200000015\n",
      "2025-02-25 22:09:00,360 - INFO - LONG! - Sber, Date&Time: 2024-10-28 05:30:00, proba: 0.541806191134134 - I bought for 568.0 and sold for 566.7 + commission 4.08492 -> budget: 5189.932800000002\n",
      "2025-02-25 22:09:01,075 - INFO - LONG! - Sber, Date&Time: 2024-10-29 09:30:00, proba: 0.5324176867235834 - I bought for 546.0 and sold for 546.8 + commission 3.9340800000000002 -> budget: 5193.198720000002\n",
      "2025-02-25 22:09:01,539 - INFO - \n",
      "\n",
      "\n",
      "My budget before 5229.795960000001 and after trading 5193.198720000002\n",
      "Mommy, are you prod of me?\n",
      "2025-02-25 22:09:06,319 - INFO - Backtesting started for stock - Sber\n",
      "2025-02-25 22:09:06,319 - INFO - Train dates: 2024-09-25 04:00:00 - 2024-10-24 20:40:00 | Valid dates: 2024-10-25 04:00:00 - 2024-10-29 20:40:00 | Test dates: 2024-10-30 04:00:00 - 2024-11-03 20:40:00\n"
     ]
    },
    {
     "name": "stdout",
     "output_type": "stream",
     "text": [
      "0:\tlearn: 0.6899439\ttest: 0.6900001\tbest: 0.6900001 (0)\ttotal: 33.8ms\tremaining: 1m 41s\n",
      "500:\tlearn: 0.4901510\ttest: 0.4946545\tbest: 0.4946472 (499)\ttotal: 12.6s\tremaining: 1m 2s\n",
      "1000:\tlearn: 0.4710042\ttest: 0.4941671\tbest: 0.4935991 (673)\ttotal: 25s\tremaining: 49.9s\n",
      "Stopped by overfitting detector  (500 iterations wait)\n",
      "\n",
      "bestTest = 0.4935990931\n",
      "bestIteration = 673\n",
      "\n",
      "Shrink model to first 674 iterations.\n"
     ]
    },
    {
     "name": "stderr",
     "output_type": "stream",
     "text": [
      "2025-02-25 22:09:38,389 - INFO - \n",
      "\n",
      "\n",
      "My budget before 5193.198720000002 and after trading 5193.198720000002\n",
      "Mommy, are you prod of me?\n",
      "2025-02-25 22:09:43,836 - INFO - Backtesting started for stock - Sber\n",
      "2025-02-25 22:09:43,839 - INFO - Train dates: 2024-09-30 04:00:00 - 2024-10-29 20:40:00 | Valid dates: 2024-10-30 04:00:00 - 2024-11-03 20:40:00 | Test dates: 2024-11-04 04:00:00 - 2024-11-08 20:40:00\n"
     ]
    },
    {
     "name": "stdout",
     "output_type": "stream",
     "text": [
      "0:\tlearn: 0.6898692\ttest: 0.6902918\tbest: 0.6902918 (0)\ttotal: 19.6ms\tremaining: 58.6s\n",
      "500:\tlearn: 0.4852438\ttest: 0.5526612\tbest: 0.5525165 (378)\ttotal: 12.1s\tremaining: 1m\n",
      "1000:\tlearn: 0.4685686\ttest: 0.5523918\tbest: 0.5522960 (936)\ttotal: 24.8s\tremaining: 49.6s\n",
      "1500:\tlearn: 0.4529045\ttest: 0.5520109\tbest: 0.5519355 (1461)\ttotal: 40.9s\tremaining: 40.9s\n"
     ]
    },
    {
     "name": "stderr",
     "output_type": "stream",
     "text": [
      "2025-02-25 22:10:40,591 - INFO - LONG! - Sber, Date&Time: 2024-11-04 04:00:00, proba: 0.5384567699326772 - I bought for 551.1 and sold for 555.8 + commission 3.98484 -> budget: 5231.513880000001\n",
      "2025-02-25 22:10:40,614 - INFO - LONG! - Sber, Date&Time: 2024-11-04 04:40:00, proba: 0.5495352598655218 - I bought for 553.1 and sold for 555.0 + commission 3.9891599999999996 -> budget: 5244.624720000001\n"
     ]
    },
    {
     "name": "stdout",
     "output_type": "stream",
     "text": [
      "Stopped by overfitting detector  (500 iterations wait)\n",
      "\n",
      "bestTest = 0.5519354601\n",
      "bestIteration = 1461\n",
      "\n",
      "Shrink model to first 1462 iterations.\n"
     ]
    },
    {
     "name": "stderr",
     "output_type": "stream",
     "text": [
      "2025-02-25 22:10:41,025 - INFO - LONG! - Sber, Date&Time: 2024-11-04 11:30:00, proba: 0.5707647229452718 - I bought for 554.5 and sold for 555.5 + commission 3.996 -> budget: 5249.628720000001\n",
      "2025-02-25 22:10:41,033 - INFO - LONG! - Sber, Date&Time: 2024-11-04 11:50:00, proba: 0.5310917856847528 - I bought for 554.8 and sold for 555.6 + commission 3.9974400000000005 -> budget: 5252.831280000001\n",
      "2025-02-25 22:10:41,110 - INFO - LONG! - Sber, Date&Time: 2024-11-04 12:40:00, proba: 0.5156341448246248 - I bought for 554.1 and sold for 553.9 + commission 3.9888000000000003 -> budget: 5247.042480000001\n",
      "2025-02-25 22:10:41,259 - INFO - LONG! - Sber, Date&Time: 2024-11-04 14:40:00, proba: 0.5066944033565237 - I bought for 554.1 and sold for 553.9 + commission 3.9888000000000003 -> budget: 5241.253680000001\n",
      "2025-02-25 22:10:41,432 - INFO - LONG! - Sber, Date&Time: 2024-11-04 16:50:00, proba: 0.551349772297151 - I bought for 554.1 and sold for 554.2 + commission 3.9898800000000008 -> budget: 5238.163800000001\n",
      "2025-02-25 22:10:41,545 - INFO - LONG! - Sber, Date&Time: 2024-11-04 18:20:00, proba: 0.5152126534830399 - I bought for 554.8 and sold for 554.8 + commission 3.99456 -> budget: 5234.169240000001\n",
      "2025-02-25 22:10:41,666 - INFO - LONG! - Sber, Date&Time: 2024-11-04 20:20:00, proba: 0.5531911622551764 - I bought for 554.5 and sold for 556.4 + commission 3.9992400000000004 -> budget: 5247.27\n",
      "2025-02-25 22:10:42,026 - INFO - LONG! - Sber, Date&Time: 2024-11-05 08:00:00, proba: 0.500927611857202 - I bought for 555.4 and sold for 556.3 + commission 4.00212 -> budget: 5251.36788\n",
      "2025-02-25 22:10:44,250 - INFO - \n",
      "\n",
      "\n",
      "My budget before 5193.198720000002 and after trading 5251.36788\n",
      "Mommy, are you prod of me?\n",
      "2025-02-25 22:10:49,127 - INFO - Backtesting started for stock - Sber\n",
      "2025-02-25 22:10:49,131 - INFO - Train dates: 2024-10-05 04:00:00 - 2024-11-03 20:40:00 | Valid dates: 2024-11-04 04:00:00 - 2024-11-08 20:40:00 | Test dates: 2024-11-09 04:00:00 - 2024-11-13 20:40:00\n"
     ]
    },
    {
     "name": "stdout",
     "output_type": "stream",
     "text": [
      "0:\tlearn: 0.6898163\ttest: 0.6907460\tbest: 0.6907460 (0)\ttotal: 27.6ms\tremaining: 1m 22s\n",
      "500:\tlearn: 0.4824604\ttest: 0.5789989\tbest: 0.5789989 (500)\ttotal: 14.5s\tremaining: 1m 12s\n",
      "1000:\tlearn: 0.4637172\ttest: 0.5785267\tbest: 0.5784345 (777)\ttotal: 27.6s\tremaining: 55.2s\n",
      "1500:\tlearn: 0.4478246\ttest: 0.5794088\tbest: 0.5782466 (1087)\ttotal: 40.9s\tremaining: 40.9s\n"
     ]
    },
    {
     "name": "stderr",
     "output_type": "stream",
     "text": [
      "2025-02-25 22:11:32,916 - INFO - LONG! - Sber, Date&Time: 2024-11-09 08:10:00, proba: 0.5765865655408232 - I bought for 598.4 and sold for 600.3 + commission 3.8358399999999997 -> budget: 5262.73204\n"
     ]
    },
    {
     "name": "stdout",
     "output_type": "stream",
     "text": [
      "Stopped by overfitting detector  (500 iterations wait)\n",
      "\n",
      "bestTest = 0.578246576\n",
      "bestIteration = 1087\n",
      "\n",
      "Shrink model to first 1088 iterations.\n"
     ]
    },
    {
     "name": "stderr",
     "output_type": "stream",
     "text": [
      "2025-02-25 22:11:33,107 - INFO - LONG! - Sber, Date&Time: 2024-11-09 12:20:00, proba: 0.5735472172800632 - I bought for 599.8 and sold for 599.9 + commission 3.83904 -> budget: 5259.693\n",
      "2025-02-25 22:11:33,175 - INFO - LONG! - Sber, Date&Time: 2024-11-09 13:50:00, proba: 0.5321356590360982 - I bought for 599.6 and sold for 600.9 + commission 3.8416 -> budget: 5266.2514\n",
      "2025-02-25 22:11:33,294 - INFO - LONG! - Sber, Date&Time: 2024-11-09 16:30:00, proba: 0.5381687293044835 - I bought for 599.3 and sold for 599.9 + commission 3.8374399999999995 -> budget: 5267.21396\n",
      "2025-02-25 22:11:33,375 - INFO - LONG! - Sber, Date&Time: 2024-11-09 18:10:00, proba: 0.5113761067933547 - I bought for 599.2 and sold for 600.0 + commission 3.8374400000000004 -> budget: 5269.776519999999\n",
      "2025-02-25 22:11:33,531 - INFO - LONG! - Sber, Date&Time: 2024-11-10 04:40:00, proba: 0.5508869616294602 - I bought for 599.7 and sold for 600.4 + commission 3.8403199999999997 -> budget: 5271.536199999999\n",
      "2025-02-25 22:11:33,882 - INFO - LONG! - Sber, Date&Time: 2024-11-10 14:40:00, proba: 0.5382132550932048 - I bought for 602.0 and sold for 602.0 + commission 3.8528000000000002 -> budget: 5267.683399999999\n",
      "2025-02-25 22:11:33,882 - INFO - LONG! - Sber, Date&Time: 2024-11-10 14:50:00, proba: 0.5109250163882613 - I bought for 602.0 and sold for 602.6 + commission 3.85472 -> budget: 5268.628679999999\n",
      "2025-02-25 22:11:33,967 - INFO - LONG! - Sber, Date&Time: 2024-11-10 16:50:00, proba: 0.5198500678757455 - I bought for 601.3 and sold for 601.0 + commission 3.84736 -> budget: 5262.3813199999995\n",
      "2025-02-25 22:11:33,977 - INFO - LONG! - Sber, Date&Time: 2024-11-10 17:00:00, proba: 0.5308851169283992 - I bought for 601.0 and sold for 601.9 + commission 3.8492800000000003 -> budget: 5265.732039999999\n",
      "2025-02-25 22:11:33,992 - INFO - LONG! - Sber, Date&Time: 2024-11-10 17:20:00, proba: 0.5352344591898331 - I bought for 601.2 and sold for 602.0 + commission 3.8502400000000003 -> budget: 5268.281799999999\n",
      "2025-02-25 22:11:34,003 - INFO - LONG! - Sber, Date&Time: 2024-11-10 17:40:00, proba: 0.5548180999157468 - I bought for 601.2 and sold for 602.7 + commission 3.8524800000000003 -> budget: 5276.429319999999\n",
      "2025-02-25 22:11:34,107 - INFO - LONG! - Sber, Date&Time: 2024-11-10 18:50:00, proba: 0.5133933624450241 - I bought for 601.4 and sold for 601.2 + commission 3.8483199999999997 -> budget: 5270.981\n",
      "2025-02-25 22:11:34,123 - INFO - LONG! - Sber, Date&Time: 2024-11-10 19:00:00, proba: 0.5131420081126892 - I bought for 601.2 and sold for 601.9 + commission 3.84992 -> budget: 5272.73108\n",
      "2025-02-25 22:11:34,202 - INFO - LONG! - Sber, Date&Time: 2024-11-10 19:50:00, proba: 0.5478842763788571 - I bought for 601.2 and sold for 602.9 + commission 3.85312 -> budget: 5282.477959999999\n",
      "2025-02-25 22:11:36,099 - INFO - \n",
      "\n",
      "\n",
      "My budget before 5251.36788 and after trading 5282.477959999999\n",
      "Mommy, are you prod of me?\n",
      "2025-02-25 22:11:40,682 - INFO - Backtesting started for stock - Sber\n",
      "2025-02-25 22:11:40,683 - INFO - Train dates: 2024-10-10 04:00:00 - 2024-11-08 20:40:00 | Valid dates: 2024-11-09 04:00:00 - 2024-11-13 20:40:00 | Test dates: 2024-11-14 04:00:00 - 2024-11-18 20:40:00\n"
     ]
    },
    {
     "name": "stdout",
     "output_type": "stream",
     "text": [
      "0:\tlearn: 0.6899131\ttest: 0.6902629\tbest: 0.6902629 (0)\ttotal: 30.3ms\tremaining: 1m 30s\n",
      "500:\tlearn: 0.4974680\ttest: 0.5141743\tbest: 0.5141653 (497)\ttotal: 12.1s\tremaining: 1m\n",
      "1000:\tlearn: 0.4801030\ttest: 0.5113807\tbest: 0.5113517 (990)\ttotal: 23.6s\tremaining: 47.1s\n",
      "1500:\tlearn: 0.4622672\ttest: 0.5107647\tbest: 0.5105363 (1463)\ttotal: 35.9s\tremaining: 35.8s\n",
      "2000:\tlearn: 0.4457807\ttest: 0.5109038\tbest: 0.5103433 (1765)\ttotal: 47.4s\tremaining: 23.7s\n"
     ]
    },
    {
     "name": "stderr",
     "output_type": "stream",
     "text": [
      "2025-02-25 22:12:34,425 - INFO - LONG! - Sber, Date&Time: 2024-11-14 08:00:00, proba: 0.5866054918490239 - I bought for 574.9 and sold for 563.7 + commission 4.09896 -> budget: 5177.579\n"
     ]
    },
    {
     "name": "stdout",
     "output_type": "stream",
     "text": [
      "Stopped by overfitting detector  (500 iterations wait)\n",
      "\n",
      "bestTest = 0.5103433244\n",
      "bestIteration = 1765\n",
      "\n",
      "Shrink model to first 1766 iterations.\n"
     ]
    },
    {
     "name": "stderr",
     "output_type": "stream",
     "text": [
      "2025-02-25 22:12:34,726 - INFO - LONG! - Sber, Date&Time: 2024-11-14 15:30:00, proba: 0.506211417847472 - I bought for 569.8 and sold for 569.3 + commission 4.10076 -> budget: 5168.9782399999995\n",
      "2025-02-25 22:12:34,928 - INFO - LONG! - Sber, Date&Time: 2024-11-15 04:00:00, proba: 0.6936020860030973 - I bought for 567.9 and sold for 567.7 + commission 4.08816 -> budget: 5163.09008\n",
      "2025-02-25 22:12:35,044 - INFO - LONG! - Sber, Date&Time: 2024-11-15 06:10:00, proba: 0.5051072004723985 - I bought for 569.3 and sold for 569.4 + commission 4.09932 -> budget: 5159.89076\n",
      "2025-02-25 22:12:35,064 - INFO - LONG! - Sber, Date&Time: 2024-11-15 07:00:00, proba: 0.5244287570409675 - I bought for 568.8 and sold for 568.6 + commission 4.09464 -> budget: 5153.996120000001\n",
      "2025-02-25 22:12:35,623 - INFO - LONG! - Sber, Date&Time: 2024-11-15 21:50:00, proba: 0.66721668333612 - I bought for 573.8 and sold for 577.1 + commission 3.6828800000000004 -> budget: 5176.713240000001\n",
      "2025-02-25 22:12:35,638 - INFO - LONG! - Sber, Date&Time: 2024-11-15 22:10:00, proba: 0.6405196642181655 - I bought for 573.6 and sold for 574.1 + commission 4.1317200000000005 -> budget: 5177.081520000001\n",
      "2025-02-25 22:12:36,170 - INFO - LONG! - Sber, Date&Time: 2024-11-16 16:40:00, proba: 0.5154441160522587 - I bought for 576.2 and sold for 576.9 + commission 3.68992 -> budget: 5178.9916\n",
      "2025-02-25 22:12:36,182 - INFO - LONG! - Sber, Date&Time: 2024-11-16 17:20:00, proba: 0.5202497846191518 - I bought for 576.4 and sold for 576.3 + commission 3.6886399999999995 -> budget: 5174.50296\n",
      "2025-02-25 22:12:36,212 - INFO - LONG! - Sber, Date&Time: 2024-11-16 17:50:00, proba: 0.5171422934981537 - I bought for 576.4 and sold for 576.2 + commission 3.68832 -> budget: 5169.21464\n",
      "2025-02-25 22:12:36,309 - INFO - LONG! - Sber, Date&Time: 2024-11-16 20:10:00, proba: 0.5170245934611042 - I bought for 576.0 and sold for 575.8 + commission 3.68576 -> budget: 5163.9288799999995\n",
      "2025-02-25 22:12:36,320 - INFO - LONG! - Sber, Date&Time: 2024-11-16 20:20:00, proba: 0.502610096541814 - I bought for 575.8 and sold for 577.4 + commission 3.6902399999999997 -> budget: 5173.03864\n",
      "2025-02-25 22:12:36,499 - INFO - LONG! - Sber, Date&Time: 2024-11-17 07:30:00, proba: 0.5017933200207554 - I bought for 577.0 and sold for 577.7 + commission 3.69504 -> budget: 5174.9436000000005\n",
      "2025-02-25 22:12:36,520 - INFO - LONG! - Sber, Date&Time: 2024-11-17 08:10:00, proba: 0.5098252591900301 - I bought for 577.0 and sold for 577.7 + commission 3.69504 -> budget: 5176.848560000001\n",
      "2025-02-25 22:12:36,656 - INFO - LONG! - Sber, Date&Time: 2024-11-17 11:30:00, proba: 0.5327201961697169 - I bought for 577.0 and sold for 577.8 + commission 3.69536 -> budget: 5179.553200000001\n",
      "2025-02-25 22:12:36,691 - INFO - LONG! - Sber, Date&Time: 2024-11-17 12:10:00, proba: 0.5234982188675514 - I bought for 577.2 and sold for 577.8 + commission 3.696 -> budget: 5180.657200000001\n",
      "2025-02-25 22:12:36,915 - INFO - LONG! - Sber, Date&Time: 2024-11-17 17:20:00, proba: 0.6563806721880465 - I bought for 577.1 and sold for 577.1 + commission 3.6934400000000003 -> budget: 5176.963760000001\n",
      "2025-02-25 22:12:36,957 - INFO - LONG! - Sber, Date&Time: 2024-11-17 18:20:00, proba: 0.5395717204145263 - I bought for 568.0 and sold for 570.6 + commission 4.09896 -> budget: 5196.264800000001\n",
      "2025-02-25 22:12:36,973 - INFO - LONG! - Sber, Date&Time: 2024-11-17 18:50:00, proba: 0.5659727095415658 - I bought for 564.0 and sold for 563.9 + commission 4.060440000000001 -> budget: 5191.304360000001\n",
      "2025-02-25 22:12:37,515 - INFO - LONG! - Sber, Date&Time: 2024-11-18 18:30:00, proba: 0.5066015148335224 - I bought for 562.5 and sold for 562.7 + commission 4.05072 -> budget: 5189.053640000001\n",
      "2025-02-25 22:12:37,593 - INFO - \n",
      "\n",
      "\n",
      "My budget before 5282.477959999999 and after trading 5189.053640000001\n",
      "Mommy, are you prod of me?\n",
      "2025-02-25 22:12:42,165 - INFO - Backtesting started for stock - Sber\n",
      "2025-02-25 22:12:42,168 - INFO - Train dates: 2024-10-15 04:00:00 - 2024-11-13 20:40:00 | Valid dates: 2024-11-14 04:00:00 - 2024-11-18 20:40:00 | Test dates: 2024-11-19 04:00:00 - 2024-11-23 20:40:00\n"
     ]
    },
    {
     "name": "stdout",
     "output_type": "stream",
     "text": [
      "0:\tlearn: 0.6900242\ttest: 0.6900985\tbest: 0.6900985 (0)\ttotal: 30.1ms\tremaining: 1m 30s\n",
      "500:\tlearn: 0.5058609\ttest: 0.5199602\tbest: 0.5199602 (500)\ttotal: 12.1s\tremaining: 1m\n",
      "1000:\tlearn: 0.4852445\ttest: 0.5162299\tbest: 0.5162005 (998)\ttotal: 24s\tremaining: 48s\n",
      "1500:\tlearn: 0.4641317\ttest: 0.5149154\tbest: 0.5148846 (1411)\ttotal: 36.2s\tremaining: 36.1s\n",
      "2000:\tlearn: 0.4471482\ttest: 0.5144815\tbest: 0.5144489 (1991)\ttotal: 47.9s\tremaining: 23.9s\n",
      "2500:\tlearn: 0.4316351\ttest: 0.5147488\tbest: 0.5142487 (2013)\ttotal: 59.6s\tremaining: 11.9s\n",
      "Stopped by overfitting detector  (500 iterations wait)\n",
      "\n",
      "bestTest = 0.5142486713\n",
      "bestIteration = 2013\n",
      "\n",
      "Shrink model to first 2014 iterations.\n"
     ]
    },
    {
     "name": "stderr",
     "output_type": "stream",
     "text": [
      "2025-02-25 22:13:42,276 - INFO - LONG! - Sber, Date&Time: 2024-11-19 09:00:00, proba: 0.52707128771564 - I bought for 557.7 and sold for 554.4 + commission 4.003559999999999 -> budget: 5155.35008\n",
      "2025-02-25 22:13:42,505 - INFO - LONG! - Sber, Date&Time: 2024-11-19 13:40:00, proba: 0.5429397048253973 - I bought for 551.9 and sold for 549.5 + commission 3.9650400000000006 -> budget: 5129.785040000001\n",
      "2025-02-25 22:13:42,714 - INFO - LONG! - Sber, Date&Time: 2024-11-19 19:40:00, proba: 0.5201234833577288 - I bought for 544.7 and sold for 545.6 + commission 3.9250800000000012 -> budget: 5133.95996\n",
      "2025-02-25 22:13:42,870 - INFO - LONG! - Sber, Date&Time: 2024-11-20 06:50:00, proba: 0.5913928417768444 - I bought for 545.7 and sold for 547.5 + commission 3.9355200000000004 -> budget: 5146.22444\n",
      "2025-02-25 22:13:43,431 - INFO - LONG! - Sber, Date&Time: 2024-11-21 05:40:00, proba: 0.5399042863427991 - I bought for 538.1 and sold for 539.4 + commission 3.879 -> budget: 5154.04544\n",
      "2025-02-25 22:13:43,500 - INFO - LONG! - Sber, Date&Time: 2024-11-21 06:30:00, proba: 0.5650846654507792 - I bought for 538.9 and sold for 537.3 + commission 3.87432 -> budget: 5135.771119999999\n",
      "2025-02-25 22:13:43,623 - INFO - LONG! - Sber, Date&Time: 2024-11-21 08:00:00, proba: 0.5294528105795595 - I bought for 536.3 and sold for 535.6 + commission 3.8588400000000003 -> budget: 5125.61228\n",
      "2025-02-25 22:13:43,931 - INFO - LONG! - Sber, Date&Time: 2024-11-21 15:10:00, proba: 0.5162432619639159 - I bought for 531.1 and sold for 530.4 + commission 3.8214 -> budget: 5115.49088\n",
      "2025-02-25 22:13:44,281 - INFO - LONG! - Sber, Date&Time: 2024-11-22 08:20:00, proba: 0.5060344261726301 - I bought for 538.4 and sold for 536.4 + commission 3.8692800000000003 -> budget: 5093.6216\n",
      "2025-02-25 22:13:44,781 - INFO - LONG! - Sber, Date&Time: 2024-11-23 04:40:00, proba: 0.6315043072911241 - I bought for 539.7 and sold for 540.2 + commission 3.8876400000000007 -> budget: 5094.2339600000005\n",
      "2025-02-25 22:13:44,981 - INFO - LONG! - Sber, Date&Time: 2024-11-23 10:00:00, proba: 0.6255544451757511 - I bought for 541.6 and sold for 543.5 + commission 3.90636 -> budget: 5107.4276\n",
      "2025-02-25 22:13:45,099 - INFO - LONG! - Sber, Date&Time: 2024-11-23 13:10:00, proba: 0.5604023030852499 - I bought for 541.4 and sold for 542.2 + commission 3.90096 -> budget: 5110.726640000001\n",
      "2025-02-25 22:13:45,155 - INFO - LONG! - Sber, Date&Time: 2024-11-23 14:30:00, proba: 0.654807339378465 - I bought for 541.3 and sold for 542.1 + commission 3.9002400000000006 -> budget: 5114.026400000002\n",
      "2025-02-25 22:13:45,398 - INFO - \n",
      "\n",
      "\n",
      "My budget before 5189.053640000001 and after trading 5114.026400000002\n",
      "Mommy, are you prod of me?\n",
      "2025-02-25 22:13:50,034 - INFO - Backtesting started for stock - Sber\n",
      "2025-02-25 22:13:50,034 - INFO - Train dates: 2024-10-20 04:00:00 - 2024-11-18 20:40:00 | Valid dates: 2024-11-19 04:00:00 - 2024-11-23 20:40:00 | Test dates: 2024-11-24 04:00:00 - 2024-11-28 20:40:00\n"
     ]
    },
    {
     "name": "stdout",
     "output_type": "stream",
     "text": [
      "0:\tlearn: 0.6900688\ttest: 0.6906353\tbest: 0.6906353 (0)\ttotal: 25.5ms\tremaining: 1m 16s\n",
      "500:\tlearn: 0.5046986\ttest: 0.5597785\tbest: 0.5596519 (450)\ttotal: 14.7s\tremaining: 1m 13s\n",
      "1000:\tlearn: 0.4839502\ttest: 0.5590240\tbest: 0.5586667 (849)\ttotal: 26.9s\tremaining: 53.7s\n"
     ]
    },
    {
     "name": "stderr",
     "output_type": "stream",
     "text": [
      "2025-02-25 22:14:25,473 - INFO - LONG! - Sber, Date&Time: 2024-11-24 07:00:00, proba: 0.518260080633894 - I bought for 541.9 and sold for 542.1 + commission 3.9024000000000005 -> budget: 5111.924000000002\n"
     ]
    },
    {
     "name": "stdout",
     "output_type": "stream",
     "text": [
      "Stopped by overfitting detector  (500 iterations wait)\n",
      "\n",
      "bestTest = 0.5586667164\n",
      "bestIteration = 849\n",
      "\n",
      "Shrink model to first 850 iterations.\n"
     ]
    },
    {
     "name": "stderr",
     "output_type": "stream",
     "text": [
      "2025-02-25 22:14:25,845 - INFO - LONG! - Sber, Date&Time: 2024-11-24 15:10:00, proba: 0.547458716758685 - I bought for 543.3 and sold for 542.4 + commission 3.9085199999999993 -> budget: 5099.915480000002\n",
      "2025-02-25 22:14:25,904 - INFO - LONG! - Sber, Date&Time: 2024-11-24 17:00:00, proba: 0.5131824134038238 - I bought for 541.2 and sold for 543.6 + commission 3.9052800000000008 -> budget: 5117.610200000002\n",
      "2025-02-25 22:14:28,150 - INFO - \n",
      "\n",
      "\n",
      "My budget before 5114.026400000002 and after trading 5117.610200000002\n",
      "Mommy, are you prod of me?\n",
      "2025-02-25 22:14:32,759 - INFO - Backtesting started for stock - Sber\n",
      "2025-02-25 22:14:32,759 - INFO - Train dates: 2024-10-25 04:00:00 - 2024-11-23 20:40:00 | Valid dates: 2024-11-24 04:00:00 - 2024-11-28 20:40:00 | Test dates: 2024-11-29 04:00:00 - 2024-12-03 20:40:00\n"
     ]
    },
    {
     "name": "stdout",
     "output_type": "stream",
     "text": [
      "0:\tlearn: 0.6902154\ttest: 0.6906105\tbest: 0.6906105 (0)\ttotal: 23.2ms\tremaining: 1m 9s\n",
      "500:\tlearn: 0.5107389\ttest: 0.5532650\tbest: 0.5531937 (453)\ttotal: 12.1s\tremaining: 1m\n",
      "1000:\tlearn: 0.4927360\ttest: 0.5538861\tbest: 0.5527404 (706)\ttotal: 24.1s\tremaining: 48.1s\n",
      "Stopped by overfitting detector  (500 iterations wait)\n",
      "\n",
      "bestTest = 0.5527404202\n",
      "bestIteration = 706\n",
      "\n",
      "Shrink model to first 707 iterations.\n"
     ]
    },
    {
     "name": "stderr",
     "output_type": "stream",
     "text": [
      "2025-02-25 22:15:02,397 - INFO - LONG! - Sber, Date&Time: 2024-11-30 05:00:00, proba: 0.5172606282119889 - I bought for 544.8 and sold for 544.3 + commission 3.9207599999999996 -> budget: 5109.189440000002\n",
      "2025-02-25 22:15:02,573 - INFO - LONG! - Sber, Date&Time: 2024-11-30 09:30:00, proba: 0.5108258512716349 - I bought for 544.8 and sold for 545.6 + commission 3.9254400000000005 -> budget: 5112.464000000003\n",
      "2025-02-25 22:15:02,804 - INFO - LONG! - Sber, Date&Time: 2024-11-30 15:30:00, proba: 0.5031713035140466 - I bought for 545.3 and sold for 545.9 + commission 3.9283199999999994 -> budget: 5113.935680000003\n",
      "2025-02-25 22:15:04,582 - INFO - \n",
      "\n",
      "\n",
      "My budget before 5117.610200000002 and after trading 5113.935680000003\n",
      "Mommy, are you prod of me?\n",
      "2025-02-25 22:15:09,181 - INFO - Backtesting started for stock - Sber\n",
      "2025-02-25 22:15:09,197 - INFO - Train dates: 2024-10-30 04:00:00 - 2024-11-28 20:40:00 | Valid dates: 2024-11-29 04:00:00 - 2024-12-03 20:40:00 | Test dates: 2024-12-04 04:00:00 - 2024-12-08 20:40:00\n"
     ]
    },
    {
     "name": "stdout",
     "output_type": "stream",
     "text": [
      "0:\tlearn: 0.6904009\ttest: 0.6898554\tbest: 0.6898554 (0)\ttotal: 27.8ms\tremaining: 1m 23s\n",
      "500:\tlearn: 0.5202150\ttest: 0.5002181\tbest: 0.5002148 (499)\ttotal: 13s\tremaining: 1m 4s\n",
      "1000:\tlearn: 0.5012657\ttest: 0.5002343\tbest: 0.4997149 (885)\ttotal: 26.2s\tremaining: 52.3s\n",
      "Stopped by overfitting detector  (500 iterations wait)\n",
      "\n",
      "bestTest = 0.4997148708\n",
      "bestIteration = 885\n",
      "\n",
      "Shrink model to first 886 iterations.\n"
     ]
    },
    {
     "name": "stderr",
     "output_type": "stream",
     "text": [
      "2025-02-25 22:15:48,942 - INFO - LONG! - Sber, Date&Time: 2024-12-08 04:30:00, proba: 0.5096938915000225 - I bought for 558.0 and sold for 557.7 + commission 4.016520000000001 -> budget: 5107.219160000003\n",
      "2025-02-25 22:15:49,570 - INFO - \n",
      "\n",
      "\n",
      "My budget before 5113.935680000003 and after trading 5107.219160000003\n",
      "Mommy, are you prod of me?\n",
      "2025-02-25 22:15:54,171 - INFO - Backtesting started for stock - Sber\n",
      "2025-02-25 22:15:54,173 - INFO - Train dates: 2024-11-04 04:00:00 - 2024-12-03 20:40:00 | Valid dates: 2024-12-04 04:00:00 - 2024-12-08 20:40:00 | Test dates: 2024-12-09 04:00:00 - 2024-12-13 20:40:00\n"
     ]
    },
    {
     "name": "stdout",
     "output_type": "stream",
     "text": [
      "0:\tlearn: 0.6902842\ttest: 0.6901219\tbest: 0.6901219 (0)\ttotal: 29.2ms\tremaining: 1m 27s\n",
      "500:\tlearn: 0.5128044\ttest: 0.5227646\tbest: 0.5227646 (500)\ttotal: 12.6s\tremaining: 1m 3s\n",
      "1000:\tlearn: 0.4958532\ttest: 0.5213487\tbest: 0.5211609 (800)\ttotal: 25.4s\tremaining: 50.7s\n",
      "1500:\tlearn: 0.4778698\ttest: 0.5211894\tbest: 0.5208068 (1423)\ttotal: 39.3s\tremaining: 39.3s\n",
      "Stopped by overfitting detector  (500 iterations wait)\n",
      "\n",
      "bestTest = 0.5208068177\n",
      "bestIteration = 1423\n",
      "\n",
      "Shrink model to first 1424 iterations.\n"
     ]
    },
    {
     "name": "stderr",
     "output_type": "stream",
     "text": [
      "2025-02-25 22:16:48,206 - INFO - \n",
      "\n",
      "\n",
      "My budget before 5107.219160000003 and after trading 5107.219160000003\n",
      "Mommy, are you prod of me?\n",
      "2025-02-25 22:16:52,797 - INFO - Backtesting started for stock - Sber\n",
      "2025-02-25 22:16:52,797 - INFO - Train dates: 2024-11-09 04:00:00 - 2024-12-08 20:40:00 | Valid dates: 2024-12-09 04:00:00 - 2024-12-13 20:40:00 | Test dates: 2024-12-14 04:00:00 - 2024-12-18 20:40:00\n"
     ]
    },
    {
     "name": "stdout",
     "output_type": "stream",
     "text": [
      "0:\tlearn: 0.6900023\ttest: 0.6904021\tbest: 0.6904021 (0)\ttotal: 39.8ms\tremaining: 1m 59s\n",
      "500:\tlearn: 0.5046965\ttest: 0.5704690\tbest: 0.5694789 (296)\ttotal: 14.3s\tremaining: 1m 11s\n",
      "Stopped by overfitting detector  (500 iterations wait)\n",
      "\n",
      "bestTest = 0.5694789158\n",
      "bestIteration = 296\n",
      "\n",
      "Shrink model to first 297 iterations.\n"
     ]
    },
    {
     "name": "stderr",
     "output_type": "stream",
     "text": [
      "2025-02-25 22:17:17,930 - INFO - \n",
      "\n",
      "\n",
      "My budget before 5107.219160000003 and after trading 5107.219160000003\n",
      "Mommy, are you prod of me?\n"
     ]
    }
   ],
   "source": [
    "df = ['Sber']\n",
    "\n",
    "end_date = dt.datetime(2024, 12, 20)\n",
    "start_date = dt.datetime(2024, 9, 10)\n",
    "st_date = dt.datetime(2024, 8, 1)\n",
    "\n",
    "history = {\"Sber\" : [], \"MTS\" : [], \"Yandex\" : [], \"MMK\" : [], \"Gazprom\" : []}\n",
    "df = [\"Sber\", \"MTS\", \"Yandex\", \"MMK\", \"\"]\n",
    "money = 5000\n",
    "\n",
    "while start_date < end_date:\n",
    "        args = {\"iterations\" : 3000, \n",
    "                \"depth\" : 5, \n",
    "                \"learning_rate\" : 0.01, \n",
    "                \"use_best_model\" : True, \n",
    "                \"l2_leaf_reg\" : 200,\n",
    "                \"loss_function\" : 'Logloss', \n",
    "                \"eval_metric\" : 'Logloss', \n",
    "                \"cat_features\" : [], \n",
    "                \"class_weights\" : [1, 0.4],\n",
    "                \"random_state\" : 42,\n",
    "                \"verbose\" : 500,\n",
    "                \"early_stopping_rounds\" : 500}\n",
    "\n",
    "        dfs = [\"../../datasets/\" + stock + '_10_min.csv' for stock in df]\n",
    "        backtest = Backtest(strategies=['long'], args=args, dfs=dfs, comissions=[0.0004])\n",
    "\n",
    "        custom_datasets_args = {'start_dt': st_date, \n",
    "                                'end_dt': start_date, \n",
    "                                'train_size': dt.timedelta(days=30), 'val_size': dt.timedelta(5), 'test_size' : None}\n",
    "        sm, money = backtest.test_trading(budget=money, custom_datasets_args=custom_datasets_args, proba_limit=0.5, use_PCA=False)\n",
    "        st_date = st_date + dt.timedelta(days=5)\n",
    "        start_date = start_date + dt.timedelta(days=5)\n"
   ]
  },
  {
   "cell_type": "code",
   "execution_count": 54,
   "metadata": {},
   "outputs": [
    {
     "data": {
      "text/plain": [
       "[               datetime      budget\n",
       " 0   2024-12-14 04:00:00  5107.21916\n",
       " 1   2024-12-14 04:10:00  5107.21916\n",
       " 2   2024-12-14 04:20:00  5107.21916\n",
       " 3   2024-12-14 04:30:00  5107.21916\n",
       " 4   2024-12-14 04:40:00  5107.21916\n",
       " ..                  ...         ...\n",
       " 494 2024-12-18 20:00:00  5107.21916\n",
       " 495 2024-12-18 20:10:00  5107.21916\n",
       " 496 2024-12-18 20:20:00  5107.21916\n",
       " 497 2024-12-18 20:30:00  5107.21916\n",
       " 498 2024-12-18 20:40:00  5107.21916\n",
       " \n",
       " [499 rows x 2 columns]]"
      ]
     },
     "execution_count": 54,
     "metadata": {},
     "output_type": "execute_result"
    }
   ],
   "source": [
    "sm"
   ]
  },
  {
   "cell_type": "code",
   "execution_count": 21,
   "metadata": {},
   "outputs": [
    {
     "ename": "MergeError",
     "evalue": "Incompatible merge dtype, dtype('O') and dtype('<M8[ns]'), both sides must have numeric dtype",
     "output_type": "error",
     "traceback": [
      "\u001b[1;31m---------------------------------------------------------------------------\u001b[0m",
      "\u001b[1;31mMergeError\u001b[0m                                Traceback (most recent call last)",
      "Cell \u001b[1;32mIn[21], line 32\u001b[0m\n\u001b[0;32m     24\u001b[0m backtest \u001b[38;5;241m=\u001b[39m Backtest(strategies\u001b[38;5;241m=\u001b[39m[\u001b[38;5;124m'\u001b[39m\u001b[38;5;124mlong\u001b[39m\u001b[38;5;124m'\u001b[39m], args\u001b[38;5;241m=\u001b[39margs, dfs\u001b[38;5;241m=\u001b[39mdfs, comissions\u001b[38;5;241m=\u001b[39m[\u001b[38;5;241m0.0004\u001b[39m])\n\u001b[0;32m     26\u001b[0m custom_datasets_args \u001b[38;5;241m=\u001b[39m {\u001b[38;5;124m'\u001b[39m\u001b[38;5;124mstart_dt\u001b[39m\u001b[38;5;124m'\u001b[39m: date, \n\u001b[0;32m     27\u001b[0m                         \u001b[38;5;124m'\u001b[39m\u001b[38;5;124mend_dt\u001b[39m\u001b[38;5;124m'\u001b[39m: dt\u001b[38;5;241m.\u001b[39mdatetime(\u001b[38;5;241m2024\u001b[39m, \u001b[38;5;241m12\u001b[39m, \u001b[38;5;241m1\u001b[39m), \n\u001b[0;32m     28\u001b[0m                         \u001b[38;5;124m'\u001b[39m\u001b[38;5;124mtrain_size\u001b[39m\u001b[38;5;124m'\u001b[39m: \u001b[38;5;241m3000\u001b[39m, \u001b[38;5;124m'\u001b[39m\u001b[38;5;124mval_size\u001b[39m\u001b[38;5;124m'\u001b[39m: \u001b[38;5;241m500\u001b[39m, \n\u001b[0;32m     29\u001b[0m                         \u001b[38;5;124m'\u001b[39m\u001b[38;5;124mtest_size\u001b[39m\u001b[38;5;124m'\u001b[39m: \u001b[38;5;241m500\u001b[39m\n\u001b[0;32m     30\u001b[0m                         }\n\u001b[1;32m---> 32\u001b[0m new_m, new_hist \u001b[38;5;241m=\u001b[39m \u001b[43mbacktest\u001b[49m\u001b[38;5;241;43m.\u001b[39;49m\u001b[43mtest_multistock\u001b[49m\u001b[43m(\u001b[49m\u001b[43mbudget\u001b[49m\u001b[38;5;241;43m=\u001b[39;49m\u001b[43msumm\u001b[49m\u001b[43m,\u001b[49m\u001b[43m \u001b[49m\u001b[43mcustom_datasets_args\u001b[49m\u001b[38;5;241;43m=\u001b[39;49m\u001b[43mcustom_datasets_args\u001b[49m\u001b[43m,\u001b[49m\u001b[43m \u001b[49m\u001b[43mproba_limit\u001b[49m\u001b[38;5;241;43m=\u001b[39;49m\u001b[38;5;241;43m0.55\u001b[39;49m\u001b[43m,\u001b[49m\u001b[43m \u001b[49m\u001b[43muse_PCA\u001b[49m\u001b[38;5;241;43m=\u001b[39;49m\u001b[38;5;28;43;01mFalse\u001b[39;49;00m\u001b[43m)\u001b[49m\n\u001b[0;32m     34\u001b[0m summ \u001b[38;5;241m+\u001b[39m\u001b[38;5;241m=\u001b[39m new_m\n\u001b[0;32m     35\u001b[0m hist \u001b[38;5;241m+\u001b[39m\u001b[38;5;241m=\u001b[39m new_hist \n",
      "File \u001b[1;32mc:\\Users\\Валерия\\OneDrive\\Документы\\GitHub\\prices-predictions\\examples\\lerochka\\../..\\backtests\\backtest.py:254\u001b[0m, in \u001b[0;36mBacktest.test_multistock\u001b[1;34m(self, budget, custom_datasets_args, proba_limit, use_PCA, add_model)\u001b[0m\n\u001b[0;32m    251\u001b[0m     models_short\u001b[38;5;241m.\u001b[39mappend(model_short)\n\u001b[0;32m    253\u001b[0m \u001b[38;5;28;01melse\u001b[39;00m:\n\u001b[1;32m--> 254\u001b[0m     \u001b[38;5;28;43mself\u001b[39;49m\u001b[38;5;241;43m.\u001b[39;49m\u001b[43mcustom_datasets\u001b[49m\u001b[43m(\u001b[49m\u001b[38;5;241;43m*\u001b[39;49m\u001b[38;5;241;43m*\u001b[39;49m\u001b[43mcustom_datasets_args\u001b[49m\u001b[43m,\u001b[49m\u001b[43m \u001b[49m\u001b[43muse_PCA\u001b[49m\u001b[38;5;241;43m=\u001b[39;49m\u001b[43muse_PCA\u001b[49m\u001b[43m)\u001b[49m\n\u001b[0;32m    256\u001b[0m     X_train, X_val, X_test, y_train, y_val, y_test \u001b[38;5;241m=\u001b[39m \u001b[38;5;28mself\u001b[39m\u001b[38;5;241m.\u001b[39mcustom_datasets(\u001b[38;5;241m*\u001b[39m\u001b[38;5;241m*\u001b[39mcustom_datasets_args, use_PCA\u001b[38;5;241m=\u001b[39muse_PCA)\n\u001b[0;32m    257\u001b[0m     stock \u001b[38;5;241m=\u001b[39m df_path\u001b[38;5;241m.\u001b[39msplit(\u001b[38;5;124m'\u001b[39m\u001b[38;5;124m/\u001b[39m\u001b[38;5;124m'\u001b[39m)[\u001b[38;5;241m-\u001b[39m\u001b[38;5;241m1\u001b[39m][:\u001b[38;5;241m-\u001b[39m\u001b[38;5;241m11\u001b[39m]  \u001b[38;5;66;03m# так обрежеться всё до названия файла из datasets и тажке _10_min.csv\u001b[39;00m\n",
      "File \u001b[1;32mc:\\Users\\Валерия\\OneDrive\\Документы\\GitHub\\prices-predictions\\examples\\lerochka\\../..\\backtests\\backtest.py:65\u001b[0m, in \u001b[0;36mBacktest.custom_datasets\u001b[1;34m(self, df_path, start_dt, end_dt, train_size, val_size, test_size, use_PCA, return_split, ind)\u001b[0m\n\u001b[0;32m     63\u001b[0m stock \u001b[38;5;241m=\u001b[39m df_path\u001b[38;5;241m.\u001b[39msplit(\u001b[38;5;124m'\u001b[39m\u001b[38;5;124m/\u001b[39m\u001b[38;5;124m'\u001b[39m)[\u001b[38;5;241m-\u001b[39m\u001b[38;5;241m1\u001b[39m][:\u001b[38;5;241m-\u001b[39m\u001b[38;5;241m11\u001b[39m]\n\u001b[0;32m     64\u001b[0m small_df \u001b[38;5;241m=\u001b[39m \u001b[38;5;124m\"\u001b[39m\u001b[38;5;124m../../datasets/\u001b[39m\u001b[38;5;124m\"\u001b[39m \u001b[38;5;241m+\u001b[39m stock \u001b[38;5;241m+\u001b[39m \u001b[38;5;124m\"\u001b[39m\u001b[38;5;124m_1_min.csv\u001b[39m\u001b[38;5;124m\"\u001b[39m\n\u001b[1;32m---> 65\u001b[0m \u001b[43mdata\u001b[49m\u001b[38;5;241;43m.\u001b[39;49m\u001b[43minsert_all\u001b[49m\u001b[43m(\u001b[49m\u001b[43mfeatures_settings\u001b[49m\u001b[38;5;241;43m=\u001b[39;49m\u001b[38;5;28;43mself\u001b[39;49m\u001b[38;5;241;43m.\u001b[39;49m\u001b[43mfeatures\u001b[49m\u001b[43m,\u001b[49m\u001b[43m \u001b[49m\u001b[43mmini_features\u001b[49m\u001b[38;5;241;43m=\u001b[39;49m\u001b[43msmall_df\u001b[49m\u001b[43m)\u001b[49m\n\u001b[0;32m     66\u001b[0m \u001b[38;5;28mself\u001b[39m\u001b[38;5;241m.\u001b[39mcat \u001b[38;5;241m=\u001b[39m data\u001b[38;5;241m.\u001b[39mget_cat_features()\n\u001b[0;32m     67\u001b[0m \u001b[38;5;28mself\u001b[39m\u001b[38;5;241m.\u001b[39mnum \u001b[38;5;241m=\u001b[39m data\u001b[38;5;241m.\u001b[39mget_numeric_features()\n",
      "File \u001b[1;32mc:\\Users\\Валерия\\OneDrive\\Документы\\GitHub\\prices-predictions\\examples\\lerochka\\../..\\model\\data.py:221\u001b[0m, in \u001b[0;36mFinData.insert_all\u001b[1;34m(self, features_settings, mini_features)\u001b[0m\n\u001b[0;32m    219\u001b[0m     \u001b[38;5;66;03m# self.insert_stochastic_oscillator(standart_windows)\u001b[39;00m\n\u001b[0;32m    220\u001b[0m     \u001b[38;5;28;01mif\u001b[39;00m \u001b[38;5;28mtype\u001b[39m(mini_features) \u001b[38;5;241m!=\u001b[39m NoneType: \n\u001b[1;32m--> 221\u001b[0m         \u001b[38;5;28;43mself\u001b[39;49m\u001b[38;5;241;43m.\u001b[39;49m\u001b[43minsert_small_close_shifts\u001b[49m\u001b[43m(\u001b[49m\u001b[43mmini_features\u001b[49m\u001b[43m)\u001b[49m\n\u001b[0;32m    222\u001b[0m \u001b[38;5;28;01melse\u001b[39;00m: \n\u001b[0;32m    223\u001b[0m     features \u001b[38;5;241m=\u001b[39m \u001b[38;5;28mlist\u001b[39m(features_settings\u001b[38;5;241m.\u001b[39mkeys())\n",
      "File \u001b[1;32mc:\\Users\\Валерия\\OneDrive\\Документы\\GitHub\\prices-predictions\\examples\\lerochka\\../..\\model\\features\\small_features.py:23\u001b[0m, in \u001b[0;36mSmallFeaturesMixin.insert_small_close_shifts\u001b[1;34m(self, small_df, candles_num, step)\u001b[0m\n\u001b[0;32m     21\u001b[0m df \u001b[38;5;241m=\u001b[39m df\u001b[38;5;241m.\u001b[39mreset_index()\n\u001b[0;32m     22\u001b[0m \u001b[38;5;28mself\u001b[39m\u001b[38;5;241m.\u001b[39mdf\u001b[38;5;241m.\u001b[39mset_index(\u001b[38;5;124m\"\u001b[39m\u001b[38;5;124mutc\u001b[39m\u001b[38;5;124m\"\u001b[39m, inplace\u001b[38;5;241m=\u001b[39m\u001b[38;5;28;01mTrue\u001b[39;00m)\n\u001b[1;32m---> 23\u001b[0m \u001b[38;5;28mself\u001b[39m\u001b[38;5;241m.\u001b[39mdf \u001b[38;5;241m=\u001b[39m \u001b[43mpd\u001b[49m\u001b[38;5;241;43m.\u001b[39;49m\u001b[43mmerge_asof\u001b[49m\u001b[43m(\u001b[49m\u001b[38;5;28;43mself\u001b[39;49m\u001b[38;5;241;43m.\u001b[39;49m\u001b[43mdf\u001b[49m\u001b[38;5;241;43m.\u001b[39;49m\u001b[43mreset_index\u001b[49m\u001b[43m(\u001b[49m\u001b[43m)\u001b[49m\u001b[43m,\u001b[49m\u001b[43m \u001b[49m\u001b[43mdf\u001b[49m\u001b[43m,\u001b[49m\u001b[43m \u001b[49m\u001b[43mon\u001b[49m\u001b[38;5;241;43m=\u001b[39;49m\u001b[38;5;124;43m\"\u001b[39;49m\u001b[38;5;124;43mutc\u001b[39;49m\u001b[38;5;124;43m\"\u001b[39;49m\u001b[43m,\u001b[49m\u001b[43m \u001b[49m\u001b[43mdirection\u001b[49m\u001b[38;5;241;43m=\u001b[39;49m\u001b[38;5;124;43m\"\u001b[39;49m\u001b[38;5;124;43mbackward\u001b[39;49m\u001b[38;5;124;43m\"\u001b[39;49m\u001b[43m,\u001b[49m\u001b[43m \u001b[49m\u001b[43msuffixes\u001b[49m\u001b[38;5;241;43m=\u001b[39;49m\u001b[43m(\u001b[49m\u001b[38;5;124;43m\"\u001b[39;49m\u001b[38;5;124;43m\"\u001b[39;49m\u001b[43m,\u001b[49m\u001b[43m \u001b[49m\u001b[38;5;124;43m\"\u001b[39;49m\u001b[38;5;124;43m_min\u001b[39;49m\u001b[38;5;124;43m\"\u001b[39;49m\u001b[43m)\u001b[49m\u001b[43m)\u001b[49m\n\u001b[0;32m     25\u001b[0m \u001b[38;5;28mself\u001b[39m\u001b[38;5;241m.\u001b[39mnumeric_features \u001b[38;5;241m+\u001b[39m\u001b[38;5;241m=\u001b[39m new_num\n",
      "File \u001b[1;32mc:\\Users\\Валерия\\OneDrive\\Документы\\GitHub\\prices-predictions\\myenv\\Lib\\site-packages\\pandas\\core\\reshape\\merge.py:691\u001b[0m, in \u001b[0;36mmerge_asof\u001b[1;34m(left, right, on, left_on, right_on, left_index, right_index, by, left_by, right_by, suffixes, tolerance, allow_exact_matches, direction)\u001b[0m\n\u001b[0;32m    440\u001b[0m \u001b[38;5;28;01mdef\u001b[39;00m \u001b[38;5;21mmerge_asof\u001b[39m(\n\u001b[0;32m    441\u001b[0m     left: DataFrame \u001b[38;5;241m|\u001b[39m Series,\n\u001b[0;32m    442\u001b[0m     right: DataFrame \u001b[38;5;241m|\u001b[39m Series,\n\u001b[1;32m   (...)\u001b[0m\n\u001b[0;32m    454\u001b[0m     direction: \u001b[38;5;28mstr\u001b[39m \u001b[38;5;241m=\u001b[39m \u001b[38;5;124m\"\u001b[39m\u001b[38;5;124mbackward\u001b[39m\u001b[38;5;124m\"\u001b[39m,\n\u001b[0;32m    455\u001b[0m ) \u001b[38;5;241m-\u001b[39m\u001b[38;5;241m>\u001b[39m DataFrame:\n\u001b[0;32m    456\u001b[0m \u001b[38;5;250m    \u001b[39m\u001b[38;5;124;03m\"\"\"\u001b[39;00m\n\u001b[0;32m    457\u001b[0m \u001b[38;5;124;03m    Perform a merge by key distance.\u001b[39;00m\n\u001b[0;32m    458\u001b[0m \n\u001b[1;32m   (...)\u001b[0m\n\u001b[0;32m    689\u001b[0m \u001b[38;5;124;03m    4 2016-05-25 13:30:00.048   AAPL   98.00       100     NaN     NaN\u001b[39;00m\n\u001b[0;32m    690\u001b[0m \u001b[38;5;124;03m    \"\"\"\u001b[39;00m\n\u001b[1;32m--> 691\u001b[0m     op \u001b[38;5;241m=\u001b[39m \u001b[43m_AsOfMerge\u001b[49m\u001b[43m(\u001b[49m\n\u001b[0;32m    692\u001b[0m \u001b[43m        \u001b[49m\u001b[43mleft\u001b[49m\u001b[43m,\u001b[49m\n\u001b[0;32m    693\u001b[0m \u001b[43m        \u001b[49m\u001b[43mright\u001b[49m\u001b[43m,\u001b[49m\n\u001b[0;32m    694\u001b[0m \u001b[43m        \u001b[49m\u001b[43mon\u001b[49m\u001b[38;5;241;43m=\u001b[39;49m\u001b[43mon\u001b[49m\u001b[43m,\u001b[49m\n\u001b[0;32m    695\u001b[0m \u001b[43m        \u001b[49m\u001b[43mleft_on\u001b[49m\u001b[38;5;241;43m=\u001b[39;49m\u001b[43mleft_on\u001b[49m\u001b[43m,\u001b[49m\n\u001b[0;32m    696\u001b[0m \u001b[43m        \u001b[49m\u001b[43mright_on\u001b[49m\u001b[38;5;241;43m=\u001b[39;49m\u001b[43mright_on\u001b[49m\u001b[43m,\u001b[49m\n\u001b[0;32m    697\u001b[0m \u001b[43m        \u001b[49m\u001b[43mleft_index\u001b[49m\u001b[38;5;241;43m=\u001b[39;49m\u001b[43mleft_index\u001b[49m\u001b[43m,\u001b[49m\n\u001b[0;32m    698\u001b[0m \u001b[43m        \u001b[49m\u001b[43mright_index\u001b[49m\u001b[38;5;241;43m=\u001b[39;49m\u001b[43mright_index\u001b[49m\u001b[43m,\u001b[49m\n\u001b[0;32m    699\u001b[0m \u001b[43m        \u001b[49m\u001b[43mby\u001b[49m\u001b[38;5;241;43m=\u001b[39;49m\u001b[43mby\u001b[49m\u001b[43m,\u001b[49m\n\u001b[0;32m    700\u001b[0m \u001b[43m        \u001b[49m\u001b[43mleft_by\u001b[49m\u001b[38;5;241;43m=\u001b[39;49m\u001b[43mleft_by\u001b[49m\u001b[43m,\u001b[49m\n\u001b[0;32m    701\u001b[0m \u001b[43m        \u001b[49m\u001b[43mright_by\u001b[49m\u001b[38;5;241;43m=\u001b[39;49m\u001b[43mright_by\u001b[49m\u001b[43m,\u001b[49m\n\u001b[0;32m    702\u001b[0m \u001b[43m        \u001b[49m\u001b[43msuffixes\u001b[49m\u001b[38;5;241;43m=\u001b[39;49m\u001b[43msuffixes\u001b[49m\u001b[43m,\u001b[49m\n\u001b[0;32m    703\u001b[0m \u001b[43m        \u001b[49m\u001b[43mhow\u001b[49m\u001b[38;5;241;43m=\u001b[39;49m\u001b[38;5;124;43m\"\u001b[39;49m\u001b[38;5;124;43masof\u001b[39;49m\u001b[38;5;124;43m\"\u001b[39;49m\u001b[43m,\u001b[49m\n\u001b[0;32m    704\u001b[0m \u001b[43m        \u001b[49m\u001b[43mtolerance\u001b[49m\u001b[38;5;241;43m=\u001b[39;49m\u001b[43mtolerance\u001b[49m\u001b[43m,\u001b[49m\n\u001b[0;32m    705\u001b[0m \u001b[43m        \u001b[49m\u001b[43mallow_exact_matches\u001b[49m\u001b[38;5;241;43m=\u001b[39;49m\u001b[43mallow_exact_matches\u001b[49m\u001b[43m,\u001b[49m\n\u001b[0;32m    706\u001b[0m \u001b[43m        \u001b[49m\u001b[43mdirection\u001b[49m\u001b[38;5;241;43m=\u001b[39;49m\u001b[43mdirection\u001b[49m\u001b[43m,\u001b[49m\n\u001b[0;32m    707\u001b[0m \u001b[43m    \u001b[49m\u001b[43m)\u001b[49m\n\u001b[0;32m    708\u001b[0m     \u001b[38;5;28;01mreturn\u001b[39;00m op\u001b[38;5;241m.\u001b[39mget_result()\n",
      "File \u001b[1;32mc:\\Users\\Валерия\\OneDrive\\Документы\\GitHub\\prices-predictions\\myenv\\Lib\\site-packages\\pandas\\core\\reshape\\merge.py:1999\u001b[0m, in \u001b[0;36m_AsOfMerge.__init__\u001b[1;34m(self, left, right, on, left_on, right_on, left_index, right_index, by, left_by, right_by, suffixes, how, tolerance, allow_exact_matches, direction)\u001b[0m\n\u001b[0;32m   1993\u001b[0m     msg \u001b[38;5;241m=\u001b[39m (\n\u001b[0;32m   1994\u001b[0m         \u001b[38;5;124m\"\u001b[39m\u001b[38;5;124mallow_exact_matches must be boolean, \u001b[39m\u001b[38;5;124m\"\u001b[39m\n\u001b[0;32m   1995\u001b[0m         \u001b[38;5;124mf\u001b[39m\u001b[38;5;124m\"\u001b[39m\u001b[38;5;124mpassed \u001b[39m\u001b[38;5;132;01m{\u001b[39;00m\u001b[38;5;28mself\u001b[39m\u001b[38;5;241m.\u001b[39mallow_exact_matches\u001b[38;5;132;01m}\u001b[39;00m\u001b[38;5;124m\"\u001b[39m\n\u001b[0;32m   1996\u001b[0m     )\n\u001b[0;32m   1997\u001b[0m     \u001b[38;5;28;01mraise\u001b[39;00m MergeError(msg)\n\u001b[1;32m-> 1999\u001b[0m \u001b[43m_OrderedMerge\u001b[49m\u001b[38;5;241;43m.\u001b[39;49m\u001b[38;5;21;43m__init__\u001b[39;49m\u001b[43m(\u001b[49m\n\u001b[0;32m   2000\u001b[0m \u001b[43m    \u001b[49m\u001b[38;5;28;43mself\u001b[39;49m\u001b[43m,\u001b[49m\n\u001b[0;32m   2001\u001b[0m \u001b[43m    \u001b[49m\u001b[43mleft\u001b[49m\u001b[43m,\u001b[49m\n\u001b[0;32m   2002\u001b[0m \u001b[43m    \u001b[49m\u001b[43mright\u001b[49m\u001b[43m,\u001b[49m\n\u001b[0;32m   2003\u001b[0m \u001b[43m    \u001b[49m\u001b[43mon\u001b[49m\u001b[38;5;241;43m=\u001b[39;49m\u001b[43mon\u001b[49m\u001b[43m,\u001b[49m\n\u001b[0;32m   2004\u001b[0m \u001b[43m    \u001b[49m\u001b[43mleft_on\u001b[49m\u001b[38;5;241;43m=\u001b[39;49m\u001b[43mleft_on\u001b[49m\u001b[43m,\u001b[49m\n\u001b[0;32m   2005\u001b[0m \u001b[43m    \u001b[49m\u001b[43mright_on\u001b[49m\u001b[38;5;241;43m=\u001b[39;49m\u001b[43mright_on\u001b[49m\u001b[43m,\u001b[49m\n\u001b[0;32m   2006\u001b[0m \u001b[43m    \u001b[49m\u001b[43mleft_index\u001b[49m\u001b[38;5;241;43m=\u001b[39;49m\u001b[43mleft_index\u001b[49m\u001b[43m,\u001b[49m\n\u001b[0;32m   2007\u001b[0m \u001b[43m    \u001b[49m\u001b[43mright_index\u001b[49m\u001b[38;5;241;43m=\u001b[39;49m\u001b[43mright_index\u001b[49m\u001b[43m,\u001b[49m\n\u001b[0;32m   2008\u001b[0m \u001b[43m    \u001b[49m\u001b[43mhow\u001b[49m\u001b[38;5;241;43m=\u001b[39;49m\u001b[43mhow\u001b[49m\u001b[43m,\u001b[49m\n\u001b[0;32m   2009\u001b[0m \u001b[43m    \u001b[49m\u001b[43msuffixes\u001b[49m\u001b[38;5;241;43m=\u001b[39;49m\u001b[43msuffixes\u001b[49m\u001b[43m,\u001b[49m\n\u001b[0;32m   2010\u001b[0m \u001b[43m    \u001b[49m\u001b[43mfill_method\u001b[49m\u001b[38;5;241;43m=\u001b[39;49m\u001b[38;5;28;43;01mNone\u001b[39;49;00m\u001b[43m,\u001b[49m\n\u001b[0;32m   2011\u001b[0m \u001b[43m\u001b[49m\u001b[43m)\u001b[49m\n",
      "File \u001b[1;32mc:\\Users\\Валерия\\OneDrive\\Документы\\GitHub\\prices-predictions\\myenv\\Lib\\site-packages\\pandas\\core\\reshape\\merge.py:1911\u001b[0m, in \u001b[0;36m_OrderedMerge.__init__\u001b[1;34m(self, left, right, on, left_on, right_on, left_index, right_index, suffixes, fill_method, how)\u001b[0m\n\u001b[0;32m   1897\u001b[0m \u001b[38;5;28;01mdef\u001b[39;00m \u001b[38;5;21m__init__\u001b[39m(\n\u001b[0;32m   1898\u001b[0m     \u001b[38;5;28mself\u001b[39m,\n\u001b[0;32m   1899\u001b[0m     left: DataFrame \u001b[38;5;241m|\u001b[39m Series,\n\u001b[1;32m   (...)\u001b[0m\n\u001b[0;32m   1908\u001b[0m     how: JoinHow \u001b[38;5;241m|\u001b[39m Literal[\u001b[38;5;124m\"\u001b[39m\u001b[38;5;124masof\u001b[39m\u001b[38;5;124m\"\u001b[39m] \u001b[38;5;241m=\u001b[39m \u001b[38;5;124m\"\u001b[39m\u001b[38;5;124mouter\u001b[39m\u001b[38;5;124m\"\u001b[39m,\n\u001b[0;32m   1909\u001b[0m ) \u001b[38;5;241m-\u001b[39m\u001b[38;5;241m>\u001b[39m \u001b[38;5;28;01mNone\u001b[39;00m:\n\u001b[0;32m   1910\u001b[0m     \u001b[38;5;28mself\u001b[39m\u001b[38;5;241m.\u001b[39mfill_method \u001b[38;5;241m=\u001b[39m fill_method\n\u001b[1;32m-> 1911\u001b[0m     \u001b[43m_MergeOperation\u001b[49m\u001b[38;5;241;43m.\u001b[39;49m\u001b[38;5;21;43m__init__\u001b[39;49m\u001b[43m(\u001b[49m\n\u001b[0;32m   1912\u001b[0m \u001b[43m        \u001b[49m\u001b[38;5;28;43mself\u001b[39;49m\u001b[43m,\u001b[49m\n\u001b[0;32m   1913\u001b[0m \u001b[43m        \u001b[49m\u001b[43mleft\u001b[49m\u001b[43m,\u001b[49m\n\u001b[0;32m   1914\u001b[0m \u001b[43m        \u001b[49m\u001b[43mright\u001b[49m\u001b[43m,\u001b[49m\n\u001b[0;32m   1915\u001b[0m \u001b[43m        \u001b[49m\u001b[43mon\u001b[49m\u001b[38;5;241;43m=\u001b[39;49m\u001b[43mon\u001b[49m\u001b[43m,\u001b[49m\n\u001b[0;32m   1916\u001b[0m \u001b[43m        \u001b[49m\u001b[43mleft_on\u001b[49m\u001b[38;5;241;43m=\u001b[39;49m\u001b[43mleft_on\u001b[49m\u001b[43m,\u001b[49m\n\u001b[0;32m   1917\u001b[0m \u001b[43m        \u001b[49m\u001b[43mleft_index\u001b[49m\u001b[38;5;241;43m=\u001b[39;49m\u001b[43mleft_index\u001b[49m\u001b[43m,\u001b[49m\n\u001b[0;32m   1918\u001b[0m \u001b[43m        \u001b[49m\u001b[43mright_index\u001b[49m\u001b[38;5;241;43m=\u001b[39;49m\u001b[43mright_index\u001b[49m\u001b[43m,\u001b[49m\n\u001b[0;32m   1919\u001b[0m \u001b[43m        \u001b[49m\u001b[43mright_on\u001b[49m\u001b[38;5;241;43m=\u001b[39;49m\u001b[43mright_on\u001b[49m\u001b[43m,\u001b[49m\n\u001b[0;32m   1920\u001b[0m \u001b[43m        \u001b[49m\u001b[43mhow\u001b[49m\u001b[38;5;241;43m=\u001b[39;49m\u001b[43mhow\u001b[49m\u001b[43m,\u001b[49m\n\u001b[0;32m   1921\u001b[0m \u001b[43m        \u001b[49m\u001b[43msuffixes\u001b[49m\u001b[38;5;241;43m=\u001b[39;49m\u001b[43msuffixes\u001b[49m\u001b[43m,\u001b[49m\n\u001b[0;32m   1922\u001b[0m \u001b[43m        \u001b[49m\u001b[43msort\u001b[49m\u001b[38;5;241;43m=\u001b[39;49m\u001b[38;5;28;43;01mTrue\u001b[39;49;00m\u001b[43m,\u001b[49m\u001b[43m  \u001b[49m\u001b[38;5;66;43;03m# factorize sorts\u001b[39;49;00m\n\u001b[0;32m   1923\u001b[0m \u001b[43m    \u001b[49m\u001b[43m)\u001b[49m\n",
      "File \u001b[1;32mc:\\Users\\Валерия\\OneDrive\\Документы\\GitHub\\prices-predictions\\myenv\\Lib\\site-packages\\pandas\\core\\reshape\\merge.py:786\u001b[0m, in \u001b[0;36m_MergeOperation.__init__\u001b[1;34m(self, left, right, how, on, left_on, right_on, left_index, right_index, sort, suffixes, indicator, validate)\u001b[0m\n\u001b[0;32m    779\u001b[0m     msg \u001b[38;5;241m=\u001b[39m (\n\u001b[0;32m    780\u001b[0m         \u001b[38;5;124m\"\u001b[39m\u001b[38;5;124mNot allowed to merge between different levels. \u001b[39m\u001b[38;5;124m\"\u001b[39m\n\u001b[0;32m    781\u001b[0m         \u001b[38;5;124mf\u001b[39m\u001b[38;5;124m\"\u001b[39m\u001b[38;5;124m(\u001b[39m\u001b[38;5;132;01m{\u001b[39;00m_left\u001b[38;5;241m.\u001b[39mcolumns\u001b[38;5;241m.\u001b[39mnlevels\u001b[38;5;132;01m}\u001b[39;00m\u001b[38;5;124m levels on the left, \u001b[39m\u001b[38;5;124m\"\u001b[39m\n\u001b[0;32m    782\u001b[0m         \u001b[38;5;124mf\u001b[39m\u001b[38;5;124m\"\u001b[39m\u001b[38;5;132;01m{\u001b[39;00m_right\u001b[38;5;241m.\u001b[39mcolumns\u001b[38;5;241m.\u001b[39mnlevels\u001b[38;5;132;01m}\u001b[39;00m\u001b[38;5;124m on the right)\u001b[39m\u001b[38;5;124m\"\u001b[39m\n\u001b[0;32m    783\u001b[0m     )\n\u001b[0;32m    784\u001b[0m     \u001b[38;5;28;01mraise\u001b[39;00m MergeError(msg)\n\u001b[1;32m--> 786\u001b[0m \u001b[38;5;28mself\u001b[39m\u001b[38;5;241m.\u001b[39mleft_on, \u001b[38;5;28mself\u001b[39m\u001b[38;5;241m.\u001b[39mright_on \u001b[38;5;241m=\u001b[39m \u001b[38;5;28;43mself\u001b[39;49m\u001b[38;5;241;43m.\u001b[39;49m\u001b[43m_validate_left_right_on\u001b[49m\u001b[43m(\u001b[49m\u001b[43mleft_on\u001b[49m\u001b[43m,\u001b[49m\u001b[43m \u001b[49m\u001b[43mright_on\u001b[49m\u001b[43m)\u001b[49m\n\u001b[0;32m    788\u001b[0m (\n\u001b[0;32m    789\u001b[0m     \u001b[38;5;28mself\u001b[39m\u001b[38;5;241m.\u001b[39mleft_join_keys,\n\u001b[0;32m    790\u001b[0m     \u001b[38;5;28mself\u001b[39m\u001b[38;5;241m.\u001b[39mright_join_keys,\n\u001b[1;32m   (...)\u001b[0m\n\u001b[0;32m    793\u001b[0m     right_drop,\n\u001b[0;32m    794\u001b[0m ) \u001b[38;5;241m=\u001b[39m \u001b[38;5;28mself\u001b[39m\u001b[38;5;241m.\u001b[39m_get_merge_keys()\n\u001b[0;32m    796\u001b[0m \u001b[38;5;28;01mif\u001b[39;00m left_drop:\n",
      "File \u001b[1;32mc:\\Users\\Валерия\\OneDrive\\Документы\\GitHub\\prices-predictions\\myenv\\Lib\\site-packages\\pandas\\core\\reshape\\merge.py:2072\u001b[0m, in \u001b[0;36m_AsOfMerge._validate_left_right_on\u001b[1;34m(self, left_on, right_on)\u001b[0m\n\u001b[0;32m   2064\u001b[0m     ro_dtype \u001b[38;5;241m=\u001b[39m \u001b[38;5;28mself\u001b[39m\u001b[38;5;241m.\u001b[39mright\u001b[38;5;241m.\u001b[39mindex\u001b[38;5;241m.\u001b[39mdtype\n\u001b[0;32m   2066\u001b[0m \u001b[38;5;28;01mif\u001b[39;00m (\n\u001b[0;32m   2067\u001b[0m     is_object_dtype(lo_dtype)\n\u001b[0;32m   2068\u001b[0m     \u001b[38;5;129;01mor\u001b[39;00m is_object_dtype(ro_dtype)\n\u001b[0;32m   2069\u001b[0m     \u001b[38;5;129;01mor\u001b[39;00m is_string_dtype(lo_dtype)\n\u001b[0;32m   2070\u001b[0m     \u001b[38;5;129;01mor\u001b[39;00m is_string_dtype(ro_dtype)\n\u001b[0;32m   2071\u001b[0m ):\n\u001b[1;32m-> 2072\u001b[0m     \u001b[38;5;28;01mraise\u001b[39;00m MergeError(\n\u001b[0;32m   2073\u001b[0m         \u001b[38;5;124mf\u001b[39m\u001b[38;5;124m\"\u001b[39m\u001b[38;5;124mIncompatible merge dtype, \u001b[39m\u001b[38;5;132;01m{\u001b[39;00m\u001b[38;5;28mrepr\u001b[39m(ro_dtype)\u001b[38;5;132;01m}\u001b[39;00m\u001b[38;5;124m and \u001b[39m\u001b[38;5;124m\"\u001b[39m\n\u001b[0;32m   2074\u001b[0m         \u001b[38;5;124mf\u001b[39m\u001b[38;5;124m\"\u001b[39m\u001b[38;5;132;01m{\u001b[39;00m\u001b[38;5;28mrepr\u001b[39m(lo_dtype)\u001b[38;5;132;01m}\u001b[39;00m\u001b[38;5;124m, both sides must have numeric dtype\u001b[39m\u001b[38;5;124m\"\u001b[39m\n\u001b[0;32m   2075\u001b[0m     )\n\u001b[0;32m   2077\u001b[0m \u001b[38;5;66;03m# add 'by' to our key-list so we can have it in the\u001b[39;00m\n\u001b[0;32m   2078\u001b[0m \u001b[38;5;66;03m# output as a key\u001b[39;00m\n\u001b[0;32m   2079\u001b[0m \u001b[38;5;28;01mif\u001b[39;00m \u001b[38;5;28mself\u001b[39m\u001b[38;5;241m.\u001b[39mleft_by \u001b[38;5;129;01mis\u001b[39;00m \u001b[38;5;129;01mnot\u001b[39;00m \u001b[38;5;28;01mNone\u001b[39;00m:\n",
      "\u001b[1;31mMergeError\u001b[0m: Incompatible merge dtype, dtype('O') and dtype('<M8[ns]'), both sides must have numeric dtype"
     ]
    }
   ],
   "source": [
    "trading = ['Sber', \"MTS\", \"Yandex\", \"VTB\", \"MMK\", \"Gazprom\"]\n",
    "\n",
    "dates = [dt.datetime(2024, 10, 25) + dt.timedelta(days=i, hours=2) for i in range(2, 3)]\n",
    "\n",
    "dfs = [\"../../datasets/\" + stock + \"_10_min.csv\" for stock in trading]\n",
    "\n",
    "args = {\"iterations\" : 3000, \n",
    "        \"depth\" : 5, \n",
    "        \"learning_rate\" : 0.01, \n",
    "        \"use_best_model\" : True, \n",
    "        \"verbose\": 0,\n",
    "        \"l2_leaf_reg\" : 200,\n",
    "        \"loss_function\" : 'Logloss', \n",
    "        \"eval_metric\" : 'Logloss', \n",
    "        \"cat_features\" : [], \n",
    "        \"class_weights\" : [1, 0.4],\n",
    "        \"random_state\" : 42,\n",
    "        \"early_stopping_rounds\" : 500}\n",
    "\n",
    "summ = 10000\n",
    "hist = []\n",
    "\n",
    "for date in dates:\n",
    "        backtest = Backtest(strategies=['long'], args=args, dfs=dfs, comissions=[0.0004])\n",
    "\n",
    "        custom_datasets_args = {'start_dt': date, \n",
    "                                'end_dt': dt.datetime(2024, 12, 1), \n",
    "                                'train_size': 3000, 'val_size': 500, \n",
    "                                'test_size': 500\n",
    "                                }\n",
    "        \n",
    "        new_m, new_hist = backtest.test_multistock(budget=summ, custom_datasets_args=custom_datasets_args, proba_limit=0.55, use_PCA=False)\n",
    "\n",
    "        summ += new_m\n",
    "        hist += new_hist \n",
    "\n",
    "print(summ)"
   ]
  },
  {
   "cell_type": "code",
   "execution_count": 20,
   "metadata": {},
   "outputs": [
    {
     "name": "stderr",
     "output_type": "stream",
     "text": [
      "2025-02-25 15:29:05,324 - INFO - Training long model starterd for stock - Sber\n",
      "2025-02-25 15:29:05,324 - INFO - Train dates: 2024-10-15 04:00:00 - 2024-11-04 05:30:00 | Valid dates: 2024-11-04 05:40:00 - 2024-11-09 08:10:00 | Test dates: 2024-11-09 08:20:00 - 2024-11-12 08:10:00\n",
      "2025-02-25 15:29:22,562 - INFO - Training long model ended with loss {'learn': {'Logloss': 0.4421620478695895}, 'validation': {'Logloss': 0.5752965862579954}}\n",
      "2025-02-25 15:29:34,727 - INFO - Training short model starterd for stock - Sber\n",
      "2025-02-25 15:29:34,729 - INFO - Train dates: 2024-10-15 04:00:00 - 2024-11-04 05:30:00 | Valid dates: 2024-11-04 05:40:00 - 2024-11-09 08:10:00 | Test dates: 2024-11-09 08:20:00 - 2024-11-12 08:10:00\n",
      "2025-02-25 15:29:51,292 - INFO - Training short model ended with loss {'learn': {'Logloss': 0.4586804338925722}, 'validation': {'Logloss': 0.515218389014524}}\n",
      "2025-02-25 15:29:57,936 - INFO - Training long model starterd for stock - MTS\n",
      "2025-02-25 15:29:57,937 - INFO - Train dates: 2024-10-15 04:00:00 - 2024-11-04 08:40:00 | Valid dates: 2024-11-04 08:50:00 - 2024-11-09 11:50:00 | Test dates: 2024-11-09 12:00:00 - 2024-11-12 12:20:00\n",
      "2025-02-25 15:30:20,102 - INFO - Training long model ended with loss {'learn': {'Logloss': 0.4100085084604159}, 'validation': {'Logloss': 0.5255465966529719}}\n",
      "2025-02-25 15:30:29,722 - INFO - Training short model starterd for stock - MTS\n",
      "2025-02-25 15:30:29,724 - INFO - Train dates: 2024-10-15 04:00:00 - 2024-11-04 08:40:00 | Valid dates: 2024-11-04 08:50:00 - 2024-11-09 11:50:00 | Test dates: 2024-11-09 12:00:00 - 2024-11-12 12:20:00\n",
      "2025-02-25 15:30:48,423 - INFO - Training short model ended with loss {'learn': {'Logloss': 0.43284539358179286}, 'validation': {'Logloss': 0.4822034670197301}}\n",
      "2025-02-25 15:30:58,841 - INFO - Training long model starterd for stock - Yandex\n",
      "2025-02-25 15:30:58,842 - INFO - Train dates: 2024-10-15 04:00:00 - 2024-11-04 05:50:00 | Valid dates: 2024-11-04 06:00:00 - 2024-11-09 08:30:00 | Test dates: 2024-11-09 08:40:00 - 2024-11-12 08:30:00\n"
     ]
    },
    {
     "ename": "KeyboardInterrupt",
     "evalue": "",
     "output_type": "error",
     "traceback": [
      "\u001b[1;31m---------------------------------------------------------------------------\u001b[0m",
      "\u001b[1;31mKeyboardInterrupt\u001b[0m                         Traceback (most recent call last)",
      "Cell \u001b[1;32mIn[20], line 44\u001b[0m\n\u001b[0;32m     36\u001b[0m backtest \u001b[38;5;241m=\u001b[39m Backtest(strategies\u001b[38;5;241m=\u001b[39m[\u001b[38;5;124m'\u001b[39m\u001b[38;5;124mlong-short\u001b[39m\u001b[38;5;124m'\u001b[39m], args\u001b[38;5;241m=\u001b[39margs, dfs\u001b[38;5;241m=\u001b[39mdfs, comissions\u001b[38;5;241m=\u001b[39m[\u001b[38;5;241m0.0004\u001b[39m])\n\u001b[0;32m     38\u001b[0m custom_datasets_args \u001b[38;5;241m=\u001b[39m {\u001b[38;5;124m'\u001b[39m\u001b[38;5;124mstart_dt\u001b[39m\u001b[38;5;124m'\u001b[39m: date, \n\u001b[0;32m     39\u001b[0m                         \u001b[38;5;124m'\u001b[39m\u001b[38;5;124mend_dt\u001b[39m\u001b[38;5;124m'\u001b[39m: dt\u001b[38;5;241m.\u001b[39mdatetime(\u001b[38;5;241m2024\u001b[39m, \u001b[38;5;241m12\u001b[39m, \u001b[38;5;241m1\u001b[39m), \n\u001b[0;32m     40\u001b[0m                         \u001b[38;5;124m'\u001b[39m\u001b[38;5;124mtrain_size\u001b[39m\u001b[38;5;124m'\u001b[39m: \u001b[38;5;241m2000\u001b[39m, \u001b[38;5;124m'\u001b[39m\u001b[38;5;124mval_size\u001b[39m\u001b[38;5;124m'\u001b[39m: \u001b[38;5;241m500\u001b[39m, \n\u001b[0;32m     41\u001b[0m                         \u001b[38;5;124m'\u001b[39m\u001b[38;5;124mtest_size\u001b[39m\u001b[38;5;124m'\u001b[39m: \u001b[38;5;241m300\u001b[39m\n\u001b[0;32m     42\u001b[0m                         }\n\u001b[1;32m---> 44\u001b[0m new_m, new_hist \u001b[38;5;241m=\u001b[39m \u001b[43mbacktest\u001b[49m\u001b[38;5;241;43m.\u001b[39;49m\u001b[43mtest_multistock\u001b[49m\u001b[43m(\u001b[49m\u001b[43mbudget\u001b[49m\u001b[38;5;241;43m=\u001b[39;49m\u001b[43msumm\u001b[49m\u001b[43m,\u001b[49m\u001b[43m \u001b[49m\u001b[43mcustom_datasets_args\u001b[49m\u001b[38;5;241;43m=\u001b[39;49m\u001b[43mcustom_datasets_args\u001b[49m\u001b[43m,\u001b[49m\u001b[43m \u001b[49m\u001b[43mproba_limit\u001b[49m\u001b[38;5;241;43m=\u001b[39;49m\u001b[38;5;241;43m0.55\u001b[39;49m\u001b[43m,\u001b[49m\u001b[43m \u001b[49m\u001b[43muse_PCA\u001b[49m\u001b[38;5;241;43m=\u001b[39;49m\u001b[38;5;28;43;01mTrue\u001b[39;49;00m\u001b[43m)\u001b[49m\n\u001b[0;32m     46\u001b[0m summ \u001b[38;5;241m+\u001b[39m\u001b[38;5;241m=\u001b[39m new_m\n\u001b[0;32m     47\u001b[0m hist \u001b[38;5;241m+\u001b[39m\u001b[38;5;241m=\u001b[39m new_hist \n",
      "File \u001b[1;32mc:\\Users\\Валерия\\OneDrive\\Документы\\GitHub\\prices-predictions\\examples\\lerochka\\../..\\backtests\\backtest.py:233\u001b[0m, in \u001b[0;36mBacktest.test_multistock\u001b[1;34m(self, budget, custom_datasets_args, proba_limit, use_PCA, add_model)\u001b[0m\n\u001b[0;32m    231\u001b[0m model_long\u001b[38;5;241m.\u001b[39mset_datasets(X_train, X_val, y_train, y_val)\n\u001b[0;32m    232\u001b[0m model_long\u001b[38;5;241m.\u001b[39mset_features(num, \u001b[38;5;28mself\u001b[39m\u001b[38;5;241m.\u001b[39mcat)\n\u001b[1;32m--> 233\u001b[0m \u001b[43mmodel_long\u001b[49m\u001b[38;5;241;43m.\u001b[39;49m\u001b[43mfit\u001b[49m\u001b[43m(\u001b[49m\u001b[43m)\u001b[49m\n\u001b[0;32m    234\u001b[0m logging\u001b[38;5;241m.\u001b[39minfo(\u001b[38;5;124mf\u001b[39m\u001b[38;5;124m\"\u001b[39m\u001b[38;5;124mTraining long model ended with loss \u001b[39m\u001b[38;5;132;01m{\u001b[39;00mmodel_long\u001b[38;5;241m.\u001b[39mmodel\u001b[38;5;241m.\u001b[39mbest_score_\u001b[38;5;132;01m}\u001b[39;00m\u001b[38;5;124m\"\u001b[39m)\n\u001b[0;32m    235\u001b[0m models_long\u001b[38;5;241m.\u001b[39mappend(model_long)\n",
      "File \u001b[1;32mc:\\Users\\Валерия\\OneDrive\\Документы\\GitHub\\prices-predictions\\examples\\lerochka\\../..\\model\\model.py:89\u001b[0m, in \u001b[0;36mCatboostFinModel.fit\u001b[1;34m(self, mod)\u001b[0m\n\u001b[0;32m     87\u001b[0m     \u001b[38;5;28mself\u001b[39m\u001b[38;5;241m.\u001b[39mX_val \u001b[38;5;241m=\u001b[39m \u001b[38;5;28mself\u001b[39m\u001b[38;5;241m.\u001b[39mX_val[\u001b[38;5;28mself\u001b[39m\u001b[38;5;241m.\u001b[39mnumeric \u001b[38;5;241m+\u001b[39m \u001b[38;5;28mself\u001b[39m\u001b[38;5;241m.\u001b[39mcat]\n\u001b[0;32m     88\u001b[0m     \u001b[38;5;28mself\u001b[39m\u001b[38;5;241m.\u001b[39mX_train \u001b[38;5;241m=\u001b[39m \u001b[38;5;28mself\u001b[39m\u001b[38;5;241m.\u001b[39mX_train[\u001b[38;5;28mself\u001b[39m\u001b[38;5;241m.\u001b[39mnumeric \u001b[38;5;241m+\u001b[39m \u001b[38;5;28mself\u001b[39m\u001b[38;5;241m.\u001b[39mcat]\n\u001b[1;32m---> 89\u001b[0m \u001b[38;5;28;43mself\u001b[39;49m\u001b[38;5;241;43m.\u001b[39;49m\u001b[43mmodel\u001b[49m\u001b[38;5;241;43m.\u001b[39;49m\u001b[43mfit\u001b[49m\u001b[43m(\u001b[49m\u001b[38;5;28;43mself\u001b[39;49m\u001b[38;5;241;43m.\u001b[39;49m\u001b[43mX_train\u001b[49m\u001b[43m,\u001b[49m\u001b[43m \u001b[49m\u001b[38;5;28;43mself\u001b[39;49m\u001b[38;5;241;43m.\u001b[39;49m\u001b[43my_train\u001b[49m\u001b[43m,\u001b[49m\u001b[43m \u001b[49m\u001b[43meval_set\u001b[49m\u001b[38;5;241;43m=\u001b[39;49m\u001b[43mPool\u001b[49m\u001b[43m(\u001b[49m\u001b[38;5;28;43mself\u001b[39;49m\u001b[38;5;241;43m.\u001b[39;49m\u001b[43mX_val\u001b[49m\u001b[43m,\u001b[49m\u001b[43m \u001b[49m\u001b[38;5;28;43mself\u001b[39;49m\u001b[38;5;241;43m.\u001b[39;49m\u001b[43my_val\u001b[49m\u001b[43m,\u001b[49m\u001b[43m \u001b[49m\u001b[43mcat_features\u001b[49m\u001b[43m \u001b[49m\u001b[38;5;241;43m=\u001b[39;49m\u001b[43m \u001b[49m\u001b[38;5;28;43mself\u001b[39;49m\u001b[38;5;241;43m.\u001b[39;49m\u001b[43mcat\u001b[49m\u001b[43m)\u001b[49m\u001b[43m,\u001b[49m\u001b[43m \u001b[49m\u001b[43mcat_features\u001b[49m\u001b[43m \u001b[49m\u001b[38;5;241;43m=\u001b[39;49m\u001b[43m \u001b[49m\u001b[38;5;28;43mself\u001b[39;49m\u001b[38;5;241;43m.\u001b[39;49m\u001b[43mcat\u001b[49m\u001b[43m)\u001b[49m\n\u001b[0;32m     90\u001b[0m \u001b[38;5;28;01mreturn\u001b[39;00m \u001b[38;5;28mself\u001b[39m\n",
      "File \u001b[1;32mc:\\Users\\Валерия\\OneDrive\\Документы\\GitHub\\prices-predictions\\myenv\\Lib\\site-packages\\catboost\\core.py:5245\u001b[0m, in \u001b[0;36mCatBoostClassifier.fit\u001b[1;34m(self, X, y, cat_features, text_features, embedding_features, graph, sample_weight, baseline, use_best_model, eval_set, verbose, logging_level, plot, plot_file, column_description, verbose_eval, metric_period, silent, early_stopping_rounds, save_snapshot, snapshot_file, snapshot_interval, init_model, callbacks, log_cout, log_cerr)\u001b[0m\n\u001b[0;32m   5242\u001b[0m \u001b[38;5;28;01mif\u001b[39;00m \u001b[38;5;124m'\u001b[39m\u001b[38;5;124mloss_function\u001b[39m\u001b[38;5;124m'\u001b[39m \u001b[38;5;129;01min\u001b[39;00m params:\n\u001b[0;32m   5243\u001b[0m     CatBoostClassifier\u001b[38;5;241m.\u001b[39m_check_is_compatible_loss(params[\u001b[38;5;124m'\u001b[39m\u001b[38;5;124mloss_function\u001b[39m\u001b[38;5;124m'\u001b[39m])\n\u001b[1;32m-> 5245\u001b[0m \u001b[38;5;28;43mself\u001b[39;49m\u001b[38;5;241;43m.\u001b[39;49m\u001b[43m_fit\u001b[49m\u001b[43m(\u001b[49m\u001b[43mX\u001b[49m\u001b[43m,\u001b[49m\u001b[43m \u001b[49m\u001b[43my\u001b[49m\u001b[43m,\u001b[49m\u001b[43m \u001b[49m\u001b[43mcat_features\u001b[49m\u001b[43m,\u001b[49m\u001b[43m \u001b[49m\u001b[43mtext_features\u001b[49m\u001b[43m,\u001b[49m\u001b[43m \u001b[49m\u001b[43membedding_features\u001b[49m\u001b[43m,\u001b[49m\u001b[43m \u001b[49m\u001b[38;5;28;43;01mNone\u001b[39;49;00m\u001b[43m,\u001b[49m\u001b[43m \u001b[49m\u001b[43mgraph\u001b[49m\u001b[43m,\u001b[49m\u001b[43m \u001b[49m\u001b[43msample_weight\u001b[49m\u001b[43m,\u001b[49m\u001b[43m \u001b[49m\u001b[38;5;28;43;01mNone\u001b[39;49;00m\u001b[43m,\u001b[49m\u001b[43m \u001b[49m\u001b[38;5;28;43;01mNone\u001b[39;49;00m\u001b[43m,\u001b[49m\u001b[43m \u001b[49m\u001b[38;5;28;43;01mNone\u001b[39;49;00m\u001b[43m,\u001b[49m\u001b[43m \u001b[49m\u001b[38;5;28;43;01mNone\u001b[39;49;00m\u001b[43m,\u001b[49m\u001b[43m \u001b[49m\u001b[43mbaseline\u001b[49m\u001b[43m,\u001b[49m\u001b[43m \u001b[49m\u001b[43muse_best_model\u001b[49m\u001b[43m,\u001b[49m\n\u001b[0;32m   5246\u001b[0m \u001b[43m          \u001b[49m\u001b[43meval_set\u001b[49m\u001b[43m,\u001b[49m\u001b[43m \u001b[49m\u001b[43mverbose\u001b[49m\u001b[43m,\u001b[49m\u001b[43m \u001b[49m\u001b[43mlogging_level\u001b[49m\u001b[43m,\u001b[49m\u001b[43m \u001b[49m\u001b[43mplot\u001b[49m\u001b[43m,\u001b[49m\u001b[43m \u001b[49m\u001b[43mplot_file\u001b[49m\u001b[43m,\u001b[49m\u001b[43m \u001b[49m\u001b[43mcolumn_description\u001b[49m\u001b[43m,\u001b[49m\u001b[43m \u001b[49m\u001b[43mverbose_eval\u001b[49m\u001b[43m,\u001b[49m\u001b[43m \u001b[49m\u001b[43mmetric_period\u001b[49m\u001b[43m,\u001b[49m\n\u001b[0;32m   5247\u001b[0m \u001b[43m          \u001b[49m\u001b[43msilent\u001b[49m\u001b[43m,\u001b[49m\u001b[43m \u001b[49m\u001b[43mearly_stopping_rounds\u001b[49m\u001b[43m,\u001b[49m\u001b[43m \u001b[49m\u001b[43msave_snapshot\u001b[49m\u001b[43m,\u001b[49m\u001b[43m \u001b[49m\u001b[43msnapshot_file\u001b[49m\u001b[43m,\u001b[49m\u001b[43m \u001b[49m\u001b[43msnapshot_interval\u001b[49m\u001b[43m,\u001b[49m\u001b[43m \u001b[49m\u001b[43minit_model\u001b[49m\u001b[43m,\u001b[49m\u001b[43m \u001b[49m\u001b[43mcallbacks\u001b[49m\u001b[43m,\u001b[49m\u001b[43m \u001b[49m\u001b[43mlog_cout\u001b[49m\u001b[43m,\u001b[49m\u001b[43m \u001b[49m\u001b[43mlog_cerr\u001b[49m\u001b[43m)\u001b[49m\n\u001b[0;32m   5248\u001b[0m \u001b[38;5;28;01mreturn\u001b[39;00m \u001b[38;5;28mself\u001b[39m\n",
      "File \u001b[1;32mc:\\Users\\Валерия\\OneDrive\\Документы\\GitHub\\prices-predictions\\myenv\\Lib\\site-packages\\catboost\\core.py:2410\u001b[0m, in \u001b[0;36mCatBoost._fit\u001b[1;34m(self, X, y, cat_features, text_features, embedding_features, pairs, graph, sample_weight, group_id, group_weight, subgroup_id, pairs_weight, baseline, use_best_model, eval_set, verbose, logging_level, plot, plot_file, column_description, verbose_eval, metric_period, silent, early_stopping_rounds, save_snapshot, snapshot_file, snapshot_interval, init_model, callbacks, log_cout, log_cerr)\u001b[0m\n\u001b[0;32m   2407\u001b[0m allow_clear_pool \u001b[38;5;241m=\u001b[39m train_params[\u001b[38;5;124m\"\u001b[39m\u001b[38;5;124mallow_clear_pool\u001b[39m\u001b[38;5;124m\"\u001b[39m]\n\u001b[0;32m   2409\u001b[0m \u001b[38;5;28;01mwith\u001b[39;00m plot_wrapper(plot, plot_file, \u001b[38;5;124m'\u001b[39m\u001b[38;5;124mTraining plots\u001b[39m\u001b[38;5;124m'\u001b[39m, [_get_train_dir(\u001b[38;5;28mself\u001b[39m\u001b[38;5;241m.\u001b[39mget_params())]):\n\u001b[1;32m-> 2410\u001b[0m     \u001b[38;5;28;43mself\u001b[39;49m\u001b[38;5;241;43m.\u001b[39;49m\u001b[43m_train\u001b[49m\u001b[43m(\u001b[49m\n\u001b[0;32m   2411\u001b[0m \u001b[43m        \u001b[49m\u001b[43mtrain_pool\u001b[49m\u001b[43m,\u001b[49m\n\u001b[0;32m   2412\u001b[0m \u001b[43m        \u001b[49m\u001b[43mtrain_params\u001b[49m\u001b[43m[\u001b[49m\u001b[38;5;124;43m\"\u001b[39;49m\u001b[38;5;124;43meval_sets\u001b[39;49m\u001b[38;5;124;43m\"\u001b[39;49m\u001b[43m]\u001b[49m\u001b[43m,\u001b[49m\n\u001b[0;32m   2413\u001b[0m \u001b[43m        \u001b[49m\u001b[43mparams\u001b[49m\u001b[43m,\u001b[49m\n\u001b[0;32m   2414\u001b[0m \u001b[43m        \u001b[49m\u001b[43mallow_clear_pool\u001b[49m\u001b[43m,\u001b[49m\n\u001b[0;32m   2415\u001b[0m \u001b[43m        \u001b[49m\u001b[43mtrain_params\u001b[49m\u001b[43m[\u001b[49m\u001b[38;5;124;43m\"\u001b[39;49m\u001b[38;5;124;43minit_model\u001b[39;49m\u001b[38;5;124;43m\"\u001b[39;49m\u001b[43m]\u001b[49m\n\u001b[0;32m   2416\u001b[0m \u001b[43m    \u001b[49m\u001b[43m)\u001b[49m\n\u001b[0;32m   2418\u001b[0m \u001b[38;5;66;03m# Have property feature_importance possibly set\u001b[39;00m\n\u001b[0;32m   2419\u001b[0m loss \u001b[38;5;241m=\u001b[39m \u001b[38;5;28mself\u001b[39m\u001b[38;5;241m.\u001b[39m_object\u001b[38;5;241m.\u001b[39m_get_loss_function_name()\n",
      "File \u001b[1;32mc:\\Users\\Валерия\\OneDrive\\Документы\\GitHub\\prices-predictions\\myenv\\Lib\\site-packages\\catboost\\core.py:1790\u001b[0m, in \u001b[0;36m_CatBoostBase._train\u001b[1;34m(self, train_pool, test_pool, params, allow_clear_pool, init_model)\u001b[0m\n\u001b[0;32m   1789\u001b[0m \u001b[38;5;28;01mdef\u001b[39;00m \u001b[38;5;21m_train\u001b[39m(\u001b[38;5;28mself\u001b[39m, train_pool, test_pool, params, allow_clear_pool, init_model):\n\u001b[1;32m-> 1790\u001b[0m     \u001b[38;5;28;43mself\u001b[39;49m\u001b[38;5;241;43m.\u001b[39;49m\u001b[43m_object\u001b[49m\u001b[38;5;241;43m.\u001b[39;49m\u001b[43m_train\u001b[49m\u001b[43m(\u001b[49m\u001b[43mtrain_pool\u001b[49m\u001b[43m,\u001b[49m\u001b[43m \u001b[49m\u001b[43mtest_pool\u001b[49m\u001b[43m,\u001b[49m\u001b[43m \u001b[49m\u001b[43mparams\u001b[49m\u001b[43m,\u001b[49m\u001b[43m \u001b[49m\u001b[43mallow_clear_pool\u001b[49m\u001b[43m,\u001b[49m\u001b[43m \u001b[49m\u001b[43minit_model\u001b[49m\u001b[38;5;241;43m.\u001b[39;49m\u001b[43m_object\u001b[49m\u001b[43m \u001b[49m\u001b[38;5;28;43;01mif\u001b[39;49;00m\u001b[43m \u001b[49m\u001b[43minit_model\u001b[49m\u001b[43m \u001b[49m\u001b[38;5;28;43;01melse\u001b[39;49;00m\u001b[43m \u001b[49m\u001b[38;5;28;43;01mNone\u001b[39;49;00m\u001b[43m)\u001b[49m\n\u001b[0;32m   1791\u001b[0m     \u001b[38;5;28mself\u001b[39m\u001b[38;5;241m.\u001b[39m_set_trained_model_attributes()\n",
      "File \u001b[1;32m_catboost.pyx:5017\u001b[0m, in \u001b[0;36m_catboost._CatBoost._train\u001b[1;34m()\u001b[0m\n",
      "File \u001b[1;32m_catboost.pyx:5066\u001b[0m, in \u001b[0;36m_catboost._CatBoost._train\u001b[1;34m()\u001b[0m\n",
      "\u001b[1;31mKeyboardInterrupt\u001b[0m: "
     ]
    }
   ],
   "source": [
    "trading = ['Sber', \"MTS\", \"Yandex\", \"VTB\", \"MMK\", \"Gazprom\"]\n",
    "\n",
    "dates = [dt.datetime(2024, 10, 15) + dt.timedelta(days=i, hours=2) for i in range(0, 15, 3)]\n",
    "\n",
    "dfs = [\"../../datasets/\" + stock + \"_10_min.csv\" for stock in trading]\n",
    "\n",
    "args = [{\"iterations\" : 3000, \n",
    "        \"depth\" : 5, \n",
    "        \"learning_rate\" : 0.01, \n",
    "        \"use_best_model\" : True, \n",
    "        \"l2_leaf_reg\" : 200,\n",
    "        \"loss_function\" : 'Logloss', \n",
    "        \"eval_metric\" : 'Logloss', \n",
    "        \"cat_features\" : [], \n",
    "        \"class_weights\" : [1, 0.35],\n",
    "        \"random_state\" : 42,\n",
    "        \"early_stopping_rounds\" : 500, \n",
    "        \"verbose\" : 0}, \n",
    "        {\"iterations\" : 3000, \n",
    "        \"depth\" : 5, \n",
    "        \"learning_rate\" : 0.01, \n",
    "        \"use_best_model\" : True, \n",
    "        \"l2_leaf_reg\" : 200,\n",
    "        \"loss_function\" : 'Logloss', \n",
    "        \"eval_metric\" : 'Logloss', \n",
    "        \"cat_features\" : [], \n",
    "        \"class_weights\" : [0.35, 1],\n",
    "        \"random_state\" : 42,\n",
    "        \"early_stopping_rounds\" : 500, \n",
    "        \"verbose\" : 0}]\n",
    "\n",
    "summ = 10000\n",
    "hist = []\n",
    "\n",
    "for date in dates:\n",
    "        backtest = Backtest(strategies=['long-short'], args=args, dfs=dfs, comissions=[0.0004])\n",
    "\n",
    "        custom_datasets_args = {'start_dt': date, \n",
    "                                'end_dt': dt.datetime(2024, 12, 1), \n",
    "                                'train_size': 2000, 'val_size': 500, \n",
    "                                'test_size': 300\n",
    "                                }\n",
    "        \n",
    "        new_m, new_hist = backtest.test_multistock(budget=summ, custom_datasets_args=custom_datasets_args, proba_limit=0.55, use_PCA=True)\n",
    "\n",
    "        summ += new_m\n",
    "        hist += new_hist \n",
    "\n",
    "print(summ)"
   ]
  },
  {
   "cell_type": "code",
   "execution_count": 105,
   "metadata": {},
   "outputs": [],
   "source": [
    "import numpy as np"
   ]
  },
  {
   "cell_type": "code",
   "execution_count": 106,
   "metadata": {},
   "outputs": [
    {
     "data": {
      "text/plain": [
       "array([[0, 1, 2],\n",
       "       [2, 1, 0],\n",
       "       [0, 1, 2]], dtype=int64)"
      ]
     },
     "execution_count": 106,
     "metadata": {},
     "output_type": "execute_result"
    }
   ],
   "source": [
    "np.argsort([(1, 2, 3), (3, 2, 1), (2, 3, 4)])"
   ]
  },
  {
   "cell_type": "code",
   "execution_count": 90,
   "metadata": {},
   "outputs": [
    {
     "data": {
      "text/plain": [
       "[<matplotlib.lines.Line2D at 0x2711383ce30>]"
      ]
     },
     "execution_count": 90,
     "metadata": {},
     "output_type": "execute_result"
    },
    {
     "data": {
      "image/png": "[encoded data removed]",
      "text/plain": [
       "<Figure size 640x480 with 1 Axes>"
      ]
     },
     "metadata": {},
     "output_type": "display_data"
    }
   ],
   "source": [
    "plt.plot(hist)"
   ]
  }
 ],
 "metadata": {
  "kernelspec": {
   "display_name": "myenv",
   "language": "python",
   "name": "python3"
  },
  "language_info": {
   "codemirror_mode": {
    "name": "ipython",
    "version": 3
   },
   "file_extension": ".py",
   "mimetype": "text/x-python",
   "name": "python",
   "nbconvert_exporter": "python",
   "pygments_lexer": "ipython3",
   "version": "3.12.6"
  }
 },
 "nbformat": 4,
 "nbformat_minor": 2
}
