{
 "cells": [
  {
   "cell_type": "code",
   "execution_count": 2,
   "metadata": {},
   "outputs": [],
   "source": [
    "%load_ext IPython.extensions.autoreload\n",
    "%autoreload 2\n",
    "\n",
    "import warnings\n",
    "warnings.filterwarnings('ignore')"
   ]
  },
  {
   "cell_type": "code",
   "execution_count": 3,
   "metadata": {},
   "outputs": [],
   "source": [
    "import sys\n",
    "sys.path.append('../..')\n",
    "from model import FinData\n",
    "from model import train_valid_split\n",
    "from model import CatboostFinModel\n",
    "from backtests import Backtest\n",
    "\n",
    "import matplotlib.pyplot as plt\n",
    "import seaborn as sns\n",
    "import datetime as dt"
   ]
  },
  {
   "cell_type": "code",
   "execution_count": null,
   "metadata": {},
   "outputs": [],
   "source": []
  },
  {
   "cell_type": "code",
   "execution_count": null,
   "metadata": {},
   "outputs": [
    {
     "name": "stderr",
     "output_type": "stream",
     "text": [
      "2025-02-23 20:41:05,561 - INFO - Training model starterd for stock - Sber\n",
      "2025-02-23 20:41:05,561 - INFO - Train dates: 2024-06-01 07:00:00 - 2024-07-07 15:10:00 | Valid dates: 2024-07-07 15:20:00 - 2024-07-13 16:20:00 | Test dates: 2024-07-13 16:30:00 - 2024-07-19 17:30:00\n"
     ]
    },
    {
     "name": "stdout",
     "output_type": "stream",
     "text": [
      "0:\tlearn: 0.6896377\ttest: 0.6899800\tbest: 0.6899800 (0)\ttotal: 73.4ms\tremaining: 3m 40s\n",
      "200:\tlearn: 0.5108091\ttest: 0.5425656\tbest: 0.5424436 (199)\ttotal: 5.95s\tremaining: 1m 22s\n",
      "400:\tlearn: 0.4824876\ttest: 0.5470654\tbest: 0.5416592 (211)\ttotal: 11.5s\tremaining: 1m 14s\n",
      "600:\tlearn: 0.4628968\ttest: 0.5588216\tbest: 0.5416592 (211)\ttotal: 16.6s\tremaining: 1m 6s\n",
      "Stopped by overfitting detector  (500 iterations wait)\n",
      "\n",
      "bestTest = 0.5416591957\n",
      "bestIteration = 211\n",
      "\n",
      "Shrink model to first 212 iterations.\n"
     ]
    },
    {
     "name": "stderr",
     "output_type": "stream",
     "text": [
      "2025-02-23 20:41:27,183 - INFO - Training model starterd for stock - MTS\n",
      "2025-02-23 20:41:27,183 - INFO - Train dates: 2024-06-01 07:00:00 - 2024-07-07 15:40:00 | Valid dates: 2024-07-07 15:50:00 - 2024-07-13 16:50:00 | Test dates: 2024-07-13 17:00:00 - 2024-07-19 18:00:00\n"
     ]
    },
    {
     "name": "stdout",
     "output_type": "stream",
     "text": [
      "0:\tlearn: 0.6890835\ttest: 0.6896318\tbest: 0.6896318 (0)\ttotal: 25.3ms\tremaining: 1m 15s\n",
      "200:\tlearn: 0.4898603\ttest: 0.5330053\tbest: 0.5330053 (200)\ttotal: 7.44s\tremaining: 1m 43s\n",
      "400:\tlearn: 0.4636850\ttest: 0.5302589\tbest: 0.5302521 (395)\ttotal: 13.4s\tremaining: 1m 27s\n",
      "600:\tlearn: 0.4459578\ttest: 0.5307899\tbest: 0.5301900 (406)\ttotal: 19.2s\tremaining: 1m 16s\n",
      "800:\tlearn: 0.4283386\ttest: 0.5329143\tbest: 0.5301900 (406)\ttotal: 25s\tremaining: 1m 8s\n",
      "Stopped by overfitting detector  (500 iterations wait)\n",
      "\n",
      "bestTest = 0.530190007\n",
      "bestIteration = 406\n",
      "\n",
      "Shrink model to first 407 iterations.\n"
     ]
    },
    {
     "name": "stderr",
     "output_type": "stream",
     "text": [
      "2025-02-23 20:41:57,617 - INFO - Training model starterd for stock - Gazprom\n",
      "2025-02-23 20:41:57,617 - INFO - Train dates: 2024-06-01 07:00:00 - 2024-07-07 15:00:00 | Valid dates: 2024-07-07 15:10:00 - 2024-07-13 16:10:00 | Test dates: 2024-07-13 16:20:00 - 2024-07-19 17:20:00\n"
     ]
    },
    {
     "name": "stdout",
     "output_type": "stream",
     "text": [
      "0:\tlearn: 0.6902334\ttest: 0.6904282\tbest: 0.6904282 (0)\ttotal: 30.7ms\tremaining: 1m 31s\n",
      "200:\tlearn: 0.5403874\ttest: 0.5714852\tbest: 0.5714852 (200)\ttotal: 5.62s\tremaining: 1m 18s\n",
      "400:\tlearn: 0.5139709\ttest: 0.5692286\tbest: 0.5687041 (371)\ttotal: 10.9s\tremaining: 1m 10s\n",
      "600:\tlearn: 0.4941031\ttest: 0.5721339\tbest: 0.5687041 (371)\ttotal: 16.2s\tremaining: 1m 4s\n",
      "800:\tlearn: 0.4741592\ttest: 0.5763441\tbest: 0.5687041 (371)\ttotal: 21.6s\tremaining: 59.3s\n",
      "Stopped by overfitting detector  (500 iterations wait)\n",
      "\n",
      "bestTest = 0.5687040655\n",
      "bestIteration = 371\n",
      "\n",
      "Shrink model to first 372 iterations.\n"
     ]
    },
    {
     "name": "stderr",
     "output_type": "stream",
     "text": [
      "2025-02-23 20:42:23,858 - INFO - Training model starterd for stock - Tatneft\n",
      "2025-02-23 20:42:23,858 - INFO - Train dates: 2024-06-01 07:00:00 - 2024-07-07 15:10:00 | Valid dates: 2024-07-07 15:20:00 - 2024-07-13 16:20:00 | Test dates: 2024-07-13 16:30:00 - 2024-07-19 17:30:00\n"
     ]
    },
    {
     "name": "stdout",
     "output_type": "stream",
     "text": [
      "0:\tlearn: 0.6896377\ttest: 0.6899800\tbest: 0.6899800 (0)\ttotal: 35.8ms\tremaining: 1m 47s\n",
      "200:\tlearn: 0.5108091\ttest: 0.5425656\tbest: 0.5424436 (199)\ttotal: 5.51s\tremaining: 1m 16s\n",
      "400:\tlearn: 0.4824876\ttest: 0.5470654\tbest: 0.5416592 (211)\ttotal: 10.8s\tremaining: 1m 9s\n",
      "600:\tlearn: 0.4628968\ttest: 0.5588216\tbest: 0.5416592 (211)\ttotal: 16s\tremaining: 1m 3s\n",
      "Stopped by overfitting detector  (500 iterations wait)\n",
      "\n",
      "bestTest = 0.5416591957\n",
      "bestIteration = 211\n",
      "\n",
      "Shrink model to first 212 iterations.\n"
     ]
    },
    {
     "name": "stderr",
     "output_type": "stream",
     "text": [
      "2025-02-23 20:42:45,343 - INFO - Training model starterd for stock - Mechel\n",
      "2025-02-23 20:42:45,343 - INFO - Train dates: 2024-06-01 07:00:00 - 2024-07-07 15:30:00 | Valid dates: 2024-07-07 15:40:00 - 2024-07-13 17:10:00 | Test dates: 2024-07-13 17:20:00 - 2024-07-19 18:30:00\n"
     ]
    },
    {
     "name": "stdout",
     "output_type": "stream",
     "text": [
      "0:\tlearn: 0.6902296\ttest: 0.6904974\tbest: 0.6904974 (0)\ttotal: 44.1ms\tremaining: 2m 12s\n",
      "200:\tlearn: 0.5339445\ttest: 0.5480140\tbest: 0.5480140 (200)\ttotal: 7.16s\tremaining: 1m 39s\n",
      "400:\tlearn: 0.5059983\ttest: 0.5422425\tbest: 0.5421872 (353)\ttotal: 14.1s\tremaining: 1m 31s\n",
      "600:\tlearn: 0.4841467\ttest: 0.5437000\tbest: 0.5413362 (422)\ttotal: 19.6s\tremaining: 1m 18s\n",
      "800:\tlearn: 0.4645192\ttest: 0.5489645\tbest: 0.5413362 (422)\ttotal: 24.6s\tremaining: 1m 7s\n",
      "Stopped by overfitting detector  (500 iterations wait)\n",
      "\n",
      "bestTest = 0.5413361666\n",
      "bestIteration = 422\n",
      "\n",
      "Shrink model to first 423 iterations.\n"
     ]
    },
    {
     "name": "stderr",
     "output_type": "stream",
     "text": [
      "2025-02-23 20:43:15,366 - INFO - Training model starterd for stock - Novatek\n",
      "2025-02-23 20:43:15,366 - INFO - Train dates: 2024-06-01 07:00:00 - 2024-07-07 15:10:00 | Valid dates: 2024-07-07 15:20:00 - 2024-07-13 16:20:00 | Test dates: 2024-07-13 16:30:00 - 2024-07-19 17:30:00\n"
     ]
    },
    {
     "name": "stdout",
     "output_type": "stream",
     "text": [
      "0:\tlearn: 0.6898532\ttest: 0.6898782\tbest: 0.6898782 (0)\ttotal: 26.9ms\tremaining: 1m 20s\n",
      "200:\tlearn: 0.5223278\ttest: 0.5255868\tbest: 0.5255868 (200)\ttotal: 5.74s\tremaining: 1m 19s\n",
      "400:\tlearn: 0.4963406\ttest: 0.5214570\tbest: 0.5205649 (380)\ttotal: 11.2s\tremaining: 1m 12s\n"
     ]
    }
   ],
   "source": [
    "trading = ['Sber', \"MTS\", \"Gazprom\", \"Tatneft\", \"Mechel\", \"Novatek\", \n",
    "           \"VK\", \"NLMK\", \"MOEX\", \"Bashneft\", \"Lukoil\", \"MMK\", \"Nornickel\"]\n",
    "\n",
    "dfs = [\"../../datasets/\" + stock + \"_10_min.csv\" for stock in trading]\n",
    "\n",
    "args = {\"iterations\" : 3000, \n",
    "        \"depth\" : 5, \n",
    "        \"learning_rate\" : 0.01, \n",
    "        \"use_best_model\" : True, \n",
    "        \"verbose\": 200,\n",
    "        \"l2_leaf_reg\" : 3,\n",
    "        \"loss_function\" : 'Logloss', \n",
    "        \"eval_metric\" : 'Logloss', \n",
    "        \"cat_features\" : [], \n",
    "        \"class_weights\" : [1, 0.4],\n",
    "        \"random_state\" : 42,\n",
    "        \"early_stopping_rounds\" : 500}\n",
    "backtest = Backtest(strategies=['long'], args=args, dfs=dfs, comissions=[0.0004])\n",
    "\n",
    "custom_datasets_args = {'start_dt': dt.datetime(2024, 6, 1), \n",
    "                        'end_dt': dt.datetime(2024, 12, 1), \n",
    "                        'train_size': 3000, 'val_size': 500, \n",
    "                        'test_size': 500\n",
    "                        }\n",
    "sm = backtest.test_multistock(budget=10000, custom_datasets_args=custom_datasets_args, proba_limit=0.53)"
   ]
  },
  {
   "cell_type": "code",
   "execution_count": null,
   "metadata": {},
   "outputs": [],
   "source": [
    "plt.plot(sm[0])"
   ]
  }
 ],
 "metadata": {
  "kernelspec": {
   "display_name": "myenv",
   "language": "python",
   "name": "python3"
  },
  "language_info": {
   "codemirror_mode": {
    "name": "ipython",
    "version": 3
   },
   "file_extension": ".py",
   "mimetype": "text/x-python",
   "name": "python",
   "nbconvert_exporter": "python",
   "pygments_lexer": "ipython3",
   "version": "3.12.6"
  }
 },
 "nbformat": 4,
 "nbformat_minor": 2
}
