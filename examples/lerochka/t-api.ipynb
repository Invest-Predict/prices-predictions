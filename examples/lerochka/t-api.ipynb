{
 "cells": [
  {
   "cell_type": "code",
   "execution_count": 2,
   "metadata": {},
   "outputs": [],
   "source": [
    "from dotenv import load_dotenv\n",
    "import os\n",
    "\n",
    "load_dotenv()\n",
    "ttoken = os.getenv(\"T_TOKEN\")"
   ]
  },
  {
   "cell_type": "code",
   "execution_count": 3,
   "metadata": {},
   "outputs": [
    {
     "name": "stdout",
     "output_type": "stream",
     "text": [
      "GetAccountsResponse(accounts=[Account(id='baa1dc59-6ac3-4e29-bddf-6b006765e6ae', type=<AccountType.ACCOUNT_TYPE_TINKOFF: 1>, name='lerochka', status=<AccountStatus.ACCOUNT_STATUS_OPEN: 2>, opened_date=datetime.datetime(2025, 2, 10, 10, 52, 55, 389336, tzinfo=datetime.timezone.utc), closed_date=datetime.datetime(1970, 1, 1, 0, 0, tzinfo=datetime.timezone.utc), access_level=<AccessLevel.ACCOUNT_ACCESS_LEVEL_FULL_ACCESS: 1>), Account(id='2440449a-9ae9-4d0c-abb8-7309813b6504', type=<AccountType.ACCOUNT_TYPE_TINKOFF: 1>, name='lerochka', status=<AccountStatus.ACCOUNT_STATUS_OPEN: 2>, opened_date=datetime.datetime(2025, 2, 10, 11, 38, 16, 38469, tzinfo=datetime.timezone.utc), closed_date=datetime.datetime(1970, 1, 1, 0, 0, tzinfo=datetime.timezone.utc), access_level=<AccessLevel.ACCOUNT_ACCESS_LEVEL_FULL_ACCESS: 1>), Account(id='069a9f04-d0c9-42ff-8a43-ef84274e043d', type=<AccountType.ACCOUNT_TYPE_TINKOFF: 1>, name='lerochka', status=<AccountStatus.ACCOUNT_STATUS_OPEN: 2>, opened_date=datetime.datetime(2025, 2, 10, 11, 56, 19, 866189, tzinfo=datetime.timezone.utc), closed_date=datetime.datetime(1970, 1, 1, 0, 0, tzinfo=datetime.timezone.utc), access_level=<AccessLevel.ACCOUNT_ACCESS_LEVEL_FULL_ACCESS: 1>), Account(id='ce94d933-3856-454e-8921-96c360a1b1cc', type=<AccountType.ACCOUNT_TYPE_TINKOFF: 1>, name='lerochka', status=<AccountStatus.ACCOUNT_STATUS_OPEN: 2>, opened_date=datetime.datetime(2025, 2, 10, 16, 10, 38, 830358, tzinfo=datetime.timezone.utc), closed_date=datetime.datetime(1970, 1, 1, 0, 0, tzinfo=datetime.timezone.utc), access_level=<AccessLevel.ACCOUNT_ACCESS_LEVEL_FULL_ACCESS: 1>), Account(id='418588cc-2bae-4cfe-b244-52748a913a39', type=<AccountType.ACCOUNT_TYPE_TINKOFF: 1>, name='lerochka', status=<AccountStatus.ACCOUNT_STATUS_OPEN: 2>, opened_date=datetime.datetime(2025, 2, 10, 16, 14, 20, 112758, tzinfo=datetime.timezone.utc), closed_date=datetime.datetime(1970, 1, 1, 0, 0, tzinfo=datetime.timezone.utc), access_level=<AccessLevel.ACCOUNT_ACCESS_LEVEL_FULL_ACCESS: 1>), Account(id='f804d2af-6a87-44ba-b0de-a8467af5b72d', type=<AccountType.ACCOUNT_TYPE_TINKOFF: 1>, name='lerochka', status=<AccountStatus.ACCOUNT_STATUS_OPEN: 2>, opened_date=datetime.datetime(2025, 2, 10, 16, 35, 32, 214101, tzinfo=datetime.timezone.utc), closed_date=datetime.datetime(1970, 1, 1, 0, 0, tzinfo=datetime.timezone.utc), access_level=<AccessLevel.ACCOUNT_ACCESS_LEVEL_FULL_ACCESS: 1>)])\n"
     ]
    }
   ],
   "source": [
    "from tinkoff.invest import GetMaxLotsRequest, FindInstrumentRequest\n",
    "from tinkoff.invest.sandbox.async_client import AsyncSandboxClient\n",
    "from tinkoff.invest.sandbox.client import SandboxClient\n",
    "from datetime import timedelta\n",
    "\n",
    "from tinkoff.invest import CandleInterval\n",
    "from tinkoff.invest.schemas import CandleSource\n",
    "from tinkoff.invest.utils import now\n",
    "\n",
    "TOKEN = ttoken\n",
    "\n",
    "with SandboxClient(TOKEN) as client:\n",
    "        print(client.users.get_accounts())"
   ]
  },
  {
   "cell_type": "code",
   "execution_count": null,
   "metadata": {},
   "outputs": [
    {
     "name": "stderr",
     "output_type": "stream",
     "text": [
      "2025-02-10 19:07:02,040 - INFO - 4fefdbec1e4d4a1819231e83d0c05d55 FindInstrument\n"
     ]
    },
    {
     "name": "stdout",
     "output_type": "stream",
     "text": [
      "InstrumentShort(isin='RU000A1025U5', figi='BBG00XR1B5V7', ticker='RU000A1025U5', class_code='TQCB', instrument_type='bond', name='Сбер Банк 001Р-SBER17', uid='f6f3414f-848a-4132-9ae6-2775dff48429', position_uid='b2d0709e-bde2-41de-b3f1-72fe477668e7', instrument_kind=<InstrumentType.INSTRUMENT_TYPE_BOND: 1>, api_trade_available_flag=False, for_iis_flag=False, first_1min_candle_date=datetime.datetime(1970, 1, 1, 0, 0, tzinfo=datetime.timezone.utc), first_1day_candle_date=datetime.datetime(1970, 1, 1, 0, 0, tzinfo=datetime.timezone.utc), for_qual_investor_flag=False, weekend_flag=False, blocked_tca_flag=False, lot=1)\n",
      "InstrumentShort(isin='RU000A102CU4', figi='BBG00Y9B45C2', ticker='RU000A102CU4', class_code='TQCB', instrument_type='bond', name='Сбер Банк 001P-SBER19', uid='89b82b03-3008-4616-b8fc-8b87095afd20', position_uid='9a68e631-28b5-4151-9e75-8f9b46034113', instrument_kind=<InstrumentType.INSTRUMENT_TYPE_BOND: 1>, api_trade_available_flag=False, for_iis_flag=False, first_1min_candle_date=datetime.datetime(1970, 1, 1, 0, 0, tzinfo=datetime.timezone.utc), first_1day_candle_date=datetime.datetime(1970, 1, 1, 0, 0, tzinfo=datetime.timezone.utc), for_qual_investor_flag=False, weekend_flag=False, blocked_tca_flag=False, lot=1)\n",
      "InstrumentShort(isin='RU0009029540', figi='TCS109029540', ticker='SBER', class_code='SPEQ', instrument_type='share', name='Сбер Банк', uid='5c0ad78f-7188-4846-bdaf-dd1bfd0f0547', position_uid='41eb2102-5333-4713-bf15-72b204c4bf7b', instrument_kind=<InstrumentType.INSTRUMENT_TYPE_SHARE: 2>, api_trade_available_flag=False, for_iis_flag=True, first_1min_candle_date=datetime.datetime(2018, 3, 16, 12, 31, tzinfo=datetime.timezone.utc), first_1day_candle_date=datetime.datetime(2018, 3, 16, 7, 0, tzinfo=datetime.timezone.utc), for_qual_investor_flag=False, weekend_flag=True, blocked_tca_flag=False, lot=1)\n",
      "InstrumentShort(isin='RU000A109X37', figi='TCS50A109X37', ticker='RU000A109X37', class_code='A36', instrument_type='bond', name='Сбербанк ПАО 001Р-SBERD3', uid='7b326a24-9f3d-4247-bc16-41479368775c', position_uid='59b33ecb-0cb4-4d66-9ebe-721637ea4593', instrument_kind=<InstrumentType.INSTRUMENT_TYPE_BOND: 1>, api_trade_available_flag=False, for_iis_flag=True, first_1min_candle_date=datetime.datetime(1970, 1, 1, 0, 0, tzinfo=datetime.timezone.utc), first_1day_candle_date=datetime.datetime(1970, 1, 1, 0, 0, tzinfo=datetime.timezone.utc), for_qual_investor_flag=False, weekend_flag=False, blocked_tca_flag=False, lot=1)\n",
      "InstrumentShort(isin='RU000A109X37', figi='TCS00A109X37', ticker='RU000A109X37', class_code='TQCB', instrument_type='bond', name='Сбербанк ПАО 001Р-SBERD3', uid='973a3bcc-32f9-488f-8b17-68c03581198d', position_uid='07331dca-7c1e-48b5-b0e9-c9c27cdb0f46', instrument_kind=<InstrumentType.INSTRUMENT_TYPE_BOND: 1>, api_trade_available_flag=True, for_iis_flag=True, first_1min_candle_date=datetime.datetime(2024, 11, 11, 13, 8, tzinfo=datetime.timezone.utc), first_1day_candle_date=datetime.datetime(2024, 11, 11, 0, 0, tzinfo=datetime.timezone.utc), for_qual_investor_flag=False, weekend_flag=False, blocked_tca_flag=False, lot=1)\n",
      "InstrumentShort(isin='RU0009029540', figi='TCS009029540', ticker='SBER', class_code='SMAL', instrument_type='share', name='Сбер Банк', uid='a78b8349-a1dc-447d-9277-1d75826d089a', position_uid='41eb2102-5333-4713-bf15-72b204c4bf7b', instrument_kind=<InstrumentType.INSTRUMENT_TYPE_SHARE: 2>, api_trade_available_flag=False, for_iis_flag=True, first_1min_candle_date=datetime.datetime(2018, 3, 8, 5, 16, tzinfo=datetime.timezone.utc), first_1day_candle_date=datetime.datetime(2018, 3, 13, 7, 0, tzinfo=datetime.timezone.utc), for_qual_investor_flag=False, weekend_flag=True, blocked_tca_flag=False, lot=1)\n",
      "InstrumentShort(isin='RU000A102YG7', figi='TCS801802YG7', ticker='RU000A102YG7', class_code='A36', instrument_type='bond', name='Сбер Банк 001P-SBER25', uid='47208699-52f4-4772-87c6-f091aaf83113', position_uid='47e88708-23f8-43ff-a118-20e878d91eed', instrument_kind=<InstrumentType.INSTRUMENT_TYPE_BOND: 1>, api_trade_available_flag=False, for_iis_flag=False, first_1min_candle_date=datetime.datetime(1970, 1, 1, 0, 0, tzinfo=datetime.timezone.utc), first_1day_candle_date=datetime.datetime(1970, 1, 1, 0, 0, tzinfo=datetime.timezone.utc), for_qual_investor_flag=False, weekend_flag=False, blocked_tca_flag=False, lot=1)\n",
      "InstrumentShort(isin='', figi='FUTSBERF0000', ticker='SBERF', class_code='SPBFUT', instrument_type='futures', name='SBERF Сбер Банк (обыкновенные)', uid='9e9c5921-43ac-47a8-b537-ccf32ebc6da3', position_uid='20cf3f42-c445-48c0-ba90-ab1034df1a8b', instrument_kind=<InstrumentType.INSTRUMENT_TYPE_FUTURES: 5>, api_trade_available_flag=True, for_iis_flag=True, first_1min_candle_date=datetime.datetime(2024, 10, 1, 7, 4, tzinfo=datetime.timezone.utc), first_1day_candle_date=datetime.datetime(2024, 10, 1, 0, 0, tzinfo=datetime.timezone.utc), for_qual_investor_flag=False, weekend_flag=False, blocked_tca_flag=False, lot=1)\n",
      "InstrumentShort(isin='RU0009029557', figi='TCS109029557', ticker='SBERP', class_code='SPEQ', instrument_type='share', name='Сбер Банк - привилегированные акции', uid='64c0da45-4c90-41d4-b053-0c66c7a8ddcd', position_uid='9cf9718d-50df-4326-a205-cf306933607e', instrument_kind=<InstrumentType.INSTRUMENT_TYPE_SHARE: 2>, api_trade_available_flag=False, for_iis_flag=True, first_1min_candle_date=datetime.datetime(2018, 3, 16, 12, 31, tzinfo=datetime.timezone.utc), first_1day_candle_date=datetime.datetime(2018, 3, 16, 7, 0, tzinfo=datetime.timezone.utc), for_qual_investor_flag=False, weekend_flag=True, blocked_tca_flag=False, lot=1)\n",
      "InstrumentShort(isin='RU000A105SD9', figi='TCS00A105SD9', ticker='RU000A105SD9', class_code='TQCB', instrument_type='bond', name='Сбер Банк 001P-SBER42', uid='3b6b5432-3513-42e0-bcd3-345dc6d06dbb', position_uid='ba0496b6-44de-43f0-9726-e77bc3003e5c', instrument_kind=<InstrumentType.INSTRUMENT_TYPE_BOND: 1>, api_trade_available_flag=True, for_iis_flag=True, first_1min_candle_date=datetime.datetime(2023, 2, 3, 13, 3, tzinfo=datetime.timezone.utc), first_1day_candle_date=datetime.datetime(2023, 2, 3, 7, 0, tzinfo=datetime.timezone.utc), for_qual_investor_flag=False, weekend_flag=False, blocked_tca_flag=False, lot=1)\n",
      "InstrumentShort(isin='RU000A1069P3', figi='TCS00A1069P3', ticker='RU000A1069P3', class_code='TQCB', instrument_type='bond', name='Сбербанк 2P-SBER44', uid='cf331b84-b924-48f3-8878-4643047d5946', position_uid='15044774-37b5-45cc-a256-fc3645d29f53', instrument_kind=<InstrumentType.INSTRUMENT_TYPE_BOND: 1>, api_trade_available_flag=True, for_iis_flag=True, first_1min_candle_date=datetime.datetime(2023, 5, 31, 13, 2, tzinfo=datetime.timezone.utc), first_1day_candle_date=datetime.datetime(2023, 5, 31, 7, 0, tzinfo=datetime.timezone.utc), for_qual_investor_flag=False, weekend_flag=False, blocked_tca_flag=False, lot=1)\n",
      "InstrumentShort(isin='US80585Y3080', figi='BBG001VBZR00', ticker='SBER@GS', class_code='SPBXM', instrument_type='share', name='Sberbank of Russia PJSC', uid='0b93c578-02dd-4de6-9c79-49d9f3bf0e60', position_uid='2588b56c-3beb-4ff1-b970-8905bb58f20c', instrument_kind=<InstrumentType.INSTRUMENT_TYPE_SHARE: 2>, api_trade_available_flag=False, for_iis_flag=False, first_1min_candle_date=datetime.datetime(2021, 4, 22, 7, 0, tzinfo=datetime.timezone.utc), first_1day_candle_date=datetime.datetime(2021, 4, 22, 7, 0, tzinfo=datetime.timezone.utc), for_qual_investor_flag=False, weekend_flag=False, blocked_tca_flag=False, lot=1)\n",
      "InstrumentShort(isin='RU000A102YG7', figi='BBG0104NZHS7', ticker='RU000A102YG7', class_code='TQCB', instrument_type='bond', name='Сбер Банк 001P-SBER25', uid='acb183eb-5837-42d7-bc90-005ad2f66536', position_uid='077fbe2c-70ee-4591-850b-4ee736e27697', instrument_kind=<InstrumentType.INSTRUMENT_TYPE_BOND: 1>, api_trade_available_flag=True, for_iis_flag=True, first_1min_candle_date=datetime.datetime(2021, 4, 15, 12, 20, tzinfo=datetime.timezone.utc), first_1day_candle_date=datetime.datetime(2021, 4, 15, 7, 0, tzinfo=datetime.timezone.utc), for_qual_investor_flag=False, weekend_flag=False, blocked_tca_flag=False, lot=1)\n",
      "InstrumentShort(isin='RU000A103G75', figi='BBG0122KNFZ0', ticker='RU000A103G75', class_code='TQCB', instrument_type='bond', name='Сбер Банк 001P-SBER32', uid='7f2e6c92-822c-4ef3-982f-194c12d9c17d', position_uid='a399c9ef-5443-4ddd-bbf3-b207842267b2', instrument_kind=<InstrumentType.INSTRUMENT_TYPE_BOND: 1>, api_trade_available_flag=False, for_iis_flag=True, first_1min_candle_date=datetime.datetime(1970, 1, 1, 0, 0, tzinfo=datetime.timezone.utc), first_1day_candle_date=datetime.datetime(1970, 1, 1, 0, 0, tzinfo=datetime.timezone.utc), for_qual_investor_flag=False, weekend_flag=False, blocked_tca_flag=False, lot=1)\n",
      "InstrumentShort(isin='RU0009029540', figi='BBG004730N88', ticker='SBER', class_code='TQBR', instrument_type='share', name='Сбер Банк', uid='e6123145-9665-43e0-8413-cd61b8aa9b13', position_uid='41eb2102-5333-4713-bf15-72b204c4bf7b', instrument_kind=<InstrumentType.INSTRUMENT_TYPE_SHARE: 2>, api_trade_available_flag=True, for_iis_flag=True, first_1min_candle_date=datetime.datetime(2018, 3, 7, 18, 33, tzinfo=datetime.timezone.utc), first_1day_candle_date=datetime.datetime(2000, 1, 4, 7, 0, tzinfo=datetime.timezone.utc), for_qual_investor_flag=False, weekend_flag=True, blocked_tca_flag=False, lot=10)\n",
      "InstrumentShort(isin='RU000A102RQ0', figi='BBG011K09FF4', ticker='RU000A102RQ0', class_code='TQCB', instrument_type='bond', name='Сбер Банк 001Р-SBER22', uid='ecc38ecd-7bf8-4b10-972d-bea6d0a45bfc', position_uid='af78aed4-c603-4ac3-880d-476437d17970', instrument_kind=<InstrumentType.INSTRUMENT_TYPE_BOND: 1>, api_trade_available_flag=False, for_iis_flag=True, first_1min_candle_date=datetime.datetime(1970, 1, 1, 0, 0, tzinfo=datetime.timezone.utc), first_1day_candle_date=datetime.datetime(1970, 1, 1, 0, 0, tzinfo=datetime.timezone.utc), for_qual_investor_flag=False, weekend_flag=False, blocked_tca_flag=False, lot=1)\n",
      "InstrumentShort(isin='RU000A102RS6', figi='BBG00ZZ927H8', ticker='RU000A102RS6', class_code='TQCB', instrument_type='bond', name='Сбер Банк 001P-SBER24', uid='1378168c-777c-49c6-8179-80f751f425a2', position_uid='d66c3097-4eed-431f-878a-67b8b3838d60', instrument_kind=<InstrumentType.INSTRUMENT_TYPE_BOND: 1>, api_trade_available_flag=False, for_iis_flag=False, first_1min_candle_date=datetime.datetime(1970, 1, 1, 0, 0, tzinfo=datetime.timezone.utc), first_1day_candle_date=datetime.datetime(1970, 1, 1, 0, 0, tzinfo=datetime.timezone.utc), for_qual_investor_flag=False, weekend_flag=False, blocked_tca_flag=False, lot=1)\n",
      "InstrumentShort(isin='RU0009029557', figi='BBG0047315Y7', ticker='SBERP', class_code='TQBR', instrument_type='share', name='Сбер Банк - привилегированные акции', uid='c190ff1f-1447-4227-b543-316332699ca5', position_uid='9cf9718d-50df-4326-a205-cf306933607e', instrument_kind=<InstrumentType.INSTRUMENT_TYPE_SHARE: 2>, api_trade_available_flag=True, for_iis_flag=True, first_1min_candle_date=datetime.datetime(2018, 3, 7, 18, 33, tzinfo=datetime.timezone.utc), first_1day_candle_date=datetime.datetime(2000, 1, 4, 7, 0, tzinfo=datetime.timezone.utc), for_qual_investor_flag=False, weekend_flag=True, blocked_tca_flag=False, lot=10)\n",
      "InstrumentShort(isin='RU000A101C89', figi='BBG00RKBQ4D2', ticker='RU000A101C89', class_code='TQCB', instrument_type='bond', name='Сбер Банк 001P-SBER15', uid='c6bcc9c0-aca0-4c0d-b0e4-0f7fece89b3a', position_uid='abcd110d-fdc3-4671-a793-9e9bdfe1aa2d', instrument_kind=<InstrumentType.INSTRUMENT_TYPE_BOND: 1>, api_trade_available_flag=False, for_iis_flag=True, first_1min_candle_date=datetime.datetime(1970, 1, 1, 0, 0, tzinfo=datetime.timezone.utc), first_1day_candle_date=datetime.datetime(1970, 1, 1, 0, 0, tzinfo=datetime.timezone.utc), for_qual_investor_flag=False, weekend_flag=False, blocked_tca_flag=False, lot=1)\n",
      "InstrumentShort(isin='XS0935311240', figi='BBG004JVKZ11', ticker='XS0935311240', class_code='XS0935311240', instrument_type='bond', name='Sberbank', uid='30549475-e086-4c62-a6bc-6eb4d59572f1', position_uid='d418b2d5-4ca4-4b08-a5ce-687659611d78', instrument_kind=<InstrumentType.INSTRUMENT_TYPE_BOND: 1>, api_trade_available_flag=False, for_iis_flag=False, first_1min_candle_date=datetime.datetime(1970, 1, 1, 0, 0, tzinfo=datetime.timezone.utc), first_1day_candle_date=datetime.datetime(1970, 1, 1, 0, 0, tzinfo=datetime.timezone.utc), for_qual_investor_flag=True, weekend_flag=False, blocked_tca_flag=False, lot=1)\n",
      "InstrumentShort(isin='RU0009029557', figi='TCS009029557', ticker='SBERP', class_code='SMAL', instrument_type='share', name='Сбер Банк - привилегированные акции', uid='16e54a78-35b3-41f5-83e2-0cecb2b53e5c', position_uid='9cf9718d-50df-4326-a205-cf306933607e', instrument_kind=<InstrumentType.INSTRUMENT_TYPE_SHARE: 2>, api_trade_available_flag=False, for_iis_flag=True, first_1min_candle_date=datetime.datetime(2018, 3, 8, 4, 3, tzinfo=datetime.timezone.utc), first_1day_candle_date=datetime.datetime(2018, 3, 13, 7, 0, tzinfo=datetime.timezone.utc), for_qual_investor_flag=False, weekend_flag=True, blocked_tca_flag=False, lot=1)\n"
     ]
    }
   ],
   "source": [
    "with SandboxClient(TOKEN) as client:\n",
    "        \n",
    "        r = client.instruments.find_instrument(query=\"\")\n",
    "        for i in r.instruments:\n",
    "            print(i)"
   ]
  },
  {
   "cell_type": "code",
   "execution_count": 4,
   "metadata": {},
   "outputs": [
    {
     "data": {
      "text/html": [
       "<div>\n",
       "<style scoped>\n",
       "    .dataframe tbody tr th:only-of-type {\n",
       "        vertical-align: middle;\n",
       "    }\n",
       "\n",
       "    .dataframe tbody tr th {\n",
       "        vertical-align: top;\n",
       "    }\n",
       "\n",
       "    .dataframe thead th {\n",
       "        text-align: right;\n",
       "    }\n",
       "</style>\n",
       "<table border=\"1\" class=\"dataframe\">\n",
       "  <thead>\n",
       "    <tr style=\"text-align: right;\">\n",
       "      <th></th>\n",
       "      <th>open</th>\n",
       "      <th>high</th>\n",
       "      <th>low</th>\n",
       "      <th>close</th>\n",
       "      <th>volume</th>\n",
       "      <th>time</th>\n",
       "      <th>is_complete</th>\n",
       "      <th>candle_source_type</th>\n",
       "    </tr>\n",
       "  </thead>\n",
       "  <tbody>\n",
       "    <tr>\n",
       "      <th>0</th>\n",
       "      <td>{'units': 4282, 'nano': 0}</td>\n",
       "      <td>{'units': 4282, 'nano': 500000000}</td>\n",
       "      <td>{'units': 4279, 'nano': 0}</td>\n",
       "      <td>{'units': 4280, 'nano': 500000000}</td>\n",
       "      <td>1343</td>\n",
       "      <td>2025-02-10 16:40:00+00:00</td>\n",
       "      <td>True</td>\n",
       "      <td>1</td>\n",
       "    </tr>\n",
       "    <tr>\n",
       "      <th>1</th>\n",
       "      <td>{'units': 4281, 'nano': 0}</td>\n",
       "      <td>{'units': 4281, 'nano': 500000000}</td>\n",
       "      <td>{'units': 4280, 'nano': 500000000}</td>\n",
       "      <td>{'units': 4281, 'nano': 0}</td>\n",
       "      <td>844</td>\n",
       "      <td>2025-02-10 16:50:00+00:00</td>\n",
       "      <td>False</td>\n",
       "      <td>1</td>\n",
       "    </tr>\n",
       "  </tbody>\n",
       "</table>\n",
       "</div>"
      ],
      "text/plain": [
       "                         open                                high  \\\n",
       "0  {'units': 4282, 'nano': 0}  {'units': 4282, 'nano': 500000000}   \n",
       "1  {'units': 4281, 'nano': 0}  {'units': 4281, 'nano': 500000000}   \n",
       "\n",
       "                                  low                               close  \\\n",
       "0          {'units': 4279, 'nano': 0}  {'units': 4280, 'nano': 500000000}   \n",
       "1  {'units': 4280, 'nano': 500000000}          {'units': 4281, 'nano': 0}   \n",
       "\n",
       "   volume                      time  is_complete  candle_source_type  \n",
       "0    1343 2025-02-10 16:40:00+00:00         True                   1  \n",
       "1     844 2025-02-10 16:50:00+00:00        False                   1  "
      ]
     },
     "execution_count": 4,
     "metadata": {},
     "output_type": "execute_result"
    }
   ],
   "source": [
    "import pandas as pd\n",
    "\n",
    "with SandboxClient(TOKEN) as client:\n",
    "        \n",
    "        # r = client.instruments.find_instrument(query=\"Sber\")\n",
    "        # for i in r.instruments:\n",
    "        #     print(i)\n",
    "\n",
    "        candles = client.get_all_candles(\n",
    "            instrument_id=\"TCS00A107T19\",\n",
    "            from_=now() - timedelta(minutes=10),\n",
    "            interval=CandleInterval.CANDLE_INTERVAL_10_MIN,\n",
    "            candle_source_type=CandleSource.CANDLE_SOURCE_UNSPECIFIED,\n",
    "        )\n",
    "        \n",
    "        df = pd.DataFrame(candles)\n",
    "\n",
    "df"
   ]
  },
  {
   "cell_type": "code",
   "execution_count": 5,
   "metadata": {},
   "outputs": [
    {
     "ename": "NameError",
     "evalue": "name 'df' is not defined",
     "output_type": "error",
     "traceback": [
      "\u001b[1;31m---------------------------------------------------------------------------\u001b[0m",
      "\u001b[1;31mNameError\u001b[0m                                 Traceback (most recent call last)",
      "Cell \u001b[1;32mIn[5], line 7\u001b[0m\n\u001b[0;32m      5\u001b[0m \u001b[38;5;66;03m# Применяем ко всем нужным столбцам\u001b[39;00m\n\u001b[0;32m      6\u001b[0m \u001b[38;5;28;01mfor\u001b[39;00m col \u001b[38;5;129;01min\u001b[39;00m [\u001b[38;5;124m'\u001b[39m\u001b[38;5;124mopen\u001b[39m\u001b[38;5;124m'\u001b[39m, \u001b[38;5;124m'\u001b[39m\u001b[38;5;124mhigh\u001b[39m\u001b[38;5;124m'\u001b[39m, \u001b[38;5;124m'\u001b[39m\u001b[38;5;124mlow\u001b[39m\u001b[38;5;124m'\u001b[39m, \u001b[38;5;124m'\u001b[39m\u001b[38;5;124mclose\u001b[39m\u001b[38;5;124m'\u001b[39m]:\n\u001b[1;32m----> 7\u001b[0m     df[col] \u001b[38;5;241m=\u001b[39m \u001b[43mdf\u001b[49m[col]\u001b[38;5;241m.\u001b[39mapply(convert_price)\n",
      "\u001b[1;31mNameError\u001b[0m: name 'df' is not defined"
     ]
    }
   ],
   "source": [
    "# Функция для преобразования словаря в float - нужна для подсчета стоимости акций\n",
    "def convert_price(value):\n",
    "    return value['units'] + value['nano'] / 1e9\n",
    "\n",
    "# Применяем ко всем нужным столбцам\n",
    "for col in ['open', 'high', 'low', 'close']:\n",
    "    df[col] = df[col].apply(convert_price)"
   ]
  },
  {
   "cell_type": "code",
   "execution_count": 6,
   "metadata": {},
   "outputs": [
    {
     "data": {
      "text/html": [
       "<div>\n",
       "<style scoped>\n",
       "    .dataframe tbody tr th:only-of-type {\n",
       "        vertical-align: middle;\n",
       "    }\n",
       "\n",
       "    .dataframe tbody tr th {\n",
       "        vertical-align: top;\n",
       "    }\n",
       "\n",
       "    .dataframe thead th {\n",
       "        text-align: right;\n",
       "    }\n",
       "</style>\n",
       "<table border=\"1\" class=\"dataframe\">\n",
       "  <thead>\n",
       "    <tr style=\"text-align: right;\">\n",
       "      <th></th>\n",
       "      <th>open</th>\n",
       "      <th>high</th>\n",
       "      <th>low</th>\n",
       "      <th>close</th>\n",
       "      <th>volume</th>\n",
       "      <th>time</th>\n",
       "      <th>is_complete</th>\n",
       "      <th>candle_source_type</th>\n",
       "    </tr>\n",
       "  </thead>\n",
       "  <tbody>\n",
       "    <tr>\n",
       "      <th>0</th>\n",
       "      <td>4236.5</td>\n",
       "      <td>4236.5</td>\n",
       "      <td>4236.0</td>\n",
       "      <td>4236.0</td>\n",
       "      <td>141</td>\n",
       "      <td>2025-02-09 13:40:00+00:00</td>\n",
       "      <td>True</td>\n",
       "      <td>2</td>\n",
       "    </tr>\n",
       "    <tr>\n",
       "      <th>1</th>\n",
       "      <td>4236.5</td>\n",
       "      <td>4236.5</td>\n",
       "      <td>4236.0</td>\n",
       "      <td>4236.5</td>\n",
       "      <td>39</td>\n",
       "      <td>2025-02-09 13:50:00+00:00</td>\n",
       "      <td>True</td>\n",
       "      <td>2</td>\n",
       "    </tr>\n",
       "    <tr>\n",
       "      <th>2</th>\n",
       "      <td>4236.0</td>\n",
       "      <td>4237.0</td>\n",
       "      <td>4225.5</td>\n",
       "      <td>4228.0</td>\n",
       "      <td>318</td>\n",
       "      <td>2025-02-09 14:00:00+00:00</td>\n",
       "      <td>True</td>\n",
       "      <td>2</td>\n",
       "    </tr>\n",
       "    <tr>\n",
       "      <th>3</th>\n",
       "      <td>4227.5</td>\n",
       "      <td>4233.0</td>\n",
       "      <td>4222.5</td>\n",
       "      <td>4223.5</td>\n",
       "      <td>412</td>\n",
       "      <td>2025-02-09 14:10:00+00:00</td>\n",
       "      <td>True</td>\n",
       "      <td>2</td>\n",
       "    </tr>\n",
       "    <tr>\n",
       "      <th>4</th>\n",
       "      <td>4224.0</td>\n",
       "      <td>4229.5</td>\n",
       "      <td>4222.5</td>\n",
       "      <td>4224.0</td>\n",
       "      <td>76</td>\n",
       "      <td>2025-02-09 14:20:00+00:00</td>\n",
       "      <td>True</td>\n",
       "      <td>2</td>\n",
       "    </tr>\n",
       "    <tr>\n",
       "      <th>5</th>\n",
       "      <td>4224.0</td>\n",
       "      <td>4230.0</td>\n",
       "      <td>4221.5</td>\n",
       "      <td>4222.0</td>\n",
       "      <td>61</td>\n",
       "      <td>2025-02-09 14:30:00+00:00</td>\n",
       "      <td>True</td>\n",
       "      <td>2</td>\n",
       "    </tr>\n",
       "    <tr>\n",
       "      <th>6</th>\n",
       "      <td>4222.0</td>\n",
       "      <td>4230.0</td>\n",
       "      <td>4221.5</td>\n",
       "      <td>4222.5</td>\n",
       "      <td>46</td>\n",
       "      <td>2025-02-09 14:40:00+00:00</td>\n",
       "      <td>True</td>\n",
       "      <td>2</td>\n",
       "    </tr>\n",
       "    <tr>\n",
       "      <th>7</th>\n",
       "      <td>4229.0</td>\n",
       "      <td>4230.0</td>\n",
       "      <td>4222.5</td>\n",
       "      <td>4224.0</td>\n",
       "      <td>88</td>\n",
       "      <td>2025-02-09 14:50:00+00:00</td>\n",
       "      <td>True</td>\n",
       "      <td>2</td>\n",
       "    </tr>\n",
       "    <tr>\n",
       "      <th>8</th>\n",
       "      <td>4230.0</td>\n",
       "      <td>4236.0</td>\n",
       "      <td>4224.0</td>\n",
       "      <td>4229.5</td>\n",
       "      <td>179</td>\n",
       "      <td>2025-02-09 15:00:00+00:00</td>\n",
       "      <td>True</td>\n",
       "      <td>2</td>\n",
       "    </tr>\n",
       "    <tr>\n",
       "      <th>9</th>\n",
       "      <td>4235.5</td>\n",
       "      <td>4235.5</td>\n",
       "      <td>4230.0</td>\n",
       "      <td>4235.0</td>\n",
       "      <td>290</td>\n",
       "      <td>2025-02-09 15:10:00+00:00</td>\n",
       "      <td>True</td>\n",
       "      <td>2</td>\n",
       "    </tr>\n",
       "    <tr>\n",
       "      <th>10</th>\n",
       "      <td>4235.0</td>\n",
       "      <td>4235.5</td>\n",
       "      <td>4233.5</td>\n",
       "      <td>4234.0</td>\n",
       "      <td>153</td>\n",
       "      <td>2025-02-09 15:20:00+00:00</td>\n",
       "      <td>True</td>\n",
       "      <td>2</td>\n",
       "    </tr>\n",
       "    <tr>\n",
       "      <th>11</th>\n",
       "      <td>4234.0</td>\n",
       "      <td>4235.5</td>\n",
       "      <td>4233.5</td>\n",
       "      <td>4233.5</td>\n",
       "      <td>162</td>\n",
       "      <td>2025-02-09 15:30:00+00:00</td>\n",
       "      <td>True</td>\n",
       "      <td>2</td>\n",
       "    </tr>\n",
       "    <tr>\n",
       "      <th>12</th>\n",
       "      <td>4233.5</td>\n",
       "      <td>4235.0</td>\n",
       "      <td>4233.5</td>\n",
       "      <td>4235.0</td>\n",
       "      <td>2</td>\n",
       "      <td>2025-02-09 15:40:00+00:00</td>\n",
       "      <td>False</td>\n",
       "      <td>2</td>\n",
       "    </tr>\n",
       "  </tbody>\n",
       "</table>\n",
       "</div>"
      ],
      "text/plain": [
       "      open    high     low   close  volume                      time  \\\n",
       "0   4236.5  4236.5  4236.0  4236.0     141 2025-02-09 13:40:00+00:00   \n",
       "1   4236.5  4236.5  4236.0  4236.5      39 2025-02-09 13:50:00+00:00   \n",
       "2   4236.0  4237.0  4225.5  4228.0     318 2025-02-09 14:00:00+00:00   \n",
       "3   4227.5  4233.0  4222.5  4223.5     412 2025-02-09 14:10:00+00:00   \n",
       "4   4224.0  4229.5  4222.5  4224.0      76 2025-02-09 14:20:00+00:00   \n",
       "5   4224.0  4230.0  4221.5  4222.0      61 2025-02-09 14:30:00+00:00   \n",
       "6   4222.0  4230.0  4221.5  4222.5      46 2025-02-09 14:40:00+00:00   \n",
       "7   4229.0  4230.0  4222.5  4224.0      88 2025-02-09 14:50:00+00:00   \n",
       "8   4230.0  4236.0  4224.0  4229.5     179 2025-02-09 15:00:00+00:00   \n",
       "9   4235.5  4235.5  4230.0  4235.0     290 2025-02-09 15:10:00+00:00   \n",
       "10  4235.0  4235.5  4233.5  4234.0     153 2025-02-09 15:20:00+00:00   \n",
       "11  4234.0  4235.5  4233.5  4233.5     162 2025-02-09 15:30:00+00:00   \n",
       "12  4233.5  4235.0  4233.5  4235.0       2 2025-02-09 15:40:00+00:00   \n",
       "\n",
       "    is_complete  candle_source_type  \n",
       "0          True                   2  \n",
       "1          True                   2  \n",
       "2          True                   2  \n",
       "3          True                   2  \n",
       "4          True                   2  \n",
       "5          True                   2  \n",
       "6          True                   2  \n",
       "7          True                   2  \n",
       "8          True                   2  \n",
       "9          True                   2  \n",
       "10         True                   2  \n",
       "11         True                   2  \n",
       "12        False                   2  "
      ]
     },
     "execution_count": 6,
     "metadata": {},
     "output_type": "execute_result"
    }
   ],
   "source": [
    "df"
   ]
  },
  {
   "cell_type": "markdown",
   "metadata": {},
   "source": [
    "Торги 1 акцией в текущем времени через песочницу"
   ]
  },
  {
   "cell_type": "code",
   "execution_count": 5,
   "metadata": {},
   "outputs": [],
   "source": [
    "%load_ext IPython.extensions.autoreload\n",
    "%autoreload 2"
   ]
  },
  {
   "cell_type": "code",
   "execution_count": 6,
   "metadata": {},
   "outputs": [
    {
     "name": "stderr",
     "output_type": "stream",
     "text": [
      "c:\\Users\\Валерия\\OneDrive\\Документы\\GitHub\\prices-predictions\\myenv\\Lib\\site-packages\\tqdm\\auto.py:21: TqdmWarning: IProgress not found. Please update jupyter and ipywidgets. See https://ipywidgets.readthedocs.io/en/stable/user_install.html\n",
      "  from .autonotebook import tqdm as notebook_tqdm\n"
     ]
    }
   ],
   "source": [
    "import sys\n",
    "sys.path.append('../..')\n",
    "from model import FinData\n",
    "from model import merged_split\n",
    "from model import CatboostFinModel\n",
    "from model import train_valid_test_split, train_valid_split_candles"
   ]
  },
  {
   "cell_type": "code",
   "execution_count": 7,
   "metadata": {},
   "outputs": [],
   "source": [
    "import datetime as dt"
   ]
  },
  {
   "cell_type": "code",
   "execution_count": 8,
   "metadata": {},
   "outputs": [],
   "source": [
    "import time\n",
    "from datetime import datetime, timedelta\n",
    "\n",
    "def wait_until_next_x1_multiple(x = 10):\n",
    "    \"\"\"Ждет до ближайшей минуты, которая кратна X1.\"\"\"\n",
    "    now = datetime.now()\n",
    "    next_minute = (now.minute // x + 1) * x  # Следующая X1-кратная минута\n",
    "    next_time = now.replace(minute=next_minute % 60, second=0, microsecond=0)\n",
    "\n",
    "    # Если перешли через час\n",
    "    if next_minute >= 60:\n",
    "        next_time += timedelta(hours=1)\n",
    "\n",
    "    wait_seconds = (next_time - now).total_seconds()\n",
    "    print(f\"Ждем {wait_seconds:.2f} секунд до {next_time.strftime('%H:%M:%S')}...\")\n",
    "    time.sleep(wait_seconds)\n",
    "\n",
    "# Пример использования: ждем до ближайшей минуты, кратной 3\n",
    "# X = 10\n",
    "# wait_until_next_x1_multiple(X)\n",
    "# print(\"Код запущен!\")\n"
   ]
  },
  {
   "cell_type": "code",
   "execution_count": 9,
   "metadata": {},
   "outputs": [],
   "source": [
    "from tinkoff.invest.schemas import OrderDirection, OrderType, PostOrderRequest, MoneyValue\n",
    "from uuid import uuid4"
   ]
  },
  {
   "cell_type": "code",
   "execution_count": 5,
   "metadata": {},
   "outputs": [
    {
     "data": {
      "text/plain": [
       "MoneyValue(currency='643', units=10000, nano=0)"
      ]
     },
     "execution_count": 5,
     "metadata": {},
     "output_type": "execute_result"
    }
   ],
   "source": [
    "MoneyValue(currency=\"643\", units=10000, nano=0)"
   ]
  },
  {
   "cell_type": "code",
   "execution_count": 2,
   "metadata": {},
   "outputs": [],
   "source": [
    "from datetime import datetime"
   ]
  },
  {
   "cell_type": "code",
   "execution_count": 3,
   "metadata": {},
   "outputs": [
    {
     "data": {
      "text/plain": [
       "datetime.timedelta(days=72, seconds=70084, microseconds=120249)"
      ]
     },
     "execution_count": 3,
     "metadata": {},
     "output_type": "execute_result"
    }
   ],
   "source": [
    "datetime.now() - datetime(2024, 12, 1)"
   ]
  },
  {
   "cell_type": "code",
   "execution_count": 10,
   "metadata": {},
   "outputs": [],
   "source": [
    "args = {\"iterations\" : 3000, \n",
    "        \"depth\" : 5, \n",
    "        \"learning_rate\" : 0.01, \n",
    "        \"use_best_model\" : True, \n",
    "        \"l2_leaf_reg\" : 3,\n",
    "        \"loss_function\" : 'Logloss', \n",
    "        \"eval_metric\" : 'Logloss', \n",
    "        \"cat_features\" : [], \n",
    "        \"random_state\" : 42,\n",
    "        \"verbose\" : 0,\n",
    "        \"early_stopping_rounds\" : 1000}"
   ]
  },
  {
   "cell_type": "code",
   "execution_count": 11,
   "metadata": {},
   "outputs": [],
   "source": [
    "import pandas as pd"
   ]
  },
  {
   "cell_type": "code",
   "execution_count": 12,
   "metadata": {},
   "outputs": [],
   "source": [
    "import logging\n",
    "from datetime import datetime, timedelta\n",
    "import datetime as dt\n",
    "from uuid import uuid4\n",
    "import time\n",
    "import pandas as pd\n",
    "\n",
    "# Настройка логирования\n",
    "logging.basicConfig(\n",
    "    level=logging.INFO,\n",
    "    format=\"%(asctime)s - %(levelname)s - %(message)s\",\n",
    "    handlers=[\n",
    "        logging.FileHandler(\"trading.log\"),\n",
    "        logging.StreamHandler()\n",
    "    ]\n",
    ")\n",
    "\n",
    "share_id = \"BBG004730N88\" # SBER\n",
    "\n",
    "def convert_price(value):\n",
    "    return value['units'] + value['nano'] / 1e9\n",
    "\n",
    "def insert_features(data : FinData):\n",
    "    windows_shifts_norms = [2, 3, 4, 5, 6]\n",
    "    windows_ma = [2, 4, 6, 8, 18, 30, 50]\n",
    "    windows_ema = [3, 5, 7, 9, 20, 35, 100]\n",
    "\n",
    "    data.insert_shifts_norms(windows_shifts_norms=windows_shifts_norms)\n",
    "    data.insert_rolling_means(windows_ma=windows_ma)\n",
    "    data.insert_exp_rolling_means(windows_ema=windows_ema)\n",
    "    data.insert_bollinger()\n",
    "    data.insert_rsi()\n",
    "    data.insert_high_low_diff()\n",
    "    data.insert_stochastic_oscillator()\n",
    "    data.insert_random_prediction()\n",
    "\n",
    "def make_data_for_trading(share_id):\n",
    "    logging.info(\"Начало загрузки данных для обучения модели\")\n",
    "    with SandboxClient(TOKEN) as client:\n",
    "        candles = client.get_all_candles(\n",
    "            instrument_id=share_id,\n",
    "            from_=now() - timedelta(days=30),\n",
    "            interval=CandleInterval.CANDLE_INTERVAL_10_MIN,\n",
    "            candle_source_type=CandleSource.CANDLE_SOURCE_UNSPECIFIED,\n",
    "        )\n",
    "        # candles_list = list(candles)  # Явное преобразование генератора в список\n",
    "        # clear_data_df = pd.DataFrame(candles_list)\n",
    "        clear_data_df = pd.DataFrame(candles)\n",
    "        clear_data_df = clear_data_df.rename(columns={'time': 'utc'})\n",
    "\n",
    "    for col in ['open', 'high', 'low', 'close']:\n",
    "        clear_data_df[col] = clear_data_df[col].apply(convert_price)\n",
    "    clear_data_df = clear_data_df.iloc[:-1]\n",
    "\n",
    "    data = FinData(clear_data_df)\n",
    "    insert_features(data)\n",
    "    # print(\"close_normed_ma_16\" in data.df.columns)\n",
    "    # print(\"close_normed_ma_16\" in data.get_numeric())\n",
    "    logging.info(\"Данные успешно загружены и обработаны\")\n",
    "    logging.info(clear_data_df.columns)\n",
    "\n",
    "    return clear_data_df, data, data.get_numeric_features(), data.get_cat_features(), data.target\n",
    "\n",
    "def model_training(data, num, cat, target, args):\n",
    "    logging.info(\"Начало обучения модели\")\n",
    "    X_train, X_val, y_train, y_val = train_valid_split_candles(data.df, \n",
    "                                                               train_size=3000, \n",
    "                                                               val_size=500, \n",
    "                                                               numeric=num, \n",
    "                                                               cat=cat, \n",
    "                                                               target=target)\n",
    "    model = CatboostFinModel(args=args)\n",
    "    model.set_datasets(X_train=X_train, X_val=X_val, y_train=y_train, y_val=y_val)\n",
    "    model.set_features(numeric_features=num, cat_features=cat)\n",
    "    model.fit()\n",
    "    logging.info(\"Обучение модели завершено\")\n",
    "    return model\n",
    "\n",
    "def start_trading(model, clear_data_df : pd.DataFrame, end_datetime : dt.datetime):\n",
    "    logging.info(\"Запуск торгов в песочнице\")\n",
    "    with SandboxClient(TOKEN) as client:\n",
    "        acc_id = client.sandbox.open_sandbox_account(name=\"lerochka\").account_id\n",
    "        client.sandbox.sandbox_pay_in(account_id=acc_id, amount=MoneyValue(currency=\"643\", units=100000, nano=0))\n",
    "        logging.info(f\"Создан аккаунт {acc_id}, пополнен на 100.000\")\n",
    "    \n",
    "    portfolio_shares = []\n",
    "    logging.info(f\"Торги начинаются: {datetime.now()} / Завершение: {end_datetime}\")\n",
    "    while datetime.now() < end_datetime:\n",
    "        wait_until_next_x1_multiple(10)\n",
    "        logging.info(\"Начинаем новый торговый цикл\")\n",
    "        \n",
    "        with SandboxClient(TOKEN) as client:\n",
    "            for share in portfolio_shares:\n",
    "                if share[\"dur\"] == \"buy\":\n",
    "                    response = client.orders.post_order(\n",
    "                            order_type=OrderType.ORDER_TYPE_MARKET,\n",
    "                            direction=OrderDirection.ORDER_DIRECTION_SELL,\n",
    "                            instrument_id=share[\"inst_id\"],\n",
    "                            quantity=share[\"quant\"],\n",
    "                            account_id=acc_id,\n",
    "                            order_id=str(uuid4())\n",
    "                        )\n",
    "                    logging.info(f\"Продана акция: {response}\")\n",
    "                else:\n",
    "                    response = client.orders.post_order(\n",
    "                            order_type=OrderType.ORDER_TYPE_MARKET,\n",
    "                            direction=OrderDirection.ORDER_DIRECTION_BUY,\n",
    "                            instrument_id=share[\"inst_id\"],\n",
    "                            quantity=share[\"quant\"],\n",
    "                            account_id=acc_id,\n",
    "                            order_id=str(uuid4())\n",
    "                    )\n",
    "                    logging.info(f\"Куплена акция: {response}\")\n",
    "            \n",
    "        portfolio_shares.clear()\n",
    "        time.sleep(0.1)\n",
    "        with SandboxClient(TOKEN) as client:\n",
    "                curr_candle = client.get_all_candles(\n",
    "                instrument_id=\"TCS00A107T19\",\n",
    "                from_=now() - timedelta(minutes=10),\n",
    "                interval=CandleInterval.CANDLE_INTERVAL_10_MIN,\n",
    "                candle_source_type=CandleSource.CANDLE_SOURCE_UNSPECIFIED,\n",
    "                )\n",
    "                \n",
    "                curr_candle = pd.DataFrame(curr_candle).iloc[0].to_frame().T\n",
    "                curr_candle = curr_candle.rename({'time': 'utc'})\n",
    "\n",
    "                for col in ['open', 'high', 'low', 'close']:\n",
    "                    curr_candle[col] = curr_candle[col].apply(convert_price)\n",
    "                \n",
    "                clear_data_df = pd.concat([clear_data_df, curr_candle], ignore_index=True)\n",
    "                logging.info(clear_data_df.shape)\n",
    "                data = FinData(clear_data_df)\n",
    "                insert_features(data)\n",
    "                num = data.get_numeric_features()\n",
    "                cat = data.get_cat_features()\n",
    "                x_curr = data.df.tail(1)[num + cat]\n",
    "                y_pred = model.predict(x_curr)  \n",
    "                logging.info(f\"Предсказание модели: {y_pred}\")\n",
    "                if y_pred == 1:\n",
    "                    response = client.orders.post_order(\n",
    "                        order_type=OrderType.ORDER_TYPE_MARKET,\n",
    "                        direction=OrderDirection.ORDER_DIRECTION_BUY,\n",
    "                        instrument_id=share_id,\n",
    "                        quantity=10,\n",
    "                        account_id=acc_id,\n",
    "                        order_id=str(uuid4())\n",
    "                    )\n",
    "                    portfolio_shares.append({\"inst_id\" : share_id, \"quant\" : 10, \"dur\" : \"buy\"})\n",
    "                    logging.info(f\"Куплена акция: {response}\")\n",
    "\n",
    "                if y_pred == 0:\n",
    "                    response = client.orders.post_order(\n",
    "                        order_type=OrderType.ORDER_TYPE_MARKET,\n",
    "                        direction=OrderDirection.ORDER_DIRECTION_SELL,\n",
    "                        instrument_id=share_id,\n",
    "                        quantity=10,\n",
    "                        account_id=acc_id,\n",
    "                        order_id=str(uuid4())\n",
    "                    )\n",
    "                    portfolio_shares.append({\"inst_id\" : share_id, \"quant\" : 10, \"dur\" : \"sell\"})\n",
    "                    logging.info(f\"Продана акция: {response}\")\n",
    "\n",
    "    with SandboxClient(TOKEN) as client:\n",
    "        portfolio = client.operations.get_portfolio(account_id=acc_id)\n",
    "    logging.info(f\"Торги завершены с окончательной суммой {portfolio.total_amount_currencies}\")"
   ]
  },
  {
   "cell_type": "code",
   "execution_count": 13,
   "metadata": {},
   "outputs": [
    {
     "name": "stderr",
     "output_type": "stream",
     "text": [
      "2025-02-10 19:58:19,694 - INFO - Начало загрузки данных для обучения модели\n",
      "2025-02-10 19:58:20,106 - INFO - aed432220e215825145b51d13ba5047e GetCandles\n",
      "2025-02-10 19:58:20,296 - INFO - 426495806c436b9cbde3d99008a425dc GetCandles\n",
      "2025-02-10 19:58:20,525 - INFO - 4b52841fd6d1a41cc56a01c5e9583cdd GetCandles\n",
      "2025-02-10 19:58:20,735 - INFO - 24812644c6d1b367c4695f137b7e666f GetCandles\n",
      "2025-02-10 19:58:20,950 - INFO - ab39bba9293925d20fa2fb3a1e7837c1 GetCandles\n",
      "2025-02-10 19:58:21,135 - INFO - 7db6d05a28ef864e8561692f7506501b GetCandles\n",
      "2025-02-10 19:58:21,282 - INFO - 5ee2adda269768eab4947a1dc04a7300 GetCandles\n",
      "2025-02-10 19:58:21,495 - INFO - fa2c1a12cf5a2e85b2c84b423db747ce GetCandles\n",
      "2025-02-10 19:58:21,725 - INFO - 6b490741f08295ba91f476195acc21d7 GetCandles\n",
      "2025-02-10 19:58:21,911 - INFO - fa97a80405bd5713deceb96f89a14cc3 GetCandles\n",
      "2025-02-10 19:58:22,127 - INFO - a64beb5750077b553a93684daf86a5f8 GetCandles\n",
      "2025-02-10 19:58:22,328 - INFO - 3eadd75deb7a0e8edcb00217b9ac3942 GetCandles\n",
      "2025-02-10 19:58:22,491 - INFO - 3f38303cd2e6385a4dd690934ae56f9a GetCandles\n",
      "2025-02-10 19:58:22,649 - INFO - 727b2be955344dba1e87bda36d45b697 GetCandles\n",
      "2025-02-10 19:58:22,801 - INFO - 58c7ff34ff82259bb544b398c52e254a GetCandles\n",
      "2025-02-10 19:58:23,043 - INFO - d3b17b232e976bc028beb01190c85c5c GetCandles\n",
      "2025-02-10 19:58:23,262 - INFO - 5627a7f8d9f8b6bd91ec9d2e96ba3ccc GetCandles\n",
      "2025-02-10 19:58:23,463 - INFO - 2259e74d0ca66610ee55e0fb23311416 GetCandles\n",
      "2025-02-10 19:58:23,674 - INFO - e36ad28616a51b891c950e921b3dc063 GetCandles\n",
      "2025-02-10 19:58:23,877 - INFO - 4babad2fbba58adea361a7afa351efd8 GetCandles\n",
      "2025-02-10 19:58:24,048 - INFO - 3e4178f7b8efedc83b7d82d5a458b190 GetCandles\n",
      "2025-02-10 19:58:24,233 - INFO - 9d0a5c9e6074410a0ca9fa1877d5ec32 GetCandles\n",
      "2025-02-10 19:58:24,445 - INFO - 64454a047ad00bfd17f08d00c18f711b GetCandles\n",
      "2025-02-10 19:58:24,624 - INFO - 6b90bb37a5684416b67da798dfd445fb GetCandles\n",
      "2025-02-10 19:58:24,837 - INFO - f77ce3818104b61ce82156ca3fb9343a GetCandles\n",
      "2025-02-10 19:58:25,042 - INFO - db8991b1f21735bb4ebc5268483e7d06 GetCandles\n",
      "2025-02-10 19:58:25,249 - INFO - 74f9a7ce3fffe48e88667099a12feaf0 GetCandles\n",
      "2025-02-10 19:58:25,406 - INFO - 4620584cf7dfd55b2b7726e3ee4d405f GetCandles\n",
      "2025-02-10 19:58:25,587 - INFO - ac987103ff19536f750b6f06024f5890 GetCandles\n",
      "2025-02-10 19:58:25,802 - INFO - 7f667ee834832f43b8915cc95a3a1013 GetCandles\n",
      "2025-02-10 19:58:36,359 - INFO - Данные успешно загружены и обработаны\n",
      "2025-02-10 19:58:36,363 - INFO - Index(['open', 'high', 'low', 'close', 'volume', 'utc', 'is_complete',\n",
      "       'candle_source_type'],\n",
      "      dtype='object')\n",
      "2025-02-10 19:58:36,367 - INFO - Начало обучения модели\n",
      "2025-02-10 19:58:54,144 - INFO - Обучение модели завершено\n",
      "2025-02-10 19:58:54,149 - INFO - Запуск торгов в песочнице\n",
      "2025-02-10 19:58:54,580 - INFO - 69f2129f854cba47d19a118305eb077b OpenSandboxAccount\n",
      "2025-02-10 19:58:54,718 - INFO - 231e5d311fe894fe1b39cbe17c595914 SandboxPayIn\n",
      "2025-02-10 19:58:54,721 - INFO - Создан аккаунт d4dc7563-7a0e-4cc5-a8cd-a17fff70e541, пополнен на 100.000\n",
      "2025-02-10 19:58:54,724 - INFO - Торги начинаются: 2025-02-10 19:58:54.724314 / Завершение: 2025-02-10 20:30:00\n"
     ]
    },
    {
     "name": "stdout",
     "output_type": "stream",
     "text": [
      "Ждем 65.27 секунд до 20:00:00...\n"
     ]
    },
    {
     "name": "stderr",
     "output_type": "stream",
     "text": [
      "2025-02-10 20:00:00,000 - INFO - Начинаем новый торговый цикл\n",
      "2025-02-10 20:00:00,594 - INFO - e564017e088f89a423b306456fbfe0ed GetCandles\n",
      "2025-02-10 20:00:00,614 - INFO - (3274, 9)\n",
      "2025-02-10 20:00:19,200 - INFO - Предсказание модели: [0]\n",
      "2025-02-10 20:00:19,388 - INFO - 8ab9f5a84231ab539f153269c79b0d7b PostOrder\n",
      "2025-02-10 20:00:19,394 - INFO - Продана акция: PostOrderResponse(order_id='330e006f-0226-4cb0-bae9-f208445afed2', execution_report_status=<OrderExecutionReportStatus.EXECUTION_REPORT_STATUS_FILL: 1>, lots_requested=10, lots_executed=10, initial_order_price=MoneyValue(currency='rub', units=29360, nano=0), executed_order_price=MoneyValue(currency='rub', units=293, nano=600000000), total_order_amount=MoneyValue(currency='rub', units=29360, nano=0), initial_commission=MoneyValue(currency='rub', units=14, nano=680000000), executed_commission=MoneyValue(currency='rub', units=14, nano=680000000), aci_value=MoneyValue(currency='', units=0, nano=0), figi='BBG004730N88', direction=<OrderDirection.ORDER_DIRECTION_SELL: 2>, initial_security_price=MoneyValue(currency='rub', units=293, nano=600000000), order_type=<OrderType.ORDER_TYPE_MARKET: 2>, message='', initial_order_price_pt=Quotation(units=0, nano=0), instrument_uid='e6123145-9665-43e0-8413-cd61b8aa9b13', order_request_id='da0a0e1a-0158-46e5-9cb9-f107343af6ec', response_metadata=ResponseMetadata(tracking_id='8ab9f5a84231ab539f153269c79b0d7b', server_time=datetime.datetime(2025, 2, 10, 17, 0, 19, 379849, tzinfo=datetime.timezone.utc)))\n"
     ]
    },
    {
     "name": "stdout",
     "output_type": "stream",
     "text": [
      "Ждем 580.60 секунд до 20:10:00...\n"
     ]
    },
    {
     "name": "stderr",
     "output_type": "stream",
     "text": [
      "2025-02-10 20:10:00,001 - INFO - Начинаем новый торговый цикл\n",
      "2025-02-10 20:10:00,813 - INFO - f27da61dc1b18641ec40f3d46eb0a141 PostOrder\n",
      "2025-02-10 20:10:00,833 - INFO - Куплена акция: PostOrderResponse(order_id='48baa37d-88af-4086-a0e4-08757798a4d1', execution_report_status=<OrderExecutionReportStatus.EXECUTION_REPORT_STATUS_FILL: 1>, lots_requested=10, lots_executed=10, initial_order_price=MoneyValue(currency='rub', units=29347, nano=0), executed_order_price=MoneyValue(currency='rub', units=293, nano=470000000), total_order_amount=MoneyValue(currency='rub', units=29347, nano=0), initial_commission=MoneyValue(currency='rub', units=14, nano=673500000), executed_commission=MoneyValue(currency='rub', units=14, nano=673500000), aci_value=MoneyValue(currency='', units=0, nano=0), figi='BBG004730N88', direction=<OrderDirection.ORDER_DIRECTION_BUY: 1>, initial_security_price=MoneyValue(currency='rub', units=293, nano=470000000), order_type=<OrderType.ORDER_TYPE_MARKET: 2>, message='', initial_order_price_pt=Quotation(units=0, nano=0), instrument_uid='e6123145-9665-43e0-8413-cd61b8aa9b13', order_request_id='6ec2f07c-153c-4299-89a8-52efda817d0d', response_metadata=ResponseMetadata(tracking_id='f27da61dc1b18641ec40f3d46eb0a141', server_time=datetime.datetime(2025, 2, 10, 17, 10, 0, 795378, tzinfo=datetime.timezone.utc)))\n",
      "2025-02-10 20:10:01,593 - INFO - f8abc651ad4788612588ad490c0cdd3e GetCandles\n",
      "2025-02-10 20:10:01,616 - INFO - (3275, 9)\n",
      "2025-02-10 20:10:22,665 - INFO - Предсказание модели: [0]\n",
      "2025-02-10 20:10:23,018 - INFO - 9d7ac2e7c09e9c4a7f87d208d9a2a379 PostOrder\n",
      "2025-02-10 20:10:23,027 - INFO - Продана акция: PostOrderResponse(order_id='ea215d75-db3e-4342-acd9-06147d1d3be6', execution_report_status=<OrderExecutionReportStatus.EXECUTION_REPORT_STATUS_FILL: 1>, lots_requested=10, lots_executed=10, initial_order_price=MoneyValue(currency='rub', units=29346, nano=0), executed_order_price=MoneyValue(currency='rub', units=293, nano=460000000), total_order_amount=MoneyValue(currency='rub', units=29346, nano=0), initial_commission=MoneyValue(currency='rub', units=14, nano=673000000), executed_commission=MoneyValue(currency='rub', units=14, nano=673000000), aci_value=MoneyValue(currency='', units=0, nano=0), figi='BBG004730N88', direction=<OrderDirection.ORDER_DIRECTION_SELL: 2>, initial_security_price=MoneyValue(currency='rub', units=293, nano=460000000), order_type=<OrderType.ORDER_TYPE_MARKET: 2>, message='', initial_order_price_pt=Quotation(units=0, nano=0), instrument_uid='e6123145-9665-43e0-8413-cd61b8aa9b13', order_request_id='eb7d294b-36f8-412e-a077-07ea3640b975', response_metadata=ResponseMetadata(tracking_id='9d7ac2e7c09e9c4a7f87d208d9a2a379', server_time=datetime.datetime(2025, 2, 10, 17, 10, 22, 890217, tzinfo=datetime.timezone.utc)))\n"
     ]
    },
    {
     "name": "stdout",
     "output_type": "stream",
     "text": [
      "Ждем 576.97 секунд до 20:20:00...\n"
     ]
    },
    {
     "name": "stderr",
     "output_type": "stream",
     "text": [
      "2025-02-10 20:20:00,004 - INFO - Начинаем новый торговый цикл\n",
      "2025-02-10 20:20:00,534 - INFO - 7d41fc52cd0476a9179c562e40695026 PostOrder\n",
      "2025-02-10 20:20:00,542 - INFO - Куплена акция: PostOrderResponse(order_id='420984e0-a3da-4b59-8fc1-1ea408a6143c', execution_report_status=<OrderExecutionReportStatus.EXECUTION_REPORT_STATUS_FILL: 1>, lots_requested=10, lots_executed=10, initial_order_price=MoneyValue(currency='rub', units=29380, nano=0), executed_order_price=MoneyValue(currency='rub', units=293, nano=800000000), total_order_amount=MoneyValue(currency='rub', units=29380, nano=0), initial_commission=MoneyValue(currency='rub', units=14, nano=690000000), executed_commission=MoneyValue(currency='rub', units=14, nano=690000000), aci_value=MoneyValue(currency='', units=0, nano=0), figi='BBG004730N88', direction=<OrderDirection.ORDER_DIRECTION_BUY: 1>, initial_security_price=MoneyValue(currency='rub', units=293, nano=800000000), order_type=<OrderType.ORDER_TYPE_MARKET: 2>, message='', initial_order_price_pt=Quotation(units=0, nano=0), instrument_uid='e6123145-9665-43e0-8413-cd61b8aa9b13', order_request_id='cc80a704-2ae7-4f03-93d6-9ef9d2e5480c', response_metadata=ResponseMetadata(tracking_id='7d41fc52cd0476a9179c562e40695026', server_time=datetime.datetime(2025, 2, 10, 17, 20, 0, 523387, tzinfo=datetime.timezone.utc)))\n",
      "2025-02-10 20:20:01,092 - INFO - f95a12ff049cac5874f017199bd1ae0a GetCandles\n",
      "2025-02-10 20:20:01,155 - INFO - (3276, 9)\n",
      "2025-02-10 20:20:17,861 - INFO - Предсказание модели: [0]\n",
      "2025-02-10 20:20:18,012 - INFO - 348c7b0cd77c18c7fa62e196884ac643 PostOrder\n",
      "2025-02-10 20:20:18,017 - INFO - Продана акция: PostOrderResponse(order_id='7e4fc903-feee-4b27-b08e-3ae5989a069a', execution_report_status=<OrderExecutionReportStatus.EXECUTION_REPORT_STATUS_FILL: 1>, lots_requested=10, lots_executed=10, initial_order_price=MoneyValue(currency='rub', units=29380, nano=0), executed_order_price=MoneyValue(currency='rub', units=293, nano=800000000), total_order_amount=MoneyValue(currency='rub', units=29380, nano=0), initial_commission=MoneyValue(currency='rub', units=14, nano=690000000), executed_commission=MoneyValue(currency='rub', units=14, nano=690000000), aci_value=MoneyValue(currency='', units=0, nano=0), figi='BBG004730N88', direction=<OrderDirection.ORDER_DIRECTION_SELL: 2>, initial_security_price=MoneyValue(currency='rub', units=293, nano=800000000), order_type=<OrderType.ORDER_TYPE_MARKET: 2>, message='', initial_order_price_pt=Quotation(units=0, nano=0), instrument_uid='e6123145-9665-43e0-8413-cd61b8aa9b13', order_request_id='89e22820-7e1a-46f8-af87-f8cfe4130497', response_metadata=ResponseMetadata(tracking_id='348c7b0cd77c18c7fa62e196884ac643', server_time=datetime.datetime(2025, 2, 10, 17, 20, 18, 5365, tzinfo=datetime.timezone.utc)))\n"
     ]
    },
    {
     "name": "stdout",
     "output_type": "stream",
     "text": [
      "Ждем 581.98 секунд до 20:30:00...\n"
     ]
    },
    {
     "name": "stderr",
     "output_type": "stream",
     "text": [
      "2025-02-10 20:30:00,001 - INFO - Начинаем новый торговый цикл\n",
      "2025-02-10 20:30:00,530 - INFO - 13e2cbe1d5c0330e637e07c37376eacb PostOrder\n",
      "2025-02-10 20:30:00,539 - INFO - Куплена акция: PostOrderResponse(order_id='76da936a-2d7b-4b76-8e8c-51d052c97aa3', execution_report_status=<OrderExecutionReportStatus.EXECUTION_REPORT_STATUS_FILL: 1>, lots_requested=10, lots_executed=10, initial_order_price=MoneyValue(currency='rub', units=29355, nano=0), executed_order_price=MoneyValue(currency='rub', units=293, nano=550000000), total_order_amount=MoneyValue(currency='rub', units=29355, nano=0), initial_commission=MoneyValue(currency='rub', units=14, nano=677500000), executed_commission=MoneyValue(currency='rub', units=14, nano=677500000), aci_value=MoneyValue(currency='', units=0, nano=0), figi='BBG004730N88', direction=<OrderDirection.ORDER_DIRECTION_BUY: 1>, initial_security_price=MoneyValue(currency='rub', units=293, nano=550000000), order_type=<OrderType.ORDER_TYPE_MARKET: 2>, message='', initial_order_price_pt=Quotation(units=0, nano=0), instrument_uid='e6123145-9665-43e0-8413-cd61b8aa9b13', order_request_id='61506c53-b5c6-4d97-9228-7e7080729a45', response_metadata=ResponseMetadata(tracking_id='13e2cbe1d5c0330e637e07c37376eacb', server_time=datetime.datetime(2025, 2, 10, 17, 30, 0, 524431, tzinfo=datetime.timezone.utc)))\n",
      "2025-02-10 20:30:01,135 - INFO - cf633a4a93d287d9c7597247fd94661c GetCandles\n",
      "2025-02-10 20:30:01,149 - INFO - (3277, 9)\n",
      "2025-02-10 20:30:17,448 - INFO - Предсказание модели: [0]\n",
      "2025-02-10 20:30:17,614 - INFO - c6a33f97683f8ee4350d578f21574a17 PostOrder\n",
      "2025-02-10 20:30:17,617 - INFO - Продана акция: PostOrderResponse(order_id='9b62b5a9-8631-4114-9fe0-ce16958f918c', execution_report_status=<OrderExecutionReportStatus.EXECUTION_REPORT_STATUS_FILL: 1>, lots_requested=10, lots_executed=10, initial_order_price=MoneyValue(currency='rub', units=29353, nano=0), executed_order_price=MoneyValue(currency='rub', units=293, nano=530000000), total_order_amount=MoneyValue(currency='rub', units=29353, nano=0), initial_commission=MoneyValue(currency='rub', units=14, nano=676500000), executed_commission=MoneyValue(currency='rub', units=14, nano=676500000), aci_value=MoneyValue(currency='', units=0, nano=0), figi='BBG004730N88', direction=<OrderDirection.ORDER_DIRECTION_SELL: 2>, initial_security_price=MoneyValue(currency='rub', units=293, nano=530000000), order_type=<OrderType.ORDER_TYPE_MARKET: 2>, message='', initial_order_price_pt=Quotation(units=0, nano=0), instrument_uid='e6123145-9665-43e0-8413-cd61b8aa9b13', order_request_id='a079aab1-fa2b-412d-b049-b35eaab35674', response_metadata=ResponseMetadata(tracking_id='c6a33f97683f8ee4350d578f21574a17', server_time=datetime.datetime(2025, 2, 10, 17, 30, 17, 608499, tzinfo=datetime.timezone.utc)))\n",
      "2025-02-10 20:30:18,134 - INFO - 5a4dd91a9870432087edcf49aa2f9ac2 GetPortfolio\n",
      "2025-02-10 20:30:18,148 - INFO - Торги завершены с окончательной суммой MoneyValue(currency='rub', units=129254, nano=239500000)\n"
     ]
    }
   ],
   "source": [
    "clear_data_df, data, num, cat, target = make_data_for_trading(share_id = share_id)\n",
    "model = model_training(data, num, cat, target, args)\n",
    "start_trading(model, clear_data_df, end_datetime = dt.datetime(2025, 2, 10, 20, 30))"
   ]
  },
  {
   "cell_type": "code",
   "execution_count": 15,
   "metadata": {},
   "outputs": [
    {
     "name": "stderr",
     "output_type": "stream",
     "text": [
      "2025-02-10 13:52:20,329 - INFO - c602d024d54fb64b3465f34a55b5ec4d GetAccounts\n",
      "2025-02-10 13:52:20,470 - INFO - 827bda8c34fe9e1a9e0d5782b77a6686 CloseSandboxAccount\n",
      "2025-02-10 13:52:20,620 - INFO - 62adb911548eecde2d63b16449cf31eb CloseSandboxAccount\n",
      "2025-02-10 13:52:20,770 - INFO - fea897643dffaeb899179ef90ccb9867 CloseSandboxAccount\n",
      "2025-02-10 13:52:20,919 - INFO - 34d3f215b4056920d18a9f170e847e16 CloseSandboxAccount\n",
      "2025-02-10 13:52:21,066 - INFO - aab220edb5a074a220466a032f3b1829 CloseSandboxAccount\n",
      "2025-02-10 13:52:21,211 - INFO - c76a941314d678ef0e58d537dc6347f9 CloseSandboxAccount\n",
      "2025-02-10 13:52:21,346 - INFO - 0b7430942f3bb5ae9411f54d71d448f8 CloseSandboxAccount\n",
      "2025-02-10 13:52:21,495 - INFO - dee4dea97c8ce724652920b533f77ea2 CloseSandboxAccount\n",
      "2025-02-10 13:52:21,636 - INFO - 47b3a8f779c89cc6b975b3ac71e2faaa CloseSandboxAccount\n",
      "2025-02-10 13:52:21,772 - INFO - ed8a775cc7f706dac1bb8b0d206fa341 CloseSandboxAccount\n"
     ]
    }
   ],
   "source": [
    "def clear_sb_accs():\n",
    "    with SandboxClient(TOKEN) as client:\n",
    "        accs = client.users.get_accounts().accounts\n",
    "        for acc in accs:\n",
    "            client.sandbox.close_sandbox_account(account_id=acc.id)\n",
    "\n",
    "clear_sb_accs()"
   ]
  },
  {
   "cell_type": "code",
   "execution_count": null,
   "metadata": {},
   "outputs": [
    {
     "name": "stderr",
     "output_type": "stream",
     "text": [
      "2025-02-10 09:37:31,318 - INFO - 34000498cb47398d32e7aad3a7abdeff GetCandles\n"
     ]
    },
    {
     "name": "stdout",
     "output_type": "stream",
     "text": [
      "                         open                                high  \\\n",
      "0  {'units': 4232, 'nano': 0}  {'units': 4236, 'nano': 500000000}   \n",
      "\n",
      "                                  low                       close volume  \\\n",
      "0  {'units': 4231, 'nano': 500000000}  {'units': 4236, 'nano': 0}   3651   \n",
      "\n",
      "                        time is_complete candle_source_type  \n",
      "0  2025-02-10 06:20:00+00:00        True                  1  \n"
     ]
    }
   ],
   "source": [
    "with SandboxClient(TOKEN) as client:\n",
    "                curr_candle = client.get_all_candles(\n",
    "                instrument_id=\"TCS00A107T19\",\n",
    "                from_=now() - timedelta(minutes=10),\n",
    "                interval=CandleInterval.CANDLE_INTERVAL_10_MIN,\n",
    "                candle_source_type=CandleSource.CANDLE_SOURCE_UNSPECIFIED,\n",
    "                )\n",
    "                \n",
    "                curr_candle = pd.DataFrame(curr_candle).iloc[0].to_frame().T\n",
    "                curr_candle = curr_candle.rename({'time': 'utc'})\n",
    "\n",
    "                for col in ['open', 'high', 'low', 'close']:\n",
    "                    curr_candle[col] = curr_candle[col].apply(convert_price)"
   ]
  },
  {
   "cell_type": "code",
   "execution_count": 48,
   "metadata": {},
   "outputs": [
    {
     "name": "stdout",
     "output_type": "stream",
     "text": [
      "GetAccountsResponse(accounts=[Account(id='8d8df0ab-1d11-4ca3-8b00-4275b3ff4736', type=<AccountType.ACCOUNT_TYPE_TINKOFF: 1>, name='lerochka_tests', status=<AccountStatus.ACCOUNT_STATUS_OPEN: 2>, opened_date=datetime.datetime(2025, 2, 10, 5, 17, 52, 150241, tzinfo=datetime.timezone.utc), closed_date=datetime.datetime(1970, 1, 1, 0, 0, tzinfo=datetime.timezone.utc), access_level=<AccessLevel.ACCOUNT_ACCESS_LEVEL_FULL_ACCESS: 1>)])\n"
     ]
    }
   ],
   "source": [
    "with SandboxClient(TOKEN) as client:\n",
    "        acc_id = client.sandbox.open_sandbox_account(name=\"lerochka_tests\").account_id\n",
    "        print(client.users.get_accounts())\n",
    "        "
   ]
  },
  {
   "cell_type": "code",
   "execution_count": 61,
   "metadata": {},
   "outputs": [],
   "source": [
    "with SandboxClient(TOKEN) as client:\n",
    "        # print(acc_id)\n",
    "        client.sandbox.sandbox_pay_in(account_id=acc_id, amount=MoneyValue(currency=\"643\", units=10000, nano=0))"
   ]
  },
  {
   "cell_type": "code",
   "execution_count": 71,
   "metadata": {},
   "outputs": [],
   "source": [
    "share_id = \"TCS00A107T19\" # YDEX\n",
    "\n",
    "with SandboxClient(TOKEN) as client:\n",
    "            # request = PostOrderRequest(\n",
    "            #     order_type=OrderType.ORDER_TYPE_MARKET,\n",
    "            #     direction=OrderDirection.ORDER_DIRECTION_BUY,\n",
    "            #     instrument_id=share_id,\n",
    "            #     quantity=1,\n",
    "            #     account_id=acc_id,\n",
    "            #     order_id=str(uuid4()),\n",
    "            # )\n",
    "            response = client.orders.post_order(\n",
    "                order_type=OrderType.ORDER_TYPE_MARKET,\n",
    "                direction=OrderDirection.ORDER_DIRECTION_BUY,\n",
    "                instrument_id=share_id,\n",
    "                quantity=1,\n",
    "                account_id=acc_id,\n",
    "                order_id=str(uuid4())\n",
    "            )"
   ]
  },
  {
   "cell_type": "code",
   "execution_count": 78,
   "metadata": {},
   "outputs": [],
   "source": [
    "with SandboxClient(TOKEN) as client:\n",
    "    portfolio = client.operations.get_portfolio(account_id=acc_id)"
   ]
  },
  {
   "cell_type": "code",
   "execution_count": 79,
   "metadata": {},
   "outputs": [
    {
     "data": {
      "text/plain": [
       "MoneyValue(currency='rub', units=7274, nano=642000000)"
      ]
     },
     "execution_count": 79,
     "metadata": {},
     "output_type": "execute_result"
    }
   ],
   "source": [
    "portfolio.total_amount_currencies"
   ]
  },
  {
   "cell_type": "code",
   "execution_count": 21,
   "metadata": {},
   "outputs": [
    {
     "ename": "ImportError",
     "evalue": "cannot import name 'OpenSandboxAccount' from 'tinkoff.invest.sandbox' (c:\\Users\\Валерия\\OneDrive\\Документы\\GitHub\\prices-predictions\\myenv\\Lib\\site-packages\\tinkoff\\invest\\sandbox\\__init__.py)",
     "output_type": "error",
     "traceback": [
      "\u001b[1;31m---------------------------------------------------------------------------\u001b[0m",
      "\u001b[1;31mImportError\u001b[0m                               Traceback (most recent call last)",
      "Cell \u001b[1;32mIn[21], line 3\u001b[0m\n\u001b[0;32m      1\u001b[0m \u001b[38;5;28;01mfrom\u001b[39;00m \u001b[38;5;21;01mtinkoff\u001b[39;00m\u001b[38;5;21;01m.\u001b[39;00m\u001b[38;5;21;01minvest\u001b[39;00m \u001b[38;5;28;01mimport\u001b[39;00m Client\n\u001b[0;32m      2\u001b[0m \u001b[38;5;28;01mfrom\u001b[39;00m \u001b[38;5;21;01mtinkoff\u001b[39;00m\u001b[38;5;21;01m.\u001b[39;00m\u001b[38;5;21;01minvest\u001b[39;00m\u001b[38;5;21;01m.\u001b[39;00m\u001b[38;5;21;01mconstants\u001b[39;00m \u001b[38;5;28;01mimport\u001b[39;00m INVEST_GRPC_API_SANDBOX\n\u001b[1;32m----> 3\u001b[0m \u001b[38;5;28;01mfrom\u001b[39;00m \u001b[38;5;21;01mtinkoff\u001b[39;00m\u001b[38;5;21;01m.\u001b[39;00m\u001b[38;5;21;01minvest\u001b[39;00m\u001b[38;5;21;01m.\u001b[39;00m\u001b[38;5;21;01msandbox\u001b[39;00m \u001b[38;5;28;01mimport\u001b[39;00m OpenSandboxAccount\n\u001b[0;32m      5\u001b[0m TOKEN \u001b[38;5;241m=\u001b[39m ttoken\n\u001b[0;32m      7\u001b[0m \u001b[38;5;28;01mwith\u001b[39;00m Client(TOKEN, target\u001b[38;5;241m=\u001b[39mINVEST_GRPC_API_SANDBOX) \u001b[38;5;28;01mas\u001b[39;00m client:\n",
      "\u001b[1;31mImportError\u001b[0m: cannot import name 'OpenSandboxAccount' from 'tinkoff.invest.sandbox' (c:\\Users\\Валерия\\OneDrive\\Документы\\GitHub\\prices-predictions\\myenv\\Lib\\site-packages\\tinkoff\\invest\\sandbox\\__init__.py)"
     ]
    }
   ],
   "source": [
    "from tinkoff.invest import Client\n",
    "from tinkoff.invest.constants import INVEST_GRPC_API_SANDBOX\n",
    "from tinkoff.invest.sandbox import OpenSandboxAccount\n",
    "\n",
    "TOKEN = ttoken\n",
    "\n",
    "with Client(TOKEN, target=INVEST_GRPC_API_SANDBOX) as client:\n",
    "    client.OpenSandboxAccount()"
   ]
  }
 ],
 "metadata": {
  "kernelspec": {
   "display_name": "myenv",
   "language": "python",
   "name": "python3"
  },
  "language_info": {
   "codemirror_mode": {
    "name": "ipython",
    "version": 3
   },
   "file_extension": ".py",
   "mimetype": "text/x-python",
   "name": "python",
   "nbconvert_exporter": "python",
   "pygments_lexer": "ipython3",
   "version": "3.12.6"
  }
 },
 "nbformat": 4,
 "nbformat_minor": 2
}
