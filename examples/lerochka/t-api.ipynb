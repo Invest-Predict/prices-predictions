{
 "cells": [
  {
   "cell_type": "code",
   "execution_count": 2,
   "metadata": {},
   "outputs": [],
   "source": [
    "from dotenv import load_dotenv\n",
    "import os\n",
    "\n",
    "load_dotenv()\n",
    "ttoken = os.getenv(\"T_TOKEN\")"
   ]
  },
  {
   "cell_type": "code",
   "execution_count": 3,
   "metadata": {},
   "outputs": [
    {
     "name": "stderr",
     "output_type": "stream",
     "text": [
      "2025-02-10 14:37:15,907 - INFO - 2bc8a8970d2f939b63eb52a236f0e4d7 GetAccounts\n"
     ]
    },
    {
     "name": "stdout",
     "output_type": "stream",
     "text": [
      "GetAccountsResponse(accounts=[Account(id='baa1dc59-6ac3-4e29-bddf-6b006765e6ae', type=<AccountType.ACCOUNT_TYPE_TINKOFF: 1>, name='lerochka', status=<AccountStatus.ACCOUNT_STATUS_OPEN: 2>, opened_date=datetime.datetime(2025, 2, 10, 10, 52, 55, 389336, tzinfo=datetime.timezone.utc), closed_date=datetime.datetime(1970, 1, 1, 0, 0, tzinfo=datetime.timezone.utc), access_level=<AccessLevel.ACCOUNT_ACCESS_LEVEL_FULL_ACCESS: 1>)])\n"
     ]
    }
   ],
   "source": [
    "from tinkoff.invest import GetMaxLotsRequest, FindInstrumentRequest\n",
    "from tinkoff.invest.sandbox.async_client import AsyncSandboxClient\n",
    "from tinkoff.invest.sandbox.client import SandboxClient\n",
    "from datetime import timedelta\n",
    "\n",
    "from tinkoff.invest import CandleInterval\n",
    "from tinkoff.invest.schemas import CandleSource\n",
    "from tinkoff.invest.utils import now\n",
    "\n",
    "TOKEN = ttoken\n",
    "\n",
    "with SandboxClient(TOKEN) as client:\n",
    "        print(client.users.get_accounts())"
   ]
  },
  {
   "cell_type": "code",
   "execution_count": 50,
   "metadata": {},
   "outputs": [
    {
     "name": "stdout",
     "output_type": "stream",
     "text": [
      "InstrumentShort(isin='', figi='FUTYDEX03250', ticker='YDH5', class_code='SPBFUT', instrument_type='futures', name='YDEX-3.25 Яндекс', uid='95db48f9-f268-431b-8439-181d77375b4e', position_uid='1fa4eb9b-9c04-4469-b2dc-740b771f01bd', instrument_kind=<InstrumentType.INSTRUMENT_TYPE_FUTURES: 5>, api_trade_available_flag=True, for_iis_flag=True, first_1min_candle_date=datetime.datetime(2024, 9, 13, 12, 3, tzinfo=datetime.timezone.utc), first_1day_candle_date=datetime.datetime(2024, 9, 13, 0, 0, tzinfo=datetime.timezone.utc), for_qual_investor_flag=False, weekend_flag=False, blocked_tca_flag=False, lot=1)\n",
      "InstrumentShort(isin='', figi='FUTYDEX09240', ticker='YDU4', class_code='SPBFUT', instrument_type='futures', name='YDEX-9.24 Яндекс', uid='ccdba46f-9383-4f9f-bcfc-a7c47e23a277', position_uid='1fa26971-ada5-4ba7-97af-d445ce435862', instrument_kind=<InstrumentType.INSTRUMENT_TYPE_FUTURES: 5>, api_trade_available_flag=False, for_iis_flag=True, first_1min_candle_date=datetime.datetime(1970, 1, 1, 0, 0, tzinfo=datetime.timezone.utc), first_1day_candle_date=datetime.datetime(1970, 1, 1, 0, 0, tzinfo=datetime.timezone.utc), for_qual_investor_flag=False, weekend_flag=False, blocked_tca_flag=False, lot=1)\n",
      "InstrumentShort(isin='', figi='FUTYDEX12240', ticker='YDZ4', class_code='SPBFUT', instrument_type='futures', name='YDEX-12.24 Яндекс', uid='6ea0c525-3c96-41a1-bcef-af53c50e2b5a', position_uid='1fa329b2-cc38-410d-9182-f719eb6b3723', instrument_kind=<InstrumentType.INSTRUMENT_TYPE_FUTURES: 5>, api_trade_available_flag=False, for_iis_flag=True, first_1min_candle_date=datetime.datetime(1970, 1, 1, 0, 0, tzinfo=datetime.timezone.utc), first_1day_candle_date=datetime.datetime(1970, 1, 1, 0, 0, tzinfo=datetime.timezone.utc), for_qual_investor_flag=False, weekend_flag=False, blocked_tca_flag=False, lot=1)\n",
      "InstrumentShort(isin='RU000A107T19', figi='TCS00A107T19', ticker='YDEX', class_code='TQBR', instrument_type='share', name='Яндекс', uid='7de75794-a27f-4d81-a39b-492345813822', position_uid='205a3042-12d0-4b21-ae8a-7764ff2260cc', instrument_kind=<InstrumentType.INSTRUMENT_TYPE_SHARE: 2>, api_trade_available_flag=True, for_iis_flag=True, first_1min_candle_date=datetime.datetime(2018, 3, 7, 18, 38, tzinfo=datetime.timezone.utc), first_1day_candle_date=datetime.datetime(2014, 6, 4, 7, 0, tzinfo=datetime.timezone.utc), for_qual_investor_flag=False, weekend_flag=True, blocked_tca_flag=False, lot=1)\n",
      "InstrumentShort(isin='', figi='FUTYDEX06250', ticker='YDM5', class_code='SPBFUT', instrument_type='futures', name='YDEX-6.25 Яндекс', uid='ce4e6f80-b124-4897-9b58-4a9398121258', position_uid='1fa5a9cf-ace2-42f1-b16e-c893e0966dbc', instrument_kind=<InstrumentType.INSTRUMENT_TYPE_FUTURES: 5>, api_trade_available_flag=True, for_iis_flag=True, first_1min_candle_date=datetime.datetime(2024, 12, 10, 17, 45, tzinfo=datetime.timezone.utc), first_1day_candle_date=datetime.datetime(2024, 12, 10, 0, 0, tzinfo=datetime.timezone.utc), for_qual_investor_flag=False, weekend_flag=False, blocked_tca_flag=False, lot=1)\n"
     ]
    }
   ],
   "source": [
    "with SandboxClient(TOKEN) as client:\n",
    "        \n",
    "        r = client.instruments.find_instrument(query=\"YDEX\")\n",
    "        for i in r.instruments:\n",
    "            print(i)"
   ]
  },
  {
   "cell_type": "code",
   "execution_count": 15,
   "metadata": {},
   "outputs": [
    {
     "data": {
      "text/html": [
       "<div>\n",
       "<style scoped>\n",
       "    .dataframe tbody tr th:only-of-type {\n",
       "        vertical-align: middle;\n",
       "    }\n",
       "\n",
       "    .dataframe tbody tr th {\n",
       "        vertical-align: top;\n",
       "    }\n",
       "\n",
       "    .dataframe thead th {\n",
       "        text-align: right;\n",
       "    }\n",
       "</style>\n",
       "<table border=\"1\" class=\"dataframe\">\n",
       "  <thead>\n",
       "    <tr style=\"text-align: right;\">\n",
       "      <th></th>\n",
       "      <th>open</th>\n",
       "      <th>high</th>\n",
       "      <th>low</th>\n",
       "      <th>close</th>\n",
       "      <th>volume</th>\n",
       "      <th>time</th>\n",
       "      <th>is_complete</th>\n",
       "      <th>candle_source_type</th>\n",
       "    </tr>\n",
       "  </thead>\n",
       "  <tbody>\n",
       "    <tr>\n",
       "      <th>0</th>\n",
       "      <td>{'units': 4233, 'nano': 500000000}</td>\n",
       "      <td>{'units': 4235, 'nano': 0}</td>\n",
       "      <td>{'units': 4233, 'nano': 500000000}</td>\n",
       "      <td>{'units': 4233, 'nano': 500000000}</td>\n",
       "      <td>81</td>\n",
       "      <td>2025-02-09 15:40:00+00:00</td>\n",
       "      <td>True</td>\n",
       "      <td>2</td>\n",
       "    </tr>\n",
       "    <tr>\n",
       "      <th>1</th>\n",
       "      <td>{'units': 4235, 'nano': 0}</td>\n",
       "      <td>{'units': 4235, 'nano': 0}</td>\n",
       "      <td>{'units': 4235, 'nano': 0}</td>\n",
       "      <td>{'units': 4235, 'nano': 0}</td>\n",
       "      <td>9</td>\n",
       "      <td>2025-02-09 15:50:00+00:00</td>\n",
       "      <td>False</td>\n",
       "      <td>2</td>\n",
       "    </tr>\n",
       "  </tbody>\n",
       "</table>\n",
       "</div>"
      ],
      "text/plain": [
       "                                 open                        high  \\\n",
       "0  {'units': 4233, 'nano': 500000000}  {'units': 4235, 'nano': 0}   \n",
       "1          {'units': 4235, 'nano': 0}  {'units': 4235, 'nano': 0}   \n",
       "\n",
       "                                  low                               close  \\\n",
       "0  {'units': 4233, 'nano': 500000000}  {'units': 4233, 'nano': 500000000}   \n",
       "1          {'units': 4235, 'nano': 0}          {'units': 4235, 'nano': 0}   \n",
       "\n",
       "   volume                      time  is_complete  candle_source_type  \n",
       "0      81 2025-02-09 15:40:00+00:00         True                   2  \n",
       "1       9 2025-02-09 15:50:00+00:00        False                   2  "
      ]
     },
     "execution_count": 15,
     "metadata": {},
     "output_type": "execute_result"
    }
   ],
   "source": [
    "import pandas as pd\n",
    "\n",
    "with SandboxClient(TOKEN) as client:\n",
    "        \n",
    "        # r = client.instruments.find_instrument(query=\"Sber\")\n",
    "        # for i in r.instruments:\n",
    "        #     print(i)\n",
    "\n",
    "        candles = client.get_all_candles(\n",
    "            instrument_id=\"TCS00A107T19\",\n",
    "            from_=now() - timedelta(minutes=10),\n",
    "            interval=CandleInterval.CANDLE_INTERVAL_10_MIN,\n",
    "            candle_source_type=CandleSource.CANDLE_SOURCE_UNSPECIFIED,\n",
    "        )\n",
    "        \n",
    "        df = pd.DataFrame(candles)\n",
    "\n",
    "df"
   ]
  },
  {
   "cell_type": "code",
   "execution_count": 4,
   "metadata": {},
   "outputs": [
    {
     "ename": "NameError",
     "evalue": "name 'df' is not defined",
     "output_type": "error",
     "traceback": [
      "\u001b[1;31m---------------------------------------------------------------------------\u001b[0m",
      "\u001b[1;31mNameError\u001b[0m                                 Traceback (most recent call last)",
      "Cell \u001b[1;32mIn[4], line 7\u001b[0m\n\u001b[0;32m      5\u001b[0m \u001b[38;5;66;03m# Применяем ко всем нужным столбцам\u001b[39;00m\n\u001b[0;32m      6\u001b[0m \u001b[38;5;28;01mfor\u001b[39;00m col \u001b[38;5;129;01min\u001b[39;00m [\u001b[38;5;124m'\u001b[39m\u001b[38;5;124mopen\u001b[39m\u001b[38;5;124m'\u001b[39m, \u001b[38;5;124m'\u001b[39m\u001b[38;5;124mhigh\u001b[39m\u001b[38;5;124m'\u001b[39m, \u001b[38;5;124m'\u001b[39m\u001b[38;5;124mlow\u001b[39m\u001b[38;5;124m'\u001b[39m, \u001b[38;5;124m'\u001b[39m\u001b[38;5;124mclose\u001b[39m\u001b[38;5;124m'\u001b[39m]:\n\u001b[1;32m----> 7\u001b[0m     df[col] \u001b[38;5;241m=\u001b[39m \u001b[43mdf\u001b[49m[col]\u001b[38;5;241m.\u001b[39mapply(convert_price)\n",
      "\u001b[1;31mNameError\u001b[0m: name 'df' is not defined"
     ]
    }
   ],
   "source": [
    "# Функция для преобразования словаря в float - нужна для подсчета стоимости акций\n",
    "def convert_price(value):\n",
    "    return value['units'] + value['nano'] / 1e9\n",
    "\n",
    "# Применяем ко всем нужным столбцам\n",
    "for col in ['open', 'high', 'low', 'close']:\n",
    "    df[col] = df[col].apply(convert_price)"
   ]
  },
  {
   "cell_type": "code",
   "execution_count": 6,
   "metadata": {},
   "outputs": [
    {
     "data": {
      "text/html": [
       "<div>\n",
       "<style scoped>\n",
       "    .dataframe tbody tr th:only-of-type {\n",
       "        vertical-align: middle;\n",
       "    }\n",
       "\n",
       "    .dataframe tbody tr th {\n",
       "        vertical-align: top;\n",
       "    }\n",
       "\n",
       "    .dataframe thead th {\n",
       "        text-align: right;\n",
       "    }\n",
       "</style>\n",
       "<table border=\"1\" class=\"dataframe\">\n",
       "  <thead>\n",
       "    <tr style=\"text-align: right;\">\n",
       "      <th></th>\n",
       "      <th>open</th>\n",
       "      <th>high</th>\n",
       "      <th>low</th>\n",
       "      <th>close</th>\n",
       "      <th>volume</th>\n",
       "      <th>time</th>\n",
       "      <th>is_complete</th>\n",
       "      <th>candle_source_type</th>\n",
       "    </tr>\n",
       "  </thead>\n",
       "  <tbody>\n",
       "    <tr>\n",
       "      <th>0</th>\n",
       "      <td>4236.5</td>\n",
       "      <td>4236.5</td>\n",
       "      <td>4236.0</td>\n",
       "      <td>4236.0</td>\n",
       "      <td>141</td>\n",
       "      <td>2025-02-09 13:40:00+00:00</td>\n",
       "      <td>True</td>\n",
       "      <td>2</td>\n",
       "    </tr>\n",
       "    <tr>\n",
       "      <th>1</th>\n",
       "      <td>4236.5</td>\n",
       "      <td>4236.5</td>\n",
       "      <td>4236.0</td>\n",
       "      <td>4236.5</td>\n",
       "      <td>39</td>\n",
       "      <td>2025-02-09 13:50:00+00:00</td>\n",
       "      <td>True</td>\n",
       "      <td>2</td>\n",
       "    </tr>\n",
       "    <tr>\n",
       "      <th>2</th>\n",
       "      <td>4236.0</td>\n",
       "      <td>4237.0</td>\n",
       "      <td>4225.5</td>\n",
       "      <td>4228.0</td>\n",
       "      <td>318</td>\n",
       "      <td>2025-02-09 14:00:00+00:00</td>\n",
       "      <td>True</td>\n",
       "      <td>2</td>\n",
       "    </tr>\n",
       "    <tr>\n",
       "      <th>3</th>\n",
       "      <td>4227.5</td>\n",
       "      <td>4233.0</td>\n",
       "      <td>4222.5</td>\n",
       "      <td>4223.5</td>\n",
       "      <td>412</td>\n",
       "      <td>2025-02-09 14:10:00+00:00</td>\n",
       "      <td>True</td>\n",
       "      <td>2</td>\n",
       "    </tr>\n",
       "    <tr>\n",
       "      <th>4</th>\n",
       "      <td>4224.0</td>\n",
       "      <td>4229.5</td>\n",
       "      <td>4222.5</td>\n",
       "      <td>4224.0</td>\n",
       "      <td>76</td>\n",
       "      <td>2025-02-09 14:20:00+00:00</td>\n",
       "      <td>True</td>\n",
       "      <td>2</td>\n",
       "    </tr>\n",
       "    <tr>\n",
       "      <th>5</th>\n",
       "      <td>4224.0</td>\n",
       "      <td>4230.0</td>\n",
       "      <td>4221.5</td>\n",
       "      <td>4222.0</td>\n",
       "      <td>61</td>\n",
       "      <td>2025-02-09 14:30:00+00:00</td>\n",
       "      <td>True</td>\n",
       "      <td>2</td>\n",
       "    </tr>\n",
       "    <tr>\n",
       "      <th>6</th>\n",
       "      <td>4222.0</td>\n",
       "      <td>4230.0</td>\n",
       "      <td>4221.5</td>\n",
       "      <td>4222.5</td>\n",
       "      <td>46</td>\n",
       "      <td>2025-02-09 14:40:00+00:00</td>\n",
       "      <td>True</td>\n",
       "      <td>2</td>\n",
       "    </tr>\n",
       "    <tr>\n",
       "      <th>7</th>\n",
       "      <td>4229.0</td>\n",
       "      <td>4230.0</td>\n",
       "      <td>4222.5</td>\n",
       "      <td>4224.0</td>\n",
       "      <td>88</td>\n",
       "      <td>2025-02-09 14:50:00+00:00</td>\n",
       "      <td>True</td>\n",
       "      <td>2</td>\n",
       "    </tr>\n",
       "    <tr>\n",
       "      <th>8</th>\n",
       "      <td>4230.0</td>\n",
       "      <td>4236.0</td>\n",
       "      <td>4224.0</td>\n",
       "      <td>4229.5</td>\n",
       "      <td>179</td>\n",
       "      <td>2025-02-09 15:00:00+00:00</td>\n",
       "      <td>True</td>\n",
       "      <td>2</td>\n",
       "    </tr>\n",
       "    <tr>\n",
       "      <th>9</th>\n",
       "      <td>4235.5</td>\n",
       "      <td>4235.5</td>\n",
       "      <td>4230.0</td>\n",
       "      <td>4235.0</td>\n",
       "      <td>290</td>\n",
       "      <td>2025-02-09 15:10:00+00:00</td>\n",
       "      <td>True</td>\n",
       "      <td>2</td>\n",
       "    </tr>\n",
       "    <tr>\n",
       "      <th>10</th>\n",
       "      <td>4235.0</td>\n",
       "      <td>4235.5</td>\n",
       "      <td>4233.5</td>\n",
       "      <td>4234.0</td>\n",
       "      <td>153</td>\n",
       "      <td>2025-02-09 15:20:00+00:00</td>\n",
       "      <td>True</td>\n",
       "      <td>2</td>\n",
       "    </tr>\n",
       "    <tr>\n",
       "      <th>11</th>\n",
       "      <td>4234.0</td>\n",
       "      <td>4235.5</td>\n",
       "      <td>4233.5</td>\n",
       "      <td>4233.5</td>\n",
       "      <td>162</td>\n",
       "      <td>2025-02-09 15:30:00+00:00</td>\n",
       "      <td>True</td>\n",
       "      <td>2</td>\n",
       "    </tr>\n",
       "    <tr>\n",
       "      <th>12</th>\n",
       "      <td>4233.5</td>\n",
       "      <td>4235.0</td>\n",
       "      <td>4233.5</td>\n",
       "      <td>4235.0</td>\n",
       "      <td>2</td>\n",
       "      <td>2025-02-09 15:40:00+00:00</td>\n",
       "      <td>False</td>\n",
       "      <td>2</td>\n",
       "    </tr>\n",
       "  </tbody>\n",
       "</table>\n",
       "</div>"
      ],
      "text/plain": [
       "      open    high     low   close  volume                      time  \\\n",
       "0   4236.5  4236.5  4236.0  4236.0     141 2025-02-09 13:40:00+00:00   \n",
       "1   4236.5  4236.5  4236.0  4236.5      39 2025-02-09 13:50:00+00:00   \n",
       "2   4236.0  4237.0  4225.5  4228.0     318 2025-02-09 14:00:00+00:00   \n",
       "3   4227.5  4233.0  4222.5  4223.5     412 2025-02-09 14:10:00+00:00   \n",
       "4   4224.0  4229.5  4222.5  4224.0      76 2025-02-09 14:20:00+00:00   \n",
       "5   4224.0  4230.0  4221.5  4222.0      61 2025-02-09 14:30:00+00:00   \n",
       "6   4222.0  4230.0  4221.5  4222.5      46 2025-02-09 14:40:00+00:00   \n",
       "7   4229.0  4230.0  4222.5  4224.0      88 2025-02-09 14:50:00+00:00   \n",
       "8   4230.0  4236.0  4224.0  4229.5     179 2025-02-09 15:00:00+00:00   \n",
       "9   4235.5  4235.5  4230.0  4235.0     290 2025-02-09 15:10:00+00:00   \n",
       "10  4235.0  4235.5  4233.5  4234.0     153 2025-02-09 15:20:00+00:00   \n",
       "11  4234.0  4235.5  4233.5  4233.5     162 2025-02-09 15:30:00+00:00   \n",
       "12  4233.5  4235.0  4233.5  4235.0       2 2025-02-09 15:40:00+00:00   \n",
       "\n",
       "    is_complete  candle_source_type  \n",
       "0          True                   2  \n",
       "1          True                   2  \n",
       "2          True                   2  \n",
       "3          True                   2  \n",
       "4          True                   2  \n",
       "5          True                   2  \n",
       "6          True                   2  \n",
       "7          True                   2  \n",
       "8          True                   2  \n",
       "9          True                   2  \n",
       "10         True                   2  \n",
       "11         True                   2  \n",
       "12        False                   2  "
      ]
     },
     "execution_count": 6,
     "metadata": {},
     "output_type": "execute_result"
    }
   ],
   "source": [
    "df"
   ]
  },
  {
   "cell_type": "markdown",
   "metadata": {},
   "source": [
    "Торги 1 акцией в текущем времени через песочницу"
   ]
  },
  {
   "cell_type": "code",
   "execution_count": 5,
   "metadata": {},
   "outputs": [],
   "source": [
    "%load_ext IPython.extensions.autoreload\n",
    "%autoreload 2"
   ]
  },
  {
   "cell_type": "code",
   "execution_count": 6,
   "metadata": {},
   "outputs": [
    {
     "name": "stderr",
     "output_type": "stream",
     "text": [
      "c:\\Users\\Валерия\\OneDrive\\Документы\\GitHub\\prices-predictions\\myenv\\Lib\\site-packages\\tqdm\\auto.py:21: TqdmWarning: IProgress not found. Please update jupyter and ipywidgets. See https://ipywidgets.readthedocs.io/en/stable/user_install.html\n",
      "  from .autonotebook import tqdm as notebook_tqdm\n"
     ]
    }
   ],
   "source": [
    "import sys\n",
    "sys.path.append('../..')\n",
    "from model import FinData\n",
    "from model import merged_split\n",
    "from model import CatboostFinModel\n",
    "from model import train_valid_test_split, train_valid_split_candles"
   ]
  },
  {
   "cell_type": "code",
   "execution_count": 7,
   "metadata": {},
   "outputs": [],
   "source": [
    "import datetime as dt"
   ]
  },
  {
   "cell_type": "code",
   "execution_count": 8,
   "metadata": {},
   "outputs": [],
   "source": [
    "import time\n",
    "from datetime import datetime, timedelta\n",
    "\n",
    "def wait_until_next_x1_multiple(x = 10):\n",
    "    \"\"\"Ждет до ближайшей минуты, которая кратна X1.\"\"\"\n",
    "    now = datetime.now()\n",
    "    next_minute = (now.minute // x + 1) * x  # Следующая X1-кратная минута\n",
    "    next_time = now.replace(minute=next_minute % 60, second=0, microsecond=0)\n",
    "\n",
    "    # Если перешли через час\n",
    "    if next_minute >= 60:\n",
    "        next_time += timedelta(hours=1)\n",
    "\n",
    "    wait_seconds = (next_time - now).total_seconds()\n",
    "    print(f\"Ждем {wait_seconds:.2f} секунд до {next_time.strftime('%H:%M:%S')}...\")\n",
    "    time.sleep(wait_seconds)\n",
    "\n",
    "# Пример использования: ждем до ближайшей минуты, кратной 3\n",
    "# X = 10\n",
    "# wait_until_next_x1_multiple(X)\n",
    "# print(\"Код запущен!\")\n"
   ]
  },
  {
   "cell_type": "code",
   "execution_count": 9,
   "metadata": {},
   "outputs": [],
   "source": [
    "from tinkoff.invest.schemas import OrderDirection, OrderType, PostOrderRequest, MoneyValue\n",
    "from uuid import uuid4"
   ]
  },
  {
   "cell_type": "code",
   "execution_count": 5,
   "metadata": {},
   "outputs": [
    {
     "data": {
      "text/plain": [
       "MoneyValue(currency='643', units=10000, nano=0)"
      ]
     },
     "execution_count": 5,
     "metadata": {},
     "output_type": "execute_result"
    }
   ],
   "source": [
    "MoneyValue(currency=\"643\", units=10000, nano=0)"
   ]
  },
  {
   "cell_type": "code",
   "execution_count": null,
   "metadata": {},
   "outputs": [],
   "source": [
    "# share_id = \"TCS00A107T19\" # YDEX\n",
    "\n",
    "# # Функция для преобразования словаря в float - нужна для подсчета стоимости акций\n",
    "# def convert_price(value):\n",
    "#     return value['units'] + value['nano'] / 1e9\n",
    "\n",
    "# def insert_features(data : FinData):\n",
    "#     windows_shifts_norms = [2, 3, 4, 5, 6]\n",
    "#     windows_ma = [2, 4, 6, 8, 18, 30, 50]\n",
    "#     windows_ema = [3, 5, 7, 9, 20, 35, 100]\n",
    "\n",
    "#     data.insert_shifts_norms(windows_shifts_norms=windows_shifts_norms)\n",
    "#     data.insert_rolling_means(windows_ma=windows_ma)\n",
    "#     data.insert_exp_rolling_means(windows_ema=windows_ema)\n",
    "#     data.insert_bollinger()\n",
    "#     data.insert_rsi()\n",
    "#     data.insert_high_low_diff()\n",
    "#     data.insert_stochastic_oscillator()\n",
    "#     data.insert_random_prediction()\n",
    "\n",
    "\n",
    "# # Выгружаем свечи последних 30 дней ДЛЯ ОБУЧЕНИЯ МОДЕЛИ и преобразуем df в адекватный вид\n",
    "# def make_data_for_trading(share_id):\n",
    "#     # логгер на время начала \n",
    "#     with SandboxClient(TOKEN) as client:\n",
    "#         candles = client.get_all_candles(\n",
    "#             instrument_id=share_id,\n",
    "#             from_=now() - timedelta(days=30),\n",
    "#             interval=CandleInterval.CANDLE_INTERVAL_10_MIN,\n",
    "#             candle_source_type=CandleSource.CANDLE_SOURCE_UNSPECIFIED,\n",
    "#         )\n",
    "#         clear_data_df = pd.DataFrame(candles)\n",
    "#         clear_data_df = clear_data_df.rename(columns={'time': 'utc'})\n",
    "\n",
    "#     for col in ['open', 'high', 'low', 'close']:\n",
    "#         clear_data_df[col] = clear_data_df[col].apply(convert_price)\n",
    "#     # удаляем последнюю недоделанную строку \n",
    "#     clear_data_df = clear_data_df.iloc[:-1]\n",
    "\n",
    "#     data = FinData(clear_data_df)\n",
    "#     insert_features(data)\n",
    "\n",
    "#     return data, data.get_numeric_features(), data.get_cat_features(), data.target\n",
    "\n",
    "# def model_training(data, num, cat, target, args):\n",
    "\n",
    "#     X_train, X_val, y_train, y_val = train_valid_split_candles(data.df, \n",
    "#                                                                train_size=3000, \n",
    "#                                                                val_size=500, \n",
    "#                                                                numeric=num, \n",
    "#                                                                cat=cat, \n",
    "#                                                                target=target)\n",
    "    \n",
    "#     model = CatboostFinModel(args = args)\n",
    "#     model.set_datasets(X_train=X_train, X_val=X_val, y_train=y_train, y_val=y_val)\n",
    "#     model.set_features(numeric_features=num, cat_features=cat)\n",
    "#     model.fit()\n",
    "\n",
    "#     return model\n",
    "\n",
    "# # Сами торги в песочнице\n",
    "# def start_trading(model, data, end_datetime : dt.datetime):\n",
    "#     # инициализируем и пополняем счет \n",
    "#     with SandboxClient(TOKEN) as client:\n",
    "#         acc_id = client.sandbox.open_sandbox_account(name=\"lerochka\").account_id\n",
    "#         # print(acc_id)\n",
    "#         client.sandbox.sandbox_pay_in(account_id=acc_id, amount=MoneyValue(currency=\"643\", units=10000, nano=0))\n",
    "\n",
    "#     portfolio_shares = []\n",
    "#     print(datetime.now(), end_datetime)\n",
    "#     while datetime.now() < end_datetime:\n",
    "#     # ожидаем до 10 минуты, чтобы получить 10-минутные свечи \n",
    "#         wait_until_next_x1_multiple(10)\n",
    "#         # продаем все купленные ранее акции\n",
    "#         for share in portfolio_shares:\n",
    "#             response = client.orders.post_order(\n",
    "#                     order_type=OrderType.ORDER_TYPE_MARKET,\n",
    "#                     direction=OrderDirection.ORDER_DIRECTION_SELL,\n",
    "#                     instrument_id=share[\"inst_id\"],\n",
    "#                     quantity=share[\"quant\"],\n",
    "#                     account_id=acc_id,\n",
    "#                     order_id=str(uuid4())\n",
    "#                 )\n",
    "#             print(response)\n",
    "\n",
    "#         # очищаем портфель\n",
    "#         portfolio_shares.clear()\n",
    "#         # на всякий случай\n",
    "#         time.sleep(0.1)\n",
    "#         with SandboxClient(TOKEN) as client:\n",
    "#                 curr_candle = client.get_all_candles(\n",
    "#                 instrument_id=\"TCS00A107T19\",\n",
    "#                 from_=now() - timedelta(minutes=10),\n",
    "#                 interval=CandleInterval.CANDLE_INTERVAL_10_MIN,\n",
    "#                 candle_source_type=CandleSource.CANDLE_SOURCE_UNSPECIFIED,\n",
    "#                 )\n",
    "        \n",
    "#                 curr_candle = pd.DataFrame(curr_candle).iloc[0]\n",
    "#                 curr_candle = curr_candle.rename({'time': 'utc'})\n",
    "#                 for col in ['open', 'high', 'low', 'close']:\n",
    "#                     curr_candle[col] = curr_candle[col].apply(convert_price)\n",
    "                    \n",
    "#                 # добавляем текущую свечу в датафрейм \n",
    "#                 data_df = pd.concat([data.df, curr_candle], ignore_index=True)\n",
    "#                 # пересчитываем признаки \n",
    "#                 data = FinData(data_df)\n",
    "#                 insert_features(data_df)\n",
    "#                 num = data.get_numeric_features()\n",
    "#                 cat = data.get_cat_features()\n",
    "                \n",
    "#                 x_curr = data.df.tail(1)[num + cat]\n",
    "#                 y_pred = model.predict(x_curr)  \n",
    "#                 print(f\"y_pred\") \n",
    "#                 if y_pred == 1: # и денег хватает !!!!\n",
    "#                     response = client.orders.post_order(\n",
    "#                         order_type=OrderType.ORDER_TYPE_MARKET,\n",
    "#                         direction=OrderDirection.ORDER_DIRECTION_BUY,\n",
    "#                         instrument_id=share_id,\n",
    "#                         quantity=1,\n",
    "#                         account_id=acc_id,\n",
    "#                         order_id=str(uuid4())\n",
    "#                     )\n",
    "#                     portfolio_shares.append({\"inst_id\" : share_id}, {\"quant\" : 1})\n",
    "#                     print(response)"
   ]
  },
  {
   "cell_type": "code",
   "execution_count": 10,
   "metadata": {},
   "outputs": [],
   "source": [
    "args = {\"iterations\" : 3000, \n",
    "        \"depth\" : 5, \n",
    "        \"learning_rate\" : 0.01, \n",
    "        \"use_best_model\" : True, \n",
    "        \"l2_leaf_reg\" : 3,\n",
    "        \"loss_function\" : 'Logloss', \n",
    "        \"eval_metric\" : 'Logloss', \n",
    "        \"cat_features\" : [], \n",
    "        \"random_state\" : 42,\n",
    "        \"verbose\" : 0,\n",
    "        \"early_stopping_rounds\" : 1000}"
   ]
  },
  {
   "cell_type": "code",
   "execution_count": 11,
   "metadata": {},
   "outputs": [],
   "source": [
    "import pandas as pd"
   ]
  },
  {
   "cell_type": "code",
   "execution_count": 14,
   "metadata": {},
   "outputs": [],
   "source": [
    "import logging\n",
    "from datetime import datetime, timedelta\n",
    "import datetime as dt\n",
    "from uuid import uuid4\n",
    "import time\n",
    "import pandas as pd\n",
    "\n",
    "# Настройка логирования\n",
    "logging.basicConfig(\n",
    "    level=logging.INFO,\n",
    "    format=\"%(asctime)s - %(levelname)s - %(message)s\",\n",
    "    handlers=[\n",
    "        logging.FileHandler(\"trading.log\"),\n",
    "        logging.StreamHandler()\n",
    "    ]\n",
    ")\n",
    "\n",
    "share_id = \"TCS00A107T19\" # YDEX\n",
    "\n",
    "def convert_price(value):\n",
    "    return value['units'] + value['nano'] / 1e9\n",
    "\n",
    "def insert_features(data : FinData):\n",
    "    windows_shifts_norms = [2, 3, 4, 5, 6]\n",
    "    windows_ma = [2, 4, 6, 8, 18, 30, 50]\n",
    "    windows_ema = [3, 5, 7, 9, 20, 35, 100]\n",
    "\n",
    "    data.insert_shifts_norms(windows_shifts_norms=windows_shifts_norms)\n",
    "    data.insert_rolling_means(windows_ma=windows_ma)\n",
    "    data.insert_exp_rolling_means(windows_ema=windows_ema)\n",
    "    data.insert_bollinger()\n",
    "    data.insert_rsi()\n",
    "    data.insert_high_low_diff()\n",
    "    data.insert_stochastic_oscillator()\n",
    "    data.insert_random_prediction()\n",
    "\n",
    "def make_data_for_trading(share_id):\n",
    "    logging.info(\"Начало загрузки данных для обучения модели\")\n",
    "    with SandboxClient(TOKEN) as client:\n",
    "        candles = client.get_all_candles(\n",
    "            instrument_id=share_id,\n",
    "            from_=now() - timedelta(days=30),\n",
    "            interval=CandleInterval.CANDLE_INTERVAL_10_MIN,\n",
    "            candle_source_type=CandleSource.CANDLE_SOURCE_UNSPECIFIED,\n",
    "        )\n",
    "        # candles_list = list(candles)  # Явное преобразование генератора в список\n",
    "        # clear_data_df = pd.DataFrame(candles_list)\n",
    "        clear_data_df = pd.DataFrame(candles)\n",
    "        clear_data_df = clear_data_df.rename(columns={'time': 'utc'})\n",
    "\n",
    "    for col in ['open', 'high', 'low', 'close']:\n",
    "        clear_data_df[col] = clear_data_df[col].apply(convert_price)\n",
    "    clear_data_df = clear_data_df.iloc[:-1]\n",
    "\n",
    "    data = FinData(clear_data_df)\n",
    "    insert_features(data)\n",
    "    # print(\"close_normed_ma_16\" in data.df.columns)\n",
    "    # print(\"close_normed_ma_16\" in data.get_numeric())\n",
    "    logging.info(\"Данные успешно загружены и обработаны\")\n",
    "    logging.info(clear_data_df.columns)\n",
    "\n",
    "    return clear_data_df, data, data.get_numeric_features(), data.get_cat_features(), data.target\n",
    "\n",
    "def model_training(data, num, cat, target, args):\n",
    "    logging.info(\"Начало обучения модели\")\n",
    "    X_train, X_val, y_train, y_val = train_valid_split_candles(data.df, \n",
    "                                                               train_size=3000, \n",
    "                                                               val_size=500, \n",
    "                                                               numeric=num, \n",
    "                                                               cat=cat, \n",
    "                                                               target=target)\n",
    "    model = CatboostFinModel(args=args)\n",
    "    model.set_datasets(X_train=X_train, X_val=X_val, y_train=y_train, y_val=y_val)\n",
    "    model.set_features(numeric_features=num, cat_features=cat)\n",
    "    model.fit()\n",
    "    logging.info(\"Обучение модели завершено\")\n",
    "    return model\n",
    "\n",
    "def start_trading(model, clear_data_df : pd.DataFrame, end_datetime : dt.datetime):\n",
    "    logging.info(\"Запуск торгов в песочнице\")\n",
    "    with SandboxClient(TOKEN) as client:\n",
    "        acc_id = client.sandbox.open_sandbox_account(name=\"lerochka\").account_id\n",
    "        client.sandbox.sandbox_pay_in(account_id=acc_id, amount=MoneyValue(currency=\"643\", units=10000, nano=0))\n",
    "        logging.info(f\"Создан аккаунт {acc_id}, пополнен на 10.000\")\n",
    "    \n",
    "    portfolio_shares = []\n",
    "    logging.info(f\"Торги начинаются: {datetime.now()} / Завершение: {end_datetime}\")\n",
    "    while datetime.now() < end_datetime:\n",
    "        wait_until_next_x1_multiple(10)\n",
    "        logging.info(\"Начинаем новый торговый цикл\")\n",
    "        \n",
    "        with SandboxClient(TOKEN) as client:\n",
    "            for share in portfolio_shares:\n",
    "                if share[\"dur\"] == \"buy\":\n",
    "                    response = client.orders.post_order(\n",
    "                            order_type=OrderType.ORDER_TYPE_MARKET,\n",
    "                            direction=OrderDirection.ORDER_DIRECTION_SELL,\n",
    "                            instrument_id=share[\"inst_id\"],\n",
    "                            quantity=share[\"quant\"],\n",
    "                            account_id=acc_id,\n",
    "                            order_id=str(uuid4())\n",
    "                        )\n",
    "                    logging.info(f\"Продана акция: {response}\")\n",
    "                else:\n",
    "                    response = client.orders.post_order(\n",
    "                            order_type=OrderType.ORDER_TYPE_MARKET,\n",
    "                            direction=OrderDirection.ORDER_DIRECTION_BUY,\n",
    "                            instrument_id=share[\"inst_id\"],\n",
    "                            quantity=share[\"quant\"],\n",
    "                            account_id=acc_id,\n",
    "                            order_id=str(uuid4())\n",
    "                    )\n",
    "                    logging.info(f\"Куплена акция: {response}\")\n",
    "            \n",
    "        portfolio_shares.clear()\n",
    "        time.sleep(0.1)\n",
    "        with SandboxClient(TOKEN) as client:\n",
    "                curr_candle = client.get_all_candles(\n",
    "                instrument_id=\"TCS00A107T19\",\n",
    "                from_=now() - timedelta(minutes=10),\n",
    "                interval=CandleInterval.CANDLE_INTERVAL_10_MIN,\n",
    "                candle_source_type=CandleSource.CANDLE_SOURCE_UNSPECIFIED,\n",
    "                )\n",
    "                \n",
    "                curr_candle = pd.DataFrame(curr_candle).iloc[0].to_frame().T\n",
    "                curr_candle = curr_candle.rename({'time': 'utc'})\n",
    "\n",
    "                for col in ['open', 'high', 'low', 'close']:\n",
    "                    curr_candle[col] = curr_candle[col].apply(convert_price)\n",
    "                \n",
    "                clear_data_df = pd.concat([clear_data_df, curr_candle], ignore_index=True)\n",
    "                logging.info(clear_data_df.shape)\n",
    "                data = FinData(clear_data_df)\n",
    "                insert_features(data)\n",
    "                num = data.get_numeric_features()\n",
    "                cat = data.get_cat_features()\n",
    "                x_curr = data.df.tail(1)[num + cat]\n",
    "                y_pred = model.predict(x_curr)  \n",
    "                logging.info(f\"Предсказание модели: {y_pred}\")\n",
    "                if y_pred == 1:\n",
    "                    response = client.orders.post_order(\n",
    "                        order_type=OrderType.ORDER_TYPE_MARKET,\n",
    "                        direction=OrderDirection.ORDER_DIRECTION_BUY,\n",
    "                        instrument_id=share_id,\n",
    "                        quantity=1,\n",
    "                        account_id=acc_id,\n",
    "                        order_id=str(uuid4())\n",
    "                    )\n",
    "                    portfolio_shares.append({\"inst_id\" : share_id, \"quant\" : 1, \"dur\" : \"buy\"})\n",
    "                    logging.info(f\"Куплена акция: {response}\")\n",
    "\n",
    "                if y_pred == 0:\n",
    "                    response = client.orders.post_order(\n",
    "                        order_type=OrderType.ORDER_TYPE_MARKET,\n",
    "                        direction=OrderDirection.ORDER_DIRECTION_SELL,\n",
    "                        instrument_id=share_id,\n",
    "                        quantity=1,\n",
    "                        account_id=acc_id,\n",
    "                        order_id=str(uuid4())\n",
    "                    )\n",
    "                    portfolio_shares.append({\"inst_id\" : share_id, \"quant\" : 1, \"dur\" : \"sell\"})\n",
    "                    logging.info(f\"Продана акция: {response}\")\n",
    "\n",
    "    with SandboxClient(TOKEN) as client:\n",
    "        portfolio = client.operations.get_portfolio(account_id=acc_id)\n",
    "    logging.info(f\"Торги завершены с окончательной суммой {portfolio.total_amount_currencies}\")"
   ]
  },
  {
   "cell_type": "code",
   "execution_count": 15,
   "metadata": {},
   "outputs": [
    {
     "name": "stderr",
     "output_type": "stream",
     "text": [
      "2025-02-10 14:56:02,977 - INFO - Начало загрузки данных для обучения модели\n",
      "2025-02-10 14:56:03,507 - INFO - ac9836ea54f370f5677bfbe9d064bffb GetCandles\n",
      "2025-02-10 14:56:03,759 - INFO - 8404f4506f8863b95e34d569b4cd5e47 GetCandles\n",
      "2025-02-10 14:56:03,903 - INFO - 421082b165a9b49c16ebad9546b0d779 GetCandles\n",
      "2025-02-10 14:56:04,109 - INFO - a46372acf7e0be7e05b42ccc2a12ea94 GetCandles\n",
      "2025-02-10 14:56:04,272 - INFO - 0e2ded98931550bcb4d75fdd9ca011e5 GetCandles\n",
      "2025-02-10 14:56:04,404 - INFO - d67b636a20ff078be6ec19a37646be79 GetCandles\n",
      "2025-02-10 14:56:04,592 - INFO - ebb66d393f01c219e42842e27f9fe599 GetCandles\n",
      "2025-02-10 14:56:04,766 - INFO - 461608b22f437823b132baf18bb5f213 GetCandles\n",
      "2025-02-10 14:56:04,976 - INFO - 6fec680eeb8530091b0d027b336ce732 GetCandles\n",
      "2025-02-10 14:56:05,105 - INFO - ea2cb47292f18a9d388fb955ed7c91f2 GetCandles\n",
      "2025-02-10 14:56:05,409 - INFO - fe8b5d6edab025cdff1d27dc218f393e GetCandles\n",
      "2025-02-10 14:56:05,548 - INFO - c7a345c42307f0c31942e2592f952d0d GetCandles\n",
      "2025-02-10 14:56:05,680 - INFO - 84a6e4d8d69d63d0ba4bcd02117ba146 GetCandles\n",
      "2025-02-10 14:56:05,918 - INFO - 5fa21e41291296ce0965284a03249803 GetCandles\n",
      "2025-02-10 14:56:06,094 - INFO - 0d079f00ca35180987ea232e0d348783 GetCandles\n",
      "2025-02-10 14:56:06,228 - INFO - e61768d47cf8b7c29b4ebc18bc93b3b7 GetCandles\n",
      "2025-02-10 14:56:06,358 - INFO - baad3e8e14d0656939b3348e25d38f08 GetCandles\n",
      "2025-02-10 14:56:06,488 - INFO - bfeeda2a4d7956e3fd05d6d7eed6dcda GetCandles\n",
      "2025-02-10 14:56:06,621 - INFO - 378e84f7e1df7255529ea66ffccde431 GetCandles\n",
      "2025-02-10 14:56:06,755 - INFO - d5e2b937bf1324bccbb3cf0da05bd9d2 GetCandles\n",
      "2025-02-10 14:56:06,943 - INFO - f850058517129b7b9f1828fe7fd742b4 GetCandles\n",
      "2025-02-10 14:56:07,134 - INFO - ddd440b9f8a42362cb395de0855e9717 GetCandles\n",
      "2025-02-10 14:56:07,290 - INFO - e0a85c93ce18955efe479d974c1a5f02 GetCandles\n",
      "2025-02-10 14:56:07,424 - INFO - 5644cf6234c690703ddb22fd5cd9cad3 GetCandles\n",
      "2025-02-10 14:56:07,548 - INFO - 39dde7f673c76079503bd2949c1af50f GetCandles\n",
      "2025-02-10 14:56:07,680 - INFO - 4ed52773a2840177144f0da352479e12 GetCandles\n",
      "2025-02-10 14:56:07,814 - INFO - ebd2f47d031cbf6b330a51aa6f4bbc96 GetCandles\n",
      "2025-02-10 14:56:07,993 - INFO - 1f850cf976c30bd2a94e50b15c04f9a5 GetCandles\n",
      "2025-02-10 14:56:08,198 - INFO - 02b0bc19cbbb2ae6751247c08c22e84d GetCandles\n",
      "2025-02-10 14:56:08,333 - INFO - 996a80e01d05bd396e27b4c8e4f0e029 GetCandles\n",
      "2025-02-10 14:56:12,865 - INFO - Данные успешно загружены и обработаны\n",
      "2025-02-10 14:56:12,865 - INFO - Index(['open', 'high', 'low', 'close', 'volume', 'utc', 'is_complete',\n",
      "       'candle_source_type'],\n",
      "      dtype='object')\n",
      "2025-02-10 14:56:12,865 - INFO - Начало обучения модели\n",
      "2025-02-10 14:56:19,383 - INFO - Обучение модели завершено\n",
      "2025-02-10 14:56:19,383 - INFO - Запуск торгов в песочнице\n",
      "2025-02-10 14:56:19,901 - INFO - e27043ef687e57321ea09b5f97e951e7 OpenSandboxAccount\n",
      "2025-02-10 14:56:20,046 - INFO - c842fa89b65f2bf85e4063149510a02c SandboxPayIn\n",
      "2025-02-10 14:56:20,048 - INFO - Создан аккаунт 069a9f04-d0c9-42ff-8a43-ef84274e043d, пополнен на 10.000\n",
      "2025-02-10 14:56:20,049 - INFO - Торги начинаются: 2025-02-10 14:56:20.049906 / Завершение: 2025-02-10 16:00:00\n"
     ]
    },
    {
     "name": "stdout",
     "output_type": "stream",
     "text": [
      "Ждем 219.95 секунд до 15:00:00...\n"
     ]
    },
    {
     "name": "stderr",
     "output_type": "stream",
     "text": [
      "2025-02-10 15:00:00,000 - INFO - Начинаем новый торговый цикл\n",
      "2025-02-10 15:00:00,555 - INFO - d1d9ab89bbdd335dce6bfb696c96e7dd GetCandles\n",
      "2025-02-10 15:00:00,561 - INFO - (3238, 9)\n",
      "2025-02-10 15:00:06,339 - INFO - Предсказание модели: [0]\n",
      "2025-02-10 15:00:06,516 - INFO - 48db8b09b5c88cb98656320ec23dde1a PostOrder\n",
      "2025-02-10 15:00:06,519 - INFO - Продана акция: PostOrderResponse(order_id='3c594206-fd6c-4156-8f7f-07055c608f2b', execution_report_status=<OrderExecutionReportStatus.EXECUTION_REPORT_STATUS_FILL: 1>, lots_requested=1, lots_executed=1, initial_order_price=MoneyValue(currency='rub', units=4249, nano=0), executed_order_price=MoneyValue(currency='rub', units=4249, nano=0), total_order_amount=MoneyValue(currency='rub', units=4249, nano=0), initial_commission=MoneyValue(currency='rub', units=2, nano=124500000), executed_commission=MoneyValue(currency='rub', units=2, nano=124500000), aci_value=MoneyValue(currency='', units=0, nano=0), figi='TCS00A107T19', direction=<OrderDirection.ORDER_DIRECTION_SELL: 2>, initial_security_price=MoneyValue(currency='rub', units=4249, nano=0), order_type=<OrderType.ORDER_TYPE_MARKET: 2>, message='', initial_order_price_pt=Quotation(units=0, nano=0), instrument_uid='7de75794-a27f-4d81-a39b-492345813822', order_request_id='98f1833d-1b3c-44b3-85e3-4a9714e5f06e', response_metadata=ResponseMetadata(tracking_id='48db8b09b5c88cb98656320ec23dde1a', server_time=datetime.datetime(2025, 2, 10, 12, 0, 6, 492104, tzinfo=datetime.timezone.utc)))\n"
     ]
    },
    {
     "name": "stdout",
     "output_type": "stream",
     "text": [
      "Ждем 593.48 секунд до 15:10:00...\n"
     ]
    },
    {
     "name": "stderr",
     "output_type": "stream",
     "text": [
      "2025-02-10 15:10:00,000 - INFO - Начинаем новый торговый цикл\n",
      "2025-02-10 15:10:00,602 - INFO - a2de3a3e8a6e1efaee9a3f83fcd9a977 PostOrder\n",
      "2025-02-10 15:10:00,605 - INFO - Куплена акция: PostOrderResponse(order_id='2d7646c1-8122-47fa-821a-924a2d2f91ef', execution_report_status=<OrderExecutionReportStatus.EXECUTION_REPORT_STATUS_FILL: 1>, lots_requested=1, lots_executed=1, initial_order_price=MoneyValue(currency='rub', units=4241, nano=500000000), executed_order_price=MoneyValue(currency='rub', units=4241, nano=500000000), total_order_amount=MoneyValue(currency='rub', units=4241, nano=500000000), initial_commission=MoneyValue(currency='rub', units=2, nano=120750000), executed_commission=MoneyValue(currency='rub', units=2, nano=120750000), aci_value=MoneyValue(currency='', units=0, nano=0), figi='TCS00A107T19', direction=<OrderDirection.ORDER_DIRECTION_BUY: 1>, initial_security_price=MoneyValue(currency='rub', units=4241, nano=500000000), order_type=<OrderType.ORDER_TYPE_MARKET: 2>, message='', initial_order_price_pt=Quotation(units=0, nano=0), instrument_uid='7de75794-a27f-4d81-a39b-492345813822', order_request_id='31f229d4-cf8f-4bd5-a419-762724dbd7ae', response_metadata=ResponseMetadata(tracking_id='a2de3a3e8a6e1efaee9a3f83fcd9a977', server_time=datetime.datetime(2025, 2, 10, 12, 10, 0, 576859, tzinfo=datetime.timezone.utc)))\n",
      "2025-02-10 15:10:01,221 - INFO - 0fec64d85d4a80884b3abf67d17deb85 GetCandles\n",
      "2025-02-10 15:10:01,231 - INFO - (3239, 9)\n",
      "2025-02-10 15:10:07,202 - INFO - Предсказание модели: [1]\n",
      "2025-02-10 15:10:07,374 - INFO - b51d2dc02043f2577c5dd24753d252b4 PostOrder\n",
      "2025-02-10 15:10:07,377 - INFO - Куплена акция: PostOrderResponse(order_id='da831786-f801-49c3-a736-65407d60cb9b', execution_report_status=<OrderExecutionReportStatus.EXECUTION_REPORT_STATUS_FILL: 1>, lots_requested=1, lots_executed=1, initial_order_price=MoneyValue(currency='rub', units=4241, nano=500000000), executed_order_price=MoneyValue(currency='rub', units=4241, nano=500000000), total_order_amount=MoneyValue(currency='rub', units=4241, nano=500000000), initial_commission=MoneyValue(currency='rub', units=2, nano=120750000), executed_commission=MoneyValue(currency='rub', units=2, nano=120750000), aci_value=MoneyValue(currency='', units=0, nano=0), figi='TCS00A107T19', direction=<OrderDirection.ORDER_DIRECTION_BUY: 1>, initial_security_price=MoneyValue(currency='rub', units=4241, nano=500000000), order_type=<OrderType.ORDER_TYPE_MARKET: 2>, message='', initial_order_price_pt=Quotation(units=0, nano=0), instrument_uid='7de75794-a27f-4d81-a39b-492345813822', order_request_id='2547e2e2-1fc2-4c23-ac1b-f23af39ef684', response_metadata=ResponseMetadata(tracking_id='b51d2dc02043f2577c5dd24753d252b4', server_time=datetime.datetime(2025, 2, 10, 12, 10, 7, 348834, tzinfo=datetime.timezone.utc)))\n"
     ]
    },
    {
     "name": "stdout",
     "output_type": "stream",
     "text": [
      "Ждем 592.62 секунд до 15:20:00...\n"
     ]
    },
    {
     "name": "stderr",
     "output_type": "stream",
     "text": [
      "2025-02-10 15:20:00,000 - INFO - Начинаем новый торговый цикл\n",
      "2025-02-10 15:20:00,503 - INFO - 3a26bd770e79f20adcfeab18a0fd9d81 PostOrder\n",
      "2025-02-10 15:20:00,505 - INFO - Продана акция: PostOrderResponse(order_id='e8473809-841f-47bf-a7b1-563c4757b96a', execution_report_status=<OrderExecutionReportStatus.EXECUTION_REPORT_STATUS_FILL: 1>, lots_requested=1, lots_executed=1, initial_order_price=MoneyValue(currency='rub', units=4245, nano=0), executed_order_price=MoneyValue(currency='rub', units=4245, nano=0), total_order_amount=MoneyValue(currency='rub', units=4245, nano=0), initial_commission=MoneyValue(currency='rub', units=2, nano=122500000), executed_commission=MoneyValue(currency='rub', units=2, nano=122500000), aci_value=MoneyValue(currency='', units=0, nano=0), figi='TCS00A107T19', direction=<OrderDirection.ORDER_DIRECTION_SELL: 2>, initial_security_price=MoneyValue(currency='rub', units=4245, nano=0), order_type=<OrderType.ORDER_TYPE_MARKET: 2>, message='', initial_order_price_pt=Quotation(units=0, nano=0), instrument_uid='7de75794-a27f-4d81-a39b-492345813822', order_request_id='02678f0d-6170-4217-a415-55aed6ab428d', response_metadata=ResponseMetadata(tracking_id='3a26bd770e79f20adcfeab18a0fd9d81', server_time=datetime.datetime(2025, 2, 10, 12, 20, 0, 478673, tzinfo=datetime.timezone.utc)))\n",
      "2025-02-10 15:20:01,034 - INFO - 74fdcee3036e7b1007e0b71b95e831e0 GetCandles\n",
      "2025-02-10 15:20:01,040 - INFO - (3240, 9)\n",
      "2025-02-10 15:20:07,234 - INFO - Предсказание модели: [0]\n",
      "2025-02-10 15:20:07,412 - INFO - 51038d466e7467bae49f5c11864bab61 PostOrder\n",
      "2025-02-10 15:20:07,414 - INFO - Продана акция: PostOrderResponse(order_id='3a43bc89-de24-4701-ac54-9406d789a4b5', execution_report_status=<OrderExecutionReportStatus.EXECUTION_REPORT_STATUS_FILL: 1>, lots_requested=1, lots_executed=1, initial_order_price=MoneyValue(currency='rub', units=4245, nano=0), executed_order_price=MoneyValue(currency='rub', units=4245, nano=0), total_order_amount=MoneyValue(currency='rub', units=4245, nano=0), initial_commission=MoneyValue(currency='rub', units=2, nano=122500000), executed_commission=MoneyValue(currency='rub', units=2, nano=122500000), aci_value=MoneyValue(currency='', units=0, nano=0), figi='TCS00A107T19', direction=<OrderDirection.ORDER_DIRECTION_SELL: 2>, initial_security_price=MoneyValue(currency='rub', units=4245, nano=0), order_type=<OrderType.ORDER_TYPE_MARKET: 2>, message='', initial_order_price_pt=Quotation(units=0, nano=0), instrument_uid='7de75794-a27f-4d81-a39b-492345813822', order_request_id='81981851-a0df-49be-bbd3-084655293453', response_metadata=ResponseMetadata(tracking_id='51038d466e7467bae49f5c11864bab61', server_time=datetime.datetime(2025, 2, 10, 12, 20, 7, 390201, tzinfo=datetime.timezone.utc)))\n"
     ]
    },
    {
     "name": "stdout",
     "output_type": "stream",
     "text": [
      "Ждем 592.58 секунд до 15:30:00...\n"
     ]
    },
    {
     "name": "stderr",
     "output_type": "stream",
     "text": [
      "2025-02-10 15:30:00,001 - INFO - Начинаем новый торговый цикл\n",
      "2025-02-10 15:30:00,473 - INFO - 5763f8147d34f8fedf4502aea25d50fc PostOrder\n",
      "2025-02-10 15:30:00,476 - INFO - Куплена акция: PostOrderResponse(order_id='01d6eed0-64ed-487a-a7c8-1b04f44cc071', execution_report_status=<OrderExecutionReportStatus.EXECUTION_REPORT_STATUS_FILL: 1>, lots_requested=1, lots_executed=1, initial_order_price=MoneyValue(currency='rub', units=4245, nano=500000000), executed_order_price=MoneyValue(currency='rub', units=4245, nano=500000000), total_order_amount=MoneyValue(currency='rub', units=4245, nano=500000000), initial_commission=MoneyValue(currency='rub', units=2, nano=122750000), executed_commission=MoneyValue(currency='rub', units=2, nano=122750000), aci_value=MoneyValue(currency='', units=0, nano=0), figi='TCS00A107T19', direction=<OrderDirection.ORDER_DIRECTION_BUY: 1>, initial_security_price=MoneyValue(currency='rub', units=4245, nano=500000000), order_type=<OrderType.ORDER_TYPE_MARKET: 2>, message='', initial_order_price_pt=Quotation(units=0, nano=0), instrument_uid='7de75794-a27f-4d81-a39b-492345813822', order_request_id='baf7ac2f-ed7f-409b-a130-73c75f945e15', response_metadata=ResponseMetadata(tracking_id='5763f8147d34f8fedf4502aea25d50fc', server_time=datetime.datetime(2025, 2, 10, 12, 30, 0, 448692, tzinfo=datetime.timezone.utc)))\n",
      "2025-02-10 15:30:01,009 - INFO - 585e9e9bc7f5d496e80ef7340c6e91ef GetCandles\n",
      "2025-02-10 15:30:01,019 - INFO - (3241, 9)\n",
      "2025-02-10 15:30:06,840 - INFO - Предсказание модели: [0]\n",
      "2025-02-10 15:30:07,016 - INFO - 1c1daade57b16957357aa9ccdaca23c6 PostOrder\n",
      "2025-02-10 15:30:07,019 - INFO - Продана акция: PostOrderResponse(order_id='7981f0c8-48f0-4265-8036-1006850f4186', execution_report_status=<OrderExecutionReportStatus.EXECUTION_REPORT_STATUS_FILL: 1>, lots_requested=1, lots_executed=1, initial_order_price=MoneyValue(currency='rub', units=4245, nano=500000000), executed_order_price=MoneyValue(currency='rub', units=4245, nano=500000000), total_order_amount=MoneyValue(currency='rub', units=4245, nano=500000000), initial_commission=MoneyValue(currency='rub', units=2, nano=122750000), executed_commission=MoneyValue(currency='rub', units=2, nano=122750000), aci_value=MoneyValue(currency='', units=0, nano=0), figi='TCS00A107T19', direction=<OrderDirection.ORDER_DIRECTION_SELL: 2>, initial_security_price=MoneyValue(currency='rub', units=4245, nano=500000000), order_type=<OrderType.ORDER_TYPE_MARKET: 2>, message='', initial_order_price_pt=Quotation(units=0, nano=0), instrument_uid='7de75794-a27f-4d81-a39b-492345813822', order_request_id='7b79ad6f-90bf-454f-aac6-cc37d1ee0497', response_metadata=ResponseMetadata(tracking_id='1c1daade57b16957357aa9ccdaca23c6', server_time=datetime.datetime(2025, 2, 10, 12, 30, 6, 993332, tzinfo=datetime.timezone.utc)))\n"
     ]
    },
    {
     "name": "stdout",
     "output_type": "stream",
     "text": [
      "Ждем 592.98 секунд до 15:40:00...\n"
     ]
    },
    {
     "name": "stderr",
     "output_type": "stream",
     "text": [
      "2025-02-10 15:40:00,000 - INFO - Начинаем новый торговый цикл\n",
      "2025-02-10 15:40:00,508 - INFO - d23df937d7e94e27272665464fae77a4 PostOrder\n",
      "2025-02-10 15:40:00,509 - INFO - Куплена акция: PostOrderResponse(order_id='4da8a2cf-8443-4cbe-93b1-6b8494e98350', execution_report_status=<OrderExecutionReportStatus.EXECUTION_REPORT_STATUS_FILL: 1>, lots_requested=1, lots_executed=1, initial_order_price=MoneyValue(currency='rub', units=4246, nano=0), executed_order_price=MoneyValue(currency='rub', units=4246, nano=0), total_order_amount=MoneyValue(currency='rub', units=4246, nano=0), initial_commission=MoneyValue(currency='rub', units=2, nano=123000000), executed_commission=MoneyValue(currency='rub', units=2, nano=123000000), aci_value=MoneyValue(currency='', units=0, nano=0), figi='TCS00A107T19', direction=<OrderDirection.ORDER_DIRECTION_BUY: 1>, initial_security_price=MoneyValue(currency='rub', units=4246, nano=0), order_type=<OrderType.ORDER_TYPE_MARKET: 2>, message='', initial_order_price_pt=Quotation(units=0, nano=0), instrument_uid='7de75794-a27f-4d81-a39b-492345813822', order_request_id='19959b97-ca22-4a1a-9063-39f28e21c1ac', response_metadata=ResponseMetadata(tracking_id='d23df937d7e94e27272665464fae77a4', server_time=datetime.datetime(2025, 2, 10, 12, 40, 0, 488598, tzinfo=datetime.timezone.utc)))\n",
      "2025-02-10 15:40:01,057 - INFO - 51b723b35f655f9509e750ffbc31bf16 GetCandles\n",
      "2025-02-10 15:40:01,067 - INFO - (3242, 9)\n",
      "2025-02-10 15:40:07,363 - INFO - Предсказание модели: [0]\n",
      "2025-02-10 15:40:07,513 - INFO - e5a9ed5237933ab9638d7a4afe9d44f9 PostOrder\n",
      "2025-02-10 15:40:07,516 - INFO - Продана акция: PostOrderResponse(order_id='b89687c2-3af9-4090-9bce-0eab56dc3e52', execution_report_status=<OrderExecutionReportStatus.EXECUTION_REPORT_STATUS_FILL: 1>, lots_requested=1, lots_executed=1, initial_order_price=MoneyValue(currency='rub', units=4245, nano=0), executed_order_price=MoneyValue(currency='rub', units=4245, nano=0), total_order_amount=MoneyValue(currency='rub', units=4245, nano=0), initial_commission=MoneyValue(currency='rub', units=2, nano=122500000), executed_commission=MoneyValue(currency='rub', units=2, nano=122500000), aci_value=MoneyValue(currency='', units=0, nano=0), figi='TCS00A107T19', direction=<OrderDirection.ORDER_DIRECTION_SELL: 2>, initial_security_price=MoneyValue(currency='rub', units=4245, nano=0), order_type=<OrderType.ORDER_TYPE_MARKET: 2>, message='', initial_order_price_pt=Quotation(units=0, nano=0), instrument_uid='7de75794-a27f-4d81-a39b-492345813822', order_request_id='84fd28ac-d629-4b89-b589-1b0a1c451b8d', response_metadata=ResponseMetadata(tracking_id='e5a9ed5237933ab9638d7a4afe9d44f9', server_time=datetime.datetime(2025, 2, 10, 12, 40, 7, 470269, tzinfo=datetime.timezone.utc)))\n"
     ]
    },
    {
     "name": "stdout",
     "output_type": "stream",
     "text": [
      "Ждем 592.48 секунд до 15:50:00...\n"
     ]
    },
    {
     "name": "stderr",
     "output_type": "stream",
     "text": [
      "2025-02-10 15:50:00,005 - INFO - Начинаем новый торговый цикл\n",
      "2025-02-10 15:50:00,517 - INFO - fa107ba8b899ff4d455252dbe2ff0e40 PostOrder\n",
      "2025-02-10 15:50:00,521 - INFO - Куплена акция: PostOrderResponse(order_id='1ab5c4e6-f01c-4196-8906-6728c33b7f16', execution_report_status=<OrderExecutionReportStatus.EXECUTION_REPORT_STATUS_FILL: 1>, lots_requested=1, lots_executed=1, initial_order_price=MoneyValue(currency='rub', units=4245, nano=500000000), executed_order_price=MoneyValue(currency='rub', units=4245, nano=500000000), total_order_amount=MoneyValue(currency='rub', units=4245, nano=500000000), initial_commission=MoneyValue(currency='rub', units=2, nano=122750000), executed_commission=MoneyValue(currency='rub', units=2, nano=122750000), aci_value=MoneyValue(currency='', units=0, nano=0), figi='TCS00A107T19', direction=<OrderDirection.ORDER_DIRECTION_BUY: 1>, initial_security_price=MoneyValue(currency='rub', units=4245, nano=500000000), order_type=<OrderType.ORDER_TYPE_MARKET: 2>, message='', initial_order_price_pt=Quotation(units=0, nano=0), instrument_uid='7de75794-a27f-4d81-a39b-492345813822', order_request_id='995e68f4-2efc-424e-9425-9076355d5367', response_metadata=ResponseMetadata(tracking_id='fa107ba8b899ff4d455252dbe2ff0e40', server_time=datetime.datetime(2025, 2, 10, 12, 50, 0, 491722, tzinfo=datetime.timezone.utc)))\n",
      "2025-02-10 15:50:01,071 - INFO - a625673c3eac7061ce57130b9a4c1cec GetCandles\n",
      "2025-02-10 15:50:01,083 - INFO - (3243, 9)\n",
      "2025-02-10 15:50:06,980 - INFO - Предсказание модели: [0]\n",
      "2025-02-10 15:50:07,200 - INFO - 10a29322270c52b61205d6731b50bdaa PostOrder\n",
      "2025-02-10 15:50:07,202 - INFO - Продана акция: PostOrderResponse(order_id='6c541b98-9d95-413e-bd5e-686d438a913d', execution_report_status=<OrderExecutionReportStatus.EXECUTION_REPORT_STATUS_FILL: 1>, lots_requested=1, lots_executed=1, initial_order_price=MoneyValue(currency='rub', units=4245, nano=500000000), executed_order_price=MoneyValue(currency='rub', units=4245, nano=500000000), total_order_amount=MoneyValue(currency='rub', units=4245, nano=500000000), initial_commission=MoneyValue(currency='rub', units=2, nano=122750000), executed_commission=MoneyValue(currency='rub', units=2, nano=122750000), aci_value=MoneyValue(currency='', units=0, nano=0), figi='TCS00A107T19', direction=<OrderDirection.ORDER_DIRECTION_SELL: 2>, initial_security_price=MoneyValue(currency='rub', units=4245, nano=500000000), order_type=<OrderType.ORDER_TYPE_MARKET: 2>, message='', initial_order_price_pt=Quotation(units=0, nano=0), instrument_uid='7de75794-a27f-4d81-a39b-492345813822', order_request_id='b7a47dde-ca62-4aa2-910a-9e8fca26d05e', response_metadata=ResponseMetadata(tracking_id='10a29322270c52b61205d6731b50bdaa', server_time=datetime.datetime(2025, 2, 10, 12, 50, 7, 174593, tzinfo=datetime.timezone.utc)))\n"
     ]
    },
    {
     "name": "stdout",
     "output_type": "stream",
     "text": [
      "Ждем 592.80 секунд до 16:00:00...\n"
     ]
    },
    {
     "name": "stderr",
     "output_type": "stream",
     "text": [
      "2025-02-10 16:00:00,005 - INFO - Начинаем новый торговый цикл\n",
      "2025-02-10 16:00:00,532 - INFO - 846d0bf0c7013e568da1fdd5e1fc37ce PostOrder\n",
      "2025-02-10 16:00:00,534 - INFO - Куплена акция: PostOrderResponse(order_id='1c3806fc-849c-46a8-bc96-9b46ae4c4458', execution_report_status=<OrderExecutionReportStatus.EXECUTION_REPORT_STATUS_FILL: 1>, lots_requested=1, lots_executed=1, initial_order_price=MoneyValue(currency='rub', units=4247, nano=500000000), executed_order_price=MoneyValue(currency='rub', units=4247, nano=500000000), total_order_amount=MoneyValue(currency='rub', units=4247, nano=500000000), initial_commission=MoneyValue(currency='rub', units=2, nano=123750000), executed_commission=MoneyValue(currency='rub', units=2, nano=123750000), aci_value=MoneyValue(currency='', units=0, nano=0), figi='TCS00A107T19', direction=<OrderDirection.ORDER_DIRECTION_BUY: 1>, initial_security_price=MoneyValue(currency='rub', units=4247, nano=500000000), order_type=<OrderType.ORDER_TYPE_MARKET: 2>, message='', initial_order_price_pt=Quotation(units=0, nano=0), instrument_uid='7de75794-a27f-4d81-a39b-492345813822', order_request_id='ca944d42-aaf0-41bf-968b-3e248ab6603a', response_metadata=ResponseMetadata(tracking_id='846d0bf0c7013e568da1fdd5e1fc37ce', server_time=datetime.datetime(2025, 2, 10, 13, 0, 0, 501400, tzinfo=datetime.timezone.utc)))\n",
      "2025-02-10 16:00:01,160 - INFO - 1d6f751f9166b71232bd03d786da6512 GetCandles\n",
      "2025-02-10 16:00:01,168 - INFO - (3244, 9)\n",
      "2025-02-10 16:00:05,607 - INFO - Предсказание модели: [0]\n",
      "2025-02-10 16:00:05,772 - INFO - acda2d408e6df8582e411b4e5b28000a PostOrder\n",
      "2025-02-10 16:00:05,776 - INFO - Продана акция: PostOrderResponse(order_id='1dd98566-6de0-45c3-84e8-a258b48d0b1d', execution_report_status=<OrderExecutionReportStatus.EXECUTION_REPORT_STATUS_FILL: 1>, lots_requested=1, lots_executed=1, initial_order_price=MoneyValue(currency='rub', units=4248, nano=0), executed_order_price=MoneyValue(currency='rub', units=4248, nano=0), total_order_amount=MoneyValue(currency='rub', units=4248, nano=0), initial_commission=MoneyValue(currency='rub', units=2, nano=124000000), executed_commission=MoneyValue(currency='rub', units=2, nano=124000000), aci_value=MoneyValue(currency='', units=0, nano=0), figi='TCS00A107T19', direction=<OrderDirection.ORDER_DIRECTION_SELL: 2>, initial_security_price=MoneyValue(currency='rub', units=4248, nano=0), order_type=<OrderType.ORDER_TYPE_MARKET: 2>, message='', initial_order_price_pt=Quotation(units=0, nano=0), instrument_uid='7de75794-a27f-4d81-a39b-492345813822', order_request_id='b9d2e5c7-22ce-41f7-9e86-b2b1ddd0e712', response_metadata=ResponseMetadata(tracking_id='acda2d408e6df8582e411b4e5b28000a', server_time=datetime.datetime(2025, 2, 10, 13, 0, 5, 744560, tzinfo=datetime.timezone.utc)))\n",
      "2025-02-10 16:00:06,264 - INFO - 04158c51b55b79770b6cfad0098ca286 GetPortfolio\n",
      "2025-02-10 16:00:06,267 - INFO - Торги завершены с окончательной суммой MoneyValue(currency='rub', units=14227, nano=904750000)\n"
     ]
    }
   ],
   "source": [
    "clear_data_df, data, num, cat, target = make_data_for_trading(share_id = share_id)\n",
    "model = model_training(data, num, cat, target, args)\n",
    "start_trading(model, clear_data_df, end_datetime = dt.datetime(2025, 2, 10, 16))"
   ]
  },
  {
   "cell_type": "code",
   "execution_count": 15,
   "metadata": {},
   "outputs": [
    {
     "name": "stderr",
     "output_type": "stream",
     "text": [
      "2025-02-10 13:52:20,329 - INFO - c602d024d54fb64b3465f34a55b5ec4d GetAccounts\n",
      "2025-02-10 13:52:20,470 - INFO - 827bda8c34fe9e1a9e0d5782b77a6686 CloseSandboxAccount\n",
      "2025-02-10 13:52:20,620 - INFO - 62adb911548eecde2d63b16449cf31eb CloseSandboxAccount\n",
      "2025-02-10 13:52:20,770 - INFO - fea897643dffaeb899179ef90ccb9867 CloseSandboxAccount\n",
      "2025-02-10 13:52:20,919 - INFO - 34d3f215b4056920d18a9f170e847e16 CloseSandboxAccount\n",
      "2025-02-10 13:52:21,066 - INFO - aab220edb5a074a220466a032f3b1829 CloseSandboxAccount\n",
      "2025-02-10 13:52:21,211 - INFO - c76a941314d678ef0e58d537dc6347f9 CloseSandboxAccount\n",
      "2025-02-10 13:52:21,346 - INFO - 0b7430942f3bb5ae9411f54d71d448f8 CloseSandboxAccount\n",
      "2025-02-10 13:52:21,495 - INFO - dee4dea97c8ce724652920b533f77ea2 CloseSandboxAccount\n",
      "2025-02-10 13:52:21,636 - INFO - 47b3a8f779c89cc6b975b3ac71e2faaa CloseSandboxAccount\n",
      "2025-02-10 13:52:21,772 - INFO - ed8a775cc7f706dac1bb8b0d206fa341 CloseSandboxAccount\n"
     ]
    }
   ],
   "source": [
    "def clear_sb_accs():\n",
    "    with SandboxClient(TOKEN) as client:\n",
    "        accs = client.users.get_accounts().accounts\n",
    "        for acc in accs:\n",
    "            client.sandbox.close_sandbox_account(account_id=acc.id)\n",
    "\n",
    "clear_sb_accs()"
   ]
  },
  {
   "cell_type": "code",
   "execution_count": null,
   "metadata": {},
   "outputs": [
    {
     "name": "stderr",
     "output_type": "stream",
     "text": [
      "2025-02-10 09:37:31,318 - INFO - 34000498cb47398d32e7aad3a7abdeff GetCandles\n"
     ]
    },
    {
     "name": "stdout",
     "output_type": "stream",
     "text": [
      "                         open                                high  \\\n",
      "0  {'units': 4232, 'nano': 0}  {'units': 4236, 'nano': 500000000}   \n",
      "\n",
      "                                  low                       close volume  \\\n",
      "0  {'units': 4231, 'nano': 500000000}  {'units': 4236, 'nano': 0}   3651   \n",
      "\n",
      "                        time is_complete candle_source_type  \n",
      "0  2025-02-10 06:20:00+00:00        True                  1  \n"
     ]
    }
   ],
   "source": [
    "with SandboxClient(TOKEN) as client:\n",
    "                curr_candle = client.get_all_candles(\n",
    "                instrument_id=\"TCS00A107T19\",\n",
    "                from_=now() - timedelta(minutes=10),\n",
    "                interval=CandleInterval.CANDLE_INTERVAL_10_MIN,\n",
    "                candle_source_type=CandleSource.CANDLE_SOURCE_UNSPECIFIED,\n",
    "                )\n",
    "                \n",
    "                curr_candle = pd.DataFrame(curr_candle).iloc[0].to_frame().T\n",
    "                curr_candle = curr_candle.rename({'time': 'utc'})\n",
    "\n",
    "                for col in ['open', 'high', 'low', 'close']:\n",
    "                    curr_candle[col] = curr_candle[col].apply(convert_price)"
   ]
  },
  {
   "cell_type": "code",
   "execution_count": 48,
   "metadata": {},
   "outputs": [
    {
     "name": "stdout",
     "output_type": "stream",
     "text": [
      "GetAccountsResponse(accounts=[Account(id='8d8df0ab-1d11-4ca3-8b00-4275b3ff4736', type=<AccountType.ACCOUNT_TYPE_TINKOFF: 1>, name='lerochka_tests', status=<AccountStatus.ACCOUNT_STATUS_OPEN: 2>, opened_date=datetime.datetime(2025, 2, 10, 5, 17, 52, 150241, tzinfo=datetime.timezone.utc), closed_date=datetime.datetime(1970, 1, 1, 0, 0, tzinfo=datetime.timezone.utc), access_level=<AccessLevel.ACCOUNT_ACCESS_LEVEL_FULL_ACCESS: 1>)])\n"
     ]
    }
   ],
   "source": [
    "with SandboxClient(TOKEN) as client:\n",
    "        acc_id = client.sandbox.open_sandbox_account(name=\"lerochka_tests\").account_id\n",
    "        print(client.users.get_accounts())\n",
    "        "
   ]
  },
  {
   "cell_type": "code",
   "execution_count": 61,
   "metadata": {},
   "outputs": [],
   "source": [
    "with SandboxClient(TOKEN) as client:\n",
    "        # print(acc_id)\n",
    "        client.sandbox.sandbox_pay_in(account_id=acc_id, amount=MoneyValue(currency=\"643\", units=10000, nano=0))"
   ]
  },
  {
   "cell_type": "code",
   "execution_count": 71,
   "metadata": {},
   "outputs": [],
   "source": [
    "share_id = \"TCS00A107T19\" # YDEX\n",
    "\n",
    "with SandboxClient(TOKEN) as client:\n",
    "            # request = PostOrderRequest(\n",
    "            #     order_type=OrderType.ORDER_TYPE_MARKET,\n",
    "            #     direction=OrderDirection.ORDER_DIRECTION_BUY,\n",
    "            #     instrument_id=share_id,\n",
    "            #     quantity=1,\n",
    "            #     account_id=acc_id,\n",
    "            #     order_id=str(uuid4()),\n",
    "            # )\n",
    "            response = client.orders.post_order(\n",
    "                order_type=OrderType.ORDER_TYPE_MARKET,\n",
    "                direction=OrderDirection.ORDER_DIRECTION_BUY,\n",
    "                instrument_id=share_id,\n",
    "                quantity=1,\n",
    "                account_id=acc_id,\n",
    "                order_id=str(uuid4())\n",
    "            )"
   ]
  },
  {
   "cell_type": "code",
   "execution_count": 78,
   "metadata": {},
   "outputs": [],
   "source": [
    "with SandboxClient(TOKEN) as client:\n",
    "    portfolio = client.operations.get_portfolio(account_id=acc_id)"
   ]
  },
  {
   "cell_type": "code",
   "execution_count": 79,
   "metadata": {},
   "outputs": [
    {
     "data": {
      "text/plain": [
       "MoneyValue(currency='rub', units=7274, nano=642000000)"
      ]
     },
     "execution_count": 79,
     "metadata": {},
     "output_type": "execute_result"
    }
   ],
   "source": [
    "portfolio.total_amount_currencies"
   ]
  },
  {
   "cell_type": "code",
   "execution_count": 21,
   "metadata": {},
   "outputs": [
    {
     "ename": "ImportError",
     "evalue": "cannot import name 'OpenSandboxAccount' from 'tinkoff.invest.sandbox' (c:\\Users\\Валерия\\OneDrive\\Документы\\GitHub\\prices-predictions\\myenv\\Lib\\site-packages\\tinkoff\\invest\\sandbox\\__init__.py)",
     "output_type": "error",
     "traceback": [
      "\u001b[1;31m---------------------------------------------------------------------------\u001b[0m",
      "\u001b[1;31mImportError\u001b[0m                               Traceback (most recent call last)",
      "Cell \u001b[1;32mIn[21], line 3\u001b[0m\n\u001b[0;32m      1\u001b[0m \u001b[38;5;28;01mfrom\u001b[39;00m \u001b[38;5;21;01mtinkoff\u001b[39;00m\u001b[38;5;21;01m.\u001b[39;00m\u001b[38;5;21;01minvest\u001b[39;00m \u001b[38;5;28;01mimport\u001b[39;00m Client\n\u001b[0;32m      2\u001b[0m \u001b[38;5;28;01mfrom\u001b[39;00m \u001b[38;5;21;01mtinkoff\u001b[39;00m\u001b[38;5;21;01m.\u001b[39;00m\u001b[38;5;21;01minvest\u001b[39;00m\u001b[38;5;21;01m.\u001b[39;00m\u001b[38;5;21;01mconstants\u001b[39;00m \u001b[38;5;28;01mimport\u001b[39;00m INVEST_GRPC_API_SANDBOX\n\u001b[1;32m----> 3\u001b[0m \u001b[38;5;28;01mfrom\u001b[39;00m \u001b[38;5;21;01mtinkoff\u001b[39;00m\u001b[38;5;21;01m.\u001b[39;00m\u001b[38;5;21;01minvest\u001b[39;00m\u001b[38;5;21;01m.\u001b[39;00m\u001b[38;5;21;01msandbox\u001b[39;00m \u001b[38;5;28;01mimport\u001b[39;00m OpenSandboxAccount\n\u001b[0;32m      5\u001b[0m TOKEN \u001b[38;5;241m=\u001b[39m ttoken\n\u001b[0;32m      7\u001b[0m \u001b[38;5;28;01mwith\u001b[39;00m Client(TOKEN, target\u001b[38;5;241m=\u001b[39mINVEST_GRPC_API_SANDBOX) \u001b[38;5;28;01mas\u001b[39;00m client:\n",
      "\u001b[1;31mImportError\u001b[0m: cannot import name 'OpenSandboxAccount' from 'tinkoff.invest.sandbox' (c:\\Users\\Валерия\\OneDrive\\Документы\\GitHub\\prices-predictions\\myenv\\Lib\\site-packages\\tinkoff\\invest\\sandbox\\__init__.py)"
     ]
    }
   ],
   "source": [
    "from tinkoff.invest import Client\n",
    "from tinkoff.invest.constants import INVEST_GRPC_API_SANDBOX\n",
    "from tinkoff.invest.sandbox import OpenSandboxAccount\n",
    "\n",
    "TOKEN = ttoken\n",
    "\n",
    "with Client(TOKEN, target=INVEST_GRPC_API_SANDBOX) as client:\n",
    "    client.OpenSandboxAccount()"
   ]
  }
 ],
 "metadata": {
  "kernelspec": {
   "display_name": "myenv",
   "language": "python",
   "name": "python3"
  },
  "language_info": {
   "codemirror_mode": {
    "name": "ipython",
    "version": 3
   },
   "file_extension": ".py",
   "mimetype": "text/x-python",
   "name": "python",
   "nbconvert_exporter": "python",
   "pygments_lexer": "ipython3",
   "version": "3.12.6"
  }
 },
 "nbformat": 4,
 "nbformat_minor": 2
}
