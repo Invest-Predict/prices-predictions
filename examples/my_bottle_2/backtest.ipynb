{
 "cells": [
  {
   "cell_type": "markdown",
   "metadata": {},
   "source": [
    "Ladies and gentlemen, we are gathered here today.... for some backtests 😎"
   ]
  },
  {
   "cell_type": "code",
   "execution_count": null,
   "metadata": {},
   "outputs": [],
   "source": [
    "%load_ext IPython.extensions.autoreload\n",
    "%autoreload 2"
   ]
  },
  {
   "cell_type": "code",
   "execution_count": null,
   "metadata": {},
   "outputs": [],
   "source": [
    "import sys\n",
    "sys.path.append('../..')\n",
    "from model import FinData\n",
    "from model import train_valid_split\n",
    "from model import CatboostFinModel\n",
    "\n",
    "import pandas as pd\n",
    "import polars as pl\n",
    "import numpy as np\n",
    "import matplotlib.pyplot as plt\n",
    "import seaborn as sns\n",
    "import sklearn\n",
    "import datetime as dt"
   ]
  },
  {
   "cell_type": "markdown",
   "metadata": {},
   "source": [
    "Пример, когда самому не надо задавать отдельно train, val и test датасеты, а просто задать другие параметры и функция всё обрежет сама "
   ]
  },
  {
   "cell_type": "code",
   "execution_count": null,
   "metadata": {},
   "outputs": [],
   "source": [
    "trading = ['Yandex', 'VTB', 'Sber', 'Rosneft', 'VK', 'T', 'Rusal', 'Rostelekom', 'Rosneft', 'Moex', 'Nornickel', 'MTS', 'Gazprom', 'Bashneft']\n",
    "profit_list = []\n",
    "\n",
    "for stock in trading:\n",
    "\n",
    "    print(\"Stock is\", stock)\n",
    "\n",
    "    data = FinData(\"../../datasets/\" + stock + '_10_min.csv')\n",
    "    data.insert_shifts_norms([3, 6, 18])\n",
    "    data.insert_rolling_means()\n",
    "    data.insert_exp_rolling_means()\n",
    "    data.insert_stochastic_oscillator()\n",
    "    data.insert_high_low_diff()\n",
    "\n",
    "    args = {\"iterations\" : 10000, \n",
    "                \"depth\" : 5, \n",
    "                \"learning_rate\" : 0.01,\n",
    "                \"use_best_model\" : True, \n",
    "                \"l2_leaf_reg\" : 200,\n",
    "                \"verbose\" : False, \n",
    "                \"loss_function\" : 'CrossEntropy', \n",
    "                \"eval_metric\" : 'Accuracy', \n",
    "                \"cat_features\" : data.cat_features, \n",
    "                \"random_state\" : 42,\n",
    "                \"early_stopping_rounds\" : 2000}\n",
    "    model = CatboostFinModel(args)\n",
    "\n",
    "    st_dt = dt.datetime(2024, 1, 1)\n",
    "    end_dt = dt.datetime(2024, 12, 31)\n",
    "\n",
    "    test_st_dt = None\n",
    "    test_end_dt = None\n",
    "\n",
    "    profit = model.test_trading(data.df, start_date=st_dt, end_date = end_dt, test_st_dt=test_st_dt, test_end_dt=test_end_dt,\n",
    "                                  initial_budget = 10000, cat=data.cat_features, num=data.numeric_features, commision = 0.0001, proportion=[1,  1, 1])\n",
    "\n",
    "    profit_list.append(intraday)"
   ]
  },
  {
   "cell_type": "markdown",
   "metadata": {},
   "source": [
    "Пример, когда задаются кастомные датасеты"
   ]
  },
  {
   "cell_type": "code",
   "execution_count": null,
   "metadata": {},
   "outputs": [],
   "source": []
  }
 ],
 "metadata": {
  "kernelspec": {
   "display_name": ".venv",
   "language": "python",
   "name": "python3"
  },
  "language_info": {
   "name": "python",
   "version": "3.12.8"
  }
 },
 "nbformat": 4,
 "nbformat_minor": 2
}
