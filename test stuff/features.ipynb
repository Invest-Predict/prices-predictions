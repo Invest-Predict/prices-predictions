{
 "cells": [
  {
   "cell_type": "code",
   "execution_count": 1,
   "metadata": {},
   "outputs": [],
   "source": [
    "import polars as pl\n",
    "import catboost as cb\n",
    "import numpy as np\n",
    "import matplotlib.pyplot as plt"
   ]
  },
  {
   "cell_type": "code",
   "execution_count": 2,
   "metadata": {},
   "outputs": [
    {
     "data": {
      "text/html": [
       "<div><style>\n",
       ".dataframe > thead > tr,\n",
       ".dataframe > tbody > tr {\n",
       "  text-align: right;\n",
       "  white-space: pre-wrap;\n",
       "}\n",
       "</style>\n",
       "<small>shape: (166_087, 8)</small><table border=\"1\" class=\"dataframe\"><thead><tr><th>open</th><th>close</th><th>high</th><th>low</th><th>value</th><th>volume</th><th>begin</th><th>end</th></tr><tr><td>f64</td><td>f64</td><td>f64</td><td>f64</td><td>f64</td><td>i64</td><td>str</td><td>str</td></tr></thead><tbody><tr><td>1546.7</td><td>1546.7</td><td>1546.7</td><td>1546.7</td><td>1546.7</td><td>1</td><td>&quot;2014-06-04T10:00:00.000000&quot;</td><td>&quot;2014-06-04T10:05:01.000000&quot;</td></tr><tr><td>1546.8</td><td>1546.8</td><td>1546.8</td><td>1546.8</td><td>618720.0</td><td>400</td><td>&quot;2014-06-04T10:10:00.000000&quot;</td><td>&quot;2014-06-04T10:13:05.000000&quot;</td></tr><tr><td>1546.8</td><td>1546.8</td><td>1546.8</td><td>1546.8</td><td>7.1153e6</td><td>4600</td><td>&quot;2014-06-04T10:40:00.000000&quot;</td><td>&quot;2014-06-04T10:48:06.000000&quot;</td></tr><tr><td>1546.8</td><td>1545.0</td><td>1546.8</td><td>1545.0</td><td>2.9380e6</td><td>1900</td><td>&quot;2014-06-04T11:40:00.000000&quot;</td><td>&quot;2014-06-04T11:44:06.000000&quot;</td></tr><tr><td>1546.8</td><td>1546.8</td><td>1546.8</td><td>1546.8</td><td>3093.6</td><td>2</td><td>&quot;2014-06-04T11:50:00.000000&quot;</td><td>&quot;2014-06-04T11:56:10.000000&quot;</td></tr><tr><td>&hellip;</td><td>&hellip;</td><td>&hellip;</td><td>&hellip;</td><td>&hellip;</td><td>&hellip;</td><td>&hellip;</td><td>&hellip;</td></tr><tr><td>3716.0</td><td>3718.0</td><td>3719.5</td><td>3713.0</td><td>4.01024e7</td><td>10789</td><td>&quot;2024-11-15T19:30:00.000000&quot;</td><td>&quot;2024-11-15T19:39:59.000000&quot;</td></tr><tr><td>3717.5</td><td>3713.5</td><td>3718.5</td><td>3710.5</td><td>3.1031e7</td><td>8351</td><td>&quot;2024-11-15T19:40:00.000000&quot;</td><td>&quot;2024-11-15T19:49:59.000000&quot;</td></tr><tr><td>3713.5</td><td>3707.5</td><td>3715.0</td><td>3707.5</td><td>1.5820605e7</td><td>4263</td><td>&quot;2024-11-15T19:50:00.000000&quot;</td><td>&quot;2024-11-15T19:59:59.000000&quot;</td></tr><tr><td>3707.5</td><td>3709.0</td><td>3710.0</td><td>3707.5</td><td>1.1050e7</td><td>2979</td><td>&quot;2024-11-15T20:00:00.000000&quot;</td><td>&quot;2024-11-15T20:09:59.000000&quot;</td></tr><tr><td>3709.0</td><td>3709.0</td><td>3709.0</td><td>3709.0</td><td>22254.0</td><td>6</td><td>&quot;2024-11-15T20:10:00.000000&quot;</td><td>&quot;2024-11-15T20:10:34.000000&quot;</td></tr></tbody></table></div>"
      ],
      "text/plain": [
       "shape: (166_087, 8)\n",
       "┌────────┬────────┬────────┬────────┬─────────────┬────────┬───────────────────┬───────────────────┐\n",
       "│ open   ┆ close  ┆ high   ┆ low    ┆ value       ┆ volume ┆ begin             ┆ end               │\n",
       "│ ---    ┆ ---    ┆ ---    ┆ ---    ┆ ---         ┆ ---    ┆ ---               ┆ ---               │\n",
       "│ f64    ┆ f64    ┆ f64    ┆ f64    ┆ f64         ┆ i64    ┆ str               ┆ str               │\n",
       "╞════════╪════════╪════════╪════════╪═════════════╪════════╪═══════════════════╪═══════════════════╡\n",
       "│ 1546.7 ┆ 1546.7 ┆ 1546.7 ┆ 1546.7 ┆ 1546.7      ┆ 1      ┆ 2014-06-04T10:00: ┆ 2014-06-04T10:05: │\n",
       "│        ┆        ┆        ┆        ┆             ┆        ┆ 00.000000         ┆ 01.000000         │\n",
       "│ 1546.8 ┆ 1546.8 ┆ 1546.8 ┆ 1546.8 ┆ 618720.0    ┆ 400    ┆ 2014-06-04T10:10: ┆ 2014-06-04T10:13: │\n",
       "│        ┆        ┆        ┆        ┆             ┆        ┆ 00.000000         ┆ 05.000000         │\n",
       "│ 1546.8 ┆ 1546.8 ┆ 1546.8 ┆ 1546.8 ┆ 7.1153e6    ┆ 4600   ┆ 2014-06-04T10:40: ┆ 2014-06-04T10:48: │\n",
       "│        ┆        ┆        ┆        ┆             ┆        ┆ 00.000000         ┆ 06.000000         │\n",
       "│ 1546.8 ┆ 1545.0 ┆ 1546.8 ┆ 1545.0 ┆ 2.9380e6    ┆ 1900   ┆ 2014-06-04T11:40: ┆ 2014-06-04T11:44: │\n",
       "│        ┆        ┆        ┆        ┆             ┆        ┆ 00.000000         ┆ 06.000000         │\n",
       "│ 1546.8 ┆ 1546.8 ┆ 1546.8 ┆ 1546.8 ┆ 3093.6      ┆ 2      ┆ 2014-06-04T11:50: ┆ 2014-06-04T11:56: │\n",
       "│        ┆        ┆        ┆        ┆             ┆        ┆ 00.000000         ┆ 10.000000         │\n",
       "│ …      ┆ …      ┆ …      ┆ …      ┆ …           ┆ …      ┆ …                 ┆ …                 │\n",
       "│ 3716.0 ┆ 3718.0 ┆ 3719.5 ┆ 3713.0 ┆ 4.01024e7   ┆ 10789  ┆ 2024-11-15T19:30: ┆ 2024-11-15T19:39: │\n",
       "│        ┆        ┆        ┆        ┆             ┆        ┆ 00.000000         ┆ 59.000000         │\n",
       "│ 3717.5 ┆ 3713.5 ┆ 3718.5 ┆ 3710.5 ┆ 3.1031e7    ┆ 8351   ┆ 2024-11-15T19:40: ┆ 2024-11-15T19:49: │\n",
       "│        ┆        ┆        ┆        ┆             ┆        ┆ 00.000000         ┆ 59.000000         │\n",
       "│ 3713.5 ┆ 3707.5 ┆ 3715.0 ┆ 3707.5 ┆ 1.5820605e7 ┆ 4263   ┆ 2024-11-15T19:50: ┆ 2024-11-15T19:59: │\n",
       "│        ┆        ┆        ┆        ┆             ┆        ┆ 00.000000         ┆ 59.000000         │\n",
       "│ 3707.5 ┆ 3709.0 ┆ 3710.0 ┆ 3707.5 ┆ 1.1050e7    ┆ 2979   ┆ 2024-11-15T20:00: ┆ 2024-11-15T20:09: │\n",
       "│        ┆        ┆        ┆        ┆             ┆        ┆ 00.000000         ┆ 59.000000         │\n",
       "│ 3709.0 ┆ 3709.0 ┆ 3709.0 ┆ 3709.0 ┆ 22254.0     ┆ 6      ┆ 2024-11-15T20:10: ┆ 2024-11-15T20:10: │\n",
       "│        ┆        ┆        ┆        ┆             ┆        ┆ 00.000000         ┆ 34.000000         │\n",
       "└────────┴────────┴────────┴────────┴─────────────┴────────┴───────────────────┴───────────────────┘"
      ]
     },
     "execution_count": 2,
     "metadata": {},
     "output_type": "execute_result"
    }
   ],
   "source": [
    "pl.read_csv('YDEX_10_CANDLES')"
   ]
  },
  {
   "cell_type": "code",
   "execution_count": 3,
   "metadata": {},
   "outputs": [
    {
     "data": {
      "text/html": [
       "<div><style>\n",
       ".dataframe > thead > tr,\n",
       ".dataframe > tbody > tr {\n",
       "  text-align: right;\n",
       "  white-space: pre-wrap;\n",
       "}\n",
       "</style>\n",
       "<small>shape: (164_087, 7)</small><table border=\"1\" class=\"dataframe\"><thead><tr><th>open</th><th>close</th><th>high</th><th>low</th><th>value</th><th>volume</th><th>begin</th></tr><tr><td>f64</td><td>f64</td><td>f64</td><td>f64</td><td>f64</td><td>i64</td><td>datetime[μs]</td></tr></thead><tbody><tr><td>1546.7</td><td>1546.7</td><td>1546.7</td><td>1546.7</td><td>1546.7</td><td>1</td><td>2014-06-04 10:00:00</td></tr><tr><td>1546.8</td><td>1546.8</td><td>1546.8</td><td>1546.8</td><td>618720.0</td><td>400</td><td>2014-06-04 10:10:00</td></tr><tr><td>1546.8</td><td>1546.8</td><td>1546.8</td><td>1546.8</td><td>7.1153e6</td><td>4600</td><td>2014-06-04 10:40:00</td></tr><tr><td>1546.8</td><td>1545.0</td><td>1546.8</td><td>1545.0</td><td>2.9380e6</td><td>1900</td><td>2014-06-04 11:40:00</td></tr><tr><td>1546.8</td><td>1546.8</td><td>1546.8</td><td>1546.8</td><td>3093.6</td><td>2</td><td>2014-06-04 11:50:00</td></tr><tr><td>&hellip;</td><td>&hellip;</td><td>&hellip;</td><td>&hellip;</td><td>&hellip;</td><td>&hellip;</td><td>&hellip;</td></tr><tr><td>3716.0</td><td>3718.0</td><td>3719.5</td><td>3713.0</td><td>4.01024e7</td><td>10789</td><td>2024-11-15 19:30:00</td></tr><tr><td>3717.5</td><td>3713.5</td><td>3718.5</td><td>3710.5</td><td>3.1031e7</td><td>8351</td><td>2024-11-15 19:40:00</td></tr><tr><td>3713.5</td><td>3707.5</td><td>3715.0</td><td>3707.5</td><td>1.5820605e7</td><td>4263</td><td>2024-11-15 19:50:00</td></tr><tr><td>3707.5</td><td>3709.0</td><td>3710.0</td><td>3707.5</td><td>1.1050e7</td><td>2979</td><td>2024-11-15 20:00:00</td></tr><tr><td>3709.0</td><td>3709.0</td><td>3709.0</td><td>3709.0</td><td>22254.0</td><td>6</td><td>2024-11-15 20:10:00</td></tr></tbody></table></div>"
      ],
      "text/plain": [
       "shape: (164_087, 7)\n",
       "┌────────┬────────┬────────┬────────┬─────────────┬────────┬─────────────────────┐\n",
       "│ open   ┆ close  ┆ high   ┆ low    ┆ value       ┆ volume ┆ begin               │\n",
       "│ ---    ┆ ---    ┆ ---    ┆ ---    ┆ ---         ┆ ---    ┆ ---                 │\n",
       "│ f64    ┆ f64    ┆ f64    ┆ f64    ┆ f64         ┆ i64    ┆ datetime[μs]        │\n",
       "╞════════╪════════╪════════╪════════╪═════════════╪════════╪═════════════════════╡\n",
       "│ 1546.7 ┆ 1546.7 ┆ 1546.7 ┆ 1546.7 ┆ 1546.7      ┆ 1      ┆ 2014-06-04 10:00:00 │\n",
       "│ 1546.8 ┆ 1546.8 ┆ 1546.8 ┆ 1546.8 ┆ 618720.0    ┆ 400    ┆ 2014-06-04 10:10:00 │\n",
       "│ 1546.8 ┆ 1546.8 ┆ 1546.8 ┆ 1546.8 ┆ 7.1153e6    ┆ 4600   ┆ 2014-06-04 10:40:00 │\n",
       "│ 1546.8 ┆ 1545.0 ┆ 1546.8 ┆ 1545.0 ┆ 2.9380e6    ┆ 1900   ┆ 2014-06-04 11:40:00 │\n",
       "│ 1546.8 ┆ 1546.8 ┆ 1546.8 ┆ 1546.8 ┆ 3093.6      ┆ 2      ┆ 2014-06-04 11:50:00 │\n",
       "│ …      ┆ …      ┆ …      ┆ …      ┆ …           ┆ …      ┆ …                   │\n",
       "│ 3716.0 ┆ 3718.0 ┆ 3719.5 ┆ 3713.0 ┆ 4.01024e7   ┆ 10789  ┆ 2024-11-15 19:30:00 │\n",
       "│ 3717.5 ┆ 3713.5 ┆ 3718.5 ┆ 3710.5 ┆ 3.1031e7    ┆ 8351   ┆ 2024-11-15 19:40:00 │\n",
       "│ 3713.5 ┆ 3707.5 ┆ 3715.0 ┆ 3707.5 ┆ 1.5820605e7 ┆ 4263   ┆ 2024-11-15 19:50:00 │\n",
       "│ 3707.5 ┆ 3709.0 ┆ 3710.0 ┆ 3707.5 ┆ 1.1050e7    ┆ 2979   ┆ 2024-11-15 20:00:00 │\n",
       "│ 3709.0 ┆ 3709.0 ┆ 3709.0 ┆ 3709.0 ┆ 22254.0     ┆ 6      ┆ 2024-11-15 20:10:00 │\n",
       "└────────┴────────┴────────┴────────┴─────────────┴────────┴─────────────────────┘"
      ]
     },
     "execution_count": 3,
     "metadata": {},
     "output_type": "execute_result"
    }
   ],
   "source": [
    "df = pl.read_csv('YDEX_10_CANDLES').select('open', 'close', 'high', 'low', 'value', 'volume', pl.col('begin').str.to_datetime()).unique().sort(by='begin')\n",
    "df"
   ]
  },
  {
   "cell_type": "markdown",
   "metadata": {},
   "source": [
    "заполняем пропуски: если строка с определенынм временем пропущена, и бумага не торговалась, \\\n",
    "выставляем $open = 0, close_i = close_{i+1}, low = 0, high = 0$\n",
    "(правда потом мы подумали что их брать не стоит, и вырезали ночное время)"
   ]
  },
  {
   "cell_type": "code",
   "execution_count": 4,
   "metadata": {},
   "outputs": [
    {
     "data": {
      "text/html": [
       "<div><style>\n",
       ".dataframe > thead > tr,\n",
       ".dataframe > tbody > tr {\n",
       "  text-align: right;\n",
       "  white-space: pre-wrap;\n",
       "}\n",
       "</style>\n",
       "<small>shape: (184_507, 7)</small><table border=\"1\" class=\"dataframe\"><thead><tr><th>begin</th><th>open</th><th>close</th><th>high</th><th>low</th><th>value</th><th>volume</th></tr><tr><td>datetime[μs]</td><td>f64</td><td>f64</td><td>f64</td><td>f64</td><td>f64</td><td>i64</td></tr></thead><tbody><tr><td>2014-06-04 11:50:00</td><td>1546.8</td><td>1546.8</td><td>1546.8</td><td>1546.8</td><td>3093.6</td><td>2</td></tr><tr><td>2014-06-04 12:00:00</td><td>0.0</td><td>1546.8</td><td>0.0</td><td>0.0</td><td>0.0</td><td>0</td></tr><tr><td>2014-06-04 12:10:00</td><td>1546.8</td><td>1546.8</td><td>1546.8</td><td>1546.8</td><td>3093.6</td><td>2</td></tr><tr><td>2014-06-04 12:20:00</td><td>0.0</td><td>1546.8</td><td>0.0</td><td>0.0</td><td>0.0</td><td>0</td></tr><tr><td>2014-06-04 12:30:00</td><td>0.0</td><td>1546.8</td><td>0.0</td><td>0.0</td><td>0.0</td><td>0</td></tr><tr><td>&hellip;</td><td>&hellip;</td><td>&hellip;</td><td>&hellip;</td><td>&hellip;</td><td>&hellip;</td><td>&hellip;</td></tr><tr><td>2024-11-15 19:30:00</td><td>3716.0</td><td>3718.0</td><td>3719.5</td><td>3713.0</td><td>4.01024e7</td><td>10789</td></tr><tr><td>2024-11-15 19:40:00</td><td>3717.5</td><td>3713.5</td><td>3718.5</td><td>3710.5</td><td>3.1031e7</td><td>8351</td></tr><tr><td>2024-11-15 19:50:00</td><td>3713.5</td><td>3707.5</td><td>3715.0</td><td>3707.5</td><td>1.5820605e7</td><td>4263</td></tr><tr><td>2024-11-15 20:00:00</td><td>3707.5</td><td>3709.0</td><td>3710.0</td><td>3707.5</td><td>1.1050e7</td><td>2979</td></tr><tr><td>2024-11-15 20:10:00</td><td>3709.0</td><td>3709.0</td><td>3709.0</td><td>3709.0</td><td>22254.0</td><td>6</td></tr></tbody></table></div>"
      ],
      "text/plain": [
       "shape: (184_507, 7)\n",
       "┌─────────────────────┬────────┬────────┬────────┬────────┬─────────────┬────────┐\n",
       "│ begin               ┆ open   ┆ close  ┆ high   ┆ low    ┆ value       ┆ volume │\n",
       "│ ---                 ┆ ---    ┆ ---    ┆ ---    ┆ ---    ┆ ---         ┆ ---    │\n",
       "│ datetime[μs]        ┆ f64    ┆ f64    ┆ f64    ┆ f64    ┆ f64         ┆ i64    │\n",
       "╞═════════════════════╪════════╪════════╪════════╪════════╪═════════════╪════════╡\n",
       "│ 2014-06-04 11:50:00 ┆ 1546.8 ┆ 1546.8 ┆ 1546.8 ┆ 1546.8 ┆ 3093.6      ┆ 2      │\n",
       "│ 2014-06-04 12:00:00 ┆ 0.0    ┆ 1546.8 ┆ 0.0    ┆ 0.0    ┆ 0.0         ┆ 0      │\n",
       "│ 2014-06-04 12:10:00 ┆ 1546.8 ┆ 1546.8 ┆ 1546.8 ┆ 1546.8 ┆ 3093.6      ┆ 2      │\n",
       "│ 2014-06-04 12:20:00 ┆ 0.0    ┆ 1546.8 ┆ 0.0    ┆ 0.0    ┆ 0.0         ┆ 0      │\n",
       "│ 2014-06-04 12:30:00 ┆ 0.0    ┆ 1546.8 ┆ 0.0    ┆ 0.0    ┆ 0.0         ┆ 0      │\n",
       "│ …                   ┆ …      ┆ …      ┆ …      ┆ …      ┆ …           ┆ …      │\n",
       "│ 2024-11-15 19:30:00 ┆ 3716.0 ┆ 3718.0 ┆ 3719.5 ┆ 3713.0 ┆ 4.01024e7   ┆ 10789  │\n",
       "│ 2024-11-15 19:40:00 ┆ 3717.5 ┆ 3713.5 ┆ 3718.5 ┆ 3710.5 ┆ 3.1031e7    ┆ 8351   │\n",
       "│ 2024-11-15 19:50:00 ┆ 3713.5 ┆ 3707.5 ┆ 3715.0 ┆ 3707.5 ┆ 1.5820605e7 ┆ 4263   │\n",
       "│ 2024-11-15 20:00:00 ┆ 3707.5 ┆ 3709.0 ┆ 3710.0 ┆ 3707.5 ┆ 1.1050e7    ┆ 2979   │\n",
       "│ 2024-11-15 20:10:00 ┆ 3709.0 ┆ 3709.0 ┆ 3709.0 ┆ 3709.0 ┆ 22254.0     ┆ 6      │\n",
       "└─────────────────────┴────────┴────────┴────────┴────────┴─────────────┴────────┘"
      ]
     },
     "execution_count": 4,
     "metadata": {},
     "output_type": "execute_result"
    }
   ],
   "source": [
    "df_filled = df.upsample('begin', every='10m').filter(pl.col('begin').dt.hour().is_between(10, 23) & pl.col('begin').dt.weekday().is_between(1, 5)).with_columns(close=pl.col('close').fill_null(strategy='forward')).fill_null(strategy='zero').filter(pl.col('volume').rolling_max(window_size = 12) > 0)\n",
    "df_filled"
   ]
  },
  {
   "cell_type": "code",
   "execution_count": 5,
   "metadata": {},
   "outputs": [
    {
     "data": {
      "text/html": [
       "<div><style>\n",
       ".dataframe > thead > tr,\n",
       ".dataframe > tbody > tr {\n",
       "  text-align: right;\n",
       "  white-space: pre-wrap;\n",
       "}\n",
       "</style>\n",
       "<small>shape: (957, 3)</small><table border=\"1\" class=\"dataframe\"><thead><tr><th>begin</th><th>first</th><th>last</th></tr><tr><td>datetime[μs]</td><td>i8</td><td>i8</td></tr></thead><tbody><tr><td>2020-06-22 00:00:00</td><td>9</td><td>23</td></tr><tr><td>2020-06-23 00:00:00</td><td>9</td><td>23</td></tr><tr><td>2020-06-25 00:00:00</td><td>9</td><td>23</td></tr><tr><td>2020-06-26 00:00:00</td><td>9</td><td>23</td></tr><tr><td>2020-06-29 00:00:00</td><td>9</td><td>23</td></tr><tr><td>&hellip;</td><td>&hellip;</td><td>&hellip;</td></tr><tr><td>2024-11-08 00:00:00</td><td>9</td><td>23</td></tr><tr><td>2024-11-11 00:00:00</td><td>9</td><td>23</td></tr><tr><td>2024-11-12 00:00:00</td><td>9</td><td>23</td></tr><tr><td>2024-11-13 00:00:00</td><td>9</td><td>23</td></tr><tr><td>2024-11-14 00:00:00</td><td>9</td><td>23</td></tr></tbody></table></div>"
      ],
      "text/plain": [
       "shape: (957, 3)\n",
       "┌─────────────────────┬───────┬──────┐\n",
       "│ begin               ┆ first ┆ last │\n",
       "│ ---                 ┆ ---   ┆ ---  │\n",
       "│ datetime[μs]        ┆ i8    ┆ i8   │\n",
       "╞═════════════════════╪═══════╪══════╡\n",
       "│ 2020-06-22 00:00:00 ┆ 9     ┆ 23   │\n",
       "│ 2020-06-23 00:00:00 ┆ 9     ┆ 23   │\n",
       "│ 2020-06-25 00:00:00 ┆ 9     ┆ 23   │\n",
       "│ 2020-06-26 00:00:00 ┆ 9     ┆ 23   │\n",
       "│ 2020-06-29 00:00:00 ┆ 9     ┆ 23   │\n",
       "│ …                   ┆ …     ┆ …    │\n",
       "│ 2024-11-08 00:00:00 ┆ 9     ┆ 23   │\n",
       "│ 2024-11-11 00:00:00 ┆ 9     ┆ 23   │\n",
       "│ 2024-11-12 00:00:00 ┆ 9     ┆ 23   │\n",
       "│ 2024-11-13 00:00:00 ┆ 9     ┆ 23   │\n",
       "│ 2024-11-14 00:00:00 ┆ 9     ┆ 23   │\n",
       "└─────────────────────┴───────┴──────┘"
      ]
     },
     "execution_count": 5,
     "metadata": {},
     "output_type": "execute_result"
    }
   ],
   "source": [
    "df.group_by_dynamic('begin', every='1d').agg(pl.col('begin').dt.hour().min().alias('first'), pl.col('begin').dt.hour().max().alias('last')).filter(pl.col('last') == 23)"
   ]
  },
  {
   "cell_type": "code",
   "execution_count": 6,
   "metadata": {},
   "outputs": [
    {
     "data": {
      "image/png": "[encoded data removed]",
      "text/plain": [
       "<Figure size 2000x1000 with 1 Axes>"
      ]
     },
     "metadata": {},
     "output_type": "display_data"
    }
   ],
   "source": [
    "df.group_by_dynamic('begin', every='1d').agg(pl.col('begin').dt.hour().min().alias('first'), pl.col('begin').dt.hour().max().alias('last')).to_pandas().set_index('begin').plot(figsize=(20, 10))\n",
    "\n",
    "plt.yticks(range(24))\n",
    "plt.show()"
   ]
  },
  {
   "cell_type": "code",
   "execution_count": 7,
   "metadata": {},
   "outputs": [
    {
     "data": {
      "text/plain": [
       "array([[<Axes: title={'center': 'begin'}>]], dtype=object)"
      ]
     },
     "execution_count": 7,
     "metadata": {},
     "output_type": "execute_result"
    },
    {
     "data": {
      "image/png": "[encoded data removed]",
      "text/plain": [
       "<Figure size 2000x1000 with 1 Axes>"
      ]
     },
     "metadata": {},
     "output_type": "display_data"
    }
   ],
   "source": [
    "df.select('begin').to_pandas().hist(bins=500, figsize=(20, 10))"
   ]
  },
  {
   "cell_type": "code",
   "execution_count": 49,
   "metadata": {},
   "outputs": [],
   "source": [
    "cur_df = df_filled.filter(pl.col('begin').dt.date() >= pl.date(2023, 1, 1))"
   ]
  },
  {
   "cell_type": "code",
   "execution_count": 50,
   "metadata": {},
   "outputs": [],
   "source": [
    "num_lags = 12"
   ]
  },
  {
   "cell_type": "code",
   "execution_count": 51,
   "metadata": {},
   "outputs": [
    {
     "data": {
      "text/html": [
       "<div><style>\n",
       ".dataframe > thead > tr,\n",
       ".dataframe > tbody > tr {\n",
       "  text-align: right;\n",
       "  white-space: pre-wrap;\n",
       "}\n",
       "</style>\n",
       "<small>shape: (37_813, 25)</small><table border=\"1\" class=\"dataframe\"><thead><tr><th>target</th><th>open</th><th>high</th><th>low</th><th>mean</th><th>volume</th><th>spread</th><th>mean_3</th><th>mean_6</th><th>mean_9</th><th>mean_18</th><th>minute</th><th>month</th><th>lag_1</th><th>lag_2</th><th>lag_3</th><th>lag_4</th><th>lag_5</th><th>lag_6</th><th>lag_7</th><th>lag_8</th><th>lag_9</th><th>lag_10</th><th>lag_11</th><th>lag_12</th></tr><tr><td>f64</td><td>f64</td><td>f64</td><td>f64</td><td>f64</td><td>i64</td><td>f64</td><td>f64</td><td>f64</td><td>f64</td><td>f64</td><td>i16</td><td>i8</td><td>f64</td><td>f64</td><td>f64</td><td>f64</td><td>f64</td><td>f64</td><td>f64</td><td>f64</td><td>f64</td><td>f64</td><td>f64</td><td>f64</td></tr></thead><tbody><tr><td>1.00044</td><td>0.99923</td><td>1.00088</td><td>0.998789</td><td>0.999675</td><td>2867</td><td>0.002091</td><td>0.997102</td><td>0.998331</td><td>1.000135</td><td>1.000232</td><td>680</td><td>1</td><td>1.000771</td><td>1.001985</td><td>1.005979</td><td>1.00287</td><td>1.001875</td><td>0.9966</td><td>0.993331</td><td>0.995835</td><td>0.99967</td><td>0.99967</td><td>0.99967</td><td>0.99967</td></tr><tr><td>0.99978</td><td>0.99956</td><td>1.0</td><td>0.99868</td><td>0.999449</td><td>1668</td><td>0.00132</td><td>0.998643</td><td>0.997323</td><td>0.999658</td><td>0.999774</td><td>690</td><td>1</td><td>1.00044</td><td>1.001212</td><td>1.002426</td><td>1.006422</td><td>1.003311</td><td>1.002316</td><td>0.997038</td><td>0.993768</td><td>0.996274</td><td>1.00011</td><td>1.00011</td><td>1.00011</td></tr><tr><td>1.00077</td><td>1.00055</td><td>1.00099</td><td>0.99967</td><td>1.000181</td><td>1245</td><td>0.00132</td><td>0.99967</td><td>0.997928</td><td>0.999462</td><td>1.0</td><td>700</td><td>1</td><td>0.99978</td><td>1.00022</td><td>1.000991</td><td>1.002206</td><td>1.0062</td><td>1.003091</td><td>1.002095</td><td>0.996819</td><td>0.99355</td><td>0.996054</td><td>0.99989</td><td>0.99989</td></tr><tr><td>0.99989</td><td>0.99923</td><td>1.0</td><td>0.99912</td><td>0.999511</td><td>1810</td><td>0.00088</td><td>0.99923</td><td>0.997673</td><td>0.997972</td><td>0.999224</td><td>710</td><td>1</td><td>1.00077</td><td>1.00055</td><td>1.000991</td><td>1.001762</td><td>1.002978</td><td>1.006975</td><td>1.003863</td><td>1.002867</td><td>0.997587</td><td>0.994315</td><td>0.996822</td><td>1.00066</td></tr><tr><td>1.0011</td><td>1.00011</td><td>1.00022</td><td>0.998131</td><td>0.999475</td><td>2626</td><td>0.002089</td><td>0.99967</td><td>0.998937</td><td>0.997813</td><td>0.999371</td><td>720</td><td>1</td><td>0.99989</td><td>1.00066</td><td>1.00044</td><td>1.00088</td><td>1.001652</td><td>1.002867</td><td>1.006864</td><td>1.003753</td><td>1.002757</td><td>0.997477</td><td>0.994206</td><td>0.996712</td></tr><tr><td>&hellip;</td><td>&hellip;</td><td>&hellip;</td><td>&hellip;</td><td>&hellip;</td><td>&hellip;</td><td>&hellip;</td><td>&hellip;</td><td>&hellip;</td><td>&hellip;</td><td>&hellip;</td><td>&hellip;</td><td>&hellip;</td><td>&hellip;</td><td>&hellip;</td><td>&hellip;</td><td>&hellip;</td><td>&hellip;</td><td>&hellip;</td><td>&hellip;</td><td>&hellip;</td><td>&hellip;</td><td>&hellip;</td><td>&hellip;</td><td>&hellip;</td></tr><tr><td>1.000673</td><td>1.00148</td><td>1.00148</td><td>0.999462</td><td>1.00047</td><td>8922</td><td>0.002019</td><td>0.996995</td><td>0.995514</td><td>0.994243</td><td>0.99292</td><td>1160</td><td>11</td><td>0.998656</td><td>1.003511</td><td>1.006911</td><td>1.006911</td><td>1.005004</td><td>1.006093</td><td>1.00855</td><td>1.00814</td><td>1.008414</td><td>1.007593</td><td>1.00773</td><td>1.00732</td></tr><tr><td>0.99879</td><td>0.999462</td><td>1.000403</td><td>0.998655</td><td>0.999723</td><td>10789</td><td>0.001748</td><td>0.99861</td><td>0.995854</td><td>0.994501</td><td>0.992678</td><td>1170</td><td>11</td><td>1.000673</td><td>0.999328</td><td>1.004186</td><td>1.007588</td><td>1.007588</td><td>1.00568</td><td>1.00677</td><td>1.009229</td><td>1.008818</td><td>1.009092</td><td>1.008271</td><td>1.008408</td></tr><tr><td>0.998384</td><td>1.001077</td><td>1.001346</td><td>0.999192</td><td>1.000629</td><td>8351</td><td>0.002154</td><td>1.001212</td><td>0.998003</td><td>0.996679</td><td>0.99439</td><td>1180</td><td>11</td><td>0.99879</td><td>0.999462</td><td>0.998119</td><td>1.002971</td><td>1.006369</td><td>1.006369</td><td>1.004463</td><td>1.005551</td><td>1.008008</td><td>1.007597</td><td>1.007871</td><td>1.007051</td></tr><tr><td>1.000405</td><td>1.001618</td><td>1.002023</td><td>1.0</td><td>1.000983</td><td>4263</td><td>0.002023</td><td>1.002203</td><td>1.000674</td><td>0.999176</td><td>0.996546</td><td>1190</td><td>11</td><td>0.998384</td><td>0.997176</td><td>0.997847</td><td>0.996506</td><td>1.00135</td><td>1.004743</td><td>1.004743</td><td>1.00284</td><td>1.003926</td><td>1.006379</td><td>1.005969</td><td>1.006242</td></tr><tr><td>1.0</td><td>0.999596</td><td>1.00027</td><td>0.999596</td><td>1.000079</td><td>2979</td><td>0.000674</td><td>1.001078</td><td>1.001056</td><td>0.999206</td><td>0.996585</td><td>1200</td><td>11</td><td>1.000405</td><td>0.998788</td><td>0.997579</td><td>0.998251</td><td>0.996909</td><td>1.001756</td><td>1.005149</td><td>1.005149</td><td>1.003246</td><td>1.004333</td><td>1.006786</td><td>1.006376</td></tr></tbody></table></div>"
      ],
      "text/plain": [
       "shape: (37_813, 25)\n",
       "┌──────────┬──────────┬──────────┬──────────┬───┬──────────┬──────────┬──────────┬──────────┐\n",
       "│ target   ┆ open     ┆ high     ┆ low      ┆ … ┆ lag_9    ┆ lag_10   ┆ lag_11   ┆ lag_12   │\n",
       "│ ---      ┆ ---      ┆ ---      ┆ ---      ┆   ┆ ---      ┆ ---      ┆ ---      ┆ ---      │\n",
       "│ f64      ┆ f64      ┆ f64      ┆ f64      ┆   ┆ f64      ┆ f64      ┆ f64      ┆ f64      │\n",
       "╞══════════╪══════════╪══════════╪══════════╪═══╪══════════╪══════════╪══════════╪══════════╡\n",
       "│ 1.00044  ┆ 0.99923  ┆ 1.00088  ┆ 0.998789 ┆ … ┆ 0.99967  ┆ 0.99967  ┆ 0.99967  ┆ 0.99967  │\n",
       "│ 0.99978  ┆ 0.99956  ┆ 1.0      ┆ 0.99868  ┆ … ┆ 0.996274 ┆ 1.00011  ┆ 1.00011  ┆ 1.00011  │\n",
       "│ 1.00077  ┆ 1.00055  ┆ 1.00099  ┆ 0.99967  ┆ … ┆ 0.99355  ┆ 0.996054 ┆ 0.99989  ┆ 0.99989  │\n",
       "│ 0.99989  ┆ 0.99923  ┆ 1.0      ┆ 0.99912  ┆ … ┆ 0.997587 ┆ 0.994315 ┆ 0.996822 ┆ 1.00066  │\n",
       "│ 1.0011   ┆ 1.00011  ┆ 1.00022  ┆ 0.998131 ┆ … ┆ 1.002757 ┆ 0.997477 ┆ 0.994206 ┆ 0.996712 │\n",
       "│ …        ┆ …        ┆ …        ┆ …        ┆ … ┆ …        ┆ …        ┆ …        ┆ …        │\n",
       "│ 1.000673 ┆ 1.00148  ┆ 1.00148  ┆ 0.999462 ┆ … ┆ 1.008414 ┆ 1.007593 ┆ 1.00773  ┆ 1.00732  │\n",
       "│ 0.99879  ┆ 0.999462 ┆ 1.000403 ┆ 0.998655 ┆ … ┆ 1.008818 ┆ 1.009092 ┆ 1.008271 ┆ 1.008408 │\n",
       "│ 0.998384 ┆ 1.001077 ┆ 1.001346 ┆ 0.999192 ┆ … ┆ 1.008008 ┆ 1.007597 ┆ 1.007871 ┆ 1.007051 │\n",
       "│ 1.000405 ┆ 1.001618 ┆ 1.002023 ┆ 1.0      ┆ … ┆ 1.003926 ┆ 1.006379 ┆ 1.005969 ┆ 1.006242 │\n",
       "│ 1.0      ┆ 0.999596 ┆ 1.00027  ┆ 0.999596 ┆ … ┆ 1.003246 ┆ 1.004333 ┆ 1.006786 ┆ 1.006376 │\n",
       "└──────────┴──────────┴──────────┴──────────┴───┴──────────┴──────────┴──────────┴──────────┘"
      ]
     },
     "execution_count": 51,
     "metadata": {},
     "output_type": "execute_result"
    }
   ],
   "source": [
    "features_df = cur_df.select((\n",
    "            pl.col('close').shift(-1) / pl.col('close')).alias('target'), # таргет - отношение следующей цены и нынешней\n",
    "            pl.col('open') / pl.col('close'),  # нормируем цену открытия,\n",
    "            pl.col('high') / pl.col('close'),  # максимальную и\n",
    "            pl.col('low') / pl.col('close'),   # минимальную к цене закрытия\n",
    "            (pl.col('value') / pl.col('volume') / pl.col('close')).alias('mean'), # нормируем среднюю цену к цене закрытия\n",
    "            pl.col('volume'), # число бумаг не меняем\n",
    "            (pl.col('high') - pl.col('low')).alias('spread') / pl.col('close'), # разница high и low, отнормированная к close\n",
    "            *(pl.col('close').shift(1).rolling_mean(i).alias(f'mean_{i}') / pl.col('close') for i in (3, 6, 9, 18)), # предыдущие running mean, отнормированные к close\n",
    "            (pl.col('begin').dt.hour().cast(pl.Int16) * 60 + pl.col('begin').dt.minute()).alias('minute'), # номер минуты в дне для сезонности?\n",
    "            pl.col('begin').dt.month().alias('month'), # месяц для сезонности?\n",
    "            *((pl.col('close') / pl.col('close').shift(i)).alias(f'lag_{i}') for i in range(1, num_lags + 1) # лаги - отношение нынешней цены закрытия и цены закрытия i периодов назад\n",
    "            )).drop_nulls()\n",
    "features_df"
   ]
  },
  {
   "cell_type": "code",
   "execution_count": 52,
   "metadata": {},
   "outputs": [
    {
     "data": {
      "text/plain": [
       "0.06661730092825219"
      ]
     },
     "execution_count": 52,
     "metadata": {},
     "output_type": "execute_result"
    }
   ],
   "source": [
    "(features_df.select('target').to_numpy() == 1).mean()"
   ]
  },
  {
   "cell_type": "markdown",
   "metadata": {},
   "source": [
    "ура время фитпредикт"
   ]
  },
  {
   "cell_type": "code",
   "execution_count": 53,
   "metadata": {},
   "outputs": [],
   "source": [
    "from sklearn.model_selection import train_test_split\n",
    "\n",
    "X_train, X_test, y_train, y_test = train_test_split(features_df.select(pl.exclude('target')).to_numpy(), features_df.select('target').to_numpy(), test_size=0.2, shuffle=False)\n",
    "\n",
    "y_train, y_test = y_train.flatten(), y_test.flatten()"
   ]
  },
  {
   "cell_type": "code",
   "execution_count": 22,
   "metadata": {},
   "outputs": [
    {
     "data": {
      "text/plain": [
       "0.5352373396800212"
      ]
     },
     "execution_count": 22,
     "metadata": {},
     "output_type": "execute_result"
    }
   ],
   "source": [
    "(y_test >= 1).mean() # accuracy константы"
   ]
  },
  {
   "cell_type": "code",
   "execution_count": 61,
   "metadata": {},
   "outputs": [
    {
     "name": "stdout",
     "output_type": "stream",
     "text": [
      "Learning rate set to 0.132739\n",
      "0:\tlearn: 0.0013804\ttest: 0.0014960\tbest: 0.0014960 (0)\ttotal: 9.05ms\tremaining: 4.51s\n",
      "1:\tlearn: 0.0013782\ttest: 0.0014953\tbest: 0.0014953 (1)\ttotal: 14.1ms\tremaining: 3.51s\n",
      "2:\tlearn: 0.0013763\ttest: 0.0014946\tbest: 0.0014946 (2)\ttotal: 18.4ms\tremaining: 3.05s\n",
      "3:\tlearn: 0.0013748\ttest: 0.0014941\tbest: 0.0014941 (3)\ttotal: 22.9ms\tremaining: 2.84s\n",
      "4:\tlearn: 0.0013736\ttest: 0.0014938\tbest: 0.0014938 (4)\ttotal: 27.1ms\tremaining: 2.68s\n",
      "5:\tlearn: 0.0013725\ttest: 0.0014933\tbest: 0.0014933 (5)\ttotal: 31.3ms\tremaining: 2.58s\n",
      "6:\tlearn: 0.0013714\ttest: 0.0014928\tbest: 0.0014928 (6)\ttotal: 35.7ms\tremaining: 2.51s\n",
      "7:\tlearn: 0.0013705\ttest: 0.0014922\tbest: 0.0014922 (7)\ttotal: 40.1ms\tremaining: 2.47s\n",
      "8:\tlearn: 0.0013699\ttest: 0.0014922\tbest: 0.0014922 (7)\ttotal: 44.2ms\tremaining: 2.41s\n",
      "9:\tlearn: 0.0013692\ttest: 0.0014917\tbest: 0.0014917 (9)\ttotal: 48.6ms\tremaining: 2.38s\n",
      "10:\tlearn: 0.0013686\ttest: 0.0014915\tbest: 0.0014915 (10)\ttotal: 53.8ms\tremaining: 2.39s\n",
      "11:\tlearn: 0.0013680\ttest: 0.0014916\tbest: 0.0014915 (10)\ttotal: 57.8ms\tremaining: 2.35s\n",
      "12:\tlearn: 0.0013667\ttest: 0.0014918\tbest: 0.0014915 (10)\ttotal: 62ms\tremaining: 2.32s\n",
      "13:\tlearn: 0.0013661\ttest: 0.0014921\tbest: 0.0014915 (10)\ttotal: 66.6ms\tremaining: 2.31s\n",
      "14:\tlearn: 0.0013656\ttest: 0.0014918\tbest: 0.0014915 (10)\ttotal: 71.3ms\tremaining: 2.3s\n",
      "15:\tlearn: 0.0013648\ttest: 0.0014915\tbest: 0.0014915 (15)\ttotal: 75.5ms\tremaining: 2.28s\n",
      "16:\tlearn: 0.0013640\ttest: 0.0014918\tbest: 0.0014915 (15)\ttotal: 79.8ms\tremaining: 2.27s\n",
      "17:\tlearn: 0.0013633\ttest: 0.0014920\tbest: 0.0014915 (15)\ttotal: 84.4ms\tremaining: 2.26s\n",
      "18:\tlearn: 0.0013629\ttest: 0.0014921\tbest: 0.0014915 (15)\ttotal: 89ms\tremaining: 2.25s\n",
      "19:\tlearn: 0.0013623\ttest: 0.0014921\tbest: 0.0014915 (15)\ttotal: 93ms\tremaining: 2.23s\n",
      "20:\tlearn: 0.0013620\ttest: 0.0014922\tbest: 0.0014915 (15)\ttotal: 96.9ms\tremaining: 2.21s\n",
      "21:\tlearn: 0.0013613\ttest: 0.0014927\tbest: 0.0014915 (15)\ttotal: 102ms\tremaining: 2.21s\n",
      "22:\tlearn: 0.0013609\ttest: 0.0014925\tbest: 0.0014915 (15)\ttotal: 107ms\tremaining: 2.22s\n",
      "23:\tlearn: 0.0013604\ttest: 0.0014925\tbest: 0.0014915 (15)\ttotal: 111ms\tremaining: 2.21s\n",
      "24:\tlearn: 0.0013602\ttest: 0.0014925\tbest: 0.0014915 (15)\ttotal: 115ms\tremaining: 2.19s\n",
      "25:\tlearn: 0.0013595\ttest: 0.0014933\tbest: 0.0014915 (15)\ttotal: 121ms\tremaining: 2.2s\n",
      "26:\tlearn: 0.0013590\ttest: 0.0014935\tbest: 0.0014915 (15)\ttotal: 125ms\tremaining: 2.18s\n",
      "27:\tlearn: 0.0013587\ttest: 0.0014940\tbest: 0.0014915 (15)\ttotal: 128ms\tremaining: 2.16s\n",
      "28:\tlearn: 0.0013583\ttest: 0.0014941\tbest: 0.0014915 (15)\ttotal: 133ms\tremaining: 2.15s\n",
      "29:\tlearn: 0.0013580\ttest: 0.0014943\tbest: 0.0014915 (15)\ttotal: 137ms\tremaining: 2.15s\n",
      "30:\tlearn: 0.0013577\ttest: 0.0014943\tbest: 0.0014915 (15)\ttotal: 141ms\tremaining: 2.13s\n",
      "31:\tlearn: 0.0013572\ttest: 0.0014942\tbest: 0.0014915 (15)\ttotal: 145ms\tremaining: 2.11s\n",
      "32:\tlearn: 0.0013565\ttest: 0.0014952\tbest: 0.0014915 (15)\ttotal: 149ms\tremaining: 2.11s\n",
      "33:\tlearn: 0.0013562\ttest: 0.0014955\tbest: 0.0014915 (15)\ttotal: 153ms\tremaining: 2.1s\n",
      "34:\tlearn: 0.0013556\ttest: 0.0014956\tbest: 0.0014915 (15)\ttotal: 157ms\tremaining: 2.08s\n",
      "35:\tlearn: 0.0013552\ttest: 0.0014959\tbest: 0.0014915 (15)\ttotal: 161ms\tremaining: 2.07s\n",
      "36:\tlearn: 0.0013548\ttest: 0.0014961\tbest: 0.0014915 (15)\ttotal: 165ms\tremaining: 2.07s\n",
      "37:\tlearn: 0.0013544\ttest: 0.0014961\tbest: 0.0014915 (15)\ttotal: 169ms\tremaining: 2.06s\n",
      "38:\tlearn: 0.0013543\ttest: 0.0014959\tbest: 0.0014915 (15)\ttotal: 173ms\tremaining: 2.05s\n",
      "39:\tlearn: 0.0013538\ttest: 0.0014959\tbest: 0.0014915 (15)\ttotal: 177ms\tremaining: 2.04s\n",
      "40:\tlearn: 0.0013536\ttest: 0.0014963\tbest: 0.0014915 (15)\ttotal: 182ms\tremaining: 2.04s\n",
      "41:\tlearn: 0.0013530\ttest: 0.0014961\tbest: 0.0014915 (15)\ttotal: 186ms\tremaining: 2.02s\n",
      "42:\tlearn: 0.0013523\ttest: 0.0014958\tbest: 0.0014915 (15)\ttotal: 190ms\tremaining: 2.02s\n",
      "43:\tlearn: 0.0013522\ttest: 0.0014959\tbest: 0.0014915 (15)\ttotal: 194ms\tremaining: 2.01s\n",
      "44:\tlearn: 0.0013519\ttest: 0.0014959\tbest: 0.0014915 (15)\ttotal: 199ms\tremaining: 2.01s\n",
      "45:\tlearn: 0.0013515\ttest: 0.0014965\tbest: 0.0014915 (15)\ttotal: 203ms\tremaining: 2s\n",
      "46:\tlearn: 0.0013511\ttest: 0.0014964\tbest: 0.0014915 (15)\ttotal: 207ms\tremaining: 1.99s\n",
      "47:\tlearn: 0.0013509\ttest: 0.0014962\tbest: 0.0014915 (15)\ttotal: 211ms\tremaining: 1.98s\n",
      "48:\tlearn: 0.0013504\ttest: 0.0014967\tbest: 0.0014915 (15)\ttotal: 217ms\tremaining: 1.99s\n",
      "49:\tlearn: 0.0013501\ttest: 0.0014970\tbest: 0.0014915 (15)\ttotal: 223ms\tremaining: 2.01s\n",
      "50:\tlearn: 0.0013496\ttest: 0.0014970\tbest: 0.0014915 (15)\ttotal: 227ms\tremaining: 2s\n",
      "51:\tlearn: 0.0013493\ttest: 0.0014970\tbest: 0.0014915 (15)\ttotal: 232ms\tremaining: 2s\n",
      "52:\tlearn: 0.0013490\ttest: 0.0014969\tbest: 0.0014915 (15)\ttotal: 237ms\tremaining: 2s\n",
      "53:\tlearn: 0.0013489\ttest: 0.0014971\tbest: 0.0014915 (15)\ttotal: 241ms\tremaining: 1.99s\n",
      "54:\tlearn: 0.0013485\ttest: 0.0014973\tbest: 0.0014915 (15)\ttotal: 246ms\tremaining: 1.99s\n",
      "55:\tlearn: 0.0013483\ttest: 0.0014975\tbest: 0.0014915 (15)\ttotal: 250ms\tremaining: 1.98s\n",
      "56:\tlearn: 0.0013481\ttest: 0.0014974\tbest: 0.0014915 (15)\ttotal: 254ms\tremaining: 1.97s\n",
      "57:\tlearn: 0.0013476\ttest: 0.0014973\tbest: 0.0014915 (15)\ttotal: 258ms\tremaining: 1.97s\n",
      "58:\tlearn: 0.0013474\ttest: 0.0014973\tbest: 0.0014915 (15)\ttotal: 263ms\tremaining: 1.97s\n",
      "59:\tlearn: 0.0013470\ttest: 0.0014971\tbest: 0.0014915 (15)\ttotal: 267ms\tremaining: 1.96s\n",
      "60:\tlearn: 0.0013466\ttest: 0.0014971\tbest: 0.0014915 (15)\ttotal: 271ms\tremaining: 1.95s\n",
      "61:\tlearn: 0.0013464\ttest: 0.0014972\tbest: 0.0014915 (15)\ttotal: 276ms\tremaining: 1.95s\n",
      "62:\tlearn: 0.0013461\ttest: 0.0014974\tbest: 0.0014915 (15)\ttotal: 280ms\tremaining: 1.94s\n",
      "63:\tlearn: 0.0013459\ttest: 0.0014975\tbest: 0.0014915 (15)\ttotal: 285ms\tremaining: 1.94s\n",
      "64:\tlearn: 0.0013455\ttest: 0.0014977\tbest: 0.0014915 (15)\ttotal: 289ms\tremaining: 1.94s\n",
      "65:\tlearn: 0.0013451\ttest: 0.0014977\tbest: 0.0014915 (15)\ttotal: 294ms\tremaining: 1.93s\n",
      "66:\tlearn: 0.0013448\ttest: 0.0014978\tbest: 0.0014915 (15)\ttotal: 298ms\tremaining: 1.92s\n",
      "67:\tlearn: 0.0013447\ttest: 0.0014979\tbest: 0.0014915 (15)\ttotal: 302ms\tremaining: 1.92s\n",
      "68:\tlearn: 0.0013443\ttest: 0.0014980\tbest: 0.0014915 (15)\ttotal: 306ms\tremaining: 1.91s\n",
      "69:\tlearn: 0.0013441\ttest: 0.0014981\tbest: 0.0014915 (15)\ttotal: 311ms\tremaining: 1.91s\n",
      "70:\tlearn: 0.0013438\ttest: 0.0014981\tbest: 0.0014915 (15)\ttotal: 314ms\tremaining: 1.9s\n",
      "71:\tlearn: 0.0013432\ttest: 0.0014980\tbest: 0.0014915 (15)\ttotal: 318ms\tremaining: 1.89s\n",
      "72:\tlearn: 0.0013425\ttest: 0.0014982\tbest: 0.0014915 (15)\ttotal: 322ms\tremaining: 1.88s\n",
      "73:\tlearn: 0.0013421\ttest: 0.0014978\tbest: 0.0014915 (15)\ttotal: 328ms\tremaining: 1.89s\n",
      "74:\tlearn: 0.0013417\ttest: 0.0014977\tbest: 0.0014915 (15)\ttotal: 332ms\tremaining: 1.88s\n",
      "75:\tlearn: 0.0013411\ttest: 0.0014982\tbest: 0.0014915 (15)\ttotal: 336ms\tremaining: 1.88s\n",
      "76:\tlearn: 0.0013408\ttest: 0.0014983\tbest: 0.0014915 (15)\ttotal: 341ms\tremaining: 1.87s\n",
      "77:\tlearn: 0.0013405\ttest: 0.0014985\tbest: 0.0014915 (15)\ttotal: 346ms\tremaining: 1.87s\n",
      "78:\tlearn: 0.0013402\ttest: 0.0014983\tbest: 0.0014915 (15)\ttotal: 350ms\tremaining: 1.86s\n",
      "79:\tlearn: 0.0013398\ttest: 0.0014988\tbest: 0.0014915 (15)\ttotal: 354ms\tremaining: 1.86s\n",
      "80:\tlearn: 0.0013393\ttest: 0.0014986\tbest: 0.0014915 (15)\ttotal: 358ms\tremaining: 1.85s\n",
      "81:\tlearn: 0.0013389\ttest: 0.0014987\tbest: 0.0014915 (15)\ttotal: 363ms\tremaining: 1.85s\n",
      "82:\tlearn: 0.0013384\ttest: 0.0014987\tbest: 0.0014915 (15)\ttotal: 367ms\tremaining: 1.84s\n",
      "83:\tlearn: 0.0013380\ttest: 0.0014986\tbest: 0.0014915 (15)\ttotal: 372ms\tremaining: 1.84s\n",
      "84:\tlearn: 0.0013374\ttest: 0.0014988\tbest: 0.0014915 (15)\ttotal: 377ms\tremaining: 1.84s\n",
      "85:\tlearn: 0.0013368\ttest: 0.0014993\tbest: 0.0014915 (15)\ttotal: 381ms\tremaining: 1.83s\n",
      "86:\tlearn: 0.0013364\ttest: 0.0014997\tbest: 0.0014915 (15)\ttotal: 385ms\tremaining: 1.82s\n",
      "87:\tlearn: 0.0013360\ttest: 0.0014998\tbest: 0.0014915 (15)\ttotal: 390ms\tremaining: 1.82s\n",
      "88:\tlearn: 0.0013354\ttest: 0.0014997\tbest: 0.0014915 (15)\ttotal: 394ms\tremaining: 1.82s\n",
      "89:\tlearn: 0.0013347\ttest: 0.0014997\tbest: 0.0014915 (15)\ttotal: 398ms\tremaining: 1.81s\n",
      "90:\tlearn: 0.0013346\ttest: 0.0014997\tbest: 0.0014915 (15)\ttotal: 402ms\tremaining: 1.81s\n",
      "91:\tlearn: 0.0013342\ttest: 0.0014994\tbest: 0.0014915 (15)\ttotal: 407ms\tremaining: 1.81s\n",
      "92:\tlearn: 0.0013337\ttest: 0.0014996\tbest: 0.0014915 (15)\ttotal: 412ms\tremaining: 1.8s\n",
      "93:\tlearn: 0.0013333\ttest: 0.0014996\tbest: 0.0014915 (15)\ttotal: 416ms\tremaining: 1.79s\n",
      "94:\tlearn: 0.0013328\ttest: 0.0014994\tbest: 0.0014915 (15)\ttotal: 420ms\tremaining: 1.79s\n",
      "95:\tlearn: 0.0013326\ttest: 0.0014993\tbest: 0.0014915 (15)\ttotal: 425ms\tremaining: 1.79s\n",
      "96:\tlearn: 0.0013322\ttest: 0.0014995\tbest: 0.0014915 (15)\ttotal: 429ms\tremaining: 1.78s\n",
      "97:\tlearn: 0.0013319\ttest: 0.0014996\tbest: 0.0014915 (15)\ttotal: 433ms\tremaining: 1.78s\n",
      "98:\tlearn: 0.0013315\ttest: 0.0014997\tbest: 0.0014915 (15)\ttotal: 437ms\tremaining: 1.77s\n",
      "99:\tlearn: 0.0013311\ttest: 0.0014998\tbest: 0.0014915 (15)\ttotal: 442ms\tremaining: 1.77s\n",
      "100:\tlearn: 0.0013309\ttest: 0.0014998\tbest: 0.0014915 (15)\ttotal: 447ms\tremaining: 1.76s\n",
      "101:\tlearn: 0.0013301\ttest: 0.0015004\tbest: 0.0014915 (15)\ttotal: 452ms\tremaining: 1.76s\n",
      "102:\tlearn: 0.0013297\ttest: 0.0015007\tbest: 0.0014915 (15)\ttotal: 457ms\tremaining: 1.76s\n",
      "103:\tlearn: 0.0013290\ttest: 0.0015013\tbest: 0.0014915 (15)\ttotal: 462ms\tremaining: 1.76s\n",
      "104:\tlearn: 0.0013288\ttest: 0.0015016\tbest: 0.0014915 (15)\ttotal: 466ms\tremaining: 1.75s\n",
      "105:\tlearn: 0.0013286\ttest: 0.0015019\tbest: 0.0014915 (15)\ttotal: 471ms\tremaining: 1.75s\n",
      "106:\tlearn: 0.0013280\ttest: 0.0015019\tbest: 0.0014915 (15)\ttotal: 475ms\tremaining: 1.74s\n",
      "107:\tlearn: 0.0013275\ttest: 0.0015022\tbest: 0.0014915 (15)\ttotal: 479ms\tremaining: 1.74s\n",
      "108:\tlearn: 0.0013271\ttest: 0.0015023\tbest: 0.0014915 (15)\ttotal: 482ms\tremaining: 1.73s\n",
      "109:\tlearn: 0.0013268\ttest: 0.0015022\tbest: 0.0014915 (15)\ttotal: 487ms\tremaining: 1.73s\n",
      "110:\tlearn: 0.0013263\ttest: 0.0015020\tbest: 0.0014915 (15)\ttotal: 491ms\tremaining: 1.72s\n",
      "111:\tlearn: 0.0013259\ttest: 0.0015022\tbest: 0.0014915 (15)\ttotal: 495ms\tremaining: 1.71s\n",
      "112:\tlearn: 0.0013258\ttest: 0.0015023\tbest: 0.0014915 (15)\ttotal: 499ms\tremaining: 1.71s\n",
      "113:\tlearn: 0.0013255\ttest: 0.0015022\tbest: 0.0014915 (15)\ttotal: 504ms\tremaining: 1.71s\n",
      "114:\tlearn: 0.0013250\ttest: 0.0015023\tbest: 0.0014915 (15)\ttotal: 508ms\tremaining: 1.7s\n",
      "115:\tlearn: 0.0013247\ttest: 0.0015022\tbest: 0.0014915 (15)\ttotal: 512ms\tremaining: 1.69s\n",
      "116:\tlearn: 0.0013243\ttest: 0.0015024\tbest: 0.0014915 (15)\ttotal: 516ms\tremaining: 1.69s\n",
      "117:\tlearn: 0.0013240\ttest: 0.0015023\tbest: 0.0014915 (15)\ttotal: 520ms\tremaining: 1.68s\n",
      "118:\tlearn: 0.0013237\ttest: 0.0015020\tbest: 0.0014915 (15)\ttotal: 524ms\tremaining: 1.68s\n",
      "119:\tlearn: 0.0013234\ttest: 0.0015021\tbest: 0.0014915 (15)\ttotal: 528ms\tremaining: 1.67s\n",
      "120:\tlearn: 0.0013231\ttest: 0.0015022\tbest: 0.0014915 (15)\ttotal: 532ms\tremaining: 1.67s\n",
      "121:\tlearn: 0.0013227\ttest: 0.0015021\tbest: 0.0014915 (15)\ttotal: 537ms\tremaining: 1.66s\n",
      "122:\tlearn: 0.0013223\ttest: 0.0015021\tbest: 0.0014915 (15)\ttotal: 541ms\tremaining: 1.66s\n",
      "123:\tlearn: 0.0013220\ttest: 0.0015022\tbest: 0.0014915 (15)\ttotal: 545ms\tremaining: 1.65s\n",
      "124:\tlearn: 0.0013215\ttest: 0.0015024\tbest: 0.0014915 (15)\ttotal: 550ms\tremaining: 1.65s\n",
      "125:\tlearn: 0.0013211\ttest: 0.0015022\tbest: 0.0014915 (15)\ttotal: 556ms\tremaining: 1.65s\n",
      "126:\tlearn: 0.0013210\ttest: 0.0015023\tbest: 0.0014915 (15)\ttotal: 561ms\tremaining: 1.65s\n",
      "127:\tlearn: 0.0013205\ttest: 0.0015021\tbest: 0.0014915 (15)\ttotal: 567ms\tremaining: 1.65s\n",
      "128:\tlearn: 0.0013201\ttest: 0.0015020\tbest: 0.0014915 (15)\ttotal: 571ms\tremaining: 1.64s\n",
      "129:\tlearn: 0.0013195\ttest: 0.0015018\tbest: 0.0014915 (15)\ttotal: 576ms\tremaining: 1.64s\n",
      "130:\tlearn: 0.0013191\ttest: 0.0015019\tbest: 0.0014915 (15)\ttotal: 582ms\tremaining: 1.64s\n",
      "131:\tlearn: 0.0013189\ttest: 0.0015019\tbest: 0.0014915 (15)\ttotal: 587ms\tremaining: 1.64s\n",
      "132:\tlearn: 0.0013185\ttest: 0.0015020\tbest: 0.0014915 (15)\ttotal: 591ms\tremaining: 1.63s\n",
      "133:\tlearn: 0.0013180\ttest: 0.0015025\tbest: 0.0014915 (15)\ttotal: 596ms\tremaining: 1.63s\n",
      "134:\tlearn: 0.0013178\ttest: 0.0015024\tbest: 0.0014915 (15)\ttotal: 601ms\tremaining: 1.63s\n",
      "135:\tlearn: 0.0013175\ttest: 0.0015028\tbest: 0.0014915 (15)\ttotal: 607ms\tremaining: 1.62s\n",
      "136:\tlearn: 0.0013171\ttest: 0.0015029\tbest: 0.0014915 (15)\ttotal: 614ms\tremaining: 1.63s\n",
      "137:\tlearn: 0.0013170\ttest: 0.0015030\tbest: 0.0014915 (15)\ttotal: 619ms\tremaining: 1.62s\n",
      "138:\tlearn: 0.0013168\ttest: 0.0015032\tbest: 0.0014915 (15)\ttotal: 624ms\tremaining: 1.62s\n",
      "139:\tlearn: 0.0013164\ttest: 0.0015034\tbest: 0.0014915 (15)\ttotal: 629ms\tremaining: 1.62s\n",
      "140:\tlearn: 0.0013162\ttest: 0.0015036\tbest: 0.0014915 (15)\ttotal: 635ms\tremaining: 1.61s\n",
      "141:\tlearn: 0.0013160\ttest: 0.0015037\tbest: 0.0014915 (15)\ttotal: 639ms\tremaining: 1.61s\n",
      "142:\tlearn: 0.0013157\ttest: 0.0015038\tbest: 0.0014915 (15)\ttotal: 644ms\tremaining: 1.61s\n",
      "143:\tlearn: 0.0013155\ttest: 0.0015040\tbest: 0.0014915 (15)\ttotal: 649ms\tremaining: 1.6s\n",
      "144:\tlearn: 0.0013153\ttest: 0.0015039\tbest: 0.0014915 (15)\ttotal: 653ms\tremaining: 1.6s\n",
      "145:\tlearn: 0.0013149\ttest: 0.0015042\tbest: 0.0014915 (15)\ttotal: 658ms\tremaining: 1.59s\n",
      "146:\tlearn: 0.0013146\ttest: 0.0015044\tbest: 0.0014915 (15)\ttotal: 663ms\tremaining: 1.59s\n",
      "147:\tlearn: 0.0013139\ttest: 0.0015046\tbest: 0.0014915 (15)\ttotal: 667ms\tremaining: 1.58s\n",
      "148:\tlearn: 0.0013135\ttest: 0.0015047\tbest: 0.0014915 (15)\ttotal: 671ms\tremaining: 1.58s\n",
      "149:\tlearn: 0.0013132\ttest: 0.0015047\tbest: 0.0014915 (15)\ttotal: 677ms\tremaining: 1.58s\n",
      "150:\tlearn: 0.0013129\ttest: 0.0015045\tbest: 0.0014915 (15)\ttotal: 681ms\tremaining: 1.57s\n",
      "151:\tlearn: 0.0013127\ttest: 0.0015045\tbest: 0.0014915 (15)\ttotal: 685ms\tremaining: 1.57s\n",
      "152:\tlearn: 0.0013123\ttest: 0.0015044\tbest: 0.0014915 (15)\ttotal: 689ms\tremaining: 1.56s\n",
      "153:\tlearn: 0.0013122\ttest: 0.0015043\tbest: 0.0014915 (15)\ttotal: 693ms\tremaining: 1.56s\n",
      "154:\tlearn: 0.0013118\ttest: 0.0015046\tbest: 0.0014915 (15)\ttotal: 697ms\tremaining: 1.55s\n",
      "155:\tlearn: 0.0013116\ttest: 0.0015045\tbest: 0.0014915 (15)\ttotal: 701ms\tremaining: 1.55s\n",
      "156:\tlearn: 0.0013111\ttest: 0.0015046\tbest: 0.0014915 (15)\ttotal: 706ms\tremaining: 1.54s\n",
      "157:\tlearn: 0.0013108\ttest: 0.0015049\tbest: 0.0014915 (15)\ttotal: 710ms\tremaining: 1.54s\n",
      "158:\tlearn: 0.0013107\ttest: 0.0015050\tbest: 0.0014915 (15)\ttotal: 714ms\tremaining: 1.53s\n",
      "159:\tlearn: 0.0013103\ttest: 0.0015054\tbest: 0.0014915 (15)\ttotal: 718ms\tremaining: 1.52s\n",
      "160:\tlearn: 0.0013098\ttest: 0.0015055\tbest: 0.0014915 (15)\ttotal: 723ms\tremaining: 1.52s\n",
      "161:\tlearn: 0.0013095\ttest: 0.0015053\tbest: 0.0014915 (15)\ttotal: 728ms\tremaining: 1.52s\n",
      "162:\tlearn: 0.0013091\ttest: 0.0015053\tbest: 0.0014915 (15)\ttotal: 732ms\tremaining: 1.51s\n",
      "163:\tlearn: 0.0013088\ttest: 0.0015053\tbest: 0.0014915 (15)\ttotal: 736ms\tremaining: 1.51s\n",
      "164:\tlearn: 0.0013085\ttest: 0.0015052\tbest: 0.0014915 (15)\ttotal: 741ms\tremaining: 1.5s\n",
      "165:\tlearn: 0.0013083\ttest: 0.0015052\tbest: 0.0014915 (15)\ttotal: 747ms\tremaining: 1.5s\n",
      "166:\tlearn: 0.0013080\ttest: 0.0015053\tbest: 0.0014915 (15)\ttotal: 752ms\tremaining: 1.5s\n",
      "167:\tlearn: 0.0013078\ttest: 0.0015054\tbest: 0.0014915 (15)\ttotal: 757ms\tremaining: 1.5s\n",
      "168:\tlearn: 0.0013078\ttest: 0.0015054\tbest: 0.0014915 (15)\ttotal: 761ms\tremaining: 1.49s\n",
      "169:\tlearn: 0.0013075\ttest: 0.0015055\tbest: 0.0014915 (15)\ttotal: 765ms\tremaining: 1.49s\n",
      "170:\tlearn: 0.0013072\ttest: 0.0015055\tbest: 0.0014915 (15)\ttotal: 769ms\tremaining: 1.48s\n",
      "171:\tlearn: 0.0013070\ttest: 0.0015056\tbest: 0.0014915 (15)\ttotal: 774ms\tremaining: 1.48s\n",
      "172:\tlearn: 0.0013065\ttest: 0.0015053\tbest: 0.0014915 (15)\ttotal: 778ms\tremaining: 1.47s\n",
      "173:\tlearn: 0.0013061\ttest: 0.0015054\tbest: 0.0014915 (15)\ttotal: 783ms\tremaining: 1.47s\n",
      "174:\tlearn: 0.0013058\ttest: 0.0015053\tbest: 0.0014915 (15)\ttotal: 789ms\tremaining: 1.47s\n",
      "175:\tlearn: 0.0013055\ttest: 0.0015053\tbest: 0.0014915 (15)\ttotal: 793ms\tremaining: 1.46s\n",
      "176:\tlearn: 0.0013051\ttest: 0.0015052\tbest: 0.0014915 (15)\ttotal: 797ms\tremaining: 1.45s\n",
      "177:\tlearn: 0.0013048\ttest: 0.0015054\tbest: 0.0014915 (15)\ttotal: 801ms\tremaining: 1.45s\n",
      "178:\tlearn: 0.0013046\ttest: 0.0015055\tbest: 0.0014915 (15)\ttotal: 807ms\tremaining: 1.45s\n",
      "179:\tlearn: 0.0013043\ttest: 0.0015057\tbest: 0.0014915 (15)\ttotal: 811ms\tremaining: 1.44s\n",
      "180:\tlearn: 0.0013040\ttest: 0.0015058\tbest: 0.0014915 (15)\ttotal: 815ms\tremaining: 1.44s\n",
      "181:\tlearn: 0.0013038\ttest: 0.0015058\tbest: 0.0014915 (15)\ttotal: 820ms\tremaining: 1.43s\n",
      "182:\tlearn: 0.0013033\ttest: 0.0015061\tbest: 0.0014915 (15)\ttotal: 824ms\tremaining: 1.43s\n",
      "183:\tlearn: 0.0013030\ttest: 0.0015062\tbest: 0.0014915 (15)\ttotal: 828ms\tremaining: 1.42s\n",
      "184:\tlearn: 0.0013026\ttest: 0.0015063\tbest: 0.0014915 (15)\ttotal: 832ms\tremaining: 1.42s\n",
      "185:\tlearn: 0.0013023\ttest: 0.0015064\tbest: 0.0014915 (15)\ttotal: 837ms\tremaining: 1.41s\n",
      "186:\tlearn: 0.0013021\ttest: 0.0015064\tbest: 0.0014915 (15)\ttotal: 841ms\tremaining: 1.41s\n",
      "187:\tlearn: 0.0013018\ttest: 0.0015070\tbest: 0.0014915 (15)\ttotal: 845ms\tremaining: 1.4s\n",
      "188:\tlearn: 0.0013016\ttest: 0.0015071\tbest: 0.0014915 (15)\ttotal: 850ms\tremaining: 1.4s\n",
      "189:\tlearn: 0.0013012\ttest: 0.0015074\tbest: 0.0014915 (15)\ttotal: 855ms\tremaining: 1.39s\n",
      "190:\tlearn: 0.0013010\ttest: 0.0015076\tbest: 0.0014915 (15)\ttotal: 858ms\tremaining: 1.39s\n",
      "191:\tlearn: 0.0013008\ttest: 0.0015079\tbest: 0.0014915 (15)\ttotal: 862ms\tremaining: 1.38s\n",
      "192:\tlearn: 0.0013003\ttest: 0.0015078\tbest: 0.0014915 (15)\ttotal: 867ms\tremaining: 1.38s\n",
      "193:\tlearn: 0.0012999\ttest: 0.0015078\tbest: 0.0014915 (15)\ttotal: 871ms\tremaining: 1.37s\n",
      "194:\tlearn: 0.0012994\ttest: 0.0015078\tbest: 0.0014915 (15)\ttotal: 876ms\tremaining: 1.37s\n",
      "195:\tlearn: 0.0012992\ttest: 0.0015079\tbest: 0.0014915 (15)\ttotal: 880ms\tremaining: 1.36s\n",
      "196:\tlearn: 0.0012992\ttest: 0.0015080\tbest: 0.0014915 (15)\ttotal: 885ms\tremaining: 1.36s\n",
      "197:\tlearn: 0.0012988\ttest: 0.0015081\tbest: 0.0014915 (15)\ttotal: 889ms\tremaining: 1.36s\n",
      "198:\tlearn: 0.0012984\ttest: 0.0015081\tbest: 0.0014915 (15)\ttotal: 893ms\tremaining: 1.35s\n",
      "199:\tlearn: 0.0012981\ttest: 0.0015081\tbest: 0.0014915 (15)\ttotal: 898ms\tremaining: 1.35s\n",
      "200:\tlearn: 0.0012976\ttest: 0.0015079\tbest: 0.0014915 (15)\ttotal: 902ms\tremaining: 1.34s\n",
      "201:\tlearn: 0.0012973\ttest: 0.0015080\tbest: 0.0014915 (15)\ttotal: 906ms\tremaining: 1.34s\n",
      "202:\tlearn: 0.0012969\ttest: 0.0015081\tbest: 0.0014915 (15)\ttotal: 910ms\tremaining: 1.33s\n",
      "203:\tlearn: 0.0012966\ttest: 0.0015084\tbest: 0.0014915 (15)\ttotal: 915ms\tremaining: 1.33s\n",
      "204:\tlearn: 0.0012964\ttest: 0.0015086\tbest: 0.0014915 (15)\ttotal: 920ms\tremaining: 1.32s\n",
      "205:\tlearn: 0.0012961\ttest: 0.0015087\tbest: 0.0014915 (15)\ttotal: 924ms\tremaining: 1.32s\n",
      "206:\tlearn: 0.0012958\ttest: 0.0015087\tbest: 0.0014915 (15)\ttotal: 929ms\tremaining: 1.31s\n",
      "207:\tlearn: 0.0012954\ttest: 0.0015086\tbest: 0.0014915 (15)\ttotal: 934ms\tremaining: 1.31s\n",
      "208:\tlearn: 0.0012949\ttest: 0.0015087\tbest: 0.0014915 (15)\ttotal: 939ms\tremaining: 1.31s\n",
      "209:\tlearn: 0.0012944\ttest: 0.0015087\tbest: 0.0014915 (15)\ttotal: 944ms\tremaining: 1.3s\n",
      "210:\tlearn: 0.0012941\ttest: 0.0015090\tbest: 0.0014915 (15)\ttotal: 950ms\tremaining: 1.3s\n",
      "211:\tlearn: 0.0012939\ttest: 0.0015090\tbest: 0.0014915 (15)\ttotal: 956ms\tremaining: 1.3s\n",
      "212:\tlearn: 0.0012935\ttest: 0.0015097\tbest: 0.0014915 (15)\ttotal: 960ms\tremaining: 1.29s\n",
      "213:\tlearn: 0.0012930\ttest: 0.0015098\tbest: 0.0014915 (15)\ttotal: 966ms\tremaining: 1.29s\n",
      "214:\tlearn: 0.0012928\ttest: 0.0015100\tbest: 0.0014915 (15)\ttotal: 1.01s\tremaining: 1.34s\n",
      "215:\tlearn: 0.0012923\ttest: 0.0015103\tbest: 0.0014915 (15)\ttotal: 1.02s\tremaining: 1.34s\n",
      "216:\tlearn: 0.0012919\ttest: 0.0015103\tbest: 0.0014915 (15)\ttotal: 1.03s\tremaining: 1.34s\n",
      "217:\tlearn: 0.0012915\ttest: 0.0015103\tbest: 0.0014915 (15)\ttotal: 1.03s\tremaining: 1.34s\n",
      "218:\tlearn: 0.0012914\ttest: 0.0015105\tbest: 0.0014915 (15)\ttotal: 1.04s\tremaining: 1.33s\n",
      "219:\tlearn: 0.0012911\ttest: 0.0015105\tbest: 0.0014915 (15)\ttotal: 1.05s\tremaining: 1.33s\n",
      "220:\tlearn: 0.0012907\ttest: 0.0015106\tbest: 0.0014915 (15)\ttotal: 1.05s\tremaining: 1.33s\n",
      "221:\tlearn: 0.0012903\ttest: 0.0015106\tbest: 0.0014915 (15)\ttotal: 1.06s\tremaining: 1.32s\n",
      "222:\tlearn: 0.0012900\ttest: 0.0015108\tbest: 0.0014915 (15)\ttotal: 1.06s\tremaining: 1.32s\n",
      "223:\tlearn: 0.0012898\ttest: 0.0015110\tbest: 0.0014915 (15)\ttotal: 1.07s\tremaining: 1.32s\n",
      "224:\tlearn: 0.0012896\ttest: 0.0015111\tbest: 0.0014915 (15)\ttotal: 1.07s\tremaining: 1.31s\n",
      "225:\tlearn: 0.0012893\ttest: 0.0015114\tbest: 0.0014915 (15)\ttotal: 1.08s\tremaining: 1.31s\n",
      "226:\tlearn: 0.0012893\ttest: 0.0015115\tbest: 0.0014915 (15)\ttotal: 1.08s\tremaining: 1.3s\n",
      "227:\tlearn: 0.0012890\ttest: 0.0015114\tbest: 0.0014915 (15)\ttotal: 1.09s\tremaining: 1.3s\n",
      "228:\tlearn: 0.0012886\ttest: 0.0015114\tbest: 0.0014915 (15)\ttotal: 1.09s\tremaining: 1.3s\n",
      "229:\tlearn: 0.0012884\ttest: 0.0015114\tbest: 0.0014915 (15)\ttotal: 1.1s\tremaining: 1.29s\n",
      "230:\tlearn: 0.0012881\ttest: 0.0015115\tbest: 0.0014915 (15)\ttotal: 1.11s\tremaining: 1.29s\n",
      "231:\tlearn: 0.0012879\ttest: 0.0015116\tbest: 0.0014915 (15)\ttotal: 1.11s\tremaining: 1.29s\n",
      "232:\tlearn: 0.0012876\ttest: 0.0015120\tbest: 0.0014915 (15)\ttotal: 1.12s\tremaining: 1.28s\n",
      "233:\tlearn: 0.0012873\ttest: 0.0015120\tbest: 0.0014915 (15)\ttotal: 1.12s\tremaining: 1.28s\n",
      "234:\tlearn: 0.0012870\ttest: 0.0015123\tbest: 0.0014915 (15)\ttotal: 1.13s\tremaining: 1.27s\n",
      "235:\tlearn: 0.0012864\ttest: 0.0015124\tbest: 0.0014915 (15)\ttotal: 1.13s\tremaining: 1.27s\n",
      "236:\tlearn: 0.0012862\ttest: 0.0015123\tbest: 0.0014915 (15)\ttotal: 1.14s\tremaining: 1.26s\n",
      "237:\tlearn: 0.0012860\ttest: 0.0015128\tbest: 0.0014915 (15)\ttotal: 1.14s\tremaining: 1.26s\n",
      "238:\tlearn: 0.0012858\ttest: 0.0015127\tbest: 0.0014915 (15)\ttotal: 1.15s\tremaining: 1.25s\n",
      "239:\tlearn: 0.0012857\ttest: 0.0015126\tbest: 0.0014915 (15)\ttotal: 1.15s\tremaining: 1.25s\n",
      "240:\tlearn: 0.0012853\ttest: 0.0015126\tbest: 0.0014915 (15)\ttotal: 1.16s\tremaining: 1.25s\n",
      "241:\tlearn: 0.0012850\ttest: 0.0015126\tbest: 0.0014915 (15)\ttotal: 1.17s\tremaining: 1.24s\n",
      "242:\tlearn: 0.0012846\ttest: 0.0015123\tbest: 0.0014915 (15)\ttotal: 1.17s\tremaining: 1.24s\n",
      "243:\tlearn: 0.0012843\ttest: 0.0015124\tbest: 0.0014915 (15)\ttotal: 1.18s\tremaining: 1.23s\n",
      "244:\tlearn: 0.0012838\ttest: 0.0015125\tbest: 0.0014915 (15)\ttotal: 1.18s\tremaining: 1.23s\n",
      "245:\tlearn: 0.0012834\ttest: 0.0015128\tbest: 0.0014915 (15)\ttotal: 1.19s\tremaining: 1.22s\n",
      "246:\tlearn: 0.0012830\ttest: 0.0015130\tbest: 0.0014915 (15)\ttotal: 1.19s\tremaining: 1.22s\n",
      "247:\tlearn: 0.0012825\ttest: 0.0015130\tbest: 0.0014915 (15)\ttotal: 1.2s\tremaining: 1.21s\n",
      "248:\tlearn: 0.0012821\ttest: 0.0015127\tbest: 0.0014915 (15)\ttotal: 1.2s\tremaining: 1.21s\n",
      "249:\tlearn: 0.0012819\ttest: 0.0015126\tbest: 0.0014915 (15)\ttotal: 1.21s\tremaining: 1.21s\n",
      "250:\tlearn: 0.0012816\ttest: 0.0015127\tbest: 0.0014915 (15)\ttotal: 1.21s\tremaining: 1.2s\n",
      "251:\tlearn: 0.0012814\ttest: 0.0015128\tbest: 0.0014915 (15)\ttotal: 1.22s\tremaining: 1.2s\n",
      "252:\tlearn: 0.0012809\ttest: 0.0015128\tbest: 0.0014915 (15)\ttotal: 1.22s\tremaining: 1.19s\n",
      "253:\tlearn: 0.0012808\ttest: 0.0015129\tbest: 0.0014915 (15)\ttotal: 1.23s\tremaining: 1.19s\n",
      "254:\tlearn: 0.0012803\ttest: 0.0015127\tbest: 0.0014915 (15)\ttotal: 1.23s\tremaining: 1.18s\n",
      "255:\tlearn: 0.0012802\ttest: 0.0015128\tbest: 0.0014915 (15)\ttotal: 1.24s\tremaining: 1.18s\n",
      "256:\tlearn: 0.0012799\ttest: 0.0015128\tbest: 0.0014915 (15)\ttotal: 1.25s\tremaining: 1.18s\n",
      "257:\tlearn: 0.0012796\ttest: 0.0015127\tbest: 0.0014915 (15)\ttotal: 1.25s\tremaining: 1.17s\n",
      "258:\tlearn: 0.0012793\ttest: 0.0015131\tbest: 0.0014915 (15)\ttotal: 1.26s\tremaining: 1.17s\n",
      "259:\tlearn: 0.0012790\ttest: 0.0015129\tbest: 0.0014915 (15)\ttotal: 1.26s\tremaining: 1.16s\n",
      "260:\tlearn: 0.0012788\ttest: 0.0015131\tbest: 0.0014915 (15)\ttotal: 1.26s\tremaining: 1.16s\n",
      "261:\tlearn: 0.0012785\ttest: 0.0015131\tbest: 0.0014915 (15)\ttotal: 1.27s\tremaining: 1.15s\n",
      "262:\tlearn: 0.0012783\ttest: 0.0015132\tbest: 0.0014915 (15)\ttotal: 1.27s\tremaining: 1.15s\n",
      "263:\tlearn: 0.0012779\ttest: 0.0015132\tbest: 0.0014915 (15)\ttotal: 1.28s\tremaining: 1.14s\n",
      "264:\tlearn: 0.0012776\ttest: 0.0015130\tbest: 0.0014915 (15)\ttotal: 1.28s\tremaining: 1.14s\n",
      "265:\tlearn: 0.0012773\ttest: 0.0015131\tbest: 0.0014915 (15)\ttotal: 1.29s\tremaining: 1.13s\n",
      "266:\tlearn: 0.0012771\ttest: 0.0015132\tbest: 0.0014915 (15)\ttotal: 1.29s\tremaining: 1.13s\n",
      "267:\tlearn: 0.0012768\ttest: 0.0015131\tbest: 0.0014915 (15)\ttotal: 1.29s\tremaining: 1.12s\n",
      "268:\tlearn: 0.0012765\ttest: 0.0015131\tbest: 0.0014915 (15)\ttotal: 1.3s\tremaining: 1.12s\n",
      "269:\tlearn: 0.0012762\ttest: 0.0015130\tbest: 0.0014915 (15)\ttotal: 1.3s\tremaining: 1.11s\n",
      "270:\tlearn: 0.0012758\ttest: 0.0015130\tbest: 0.0014915 (15)\ttotal: 1.31s\tremaining: 1.11s\n",
      "271:\tlearn: 0.0012753\ttest: 0.0015131\tbest: 0.0014915 (15)\ttotal: 1.31s\tremaining: 1.1s\n",
      "272:\tlearn: 0.0012751\ttest: 0.0015134\tbest: 0.0014915 (15)\ttotal: 1.32s\tremaining: 1.09s\n",
      "273:\tlearn: 0.0012748\ttest: 0.0015136\tbest: 0.0014915 (15)\ttotal: 1.32s\tremaining: 1.09s\n",
      "274:\tlearn: 0.0012745\ttest: 0.0015137\tbest: 0.0014915 (15)\ttotal: 1.32s\tremaining: 1.08s\n",
      "275:\tlearn: 0.0012742\ttest: 0.0015141\tbest: 0.0014915 (15)\ttotal: 1.33s\tremaining: 1.08s\n",
      "276:\tlearn: 0.0012739\ttest: 0.0015143\tbest: 0.0014915 (15)\ttotal: 1.33s\tremaining: 1.07s\n",
      "277:\tlearn: 0.0012735\ttest: 0.0015144\tbest: 0.0014915 (15)\ttotal: 1.34s\tremaining: 1.07s\n",
      "278:\tlearn: 0.0012729\ttest: 0.0015148\tbest: 0.0014915 (15)\ttotal: 1.34s\tremaining: 1.06s\n",
      "279:\tlearn: 0.0012727\ttest: 0.0015148\tbest: 0.0014915 (15)\ttotal: 1.35s\tremaining: 1.06s\n",
      "280:\tlearn: 0.0012722\ttest: 0.0015151\tbest: 0.0014915 (15)\ttotal: 1.35s\tremaining: 1.05s\n",
      "281:\tlearn: 0.0012718\ttest: 0.0015156\tbest: 0.0014915 (15)\ttotal: 1.36s\tremaining: 1.05s\n",
      "282:\tlearn: 0.0012715\ttest: 0.0015156\tbest: 0.0014915 (15)\ttotal: 1.36s\tremaining: 1.04s\n",
      "283:\tlearn: 0.0012710\ttest: 0.0015157\tbest: 0.0014915 (15)\ttotal: 1.37s\tremaining: 1.04s\n",
      "284:\tlearn: 0.0012705\ttest: 0.0015163\tbest: 0.0014915 (15)\ttotal: 1.37s\tremaining: 1.03s\n",
      "285:\tlearn: 0.0012700\ttest: 0.0015169\tbest: 0.0014915 (15)\ttotal: 1.38s\tremaining: 1.03s\n",
      "286:\tlearn: 0.0012698\ttest: 0.0015171\tbest: 0.0014915 (15)\ttotal: 1.38s\tremaining: 1.02s\n",
      "287:\tlearn: 0.0012695\ttest: 0.0015171\tbest: 0.0014915 (15)\ttotal: 1.39s\tremaining: 1.02s\n",
      "288:\tlearn: 0.0012693\ttest: 0.0015173\tbest: 0.0014915 (15)\ttotal: 1.39s\tremaining: 1.01s\n",
      "289:\tlearn: 0.0012690\ttest: 0.0015174\tbest: 0.0014915 (15)\ttotal: 1.39s\tremaining: 1.01s\n",
      "290:\tlearn: 0.0012689\ttest: 0.0015174\tbest: 0.0014915 (15)\ttotal: 1.4s\tremaining: 1s\n",
      "291:\tlearn: 0.0012686\ttest: 0.0015176\tbest: 0.0014915 (15)\ttotal: 1.4s\tremaining: 999ms\n",
      "292:\tlearn: 0.0012683\ttest: 0.0015175\tbest: 0.0014915 (15)\ttotal: 1.41s\tremaining: 994ms\n",
      "293:\tlearn: 0.0012680\ttest: 0.0015176\tbest: 0.0014915 (15)\ttotal: 1.41s\tremaining: 988ms\n",
      "294:\tlearn: 0.0012678\ttest: 0.0015179\tbest: 0.0014915 (15)\ttotal: 1.42s\tremaining: 984ms\n",
      "295:\tlearn: 0.0012677\ttest: 0.0015178\tbest: 0.0014915 (15)\ttotal: 1.42s\tremaining: 980ms\n",
      "296:\tlearn: 0.0012675\ttest: 0.0015177\tbest: 0.0014915 (15)\ttotal: 1.43s\tremaining: 975ms\n",
      "297:\tlearn: 0.0012670\ttest: 0.0015176\tbest: 0.0014915 (15)\ttotal: 1.43s\tremaining: 971ms\n",
      "298:\tlearn: 0.0012666\ttest: 0.0015177\tbest: 0.0014915 (15)\ttotal: 1.44s\tremaining: 965ms\n",
      "299:\tlearn: 0.0012664\ttest: 0.0015180\tbest: 0.0014915 (15)\ttotal: 1.44s\tremaining: 960ms\n",
      "300:\tlearn: 0.0012661\ttest: 0.0015177\tbest: 0.0014915 (15)\ttotal: 1.45s\tremaining: 956ms\n",
      "301:\tlearn: 0.0012658\ttest: 0.0015179\tbest: 0.0014915 (15)\ttotal: 1.45s\tremaining: 951ms\n",
      "302:\tlearn: 0.0012656\ttest: 0.0015178\tbest: 0.0014915 (15)\ttotal: 1.45s\tremaining: 946ms\n",
      "303:\tlearn: 0.0012652\ttest: 0.0015179\tbest: 0.0014915 (15)\ttotal: 1.46s\tremaining: 941ms\n",
      "304:\tlearn: 0.0012650\ttest: 0.0015178\tbest: 0.0014915 (15)\ttotal: 1.47s\tremaining: 937ms\n",
      "305:\tlearn: 0.0012646\ttest: 0.0015179\tbest: 0.0014915 (15)\ttotal: 1.47s\tremaining: 932ms\n",
      "306:\tlearn: 0.0012642\ttest: 0.0015180\tbest: 0.0014915 (15)\ttotal: 1.47s\tremaining: 927ms\n",
      "307:\tlearn: 0.0012639\ttest: 0.0015181\tbest: 0.0014915 (15)\ttotal: 1.48s\tremaining: 922ms\n",
      "308:\tlearn: 0.0012638\ttest: 0.0015182\tbest: 0.0014915 (15)\ttotal: 1.48s\tremaining: 918ms\n",
      "309:\tlearn: 0.0012636\ttest: 0.0015183\tbest: 0.0014915 (15)\ttotal: 1.49s\tremaining: 912ms\n",
      "310:\tlearn: 0.0012631\ttest: 0.0015181\tbest: 0.0014915 (15)\ttotal: 1.49s\tremaining: 908ms\n",
      "311:\tlearn: 0.0012629\ttest: 0.0015182\tbest: 0.0014915 (15)\ttotal: 1.5s\tremaining: 904ms\n",
      "312:\tlearn: 0.0012625\ttest: 0.0015183\tbest: 0.0014915 (15)\ttotal: 1.5s\tremaining: 898ms\n",
      "313:\tlearn: 0.0012623\ttest: 0.0015184\tbest: 0.0014915 (15)\ttotal: 1.51s\tremaining: 894ms\n",
      "314:\tlearn: 0.0012621\ttest: 0.0015185\tbest: 0.0014915 (15)\ttotal: 1.51s\tremaining: 889ms\n",
      "315:\tlearn: 0.0012619\ttest: 0.0015185\tbest: 0.0014915 (15)\ttotal: 1.52s\tremaining: 884ms\n",
      "316:\tlearn: 0.0012615\ttest: 0.0015187\tbest: 0.0014915 (15)\ttotal: 1.52s\tremaining: 879ms\n",
      "317:\tlearn: 0.0012612\ttest: 0.0015187\tbest: 0.0014915 (15)\ttotal: 1.53s\tremaining: 875ms\n",
      "318:\tlearn: 0.0012610\ttest: 0.0015187\tbest: 0.0014915 (15)\ttotal: 1.53s\tremaining: 870ms\n",
      "319:\tlearn: 0.0012605\ttest: 0.0015185\tbest: 0.0014915 (15)\ttotal: 1.54s\tremaining: 865ms\n",
      "320:\tlearn: 0.0012603\ttest: 0.0015186\tbest: 0.0014915 (15)\ttotal: 1.54s\tremaining: 861ms\n",
      "321:\tlearn: 0.0012601\ttest: 0.0015188\tbest: 0.0014915 (15)\ttotal: 1.55s\tremaining: 856ms\n",
      "322:\tlearn: 0.0012597\ttest: 0.0015189\tbest: 0.0014915 (15)\ttotal: 1.55s\tremaining: 851ms\n",
      "323:\tlearn: 0.0012595\ttest: 0.0015191\tbest: 0.0014915 (15)\ttotal: 1.56s\tremaining: 846ms\n",
      "324:\tlearn: 0.0012593\ttest: 0.0015191\tbest: 0.0014915 (15)\ttotal: 1.56s\tremaining: 842ms\n",
      "325:\tlearn: 0.0012590\ttest: 0.0015192\tbest: 0.0014915 (15)\ttotal: 1.57s\tremaining: 837ms\n",
      "326:\tlearn: 0.0012588\ttest: 0.0015193\tbest: 0.0014915 (15)\ttotal: 1.57s\tremaining: 833ms\n",
      "327:\tlearn: 0.0012583\ttest: 0.0015193\tbest: 0.0014915 (15)\ttotal: 1.58s\tremaining: 828ms\n",
      "328:\tlearn: 0.0012579\ttest: 0.0015194\tbest: 0.0014915 (15)\ttotal: 1.58s\tremaining: 823ms\n",
      "329:\tlearn: 0.0012577\ttest: 0.0015195\tbest: 0.0014915 (15)\ttotal: 1.59s\tremaining: 819ms\n",
      "330:\tlearn: 0.0012573\ttest: 0.0015196\tbest: 0.0014915 (15)\ttotal: 1.59s\tremaining: 814ms\n",
      "331:\tlearn: 0.0012569\ttest: 0.0015201\tbest: 0.0014915 (15)\ttotal: 1.6s\tremaining: 809ms\n",
      "332:\tlearn: 0.0012567\ttest: 0.0015203\tbest: 0.0014915 (15)\ttotal: 1.6s\tremaining: 804ms\n",
      "333:\tlearn: 0.0012564\ttest: 0.0015203\tbest: 0.0014915 (15)\ttotal: 1.61s\tremaining: 800ms\n",
      "334:\tlearn: 0.0012561\ttest: 0.0015203\tbest: 0.0014915 (15)\ttotal: 1.61s\tremaining: 796ms\n",
      "335:\tlearn: 0.0012559\ttest: 0.0015204\tbest: 0.0014915 (15)\ttotal: 1.62s\tremaining: 791ms\n",
      "336:\tlearn: 0.0012555\ttest: 0.0015204\tbest: 0.0014915 (15)\ttotal: 1.63s\tremaining: 787ms\n",
      "337:\tlearn: 0.0012551\ttest: 0.0015205\tbest: 0.0014915 (15)\ttotal: 1.63s\tremaining: 782ms\n",
      "338:\tlearn: 0.0012547\ttest: 0.0015202\tbest: 0.0014915 (15)\ttotal: 1.64s\tremaining: 778ms\n",
      "339:\tlearn: 0.0012545\ttest: 0.0015202\tbest: 0.0014915 (15)\ttotal: 1.64s\tremaining: 773ms\n",
      "340:\tlearn: 0.0012543\ttest: 0.0015201\tbest: 0.0014915 (15)\ttotal: 1.65s\tremaining: 769ms\n",
      "341:\tlearn: 0.0012540\ttest: 0.0015203\tbest: 0.0014915 (15)\ttotal: 1.65s\tremaining: 764ms\n",
      "342:\tlearn: 0.0012538\ttest: 0.0015203\tbest: 0.0014915 (15)\ttotal: 1.66s\tremaining: 760ms\n",
      "343:\tlearn: 0.0012535\ttest: 0.0015203\tbest: 0.0014915 (15)\ttotal: 1.66s\tremaining: 755ms\n",
      "344:\tlearn: 0.0012531\ttest: 0.0015203\tbest: 0.0014915 (15)\ttotal: 1.67s\tremaining: 750ms\n",
      "345:\tlearn: 0.0012528\ttest: 0.0015204\tbest: 0.0014915 (15)\ttotal: 1.67s\tremaining: 745ms\n",
      "346:\tlearn: 0.0012525\ttest: 0.0015205\tbest: 0.0014915 (15)\ttotal: 1.68s\tremaining: 740ms\n",
      "347:\tlearn: 0.0012522\ttest: 0.0015206\tbest: 0.0014915 (15)\ttotal: 1.68s\tremaining: 735ms\n",
      "348:\tlearn: 0.0012519\ttest: 0.0015207\tbest: 0.0014915 (15)\ttotal: 1.69s\tremaining: 730ms\n",
      "349:\tlearn: 0.0012517\ttest: 0.0015205\tbest: 0.0014915 (15)\ttotal: 1.69s\tremaining: 726ms\n",
      "350:\tlearn: 0.0012514\ttest: 0.0015204\tbest: 0.0014915 (15)\ttotal: 1.7s\tremaining: 721ms\n",
      "351:\tlearn: 0.0012511\ttest: 0.0015202\tbest: 0.0014915 (15)\ttotal: 1.7s\tremaining: 716ms\n",
      "352:\tlearn: 0.0012508\ttest: 0.0015202\tbest: 0.0014915 (15)\ttotal: 1.71s\tremaining: 711ms\n",
      "353:\tlearn: 0.0012506\ttest: 0.0015202\tbest: 0.0014915 (15)\ttotal: 1.71s\tremaining: 706ms\n",
      "354:\tlearn: 0.0012501\ttest: 0.0015204\tbest: 0.0014915 (15)\ttotal: 1.72s\tremaining: 702ms\n",
      "355:\tlearn: 0.0012500\ttest: 0.0015203\tbest: 0.0014915 (15)\ttotal: 1.72s\tremaining: 697ms\n",
      "356:\tlearn: 0.0012497\ttest: 0.0015204\tbest: 0.0014915 (15)\ttotal: 1.73s\tremaining: 692ms\n",
      "357:\tlearn: 0.0012495\ttest: 0.0015205\tbest: 0.0014915 (15)\ttotal: 1.73s\tremaining: 688ms\n",
      "358:\tlearn: 0.0012493\ttest: 0.0015207\tbest: 0.0014915 (15)\ttotal: 1.74s\tremaining: 683ms\n",
      "359:\tlearn: 0.0012489\ttest: 0.0015208\tbest: 0.0014915 (15)\ttotal: 1.74s\tremaining: 678ms\n",
      "360:\tlearn: 0.0012488\ttest: 0.0015211\tbest: 0.0014915 (15)\ttotal: 1.75s\tremaining: 673ms\n",
      "361:\tlearn: 0.0012484\ttest: 0.0015212\tbest: 0.0014915 (15)\ttotal: 1.75s\tremaining: 669ms\n",
      "362:\tlearn: 0.0012480\ttest: 0.0015214\tbest: 0.0014915 (15)\ttotal: 1.76s\tremaining: 664ms\n",
      "363:\tlearn: 0.0012478\ttest: 0.0015216\tbest: 0.0014915 (15)\ttotal: 1.76s\tremaining: 659ms\n",
      "364:\tlearn: 0.0012475\ttest: 0.0015215\tbest: 0.0014915 (15)\ttotal: 1.77s\tremaining: 654ms\n",
      "365:\tlearn: 0.0012472\ttest: 0.0015214\tbest: 0.0014915 (15)\ttotal: 1.77s\tremaining: 649ms\n",
      "366:\tlearn: 0.0012469\ttest: 0.0015218\tbest: 0.0014915 (15)\ttotal: 1.78s\tremaining: 644ms\n",
      "367:\tlearn: 0.0012466\ttest: 0.0015218\tbest: 0.0014915 (15)\ttotal: 1.78s\tremaining: 639ms\n",
      "368:\tlearn: 0.0012461\ttest: 0.0015221\tbest: 0.0014915 (15)\ttotal: 1.79s\tremaining: 634ms\n",
      "369:\tlearn: 0.0012459\ttest: 0.0015220\tbest: 0.0014915 (15)\ttotal: 1.79s\tremaining: 629ms\n",
      "370:\tlearn: 0.0012455\ttest: 0.0015221\tbest: 0.0014915 (15)\ttotal: 1.79s\tremaining: 624ms\n",
      "371:\tlearn: 0.0012452\ttest: 0.0015222\tbest: 0.0014915 (15)\ttotal: 1.8s\tremaining: 619ms\n",
      "372:\tlearn: 0.0012449\ttest: 0.0015220\tbest: 0.0014915 (15)\ttotal: 1.8s\tremaining: 615ms\n",
      "373:\tlearn: 0.0012447\ttest: 0.0015221\tbest: 0.0014915 (15)\ttotal: 1.81s\tremaining: 610ms\n",
      "374:\tlearn: 0.0012444\ttest: 0.0015220\tbest: 0.0014915 (15)\ttotal: 1.81s\tremaining: 605ms\n",
      "375:\tlearn: 0.0012441\ttest: 0.0015222\tbest: 0.0014915 (15)\ttotal: 1.82s\tremaining: 600ms\n",
      "376:\tlearn: 0.0012439\ttest: 0.0015223\tbest: 0.0014915 (15)\ttotal: 1.82s\tremaining: 595ms\n",
      "377:\tlearn: 0.0012436\ttest: 0.0015222\tbest: 0.0014915 (15)\ttotal: 1.83s\tremaining: 591ms\n",
      "378:\tlearn: 0.0012435\ttest: 0.0015222\tbest: 0.0014915 (15)\ttotal: 1.83s\tremaining: 586ms\n",
      "379:\tlearn: 0.0012430\ttest: 0.0015229\tbest: 0.0014915 (15)\ttotal: 1.84s\tremaining: 581ms\n",
      "380:\tlearn: 0.0012426\ttest: 0.0015227\tbest: 0.0014915 (15)\ttotal: 1.84s\tremaining: 576ms\n",
      "381:\tlearn: 0.0012423\ttest: 0.0015228\tbest: 0.0014915 (15)\ttotal: 1.85s\tremaining: 572ms\n",
      "382:\tlearn: 0.0012420\ttest: 0.0015230\tbest: 0.0014915 (15)\ttotal: 1.86s\tremaining: 567ms\n",
      "383:\tlearn: 0.0012417\ttest: 0.0015232\tbest: 0.0014915 (15)\ttotal: 1.86s\tremaining: 563ms\n",
      "384:\tlearn: 0.0012415\ttest: 0.0015232\tbest: 0.0014915 (15)\ttotal: 1.87s\tremaining: 558ms\n",
      "385:\tlearn: 0.0012412\ttest: 0.0015233\tbest: 0.0014915 (15)\ttotal: 1.87s\tremaining: 553ms\n",
      "386:\tlearn: 0.0012410\ttest: 0.0015232\tbest: 0.0014915 (15)\ttotal: 1.88s\tremaining: 549ms\n",
      "387:\tlearn: 0.0012407\ttest: 0.0015233\tbest: 0.0014915 (15)\ttotal: 1.88s\tremaining: 544ms\n",
      "388:\tlearn: 0.0012406\ttest: 0.0015235\tbest: 0.0014915 (15)\ttotal: 1.89s\tremaining: 539ms\n",
      "389:\tlearn: 0.0012403\ttest: 0.0015235\tbest: 0.0014915 (15)\ttotal: 1.89s\tremaining: 534ms\n",
      "390:\tlearn: 0.0012401\ttest: 0.0015236\tbest: 0.0014915 (15)\ttotal: 1.9s\tremaining: 529ms\n",
      "391:\tlearn: 0.0012396\ttest: 0.0015242\tbest: 0.0014915 (15)\ttotal: 1.9s\tremaining: 524ms\n",
      "392:\tlearn: 0.0012393\ttest: 0.0015243\tbest: 0.0014915 (15)\ttotal: 1.91s\tremaining: 520ms\n",
      "393:\tlearn: 0.0012389\ttest: 0.0015244\tbest: 0.0014915 (15)\ttotal: 1.91s\tremaining: 515ms\n",
      "394:\tlearn: 0.0012387\ttest: 0.0015243\tbest: 0.0014915 (15)\ttotal: 1.92s\tremaining: 510ms\n",
      "395:\tlearn: 0.0012384\ttest: 0.0015244\tbest: 0.0014915 (15)\ttotal: 1.92s\tremaining: 505ms\n",
      "396:\tlearn: 0.0012381\ttest: 0.0015244\tbest: 0.0014915 (15)\ttotal: 1.93s\tremaining: 500ms\n",
      "397:\tlearn: 0.0012377\ttest: 0.0015244\tbest: 0.0014915 (15)\ttotal: 1.93s\tremaining: 495ms\n",
      "398:\tlearn: 0.0012375\ttest: 0.0015245\tbest: 0.0014915 (15)\ttotal: 1.94s\tremaining: 490ms\n",
      "399:\tlearn: 0.0012371\ttest: 0.0015247\tbest: 0.0014915 (15)\ttotal: 1.94s\tremaining: 486ms\n",
      "400:\tlearn: 0.0012369\ttest: 0.0015247\tbest: 0.0014915 (15)\ttotal: 1.95s\tremaining: 482ms\n",
      "401:\tlearn: 0.0012367\ttest: 0.0015247\tbest: 0.0014915 (15)\ttotal: 1.96s\tremaining: 477ms\n",
      "402:\tlearn: 0.0012365\ttest: 0.0015249\tbest: 0.0014915 (15)\ttotal: 1.96s\tremaining: 473ms\n",
      "403:\tlearn: 0.0012363\ttest: 0.0015249\tbest: 0.0014915 (15)\ttotal: 1.97s\tremaining: 468ms\n",
      "404:\tlearn: 0.0012360\ttest: 0.0015249\tbest: 0.0014915 (15)\ttotal: 1.97s\tremaining: 463ms\n",
      "405:\tlearn: 0.0012358\ttest: 0.0015250\tbest: 0.0014915 (15)\ttotal: 1.98s\tremaining: 458ms\n",
      "406:\tlearn: 0.0012356\ttest: 0.0015250\tbest: 0.0014915 (15)\ttotal: 1.98s\tremaining: 453ms\n",
      "407:\tlearn: 0.0012354\ttest: 0.0015251\tbest: 0.0014915 (15)\ttotal: 1.99s\tremaining: 448ms\n",
      "408:\tlearn: 0.0012350\ttest: 0.0015253\tbest: 0.0014915 (15)\ttotal: 1.99s\tremaining: 444ms\n",
      "409:\tlearn: 0.0012346\ttest: 0.0015254\tbest: 0.0014915 (15)\ttotal: 2s\tremaining: 438ms\n",
      "410:\tlearn: 0.0012344\ttest: 0.0015253\tbest: 0.0014915 (15)\ttotal: 2s\tremaining: 433ms\n",
      "411:\tlearn: 0.0012341\ttest: 0.0015254\tbest: 0.0014915 (15)\ttotal: 2.01s\tremaining: 429ms\n",
      "412:\tlearn: 0.0012338\ttest: 0.0015254\tbest: 0.0014915 (15)\ttotal: 2.01s\tremaining: 424ms\n",
      "413:\tlearn: 0.0012337\ttest: 0.0015257\tbest: 0.0014915 (15)\ttotal: 2.02s\tremaining: 419ms\n",
      "414:\tlearn: 0.0012336\ttest: 0.0015259\tbest: 0.0014915 (15)\ttotal: 2.02s\tremaining: 414ms\n",
      "415:\tlearn: 0.0012333\ttest: 0.0015261\tbest: 0.0014915 (15)\ttotal: 2.03s\tremaining: 409ms\n",
      "416:\tlearn: 0.0012331\ttest: 0.0015260\tbest: 0.0014915 (15)\ttotal: 2.03s\tremaining: 404ms\n",
      "417:\tlearn: 0.0012327\ttest: 0.0015259\tbest: 0.0014915 (15)\ttotal: 2.04s\tremaining: 399ms\n",
      "418:\tlearn: 0.0012325\ttest: 0.0015260\tbest: 0.0014915 (15)\ttotal: 2.04s\tremaining: 395ms\n",
      "419:\tlearn: 0.0012323\ttest: 0.0015261\tbest: 0.0014915 (15)\ttotal: 2.05s\tremaining: 390ms\n",
      "420:\tlearn: 0.0012319\ttest: 0.0015264\tbest: 0.0014915 (15)\ttotal: 2.05s\tremaining: 385ms\n",
      "421:\tlearn: 0.0012315\ttest: 0.0015266\tbest: 0.0014915 (15)\ttotal: 2.06s\tremaining: 380ms\n",
      "422:\tlearn: 0.0012313\ttest: 0.0015269\tbest: 0.0014915 (15)\ttotal: 2.06s\tremaining: 375ms\n",
      "423:\tlearn: 0.0012311\ttest: 0.0015269\tbest: 0.0014915 (15)\ttotal: 2.07s\tremaining: 370ms\n",
      "424:\tlearn: 0.0012309\ttest: 0.0015270\tbest: 0.0014915 (15)\ttotal: 2.07s\tremaining: 366ms\n",
      "425:\tlearn: 0.0012308\ttest: 0.0015271\tbest: 0.0014915 (15)\ttotal: 2.08s\tremaining: 361ms\n",
      "426:\tlearn: 0.0012306\ttest: 0.0015273\tbest: 0.0014915 (15)\ttotal: 2.08s\tremaining: 356ms\n",
      "427:\tlearn: 0.0012304\ttest: 0.0015273\tbest: 0.0014915 (15)\ttotal: 2.08s\tremaining: 351ms\n",
      "428:\tlearn: 0.0012300\ttest: 0.0015276\tbest: 0.0014915 (15)\ttotal: 2.09s\tremaining: 346ms\n",
      "429:\tlearn: 0.0012298\ttest: 0.0015275\tbest: 0.0014915 (15)\ttotal: 2.09s\tremaining: 341ms\n",
      "430:\tlearn: 0.0012295\ttest: 0.0015280\tbest: 0.0014915 (15)\ttotal: 2.1s\tremaining: 336ms\n",
      "431:\tlearn: 0.0012293\ttest: 0.0015281\tbest: 0.0014915 (15)\ttotal: 2.1s\tremaining: 331ms\n",
      "432:\tlearn: 0.0012288\ttest: 0.0015283\tbest: 0.0014915 (15)\ttotal: 2.11s\tremaining: 326ms\n",
      "433:\tlearn: 0.0012286\ttest: 0.0015284\tbest: 0.0014915 (15)\ttotal: 2.11s\tremaining: 321ms\n",
      "434:\tlearn: 0.0012284\ttest: 0.0015286\tbest: 0.0014915 (15)\ttotal: 2.12s\tremaining: 316ms\n",
      "435:\tlearn: 0.0012281\ttest: 0.0015287\tbest: 0.0014915 (15)\ttotal: 2.12s\tremaining: 312ms\n",
      "436:\tlearn: 0.0012278\ttest: 0.0015286\tbest: 0.0014915 (15)\ttotal: 2.13s\tremaining: 307ms\n",
      "437:\tlearn: 0.0012276\ttest: 0.0015288\tbest: 0.0014915 (15)\ttotal: 2.13s\tremaining: 302ms\n",
      "438:\tlearn: 0.0012273\ttest: 0.0015287\tbest: 0.0014915 (15)\ttotal: 2.14s\tremaining: 297ms\n",
      "439:\tlearn: 0.0012269\ttest: 0.0015286\tbest: 0.0014915 (15)\ttotal: 2.14s\tremaining: 292ms\n",
      "440:\tlearn: 0.0012266\ttest: 0.0015292\tbest: 0.0014915 (15)\ttotal: 2.15s\tremaining: 287ms\n",
      "441:\tlearn: 0.0012263\ttest: 0.0015297\tbest: 0.0014915 (15)\ttotal: 2.15s\tremaining: 282ms\n",
      "442:\tlearn: 0.0012259\ttest: 0.0015297\tbest: 0.0014915 (15)\ttotal: 2.16s\tremaining: 278ms\n",
      "443:\tlearn: 0.0012256\ttest: 0.0015296\tbest: 0.0014915 (15)\ttotal: 2.16s\tremaining: 273ms\n",
      "444:\tlearn: 0.0012255\ttest: 0.0015298\tbest: 0.0014915 (15)\ttotal: 2.17s\tremaining: 268ms\n",
      "445:\tlearn: 0.0012253\ttest: 0.0015298\tbest: 0.0014915 (15)\ttotal: 2.17s\tremaining: 263ms\n",
      "446:\tlearn: 0.0012249\ttest: 0.0015299\tbest: 0.0014915 (15)\ttotal: 2.17s\tremaining: 258ms\n",
      "447:\tlearn: 0.0012246\ttest: 0.0015300\tbest: 0.0014915 (15)\ttotal: 2.18s\tremaining: 253ms\n",
      "448:\tlearn: 0.0012244\ttest: 0.0015301\tbest: 0.0014915 (15)\ttotal: 2.19s\tremaining: 248ms\n",
      "449:\tlearn: 0.0012240\ttest: 0.0015304\tbest: 0.0014915 (15)\ttotal: 2.19s\tremaining: 243ms\n",
      "450:\tlearn: 0.0012238\ttest: 0.0015305\tbest: 0.0014915 (15)\ttotal: 2.19s\tremaining: 238ms\n",
      "451:\tlearn: 0.0012235\ttest: 0.0015307\tbest: 0.0014915 (15)\ttotal: 2.2s\tremaining: 234ms\n",
      "452:\tlearn: 0.0012232\ttest: 0.0015307\tbest: 0.0014915 (15)\ttotal: 2.2s\tremaining: 229ms\n",
      "453:\tlearn: 0.0012229\ttest: 0.0015306\tbest: 0.0014915 (15)\ttotal: 2.21s\tremaining: 224ms\n",
      "454:\tlearn: 0.0012228\ttest: 0.0015306\tbest: 0.0014915 (15)\ttotal: 2.21s\tremaining: 219ms\n",
      "455:\tlearn: 0.0012225\ttest: 0.0015306\tbest: 0.0014915 (15)\ttotal: 2.22s\tremaining: 214ms\n",
      "456:\tlearn: 0.0012221\ttest: 0.0015309\tbest: 0.0014915 (15)\ttotal: 2.22s\tremaining: 209ms\n",
      "457:\tlearn: 0.0012218\ttest: 0.0015312\tbest: 0.0014915 (15)\ttotal: 2.23s\tremaining: 204ms\n",
      "458:\tlearn: 0.0012215\ttest: 0.0015312\tbest: 0.0014915 (15)\ttotal: 2.23s\tremaining: 200ms\n",
      "459:\tlearn: 0.0012212\ttest: 0.0015313\tbest: 0.0014915 (15)\ttotal: 2.24s\tremaining: 195ms\n",
      "460:\tlearn: 0.0012209\ttest: 0.0015313\tbest: 0.0014915 (15)\ttotal: 2.24s\tremaining: 190ms\n",
      "461:\tlearn: 0.0012207\ttest: 0.0015314\tbest: 0.0014915 (15)\ttotal: 2.25s\tremaining: 185ms\n",
      "462:\tlearn: 0.0012204\ttest: 0.0015314\tbest: 0.0014915 (15)\ttotal: 2.25s\tremaining: 180ms\n",
      "463:\tlearn: 0.0012201\ttest: 0.0015316\tbest: 0.0014915 (15)\ttotal: 2.26s\tremaining: 175ms\n",
      "464:\tlearn: 0.0012198\ttest: 0.0015315\tbest: 0.0014915 (15)\ttotal: 2.26s\tremaining: 170ms\n",
      "465:\tlearn: 0.0012196\ttest: 0.0015317\tbest: 0.0014915 (15)\ttotal: 2.27s\tremaining: 166ms\n",
      "466:\tlearn: 0.0012192\ttest: 0.0015318\tbest: 0.0014915 (15)\ttotal: 2.27s\tremaining: 161ms\n",
      "467:\tlearn: 0.0012191\ttest: 0.0015319\tbest: 0.0014915 (15)\ttotal: 2.28s\tremaining: 156ms\n",
      "468:\tlearn: 0.0012188\ttest: 0.0015320\tbest: 0.0014915 (15)\ttotal: 2.28s\tremaining: 151ms\n",
      "469:\tlearn: 0.0012186\ttest: 0.0015318\tbest: 0.0014915 (15)\ttotal: 2.29s\tremaining: 146ms\n",
      "470:\tlearn: 0.0012184\ttest: 0.0015319\tbest: 0.0014915 (15)\ttotal: 2.29s\tremaining: 141ms\n",
      "471:\tlearn: 0.0012181\ttest: 0.0015319\tbest: 0.0014915 (15)\ttotal: 2.3s\tremaining: 136ms\n",
      "472:\tlearn: 0.0012179\ttest: 0.0015319\tbest: 0.0014915 (15)\ttotal: 2.3s\tremaining: 131ms\n",
      "473:\tlearn: 0.0012176\ttest: 0.0015318\tbest: 0.0014915 (15)\ttotal: 2.31s\tremaining: 126ms\n",
      "474:\tlearn: 0.0012173\ttest: 0.0015316\tbest: 0.0014915 (15)\ttotal: 2.31s\tremaining: 122ms\n",
      "475:\tlearn: 0.0012170\ttest: 0.0015315\tbest: 0.0014915 (15)\ttotal: 2.31s\tremaining: 117ms\n",
      "476:\tlearn: 0.0012169\ttest: 0.0015315\tbest: 0.0014915 (15)\ttotal: 2.32s\tremaining: 112ms\n",
      "477:\tlearn: 0.0012164\ttest: 0.0015318\tbest: 0.0014915 (15)\ttotal: 2.32s\tremaining: 107ms\n",
      "478:\tlearn: 0.0012163\ttest: 0.0015321\tbest: 0.0014915 (15)\ttotal: 2.33s\tremaining: 102ms\n",
      "479:\tlearn: 0.0012160\ttest: 0.0015323\tbest: 0.0014915 (15)\ttotal: 2.33s\tremaining: 97.2ms\n",
      "480:\tlearn: 0.0012157\ttest: 0.0015322\tbest: 0.0014915 (15)\ttotal: 2.34s\tremaining: 92.3ms\n",
      "481:\tlearn: 0.0012153\ttest: 0.0015325\tbest: 0.0014915 (15)\ttotal: 2.34s\tremaining: 87.5ms\n",
      "482:\tlearn: 0.0012151\ttest: 0.0015324\tbest: 0.0014915 (15)\ttotal: 2.35s\tremaining: 82.6ms\n",
      "483:\tlearn: 0.0012148\ttest: 0.0015324\tbest: 0.0014915 (15)\ttotal: 2.35s\tremaining: 77.7ms\n",
      "484:\tlearn: 0.0012148\ttest: 0.0015325\tbest: 0.0014915 (15)\ttotal: 2.36s\tremaining: 72.9ms\n",
      "485:\tlearn: 0.0012145\ttest: 0.0015325\tbest: 0.0014915 (15)\ttotal: 2.36s\tremaining: 68ms\n",
      "486:\tlearn: 0.0012144\ttest: 0.0015325\tbest: 0.0014915 (15)\ttotal: 2.36s\tremaining: 63.1ms\n",
      "487:\tlearn: 0.0012142\ttest: 0.0015326\tbest: 0.0014915 (15)\ttotal: 2.37s\tremaining: 58.2ms\n",
      "488:\tlearn: 0.0012139\ttest: 0.0015326\tbest: 0.0014915 (15)\ttotal: 2.37s\tremaining: 53.4ms\n",
      "489:\tlearn: 0.0012136\ttest: 0.0015327\tbest: 0.0014915 (15)\ttotal: 2.38s\tremaining: 48.5ms\n",
      "490:\tlearn: 0.0012134\ttest: 0.0015327\tbest: 0.0014915 (15)\ttotal: 2.38s\tremaining: 43.7ms\n",
      "491:\tlearn: 0.0012131\ttest: 0.0015325\tbest: 0.0014915 (15)\ttotal: 2.39s\tremaining: 38.8ms\n",
      "492:\tlearn: 0.0012130\ttest: 0.0015326\tbest: 0.0014915 (15)\ttotal: 2.39s\tremaining: 33.9ms\n",
      "493:\tlearn: 0.0012128\ttest: 0.0015326\tbest: 0.0014915 (15)\ttotal: 2.39s\tremaining: 29.1ms\n",
      "494:\tlearn: 0.0012125\ttest: 0.0015327\tbest: 0.0014915 (15)\ttotal: 2.4s\tremaining: 24.2ms\n",
      "495:\tlearn: 0.0012122\ttest: 0.0015326\tbest: 0.0014915 (15)\ttotal: 2.4s\tremaining: 19.4ms\n",
      "496:\tlearn: 0.0012119\ttest: 0.0015328\tbest: 0.0014915 (15)\ttotal: 2.41s\tremaining: 14.5ms\n",
      "497:\tlearn: 0.0012115\ttest: 0.0015329\tbest: 0.0014915 (15)\ttotal: 2.41s\tremaining: 9.69ms\n",
      "498:\tlearn: 0.0012112\ttest: 0.0015327\tbest: 0.0014915 (15)\ttotal: 2.42s\tremaining: 4.84ms\n",
      "499:\tlearn: 0.0012110\ttest: 0.0015328\tbest: 0.0014915 (15)\ttotal: 2.42s\tremaining: 0us\n",
      "\n",
      "bestTest = 0.001491517667\n",
      "bestIteration = 15\n",
      "\n",
      "Shrink model to first 16 iterations.\n"
     ]
    },
    {
     "data": {
      "text/plain": [
       "<catboost.core.CatBoostRegressor at 0x172016cd600>"
      ]
     },
     "execution_count": 61,
     "metadata": {},
     "output_type": "execute_result"
    }
   ],
   "source": [
    "from catboost import CatBoostRegressor, Pool\n",
    "\n",
    "model = CatBoostRegressor(depth=5, iterations=500, use_best_model=True, loss_function='RMSE', eval_metric='MAE')\n",
    "\n",
    "model.fit(X_train, y_train, eval_set=Pool(X_test, y_test))"
   ]
  },
  {
   "cell_type": "code",
   "execution_count": 62,
   "metadata": {},
   "outputs": [],
   "source": [
    "pred = model.predict(X_test)"
   ]
  },
  {
   "cell_type": "code",
   "execution_count": 67,
   "metadata": {},
   "outputs": [
    {
     "data": {
      "text/plain": [
       "0.4938516461721539"
      ]
     },
     "execution_count": 67,
     "metadata": {},
     "output_type": "execute_result"
    }
   ],
   "source": [
    "(np.sign(pred - 1) == np.sign(y_test - 1)).mean() # accuracy, считая 1"
   ]
  },
  {
   "cell_type": "code",
   "execution_count": 64,
   "metadata": {},
   "outputs": [
    {
     "data": {
      "text/plain": [
       "0.0"
      ]
     },
     "execution_count": 64,
     "metadata": {},
     "output_type": "execute_result"
    }
   ],
   "source": [
    "(pred == 1).mean() # хм мы не предсказываем единички (когда цена не меняется)"
   ]
  },
  {
   "cell_type": "code",
   "execution_count": 68,
   "metadata": {},
   "outputs": [
    {
     "data": {
      "text/plain": [
       "0.5427740314689938"
      ]
     },
     "execution_count": 68,
     "metadata": {},
     "output_type": "execute_result"
    }
   ],
   "source": [
    "(np.signbit(pred - 1) == np.signbit(y_test - 1)).mean() # accuracy, не считая 1"
   ]
  },
  {
   "cell_type": "code",
   "execution_count": 66,
   "metadata": {},
   "outputs": [
    {
     "data": {
      "text/plain": [
       "0.5743752479174931"
      ]
     },
     "execution_count": 66,
     "metadata": {},
     "output_type": "execute_result"
    }
   ],
   "source": [
    "(pred > 1).mean()"
   ]
  },
  {
   "cell_type": "code",
   "execution_count": 65,
   "metadata": {},
   "outputs": [
    {
     "data": {
      "text/plain": [
       "1.0000343410357702"
      ]
     },
     "execution_count": 65,
     "metadata": {},
     "output_type": "execute_result"
    }
   ],
   "source": [
    "pred.mean()"
   ]
  },
  {
   "cell_type": "code",
   "execution_count": 67,
   "metadata": {},
   "outputs": [
    {
     "data": {
      "text/plain": [
       "0.0001565187413508249"
      ]
     },
     "execution_count": 67,
     "metadata": {},
     "output_type": "execute_result"
    }
   ],
   "source": [
    "pred.std()"
   ]
  },
  {
   "cell_type": "code",
   "execution_count": null,
   "metadata": {},
   "outputs": [
    {
     "data": {
      "text/plain": [
       "0.070271407532085"
      ]
     },
     "execution_count": 100,
     "metadata": {},
     "output_type": "execute_result"
    }
   ],
   "source": [
    "(y_test == 1).mean() # в тесте может быть меньше стабильных цен, потому что тест это современность - более активно торгуют"
   ]
  },
  {
   "cell_type": "code",
   "execution_count": null,
   "metadata": {},
   "outputs": [
    {
     "data": {
      "text/plain": [
       "0.0014962246015404153"
      ]
     },
     "execution_count": 99,
     "metadata": {},
     "output_type": "execute_result"
    }
   ],
   "source": [
    "(np.abs(pred - y_test) / np.abs(y_test)).mean() # MAPE"
   ]
  },
  {
   "cell_type": "code",
   "execution_count": null,
   "metadata": {},
   "outputs": [
    {
     "name": "stdout",
     "output_type": "stream",
     "text": [
      "0:\tlearn: 0.5513719\ttest: 0.5390718\tbest: 0.5390718 (0)\ttotal: 9.04ms\tremaining: 4.51s\n",
      "1:\tlearn: 0.5535868\ttest: 0.5435674\tbest: 0.5435674 (1)\ttotal: 17.2ms\tremaining: 4.28s\n",
      "2:\tlearn: 0.5534215\ttest: 0.5440963\tbest: 0.5440963 (2)\ttotal: 25.6ms\tremaining: 4.25s\n",
      "3:\tlearn: 0.5563636\ttest: 0.5450218\tbest: 0.5450218 (3)\ttotal: 33.8ms\tremaining: 4.19s\n",
      "4:\tlearn: 0.5581818\ttest: 0.5460796\tbest: 0.5460796 (4)\ttotal: 42.2ms\tremaining: 4.18s\n",
      "5:\tlearn: 0.5570909\ttest: 0.5463440\tbest: 0.5463440 (5)\ttotal: 50.7ms\tremaining: 4.17s\n",
      "6:\tlearn: 0.5556033\ttest: 0.5431707\tbest: 0.5463440 (5)\ttotal: 58.9ms\tremaining: 4.15s\n",
      "7:\tlearn: 0.5572562\ttest: 0.5446251\tbest: 0.5463440 (5)\ttotal: 67ms\tremaining: 4.12s\n",
      "8:\tlearn: 0.5564628\ttest: 0.5460796\tbest: 0.5463440 (5)\ttotal: 77.7ms\tremaining: 4.24s\n",
      "9:\tlearn: 0.5568264\ttest: 0.5450218\tbest: 0.5463440 (5)\ttotal: 87ms\tremaining: 4.26s\n",
      "10:\tlearn: 0.5564959\ttest: 0.5422451\tbest: 0.5463440 (5)\ttotal: 95ms\tremaining: 4.22s\n",
      "11:\tlearn: 0.5580826\ttest: 0.5435674\tbest: 0.5463440 (5)\ttotal: 104ms\tremaining: 4.22s\n",
      "12:\tlearn: 0.5581488\ttest: 0.5440963\tbest: 0.5463440 (5)\ttotal: 112ms\tremaining: 4.21s\n",
      "13:\tlearn: 0.5579835\ttest: 0.5448896\tbest: 0.5463440 (5)\ttotal: 121ms\tremaining: 4.21s\n",
      "14:\tlearn: 0.5593388\ttest: 0.5451540\tbest: 0.5463440 (5)\ttotal: 130ms\tremaining: 4.2s\n",
      "15:\tlearn: 0.5596033\ttest: 0.5463440\tbest: 0.5463440 (5)\ttotal: 139ms\tremaining: 4.19s\n",
      "16:\tlearn: 0.5596694\ttest: 0.5462118\tbest: 0.5463440 (5)\ttotal: 147ms\tremaining: 4.17s\n",
      "17:\tlearn: 0.5592727\ttest: 0.5455507\tbest: 0.5463440 (5)\ttotal: 155ms\tremaining: 4.15s\n",
      "18:\tlearn: 0.5591736\ttest: 0.5451540\tbest: 0.5463440 (5)\ttotal: 163ms\tremaining: 4.14s\n",
      "19:\tlearn: 0.5597355\ttest: 0.5468729\tbest: 0.5468729 (19)\ttotal: 172ms\tremaining: 4.13s\n",
      "20:\tlearn: 0.5596694\ttest: 0.5464763\tbest: 0.5468729 (19)\ttotal: 180ms\tremaining: 4.11s\n",
      "21:\tlearn: 0.5606612\ttest: 0.5476663\tbest: 0.5476663 (21)\ttotal: 188ms\tremaining: 4.09s\n",
      "22:\tlearn: 0.5613884\ttest: 0.5483274\tbest: 0.5483274 (22)\ttotal: 197ms\tremaining: 4.09s\n",
      "23:\tlearn: 0.5617851\ttest: 0.5488563\tbest: 0.5488563 (23)\ttotal: 205ms\tremaining: 4.07s\n",
      "24:\tlearn: 0.5626446\ttest: 0.5516329\tbest: 0.5516329 (24)\ttotal: 214ms\tremaining: 4.07s\n",
      "25:\tlearn: 0.5628099\ttest: 0.5517652\tbest: 0.5517652 (25)\ttotal: 222ms\tremaining: 4.05s\n",
      "26:\tlearn: 0.5628430\ttest: 0.5512363\tbest: 0.5517652 (25)\ttotal: 231ms\tremaining: 4.05s\n",
      "27:\tlearn: 0.5633058\ttest: 0.5515007\tbest: 0.5517652 (25)\ttotal: 241ms\tremaining: 4.07s\n",
      "28:\tlearn: 0.5636694\ttest: 0.5513685\tbest: 0.5517652 (25)\ttotal: 250ms\tremaining: 4.07s\n",
      "29:\tlearn: 0.5633388\ttest: 0.5522941\tbest: 0.5522941 (29)\ttotal: 259ms\tremaining: 4.05s\n",
      "30:\tlearn: 0.5634050\ttest: 0.5533518\tbest: 0.5533518 (30)\ttotal: 268ms\tremaining: 4.06s\n",
      "31:\tlearn: 0.5636364\ttest: 0.5540130\tbest: 0.5540130 (31)\ttotal: 276ms\tremaining: 4.03s\n",
      "32:\tlearn: 0.5639008\ttest: 0.5530874\tbest: 0.5540130 (31)\ttotal: 285ms\tremaining: 4.03s\n",
      "33:\tlearn: 0.5637355\ttest: 0.5529552\tbest: 0.5540130 (31)\ttotal: 292ms\tremaining: 4.01s\n",
      "34:\tlearn: 0.5632066\ttest: 0.5533518\tbest: 0.5540130 (31)\ttotal: 303ms\tremaining: 4.03s\n",
      "35:\tlearn: 0.5629752\ttest: 0.5540130\tbest: 0.5540130 (31)\ttotal: 316ms\tremaining: 4.07s\n",
      "36:\tlearn: 0.5628099\ttest: 0.5541452\tbest: 0.5541452 (36)\ttotal: 329ms\tremaining: 4.11s\n",
      "37:\tlearn: 0.5635702\ttest: 0.5525585\tbest: 0.5541452 (36)\ttotal: 342ms\tremaining: 4.16s\n",
      "38:\tlearn: 0.5631074\ttest: 0.5528230\tbest: 0.5541452 (36)\ttotal: 356ms\tremaining: 4.21s\n",
      "39:\tlearn: 0.5632397\ttest: 0.5533518\tbest: 0.5541452 (36)\ttotal: 370ms\tremaining: 4.25s\n",
      "40:\tlearn: 0.5632066\ttest: 0.5536163\tbest: 0.5541452 (36)\ttotal: 380ms\tremaining: 4.26s\n",
      "41:\tlearn: 0.5629091\ttest: 0.5534841\tbest: 0.5541452 (36)\ttotal: 390ms\tremaining: 4.25s\n",
      "42:\tlearn: 0.5637355\ttest: 0.5517652\tbest: 0.5541452 (36)\ttotal: 402ms\tremaining: 4.28s\n",
      "43:\tlearn: 0.5636033\ttest: 0.5521618\tbest: 0.5541452 (36)\ttotal: 411ms\tremaining: 4.26s\n",
      "44:\tlearn: 0.5632397\ttest: 0.5518974\tbest: 0.5541452 (36)\ttotal: 419ms\tremaining: 4.23s\n",
      "45:\tlearn: 0.5633719\ttest: 0.5516329\tbest: 0.5541452 (36)\ttotal: 427ms\tremaining: 4.21s\n",
      "46:\tlearn: 0.5629421\ttest: 0.5520296\tbest: 0.5541452 (36)\ttotal: 434ms\tremaining: 4.19s\n",
      "47:\tlearn: 0.5632397\ttest: 0.5516329\tbest: 0.5541452 (36)\ttotal: 442ms\tremaining: 4.16s\n",
      "48:\tlearn: 0.5633719\ttest: 0.5518974\tbest: 0.5541452 (36)\ttotal: 450ms\tremaining: 4.14s\n",
      "49:\tlearn: 0.5635041\ttest: 0.5521618\tbest: 0.5541452 (36)\ttotal: 458ms\tremaining: 4.12s\n",
      "50:\tlearn: 0.5637686\ttest: 0.5518974\tbest: 0.5541452 (36)\ttotal: 468ms\tremaining: 4.12s\n",
      "51:\tlearn: 0.5636694\ttest: 0.5517652\tbest: 0.5541452 (36)\ttotal: 475ms\tremaining: 4.09s\n",
      "52:\tlearn: 0.5639339\ttest: 0.5521618\tbest: 0.5541452 (36)\ttotal: 482ms\tremaining: 4.07s\n",
      "53:\tlearn: 0.5639669\ttest: 0.5520296\tbest: 0.5541452 (36)\ttotal: 489ms\tremaining: 4.04s\n",
      "54:\tlearn: 0.5640000\ttest: 0.5522941\tbest: 0.5541452 (36)\ttotal: 497ms\tremaining: 4.02s\n",
      "55:\tlearn: 0.5640661\ttest: 0.5525585\tbest: 0.5541452 (36)\ttotal: 504ms\tremaining: 4s\n",
      "56:\tlearn: 0.5639669\ttest: 0.5529552\tbest: 0.5541452 (36)\ttotal: 512ms\tremaining: 3.98s\n",
      "57:\tlearn: 0.5640000\ttest: 0.5529552\tbest: 0.5541452 (36)\ttotal: 519ms\tremaining: 3.96s\n",
      "58:\tlearn: 0.5636364\ttest: 0.5536163\tbest: 0.5541452 (36)\ttotal: 527ms\tremaining: 3.94s\n",
      "59:\tlearn: 0.5635041\ttest: 0.5530874\tbest: 0.5541452 (36)\ttotal: 535ms\tremaining: 3.92s\n",
      "60:\tlearn: 0.5636364\ttest: 0.5529552\tbest: 0.5541452 (36)\ttotal: 543ms\tremaining: 3.91s\n",
      "61:\tlearn: 0.5637686\ttest: 0.5537485\tbest: 0.5541452 (36)\ttotal: 550ms\tremaining: 3.89s\n",
      "62:\tlearn: 0.5641322\ttest: 0.5546741\tbest: 0.5546741 (62)\ttotal: 559ms\tremaining: 3.88s\n",
      "63:\tlearn: 0.5638678\ttest: 0.5546741\tbest: 0.5546741 (62)\ttotal: 567ms\tremaining: 3.86s\n",
      "64:\tlearn: 0.5643306\ttest: 0.5537485\tbest: 0.5546741 (62)\ttotal: 575ms\tremaining: 3.85s\n",
      "65:\tlearn: 0.5642645\ttest: 0.5537485\tbest: 0.5546741 (62)\ttotal: 582ms\tremaining: 3.83s\n",
      "66:\tlearn: 0.5640992\ttest: 0.5533518\tbest: 0.5546741 (62)\ttotal: 590ms\tremaining: 3.81s\n",
      "67:\tlearn: 0.5642645\ttest: 0.5533518\tbest: 0.5546741 (62)\ttotal: 597ms\tremaining: 3.79s\n",
      "68:\tlearn: 0.5639339\ttest: 0.5534841\tbest: 0.5546741 (62)\ttotal: 604ms\tremaining: 3.77s\n",
      "69:\tlearn: 0.5642645\ttest: 0.5536163\tbest: 0.5546741 (62)\ttotal: 612ms\tremaining: 3.76s\n",
      "70:\tlearn: 0.5645620\ttest: 0.5537485\tbest: 0.5546741 (62)\ttotal: 619ms\tremaining: 3.74s\n",
      "71:\tlearn: 0.5645950\ttest: 0.5532196\tbest: 0.5546741 (62)\ttotal: 627ms\tremaining: 3.73s\n",
      "72:\tlearn: 0.5647273\ttest: 0.5534841\tbest: 0.5546741 (62)\ttotal: 634ms\tremaining: 3.71s\n",
      "73:\tlearn: 0.5646942\ttest: 0.5536163\tbest: 0.5546741 (62)\ttotal: 642ms\tremaining: 3.7s\n",
      "74:\tlearn: 0.5651570\ttest: 0.5548063\tbest: 0.5548063 (74)\ttotal: 650ms\tremaining: 3.68s\n",
      "75:\tlearn: 0.5651240\ttest: 0.5546741\tbest: 0.5548063 (74)\ttotal: 659ms\tremaining: 3.68s\n",
      "76:\tlearn: 0.5654876\ttest: 0.5552030\tbest: 0.5552030 (76)\ttotal: 667ms\tremaining: 3.67s\n",
      "77:\tlearn: 0.5654215\ttest: 0.5538807\tbest: 0.5552030 (76)\ttotal: 676ms\tremaining: 3.66s\n",
      "78:\tlearn: 0.5653884\ttest: 0.5546741\tbest: 0.5552030 (76)\ttotal: 683ms\tremaining: 3.64s\n",
      "79:\tlearn: 0.5656198\ttest: 0.5544096\tbest: 0.5552030 (76)\ttotal: 691ms\tremaining: 3.63s\n",
      "80:\tlearn: 0.5657521\ttest: 0.5540130\tbest: 0.5552030 (76)\ttotal: 699ms\tremaining: 3.62s\n",
      "81:\tlearn: 0.5658843\ttest: 0.5544096\tbest: 0.5552030 (76)\ttotal: 707ms\tremaining: 3.6s\n",
      "82:\tlearn: 0.5661488\ttest: 0.5542774\tbest: 0.5552030 (76)\ttotal: 714ms\tremaining: 3.59s\n",
      "83:\tlearn: 0.5662149\ttest: 0.5537485\tbest: 0.5552030 (76)\ttotal: 723ms\tremaining: 3.58s\n",
      "84:\tlearn: 0.5664793\ttest: 0.5546741\tbest: 0.5552030 (76)\ttotal: 731ms\tremaining: 3.57s\n",
      "85:\tlearn: 0.5664793\ttest: 0.5545418\tbest: 0.5552030 (76)\ttotal: 740ms\tremaining: 3.56s\n",
      "86:\tlearn: 0.5666116\ttest: 0.5544096\tbest: 0.5552030 (76)\ttotal: 748ms\tremaining: 3.55s\n",
      "87:\tlearn: 0.5666446\ttest: 0.5546741\tbest: 0.5552030 (76)\ttotal: 756ms\tremaining: 3.54s\n",
      "88:\tlearn: 0.5666116\ttest: 0.5552030\tbest: 0.5552030 (76)\ttotal: 764ms\tremaining: 3.53s\n",
      "89:\tlearn: 0.5667769\ttest: 0.5544096\tbest: 0.5552030 (76)\ttotal: 789ms\tremaining: 3.59s\n",
      "90:\tlearn: 0.5669091\ttest: 0.5541452\tbest: 0.5552030 (76)\ttotal: 796ms\tremaining: 3.58s\n",
      "91:\tlearn: 0.5668430\ttest: 0.5545418\tbest: 0.5552030 (76)\ttotal: 805ms\tremaining: 3.57s\n",
      "92:\tlearn: 0.5665455\ttest: 0.5548063\tbest: 0.5552030 (76)\ttotal: 813ms\tremaining: 3.56s\n",
      "93:\tlearn: 0.5667107\ttest: 0.5548063\tbest: 0.5552030 (76)\ttotal: 823ms\tremaining: 3.55s\n",
      "94:\tlearn: 0.5674050\ttest: 0.5541452\tbest: 0.5552030 (76)\ttotal: 833ms\tremaining: 3.55s\n",
      "95:\tlearn: 0.5671074\ttest: 0.5555996\tbest: 0.5555996 (95)\ttotal: 844ms\tremaining: 3.55s\n",
      "96:\tlearn: 0.5672727\ttest: 0.5557319\tbest: 0.5557319 (96)\ttotal: 857ms\tremaining: 3.56s\n",
      "97:\tlearn: 0.5673719\ttest: 0.5557319\tbest: 0.5557319 (96)\ttotal: 866ms\tremaining: 3.55s\n",
      "98:\tlearn: 0.5672066\ttest: 0.5558641\tbest: 0.5558641 (98)\ttotal: 875ms\tremaining: 3.54s\n",
      "99:\tlearn: 0.5676694\ttest: 0.5554674\tbest: 0.5558641 (98)\ttotal: 884ms\tremaining: 3.54s\n",
      "100:\tlearn: 0.5677025\ttest: 0.5554674\tbest: 0.5558641 (98)\ttotal: 894ms\tremaining: 3.53s\n",
      "101:\tlearn: 0.5677355\ttest: 0.5553352\tbest: 0.5558641 (98)\ttotal: 903ms\tremaining: 3.52s\n",
      "102:\tlearn: 0.5678347\ttest: 0.5550707\tbest: 0.5558641 (98)\ttotal: 912ms\tremaining: 3.51s\n",
      "103:\tlearn: 0.5679339\ttest: 0.5548063\tbest: 0.5558641 (98)\ttotal: 921ms\tremaining: 3.51s\n",
      "104:\tlearn: 0.5682314\ttest: 0.5546741\tbest: 0.5558641 (98)\ttotal: 931ms\tremaining: 3.5s\n",
      "105:\tlearn: 0.5682645\ttest: 0.5548063\tbest: 0.5558641 (98)\ttotal: 940ms\tremaining: 3.49s\n",
      "106:\tlearn: 0.5681983\ttest: 0.5545418\tbest: 0.5558641 (98)\ttotal: 951ms\tremaining: 3.49s\n",
      "107:\tlearn: 0.5683967\ttest: 0.5548063\tbest: 0.5558641 (98)\ttotal: 960ms\tremaining: 3.48s\n",
      "108:\tlearn: 0.5685289\ttest: 0.5546741\tbest: 0.5558641 (98)\ttotal: 971ms\tremaining: 3.48s\n",
      "109:\tlearn: 0.5685620\ttest: 0.5546741\tbest: 0.5558641 (98)\ttotal: 979ms\tremaining: 3.47s\n",
      "110:\tlearn: 0.5686281\ttest: 0.5550707\tbest: 0.5558641 (98)\ttotal: 988ms\tremaining: 3.46s\n",
      "111:\tlearn: 0.5685289\ttest: 0.5549385\tbest: 0.5558641 (98)\ttotal: 997ms\tremaining: 3.45s\n",
      "112:\tlearn: 0.5686281\ttest: 0.5548063\tbest: 0.5558641 (98)\ttotal: 1s\tremaining: 3.44s\n",
      "113:\tlearn: 0.5685620\ttest: 0.5546741\tbest: 0.5558641 (98)\ttotal: 1.01s\tremaining: 3.43s\n",
      "114:\tlearn: 0.5683967\ttest: 0.5554674\tbest: 0.5558641 (98)\ttotal: 1.02s\tremaining: 3.42s\n",
      "115:\tlearn: 0.5683967\ttest: 0.5552030\tbest: 0.5558641 (98)\ttotal: 1.03s\tremaining: 3.41s\n",
      "116:\tlearn: 0.5685289\ttest: 0.5549385\tbest: 0.5558641 (98)\ttotal: 1.04s\tremaining: 3.4s\n",
      "117:\tlearn: 0.5686281\ttest: 0.5555996\tbest: 0.5558641 (98)\ttotal: 1.05s\tremaining: 3.39s\n",
      "118:\tlearn: 0.5683636\ttest: 0.5555996\tbest: 0.5558641 (98)\ttotal: 1.05s\tremaining: 3.38s\n",
      "119:\tlearn: 0.5684959\ttest: 0.5557319\tbest: 0.5558641 (98)\ttotal: 1.06s\tremaining: 3.37s\n",
      "120:\tlearn: 0.5683967\ttest: 0.5553352\tbest: 0.5558641 (98)\ttotal: 1.07s\tremaining: 3.36s\n",
      "121:\tlearn: 0.5686612\ttest: 0.5550707\tbest: 0.5558641 (98)\ttotal: 1.08s\tremaining: 3.35s\n",
      "122:\tlearn: 0.5688595\ttest: 0.5549385\tbest: 0.5558641 (98)\ttotal: 1.09s\tremaining: 3.34s\n",
      "123:\tlearn: 0.5692562\ttest: 0.5545418\tbest: 0.5558641 (98)\ttotal: 1.1s\tremaining: 3.33s\n",
      "124:\tlearn: 0.5693554\ttest: 0.5545418\tbest: 0.5558641 (98)\ttotal: 1.11s\tremaining: 3.32s\n",
      "125:\tlearn: 0.5695537\ttest: 0.5544096\tbest: 0.5558641 (98)\ttotal: 1.11s\tremaining: 3.31s\n",
      "126:\tlearn: 0.5695868\ttest: 0.5544096\tbest: 0.5558641 (98)\ttotal: 1.12s\tremaining: 3.29s\n",
      "127:\tlearn: 0.5695207\ttest: 0.5545418\tbest: 0.5558641 (98)\ttotal: 1.13s\tremaining: 3.29s\n",
      "128:\tlearn: 0.5695537\ttest: 0.5545418\tbest: 0.5558641 (98)\ttotal: 1.14s\tremaining: 3.27s\n",
      "129:\tlearn: 0.5693884\ttest: 0.5538807\tbest: 0.5558641 (98)\ttotal: 1.15s\tremaining: 3.26s\n",
      "130:\tlearn: 0.5696860\ttest: 0.5545418\tbest: 0.5558641 (98)\ttotal: 1.15s\tremaining: 3.25s\n",
      "131:\tlearn: 0.5698512\ttest: 0.5542774\tbest: 0.5558641 (98)\ttotal: 1.16s\tremaining: 3.24s\n",
      "132:\tlearn: 0.5699504\ttest: 0.5545418\tbest: 0.5558641 (98)\ttotal: 1.17s\tremaining: 3.23s\n",
      "133:\tlearn: 0.5698843\ttest: 0.5542774\tbest: 0.5558641 (98)\ttotal: 1.18s\tremaining: 3.22s\n",
      "134:\tlearn: 0.5697851\ttest: 0.5536163\tbest: 0.5558641 (98)\ttotal: 1.19s\tremaining: 3.21s\n",
      "135:\tlearn: 0.5696529\ttest: 0.5538807\tbest: 0.5558641 (98)\ttotal: 1.19s\tremaining: 3.2s\n",
      "136:\tlearn: 0.5697190\ttest: 0.5538807\tbest: 0.5558641 (98)\ttotal: 1.2s\tremaining: 3.18s\n",
      "137:\tlearn: 0.5696198\ttest: 0.5550707\tbest: 0.5558641 (98)\ttotal: 1.21s\tremaining: 3.17s\n",
      "138:\tlearn: 0.5698843\ttest: 0.5544096\tbest: 0.5558641 (98)\ttotal: 1.22s\tremaining: 3.16s\n",
      "139:\tlearn: 0.5697190\ttest: 0.5544096\tbest: 0.5558641 (98)\ttotal: 1.23s\tremaining: 3.15s\n",
      "140:\tlearn: 0.5700826\ttest: 0.5542774\tbest: 0.5558641 (98)\ttotal: 1.23s\tremaining: 3.14s\n",
      "141:\tlearn: 0.5699174\ttest: 0.5538807\tbest: 0.5558641 (98)\ttotal: 1.24s\tremaining: 3.13s\n",
      "142:\tlearn: 0.5698182\ttest: 0.5538807\tbest: 0.5558641 (98)\ttotal: 1.25s\tremaining: 3.12s\n",
      "143:\tlearn: 0.5699504\ttest: 0.5536163\tbest: 0.5558641 (98)\ttotal: 1.26s\tremaining: 3.11s\n",
      "144:\tlearn: 0.5700165\ttest: 0.5538807\tbest: 0.5558641 (98)\ttotal: 1.26s\tremaining: 3.1s\n",
      "145:\tlearn: 0.5701818\ttest: 0.5536163\tbest: 0.5558641 (98)\ttotal: 1.27s\tremaining: 3.09s\n",
      "146:\tlearn: 0.5702479\ttest: 0.5533518\tbest: 0.5558641 (98)\ttotal: 1.28s\tremaining: 3.08s\n",
      "147:\tlearn: 0.5703471\ttest: 0.5540130\tbest: 0.5558641 (98)\ttotal: 1.29s\tremaining: 3.07s\n",
      "148:\tlearn: 0.5705455\ttest: 0.5548063\tbest: 0.5558641 (98)\ttotal: 1.3s\tremaining: 3.06s\n",
      "149:\tlearn: 0.5704132\ttest: 0.5545418\tbest: 0.5558641 (98)\ttotal: 1.31s\tremaining: 3.05s\n",
      "150:\tlearn: 0.5703802\ttest: 0.5548063\tbest: 0.5558641 (98)\ttotal: 1.31s\tremaining: 3.04s\n",
      "151:\tlearn: 0.5706116\ttest: 0.5542774\tbest: 0.5558641 (98)\ttotal: 1.32s\tremaining: 3.03s\n",
      "152:\tlearn: 0.5706446\ttest: 0.5544096\tbest: 0.5558641 (98)\ttotal: 1.33s\tremaining: 3.01s\n",
      "153:\tlearn: 0.5706446\ttest: 0.5542774\tbest: 0.5558641 (98)\ttotal: 1.34s\tremaining: 3s\n",
      "154:\tlearn: 0.5705124\ttest: 0.5549385\tbest: 0.5558641 (98)\ttotal: 1.34s\tremaining: 2.99s\n",
      "155:\tlearn: 0.5703802\ttest: 0.5550707\tbest: 0.5558641 (98)\ttotal: 1.35s\tremaining: 2.98s\n",
      "156:\tlearn: 0.5710413\ttest: 0.5550707\tbest: 0.5558641 (98)\ttotal: 1.36s\tremaining: 2.97s\n",
      "157:\tlearn: 0.5711736\ttest: 0.5549385\tbest: 0.5558641 (98)\ttotal: 1.37s\tremaining: 2.96s\n",
      "158:\tlearn: 0.5711736\ttest: 0.5550707\tbest: 0.5558641 (98)\ttotal: 1.38s\tremaining: 2.95s\n",
      "159:\tlearn: 0.5715702\ttest: 0.5550707\tbest: 0.5558641 (98)\ttotal: 1.39s\tremaining: 2.94s\n",
      "160:\tlearn: 0.5715372\ttest: 0.5550707\tbest: 0.5558641 (98)\ttotal: 1.39s\tremaining: 2.93s\n",
      "161:\tlearn: 0.5712727\ttest: 0.5552030\tbest: 0.5558641 (98)\ttotal: 1.4s\tremaining: 2.92s\n",
      "162:\tlearn: 0.5714050\ttest: 0.5549385\tbest: 0.5558641 (98)\ttotal: 1.41s\tremaining: 2.91s\n",
      "163:\tlearn: 0.5712397\ttest: 0.5549385\tbest: 0.5558641 (98)\ttotal: 1.42s\tremaining: 2.9s\n",
      "164:\tlearn: 0.5715041\ttest: 0.5553352\tbest: 0.5558641 (98)\ttotal: 1.42s\tremaining: 2.89s\n",
      "165:\tlearn: 0.5713719\ttest: 0.5553352\tbest: 0.5558641 (98)\ttotal: 1.43s\tremaining: 2.88s\n",
      "166:\tlearn: 0.5712727\ttest: 0.5549385\tbest: 0.5558641 (98)\ttotal: 1.44s\tremaining: 2.87s\n",
      "167:\tlearn: 0.5715372\ttest: 0.5545418\tbest: 0.5558641 (98)\ttotal: 1.45s\tremaining: 2.86s\n",
      "168:\tlearn: 0.5713388\ttest: 0.5544096\tbest: 0.5558641 (98)\ttotal: 1.46s\tremaining: 2.86s\n",
      "169:\tlearn: 0.5714050\ttest: 0.5540130\tbest: 0.5558641 (98)\ttotal: 1.47s\tremaining: 2.85s\n",
      "170:\tlearn: 0.5713719\ttest: 0.5541452\tbest: 0.5558641 (98)\ttotal: 1.48s\tremaining: 2.84s\n",
      "171:\tlearn: 0.5719008\ttest: 0.5536163\tbest: 0.5558641 (98)\ttotal: 1.49s\tremaining: 2.83s\n",
      "172:\tlearn: 0.5717686\ttest: 0.5537485\tbest: 0.5558641 (98)\ttotal: 1.49s\tremaining: 2.83s\n",
      "173:\tlearn: 0.5717686\ttest: 0.5542774\tbest: 0.5558641 (98)\ttotal: 1.5s\tremaining: 2.82s\n",
      "174:\tlearn: 0.5719339\ttest: 0.5540130\tbest: 0.5558641 (98)\ttotal: 1.51s\tremaining: 2.81s\n",
      "175:\tlearn: 0.5722314\ttest: 0.5541452\tbest: 0.5558641 (98)\ttotal: 1.52s\tremaining: 2.8s\n",
      "176:\tlearn: 0.5722645\ttest: 0.5544096\tbest: 0.5558641 (98)\ttotal: 1.53s\tremaining: 2.79s\n",
      "177:\tlearn: 0.5722314\ttest: 0.5545418\tbest: 0.5558641 (98)\ttotal: 1.54s\tremaining: 2.78s\n",
      "178:\tlearn: 0.5722314\ttest: 0.5545418\tbest: 0.5558641 (98)\ttotal: 1.54s\tremaining: 2.77s\n",
      "179:\tlearn: 0.5721653\ttest: 0.5545418\tbest: 0.5558641 (98)\ttotal: 1.55s\tremaining: 2.76s\n",
      "180:\tlearn: 0.5719008\ttest: 0.5545418\tbest: 0.5558641 (98)\ttotal: 1.56s\tremaining: 2.75s\n",
      "181:\tlearn: 0.5719339\ttest: 0.5550707\tbest: 0.5558641 (98)\ttotal: 1.57s\tremaining: 2.74s\n",
      "182:\tlearn: 0.5717686\ttest: 0.5550707\tbest: 0.5558641 (98)\ttotal: 1.58s\tremaining: 2.73s\n",
      "183:\tlearn: 0.5720661\ttest: 0.5548063\tbest: 0.5558641 (98)\ttotal: 1.59s\tremaining: 2.73s\n",
      "184:\tlearn: 0.5721322\ttest: 0.5545418\tbest: 0.5558641 (98)\ttotal: 1.59s\tremaining: 2.72s\n",
      "185:\tlearn: 0.5721322\ttest: 0.5546741\tbest: 0.5558641 (98)\ttotal: 1.6s\tremaining: 2.71s\n",
      "186:\tlearn: 0.5720000\ttest: 0.5544096\tbest: 0.5558641 (98)\ttotal: 1.61s\tremaining: 2.7s\n",
      "187:\tlearn: 0.5723967\ttest: 0.5545418\tbest: 0.5558641 (98)\ttotal: 1.62s\tremaining: 2.69s\n",
      "188:\tlearn: 0.5724628\ttest: 0.5540130\tbest: 0.5558641 (98)\ttotal: 1.63s\tremaining: 2.68s\n",
      "189:\tlearn: 0.5725620\ttest: 0.5546741\tbest: 0.5558641 (98)\ttotal: 1.64s\tremaining: 2.67s\n",
      "190:\tlearn: 0.5726612\ttest: 0.5546741\tbest: 0.5558641 (98)\ttotal: 1.64s\tremaining: 2.66s\n",
      "191:\tlearn: 0.5725620\ttest: 0.5549385\tbest: 0.5558641 (98)\ttotal: 1.65s\tremaining: 2.65s\n",
      "192:\tlearn: 0.5726281\ttest: 0.5552030\tbest: 0.5558641 (98)\ttotal: 1.66s\tremaining: 2.64s\n",
      "193:\tlearn: 0.5725620\ttest: 0.5549385\tbest: 0.5558641 (98)\ttotal: 1.67s\tremaining: 2.63s\n",
      "194:\tlearn: 0.5726612\ttest: 0.5550707\tbest: 0.5558641 (98)\ttotal: 1.68s\tremaining: 2.62s\n",
      "195:\tlearn: 0.5726281\ttest: 0.5545418\tbest: 0.5558641 (98)\ttotal: 1.69s\tremaining: 2.62s\n",
      "196:\tlearn: 0.5724298\ttest: 0.5546741\tbest: 0.5558641 (98)\ttotal: 1.7s\tremaining: 2.61s\n",
      "197:\tlearn: 0.5723636\ttest: 0.5544096\tbest: 0.5558641 (98)\ttotal: 1.7s\tremaining: 2.6s\n",
      "198:\tlearn: 0.5724959\ttest: 0.5534841\tbest: 0.5558641 (98)\ttotal: 1.71s\tremaining: 2.59s\n",
      "199:\tlearn: 0.5724959\ttest: 0.5532196\tbest: 0.5558641 (98)\ttotal: 1.72s\tremaining: 2.58s\n",
      "200:\tlearn: 0.5725950\ttest: 0.5533518\tbest: 0.5558641 (98)\ttotal: 1.73s\tremaining: 2.57s\n",
      "201:\tlearn: 0.5724298\ttest: 0.5537485\tbest: 0.5558641 (98)\ttotal: 1.73s\tremaining: 2.56s\n",
      "202:\tlearn: 0.5727603\ttest: 0.5540130\tbest: 0.5558641 (98)\ttotal: 1.74s\tremaining: 2.55s\n",
      "203:\tlearn: 0.5726942\ttest: 0.5542774\tbest: 0.5558641 (98)\ttotal: 1.75s\tremaining: 2.54s\n",
      "204:\tlearn: 0.5728926\ttest: 0.5541452\tbest: 0.5558641 (98)\ttotal: 1.75s\tremaining: 2.53s\n",
      "205:\tlearn: 0.5727603\ttest: 0.5544096\tbest: 0.5558641 (98)\ttotal: 1.76s\tremaining: 2.52s\n",
      "206:\tlearn: 0.5726942\ttest: 0.5545418\tbest: 0.5558641 (98)\ttotal: 1.77s\tremaining: 2.51s\n",
      "207:\tlearn: 0.5728926\ttest: 0.5542774\tbest: 0.5558641 (98)\ttotal: 1.78s\tremaining: 2.5s\n",
      "208:\tlearn: 0.5726612\ttest: 0.5548063\tbest: 0.5558641 (98)\ttotal: 1.79s\tremaining: 2.49s\n",
      "209:\tlearn: 0.5724628\ttest: 0.5550707\tbest: 0.5558641 (98)\ttotal: 1.8s\tremaining: 2.48s\n",
      "210:\tlearn: 0.5726612\ttest: 0.5550707\tbest: 0.5558641 (98)\ttotal: 1.81s\tremaining: 2.47s\n",
      "211:\tlearn: 0.5723306\ttest: 0.5555996\tbest: 0.5558641 (98)\ttotal: 1.81s\tremaining: 2.46s\n",
      "212:\tlearn: 0.5723636\ttest: 0.5552030\tbest: 0.5558641 (98)\ttotal: 1.82s\tremaining: 2.45s\n",
      "213:\tlearn: 0.5722975\ttest: 0.5550707\tbest: 0.5558641 (98)\ttotal: 1.83s\tremaining: 2.45s\n",
      "214:\tlearn: 0.5725289\ttest: 0.5552030\tbest: 0.5558641 (98)\ttotal: 1.84s\tremaining: 2.44s\n",
      "215:\tlearn: 0.5725620\ttest: 0.5553352\tbest: 0.5558641 (98)\ttotal: 1.85s\tremaining: 2.43s\n",
      "216:\tlearn: 0.5729256\ttest: 0.5552030\tbest: 0.5558641 (98)\ttotal: 1.85s\tremaining: 2.42s\n",
      "217:\tlearn: 0.5729917\ttest: 0.5550707\tbest: 0.5558641 (98)\ttotal: 1.86s\tremaining: 2.41s\n",
      "218:\tlearn: 0.5727273\ttest: 0.5542774\tbest: 0.5558641 (98)\ttotal: 1.87s\tremaining: 2.4s\n",
      "219:\tlearn: 0.5726612\ttest: 0.5540130\tbest: 0.5558641 (98)\ttotal: 1.88s\tremaining: 2.39s\n",
      "220:\tlearn: 0.5731570\ttest: 0.5538807\tbest: 0.5558641 (98)\ttotal: 1.89s\tremaining: 2.38s\n",
      "221:\tlearn: 0.5729256\ttest: 0.5541452\tbest: 0.5558641 (98)\ttotal: 1.89s\tremaining: 2.37s\n",
      "222:\tlearn: 0.5732231\ttest: 0.5548063\tbest: 0.5558641 (98)\ttotal: 1.9s\tremaining: 2.36s\n",
      "223:\tlearn: 0.5730909\ttest: 0.5550707\tbest: 0.5558641 (98)\ttotal: 1.91s\tremaining: 2.35s\n",
      "224:\tlearn: 0.5735207\ttest: 0.5541452\tbest: 0.5558641 (98)\ttotal: 1.92s\tremaining: 2.35s\n",
      "225:\tlearn: 0.5736860\ttest: 0.5540130\tbest: 0.5558641 (98)\ttotal: 1.93s\tremaining: 2.34s\n",
      "226:\tlearn: 0.5735537\ttest: 0.5542774\tbest: 0.5558641 (98)\ttotal: 1.93s\tremaining: 2.33s\n",
      "227:\tlearn: 0.5734215\ttest: 0.5552030\tbest: 0.5558641 (98)\ttotal: 1.94s\tremaining: 2.32s\n",
      "228:\tlearn: 0.5741488\ttest: 0.5549385\tbest: 0.5558641 (98)\ttotal: 1.95s\tremaining: 2.31s\n",
      "229:\tlearn: 0.5739835\ttest: 0.5554674\tbest: 0.5558641 (98)\ttotal: 1.96s\tremaining: 2.3s\n",
      "230:\tlearn: 0.5740165\ttest: 0.5550707\tbest: 0.5558641 (98)\ttotal: 1.97s\tremaining: 2.29s\n",
      "231:\tlearn: 0.5744793\ttest: 0.5552030\tbest: 0.5558641 (98)\ttotal: 1.98s\tremaining: 2.29s\n",
      "232:\tlearn: 0.5744463\ttest: 0.5552030\tbest: 0.5558641 (98)\ttotal: 1.99s\tremaining: 2.27s\n",
      "233:\tlearn: 0.5744463\ttest: 0.5552030\tbest: 0.5558641 (98)\ttotal: 1.99s\tremaining: 2.27s\n",
      "234:\tlearn: 0.5745124\ttest: 0.5548063\tbest: 0.5558641 (98)\ttotal: 2s\tremaining: 2.26s\n",
      "235:\tlearn: 0.5745785\ttest: 0.5549385\tbest: 0.5558641 (98)\ttotal: 2.01s\tremaining: 2.25s\n",
      "236:\tlearn: 0.5746116\ttest: 0.5549385\tbest: 0.5558641 (98)\ttotal: 2.02s\tremaining: 2.24s\n",
      "237:\tlearn: 0.5747107\ttest: 0.5549385\tbest: 0.5558641 (98)\ttotal: 2.03s\tremaining: 2.24s\n",
      "238:\tlearn: 0.5746116\ttest: 0.5553352\tbest: 0.5558641 (98)\ttotal: 2.04s\tremaining: 2.23s\n",
      "239:\tlearn: 0.5747107\ttest: 0.5550707\tbest: 0.5558641 (98)\ttotal: 2.05s\tremaining: 2.22s\n",
      "240:\tlearn: 0.5748430\ttest: 0.5548063\tbest: 0.5558641 (98)\ttotal: 2.06s\tremaining: 2.21s\n",
      "241:\tlearn: 0.5750744\ttest: 0.5549385\tbest: 0.5558641 (98)\ttotal: 2.07s\tremaining: 2.21s\n",
      "242:\tlearn: 0.5750413\ttest: 0.5549385\tbest: 0.5558641 (98)\ttotal: 2.08s\tremaining: 2.2s\n",
      "243:\tlearn: 0.5752066\ttest: 0.5546741\tbest: 0.5558641 (98)\ttotal: 2.09s\tremaining: 2.19s\n",
      "244:\tlearn: 0.5749752\ttest: 0.5548063\tbest: 0.5558641 (98)\ttotal: 2.1s\tremaining: 2.18s\n",
      "245:\tlearn: 0.5748430\ttest: 0.5549385\tbest: 0.5558641 (98)\ttotal: 2.11s\tremaining: 2.18s\n",
      "246:\tlearn: 0.5749421\ttest: 0.5550707\tbest: 0.5558641 (98)\ttotal: 2.12s\tremaining: 2.17s\n",
      "247:\tlearn: 0.5748099\ttest: 0.5552030\tbest: 0.5558641 (98)\ttotal: 2.13s\tremaining: 2.16s\n",
      "248:\tlearn: 0.5747438\ttest: 0.5552030\tbest: 0.5558641 (98)\ttotal: 2.13s\tremaining: 2.15s\n",
      "249:\tlearn: 0.5747438\ttest: 0.5546741\tbest: 0.5558641 (98)\ttotal: 2.14s\tremaining: 2.14s\n",
      "250:\tlearn: 0.5747769\ttest: 0.5550707\tbest: 0.5558641 (98)\ttotal: 2.15s\tremaining: 2.13s\n",
      "251:\tlearn: 0.5748099\ttest: 0.5557319\tbest: 0.5558641 (98)\ttotal: 2.16s\tremaining: 2.12s\n",
      "252:\tlearn: 0.5748099\ttest: 0.5558641\tbest: 0.5558641 (98)\ttotal: 2.17s\tremaining: 2.12s\n",
      "253:\tlearn: 0.5747438\ttest: 0.5557319\tbest: 0.5558641 (98)\ttotal: 2.17s\tremaining: 2.1s\n",
      "254:\tlearn: 0.5746116\ttest: 0.5557319\tbest: 0.5558641 (98)\ttotal: 2.18s\tremaining: 2.1s\n",
      "255:\tlearn: 0.5746116\ttest: 0.5558641\tbest: 0.5558641 (98)\ttotal: 2.19s\tremaining: 2.09s\n",
      "256:\tlearn: 0.5747438\ttest: 0.5555996\tbest: 0.5558641 (98)\ttotal: 2.2s\tremaining: 2.08s\n",
      "257:\tlearn: 0.5751074\ttest: 0.5561285\tbest: 0.5561285 (257)\ttotal: 2.21s\tremaining: 2.07s\n",
      "258:\tlearn: 0.5752066\ttest: 0.5565252\tbest: 0.5565252 (258)\ttotal: 2.21s\tremaining: 2.06s\n",
      "259:\tlearn: 0.5752066\ttest: 0.5557319\tbest: 0.5565252 (258)\ttotal: 2.22s\tremaining: 2.05s\n",
      "260:\tlearn: 0.5752397\ttest: 0.5558641\tbest: 0.5565252 (258)\ttotal: 2.23s\tremaining: 2.04s\n",
      "261:\tlearn: 0.5754050\ttest: 0.5553352\tbest: 0.5565252 (258)\ttotal: 2.24s\tremaining: 2.03s\n",
      "262:\tlearn: 0.5754050\ttest: 0.5557319\tbest: 0.5565252 (258)\ttotal: 2.25s\tremaining: 2.02s\n",
      "263:\tlearn: 0.5754050\ttest: 0.5557319\tbest: 0.5565252 (258)\ttotal: 2.25s\tremaining: 2.02s\n",
      "264:\tlearn: 0.5754380\ttest: 0.5552030\tbest: 0.5565252 (258)\ttotal: 2.26s\tremaining: 2s\n",
      "265:\tlearn: 0.5754711\ttest: 0.5545418\tbest: 0.5565252 (258)\ttotal: 2.27s\tremaining: 2s\n",
      "266:\tlearn: 0.5752066\ttest: 0.5552030\tbest: 0.5565252 (258)\ttotal: 2.28s\tremaining: 1.99s\n",
      "267:\tlearn: 0.5751405\ttest: 0.5552030\tbest: 0.5565252 (258)\ttotal: 2.29s\tremaining: 1.98s\n",
      "268:\tlearn: 0.5755041\ttest: 0.5549385\tbest: 0.5565252 (258)\ttotal: 2.3s\tremaining: 1.97s\n",
      "269:\tlearn: 0.5755041\ttest: 0.5546741\tbest: 0.5565252 (258)\ttotal: 2.31s\tremaining: 1.97s\n",
      "270:\tlearn: 0.5755702\ttest: 0.5546741\tbest: 0.5565252 (258)\ttotal: 2.35s\tremaining: 1.99s\n",
      "271:\tlearn: 0.5757355\ttest: 0.5544096\tbest: 0.5565252 (258)\ttotal: 2.37s\tremaining: 1.98s\n",
      "272:\tlearn: 0.5759339\ttest: 0.5544096\tbest: 0.5565252 (258)\ttotal: 2.37s\tremaining: 1.97s\n",
      "273:\tlearn: 0.5761322\ttest: 0.5545418\tbest: 0.5565252 (258)\ttotal: 2.38s\tremaining: 1.97s\n",
      "274:\tlearn: 0.5761653\ttest: 0.5552030\tbest: 0.5565252 (258)\ttotal: 2.39s\tremaining: 1.96s\n",
      "275:\tlearn: 0.5760331\ttest: 0.5548063\tbest: 0.5565252 (258)\ttotal: 2.4s\tremaining: 1.95s\n",
      "276:\tlearn: 0.5758017\ttest: 0.5542774\tbest: 0.5565252 (258)\ttotal: 2.41s\tremaining: 1.94s\n",
      "277:\tlearn: 0.5758678\ttest: 0.5542774\tbest: 0.5565252 (258)\ttotal: 2.42s\tremaining: 1.93s\n",
      "278:\tlearn: 0.5758347\ttest: 0.5548063\tbest: 0.5565252 (258)\ttotal: 2.43s\tremaining: 1.92s\n",
      "279:\tlearn: 0.5760000\ttest: 0.5549385\tbest: 0.5565252 (258)\ttotal: 2.43s\tremaining: 1.91s\n",
      "280:\tlearn: 0.5758678\ttest: 0.5550707\tbest: 0.5565252 (258)\ttotal: 2.44s\tremaining: 1.9s\n",
      "281:\tlearn: 0.5760331\ttest: 0.5549385\tbest: 0.5565252 (258)\ttotal: 2.45s\tremaining: 1.89s\n",
      "282:\tlearn: 0.5760331\ttest: 0.5545418\tbest: 0.5565252 (258)\ttotal: 2.46s\tremaining: 1.88s\n",
      "283:\tlearn: 0.5760661\ttest: 0.5552030\tbest: 0.5565252 (258)\ttotal: 2.46s\tremaining: 1.87s\n",
      "284:\tlearn: 0.5760992\ttest: 0.5549385\tbest: 0.5565252 (258)\ttotal: 2.47s\tremaining: 1.86s\n",
      "285:\tlearn: 0.5761653\ttest: 0.5549385\tbest: 0.5565252 (258)\ttotal: 2.48s\tremaining: 1.86s\n",
      "286:\tlearn: 0.5761653\ttest: 0.5545418\tbest: 0.5565252 (258)\ttotal: 2.49s\tremaining: 1.85s\n",
      "287:\tlearn: 0.5761983\ttest: 0.5552030\tbest: 0.5565252 (258)\ttotal: 2.5s\tremaining: 1.84s\n",
      "288:\tlearn: 0.5762975\ttest: 0.5553352\tbest: 0.5565252 (258)\ttotal: 2.5s\tremaining: 1.83s\n",
      "289:\tlearn: 0.5762645\ttest: 0.5553352\tbest: 0.5565252 (258)\ttotal: 2.52s\tremaining: 1.82s\n",
      "290:\tlearn: 0.5765950\ttest: 0.5554674\tbest: 0.5565252 (258)\ttotal: 2.52s\tremaining: 1.81s\n",
      "291:\tlearn: 0.5765289\ttest: 0.5555996\tbest: 0.5565252 (258)\ttotal: 2.53s\tremaining: 1.8s\n",
      "292:\tlearn: 0.5770579\ttest: 0.5545418\tbest: 0.5565252 (258)\ttotal: 2.54s\tremaining: 1.8s\n",
      "293:\tlearn: 0.5771901\ttest: 0.5544096\tbest: 0.5565252 (258)\ttotal: 2.55s\tremaining: 1.79s\n",
      "294:\tlearn: 0.5772231\ttest: 0.5541452\tbest: 0.5565252 (258)\ttotal: 2.56s\tremaining: 1.78s\n",
      "295:\tlearn: 0.5770579\ttest: 0.5544096\tbest: 0.5565252 (258)\ttotal: 2.57s\tremaining: 1.77s\n",
      "296:\tlearn: 0.5773554\ttest: 0.5542774\tbest: 0.5565252 (258)\ttotal: 2.58s\tremaining: 1.76s\n",
      "297:\tlearn: 0.5773884\ttest: 0.5542774\tbest: 0.5565252 (258)\ttotal: 2.59s\tremaining: 1.75s\n",
      "298:\tlearn: 0.5774215\ttest: 0.5545418\tbest: 0.5565252 (258)\ttotal: 2.6s\tremaining: 1.75s\n",
      "299:\tlearn: 0.5771901\ttest: 0.5540130\tbest: 0.5565252 (258)\ttotal: 2.61s\tremaining: 1.74s\n",
      "300:\tlearn: 0.5775868\ttest: 0.5538807\tbest: 0.5565252 (258)\ttotal: 2.62s\tremaining: 1.73s\n",
      "301:\tlearn: 0.5775207\ttest: 0.5541452\tbest: 0.5565252 (258)\ttotal: 2.63s\tremaining: 1.72s\n",
      "302:\tlearn: 0.5775207\ttest: 0.5544096\tbest: 0.5565252 (258)\ttotal: 2.63s\tremaining: 1.71s\n",
      "303:\tlearn: 0.5775868\ttest: 0.5542774\tbest: 0.5565252 (258)\ttotal: 2.64s\tremaining: 1.71s\n",
      "304:\tlearn: 0.5777521\ttest: 0.5544096\tbest: 0.5565252 (258)\ttotal: 2.65s\tremaining: 1.7s\n",
      "305:\tlearn: 0.5774545\ttest: 0.5546741\tbest: 0.5565252 (258)\ttotal: 2.66s\tremaining: 1.69s\n",
      "306:\tlearn: 0.5780165\ttest: 0.5541452\tbest: 0.5565252 (258)\ttotal: 2.67s\tremaining: 1.68s\n",
      "307:\tlearn: 0.5776198\ttest: 0.5542774\tbest: 0.5565252 (258)\ttotal: 2.68s\tremaining: 1.67s\n",
      "308:\tlearn: 0.5774215\ttest: 0.5544096\tbest: 0.5565252 (258)\ttotal: 2.69s\tremaining: 1.66s\n",
      "309:\tlearn: 0.5776198\ttest: 0.5538807\tbest: 0.5565252 (258)\ttotal: 2.71s\tremaining: 1.66s\n",
      "310:\tlearn: 0.5779174\ttest: 0.5534841\tbest: 0.5565252 (258)\ttotal: 2.72s\tremaining: 1.66s\n",
      "311:\tlearn: 0.5779504\ttest: 0.5536163\tbest: 0.5565252 (258)\ttotal: 2.73s\tremaining: 1.65s\n",
      "312:\tlearn: 0.5779174\ttest: 0.5533518\tbest: 0.5565252 (258)\ttotal: 2.75s\tremaining: 1.64s\n",
      "313:\tlearn: 0.5780826\ttest: 0.5534841\tbest: 0.5565252 (258)\ttotal: 2.76s\tremaining: 1.63s\n",
      "314:\tlearn: 0.5780165\ttest: 0.5534841\tbest: 0.5565252 (258)\ttotal: 2.77s\tremaining: 1.63s\n",
      "315:\tlearn: 0.5779835\ttest: 0.5528230\tbest: 0.5565252 (258)\ttotal: 2.78s\tremaining: 1.62s\n",
      "316:\tlearn: 0.5780165\ttest: 0.5529552\tbest: 0.5565252 (258)\ttotal: 2.79s\tremaining: 1.61s\n",
      "317:\tlearn: 0.5784463\ttest: 0.5529552\tbest: 0.5565252 (258)\ttotal: 2.8s\tremaining: 1.6s\n",
      "318:\tlearn: 0.5785455\ttest: 0.5534841\tbest: 0.5565252 (258)\ttotal: 2.81s\tremaining: 1.59s\n",
      "319:\tlearn: 0.5784463\ttest: 0.5537485\tbest: 0.5565252 (258)\ttotal: 2.81s\tremaining: 1.58s\n",
      "320:\tlearn: 0.5785124\ttest: 0.5537485\tbest: 0.5565252 (258)\ttotal: 2.83s\tremaining: 1.57s\n",
      "321:\tlearn: 0.5784793\ttest: 0.5536163\tbest: 0.5565252 (258)\ttotal: 2.83s\tremaining: 1.57s\n",
      "322:\tlearn: 0.5787438\ttest: 0.5534841\tbest: 0.5565252 (258)\ttotal: 2.84s\tremaining: 1.56s\n",
      "323:\tlearn: 0.5786777\ttest: 0.5534841\tbest: 0.5565252 (258)\ttotal: 2.85s\tremaining: 1.55s\n",
      "324:\tlearn: 0.5787769\ttest: 0.5533518\tbest: 0.5565252 (258)\ttotal: 2.86s\tremaining: 1.54s\n",
      "325:\tlearn: 0.5786777\ttest: 0.5533518\tbest: 0.5565252 (258)\ttotal: 2.87s\tremaining: 1.53s\n",
      "326:\tlearn: 0.5789091\ttest: 0.5534841\tbest: 0.5565252 (258)\ttotal: 2.88s\tremaining: 1.52s\n",
      "327:\tlearn: 0.5790083\ttest: 0.5533518\tbest: 0.5565252 (258)\ttotal: 2.89s\tremaining: 1.51s\n",
      "328:\tlearn: 0.5791736\ttest: 0.5530874\tbest: 0.5565252 (258)\ttotal: 2.9s\tremaining: 1.5s\n",
      "329:\tlearn: 0.5791405\ttest: 0.5529552\tbest: 0.5565252 (258)\ttotal: 2.9s\tremaining: 1.5s\n",
      "330:\tlearn: 0.5788430\ttest: 0.5533518\tbest: 0.5565252 (258)\ttotal: 2.91s\tremaining: 1.49s\n",
      "331:\tlearn: 0.5792066\ttest: 0.5536163\tbest: 0.5565252 (258)\ttotal: 2.92s\tremaining: 1.48s\n",
      "332:\tlearn: 0.5792727\ttest: 0.5530874\tbest: 0.5565252 (258)\ttotal: 2.94s\tremaining: 1.47s\n",
      "333:\tlearn: 0.5790744\ttest: 0.5530874\tbest: 0.5565252 (258)\ttotal: 2.96s\tremaining: 1.47s\n",
      "334:\tlearn: 0.5790413\ttest: 0.5529552\tbest: 0.5565252 (258)\ttotal: 2.97s\tremaining: 1.46s\n",
      "335:\tlearn: 0.5789421\ttest: 0.5529552\tbest: 0.5565252 (258)\ttotal: 2.99s\tremaining: 1.46s\n",
      "336:\tlearn: 0.5792066\ttest: 0.5532196\tbest: 0.5565252 (258)\ttotal: 3s\tremaining: 1.45s\n",
      "337:\tlearn: 0.5794711\ttest: 0.5528230\tbest: 0.5565252 (258)\ttotal: 3.01s\tremaining: 1.44s\n",
      "338:\tlearn: 0.5794050\ttest: 0.5528230\tbest: 0.5565252 (258)\ttotal: 3.02s\tremaining: 1.44s\n",
      "339:\tlearn: 0.5793058\ttest: 0.5528230\tbest: 0.5565252 (258)\ttotal: 3.03s\tremaining: 1.43s\n",
      "340:\tlearn: 0.5794380\ttest: 0.5532196\tbest: 0.5565252 (258)\ttotal: 3.04s\tremaining: 1.42s\n",
      "341:\tlearn: 0.5794380\ttest: 0.5529552\tbest: 0.5565252 (258)\ttotal: 3.05s\tremaining: 1.41s\n",
      "342:\tlearn: 0.5796694\ttest: 0.5534841\tbest: 0.5565252 (258)\ttotal: 3.06s\tremaining: 1.4s\n",
      "343:\tlearn: 0.5796364\ttest: 0.5534841\tbest: 0.5565252 (258)\ttotal: 3.07s\tremaining: 1.39s\n",
      "344:\tlearn: 0.5797355\ttest: 0.5533518\tbest: 0.5565252 (258)\ttotal: 3.08s\tremaining: 1.39s\n",
      "345:\tlearn: 0.5798347\ttest: 0.5532196\tbest: 0.5565252 (258)\ttotal: 3.09s\tremaining: 1.38s\n",
      "346:\tlearn: 0.5799008\ttest: 0.5528230\tbest: 0.5565252 (258)\ttotal: 3.1s\tremaining: 1.37s\n",
      "347:\tlearn: 0.5799669\ttest: 0.5528230\tbest: 0.5565252 (258)\ttotal: 3.11s\tremaining: 1.36s\n",
      "348:\tlearn: 0.5800661\ttest: 0.5528230\tbest: 0.5565252 (258)\ttotal: 3.12s\tremaining: 1.35s\n",
      "349:\tlearn: 0.5803967\ttest: 0.5533518\tbest: 0.5565252 (258)\ttotal: 3.13s\tremaining: 1.34s\n",
      "350:\tlearn: 0.5804298\ttest: 0.5534841\tbest: 0.5565252 (258)\ttotal: 3.14s\tremaining: 1.33s\n",
      "351:\tlearn: 0.5804959\ttest: 0.5534841\tbest: 0.5565252 (258)\ttotal: 3.14s\tremaining: 1.32s\n",
      "352:\tlearn: 0.5805289\ttest: 0.5530874\tbest: 0.5565252 (258)\ttotal: 3.15s\tremaining: 1.31s\n",
      "353:\tlearn: 0.5803636\ttest: 0.5532196\tbest: 0.5565252 (258)\ttotal: 3.16s\tremaining: 1.3s\n",
      "354:\tlearn: 0.5803967\ttest: 0.5529552\tbest: 0.5565252 (258)\ttotal: 3.17s\tremaining: 1.29s\n",
      "355:\tlearn: 0.5802645\ttest: 0.5533518\tbest: 0.5565252 (258)\ttotal: 3.18s\tremaining: 1.28s\n",
      "356:\tlearn: 0.5802645\ttest: 0.5540130\tbest: 0.5565252 (258)\ttotal: 3.19s\tremaining: 1.28s\n",
      "357:\tlearn: 0.5804298\ttest: 0.5537485\tbest: 0.5565252 (258)\ttotal: 3.19s\tremaining: 1.27s\n",
      "358:\tlearn: 0.5804298\ttest: 0.5542774\tbest: 0.5565252 (258)\ttotal: 3.2s\tremaining: 1.26s\n",
      "359:\tlearn: 0.5802314\ttest: 0.5542774\tbest: 0.5565252 (258)\ttotal: 3.21s\tremaining: 1.25s\n",
      "360:\tlearn: 0.5803967\ttest: 0.5540130\tbest: 0.5565252 (258)\ttotal: 3.22s\tremaining: 1.24s\n",
      "361:\tlearn: 0.5805289\ttest: 0.5540130\tbest: 0.5565252 (258)\ttotal: 3.22s\tremaining: 1.23s\n",
      "362:\tlearn: 0.5803967\ttest: 0.5537485\tbest: 0.5565252 (258)\ttotal: 3.23s\tremaining: 1.22s\n",
      "363:\tlearn: 0.5802975\ttest: 0.5537485\tbest: 0.5565252 (258)\ttotal: 3.24s\tremaining: 1.21s\n",
      "364:\tlearn: 0.5802314\ttest: 0.5537485\tbest: 0.5565252 (258)\ttotal: 3.25s\tremaining: 1.2s\n",
      "365:\tlearn: 0.5801322\ttest: 0.5538807\tbest: 0.5565252 (258)\ttotal: 3.25s\tremaining: 1.19s\n",
      "366:\tlearn: 0.5804628\ttest: 0.5541452\tbest: 0.5565252 (258)\ttotal: 3.26s\tremaining: 1.18s\n",
      "367:\tlearn: 0.5803967\ttest: 0.5541452\tbest: 0.5565252 (258)\ttotal: 3.27s\tremaining: 1.17s\n",
      "368:\tlearn: 0.5805950\ttest: 0.5538807\tbest: 0.5565252 (258)\ttotal: 3.28s\tremaining: 1.16s\n",
      "369:\tlearn: 0.5802314\ttest: 0.5540130\tbest: 0.5565252 (258)\ttotal: 3.29s\tremaining: 1.15s\n",
      "370:\tlearn: 0.5801653\ttest: 0.5544096\tbest: 0.5565252 (258)\ttotal: 3.29s\tremaining: 1.15s\n",
      "371:\tlearn: 0.5801322\ttest: 0.5544096\tbest: 0.5565252 (258)\ttotal: 3.3s\tremaining: 1.14s\n",
      "372:\tlearn: 0.5801322\ttest: 0.5540130\tbest: 0.5565252 (258)\ttotal: 3.31s\tremaining: 1.13s\n",
      "373:\tlearn: 0.5803306\ttest: 0.5542774\tbest: 0.5565252 (258)\ttotal: 3.32s\tremaining: 1.12s\n",
      "374:\tlearn: 0.5801322\ttest: 0.5538807\tbest: 0.5565252 (258)\ttotal: 3.33s\tremaining: 1.11s\n",
      "375:\tlearn: 0.5802645\ttest: 0.5522941\tbest: 0.5565252 (258)\ttotal: 3.33s\tremaining: 1.1s\n",
      "376:\tlearn: 0.5803636\ttest: 0.5526907\tbest: 0.5565252 (258)\ttotal: 3.34s\tremaining: 1.09s\n",
      "377:\tlearn: 0.5805289\ttest: 0.5524263\tbest: 0.5565252 (258)\ttotal: 3.35s\tremaining: 1.08s\n",
      "378:\tlearn: 0.5805620\ttest: 0.5525585\tbest: 0.5565252 (258)\ttotal: 3.36s\tremaining: 1.07s\n",
      "379:\tlearn: 0.5806612\ttest: 0.5526907\tbest: 0.5565252 (258)\ttotal: 3.37s\tremaining: 1.06s\n",
      "380:\tlearn: 0.5806281\ttest: 0.5526907\tbest: 0.5565252 (258)\ttotal: 3.38s\tremaining: 1.05s\n",
      "381:\tlearn: 0.5805620\ttest: 0.5525585\tbest: 0.5565252 (258)\ttotal: 3.38s\tremaining: 1.04s\n",
      "382:\tlearn: 0.5807603\ttest: 0.5529552\tbest: 0.5565252 (258)\ttotal: 3.39s\tremaining: 1.04s\n",
      "383:\tlearn: 0.5808264\ttest: 0.5530874\tbest: 0.5565252 (258)\ttotal: 3.4s\tremaining: 1.03s\n",
      "384:\tlearn: 0.5811901\ttest: 0.5525585\tbest: 0.5565252 (258)\ttotal: 3.41s\tremaining: 1.02s\n",
      "385:\tlearn: 0.5812893\ttest: 0.5525585\tbest: 0.5565252 (258)\ttotal: 3.42s\tremaining: 1.01s\n",
      "386:\tlearn: 0.5810909\ttest: 0.5529552\tbest: 0.5565252 (258)\ttotal: 3.43s\tremaining: 1s\n",
      "387:\tlearn: 0.5810909\ttest: 0.5528230\tbest: 0.5565252 (258)\ttotal: 3.44s\tremaining: 992ms\n",
      "388:\tlearn: 0.5809917\ttest: 0.5533518\tbest: 0.5565252 (258)\ttotal: 3.45s\tremaining: 984ms\n",
      "389:\tlearn: 0.5809917\ttest: 0.5529552\tbest: 0.5565252 (258)\ttotal: 3.45s\tremaining: 974ms\n",
      "390:\tlearn: 0.5808926\ttest: 0.5537485\tbest: 0.5565252 (258)\ttotal: 3.46s\tremaining: 966ms\n",
      "391:\tlearn: 0.5811570\ttest: 0.5540130\tbest: 0.5565252 (258)\ttotal: 3.47s\tremaining: 957ms\n",
      "392:\tlearn: 0.5811240\ttest: 0.5540130\tbest: 0.5565252 (258)\ttotal: 3.48s\tremaining: 948ms\n",
      "393:\tlearn: 0.5811901\ttest: 0.5541452\tbest: 0.5565252 (258)\ttotal: 3.49s\tremaining: 939ms\n",
      "394:\tlearn: 0.5810248\ttest: 0.5540130\tbest: 0.5565252 (258)\ttotal: 3.5s\tremaining: 930ms\n",
      "395:\tlearn: 0.5808926\ttest: 0.5540130\tbest: 0.5565252 (258)\ttotal: 3.5s\tremaining: 921ms\n",
      "396:\tlearn: 0.5809256\ttest: 0.5540130\tbest: 0.5565252 (258)\ttotal: 3.51s\tremaining: 912ms\n",
      "397:\tlearn: 0.5808264\ttest: 0.5548063\tbest: 0.5565252 (258)\ttotal: 3.52s\tremaining: 903ms\n",
      "398:\tlearn: 0.5807603\ttest: 0.5548063\tbest: 0.5565252 (258)\ttotal: 3.53s\tremaining: 894ms\n",
      "399:\tlearn: 0.5807273\ttest: 0.5549385\tbest: 0.5565252 (258)\ttotal: 3.54s\tremaining: 885ms\n",
      "400:\tlearn: 0.5807273\ttest: 0.5549385\tbest: 0.5565252 (258)\ttotal: 3.55s\tremaining: 876ms\n",
      "401:\tlearn: 0.5808595\ttest: 0.5548063\tbest: 0.5565252 (258)\ttotal: 3.56s\tremaining: 867ms\n",
      "402:\tlearn: 0.5808264\ttest: 0.5546741\tbest: 0.5565252 (258)\ttotal: 3.56s\tremaining: 858ms\n",
      "403:\tlearn: 0.5811240\ttest: 0.5544096\tbest: 0.5565252 (258)\ttotal: 3.57s\tremaining: 849ms\n",
      "404:\tlearn: 0.5809587\ttest: 0.5542774\tbest: 0.5565252 (258)\ttotal: 3.58s\tremaining: 840ms\n",
      "405:\tlearn: 0.5810248\ttest: 0.5546741\tbest: 0.5565252 (258)\ttotal: 3.59s\tremaining: 831ms\n",
      "406:\tlearn: 0.5810909\ttest: 0.5546741\tbest: 0.5565252 (258)\ttotal: 3.6s\tremaining: 822ms\n",
      "407:\tlearn: 0.5810248\ttest: 0.5545418\tbest: 0.5565252 (258)\ttotal: 3.6s\tremaining: 813ms\n",
      "408:\tlearn: 0.5809256\ttest: 0.5541452\tbest: 0.5565252 (258)\ttotal: 3.61s\tremaining: 804ms\n",
      "409:\tlearn: 0.5810248\ttest: 0.5542774\tbest: 0.5565252 (258)\ttotal: 3.62s\tremaining: 795ms\n",
      "410:\tlearn: 0.5810248\ttest: 0.5545418\tbest: 0.5565252 (258)\ttotal: 3.63s\tremaining: 786ms\n",
      "411:\tlearn: 0.5812562\ttest: 0.5544096\tbest: 0.5565252 (258)\ttotal: 3.64s\tremaining: 777ms\n",
      "412:\tlearn: 0.5808926\ttest: 0.5545418\tbest: 0.5565252 (258)\ttotal: 3.65s\tremaining: 768ms\n",
      "413:\tlearn: 0.5810579\ttest: 0.5545418\tbest: 0.5565252 (258)\ttotal: 3.65s\tremaining: 759ms\n",
      "414:\tlearn: 0.5811240\ttest: 0.5549385\tbest: 0.5565252 (258)\ttotal: 3.66s\tremaining: 750ms\n",
      "415:\tlearn: 0.5812231\ttest: 0.5549385\tbest: 0.5565252 (258)\ttotal: 3.67s\tremaining: 741ms\n",
      "416:\tlearn: 0.5811570\ttest: 0.5549385\tbest: 0.5565252 (258)\ttotal: 3.68s\tremaining: 732ms\n",
      "417:\tlearn: 0.5811240\ttest: 0.5546741\tbest: 0.5565252 (258)\ttotal: 3.68s\tremaining: 723ms\n",
      "418:\tlearn: 0.5808595\ttest: 0.5538807\tbest: 0.5565252 (258)\ttotal: 3.69s\tremaining: 714ms\n",
      "419:\tlearn: 0.5808264\ttest: 0.5541452\tbest: 0.5565252 (258)\ttotal: 3.7s\tremaining: 705ms\n",
      "420:\tlearn: 0.5809256\ttest: 0.5542774\tbest: 0.5565252 (258)\ttotal: 3.71s\tremaining: 696ms\n",
      "421:\tlearn: 0.5810579\ttest: 0.5545418\tbest: 0.5565252 (258)\ttotal: 3.71s\tremaining: 687ms\n",
      "422:\tlearn: 0.5810248\ttest: 0.5548063\tbest: 0.5565252 (258)\ttotal: 3.72s\tremaining: 678ms\n",
      "423:\tlearn: 0.5811240\ttest: 0.5549385\tbest: 0.5565252 (258)\ttotal: 3.73s\tremaining: 669ms\n",
      "424:\tlearn: 0.5811901\ttest: 0.5546741\tbest: 0.5565252 (258)\ttotal: 3.74s\tremaining: 660ms\n",
      "425:\tlearn: 0.5812893\ttest: 0.5545418\tbest: 0.5565252 (258)\ttotal: 3.75s\tremaining: 651ms\n",
      "426:\tlearn: 0.5812893\ttest: 0.5542774\tbest: 0.5565252 (258)\ttotal: 3.75s\tremaining: 642ms\n",
      "427:\tlearn: 0.5812562\ttest: 0.5546741\tbest: 0.5565252 (258)\ttotal: 3.76s\tremaining: 633ms\n",
      "428:\tlearn: 0.5814215\ttest: 0.5550707\tbest: 0.5565252 (258)\ttotal: 3.77s\tremaining: 624ms\n",
      "429:\tlearn: 0.5812231\ttest: 0.5549385\tbest: 0.5565252 (258)\ttotal: 3.78s\tremaining: 615ms\n",
      "430:\tlearn: 0.5813223\ttest: 0.5549385\tbest: 0.5565252 (258)\ttotal: 3.79s\tremaining: 606ms\n",
      "431:\tlearn: 0.5812893\ttest: 0.5548063\tbest: 0.5565252 (258)\ttotal: 3.79s\tremaining: 597ms\n",
      "432:\tlearn: 0.5816198\ttest: 0.5542774\tbest: 0.5565252 (258)\ttotal: 3.8s\tremaining: 588ms\n",
      "433:\tlearn: 0.5817190\ttest: 0.5542774\tbest: 0.5565252 (258)\ttotal: 3.81s\tremaining: 579ms\n",
      "434:\tlearn: 0.5816198\ttest: 0.5542774\tbest: 0.5565252 (258)\ttotal: 3.82s\tremaining: 570ms\n",
      "435:\tlearn: 0.5817521\ttest: 0.5542774\tbest: 0.5565252 (258)\ttotal: 3.82s\tremaining: 561ms\n",
      "436:\tlearn: 0.5819174\ttest: 0.5538807\tbest: 0.5565252 (258)\ttotal: 3.83s\tremaining: 553ms\n",
      "437:\tlearn: 0.5819504\ttest: 0.5538807\tbest: 0.5565252 (258)\ttotal: 3.84s\tremaining: 544ms\n",
      "438:\tlearn: 0.5819174\ttest: 0.5537485\tbest: 0.5565252 (258)\ttotal: 3.85s\tremaining: 535ms\n",
      "439:\tlearn: 0.5820165\ttest: 0.5540130\tbest: 0.5565252 (258)\ttotal: 3.85s\tremaining: 526ms\n",
      "440:\tlearn: 0.5820826\ttest: 0.5536163\tbest: 0.5565252 (258)\ttotal: 3.86s\tremaining: 517ms\n",
      "441:\tlearn: 0.5818512\ttest: 0.5540130\tbest: 0.5565252 (258)\ttotal: 3.87s\tremaining: 508ms\n",
      "442:\tlearn: 0.5817190\ttest: 0.5541452\tbest: 0.5565252 (258)\ttotal: 3.88s\tremaining: 499ms\n",
      "443:\tlearn: 0.5817521\ttest: 0.5538807\tbest: 0.5565252 (258)\ttotal: 3.88s\tremaining: 490ms\n",
      "444:\tlearn: 0.5817521\ttest: 0.5538807\tbest: 0.5565252 (258)\ttotal: 3.89s\tremaining: 481ms\n",
      "445:\tlearn: 0.5823140\ttest: 0.5546741\tbest: 0.5565252 (258)\ttotal: 3.9s\tremaining: 472ms\n",
      "446:\tlearn: 0.5822810\ttest: 0.5544096\tbest: 0.5565252 (258)\ttotal: 3.91s\tremaining: 464ms\n",
      "447:\tlearn: 0.5822479\ttest: 0.5540130\tbest: 0.5565252 (258)\ttotal: 3.92s\tremaining: 455ms\n",
      "448:\tlearn: 0.5820496\ttest: 0.5542774\tbest: 0.5565252 (258)\ttotal: 3.93s\tremaining: 446ms\n",
      "449:\tlearn: 0.5820826\ttest: 0.5534841\tbest: 0.5565252 (258)\ttotal: 3.93s\tremaining: 437ms\n",
      "450:\tlearn: 0.5825124\ttest: 0.5533518\tbest: 0.5565252 (258)\ttotal: 3.94s\tremaining: 428ms\n",
      "451:\tlearn: 0.5824132\ttest: 0.5532196\tbest: 0.5565252 (258)\ttotal: 3.95s\tremaining: 420ms\n",
      "452:\tlearn: 0.5826446\ttest: 0.5530874\tbest: 0.5565252 (258)\ttotal: 3.96s\tremaining: 411ms\n",
      "453:\tlearn: 0.5823471\ttest: 0.5532196\tbest: 0.5565252 (258)\ttotal: 3.97s\tremaining: 402ms\n",
      "454:\tlearn: 0.5822479\ttest: 0.5530874\tbest: 0.5565252 (258)\ttotal: 3.97s\tremaining: 393ms\n",
      "455:\tlearn: 0.5822810\ttest: 0.5534841\tbest: 0.5565252 (258)\ttotal: 3.98s\tremaining: 384ms\n",
      "456:\tlearn: 0.5829421\ttest: 0.5533518\tbest: 0.5565252 (258)\ttotal: 3.99s\tremaining: 375ms\n",
      "457:\tlearn: 0.5829752\ttest: 0.5536163\tbest: 0.5565252 (258)\ttotal: 4s\tremaining: 367ms\n",
      "458:\tlearn: 0.5829421\ttest: 0.5536163\tbest: 0.5565252 (258)\ttotal: 4s\tremaining: 358ms\n",
      "459:\tlearn: 0.5829421\ttest: 0.5536163\tbest: 0.5565252 (258)\ttotal: 4.01s\tremaining: 349ms\n",
      "460:\tlearn: 0.5827107\ttest: 0.5536163\tbest: 0.5565252 (258)\ttotal: 4.02s\tremaining: 340ms\n",
      "461:\tlearn: 0.5825785\ttest: 0.5529552\tbest: 0.5565252 (258)\ttotal: 4.03s\tremaining: 331ms\n",
      "462:\tlearn: 0.5828430\ttest: 0.5529552\tbest: 0.5565252 (258)\ttotal: 4.04s\tremaining: 322ms\n",
      "463:\tlearn: 0.5828099\ttest: 0.5533518\tbest: 0.5565252 (258)\ttotal: 4.04s\tremaining: 314ms\n",
      "464:\tlearn: 0.5827438\ttest: 0.5513685\tbest: 0.5565252 (258)\ttotal: 4.05s\tremaining: 305ms\n",
      "465:\tlearn: 0.5827769\ttest: 0.5515007\tbest: 0.5565252 (258)\ttotal: 4.06s\tremaining: 296ms\n",
      "466:\tlearn: 0.5828430\ttest: 0.5516329\tbest: 0.5565252 (258)\ttotal: 4.07s\tremaining: 287ms\n",
      "467:\tlearn: 0.5827438\ttest: 0.5518974\tbest: 0.5565252 (258)\ttotal: 4.07s\tremaining: 279ms\n",
      "468:\tlearn: 0.5828760\ttest: 0.5518974\tbest: 0.5565252 (258)\ttotal: 4.08s\tremaining: 270ms\n",
      "469:\tlearn: 0.5826116\ttest: 0.5520296\tbest: 0.5565252 (258)\ttotal: 4.09s\tremaining: 261ms\n",
      "470:\tlearn: 0.5825124\ttest: 0.5520296\tbest: 0.5565252 (258)\ttotal: 4.1s\tremaining: 252ms\n",
      "471:\tlearn: 0.5826446\ttest: 0.5518974\tbest: 0.5565252 (258)\ttotal: 4.1s\tremaining: 243ms\n",
      "472:\tlearn: 0.5827107\ttest: 0.5520296\tbest: 0.5565252 (258)\ttotal: 4.11s\tremaining: 235ms\n",
      "473:\tlearn: 0.5826116\ttest: 0.5520296\tbest: 0.5565252 (258)\ttotal: 4.12s\tremaining: 226ms\n",
      "474:\tlearn: 0.5823802\ttest: 0.5520296\tbest: 0.5565252 (258)\ttotal: 4.13s\tremaining: 217ms\n",
      "475:\tlearn: 0.5825124\ttest: 0.5521618\tbest: 0.5565252 (258)\ttotal: 4.13s\tremaining: 208ms\n",
      "476:\tlearn: 0.5826116\ttest: 0.5520296\tbest: 0.5565252 (258)\ttotal: 4.14s\tremaining: 200ms\n",
      "477:\tlearn: 0.5825124\ttest: 0.5525585\tbest: 0.5565252 (258)\ttotal: 4.15s\tremaining: 191ms\n",
      "478:\tlearn: 0.5824793\ttest: 0.5525585\tbest: 0.5565252 (258)\ttotal: 4.16s\tremaining: 182ms\n",
      "479:\tlearn: 0.5825785\ttest: 0.5524263\tbest: 0.5565252 (258)\ttotal: 4.16s\tremaining: 174ms\n",
      "480:\tlearn: 0.5825785\ttest: 0.5515007\tbest: 0.5565252 (258)\ttotal: 4.17s\tremaining: 165ms\n",
      "481:\tlearn: 0.5827438\ttest: 0.5516329\tbest: 0.5565252 (258)\ttotal: 4.18s\tremaining: 156ms\n",
      "482:\tlearn: 0.5826777\ttest: 0.5521618\tbest: 0.5565252 (258)\ttotal: 4.19s\tremaining: 147ms\n",
      "483:\tlearn: 0.5829091\ttest: 0.5520296\tbest: 0.5565252 (258)\ttotal: 4.2s\tremaining: 139ms\n",
      "484:\tlearn: 0.5831405\ttest: 0.5521618\tbest: 0.5565252 (258)\ttotal: 4.2s\tremaining: 130ms\n",
      "485:\tlearn: 0.5831074\ttest: 0.5521618\tbest: 0.5565252 (258)\ttotal: 4.21s\tremaining: 121ms\n",
      "486:\tlearn: 0.5829752\ttest: 0.5521618\tbest: 0.5565252 (258)\ttotal: 4.22s\tremaining: 113ms\n",
      "487:\tlearn: 0.5829421\ttest: 0.5520296\tbest: 0.5565252 (258)\ttotal: 4.23s\tremaining: 104ms\n",
      "488:\tlearn: 0.5829421\ttest: 0.5521618\tbest: 0.5565252 (258)\ttotal: 4.23s\tremaining: 95.2ms\n",
      "489:\tlearn: 0.5829421\ttest: 0.5518974\tbest: 0.5565252 (258)\ttotal: 4.24s\tremaining: 86.6ms\n",
      "490:\tlearn: 0.5828760\ttest: 0.5521618\tbest: 0.5565252 (258)\ttotal: 4.25s\tremaining: 77.9ms\n",
      "491:\tlearn: 0.5828430\ttest: 0.5522941\tbest: 0.5565252 (258)\ttotal: 4.25s\tremaining: 69.2ms\n",
      "492:\tlearn: 0.5828099\ttest: 0.5522941\tbest: 0.5565252 (258)\ttotal: 4.26s\tremaining: 60.5ms\n",
      "493:\tlearn: 0.5828760\ttest: 0.5518974\tbest: 0.5565252 (258)\ttotal: 4.27s\tremaining: 51.9ms\n",
      "494:\tlearn: 0.5827769\ttest: 0.5528230\tbest: 0.5565252 (258)\ttotal: 4.28s\tremaining: 43.2ms\n",
      "495:\tlearn: 0.5828099\ttest: 0.5528230\tbest: 0.5565252 (258)\ttotal: 4.29s\tremaining: 34.6ms\n",
      "496:\tlearn: 0.5826446\ttest: 0.5529552\tbest: 0.5565252 (258)\ttotal: 4.29s\tremaining: 25.9ms\n",
      "497:\tlearn: 0.5833388\ttest: 0.5525585\tbest: 0.5565252 (258)\ttotal: 4.3s\tremaining: 17.3ms\n",
      "498:\tlearn: 0.5835041\ttest: 0.5528230\tbest: 0.5565252 (258)\ttotal: 4.31s\tremaining: 8.63ms\n",
      "499:\tlearn: 0.5835041\ttest: 0.5529552\tbest: 0.5565252 (258)\ttotal: 4.32s\tremaining: 0us\n",
      "\n",
      "bestTest = 0.5565251884\n",
      "bestIteration = 258\n",
      "\n",
      "Shrink model to first 259 iterations.\n"
     ]
    },
    {
     "data": {
      "text/plain": [
       "<catboost.core.CatBoostClassifier at 0x172016cc3a0>"
      ]
     },
     "execution_count": 73,
     "metadata": {},
     "output_type": "execute_result"
    }
   ],
   "source": [
    "from catboost import CatBoostClassifier, Pool\n",
    "\n",
    "model = CatBoostClassifier(depth=5, iterations=500, use_best_model=True, loss_function='CrossEntropy', eval_metric='Accuracy', l2_leaf_reg=1000)\n",
    "\n",
    "model.fit(X_train, np.signbit(y_train - 1), eval_set=Pool(X_test, np.signbit(y_test - 1))) # sign-bit: есть ли минус перед числом."
   ]
  },
  {
   "cell_type": "code",
   "execution_count": 74,
   "metadata": {},
   "outputs": [],
   "source": [
    "pred = model.predict(X_test)"
   ]
  },
  {
   "cell_type": "code",
   "execution_count": null,
   "metadata": {},
   "outputs": [
    {
     "data": {
      "text/plain": [
       "0.5565251884172947"
      ]
     },
     "execution_count": 75,
     "metadata": {},
     "output_type": "execute_result"
    }
   ],
   "source": [
    "(np.signbit(-y_test + 1) == pred).mean()"
   ]
  },
  {
   "cell_type": "code",
   "execution_count": 26,
   "metadata": {},
   "outputs": [
    {
     "data": {
      "text/plain": [
       "0.5352373396800212"
      ]
     },
     "execution_count": 26,
     "metadata": {},
     "output_type": "execute_result"
    }
   ],
   "source": [
    "(y_test >= 1).mean()"
   ]
  },
  {
   "cell_type": "code",
   "execution_count": 45,
   "metadata": {},
   "outputs": [
    {
     "data": {
      "text/plain": [
       "0.35739785799286"
      ]
     },
     "execution_count": 45,
     "metadata": {},
     "output_type": "execute_result"
    }
   ],
   "source": [
    "pred.mean()"
   ]
  },
  {
   "cell_type": "code",
   "execution_count": 46,
   "metadata": {},
   "outputs": [
    {
     "data": {
      "text/plain": [
       "0.4792333764409314"
      ]
     },
     "execution_count": 46,
     "metadata": {},
     "output_type": "execute_result"
    }
   ],
   "source": [
    "pred.std()"
   ]
  },
  {
   "cell_type": "code",
   "execution_count": 47,
   "metadata": {},
   "outputs": [
    {
     "data": {
      "text/plain": [
       "array([ 2.33286776,  2.99687983,  9.11103502,  5.67382393,  2.65492516,\n",
       "       20.48310078,  2.95312058,  1.77756091,  2.0437945 ,  0.96234932,\n",
       "       25.98056176,  1.76892264,  2.42553641,  6.8245458 ,  2.7544233 ,\n",
       "        1.00477632,  0.90670803,  1.32888799,  0.99518625,  0.84476454,\n",
       "        1.30653594,  1.03447021,  0.86043526,  0.97478777])"
      ]
     },
     "execution_count": 47,
     "metadata": {},
     "output_type": "execute_result"
    }
   ],
   "source": [
    "model.feature_importances_"
   ]
  },
  {
   "cell_type": "code",
   "execution_count": null,
   "metadata": {},
   "outputs": [
    {
     "data": {
      "text/plain": [
       "['0',\n",
       " '1',\n",
       " '2',\n",
       " '3',\n",
       " '4',\n",
       " '5',\n",
       " '6',\n",
       " '7',\n",
       " '8',\n",
       " '9',\n",
       " '10',\n",
       " '11',\n",
       " '12',\n",
       " '13',\n",
       " '14',\n",
       " '15',\n",
       " '16',\n",
       " '17',\n",
       " '18',\n",
       " '19',\n",
       " '20',\n",
       " '21',\n",
       " '22',\n",
       " '23']"
      ]
     },
     "execution_count": 48,
     "metadata": {},
     "output_type": "execute_result"
    }
   ],
   "source": [
    "model.feature_names_ # высокие вклады у признаков spread и minute"
   ]
  }
 ],
 "metadata": {
  "kernelspec": {
   "display_name": "Python 3",
   "language": "python",
   "name": "python3"
  },
  "language_info": {
   "codemirror_mode": {
    "name": "ipython",
    "version": 3
   },
   "file_extension": ".py",
   "mimetype": "text/x-python",
   "name": "python",
   "nbconvert_exporter": "python",
   "pygments_lexer": "ipython3",
   "version": "3.10.0"
  }
 },
 "nbformat": 4,
 "nbformat_minor": 2
}
