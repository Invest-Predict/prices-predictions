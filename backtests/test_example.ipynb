{
 "cells": [
  {
   "cell_type": "code",
   "execution_count": 1,
   "metadata": {},
   "outputs": [],
   "source": [
    "%reload_ext IPython.extensions.autoreload\n",
    "%autoreload 2"
   ]
  },
  {
   "cell_type": "code",
   "execution_count": 2,
   "metadata": {},
   "outputs": [
    {
     "name": "stderr",
     "output_type": "stream",
     "text": [
      "c:\\Users\\Валерия\\OneDrive\\Документы\\GitHub\\prices-predictions\\myenv\\Lib\\site-packages\\tqdm\\auto.py:21: TqdmWarning: IProgress not found. Please update jupyter and ipywidgets. See https://ipywidgets.readthedocs.io/en/stable/user_install.html\n",
      "  from .autonotebook import tqdm as notebook_tqdm\n"
     ]
    }
   ],
   "source": [
    "from t_api_tests import get_accounts, open_account, find_instrument, close_all_accs, trade, get_money_on_acc, convert_price"
   ]
  },
  {
   "cell_type": "code",
   "execution_count": 3,
   "metadata": {},
   "outputs": [
    {
     "name": "stderr",
     "output_type": "stream",
     "text": [
      "2025-02-13 13:23:36,959 - INFO - 83dfc68f1e9aa2fb1e350aa8dc5b8676 GetAccounts\n"
     ]
    },
    {
     "data": {
      "text/plain": [
       "[Account(id='0101be77-5526-47f3-8915-f70cc3fc8145', type=<AccountType.ACCOUNT_TYPE_TINKOFF: 1>, name='lerochka', status=<AccountStatus.ACCOUNT_STATUS_OPEN: 2>, opened_date=datetime.datetime(2025, 2, 13, 9, 56, 19, 605822, tzinfo=datetime.timezone.utc), closed_date=datetime.datetime(1970, 1, 1, 0, 0, tzinfo=datetime.timezone.utc), access_level=<AccessLevel.ACCOUNT_ACCESS_LEVEL_FULL_ACCESS: 1>),\n",
       " Account(id='b4bd7c8d-628f-4c28-99fd-e9181009b5f6', type=<AccountType.ACCOUNT_TYPE_TINKOFF: 1>, name='lerochka', status=<AccountStatus.ACCOUNT_STATUS_OPEN: 2>, opened_date=datetime.datetime(2025, 2, 13, 9, 56, 56, 987993, tzinfo=datetime.timezone.utc), closed_date=datetime.datetime(1970, 1, 1, 0, 0, tzinfo=datetime.timezone.utc), access_level=<AccessLevel.ACCOUNT_ACCESS_LEVEL_FULL_ACCESS: 1>),\n",
       " Account(id='dd0ea7a9-9548-41cb-91bb-5e5d47d09ec7', type=<AccountType.ACCOUNT_TYPE_TINKOFF: 1>, name='lerochka', status=<AccountStatus.ACCOUNT_STATUS_OPEN: 2>, opened_date=datetime.datetime(2025, 2, 13, 10, 1, 53, 427098, tzinfo=datetime.timezone.utc), closed_date=datetime.datetime(1970, 1, 1, 0, 0, tzinfo=datetime.timezone.utc), access_level=<AccessLevel.ACCOUNT_ACCESS_LEVEL_FULL_ACCESS: 1>)]"
      ]
     },
     "execution_count": 3,
     "metadata": {},
     "output_type": "execute_result"
    }
   ],
   "source": [
    "await get_accounts()"
   ]
  },
  {
   "cell_type": "code",
   "execution_count": 4,
   "metadata": {},
   "outputs": [
    {
     "name": "stderr",
     "output_type": "stream",
     "text": [
      "2025-02-13 13:23:37,907 - INFO - 8a701834bd11c028b0a608467255e174 GetAccounts\n",
      "2025-02-13 13:23:38,352 - INFO - 91979aacdbde1f933e9311f8bcbdfc54 CloseSandboxAccount\n",
      "2025-02-13 13:23:38,611 - INFO - 60cc3833d12e9065f831af88f0496572 CloseSandboxAccount\n",
      "2025-02-13 13:23:38,745 - INFO - c14f5ebf86a5471491663eff6356ab47 CloseSandboxAccount\n"
     ]
    }
   ],
   "source": [
    "await close_all_accs()"
   ]
  },
  {
   "cell_type": "code",
   "execution_count": 5,
   "metadata": {},
   "outputs": [
    {
     "name": "stderr",
     "output_type": "stream",
     "text": [
      "2025-02-13 13:23:39,675 - INFO - 9cd4f0f67c491f6ee0c0f74371bfdf3c OpenSandboxAccount\n",
      "2025-02-13 13:23:39,865 - INFO - e9f0a80065f02e8d653f47721fd31a1b SandboxPayIn\n"
     ]
    },
    {
     "data": {
      "text/plain": [
       "('cde6fb68-549e-4b7c-adff-23514d564c08',\n",
       " SandboxPayInResponse(balance=MoneyValue(currency='rub', units=10000, nano=0)))"
      ]
     },
     "execution_count": 5,
     "metadata": {},
     "output_type": "execute_result"
    }
   ],
   "source": [
    "await open_account(name=\"lerochka\")"
   ]
  },
  {
   "cell_type": "code",
   "execution_count": 6,
   "metadata": {},
   "outputs": [
    {
     "name": "stderr",
     "output_type": "stream",
     "text": [
      "2025-02-13 13:23:41,901 - INFO - 1b76822b6d4b02c68c20ea91de2f3c34 FindInstrument\n"
     ]
    },
    {
     "data": {
      "text/plain": [
       "[InstrumentShort(isin='', figi='FUTYDEX03250', ticker='YDH5', class_code='SPBFUT', instrument_type='futures', name='YDEX-3.25 Яндекс', uid='95db48f9-f268-431b-8439-181d77375b4e', position_uid='1fa4eb9b-9c04-4469-b2dc-740b771f01bd', instrument_kind=<InstrumentType.INSTRUMENT_TYPE_FUTURES: 5>, api_trade_available_flag=True, for_iis_flag=True, first_1min_candle_date=datetime.datetime(2024, 9, 13, 12, 3, tzinfo=datetime.timezone.utc), first_1day_candle_date=datetime.datetime(2024, 9, 13, 0, 0, tzinfo=datetime.timezone.utc), for_qual_investor_flag=False, weekend_flag=False, blocked_tca_flag=False, lot=1),\n",
       " InstrumentShort(isin='', figi='FUTYDEX09240', ticker='YDU4', class_code='SPBFUT', instrument_type='futures', name='YDEX-9.24 Яндекс', uid='ccdba46f-9383-4f9f-bcfc-a7c47e23a277', position_uid='1fa26971-ada5-4ba7-97af-d445ce435862', instrument_kind=<InstrumentType.INSTRUMENT_TYPE_FUTURES: 5>, api_trade_available_flag=False, for_iis_flag=True, first_1min_candle_date=datetime.datetime(1970, 1, 1, 0, 0, tzinfo=datetime.timezone.utc), first_1day_candle_date=datetime.datetime(1970, 1, 1, 0, 0, tzinfo=datetime.timezone.utc), for_qual_investor_flag=False, weekend_flag=False, blocked_tca_flag=False, lot=1),\n",
       " InstrumentShort(isin='', figi='FUTYDEX12240', ticker='YDZ4', class_code='SPBFUT', instrument_type='futures', name='YDEX-12.24 Яндекс', uid='6ea0c525-3c96-41a1-bcef-af53c50e2b5a', position_uid='1fa329b2-cc38-410d-9182-f719eb6b3723', instrument_kind=<InstrumentType.INSTRUMENT_TYPE_FUTURES: 5>, api_trade_available_flag=False, for_iis_flag=True, first_1min_candle_date=datetime.datetime(1970, 1, 1, 0, 0, tzinfo=datetime.timezone.utc), first_1day_candle_date=datetime.datetime(1970, 1, 1, 0, 0, tzinfo=datetime.timezone.utc), for_qual_investor_flag=False, weekend_flag=False, blocked_tca_flag=False, lot=1),\n",
       " InstrumentShort(isin='RU000A107T19', figi='TCS00A107T19', ticker='YDEX', class_code='TQBR', instrument_type='share', name='Яндекс', uid='7de75794-a27f-4d81-a39b-492345813822', position_uid='205a3042-12d0-4b21-ae8a-7764ff2260cc', instrument_kind=<InstrumentType.INSTRUMENT_TYPE_SHARE: 2>, api_trade_available_flag=True, for_iis_flag=True, first_1min_candle_date=datetime.datetime(2018, 3, 7, 18, 38, tzinfo=datetime.timezone.utc), first_1day_candle_date=datetime.datetime(2014, 6, 4, 7, 0, tzinfo=datetime.timezone.utc), for_qual_investor_flag=False, weekend_flag=True, blocked_tca_flag=False, lot=1),\n",
       " InstrumentShort(isin='', figi='FUTYDEX06250', ticker='YDM5', class_code='SPBFUT', instrument_type='futures', name='YDEX-6.25 Яндекс', uid='ce4e6f80-b124-4897-9b58-4a9398121258', position_uid='1fa5a9cf-ace2-42f1-b16e-c893e0966dbc', instrument_kind=<InstrumentType.INSTRUMENT_TYPE_FUTURES: 5>, api_trade_available_flag=True, for_iis_flag=True, first_1min_candle_date=datetime.datetime(2024, 12, 10, 17, 45, tzinfo=datetime.timezone.utc), first_1day_candle_date=datetime.datetime(2024, 12, 10, 0, 0, tzinfo=datetime.timezone.utc), for_qual_investor_flag=False, weekend_flag=False, blocked_tca_flag=False, lot=1)]"
      ]
     },
     "execution_count": 6,
     "metadata": {},
     "output_type": "execute_result"
    }
   ],
   "source": [
    "await find_instrument(\"YDEX\")"
   ]
  },
  {
   "cell_type": "code",
   "execution_count": 7,
   "metadata": {},
   "outputs": [],
   "source": [
    "train_args = {\"iterations\" : 3000, \n",
    "        \"depth\" : 5, \n",
    "        \"learning_rate\" : 0.01, \n",
    "        \"use_best_model\" : True, \n",
    "        \"l2_leaf_reg\" : 3,\n",
    "        \"loss_function\" : 'Logloss', \n",
    "        \"eval_metric\" : 'Logloss', \n",
    "        \"cat_features\" : [], \n",
    "        \"random_state\" : 42,\n",
    "        \"verbose\" : 0,\n",
    "        \"early_stopping_rounds\" : 1000}\n",
    "\n",
    "\n",
    "w1 = [1, 2, 3, 4, 5, 6, 7]\n",
    "w2 = [2, 4, 6, 8, 10, 18, 30]\n",
    "\n",
    "feature_settings = {\n",
    "    \"shifts_norms\" : w1, \n",
    "    \"ma\" : w2, \n",
    "    \"ema\" : w2, \n",
    "    \"boll\" : 1, \n",
    "    \"rsi\" : 1, \n",
    "    \"hl_diff\" : 1, \n",
    "    \"stoch_ocs\" : 1, \n",
    "    \"rand_pred\" : 1,\n",
    "}\n"
   ]
  },
  {
   "cell_type": "code",
   "execution_count": 8,
   "metadata": {},
   "outputs": [],
   "source": [
    "import datetime as dt"
   ]
  },
  {
   "cell_type": "code",
   "execution_count": null,
   "metadata": {},
   "outputs": [
    {
     "name": "stderr",
     "output_type": "stream",
     "text": [
      "2025-02-13 13:23:43,582 - INFO - Начало загрузки данных для обучения модели\n",
      "2025-02-13 13:23:44,023 - INFO - c679491eb782a1b382849073a5a72333 GetCandles\n",
      "2025-02-13 13:23:44,191 - INFO - 2ffa6958e040d7c321b07c1971f642c1 GetCandles\n",
      "2025-02-13 13:23:44,352 - INFO - 7690539c4a413dbaf4f8cdbc14a80c10 GetCandles\n",
      "2025-02-13 13:23:44,595 - INFO - 77d3175117e5bc5386eb7658e9efc6c6 GetCandles\n",
      "2025-02-13 13:23:44,780 - INFO - 12105dec0c516d608a2647caf83cdf8a GetCandles\n",
      "2025-02-13 13:23:44,947 - INFO - d62f64ecaffc8a50e12f274df09871fa GetCandles\n",
      "2025-02-13 13:23:45,107 - INFO - 7be4de11e8aec4a19e6278f0c0ff1243 GetCandles\n",
      "2025-02-13 13:23:45,261 - INFO - 540c5ae000d21dc5d66dd7f19cf53b8c GetCandles\n",
      "2025-02-13 13:23:45,430 - INFO - 3143b3473f555aeb5b88b062ed778756 GetCandles\n",
      "2025-02-13 13:23:45,718 - INFO - 6d626e0215f2b4c1e2c12708ac3f21da GetCandles\n",
      "2025-02-13 13:23:45,885 - INFO - 3a02422990e1baf83318155b0eda5f0f GetCandles\n",
      "2025-02-13 13:23:46,073 - INFO - 0ebaba2d26c019a552610be686104209 GetCandles\n",
      "2025-02-13 13:23:46,345 - INFO - eac5e2541f997b170f729e5f2c7016f3 GetCandles\n",
      "2025-02-13 13:23:46,773 - INFO - 36d4c0f12eb9051e64e936f6cc12daa3 GetCandles\n",
      "2025-02-13 13:23:46,971 - INFO - 3ec96f9aaf0186d77518d842e00b0edc GetCandles\n",
      "2025-02-13 13:23:47,169 - INFO - c1c05d136d59a1234d8794f54ead4525 GetCandles\n",
      "2025-02-13 13:23:47,345 - INFO - c486a59ba54b5e166b99498dfa07c066 GetCandles\n",
      "2025-02-13 13:23:47,511 - INFO - a48e605475244eadfcd87d17cf2a2d3c GetCandles\n",
      "2025-02-13 13:23:47,671 - INFO - 17fda2009d607315459744a37299c928 GetCandles\n",
      "2025-02-13 13:23:47,859 - INFO - 0f36dc60bb503ce6df9bb29df659adf6 GetCandles\n",
      "2025-02-13 13:23:48,086 - INFO - 59527f667b9d4c767295c6028e29f617 GetCandles\n",
      "2025-02-13 13:23:48,337 - INFO - b4a4ec238c91ad3ca15bd00972a2a2fb GetCandles\n",
      "2025-02-13 13:23:48,843 - INFO - a57baf95c9041435b6af5d6d30519d01 GetCandles\n",
      "2025-02-13 13:23:49,114 - INFO - 65095b0f4462d9e67d4c579a8db38d6b GetCandles\n",
      "2025-02-13 13:23:49,282 - INFO - 3d161340443271ea05f4febd1e14013c GetCandles\n",
      "2025-02-13 13:23:49,469 - INFO - bff78c0991ebf3e7cc13350a47998845 GetCandles\n",
      "2025-02-13 13:23:49,651 - INFO - dab3d4c1d5d3cf1c92bc3e44ad431681 GetCandles\n",
      "2025-02-13 13:23:49,827 - INFO - 93dcec7ff66a2d2a73f47c68d4dbd62b GetCandles\n",
      "2025-02-13 13:23:50,062 - INFO - d62a08612765540b909143203a9971f9 GetCandles\n",
      "2025-02-13 13:23:50,244 - INFO - 371075d0ededf146778d2aa3bc3e5c42 GetCandles\n",
      "2025-02-13 13:23:50,474 - INFO - 1f07f3e7deb48673ac848a5c16844283 GetCandles\n",
      "2025-02-13 13:23:50,694 - INFO - e2dc5f965a0611ad89fd50e007f0f9ab GetCandles\n",
      "2025-02-13 13:23:50,812 - INFO - 6e71bdaa279f02cce1f2e857d831f517 GetCandles\n",
      "2025-02-13 13:23:50,975 - INFO - 1a2b45587360a172ad1f310a367a3ef6 GetCandles\n",
      "2025-02-13 13:23:51,197 - INFO - 486099903cb25a67fa91132e2826f6c0 GetCandles\n",
      "2025-02-13 13:23:51,420 - INFO - 7a16fb76f18a86052f28c8c0d23f92db GetCandles\n",
      "2025-02-13 13:23:51,737 - INFO - 84a3aeb76da331de22ad99ea6f8e2409 GetCandles\n",
      "2025-02-13 13:23:51,942 - INFO - 7f010981f9ebed3ec4e9ae4006e7694d GetCandles\n",
      "2025-02-13 13:23:52,137 - INFO - 0769ac3083c8e9fe98e3a36359715427 GetCandles\n",
      "2025-02-13 13:23:52,307 - INFO - da7b5d9595f05a63724470f79f538388 GetCandles\n",
      "2025-02-13 13:23:52,485 - INFO - 7e361e0578b0d8352d8af4bf9a1f3925 GetCandles\n",
      "2025-02-13 13:23:52,700 - INFO - ffc2c887944f96aca004cc767af1721e GetCandles\n",
      "2025-02-13 13:23:52,953 - INFO - e1a88e40e0a11c2e4b80c9b1c9075630 GetCandles\n",
      "2025-02-13 13:23:53,126 - INFO - ee0ccd3424045013377f2745e7d25a0d GetCandles\n",
      "2025-02-13 13:23:53,316 - INFO - 79d77b9777219680883dac05ef3ff0f9 GetCandles\n",
      "2025-02-13 13:23:53,485 - INFO - eb569cc7020cd381ec50e5ee5cbe442f GetCandles\n",
      "2025-02-13 13:23:53,655 - INFO - d557b22ea84dca0604aceb3dd595ac28 GetCandles\n",
      "2025-02-13 13:23:53,823 - INFO - 68854b89929e8ce88fc59529ac01092e GetCandles\n",
      "2025-02-13 13:23:54,043 - INFO - 294babf091ee528945f749c53cdddd76 GetCandles\n",
      "2025-02-13 13:23:54,260 - INFO - 814d43a959ed5b93421f190717890cf9 GetCandles\n",
      "2025-02-13 13:23:54,447 - INFO - 0f1eed67d51b98c26023957829b06a7f GetCandles\n",
      "2025-02-13 13:23:54,612 - INFO - 884bbb94f412f43b16b5708655dc3f9e GetCandles\n",
      "2025-02-13 13:23:54,788 - INFO - 59549b90dcadff52da02f964072e4215 GetCandles\n",
      "2025-02-13 13:23:54,957 - INFO - d66058f25eb093b5db7650410bfe8e80 GetCandles\n",
      "2025-02-13 13:23:55,143 - INFO - 64ade0d29d240abc336361183e8bff78 GetCandles\n",
      "2025-02-13 13:23:55,369 - INFO - 3074e637118b2e9cfac9b043da0f0fd3 GetCandles\n",
      "2025-02-13 13:23:55,602 - INFO - c0ecfd2f900250f5593c98f8ff03b313 GetCandles\n",
      "2025-02-13 13:23:55,772 - INFO - b274c6dc7908938f443c818ca1e46015 GetCandles\n",
      "2025-02-13 13:23:55,950 - INFO - a0b7da1d8d7b03f7b52424fe2c7ec0fb GetCandles\n",
      "2025-02-13 13:23:56,118 - INFO - b947768b1ff9ca486db8fb5062f5bf98 GetCandles\n",
      "2025-02-13 13:23:56,305 - INFO - fe4118b5bdf60c8bbfafe0199bbfef27 GetCandles\n",
      "2025-02-13 13:23:56,489 - INFO - 766b4dcf2d1f1e3841b2a0073272bff1 GetCandles\n",
      "2025-02-13 13:23:56,722 - INFO - 986cd47984d51e031b8b2b038c1283e1 GetCandles\n",
      "2025-02-13 13:23:56,932 - INFO - 3ff4b8736914941eacc8cd555fd26685 GetCandles\n",
      "2025-02-13 13:23:57,131 - INFO - 2f9b988b8dce3f8b4cc1a6045d1a5327 GetCandles\n",
      "2025-02-13 13:23:57,306 - INFO - 45c29ed45375c4ae6727c550a72b28bd GetCandles\n",
      "2025-02-13 13:23:57,486 - INFO - f1e10ef637e9ec9f96cb8d92e6609013 GetCandles\n",
      "2025-02-13 13:23:57,666 - INFO - 5f1174112202e4226162435b2a9e2d63 GetCandles\n",
      "2025-02-13 13:23:57,918 - INFO - 2b5a24828987830d4d3572909957f5a6 GetCandles\n",
      "2025-02-13 13:23:58,185 - INFO - e17529008e4269a12f987549f7f839b9 GetCandles\n",
      "2025-02-13 13:23:58,422 - INFO - 64b2065ef73ba150c5693367e2fb8d01 GetCandles\n",
      "2025-02-13 13:23:58,606 - INFO - 73648cd039677d20a447b31fdb3f19ae GetCandles\n",
      "2025-02-13 13:23:58,781 - INFO - 3fc0fc2b7d9ac2d47a0c62a6532efd66 GetCandles\n",
      "2025-02-13 13:23:58,957 - INFO - 548e3cbcc767d2ff8ca87900cc6ef20e GetCandles\n",
      "2025-02-13 13:23:59,126 - INFO - abf65c956b8cdf32e7617c14ae36373d GetCandles\n",
      "2025-02-13 13:24:16,531 - INFO - Собрано 7828 свечей\n",
      "2025-02-13 13:24:16,547 - INFO - Данные успешно загружены и обработаны\n",
      "2025-02-13 13:24:16,547 - INFO - Начало обучения модели\n",
      "2025-02-13 13:24:44,072 - INFO - Обучение модели завершено\n",
      "2025-02-13 13:24:44,072 - INFO - Запуск торгов в песочнице\n",
      "2025-02-13 13:24:44,626 - INFO - 831bf36784e7339e049ea539c98f4fa5 OpenSandboxAccount\n",
      "2025-02-13 13:24:44,833 - INFO - 78f8d4b6d93671c5db95956f76f74ce1 SandboxPayIn\n",
      "2025-02-13 13:24:44,838 - INFO - Создан аккаунт df8e001c-79ae-4fc6-9920-9816fd6aca3f, пополнен на 10000.0\n",
      "2025-02-13 13:24:44,842 - INFO - Торги начинаются: 2025-02-13 13:24:44.842146 / Завершение: 2025-02-13 14:20:00\n",
      "2025-02-13 13:24:44,845 - INFO - Ждем 315.16 секунд до 13:30:00...\n",
      "2025-02-13 13:30:00,002 - INFO - Начинаем новый торговый цикл\n",
      "2025-02-13 13:30:01,026 - INFO - ba3bf70642a6715105c50a52a019b538 GetCandles\n",
      "2025-02-13 13:30:16,906 - INFO - Предсказание модели: [1]\n",
      "2025-02-13 13:30:17,347 - INFO - bc97b3d0836cebb69d43452f70e9b6d5 GetPortfolio\n",
      "2025-02-13 13:30:17,945 - INFO - a2af4d14962f50ccb899481c52fb5fb2 PostOrder\n",
      "2025-02-13 13:30:17,952 - INFO - Куплена акция: PostOrderResponse(order_id='68a25646-62df-4502-82b5-9c6a4b5b1846', execution_report_status=<OrderExecutionReportStatus.EXECUTION_REPORT_STATUS_FILL: 1>, lots_requested=2, lots_executed=2, initial_order_price=MoneyValue(currency='rub', units=9061, nano=0), executed_order_price=MoneyValue(currency='rub', units=4530, nano=500000000), total_order_amount=MoneyValue(currency='rub', units=9061, nano=0), initial_commission=MoneyValue(currency='rub', units=4, nano=530500000), executed_commission=MoneyValue(currency='rub', units=4, nano=530500000), aci_value=MoneyValue(currency='', units=0, nano=0), figi='TCS00A107T19', direction=<OrderDirection.ORDER_DIRECTION_BUY: 1>, initial_security_price=MoneyValue(currency='rub', units=4530, nano=500000000), order_type=<OrderType.ORDER_TYPE_MARKET: 2>, message='', initial_order_price_pt=Quotation(units=0, nano=0), instrument_uid='7de75794-a27f-4d81-a39b-492345813822', order_request_id='22995858-5456-48eb-be18-39839c98fc58', response_metadata=ResponseMetadata(tracking_id='a2af4d14962f50ccb899481c52fb5fb2', server_time=datetime.datetime(2025, 2, 13, 10, 30, 17, 866599, tzinfo=datetime.timezone.utc)))\n",
      "2025-02-13 13:30:17,955 - INFO - Ждем 582.04 секунд до 13:40:00...\n",
      "2025-02-13 13:40:00,001 - INFO - Начинаем новый торговый цикл\n",
      "2025-02-13 13:40:00,002 - INFO - <coroutine object get_money_on_acc at 0x000001E5220B63E0>\n",
      "c:\\Users\\Валерия\\OneDrive\\Документы\\GitHub\\prices-predictions\\backtests\\t_api_tests.py:190: RuntimeWarning: coroutine 'get_money_on_acc' was never awaited\n",
      "  logging.info(get_money_on_acc(acc_id))\n",
      "RuntimeWarning: Enable tracemalloc to get the object allocation traceback\n",
      "2025-02-13 13:40:00,016 - INFO - {'inst_id': 'TCS00A107T19', 'quant': 2, 'dur': 'buy'}\n",
      "2025-02-13 13:40:00,552 - INFO - 7d41e873fd86be535faafa0ef01a56d5 PostOrder\n",
      "2025-02-13 13:40:00,558 - INFO - Продана акция: PostOrderResponse(order_id='de328b81-ed52-4c66-9c6d-ee4bab800c7d', execution_report_status=<OrderExecutionReportStatus.EXECUTION_REPORT_STATUS_FILL: 1>, lots_requested=2, lots_executed=2, initial_order_price=MoneyValue(currency='rub', units=9060, nano=0), executed_order_price=MoneyValue(currency='rub', units=4530, nano=0), total_order_amount=MoneyValue(currency='rub', units=9060, nano=0), initial_commission=MoneyValue(currency='rub', units=4, nano=530000000), executed_commission=MoneyValue(currency='rub', units=4, nano=530000000), aci_value=MoneyValue(currency='', units=0, nano=0), figi='TCS00A107T19', direction=<OrderDirection.ORDER_DIRECTION_SELL: 2>, initial_security_price=MoneyValue(currency='rub', units=4530, nano=0), order_type=<OrderType.ORDER_TYPE_MARKET: 2>, message='', initial_order_price_pt=Quotation(units=0, nano=0), instrument_uid='7de75794-a27f-4d81-a39b-492345813822', order_request_id='9fcfb290-84c0-4218-8daf-392299dbaf67', response_metadata=ResponseMetadata(tracking_id='7d41e873fd86be535faafa0ef01a56d5', server_time=datetime.datetime(2025, 2, 13, 10, 40, 0, 489653, tzinfo=datetime.timezone.utc)))\n",
      "2025-02-13 13:40:01,520 - INFO - fdb7d6615508d657dbed802fd86d9e35 GetCandles\n",
      "2025-02-13 13:40:17,484 - INFO - Предсказание модели: [1]\n",
      "2025-02-13 13:40:17,992 - INFO - 51984358d88d51f41b93fc78c70e4254 GetPortfolio\n",
      "2025-02-13 13:40:18,484 - INFO - 3772453c934515cd847a8ab63c97426b PostOrder\n",
      "2025-02-13 13:40:18,491 - INFO - Куплена акция: PostOrderResponse(order_id='c06d54cb-de72-4a38-946d-e644b4e71e8a', execution_report_status=<OrderExecutionReportStatus.EXECUTION_REPORT_STATUS_FILL: 1>, lots_requested=2, lots_executed=2, initial_order_price=MoneyValue(currency='rub', units=9052, nano=0), executed_order_price=MoneyValue(currency='rub', units=4526, nano=0), total_order_amount=MoneyValue(currency='rub', units=9052, nano=0), initial_commission=MoneyValue(currency='rub', units=4, nano=526000000), executed_commission=MoneyValue(currency='rub', units=4, nano=526000000), aci_value=MoneyValue(currency='', units=0, nano=0), figi='TCS00A107T19', direction=<OrderDirection.ORDER_DIRECTION_BUY: 1>, initial_security_price=MoneyValue(currency='rub', units=4526, nano=0), order_type=<OrderType.ORDER_TYPE_MARKET: 2>, message='', initial_order_price_pt=Quotation(units=0, nano=0), instrument_uid='7de75794-a27f-4d81-a39b-492345813822', order_request_id='8ece736d-3af8-4ccc-9c86-cc46fe9dfeed', response_metadata=ResponseMetadata(tracking_id='3772453c934515cd847a8ab63c97426b', server_time=datetime.datetime(2025, 2, 13, 10, 40, 18, 421763, tzinfo=datetime.timezone.utc)))\n",
      "2025-02-13 13:40:18,493 - INFO - Ждем 581.51 секунд до 13:50:00...\n",
      "2025-02-13 13:50:00,003 - INFO - Начинаем новый торговый цикл\n",
      "2025-02-13 13:50:00,007 - INFO - <coroutine object get_money_on_acc at 0x000001E5220B7790>\n",
      "c:\\Users\\Валерия\\OneDrive\\Документы\\GitHub\\prices-predictions\\backtests\\t_api_tests.py:190: RuntimeWarning: coroutine 'get_money_on_acc' was never awaited\n",
      "  logging.info(get_money_on_acc(acc_id))\n",
      "RuntimeWarning: Enable tracemalloc to get the object allocation traceback\n",
      "2025-02-13 13:50:00,010 - INFO - {'inst_id': 'TCS00A107T19', 'quant': 2, 'dur': 'buy'}\n",
      "2025-02-13 13:50:00,683 - INFO - e02fa00e8178b14af32a1bd6f6105acb PostOrder\n",
      "2025-02-13 13:50:00,689 - INFO - Продана акция: PostOrderResponse(order_id='13d7992d-6170-4bb7-9c60-d4ecddf3f86d', execution_report_status=<OrderExecutionReportStatus.EXECUTION_REPORT_STATUS_FILL: 1>, lots_requested=2, lots_executed=2, initial_order_price=MoneyValue(currency='rub', units=9041, nano=0), executed_order_price=MoneyValue(currency='rub', units=4520, nano=500000000), total_order_amount=MoneyValue(currency='rub', units=9041, nano=0), initial_commission=MoneyValue(currency='rub', units=4, nano=520500000), executed_commission=MoneyValue(currency='rub', units=4, nano=520500000), aci_value=MoneyValue(currency='', units=0, nano=0), figi='TCS00A107T19', direction=<OrderDirection.ORDER_DIRECTION_SELL: 2>, initial_security_price=MoneyValue(currency='rub', units=4520, nano=500000000), order_type=<OrderType.ORDER_TYPE_MARKET: 2>, message='', initial_order_price_pt=Quotation(units=0, nano=0), instrument_uid='7de75794-a27f-4d81-a39b-492345813822', order_request_id='a95139cd-238b-4918-9182-d5f6cbacfedb', response_metadata=ResponseMetadata(tracking_id='e02fa00e8178b14af32a1bd6f6105acb', server_time=datetime.datetime(2025, 2, 13, 10, 50, 0, 622980, tzinfo=datetime.timezone.utc)))\n",
      "2025-02-13 13:50:01,631 - INFO - a811f139f2251a20d9df88aaaf061f30 GetCandles\n",
      "2025-02-13 13:50:17,454 - INFO - Предсказание модели: [1]\n",
      "2025-02-13 13:50:18,024 - INFO - 3294c4926cc89e05ab987655d95190b1 GetPortfolio\n",
      "2025-02-13 13:50:18,583 - INFO - b7ca8bcb5463a564ed88d6dcd870272c PostOrder\n",
      "2025-02-13 13:50:18,589 - INFO - Куплена акция: PostOrderResponse(order_id='c657dd36-5cfe-4b5f-b4da-d79491c42f53', execution_report_status=<OrderExecutionReportStatus.EXECUTION_REPORT_STATUS_FILL: 1>, lots_requested=2, lots_executed=2, initial_order_price=MoneyValue(currency='rub', units=9050, nano=0), executed_order_price=MoneyValue(currency='rub', units=4525, nano=0), total_order_amount=MoneyValue(currency='rub', units=9050, nano=0), initial_commission=MoneyValue(currency='rub', units=4, nano=525000000), executed_commission=MoneyValue(currency='rub', units=4, nano=525000000), aci_value=MoneyValue(currency='', units=0, nano=0), figi='TCS00A107T19', direction=<OrderDirection.ORDER_DIRECTION_BUY: 1>, initial_security_price=MoneyValue(currency='rub', units=4525, nano=0), order_type=<OrderType.ORDER_TYPE_MARKET: 2>, message='', initial_order_price_pt=Quotation(units=0, nano=0), instrument_uid='7de75794-a27f-4d81-a39b-492345813822', order_request_id='e2afbff1-bbf3-4d79-9e73-3243cd2be5fe', response_metadata=ResponseMetadata(tracking_id='b7ca8bcb5463a564ed88d6dcd870272c', server_time=datetime.datetime(2025, 2, 13, 10, 50, 18, 523705, tzinfo=datetime.timezone.utc)))\n",
      "2025-02-13 13:50:18,592 - INFO - Ждем 581.41 секунд до 14:00:00...\n",
      "2025-02-13 14:00:00,001 - INFO - Начинаем новый торговый цикл\n",
      "2025-02-13 14:00:00,004 - INFO - <coroutine object get_money_on_acc at 0x000001E5220B7790>\n",
      "c:\\Users\\Валерия\\OneDrive\\Документы\\GitHub\\prices-predictions\\backtests\\t_api_tests.py:190: RuntimeWarning: coroutine 'get_money_on_acc' was never awaited\n",
      "  logging.info(get_money_on_acc(acc_id))\n",
      "RuntimeWarning: Enable tracemalloc to get the object allocation traceback\n",
      "2025-02-13 14:00:00,004 - INFO - {'inst_id': 'TCS00A107T19', 'quant': 2, 'dur': 'buy'}\n",
      "2025-02-13 14:00:00,562 - INFO - 4c7297b15107569f8aa7cbb3e9d5bc2f PostOrder\n",
      "2025-02-13 14:00:00,569 - INFO - Продана акция: PostOrderResponse(order_id='22540893-ebcd-4d07-9abe-8212d4bad2f2', execution_report_status=<OrderExecutionReportStatus.EXECUTION_REPORT_STATUS_FILL: 1>, lots_requested=2, lots_executed=2, initial_order_price=MoneyValue(currency='rub', units=8992, nano=0), executed_order_price=MoneyValue(currency='rub', units=4496, nano=0), total_order_amount=MoneyValue(currency='rub', units=8992, nano=0), initial_commission=MoneyValue(currency='rub', units=4, nano=496000000), executed_commission=MoneyValue(currency='rub', units=4, nano=496000000), aci_value=MoneyValue(currency='', units=0, nano=0), figi='TCS00A107T19', direction=<OrderDirection.ORDER_DIRECTION_SELL: 2>, initial_security_price=MoneyValue(currency='rub', units=4496, nano=0), order_type=<OrderType.ORDER_TYPE_MARKET: 2>, message='', initial_order_price_pt=Quotation(units=0, nano=0), instrument_uid='7de75794-a27f-4d81-a39b-492345813822', order_request_id='e1791f7c-5017-479c-bf2f-400429535570', response_metadata=ResponseMetadata(tracking_id='4c7297b15107569f8aa7cbb3e9d5bc2f', server_time=datetime.datetime(2025, 2, 13, 11, 0, 0, 500254, tzinfo=datetime.timezone.utc)))\n",
      "2025-02-13 14:00:01,608 - INFO - 29aa90adc2dd3d499aeaaebeae634a74 GetCandles\n",
      "2025-02-13 14:00:18,652 - INFO - Предсказание модели: [1]\n",
      "2025-02-13 14:00:19,131 - INFO - cbf26ea156e5ef1f12688c740e932997 GetPortfolio\n",
      "2025-02-13 14:00:19,602 - INFO - afd2bd81b9a8d7ca7a0d64cd0e986360 PostOrder\n",
      "2025-02-13 14:00:19,608 - INFO - Куплена акция: PostOrderResponse(order_id='a4a091f1-8b5b-4752-b3cf-00b8daee477f', execution_report_status=<OrderExecutionReportStatus.EXECUTION_REPORT_STATUS_FILL: 1>, lots_requested=2, lots_executed=2, initial_order_price=MoneyValue(currency='rub', units=8996, nano=0), executed_order_price=MoneyValue(currency='rub', units=4498, nano=0), total_order_amount=MoneyValue(currency='rub', units=8996, nano=0), initial_commission=MoneyValue(currency='rub', units=4, nano=498000000), executed_commission=MoneyValue(currency='rub', units=4, nano=498000000), aci_value=MoneyValue(currency='', units=0, nano=0), figi='TCS00A107T19', direction=<OrderDirection.ORDER_DIRECTION_BUY: 1>, initial_security_price=MoneyValue(currency='rub', units=4498, nano=0), order_type=<OrderType.ORDER_TYPE_MARKET: 2>, message='', initial_order_price_pt=Quotation(units=0, nano=0), instrument_uid='7de75794-a27f-4d81-a39b-492345813822', order_request_id='c99e6e8f-a3bd-4c6f-bc52-a8d5fddf79f1', response_metadata=ResponseMetadata(tracking_id='afd2bd81b9a8d7ca7a0d64cd0e986360', server_time=datetime.datetime(2025, 2, 13, 11, 0, 19, 543639, tzinfo=datetime.timezone.utc)))\n",
      "2025-02-13 14:00:19,610 - INFO - Ждем 580.39 секунд до 14:10:00...\n",
      "2025-02-13 14:10:00,002 - INFO - Начинаем новый торговый цикл\n",
      "2025-02-13 14:10:00,002 - INFO - <coroutine object get_money_on_acc at 0x000001E5220B6E30>\n",
      "c:\\Users\\Валерия\\OneDrive\\Документы\\GitHub\\prices-predictions\\backtests\\t_api_tests.py:190: RuntimeWarning: coroutine 'get_money_on_acc' was never awaited\n",
      "  logging.info(get_money_on_acc(acc_id))\n",
      "RuntimeWarning: Enable tracemalloc to get the object allocation traceback\n",
      "2025-02-13 14:10:00,012 - INFO - {'inst_id': 'TCS00A107T19', 'quant': 2, 'dur': 'buy'}\n",
      "2025-02-13 14:10:00,562 - INFO - e79b1be43bf0f1d22f6058af5536a77e PostOrder\n",
      "2025-02-13 14:10:00,567 - INFO - Продана акция: PostOrderResponse(order_id='400a7dd6-3a16-402a-8906-95927507d516', execution_report_status=<OrderExecutionReportStatus.EXECUTION_REPORT_STATUS_FILL: 1>, lots_requested=2, lots_executed=2, initial_order_price=MoneyValue(currency='rub', units=8995, nano=0), executed_order_price=MoneyValue(currency='rub', units=4497, nano=500000000), total_order_amount=MoneyValue(currency='rub', units=8995, nano=0), initial_commission=MoneyValue(currency='rub', units=4, nano=497500000), executed_commission=MoneyValue(currency='rub', units=4, nano=497500000), aci_value=MoneyValue(currency='', units=0, nano=0), figi='TCS00A107T19', direction=<OrderDirection.ORDER_DIRECTION_SELL: 2>, initial_security_price=MoneyValue(currency='rub', units=4497, nano=500000000), order_type=<OrderType.ORDER_TYPE_MARKET: 2>, message='', initial_order_price_pt=Quotation(units=0, nano=0), instrument_uid='7de75794-a27f-4d81-a39b-492345813822', order_request_id='fd112cff-6cab-4e04-82f1-d99a4ef7b6a5', response_metadata=ResponseMetadata(tracking_id='e79b1be43bf0f1d22f6058af5536a77e', server_time=datetime.datetime(2025, 2, 13, 11, 10, 0, 479418, tzinfo=datetime.timezone.utc)))\n",
      "2025-02-13 14:10:01,698 - INFO - 6a7fc11b32b0f7a2879797c676e6d486 GetCandles\n",
      "2025-02-13 14:10:13,578 - INFO - Предсказание модели: [1]\n",
      "2025-02-13 14:10:14,108 - INFO - ef63b7ab06c545c345757a708d3ae683 GetPortfolio\n",
      "2025-02-13 14:10:14,602 - INFO - ac8a502605dc9940ce5d465df256b00b PostOrder\n",
      "2025-02-13 14:10:14,613 - INFO - Куплена акция: PostOrderResponse(order_id='b4802401-8b36-48b0-ae05-563c0145d540', execution_report_status=<OrderExecutionReportStatus.EXECUTION_REPORT_STATUS_FILL: 1>, lots_requested=2, lots_executed=2, initial_order_price=MoneyValue(currency='rub', units=8998, nano=0), executed_order_price=MoneyValue(currency='rub', units=4499, nano=0), total_order_amount=MoneyValue(currency='rub', units=8998, nano=0), initial_commission=MoneyValue(currency='rub', units=4, nano=499000000), executed_commission=MoneyValue(currency='rub', units=4, nano=499000000), aci_value=MoneyValue(currency='', units=0, nano=0), figi='TCS00A107T19', direction=<OrderDirection.ORDER_DIRECTION_BUY: 1>, initial_security_price=MoneyValue(currency='rub', units=4499, nano=0), order_type=<OrderType.ORDER_TYPE_MARKET: 2>, message='', initial_order_price_pt=Quotation(units=0, nano=0), instrument_uid='7de75794-a27f-4d81-a39b-492345813822', order_request_id='2cb9c01a-717b-473d-bcb3-18764a5af506', response_metadata=ResponseMetadata(tracking_id='ac8a502605dc9940ce5d465df256b00b', server_time=datetime.datetime(2025, 2, 13, 11, 10, 14, 542386, tzinfo=datetime.timezone.utc)))\n",
      "2025-02-13 14:10:14,618 - INFO - Ждем 585.38 секунд до 14:20:00...\n"
     ]
    }
   ],
   "source": [
    "trade_sets = {\n",
    "    'figi' : 'TCS00A107T19', \n",
    "    'lot' : 1, \n",
    "    'args' : train_args, \n",
    "    'start_date' : dt.datetime(2024, 12, 1),\n",
    "    'end_date' : dt.datetime(2025, 2, 13, 14, 20),\n",
    "    'features_sets' : feature_settings, \n",
    "    'train_size' : 3000, \n",
    "    'val_size' : 500\n",
    "}\n",
    "\n",
    "\n",
    "portfolio = await trade(**trade_sets)"
   ]
  }
 ],
 "metadata": {
  "kernelspec": {
   "display_name": "myenv",
   "language": "python",
   "name": "python3"
  },
  "language_info": {
   "codemirror_mode": {
    "name": "ipython",
    "version": 3
   },
   "file_extension": ".py",
   "mimetype": "text/x-python",
   "name": "python",
   "nbconvert_exporter": "python",
   "pygments_lexer": "ipython3",
   "version": "3.12.6"
  }
 },
 "nbformat": 4,
 "nbformat_minor": 2
}
