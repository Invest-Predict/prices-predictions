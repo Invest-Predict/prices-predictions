{
 "cells": [
  {
   "cell_type": "code",
   "execution_count": 3,
   "metadata": {},
   "outputs": [],
   "source": [
    "%reload_ext IPython.extensions.autoreload\n",
    "%autoreload 2"
   ]
  },
  {
   "cell_type": "code",
   "execution_count": 5,
   "metadata": {},
   "outputs": [
    {
     "name": "stderr",
     "output_type": "stream",
     "text": [
      "c:\\Users\\Валерия\\OneDrive\\Документы\\GitHub\\prices-predictions\\myenv\\Lib\\site-packages\\tqdm\\auto.py:21: TqdmWarning: IProgress not found. Please update jupyter and ipywidgets. See https://ipywidgets.readthedocs.io/en/stable/user_install.html\n",
      "  from .autonotebook import tqdm as notebook_tqdm\n"
     ]
    }
   ],
   "source": [
    "from t_api_tests import get_accounts, open_account, find_instrument, close_all_accs, trade, get_money_on_acc, convert_price"
   ]
  },
  {
   "cell_type": "code",
   "execution_count": 2,
   "metadata": {},
   "outputs": [
    {
     "ename": "NameError",
     "evalue": "name 'get_accounts' is not defined",
     "output_type": "error",
     "traceback": [
      "\u001b[1;31m---------------------------------------------------------------------------\u001b[0m",
      "\u001b[1;31mNameError\u001b[0m                                 Traceback (most recent call last)",
      "Cell \u001b[1;32mIn[2], line 1\u001b[0m\n\u001b[1;32m----> 1\u001b[0m \u001b[38;5;28;01mawait\u001b[39;00m \u001b[43mget_accounts\u001b[49m()\n",
      "\u001b[1;31mNameError\u001b[0m: name 'get_accounts' is not defined"
     ]
    }
   ],
   "source": [
    "await get_accounts()"
   ]
  },
  {
   "cell_type": "code",
   "execution_count": 13,
   "metadata": {},
   "outputs": [
    {
     "name": "stderr",
     "output_type": "stream",
     "text": [
      "2025-02-13 19:35:53,396 - INFO - 5bfa19f3b199ea8bb693b16becd7765c GetAccounts\n"
     ]
    }
   ],
   "source": [
    "await close_all_accs()"
   ]
  },
  {
   "cell_type": "code",
   "execution_count": 14,
   "metadata": {},
   "outputs": [
    {
     "name": "stderr",
     "output_type": "stream",
     "text": [
      "2025-02-13 19:35:54,495 - INFO - aba410af6d58b3431d85e0b28957edbf OpenSandboxAccount\n",
      "2025-02-13 19:35:54,634 - INFO - 5fe906499d0fecdc2395c3c1a3302f24 SandboxPayIn\n"
     ]
    },
    {
     "data": {
      "text/plain": [
       "('9bdc16bf-d4fb-4612-837e-edd88f90c339',\n",
       " SandboxPayInResponse(balance=MoneyValue(currency='rub', units=10000, nano=0)))"
      ]
     },
     "execution_count": 14,
     "metadata": {},
     "output_type": "execute_result"
    }
   ],
   "source": [
    "await open_account(name=\"lerochka\")"
   ]
  },
  {
   "cell_type": "code",
   "execution_count": 15,
   "metadata": {},
   "outputs": [
    {
     "name": "stderr",
     "output_type": "stream",
     "text": [
      "2025-02-13 19:35:55,997 - INFO - ce5ec48d3d957e7126e84f726d068b0d FindInstrument\n"
     ]
    },
    {
     "data": {
      "text/plain": [
       "[InstrumentShort(isin='', figi='FUTYDEX03250', ticker='YDH5', class_code='SPBFUT', instrument_type='futures', name='YDEX-3.25 Яндекс', uid='95db48f9-f268-431b-8439-181d77375b4e', position_uid='1fa4eb9b-9c04-4469-b2dc-740b771f01bd', instrument_kind=<InstrumentType.INSTRUMENT_TYPE_FUTURES: 5>, api_trade_available_flag=True, for_iis_flag=True, first_1min_candle_date=datetime.datetime(2024, 9, 13, 12, 3, tzinfo=datetime.timezone.utc), first_1day_candle_date=datetime.datetime(2024, 9, 13, 0, 0, tzinfo=datetime.timezone.utc), for_qual_investor_flag=False, weekend_flag=False, blocked_tca_flag=False, lot=1),\n",
       " InstrumentShort(isin='', figi='FUTYDEX09240', ticker='YDU4', class_code='SPBFUT', instrument_type='futures', name='YDEX-9.24 Яндекс', uid='ccdba46f-9383-4f9f-bcfc-a7c47e23a277', position_uid='1fa26971-ada5-4ba7-97af-d445ce435862', instrument_kind=<InstrumentType.INSTRUMENT_TYPE_FUTURES: 5>, api_trade_available_flag=False, for_iis_flag=True, first_1min_candle_date=datetime.datetime(1970, 1, 1, 0, 0, tzinfo=datetime.timezone.utc), first_1day_candle_date=datetime.datetime(1970, 1, 1, 0, 0, tzinfo=datetime.timezone.utc), for_qual_investor_flag=False, weekend_flag=False, blocked_tca_flag=False, lot=1),\n",
       " InstrumentShort(isin='', figi='FUTYDEX12240', ticker='YDZ4', class_code='SPBFUT', instrument_type='futures', name='YDEX-12.24 Яндекс', uid='6ea0c525-3c96-41a1-bcef-af53c50e2b5a', position_uid='1fa329b2-cc38-410d-9182-f719eb6b3723', instrument_kind=<InstrumentType.INSTRUMENT_TYPE_FUTURES: 5>, api_trade_available_flag=False, for_iis_flag=True, first_1min_candle_date=datetime.datetime(1970, 1, 1, 0, 0, tzinfo=datetime.timezone.utc), first_1day_candle_date=datetime.datetime(1970, 1, 1, 0, 0, tzinfo=datetime.timezone.utc), for_qual_investor_flag=False, weekend_flag=False, blocked_tca_flag=False, lot=1),\n",
       " InstrumentShort(isin='RU000A107T19', figi='TCS00A107T19', ticker='YDEX', class_code='TQBR', instrument_type='share', name='Яндекс', uid='7de75794-a27f-4d81-a39b-492345813822', position_uid='205a3042-12d0-4b21-ae8a-7764ff2260cc', instrument_kind=<InstrumentType.INSTRUMENT_TYPE_SHARE: 2>, api_trade_available_flag=True, for_iis_flag=True, first_1min_candle_date=datetime.datetime(2018, 3, 7, 18, 38, tzinfo=datetime.timezone.utc), first_1day_candle_date=datetime.datetime(2014, 6, 4, 7, 0, tzinfo=datetime.timezone.utc), for_qual_investor_flag=False, weekend_flag=True, blocked_tca_flag=False, lot=1),\n",
       " InstrumentShort(isin='', figi='FUTYDEX06250', ticker='YDM5', class_code='SPBFUT', instrument_type='futures', name='YDEX-6.25 Яндекс', uid='ce4e6f80-b124-4897-9b58-4a9398121258', position_uid='1fa5a9cf-ace2-42f1-b16e-c893e0966dbc', instrument_kind=<InstrumentType.INSTRUMENT_TYPE_FUTURES: 5>, api_trade_available_flag=True, for_iis_flag=True, first_1min_candle_date=datetime.datetime(2024, 12, 10, 17, 45, tzinfo=datetime.timezone.utc), first_1day_candle_date=datetime.datetime(2024, 12, 10, 0, 0, tzinfo=datetime.timezone.utc), for_qual_investor_flag=False, weekend_flag=False, blocked_tca_flag=False, lot=1)]"
      ]
     },
     "execution_count": 15,
     "metadata": {},
     "output_type": "execute_result"
    }
   ],
   "source": [
    "await find_instrument(\"YDEX\")"
   ]
  },
  {
   "cell_type": "code",
   "execution_count": 16,
   "metadata": {},
   "outputs": [],
   "source": [
    "train_args = {\"iterations\" : 3000, \n",
    "        \"depth\" : 5, \n",
    "        \"learning_rate\" : 0.01, \n",
    "        \"use_best_model\" : True, \n",
    "        \"l2_leaf_reg\" : 3,\n",
    "        \"loss_function\" : 'Logloss', \n",
    "        \"eval_metric\" : 'Logloss',\n",
    "        \"random_state\" : 42,\n",
    "        \"verbose\" : 0,\n",
    "        \"early_stopping_rounds\" : 1000}\n",
    "\n",
    "\n",
    "w1 = [1, 2, 3, 4, 5, 6, 7]\n",
    "w2 = [2, 4, 6, 8, 10, 18, 30]\n",
    "\n",
    "feature_settings = {\n",
    "    \"shifts_norms\" : w1, \n",
    "    \"ma\" : w2, \n",
    "    \"ema\" : w2, \n",
    "    \"boll\" : 1, \n",
    "    \"rsi\" : 1, \n",
    "    \"hl_diff\" : 1, \n",
    "    \"stoch_ocs\" : 1, \n",
    "    \"rand_pred\" : 1,\n",
    "}\n"
   ]
  },
  {
   "cell_type": "code",
   "execution_count": 17,
   "metadata": {},
   "outputs": [],
   "source": [
    "import datetime as dt"
   ]
  },
  {
   "cell_type": "code",
   "execution_count": 19,
   "metadata": {},
   "outputs": [
    {
     "name": "stderr",
     "output_type": "stream",
     "text": [
      "2025-02-13 19:36:06,072 - INFO - Начало загрузки данных для обучения модели\n",
      "2025-02-13 19:36:06,588 - INFO - 5dd0dff796727c5b56c278fef64f7332 GetCandles\n",
      "2025-02-13 19:36:06,762 - INFO - d45dc5f27ed60c83fae8b235f97ec4ce GetCandles\n",
      "2025-02-13 19:36:06,913 - INFO - 85541d4884ad0b75e7f3377b46105913 GetCandles\n",
      "2025-02-13 19:36:07,065 - INFO - 3a8e9dd858c75bb3fc2feafa639a76c9 GetCandles\n",
      "2025-02-13 19:36:07,209 - INFO - 3dfa6fa89c0d329062d71018394863c4 GetCandles\n",
      "2025-02-13 19:36:07,409 - INFO - ae76055e7dde81ec5259f9ab7246eb12 GetCandles\n",
      "2025-02-13 19:36:07,548 - INFO - cee5326aea0aac72c90331178fefb13d GetCandles\n",
      "2025-02-13 19:36:07,735 - INFO - d25d59360cabdc8cd92457b6b397e256 GetCandles\n",
      "2025-02-13 19:36:07,888 - INFO - c41f63f2dcf4f5f43a6b0c9ccd27a806 GetCandles\n",
      "2025-02-13 19:36:08,051 - INFO - 034278f5be731a80488907a1d63de51e GetCandles\n",
      "2025-02-13 19:36:08,205 - INFO - f8639662d3c6f35ba09cd363ece60bdb GetCandles\n",
      "2025-02-13 19:36:08,348 - INFO - cbb3dc0f217c7b395b061cfea717c375 GetCandles\n",
      "2025-02-13 19:36:08,560 - INFO - f7c8e3d93cd54470d0b1ff1fd55e4ec3 GetCandles\n",
      "2025-02-13 19:36:08,701 - INFO - 1386af12ec41ae7e2fb6e0e75f362ef7 GetCandles\n",
      "2025-02-13 19:36:08,902 - INFO - 240c2331d419c1ee4688a0c689737f37 GetCandles\n",
      "2025-02-13 19:36:09,048 - INFO - 78b384f746e275df490c643a09ae0589 GetCandles\n",
      "2025-02-13 19:36:09,198 - INFO - 761352bb0370efdf90e7e2559fb077b6 GetCandles\n",
      "2025-02-13 19:36:09,338 - INFO - e79da9a2721a9f39eb8878e92a79d9e3 GetCandles\n",
      "2025-02-13 19:36:09,506 - INFO - 14fa344f1a9bcb3af55988743f65439f GetCandles\n",
      "2025-02-13 19:36:09,653 - INFO - c46acdf3d82c0a729d4f17a9f0d1f3ab GetCandles\n",
      "2025-02-13 19:36:09,848 - INFO - e4530e8acc3d6c21aa5d571f4cd1d836 GetCandles\n",
      "2025-02-13 19:36:10,061 - INFO - f1163ec7728c66f6d3fbb0fd9ee727f2 GetCandles\n",
      "2025-02-13 19:36:10,208 - INFO - f9fbc4955b15d4636c75817cbff57d3c GetCandles\n",
      "2025-02-13 19:36:10,344 - INFO - d0d377f108d34b9de547937584847180 GetCandles\n",
      "2025-02-13 19:36:10,496 - INFO - 3f67e56e131f9ed323ce1ea967dad947 GetCandles\n",
      "2025-02-13 19:36:10,653 - INFO - 4c9cc397e47f6e97207279f0728d77e3 GetCandles\n",
      "2025-02-13 19:36:10,801 - INFO - 8356a38aa6c0511b4dcb0e1d5d8533bb GetCandles\n",
      "2025-02-13 19:36:10,947 - INFO - 891ac1b71631e8cb2be4782fb5185bb0 GetCandles\n",
      "2025-02-13 19:36:11,141 - INFO - 0c577f425540d56beee9afe19e4e0538 GetCandles\n",
      "2025-02-13 19:36:11,291 - INFO - 8071cad2eab0f99708231dd2fe6dd2e3 GetCandles\n",
      "2025-02-13 19:36:11,576 - INFO - 0ce8da040526d14dc15e59a1cf10758e GetCandles\n",
      "2025-02-13 19:36:11,762 - INFO - ea949bc9e214b28fd3723d85371a20f0 GetCandles\n",
      "2025-02-13 19:36:11,881 - INFO - d6b7bfd5b07ffa8edd061ac0c69d1ede GetCandles\n",
      "2025-02-13 19:36:12,114 - INFO - be9a6f19d82972300b75a663a1da9a33 GetCandles\n",
      "2025-02-13 19:36:12,330 - INFO - 873505962f40d7f024ef098de4b46878 GetCandles\n",
      "2025-02-13 19:36:12,540 - INFO - e6a7e7580162130b5c0658bcf2ad8dc1 GetCandles\n",
      "2025-02-13 19:36:12,686 - INFO - 44524964028b72b928c781e529f7117b GetCandles\n",
      "2025-02-13 19:36:12,882 - INFO - dc1cc422fc7e490bf167f4c99d856ad6 GetCandles\n",
      "2025-02-13 19:36:13,047 - INFO - 230a06445aa7b7d45010a48946cf4a2b GetCandles\n",
      "2025-02-13 19:36:13,186 - INFO - c801f489017fd5ce8321e1b653b4e1a2 GetCandles\n",
      "2025-02-13 19:36:13,337 - INFO - 4420b190cb2f3d34979a6f1c6d543366 GetCandles\n",
      "2025-02-13 19:36:13,535 - INFO - 2967f6d3d50730a49526c0bdafce0921 GetCandles\n",
      "2025-02-13 19:36:13,696 - INFO - 14284824b0568e18355f6632501be8b2 GetCandles\n",
      "2025-02-13 19:36:13,846 - INFO - 50d3c21693ead28cad536c7a50a18a2d GetCandles\n",
      "2025-02-13 19:36:13,996 - INFO - 513a2968085cbe71e74a45bb47a45124 GetCandles\n",
      "2025-02-13 19:36:14,141 - INFO - 5c375774e99512e98f44f341bbee7dcc GetCandles\n",
      "2025-02-13 19:36:14,320 - INFO - 28dc9040757b81e7f014ef97e42b0190 GetCandles\n",
      "2025-02-13 19:36:14,466 - INFO - 798c0597f9f1221dc748a05a77ab16ec GetCandles\n",
      "2025-02-13 19:36:14,664 - INFO - c19f1b0ef21de918acfa5437b885026d GetCandles\n",
      "2025-02-13 19:36:14,816 - INFO - edc2a62bdb3e996b8f207dfc89753a91 GetCandles\n",
      "2025-02-13 19:36:14,960 - INFO - ebefd7690c38a28d2d48dfdebcf5beab GetCandles\n",
      "2025-02-13 19:36:15,119 - INFO - 2ca8c424e1b6ad3e461646a3b7bfd8ca GetCandles\n",
      "2025-02-13 19:36:15,290 - INFO - 23931dbe04db62f8e66ab1d188fe7292 GetCandles\n",
      "2025-02-13 19:36:15,424 - INFO - 1827c7ab0177bdca7749c059f91f1c7c GetCandles\n",
      "2025-02-13 19:36:15,570 - INFO - b37cea49e98377475aa65d9468f23415 GetCandles\n",
      "2025-02-13 19:36:15,751 - INFO - b0c2f74e15349bec9cbb58321151ee17 GetCandles\n",
      "2025-02-13 19:36:15,935 - INFO - 901e0c800048e7de15b69c52a400a107 GetCandles\n",
      "2025-02-13 19:36:16,116 - INFO - a0594de420921ca7392e4b1b5bd7484b GetCandles\n",
      "2025-02-13 19:36:16,298 - INFO - 5015b5bd4123cb42bba477f5aa99c0bd GetCandles\n",
      "2025-02-13 19:36:16,447 - INFO - 1043ebe45b2f3cd8655d846015280541 GetCandles\n",
      "2025-02-13 19:36:16,588 - INFO - 670a0b0c0f448488545d6036e7d59219 GetCandles\n",
      "2025-02-13 19:36:16,737 - INFO - 89412874db65daeb75a98764de8c5c58 GetCandles\n",
      "2025-02-13 19:36:16,927 - INFO - 8429be09e0d9244daf30484c1cc0cd08 GetCandles\n",
      "2025-02-13 19:36:17,135 - INFO - 34c10599bd2455de847dee89a36e75d0 GetCandles\n",
      "2025-02-13 19:36:17,297 - INFO - fdf71090df7430c469f27235fbb8fb86 GetCandles\n",
      "2025-02-13 19:36:17,447 - INFO - 9c30610057383a16047a8db8b7de756e GetCandles\n",
      "2025-02-13 19:36:17,591 - INFO - e9b109ad5229029c179e4465c02387f7 GetCandles\n",
      "2025-02-13 19:36:17,752 - INFO - f2c2f74ff00a75239548b1d90de66b11 GetCandles\n",
      "2025-02-13 19:36:17,906 - INFO - b4e395576dcda40b555ff83c1e0a49ec GetCandles\n",
      "2025-02-13 19:36:18,091 - INFO - b51c5238c7d44502630e51589399fbdc GetCandles\n",
      "2025-02-13 19:36:18,284 - INFO - caecd812dc86dcf190ad58a6a716868e GetCandles\n",
      "2025-02-13 19:36:18,447 - INFO - d9b5bc0398642a95511f298284fe4990 GetCandles\n",
      "2025-02-13 19:36:18,598 - INFO - b34b83535239e0b74a2dcb194152e105 GetCandles\n",
      "2025-02-13 19:36:18,750 - INFO - 10dd8f5cae209a852fda3949cabe643e GetCandles\n",
      "2025-02-13 19:36:18,947 - INFO - 4e77ed130d3cf11b237b7b4e70dc00f4 GetCandles\n",
      "2025-02-13 19:36:29,409 - INFO - Собрано 7864 свечей\n",
      "2025-02-13 19:36:29,409 - INFO - Данные успешно загружены и обработаны\n",
      "2025-02-13 19:36:29,416 - INFO - Начало обучения модели\n",
      "2025-02-13 19:36:51,885 - INFO - Обучение модели завершено\n",
      "2025-02-13 19:36:51,888 - INFO - Запуск торгов в песочнице\n",
      "2025-02-13 19:36:53,500 - INFO - 8c91fb750592eb5a4bbad04bcc4ddefa OpenSandboxAccount\n",
      "2025-02-13 19:36:53,711 - INFO - 9d202f97a9a692551b06a081d143818a SandboxPayIn\n",
      "2025-02-13 19:36:53,713 - INFO - Создан аккаунт be449fdb-137a-4cb4-a703-c4784752e007, пополнен на 10000.0\n",
      "2025-02-13 19:36:53,714 - INFO - Торги начинаются: 2025-02-13 19:36:53.714916 / Завершение: 2025-02-13 20:20:00\n",
      "2025-02-13 19:36:53,716 - INFO - Ждем 186.28 секунд до 19:40:00...\n",
      "2025-02-13 19:39:59,984 - INFO - Начинаем новый торговый цикл\n",
      "2025-02-13 19:40:00,491 - INFO - daa73ef6a9725cb334dcad545ce8d020 GetPortfolio\n",
      "2025-02-13 19:40:00,496 - INFO - 10000.0\n",
      "2025-02-13 19:40:02,052 - INFO - bc725b634698ca6328540ba88f7865e4 GetCandles\n",
      "2025-02-13 19:40:12,128 - INFO - Предсказание модели: [0]\n",
      "2025-02-13 19:40:12,647 - INFO - 04d0bf6aefc642aab44f84ea52f6226c GetPortfolio\n",
      "2025-02-13 19:40:13,202 - INFO - fe059626c116904fc6b0dba7e30dc1ab PostOrder\n",
      "2025-02-13 19:40:13,207 - INFO - Продана акция: PostOrderResponse(order_id='7f881378-9812-4480-96f5-d209c2cc4a6a', execution_report_status=<OrderExecutionReportStatus.EXECUTION_REPORT_STATUS_FILL: 1>, lots_requested=2, lots_executed=2, initial_order_price=MoneyValue(currency='rub', units=9028, nano=0), executed_order_price=MoneyValue(currency='rub', units=4514, nano=0), total_order_amount=MoneyValue(currency='rub', units=9028, nano=0), initial_commission=MoneyValue(currency='rub', units=4, nano=514000000), executed_commission=MoneyValue(currency='rub', units=4, nano=514000000), aci_value=MoneyValue(currency='', units=0, nano=0), figi='TCS00A107T19', direction=<OrderDirection.ORDER_DIRECTION_SELL: 2>, initial_security_price=MoneyValue(currency='rub', units=4514, nano=0), order_type=<OrderType.ORDER_TYPE_MARKET: 2>, message='', initial_order_price_pt=Quotation(units=0, nano=0), instrument_uid='7de75794-a27f-4d81-a39b-492345813822', order_request_id='d1be3e2d-2a5d-4b6b-8bf7-7fa931039096', response_metadata=ResponseMetadata(tracking_id='fe059626c116904fc6b0dba7e30dc1ab', server_time=datetime.datetime(2025, 2, 13, 16, 40, 12, 845350, tzinfo=datetime.timezone.utc)))\n",
      "2025-02-13 19:40:13,210 - INFO - Ждем 586.79 секунд до 19:50:00...\n",
      "2025-02-13 19:49:59,944 - INFO - Начинаем новый торговый цикл\n",
      "2025-02-13 19:50:00,459 - INFO - 48f39968e4fdd1ccb7dca5502e121977 PostOrder\n",
      "2025-02-13 19:50:00,464 - INFO - Куплена акция: PostOrderResponse(order_id='be61accc-9856-407f-9a21-fbad8d76ffc9', execution_report_status=<OrderExecutionReportStatus.EXECUTION_REPORT_STATUS_FILL: 1>, lots_requested=2, lots_executed=2, initial_order_price=MoneyValue(currency='rub', units=9028, nano=0), executed_order_price=MoneyValue(currency='rub', units=4514, nano=0), total_order_amount=MoneyValue(currency='rub', units=9028, nano=0), initial_commission=MoneyValue(currency='rub', units=4, nano=514000000), executed_commission=MoneyValue(currency='rub', units=4, nano=514000000), aci_value=MoneyValue(currency='', units=0, nano=0), figi='TCS00A107T19', direction=<OrderDirection.ORDER_DIRECTION_BUY: 1>, initial_security_price=MoneyValue(currency='rub', units=4514, nano=0), order_type=<OrderType.ORDER_TYPE_MARKET: 2>, message='', initial_order_price_pt=Quotation(units=0, nano=0), instrument_uid='7de75794-a27f-4d81-a39b-492345813822', order_request_id='77e35616-c3d7-4018-bfae-0560a8a6e565', response_metadata=ResponseMetadata(tracking_id='48f39968e4fdd1ccb7dca5502e121977', server_time=datetime.datetime(2025, 2, 13, 16, 50, 0, 161195, tzinfo=datetime.timezone.utc)))\n",
      "2025-02-13 19:50:01,904 - INFO - 8b4285a712bba1f9ce95a8aad24d4b03 GetPortfolio\n",
      "2025-02-13 19:50:01,911 - INFO - 9990.972\n",
      "2025-02-13 19:50:02,505 - INFO - f4bcf121facfc4bcf998657b18419929 GetCandles\n",
      "2025-02-13 19:50:21,760 - INFO - Предсказание модели: [0]\n",
      "2025-02-13 19:50:22,240 - INFO - a4fb8b2ec1d31eb4700ffe202f951305 GetPortfolio\n",
      "2025-02-13 19:50:22,738 - INFO - 946e2b46bc1585438e657eaabc910c52 PostOrder\n",
      "2025-02-13 19:50:22,743 - INFO - Продана акция: PostOrderResponse(order_id='bc971194-9683-4c0d-8a2b-5492291ec186', execution_report_status=<OrderExecutionReportStatus.EXECUTION_REPORT_STATUS_FILL: 1>, lots_requested=2, lots_executed=2, initial_order_price=MoneyValue(currency='rub', units=9029, nano=0), executed_order_price=MoneyValue(currency='rub', units=4514, nano=500000000), total_order_amount=MoneyValue(currency='rub', units=9029, nano=0), initial_commission=MoneyValue(currency='rub', units=4, nano=514500000), executed_commission=MoneyValue(currency='rub', units=4, nano=514500000), aci_value=MoneyValue(currency='', units=0, nano=0), figi='TCS00A107T19', direction=<OrderDirection.ORDER_DIRECTION_SELL: 2>, initial_security_price=MoneyValue(currency='rub', units=4514, nano=500000000), order_type=<OrderType.ORDER_TYPE_MARKET: 2>, message='', initial_order_price_pt=Quotation(units=0, nano=0), instrument_uid='7de75794-a27f-4d81-a39b-492345813822', order_request_id='20ef9a26-b577-440c-b375-33b48c9c0272', response_metadata=ResponseMetadata(tracking_id='946e2b46bc1585438e657eaabc910c52', server_time=datetime.datetime(2025, 2, 13, 16, 50, 22, 444834, tzinfo=datetime.timezone.utc)))\n",
      "2025-02-13 19:50:22,746 - INFO - Ждем 577.25 секунд до 20:00:00...\n",
      "2025-02-13 19:59:59,962 - INFO - Начинаем новый торговый цикл\n",
      "2025-02-13 20:00:00,496 - INFO - e066653e3b31359e4bdd3640c0939925 PostOrder\n",
      "2025-02-13 20:00:00,502 - INFO - Куплена акция: PostOrderResponse(order_id='c0dd184b-9b80-47b3-95b4-d7f61ca56ebc', execution_report_status=<OrderExecutionReportStatus.EXECUTION_REPORT_STATUS_FILL: 1>, lots_requested=2, lots_executed=2, initial_order_price=MoneyValue(currency='rub', units=9031, nano=0), executed_order_price=MoneyValue(currency='rub', units=4515, nano=500000000), total_order_amount=MoneyValue(currency='rub', units=9031, nano=0), initial_commission=MoneyValue(currency='rub', units=4, nano=515500000), executed_commission=MoneyValue(currency='rub', units=4, nano=515500000), aci_value=MoneyValue(currency='', units=0, nano=0), figi='TCS00A107T19', direction=<OrderDirection.ORDER_DIRECTION_BUY: 1>, initial_security_price=MoneyValue(currency='rub', units=4515, nano=500000000), order_type=<OrderType.ORDER_TYPE_MARKET: 2>, message='', initial_order_price_pt=Quotation(units=0, nano=0), instrument_uid='7de75794-a27f-4d81-a39b-492345813822', order_request_id='bcf1ce54-5f71-46c4-81b8-d99924a6ff6a', response_metadata=ResponseMetadata(tracking_id='e066653e3b31359e4bdd3640c0939925', server_time=datetime.datetime(2025, 2, 13, 17, 0, 0, 241441, tzinfo=datetime.timezone.utc)))\n",
      "2025-02-13 20:00:00,988 - INFO - db7d97cae3c6c2a15a119960af7cf400 GetPortfolio\n",
      "2025-02-13 20:00:00,997 - INFO - 9979.942\n",
      "2025-02-13 20:00:01,618 - INFO - cd30b28a1315f203de49d4091ce182bb GetCandles\n",
      "2025-02-13 20:00:20,019 - INFO - Предсказание модели: [0]\n",
      "2025-02-13 20:00:20,527 - INFO - f2e1895298ef4c1d8ba98e18c6a2cd21 GetPortfolio\n",
      "2025-02-13 20:00:21,031 - INFO - e8343c35d75ac8303fa59547d9039678 PostOrder\n",
      "2025-02-13 20:00:21,040 - INFO - Продана акция: PostOrderResponse(order_id='f9542487-58f9-498c-ac58-c1f36df92810', execution_report_status=<OrderExecutionReportStatus.EXECUTION_REPORT_STATUS_FILL: 1>, lots_requested=2, lots_executed=2, initial_order_price=MoneyValue(currency='rub', units=9032, nano=0), executed_order_price=MoneyValue(currency='rub', units=4516, nano=0), total_order_amount=MoneyValue(currency='rub', units=9032, nano=0), initial_commission=MoneyValue(currency='rub', units=4, nano=516000000), executed_commission=MoneyValue(currency='rub', units=4, nano=516000000), aci_value=MoneyValue(currency='', units=0, nano=0), figi='TCS00A107T19', direction=<OrderDirection.ORDER_DIRECTION_SELL: 2>, initial_security_price=MoneyValue(currency='rub', units=4516, nano=0), order_type=<OrderType.ORDER_TYPE_MARKET: 2>, message='', initial_order_price_pt=Quotation(units=0, nano=0), instrument_uid='7de75794-a27f-4d81-a39b-492345813822', order_request_id='bb29ac4b-65c3-4f62-8f68-39d96bdc864e', response_metadata=ResponseMetadata(tracking_id='e8343c35d75ac8303fa59547d9039678', server_time=datetime.datetime(2025, 2, 13, 17, 0, 20, 770842, tzinfo=datetime.timezone.utc)))\n",
      "2025-02-13 20:00:21,045 - INFO - Ждем 578.95 секунд до 20:10:00...\n",
      "2025-02-13 20:09:59,967 - INFO - Начинаем новый торговый цикл\n",
      "2025-02-13 20:10:00,572 - INFO - f34d458e7f08fb8f044a50a9895184bd PostOrder\n",
      "2025-02-13 20:10:00,574 - INFO - Куплена акция: PostOrderResponse(order_id='0789b859-b189-44af-bde3-44d021f10451', execution_report_status=<OrderExecutionReportStatus.EXECUTION_REPORT_STATUS_FILL: 1>, lots_requested=2, lots_executed=2, initial_order_price=MoneyValue(currency='rub', units=9048, nano=0), executed_order_price=MoneyValue(currency='rub', units=4524, nano=0), total_order_amount=MoneyValue(currency='rub', units=9048, nano=0), initial_commission=MoneyValue(currency='rub', units=4, nano=524000000), executed_commission=MoneyValue(currency='rub', units=4, nano=524000000), aci_value=MoneyValue(currency='', units=0, nano=0), figi='TCS00A107T19', direction=<OrderDirection.ORDER_DIRECTION_BUY: 1>, initial_security_price=MoneyValue(currency='rub', units=4524, nano=0), order_type=<OrderType.ORDER_TYPE_MARKET: 2>, message='', initial_order_price_pt=Quotation(units=0, nano=0), instrument_uid='7de75794-a27f-4d81-a39b-492345813822', order_request_id='76e32e21-50fb-4612-9f6e-0720f255b692', response_metadata=ResponseMetadata(tracking_id='f34d458e7f08fb8f044a50a9895184bd', server_time=datetime.datetime(2025, 2, 13, 17, 10, 0, 350055, tzinfo=datetime.timezone.utc)))\n",
      "2025-02-13 20:10:01,044 - INFO - 4961dc57f8a16d09a6c6e45300586c03 GetPortfolio\n",
      "2025-02-13 20:10:01,049 - INFO - 9954.902\n",
      "2025-02-13 20:10:01,628 - INFO - f224c8ba9437cc7947ff6bcbcaf76301 GetCandles\n",
      "2025-02-13 20:10:09,971 - INFO - Предсказание модели: [0]\n",
      "2025-02-13 20:10:10,389 - INFO - 845f4bb44fab6674812243272e199f1b GetPortfolio\n",
      "2025-02-13 20:10:10,902 - INFO - 2026b2af2c3c2b984a3a1dc38acbf9af PostOrder\n",
      "2025-02-13 20:10:10,905 - INFO - Продана акция: PostOrderResponse(order_id='0c5da229-23eb-4c49-8132-3092e9c2eac9', execution_report_status=<OrderExecutionReportStatus.EXECUTION_REPORT_STATUS_FILL: 1>, lots_requested=2, lots_executed=2, initial_order_price=MoneyValue(currency='rub', units=9048, nano=0), executed_order_price=MoneyValue(currency='rub', units=4524, nano=0), total_order_amount=MoneyValue(currency='rub', units=9048, nano=0), initial_commission=MoneyValue(currency='rub', units=4, nano=524000000), executed_commission=MoneyValue(currency='rub', units=4, nano=524000000), aci_value=MoneyValue(currency='', units=0, nano=0), figi='TCS00A107T19', direction=<OrderDirection.ORDER_DIRECTION_SELL: 2>, initial_security_price=MoneyValue(currency='rub', units=4524, nano=0), order_type=<OrderType.ORDER_TYPE_MARKET: 2>, message='', initial_order_price_pt=Quotation(units=0, nano=0), instrument_uid='7de75794-a27f-4d81-a39b-492345813822', order_request_id='5c6c188a-18e3-4bc5-93c3-86341aa8f57f', response_metadata=ResponseMetadata(tracking_id='2026b2af2c3c2b984a3a1dc38acbf9af', server_time=datetime.datetime(2025, 2, 13, 17, 10, 10, 692261, tzinfo=datetime.timezone.utc)))\n",
      "2025-02-13 20:10:10,906 - INFO - Ждем 589.09 секунд до 20:20:00...\n",
      "2025-02-13 20:19:59,972 - INFO - Начинаем новый торговый цикл\n",
      "2025-02-13 20:20:00,462 - INFO - f75e3290e2111dd8355561efe1cafc77 PostOrder\n",
      "2025-02-13 20:20:00,464 - INFO - Куплена акция: PostOrderResponse(order_id='a3591ec5-f2d4-48ee-91a6-7296884dcdd7', execution_report_status=<OrderExecutionReportStatus.EXECUTION_REPORT_STATUS_FILL: 1>, lots_requested=2, lots_executed=2, initial_order_price=MoneyValue(currency='rub', units=9023, nano=0), executed_order_price=MoneyValue(currency='rub', units=4511, nano=500000000), total_order_amount=MoneyValue(currency='rub', units=9023, nano=0), initial_commission=MoneyValue(currency='rub', units=4, nano=511500000), executed_commission=MoneyValue(currency='rub', units=4, nano=511500000), aci_value=MoneyValue(currency='', units=0, nano=0), figi='TCS00A107T19', direction=<OrderDirection.ORDER_DIRECTION_BUY: 1>, initial_security_price=MoneyValue(currency='rub', units=4511, nano=500000000), order_type=<OrderType.ORDER_TYPE_MARKET: 2>, message='', initial_order_price_pt=Quotation(units=0, nano=0), instrument_uid='7de75794-a27f-4d81-a39b-492345813822', order_request_id='504eaced-c2b2-4309-b191-7758cb7d4ed7', response_metadata=ResponseMetadata(tracking_id='f75e3290e2111dd8355561efe1cafc77', server_time=datetime.datetime(2025, 2, 13, 17, 20, 0, 285288, tzinfo=datetime.timezone.utc)))\n",
      "2025-02-13 20:20:00,875 - INFO - 78829216a7ded92305eccb50a64c6a7e GetPortfolio\n",
      "2025-02-13 20:20:00,881 - INFO - 9970.8665\n",
      "2025-02-13 20:20:02,452 - INFO - d8e7e2ebb8ab1e9bb5e8840fc45fbb88 GetCandles\n",
      "2025-02-13 20:20:10,400 - INFO - Предсказание модели: [1]\n",
      "2025-02-13 20:20:10,860 - INFO - 6406f30ef43e841de0372e3bc8093d16 GetPortfolio\n",
      "2025-02-13 20:20:11,304 - INFO - 4bd90e81f3588e8a1e28ab782fb9605b PostOrder\n",
      "2025-02-13 20:20:11,307 - INFO - Куплена акция: PostOrderResponse(order_id='7fdb8aa2-ab90-48b8-b693-d43955cc6f5e', execution_report_status=<OrderExecutionReportStatus.EXECUTION_REPORT_STATUS_FILL: 1>, lots_requested=2, lots_executed=2, initial_order_price=MoneyValue(currency='rub', units=9024, nano=0), executed_order_price=MoneyValue(currency='rub', units=4512, nano=0), total_order_amount=MoneyValue(currency='rub', units=9024, nano=0), initial_commission=MoneyValue(currency='rub', units=4, nano=512000000), executed_commission=MoneyValue(currency='rub', units=4, nano=512000000), aci_value=MoneyValue(currency='', units=0, nano=0), figi='TCS00A107T19', direction=<OrderDirection.ORDER_DIRECTION_BUY: 1>, initial_security_price=MoneyValue(currency='rub', units=4512, nano=0), order_type=<OrderType.ORDER_TYPE_MARKET: 2>, message='', initial_order_price_pt=Quotation(units=0, nano=0), instrument_uid='7de75794-a27f-4d81-a39b-492345813822', order_request_id='755b4d89-6916-4ddc-bdab-d368647504b2', response_metadata=ResponseMetadata(tracking_id='4bd90e81f3588e8a1e28ab782fb9605b', server_time=datetime.datetime(2025, 2, 13, 17, 20, 11, 123749, tzinfo=datetime.timezone.utc)))\n",
      "2025-02-13 20:20:12,793 - INFO - 0034021f17efb3cb629f98c5c5900c6d GetPortfolio\n",
      "2025-02-13 20:20:12,798 - INFO - Торги завершены с окончательной суммой MoneyValue(currency='rub', units=942, nano=354500000)\n"
     ]
    }
   ],
   "source": [
    "trade_sets = {\n",
    "    'figi' : 'TCS00A107T19', \n",
    "    'lot' : 1, # \n",
    "    'args' : train_args, \n",
    "    'start_date' : dt.datetime(2024, 12, 1), # дата с которой выгружаются свечи \n",
    "    'end_date' : dt.datetime(2025, 2, 13, 20, 20), # дата окончания торгов\n",
    "    'features_sets' : feature_settings, \n",
    "    'train_size' : 3000, # start_date ...... train_size, val_size, now\n",
    "    'val_size' : 500\n",
    "}\n",
    "\n",
    "\n",
    "portfolio = await trade(**trade_sets)"
   ]
  }
 ],
 "metadata": {
  "kernelspec": {
   "display_name": "myenv",
   "language": "python",
   "name": "python3"
  },
  "language_info": {
   "codemirror_mode": {
    "name": "ipython",
    "version": 3
   },
   "file_extension": ".py",
   "mimetype": "text/x-python",
   "name": "python",
   "nbconvert_exporter": "python",
   "pygments_lexer": "ipython3",
   "version": "3.12.6"
  }
 },
 "nbformat": 4,
 "nbformat_minor": 2
}
