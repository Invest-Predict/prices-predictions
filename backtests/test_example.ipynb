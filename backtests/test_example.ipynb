{
 "cells": [
  {
   "cell_type": "code",
   "execution_count": 7,
   "metadata": {},
   "outputs": [],
   "source": [
    "%reload_ext IPython.extensions.autoreload\n",
    "%autoreload 2"
   ]
  },
  {
   "cell_type": "code",
   "execution_count": 21,
   "metadata": {},
   "outputs": [],
   "source": [
    "from t_api_tests import get_accounts, open_account, find_instrument, close_all_accs\n",
    "from t_api_tests import get_lot_value"
   ]
  },
  {
   "cell_type": "code",
   "execution_count": 9,
   "metadata": {},
   "outputs": [
    {
     "data": {
      "text/plain": [
       "[Account(id='10d91a03-1910-460f-a192-80ebe62ec649', type=<AccountType.ACCOUNT_TYPE_TINKOFF: 1>, name='lerochka', status=<AccountStatus.ACCOUNT_STATUS_OPEN: 2>, opened_date=datetime.datetime(2025, 2, 11, 15, 50, 28, 290362, tzinfo=datetime.timezone.utc), closed_date=datetime.datetime(1970, 1, 1, 0, 0, tzinfo=datetime.timezone.utc), access_level=<AccessLevel.ACCOUNT_ACCESS_LEVEL_FULL_ACCESS: 1>),\n",
       " Account(id='8892e20d-f37f-4f0b-bf00-db81e861d807', type=<AccountType.ACCOUNT_TYPE_TINKOFF: 1>, name='lerochka', status=<AccountStatus.ACCOUNT_STATUS_OPEN: 2>, opened_date=datetime.datetime(2025, 2, 11, 15, 54, 4, 527280, tzinfo=datetime.timezone.utc), closed_date=datetime.datetime(1970, 1, 1, 0, 0, tzinfo=datetime.timezone.utc), access_level=<AccessLevel.ACCOUNT_ACCESS_LEVEL_FULL_ACCESS: 1>),\n",
       " Account(id='24abd6b4-a50d-4ebd-b7f0-38ac6d32eb1c', type=<AccountType.ACCOUNT_TYPE_TINKOFF: 1>, name='lerochka', status=<AccountStatus.ACCOUNT_STATUS_OPEN: 2>, opened_date=datetime.datetime(2025, 2, 11, 15, 54, 54, 448713, tzinfo=datetime.timezone.utc), closed_date=datetime.datetime(1970, 1, 1, 0, 0, tzinfo=datetime.timezone.utc), access_level=<AccessLevel.ACCOUNT_ACCESS_LEVEL_FULL_ACCESS: 1>),\n",
       " Account(id='9f807fb4-47b1-45ca-bd93-13ecfc2737b8', type=<AccountType.ACCOUNT_TYPE_TINKOFF: 1>, name='lerochka', status=<AccountStatus.ACCOUNT_STATUS_OPEN: 2>, opened_date=datetime.datetime(2025, 2, 11, 15, 59, 26, 474508, tzinfo=datetime.timezone.utc), closed_date=datetime.datetime(1970, 1, 1, 0, 0, tzinfo=datetime.timezone.utc), access_level=<AccessLevel.ACCOUNT_ACCESS_LEVEL_FULL_ACCESS: 1>),\n",
       " Account(id='46a72b44-f954-4f7d-834b-c555fcfea970', type=<AccountType.ACCOUNT_TYPE_TINKOFF: 1>, name='lerochka', status=<AccountStatus.ACCOUNT_STATUS_OPEN: 2>, opened_date=datetime.datetime(2025, 2, 11, 16, 4, 56, 58895, tzinfo=datetime.timezone.utc), closed_date=datetime.datetime(1970, 1, 1, 0, 0, tzinfo=datetime.timezone.utc), access_level=<AccessLevel.ACCOUNT_ACCESS_LEVEL_FULL_ACCESS: 1>)]"
      ]
     },
     "execution_count": 9,
     "metadata": {},
     "output_type": "execute_result"
    }
   ],
   "source": [
    "await get_accounts()"
   ]
  },
  {
   "cell_type": "code",
   "execution_count": 14,
   "metadata": {},
   "outputs": [],
   "source": [
    "await close_all_accs()"
   ]
  },
  {
   "cell_type": "code",
   "execution_count": 15,
   "metadata": {},
   "outputs": [
    {
     "data": {
      "text/plain": [
       "('dd6d38e5-0f67-420a-8a83-cb000401d6e9',\n",
       " SandboxPayInResponse(balance=MoneyValue(currency='rub', units=10000, nano=0)))"
      ]
     },
     "execution_count": 15,
     "metadata": {},
     "output_type": "execute_result"
    }
   ],
   "source": [
    "await open_account(name=\"lerochka\")"
   ]
  },
  {
   "cell_type": "code",
   "execution_count": 11,
   "metadata": {},
   "outputs": [
    {
     "data": {
      "text/plain": [
       "[InstrumentShort(isin='RU000A1025U5', figi='BBG00XR1B5V7', ticker='RU000A1025U5', class_code='TQCB', instrument_type='bond', name='Сбер Банк 001Р-SBER17', uid='f6f3414f-848a-4132-9ae6-2775dff48429', position_uid='b2d0709e-bde2-41de-b3f1-72fe477668e7', instrument_kind=<InstrumentType.INSTRUMENT_TYPE_BOND: 1>, api_trade_available_flag=False, for_iis_flag=False, first_1min_candle_date=datetime.datetime(1970, 1, 1, 0, 0, tzinfo=datetime.timezone.utc), first_1day_candle_date=datetime.datetime(1970, 1, 1, 0, 0, tzinfo=datetime.timezone.utc), for_qual_investor_flag=False, weekend_flag=False, blocked_tca_flag=False, lot=1),\n",
       " InstrumentShort(isin='RU000A102CU4', figi='BBG00Y9B45C2', ticker='RU000A102CU4', class_code='TQCB', instrument_type='bond', name='Сбер Банк 001P-SBER19', uid='89b82b03-3008-4616-b8fc-8b87095afd20', position_uid='9a68e631-28b5-4151-9e75-8f9b46034113', instrument_kind=<InstrumentType.INSTRUMENT_TYPE_BOND: 1>, api_trade_available_flag=False, for_iis_flag=False, first_1min_candle_date=datetime.datetime(1970, 1, 1, 0, 0, tzinfo=datetime.timezone.utc), first_1day_candle_date=datetime.datetime(1970, 1, 1, 0, 0, tzinfo=datetime.timezone.utc), for_qual_investor_flag=False, weekend_flag=False, blocked_tca_flag=False, lot=1),\n",
       " InstrumentShort(isin='RU0009029540', figi='TCS109029540', ticker='SBER', class_code='SPEQ', instrument_type='share', name='Сбер Банк', uid='5c0ad78f-7188-4846-bdaf-dd1bfd0f0547', position_uid='41eb2102-5333-4713-bf15-72b204c4bf7b', instrument_kind=<InstrumentType.INSTRUMENT_TYPE_SHARE: 2>, api_trade_available_flag=False, for_iis_flag=True, first_1min_candle_date=datetime.datetime(2018, 3, 16, 12, 31, tzinfo=datetime.timezone.utc), first_1day_candle_date=datetime.datetime(2018, 3, 16, 7, 0, tzinfo=datetime.timezone.utc), for_qual_investor_flag=False, weekend_flag=True, blocked_tca_flag=False, lot=1),\n",
       " InstrumentShort(isin='RU000A109X37', figi='TCS50A109X37', ticker='RU000A109X37', class_code='A36', instrument_type='bond', name='Сбербанк ПАО 001Р-SBERD3', uid='7b326a24-9f3d-4247-bc16-41479368775c', position_uid='59b33ecb-0cb4-4d66-9ebe-721637ea4593', instrument_kind=<InstrumentType.INSTRUMENT_TYPE_BOND: 1>, api_trade_available_flag=False, for_iis_flag=True, first_1min_candle_date=datetime.datetime(1970, 1, 1, 0, 0, tzinfo=datetime.timezone.utc), first_1day_candle_date=datetime.datetime(1970, 1, 1, 0, 0, tzinfo=datetime.timezone.utc), for_qual_investor_flag=False, weekend_flag=False, blocked_tca_flag=False, lot=1),\n",
       " InstrumentShort(isin='RU000A109X37', figi='TCS00A109X37', ticker='RU000A109X37', class_code='TQCB', instrument_type='bond', name='Сбербанк ПАО 001Р-SBERD3', uid='973a3bcc-32f9-488f-8b17-68c03581198d', position_uid='07331dca-7c1e-48b5-b0e9-c9c27cdb0f46', instrument_kind=<InstrumentType.INSTRUMENT_TYPE_BOND: 1>, api_trade_available_flag=True, for_iis_flag=True, first_1min_candle_date=datetime.datetime(2024, 11, 11, 13, 8, tzinfo=datetime.timezone.utc), first_1day_candle_date=datetime.datetime(2024, 11, 11, 0, 0, tzinfo=datetime.timezone.utc), for_qual_investor_flag=False, weekend_flag=False, blocked_tca_flag=False, lot=1),\n",
       " InstrumentShort(isin='RU0009029540', figi='TCS009029540', ticker='SBER', class_code='SMAL', instrument_type='share', name='Сбер Банк', uid='a78b8349-a1dc-447d-9277-1d75826d089a', position_uid='41eb2102-5333-4713-bf15-72b204c4bf7b', instrument_kind=<InstrumentType.INSTRUMENT_TYPE_SHARE: 2>, api_trade_available_flag=False, for_iis_flag=True, first_1min_candle_date=datetime.datetime(2018, 3, 8, 5, 16, tzinfo=datetime.timezone.utc), first_1day_candle_date=datetime.datetime(2018, 3, 13, 7, 0, tzinfo=datetime.timezone.utc), for_qual_investor_flag=False, weekend_flag=True, blocked_tca_flag=False, lot=1),\n",
       " InstrumentShort(isin='RU000A102YG7', figi='TCS801802YG7', ticker='RU000A102YG7', class_code='A36', instrument_type='bond', name='Сбер Банк 001P-SBER25', uid='47208699-52f4-4772-87c6-f091aaf83113', position_uid='47e88708-23f8-43ff-a118-20e878d91eed', instrument_kind=<InstrumentType.INSTRUMENT_TYPE_BOND: 1>, api_trade_available_flag=False, for_iis_flag=False, first_1min_candle_date=datetime.datetime(1970, 1, 1, 0, 0, tzinfo=datetime.timezone.utc), first_1day_candle_date=datetime.datetime(1970, 1, 1, 0, 0, tzinfo=datetime.timezone.utc), for_qual_investor_flag=False, weekend_flag=False, blocked_tca_flag=False, lot=1),\n",
       " InstrumentShort(isin='', figi='FUTSBERF0000', ticker='SBERF', class_code='SPBFUT', instrument_type='futures', name='SBERF Сбер Банк (обыкновенные)', uid='9e9c5921-43ac-47a8-b537-ccf32ebc6da3', position_uid='20cf3f42-c445-48c0-ba90-ab1034df1a8b', instrument_kind=<InstrumentType.INSTRUMENT_TYPE_FUTURES: 5>, api_trade_available_flag=True, for_iis_flag=True, first_1min_candle_date=datetime.datetime(2024, 10, 1, 7, 4, tzinfo=datetime.timezone.utc), first_1day_candle_date=datetime.datetime(2024, 10, 1, 0, 0, tzinfo=datetime.timezone.utc), for_qual_investor_flag=False, weekend_flag=False, blocked_tca_flag=False, lot=1),\n",
       " InstrumentShort(isin='RU0009029557', figi='TCS109029557', ticker='SBERP', class_code='SPEQ', instrument_type='share', name='Сбер Банк - привилегированные акции', uid='64c0da45-4c90-41d4-b053-0c66c7a8ddcd', position_uid='9cf9718d-50df-4326-a205-cf306933607e', instrument_kind=<InstrumentType.INSTRUMENT_TYPE_SHARE: 2>, api_trade_available_flag=False, for_iis_flag=True, first_1min_candle_date=datetime.datetime(2018, 3, 16, 12, 31, tzinfo=datetime.timezone.utc), first_1day_candle_date=datetime.datetime(2018, 3, 16, 7, 0, tzinfo=datetime.timezone.utc), for_qual_investor_flag=False, weekend_flag=True, blocked_tca_flag=False, lot=1),\n",
       " InstrumentShort(isin='RU000A105SD9', figi='TCS00A105SD9', ticker='RU000A105SD9', class_code='TQCB', instrument_type='bond', name='Сбер Банк 001P-SBER42', uid='3b6b5432-3513-42e0-bcd3-345dc6d06dbb', position_uid='ba0496b6-44de-43f0-9726-e77bc3003e5c', instrument_kind=<InstrumentType.INSTRUMENT_TYPE_BOND: 1>, api_trade_available_flag=True, for_iis_flag=True, first_1min_candle_date=datetime.datetime(2023, 2, 3, 13, 3, tzinfo=datetime.timezone.utc), first_1day_candle_date=datetime.datetime(2023, 2, 3, 7, 0, tzinfo=datetime.timezone.utc), for_qual_investor_flag=False, weekend_flag=False, blocked_tca_flag=False, lot=1),\n",
       " InstrumentShort(isin='RU000A1069P3', figi='TCS00A1069P3', ticker='RU000A1069P3', class_code='TQCB', instrument_type='bond', name='Сбербанк 2P-SBER44', uid='cf331b84-b924-48f3-8878-4643047d5946', position_uid='15044774-37b5-45cc-a256-fc3645d29f53', instrument_kind=<InstrumentType.INSTRUMENT_TYPE_BOND: 1>, api_trade_available_flag=True, for_iis_flag=True, first_1min_candle_date=datetime.datetime(2023, 5, 31, 13, 2, tzinfo=datetime.timezone.utc), first_1day_candle_date=datetime.datetime(2023, 5, 31, 7, 0, tzinfo=datetime.timezone.utc), for_qual_investor_flag=False, weekend_flag=False, blocked_tca_flag=False, lot=1),\n",
       " InstrumentShort(isin='US80585Y3080', figi='BBG001VBZR00', ticker='SBER@GS', class_code='SPBXM', instrument_type='share', name='Sberbank of Russia PJSC', uid='0b93c578-02dd-4de6-9c79-49d9f3bf0e60', position_uid='2588b56c-3beb-4ff1-b970-8905bb58f20c', instrument_kind=<InstrumentType.INSTRUMENT_TYPE_SHARE: 2>, api_trade_available_flag=False, for_iis_flag=False, first_1min_candle_date=datetime.datetime(2021, 4, 22, 7, 0, tzinfo=datetime.timezone.utc), first_1day_candle_date=datetime.datetime(2021, 4, 22, 7, 0, tzinfo=datetime.timezone.utc), for_qual_investor_flag=False, weekend_flag=False, blocked_tca_flag=False, lot=1),\n",
       " InstrumentShort(isin='RU000A102YG7', figi='BBG0104NZHS7', ticker='RU000A102YG7', class_code='TQCB', instrument_type='bond', name='Сбер Банк 001P-SBER25', uid='acb183eb-5837-42d7-bc90-005ad2f66536', position_uid='077fbe2c-70ee-4591-850b-4ee736e27697', instrument_kind=<InstrumentType.INSTRUMENT_TYPE_BOND: 1>, api_trade_available_flag=True, for_iis_flag=True, first_1min_candle_date=datetime.datetime(2021, 4, 15, 12, 20, tzinfo=datetime.timezone.utc), first_1day_candle_date=datetime.datetime(2021, 4, 15, 7, 0, tzinfo=datetime.timezone.utc), for_qual_investor_flag=False, weekend_flag=False, blocked_tca_flag=False, lot=1),\n",
       " InstrumentShort(isin='RU000A103G75', figi='BBG0122KNFZ0', ticker='RU000A103G75', class_code='TQCB', instrument_type='bond', name='Сбер Банк 001P-SBER32', uid='7f2e6c92-822c-4ef3-982f-194c12d9c17d', position_uid='a399c9ef-5443-4ddd-bbf3-b207842267b2', instrument_kind=<InstrumentType.INSTRUMENT_TYPE_BOND: 1>, api_trade_available_flag=False, for_iis_flag=True, first_1min_candle_date=datetime.datetime(1970, 1, 1, 0, 0, tzinfo=datetime.timezone.utc), first_1day_candle_date=datetime.datetime(1970, 1, 1, 0, 0, tzinfo=datetime.timezone.utc), for_qual_investor_flag=False, weekend_flag=False, blocked_tca_flag=False, lot=1),\n",
       " InstrumentShort(isin='RU0009029540', figi='BBG004730N88', ticker='SBER', class_code='TQBR', instrument_type='share', name='Сбер Банк', uid='e6123145-9665-43e0-8413-cd61b8aa9b13', position_uid='41eb2102-5333-4713-bf15-72b204c4bf7b', instrument_kind=<InstrumentType.INSTRUMENT_TYPE_SHARE: 2>, api_trade_available_flag=True, for_iis_flag=True, first_1min_candle_date=datetime.datetime(2018, 3, 7, 18, 33, tzinfo=datetime.timezone.utc), first_1day_candle_date=datetime.datetime(2000, 1, 4, 7, 0, tzinfo=datetime.timezone.utc), for_qual_investor_flag=False, weekend_flag=True, blocked_tca_flag=False, lot=10),\n",
       " InstrumentShort(isin='RU000A102RQ0', figi='BBG011K09FF4', ticker='RU000A102RQ0', class_code='TQCB', instrument_type='bond', name='Сбер Банк 001Р-SBER22', uid='ecc38ecd-7bf8-4b10-972d-bea6d0a45bfc', position_uid='af78aed4-c603-4ac3-880d-476437d17970', instrument_kind=<InstrumentType.INSTRUMENT_TYPE_BOND: 1>, api_trade_available_flag=False, for_iis_flag=True, first_1min_candle_date=datetime.datetime(1970, 1, 1, 0, 0, tzinfo=datetime.timezone.utc), first_1day_candle_date=datetime.datetime(1970, 1, 1, 0, 0, tzinfo=datetime.timezone.utc), for_qual_investor_flag=False, weekend_flag=False, blocked_tca_flag=False, lot=1),\n",
       " InstrumentShort(isin='RU000A102RS6', figi='BBG00ZZ927H8', ticker='RU000A102RS6', class_code='TQCB', instrument_type='bond', name='Сбер Банк 001P-SBER24', uid='1378168c-777c-49c6-8179-80f751f425a2', position_uid='d66c3097-4eed-431f-878a-67b8b3838d60', instrument_kind=<InstrumentType.INSTRUMENT_TYPE_BOND: 1>, api_trade_available_flag=False, for_iis_flag=False, first_1min_candle_date=datetime.datetime(1970, 1, 1, 0, 0, tzinfo=datetime.timezone.utc), first_1day_candle_date=datetime.datetime(1970, 1, 1, 0, 0, tzinfo=datetime.timezone.utc), for_qual_investor_flag=False, weekend_flag=False, blocked_tca_flag=False, lot=1),\n",
       " InstrumentShort(isin='RU0009029557', figi='BBG0047315Y7', ticker='SBERP', class_code='TQBR', instrument_type='share', name='Сбер Банк - привилегированные акции', uid='c190ff1f-1447-4227-b543-316332699ca5', position_uid='9cf9718d-50df-4326-a205-cf306933607e', instrument_kind=<InstrumentType.INSTRUMENT_TYPE_SHARE: 2>, api_trade_available_flag=True, for_iis_flag=True, first_1min_candle_date=datetime.datetime(2018, 3, 7, 18, 33, tzinfo=datetime.timezone.utc), first_1day_candle_date=datetime.datetime(2000, 1, 4, 7, 0, tzinfo=datetime.timezone.utc), for_qual_investor_flag=False, weekend_flag=True, blocked_tca_flag=False, lot=10),\n",
       " InstrumentShort(isin='RU000A101C89', figi='BBG00RKBQ4D2', ticker='RU000A101C89', class_code='TQCB', instrument_type='bond', name='Сбер Банк 001P-SBER15', uid='c6bcc9c0-aca0-4c0d-b0e4-0f7fece89b3a', position_uid='abcd110d-fdc3-4671-a793-9e9bdfe1aa2d', instrument_kind=<InstrumentType.INSTRUMENT_TYPE_BOND: 1>, api_trade_available_flag=False, for_iis_flag=True, first_1min_candle_date=datetime.datetime(1970, 1, 1, 0, 0, tzinfo=datetime.timezone.utc), first_1day_candle_date=datetime.datetime(1970, 1, 1, 0, 0, tzinfo=datetime.timezone.utc), for_qual_investor_flag=False, weekend_flag=False, blocked_tca_flag=False, lot=1),\n",
       " InstrumentShort(isin='XS0935311240', figi='BBG004JVKZ11', ticker='XS0935311240', class_code='XS0935311240', instrument_type='bond', name='Sberbank', uid='30549475-e086-4c62-a6bc-6eb4d59572f1', position_uid='d418b2d5-4ca4-4b08-a5ce-687659611d78', instrument_kind=<InstrumentType.INSTRUMENT_TYPE_BOND: 1>, api_trade_available_flag=False, for_iis_flag=False, first_1min_candle_date=datetime.datetime(1970, 1, 1, 0, 0, tzinfo=datetime.timezone.utc), first_1day_candle_date=datetime.datetime(1970, 1, 1, 0, 0, tzinfo=datetime.timezone.utc), for_qual_investor_flag=True, weekend_flag=False, blocked_tca_flag=False, lot=1),\n",
       " InstrumentShort(isin='RU0009029557', figi='TCS009029557', ticker='SBERP', class_code='SMAL', instrument_type='share', name='Сбер Банк - привилегированные акции', uid='16e54a78-35b3-41f5-83e2-0cecb2b53e5c', position_uid='9cf9718d-50df-4326-a205-cf306933607e', instrument_kind=<InstrumentType.INSTRUMENT_TYPE_SHARE: 2>, api_trade_available_flag=False, for_iis_flag=True, first_1min_candle_date=datetime.datetime(2018, 3, 8, 4, 3, tzinfo=datetime.timezone.utc), first_1day_candle_date=datetime.datetime(2018, 3, 13, 7, 0, tzinfo=datetime.timezone.utc), for_qual_investor_flag=False, weekend_flag=True, blocked_tca_flag=False, lot=1)]"
      ]
     },
     "execution_count": 11,
     "metadata": {},
     "output_type": "execute_result"
    }
   ],
   "source": [
    "await find_instrument(\"Sber\")"
   ]
  },
  {
   "cell_type": "code",
   "execution_count": 24,
   "metadata": {},
   "outputs": [
    {
     "data": {
      "text/plain": [
       "[InstrumentShort(isin='RU000A1025U5', figi='BBG00XR1B5V7', ticker='RU000A1025U5', class_code='TQCB', instrument_type='bond', name='Сбер Банк 001Р-SBER17', uid='f6f3414f-848a-4132-9ae6-2775dff48429', position_uid='b2d0709e-bde2-41de-b3f1-72fe477668e7', instrument_kind=<InstrumentType.INSTRUMENT_TYPE_BOND: 1>, api_trade_available_flag=False, for_iis_flag=False, first_1min_candle_date=datetime.datetime(1970, 1, 1, 0, 0, tzinfo=datetime.timezone.utc), first_1day_candle_date=datetime.datetime(1970, 1, 1, 0, 0, tzinfo=datetime.timezone.utc), for_qual_investor_flag=False, weekend_flag=False, blocked_tca_flag=False, lot=1),\n",
       " InstrumentShort(isin='RU000A102CU4', figi='BBG00Y9B45C2', ticker='RU000A102CU4', class_code='TQCB', instrument_type='bond', name='Сбер Банк 001P-SBER19', uid='89b82b03-3008-4616-b8fc-8b87095afd20', position_uid='9a68e631-28b5-4151-9e75-8f9b46034113', instrument_kind=<InstrumentType.INSTRUMENT_TYPE_BOND: 1>, api_trade_available_flag=False, for_iis_flag=False, first_1min_candle_date=datetime.datetime(1970, 1, 1, 0, 0, tzinfo=datetime.timezone.utc), first_1day_candle_date=datetime.datetime(1970, 1, 1, 0, 0, tzinfo=datetime.timezone.utc), for_qual_investor_flag=False, weekend_flag=False, blocked_tca_flag=False, lot=1),\n",
       " InstrumentShort(isin='RU0009029540', figi='TCS109029540', ticker='SBER', class_code='SPEQ', instrument_type='share', name='Сбер Банк', uid='5c0ad78f-7188-4846-bdaf-dd1bfd0f0547', position_uid='41eb2102-5333-4713-bf15-72b204c4bf7b', instrument_kind=<InstrumentType.INSTRUMENT_TYPE_SHARE: 2>, api_trade_available_flag=False, for_iis_flag=True, first_1min_candle_date=datetime.datetime(2018, 3, 16, 12, 31, tzinfo=datetime.timezone.utc), first_1day_candle_date=datetime.datetime(2018, 3, 16, 7, 0, tzinfo=datetime.timezone.utc), for_qual_investor_flag=False, weekend_flag=True, blocked_tca_flag=False, lot=1),\n",
       " InstrumentShort(isin='RU000A109X37', figi='TCS50A109X37', ticker='RU000A109X37', class_code='A36', instrument_type='bond', name='Сбербанк ПАО 001Р-SBERD3', uid='7b326a24-9f3d-4247-bc16-41479368775c', position_uid='59b33ecb-0cb4-4d66-9ebe-721637ea4593', instrument_kind=<InstrumentType.INSTRUMENT_TYPE_BOND: 1>, api_trade_available_flag=False, for_iis_flag=True, first_1min_candle_date=datetime.datetime(1970, 1, 1, 0, 0, tzinfo=datetime.timezone.utc), first_1day_candle_date=datetime.datetime(1970, 1, 1, 0, 0, tzinfo=datetime.timezone.utc), for_qual_investor_flag=False, weekend_flag=False, blocked_tca_flag=False, lot=1),\n",
       " InstrumentShort(isin='RU000A109X37', figi='TCS00A109X37', ticker='RU000A109X37', class_code='TQCB', instrument_type='bond', name='Сбербанк ПАО 001Р-SBERD3', uid='973a3bcc-32f9-488f-8b17-68c03581198d', position_uid='07331dca-7c1e-48b5-b0e9-c9c27cdb0f46', instrument_kind=<InstrumentType.INSTRUMENT_TYPE_BOND: 1>, api_trade_available_flag=True, for_iis_flag=True, first_1min_candle_date=datetime.datetime(2024, 11, 11, 13, 8, tzinfo=datetime.timezone.utc), first_1day_candle_date=datetime.datetime(2024, 11, 11, 0, 0, tzinfo=datetime.timezone.utc), for_qual_investor_flag=False, weekend_flag=False, blocked_tca_flag=False, lot=1),\n",
       " InstrumentShort(isin='RU0009029540', figi='TCS009029540', ticker='SBER', class_code='SMAL', instrument_type='share', name='Сбер Банк', uid='a78b8349-a1dc-447d-9277-1d75826d089a', position_uid='41eb2102-5333-4713-bf15-72b204c4bf7b', instrument_kind=<InstrumentType.INSTRUMENT_TYPE_SHARE: 2>, api_trade_available_flag=False, for_iis_flag=True, first_1min_candle_date=datetime.datetime(2018, 3, 8, 5, 16, tzinfo=datetime.timezone.utc), first_1day_candle_date=datetime.datetime(2018, 3, 13, 7, 0, tzinfo=datetime.timezone.utc), for_qual_investor_flag=False, weekend_flag=True, blocked_tca_flag=False, lot=1),\n",
       " InstrumentShort(isin='RU000A102YG7', figi='TCS801802YG7', ticker='RU000A102YG7', class_code='A36', instrument_type='bond', name='Сбер Банк 001P-SBER25', uid='47208699-52f4-4772-87c6-f091aaf83113', position_uid='47e88708-23f8-43ff-a118-20e878d91eed', instrument_kind=<InstrumentType.INSTRUMENT_TYPE_BOND: 1>, api_trade_available_flag=False, for_iis_flag=False, first_1min_candle_date=datetime.datetime(1970, 1, 1, 0, 0, tzinfo=datetime.timezone.utc), first_1day_candle_date=datetime.datetime(1970, 1, 1, 0, 0, tzinfo=datetime.timezone.utc), for_qual_investor_flag=False, weekend_flag=False, blocked_tca_flag=False, lot=1),\n",
       " InstrumentShort(isin='', figi='FUTSBERF0000', ticker='SBERF', class_code='SPBFUT', instrument_type='futures', name='SBERF Сбер Банк (обыкновенные)', uid='9e9c5921-43ac-47a8-b537-ccf32ebc6da3', position_uid='20cf3f42-c445-48c0-ba90-ab1034df1a8b', instrument_kind=<InstrumentType.INSTRUMENT_TYPE_FUTURES: 5>, api_trade_available_flag=True, for_iis_flag=True, first_1min_candle_date=datetime.datetime(2024, 10, 1, 7, 4, tzinfo=datetime.timezone.utc), first_1day_candle_date=datetime.datetime(2024, 10, 1, 0, 0, tzinfo=datetime.timezone.utc), for_qual_investor_flag=False, weekend_flag=False, blocked_tca_flag=False, lot=1),\n",
       " InstrumentShort(isin='RU0009029557', figi='TCS109029557', ticker='SBERP', class_code='SPEQ', instrument_type='share', name='Сбер Банк - привилегированные акции', uid='64c0da45-4c90-41d4-b053-0c66c7a8ddcd', position_uid='9cf9718d-50df-4326-a205-cf306933607e', instrument_kind=<InstrumentType.INSTRUMENT_TYPE_SHARE: 2>, api_trade_available_flag=False, for_iis_flag=True, first_1min_candle_date=datetime.datetime(2018, 3, 16, 12, 31, tzinfo=datetime.timezone.utc), first_1day_candle_date=datetime.datetime(2018, 3, 16, 7, 0, tzinfo=datetime.timezone.utc), for_qual_investor_flag=False, weekend_flag=True, blocked_tca_flag=False, lot=1),\n",
       " InstrumentShort(isin='RU000A105SD9', figi='TCS00A105SD9', ticker='RU000A105SD9', class_code='TQCB', instrument_type='bond', name='Сбер Банк 001P-SBER42', uid='3b6b5432-3513-42e0-bcd3-345dc6d06dbb', position_uid='ba0496b6-44de-43f0-9726-e77bc3003e5c', instrument_kind=<InstrumentType.INSTRUMENT_TYPE_BOND: 1>, api_trade_available_flag=True, for_iis_flag=True, first_1min_candle_date=datetime.datetime(2023, 2, 3, 13, 3, tzinfo=datetime.timezone.utc), first_1day_candle_date=datetime.datetime(2023, 2, 3, 7, 0, tzinfo=datetime.timezone.utc), for_qual_investor_flag=False, weekend_flag=False, blocked_tca_flag=False, lot=1),\n",
       " InstrumentShort(isin='RU000A1069P3', figi='TCS00A1069P3', ticker='RU000A1069P3', class_code='TQCB', instrument_type='bond', name='Сбербанк 2P-SBER44', uid='cf331b84-b924-48f3-8878-4643047d5946', position_uid='15044774-37b5-45cc-a256-fc3645d29f53', instrument_kind=<InstrumentType.INSTRUMENT_TYPE_BOND: 1>, api_trade_available_flag=True, for_iis_flag=True, first_1min_candle_date=datetime.datetime(2023, 5, 31, 13, 2, tzinfo=datetime.timezone.utc), first_1day_candle_date=datetime.datetime(2023, 5, 31, 7, 0, tzinfo=datetime.timezone.utc), for_qual_investor_flag=False, weekend_flag=False, blocked_tca_flag=False, lot=1),\n",
       " InstrumentShort(isin='US80585Y3080', figi='BBG001VBZR00', ticker='SBER@GS', class_code='SPBXM', instrument_type='share', name='Sberbank of Russia PJSC', uid='0b93c578-02dd-4de6-9c79-49d9f3bf0e60', position_uid='2588b56c-3beb-4ff1-b970-8905bb58f20c', instrument_kind=<InstrumentType.INSTRUMENT_TYPE_SHARE: 2>, api_trade_available_flag=False, for_iis_flag=False, first_1min_candle_date=datetime.datetime(2021, 4, 22, 7, 0, tzinfo=datetime.timezone.utc), first_1day_candle_date=datetime.datetime(2021, 4, 22, 7, 0, tzinfo=datetime.timezone.utc), for_qual_investor_flag=False, weekend_flag=False, blocked_tca_flag=False, lot=1),\n",
       " InstrumentShort(isin='RU000A102YG7', figi='BBG0104NZHS7', ticker='RU000A102YG7', class_code='TQCB', instrument_type='bond', name='Сбер Банк 001P-SBER25', uid='acb183eb-5837-42d7-bc90-005ad2f66536', position_uid='077fbe2c-70ee-4591-850b-4ee736e27697', instrument_kind=<InstrumentType.INSTRUMENT_TYPE_BOND: 1>, api_trade_available_flag=True, for_iis_flag=True, first_1min_candle_date=datetime.datetime(2021, 4, 15, 12, 20, tzinfo=datetime.timezone.utc), first_1day_candle_date=datetime.datetime(2021, 4, 15, 7, 0, tzinfo=datetime.timezone.utc), for_qual_investor_flag=False, weekend_flag=False, blocked_tca_flag=False, lot=1),\n",
       " InstrumentShort(isin='RU000A103G75', figi='BBG0122KNFZ0', ticker='RU000A103G75', class_code='TQCB', instrument_type='bond', name='Сбер Банк 001P-SBER32', uid='7f2e6c92-822c-4ef3-982f-194c12d9c17d', position_uid='a399c9ef-5443-4ddd-bbf3-b207842267b2', instrument_kind=<InstrumentType.INSTRUMENT_TYPE_BOND: 1>, api_trade_available_flag=False, for_iis_flag=True, first_1min_candle_date=datetime.datetime(1970, 1, 1, 0, 0, tzinfo=datetime.timezone.utc), first_1day_candle_date=datetime.datetime(1970, 1, 1, 0, 0, tzinfo=datetime.timezone.utc), for_qual_investor_flag=False, weekend_flag=False, blocked_tca_flag=False, lot=1),\n",
       " InstrumentShort(isin='RU0009029540', figi='BBG004730N88', ticker='SBER', class_code='TQBR', instrument_type='share', name='Сбер Банк', uid='e6123145-9665-43e0-8413-cd61b8aa9b13', position_uid='41eb2102-5333-4713-bf15-72b204c4bf7b', instrument_kind=<InstrumentType.INSTRUMENT_TYPE_SHARE: 2>, api_trade_available_flag=True, for_iis_flag=True, first_1min_candle_date=datetime.datetime(2018, 3, 7, 18, 33, tzinfo=datetime.timezone.utc), first_1day_candle_date=datetime.datetime(2000, 1, 4, 7, 0, tzinfo=datetime.timezone.utc), for_qual_investor_flag=False, weekend_flag=True, blocked_tca_flag=False, lot=10),\n",
       " InstrumentShort(isin='RU000A102RQ0', figi='BBG011K09FF4', ticker='RU000A102RQ0', class_code='TQCB', instrument_type='bond', name='Сбер Банк 001Р-SBER22', uid='ecc38ecd-7bf8-4b10-972d-bea6d0a45bfc', position_uid='af78aed4-c603-4ac3-880d-476437d17970', instrument_kind=<InstrumentType.INSTRUMENT_TYPE_BOND: 1>, api_trade_available_flag=False, for_iis_flag=True, first_1min_candle_date=datetime.datetime(1970, 1, 1, 0, 0, tzinfo=datetime.timezone.utc), first_1day_candle_date=datetime.datetime(1970, 1, 1, 0, 0, tzinfo=datetime.timezone.utc), for_qual_investor_flag=False, weekend_flag=False, blocked_tca_flag=False, lot=1),\n",
       " InstrumentShort(isin='RU000A102RS6', figi='BBG00ZZ927H8', ticker='RU000A102RS6', class_code='TQCB', instrument_type='bond', name='Сбер Банк 001P-SBER24', uid='1378168c-777c-49c6-8179-80f751f425a2', position_uid='d66c3097-4eed-431f-878a-67b8b3838d60', instrument_kind=<InstrumentType.INSTRUMENT_TYPE_BOND: 1>, api_trade_available_flag=False, for_iis_flag=False, first_1min_candle_date=datetime.datetime(1970, 1, 1, 0, 0, tzinfo=datetime.timezone.utc), first_1day_candle_date=datetime.datetime(1970, 1, 1, 0, 0, tzinfo=datetime.timezone.utc), for_qual_investor_flag=False, weekend_flag=False, blocked_tca_flag=False, lot=1),\n",
       " InstrumentShort(isin='RU0009029557', figi='BBG0047315Y7', ticker='SBERP', class_code='TQBR', instrument_type='share', name='Сбер Банк - привилегированные акции', uid='c190ff1f-1447-4227-b543-316332699ca5', position_uid='9cf9718d-50df-4326-a205-cf306933607e', instrument_kind=<InstrumentType.INSTRUMENT_TYPE_SHARE: 2>, api_trade_available_flag=True, for_iis_flag=True, first_1min_candle_date=datetime.datetime(2018, 3, 7, 18, 33, tzinfo=datetime.timezone.utc), first_1day_candle_date=datetime.datetime(2000, 1, 4, 7, 0, tzinfo=datetime.timezone.utc), for_qual_investor_flag=False, weekend_flag=True, blocked_tca_flag=False, lot=10),\n",
       " InstrumentShort(isin='RU000A101C89', figi='BBG00RKBQ4D2', ticker='RU000A101C89', class_code='TQCB', instrument_type='bond', name='Сбер Банк 001P-SBER15', uid='c6bcc9c0-aca0-4c0d-b0e4-0f7fece89b3a', position_uid='abcd110d-fdc3-4671-a793-9e9bdfe1aa2d', instrument_kind=<InstrumentType.INSTRUMENT_TYPE_BOND: 1>, api_trade_available_flag=False, for_iis_flag=True, first_1min_candle_date=datetime.datetime(1970, 1, 1, 0, 0, tzinfo=datetime.timezone.utc), first_1day_candle_date=datetime.datetime(1970, 1, 1, 0, 0, tzinfo=datetime.timezone.utc), for_qual_investor_flag=False, weekend_flag=False, blocked_tca_flag=False, lot=1),\n",
       " InstrumentShort(isin='XS0935311240', figi='BBG004JVKZ11', ticker='XS0935311240', class_code='XS0935311240', instrument_type='bond', name='Sberbank', uid='30549475-e086-4c62-a6bc-6eb4d59572f1', position_uid='d418b2d5-4ca4-4b08-a5ce-687659611d78', instrument_kind=<InstrumentType.INSTRUMENT_TYPE_BOND: 1>, api_trade_available_flag=False, for_iis_flag=False, first_1min_candle_date=datetime.datetime(1970, 1, 1, 0, 0, tzinfo=datetime.timezone.utc), first_1day_candle_date=datetime.datetime(1970, 1, 1, 0, 0, tzinfo=datetime.timezone.utc), for_qual_investor_flag=True, weekend_flag=False, blocked_tca_flag=False, lot=1),\n",
       " InstrumentShort(isin='RU0009029557', figi='TCS009029557', ticker='SBERP', class_code='SMAL', instrument_type='share', name='Сбер Банк - привилегированные акции', uid='16e54a78-35b3-41f5-83e2-0cecb2b53e5c', position_uid='9cf9718d-50df-4326-a205-cf306933607e', instrument_kind=<InstrumentType.INSTRUMENT_TYPE_SHARE: 2>, api_trade_available_flag=False, for_iis_flag=True, first_1min_candle_date=datetime.datetime(2018, 3, 8, 4, 3, tzinfo=datetime.timezone.utc), first_1day_candle_date=datetime.datetime(2018, 3, 13, 7, 0, tzinfo=datetime.timezone.utc), for_qual_investor_flag=False, weekend_flag=True, blocked_tca_flag=False, lot=1)]"
      ]
     },
     "execution_count": 24,
     "metadata": {},
     "output_type": "execute_result"
    }
   ],
   "source": [
    "await get_lot_value('BBG004730N88')"
   ]
  }
 ],
 "metadata": {
  "kernelspec": {
   "display_name": "myenv",
   "language": "python",
   "name": "python3"
  },
  "language_info": {
   "codemirror_mode": {
    "name": "ipython",
    "version": 3
   },
   "file_extension": ".py",
   "mimetype": "text/x-python",
   "name": "python",
   "nbconvert_exporter": "python",
   "pygments_lexer": "ipython3",
   "version": "3.12.6"
  }
 },
 "nbformat": 4,
 "nbformat_minor": 2
}
