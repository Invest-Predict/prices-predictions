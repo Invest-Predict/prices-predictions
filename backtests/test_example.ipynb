{
 "cells": [
  {
   "cell_type": "code",
   "execution_count": 2,
   "metadata": {},
   "outputs": [],
   "source": [
    "%reload_ext IPython.extensions.autoreload\n",
    "%autoreload 2"
   ]
  },
  {
   "cell_type": "code",
   "execution_count": 3,
   "metadata": {},
   "outputs": [
    {
     "name": "stderr",
     "output_type": "stream",
     "text": [
      "c:\\Users\\Валерия\\OneDrive\\Документы\\GitHub\\prices-predictions\\myenv\\Lib\\site-packages\\tqdm\\auto.py:21: TqdmWarning: IProgress not found. Please update jupyter and ipywidgets. See https://ipywidgets.readthedocs.io/en/stable/user_install.html\n",
      "  from .autonotebook import tqdm as notebook_tqdm\n"
     ]
    }
   ],
   "source": [
    "from t_api_tests import get_accounts, open_account, find_instrument, close_all_accs, trade"
   ]
  },
  {
   "cell_type": "code",
   "execution_count": 4,
   "metadata": {},
   "outputs": [
    {
     "name": "stderr",
     "output_type": "stream",
     "text": [
      "2025-02-12 11:11:26,946 - INFO - 1c5449b15fe1593c6b595917362f80b4 GetAccounts\n"
     ]
    },
    {
     "data": {
      "text/plain": [
       "[Account(id='866b36c7-a7a4-4eab-a1d7-7fb3ccb14186', type=<AccountType.ACCOUNT_TYPE_TINKOFF: 1>, name='lerochka', status=<AccountStatus.ACCOUNT_STATUS_OPEN: 2>, opened_date=datetime.datetime(2025, 2, 12, 7, 59, 58, 550070, tzinfo=datetime.timezone.utc), closed_date=datetime.datetime(1970, 1, 1, 0, 0, tzinfo=datetime.timezone.utc), access_level=<AccessLevel.ACCOUNT_ACCESS_LEVEL_FULL_ACCESS: 1>),\n",
       " Account(id='cf9abd3d-b853-4569-aa6d-a1260fea77f0', type=<AccountType.ACCOUNT_TYPE_TINKOFF: 1>, name='lerochka', status=<AccountStatus.ACCOUNT_STATUS_OPEN: 2>, opened_date=datetime.datetime(2025, 2, 12, 8, 0, 42, 410041, tzinfo=datetime.timezone.utc), closed_date=datetime.datetime(1970, 1, 1, 0, 0, tzinfo=datetime.timezone.utc), access_level=<AccessLevel.ACCOUNT_ACCESS_LEVEL_FULL_ACCESS: 1>)]"
      ]
     },
     "execution_count": 4,
     "metadata": {},
     "output_type": "execute_result"
    }
   ],
   "source": [
    "await get_accounts()"
   ]
  },
  {
   "cell_type": "code",
   "execution_count": 5,
   "metadata": {},
   "outputs": [
    {
     "name": "stderr",
     "output_type": "stream",
     "text": [
      "2025-02-12 11:11:27,693 - INFO - fcfa624abe5ca52f92867abc7199a546 GetAccounts\n",
      "2025-02-12 11:11:28,144 - INFO - 8667e9b155612ce541d91497818764e6 CloseSandboxAccount\n",
      "2025-02-12 11:11:28,285 - INFO - 69a8910f2c008c16c0a3081139868256 CloseSandboxAccount\n"
     ]
    }
   ],
   "source": [
    "await close_all_accs()"
   ]
  },
  {
   "cell_type": "code",
   "execution_count": 6,
   "metadata": {},
   "outputs": [
    {
     "name": "stderr",
     "output_type": "stream",
     "text": [
      "2025-02-12 11:11:28,961 - INFO - 86f8b08676cf5596674c569df7048edb OpenSandboxAccount\n",
      "2025-02-12 11:11:29,094 - INFO - 9ddd97983d644f92fb6d778e62444041 SandboxPayIn\n"
     ]
    },
    {
     "data": {
      "text/plain": [
       "('24fd6bdd-6977-4e1f-a98e-cce53dbb3d72',\n",
       " SandboxPayInResponse(balance=MoneyValue(currency='rub', units=10000, nano=0)))"
      ]
     },
     "execution_count": 6,
     "metadata": {},
     "output_type": "execute_result"
    }
   ],
   "source": [
    "await open_account(name=\"lerochka\")"
   ]
  },
  {
   "cell_type": "code",
   "execution_count": 7,
   "metadata": {},
   "outputs": [
    {
     "name": "stderr",
     "output_type": "stream",
     "text": [
      "2025-02-12 11:11:29,840 - INFO - c9fc1dbf525fe0b642a2e0503c82a660 FindInstrument\n"
     ]
    },
    {
     "data": {
      "text/plain": [
       "[InstrumentShort(isin='RU000A1025U5', figi='BBG00XR1B5V7', ticker='RU000A1025U5', class_code='TQCB', instrument_type='bond', name='Сбер Банк 001Р-SBER17', uid='f6f3414f-848a-4132-9ae6-2775dff48429', position_uid='b2d0709e-bde2-41de-b3f1-72fe477668e7', instrument_kind=<InstrumentType.INSTRUMENT_TYPE_BOND: 1>, api_trade_available_flag=False, for_iis_flag=False, first_1min_candle_date=datetime.datetime(1970, 1, 1, 0, 0, tzinfo=datetime.timezone.utc), first_1day_candle_date=datetime.datetime(1970, 1, 1, 0, 0, tzinfo=datetime.timezone.utc), for_qual_investor_flag=False, weekend_flag=False, blocked_tca_flag=False, lot=1),\n",
       " InstrumentShort(isin='RU000A102CU4', figi='BBG00Y9B45C2', ticker='RU000A102CU4', class_code='TQCB', instrument_type='bond', name='Сбер Банк 001P-SBER19', uid='89b82b03-3008-4616-b8fc-8b87095afd20', position_uid='9a68e631-28b5-4151-9e75-8f9b46034113', instrument_kind=<InstrumentType.INSTRUMENT_TYPE_BOND: 1>, api_trade_available_flag=False, for_iis_flag=False, first_1min_candle_date=datetime.datetime(1970, 1, 1, 0, 0, tzinfo=datetime.timezone.utc), first_1day_candle_date=datetime.datetime(1970, 1, 1, 0, 0, tzinfo=datetime.timezone.utc), for_qual_investor_flag=False, weekend_flag=False, blocked_tca_flag=False, lot=1),\n",
       " InstrumentShort(isin='RU0009029540', figi='TCS109029540', ticker='SBER', class_code='SPEQ', instrument_type='share', name='Сбер Банк', uid='5c0ad78f-7188-4846-bdaf-dd1bfd0f0547', position_uid='41eb2102-5333-4713-bf15-72b204c4bf7b', instrument_kind=<InstrumentType.INSTRUMENT_TYPE_SHARE: 2>, api_trade_available_flag=False, for_iis_flag=True, first_1min_candle_date=datetime.datetime(2018, 3, 16, 12, 31, tzinfo=datetime.timezone.utc), first_1day_candle_date=datetime.datetime(2018, 3, 16, 7, 0, tzinfo=datetime.timezone.utc), for_qual_investor_flag=False, weekend_flag=True, blocked_tca_flag=False, lot=1),\n",
       " InstrumentShort(isin='RU000A109X37', figi='TCS50A109X37', ticker='RU000A109X37', class_code='A36', instrument_type='bond', name='Сбербанк ПАО 001Р-SBERD3', uid='7b326a24-9f3d-4247-bc16-41479368775c', position_uid='59b33ecb-0cb4-4d66-9ebe-721637ea4593', instrument_kind=<InstrumentType.INSTRUMENT_TYPE_BOND: 1>, api_trade_available_flag=False, for_iis_flag=True, first_1min_candle_date=datetime.datetime(1970, 1, 1, 0, 0, tzinfo=datetime.timezone.utc), first_1day_candle_date=datetime.datetime(1970, 1, 1, 0, 0, tzinfo=datetime.timezone.utc), for_qual_investor_flag=False, weekend_flag=False, blocked_tca_flag=False, lot=1),\n",
       " InstrumentShort(isin='RU000A109X37', figi='TCS00A109X37', ticker='RU000A109X37', class_code='TQCB', instrument_type='bond', name='Сбербанк ПАО 001Р-SBERD3', uid='973a3bcc-32f9-488f-8b17-68c03581198d', position_uid='07331dca-7c1e-48b5-b0e9-c9c27cdb0f46', instrument_kind=<InstrumentType.INSTRUMENT_TYPE_BOND: 1>, api_trade_available_flag=True, for_iis_flag=True, first_1min_candle_date=datetime.datetime(2024, 11, 11, 13, 8, tzinfo=datetime.timezone.utc), first_1day_candle_date=datetime.datetime(2024, 11, 11, 0, 0, tzinfo=datetime.timezone.utc), for_qual_investor_flag=False, weekend_flag=False, blocked_tca_flag=False, lot=1),\n",
       " InstrumentShort(isin='RU0009029540', figi='TCS009029540', ticker='SBER', class_code='SMAL', instrument_type='share', name='Сбер Банк', uid='a78b8349-a1dc-447d-9277-1d75826d089a', position_uid='41eb2102-5333-4713-bf15-72b204c4bf7b', instrument_kind=<InstrumentType.INSTRUMENT_TYPE_SHARE: 2>, api_trade_available_flag=False, for_iis_flag=True, first_1min_candle_date=datetime.datetime(2018, 3, 8, 5, 16, tzinfo=datetime.timezone.utc), first_1day_candle_date=datetime.datetime(2018, 3, 13, 7, 0, tzinfo=datetime.timezone.utc), for_qual_investor_flag=False, weekend_flag=True, blocked_tca_flag=False, lot=1),\n",
       " InstrumentShort(isin='RU000A102YG7', figi='TCS801802YG7', ticker='RU000A102YG7', class_code='A36', instrument_type='bond', name='Сбер Банк 001P-SBER25', uid='47208699-52f4-4772-87c6-f091aaf83113', position_uid='47e88708-23f8-43ff-a118-20e878d91eed', instrument_kind=<InstrumentType.INSTRUMENT_TYPE_BOND: 1>, api_trade_available_flag=False, for_iis_flag=False, first_1min_candle_date=datetime.datetime(1970, 1, 1, 0, 0, tzinfo=datetime.timezone.utc), first_1day_candle_date=datetime.datetime(1970, 1, 1, 0, 0, tzinfo=datetime.timezone.utc), for_qual_investor_flag=False, weekend_flag=False, blocked_tca_flag=False, lot=1),\n",
       " InstrumentShort(isin='', figi='FUTSBERF0000', ticker='SBERF', class_code='SPBFUT', instrument_type='futures', name='SBERF Сбер Банк (обыкновенные)', uid='9e9c5921-43ac-47a8-b537-ccf32ebc6da3', position_uid='20cf3f42-c445-48c0-ba90-ab1034df1a8b', instrument_kind=<InstrumentType.INSTRUMENT_TYPE_FUTURES: 5>, api_trade_available_flag=True, for_iis_flag=True, first_1min_candle_date=datetime.datetime(2024, 10, 1, 7, 4, tzinfo=datetime.timezone.utc), first_1day_candle_date=datetime.datetime(2024, 10, 1, 0, 0, tzinfo=datetime.timezone.utc), for_qual_investor_flag=False, weekend_flag=False, blocked_tca_flag=False, lot=1),\n",
       " InstrumentShort(isin='RU0009029557', figi='TCS109029557', ticker='SBERP', class_code='SPEQ', instrument_type='share', name='Сбер Банк - привилегированные акции', uid='64c0da45-4c90-41d4-b053-0c66c7a8ddcd', position_uid='9cf9718d-50df-4326-a205-cf306933607e', instrument_kind=<InstrumentType.INSTRUMENT_TYPE_SHARE: 2>, api_trade_available_flag=False, for_iis_flag=True, first_1min_candle_date=datetime.datetime(2018, 3, 16, 12, 31, tzinfo=datetime.timezone.utc), first_1day_candle_date=datetime.datetime(2018, 3, 16, 7, 0, tzinfo=datetime.timezone.utc), for_qual_investor_flag=False, weekend_flag=True, blocked_tca_flag=False, lot=1),\n",
       " InstrumentShort(isin='RU000A105SD9', figi='TCS00A105SD9', ticker='RU000A105SD9', class_code='TQCB', instrument_type='bond', name='Сбер Банк 001P-SBER42', uid='3b6b5432-3513-42e0-bcd3-345dc6d06dbb', position_uid='ba0496b6-44de-43f0-9726-e77bc3003e5c', instrument_kind=<InstrumentType.INSTRUMENT_TYPE_BOND: 1>, api_trade_available_flag=True, for_iis_flag=True, first_1min_candle_date=datetime.datetime(2023, 2, 3, 13, 3, tzinfo=datetime.timezone.utc), first_1day_candle_date=datetime.datetime(2023, 2, 3, 7, 0, tzinfo=datetime.timezone.utc), for_qual_investor_flag=False, weekend_flag=False, blocked_tca_flag=False, lot=1),\n",
       " InstrumentShort(isin='RU000A1069P3', figi='TCS00A1069P3', ticker='RU000A1069P3', class_code='TQCB', instrument_type='bond', name='Сбербанк 2P-SBER44', uid='cf331b84-b924-48f3-8878-4643047d5946', position_uid='15044774-37b5-45cc-a256-fc3645d29f53', instrument_kind=<InstrumentType.INSTRUMENT_TYPE_BOND: 1>, api_trade_available_flag=True, for_iis_flag=True, first_1min_candle_date=datetime.datetime(2023, 5, 31, 13, 2, tzinfo=datetime.timezone.utc), first_1day_candle_date=datetime.datetime(2023, 5, 31, 7, 0, tzinfo=datetime.timezone.utc), for_qual_investor_flag=False, weekend_flag=False, blocked_tca_flag=False, lot=1),\n",
       " InstrumentShort(isin='US80585Y3080', figi='BBG001VBZR00', ticker='SBER@GS', class_code='SPBXM', instrument_type='share', name='Sberbank of Russia PJSC', uid='0b93c578-02dd-4de6-9c79-49d9f3bf0e60', position_uid='2588b56c-3beb-4ff1-b970-8905bb58f20c', instrument_kind=<InstrumentType.INSTRUMENT_TYPE_SHARE: 2>, api_trade_available_flag=False, for_iis_flag=False, first_1min_candle_date=datetime.datetime(2021, 4, 22, 7, 0, tzinfo=datetime.timezone.utc), first_1day_candle_date=datetime.datetime(2021, 4, 22, 7, 0, tzinfo=datetime.timezone.utc), for_qual_investor_flag=False, weekend_flag=False, blocked_tca_flag=False, lot=1),\n",
       " InstrumentShort(isin='RU000A102YG7', figi='BBG0104NZHS7', ticker='RU000A102YG7', class_code='TQCB', instrument_type='bond', name='Сбер Банк 001P-SBER25', uid='acb183eb-5837-42d7-bc90-005ad2f66536', position_uid='077fbe2c-70ee-4591-850b-4ee736e27697', instrument_kind=<InstrumentType.INSTRUMENT_TYPE_BOND: 1>, api_trade_available_flag=True, for_iis_flag=True, first_1min_candle_date=datetime.datetime(2021, 4, 15, 12, 20, tzinfo=datetime.timezone.utc), first_1day_candle_date=datetime.datetime(2021, 4, 15, 7, 0, tzinfo=datetime.timezone.utc), for_qual_investor_flag=False, weekend_flag=False, blocked_tca_flag=False, lot=1),\n",
       " InstrumentShort(isin='RU000A103G75', figi='BBG0122KNFZ0', ticker='RU000A103G75', class_code='TQCB', instrument_type='bond', name='Сбер Банк 001P-SBER32', uid='7f2e6c92-822c-4ef3-982f-194c12d9c17d', position_uid='a399c9ef-5443-4ddd-bbf3-b207842267b2', instrument_kind=<InstrumentType.INSTRUMENT_TYPE_BOND: 1>, api_trade_available_flag=False, for_iis_flag=True, first_1min_candle_date=datetime.datetime(1970, 1, 1, 0, 0, tzinfo=datetime.timezone.utc), first_1day_candle_date=datetime.datetime(1970, 1, 1, 0, 0, tzinfo=datetime.timezone.utc), for_qual_investor_flag=False, weekend_flag=False, blocked_tca_flag=False, lot=1),\n",
       " InstrumentShort(isin='RU0009029540', figi='BBG004730N88', ticker='SBER', class_code='TQBR', instrument_type='share', name='Сбер Банк', uid='e6123145-9665-43e0-8413-cd61b8aa9b13', position_uid='41eb2102-5333-4713-bf15-72b204c4bf7b', instrument_kind=<InstrumentType.INSTRUMENT_TYPE_SHARE: 2>, api_trade_available_flag=True, for_iis_flag=True, first_1min_candle_date=datetime.datetime(2018, 3, 7, 18, 33, tzinfo=datetime.timezone.utc), first_1day_candle_date=datetime.datetime(2000, 1, 4, 7, 0, tzinfo=datetime.timezone.utc), for_qual_investor_flag=False, weekend_flag=True, blocked_tca_flag=False, lot=10),\n",
       " InstrumentShort(isin='RU000A102RQ0', figi='BBG011K09FF4', ticker='RU000A102RQ0', class_code='TQCB', instrument_type='bond', name='Сбер Банк 001Р-SBER22', uid='ecc38ecd-7bf8-4b10-972d-bea6d0a45bfc', position_uid='af78aed4-c603-4ac3-880d-476437d17970', instrument_kind=<InstrumentType.INSTRUMENT_TYPE_BOND: 1>, api_trade_available_flag=False, for_iis_flag=True, first_1min_candle_date=datetime.datetime(1970, 1, 1, 0, 0, tzinfo=datetime.timezone.utc), first_1day_candle_date=datetime.datetime(1970, 1, 1, 0, 0, tzinfo=datetime.timezone.utc), for_qual_investor_flag=False, weekend_flag=False, blocked_tca_flag=False, lot=1),\n",
       " InstrumentShort(isin='RU000A102RS6', figi='BBG00ZZ927H8', ticker='RU000A102RS6', class_code='TQCB', instrument_type='bond', name='Сбер Банк 001P-SBER24', uid='1378168c-777c-49c6-8179-80f751f425a2', position_uid='d66c3097-4eed-431f-878a-67b8b3838d60', instrument_kind=<InstrumentType.INSTRUMENT_TYPE_BOND: 1>, api_trade_available_flag=False, for_iis_flag=False, first_1min_candle_date=datetime.datetime(1970, 1, 1, 0, 0, tzinfo=datetime.timezone.utc), first_1day_candle_date=datetime.datetime(1970, 1, 1, 0, 0, tzinfo=datetime.timezone.utc), for_qual_investor_flag=False, weekend_flag=False, blocked_tca_flag=False, lot=1),\n",
       " InstrumentShort(isin='RU0009029557', figi='BBG0047315Y7', ticker='SBERP', class_code='TQBR', instrument_type='share', name='Сбер Банк - привилегированные акции', uid='c190ff1f-1447-4227-b543-316332699ca5', position_uid='9cf9718d-50df-4326-a205-cf306933607e', instrument_kind=<InstrumentType.INSTRUMENT_TYPE_SHARE: 2>, api_trade_available_flag=True, for_iis_flag=True, first_1min_candle_date=datetime.datetime(2018, 3, 7, 18, 33, tzinfo=datetime.timezone.utc), first_1day_candle_date=datetime.datetime(2000, 1, 4, 7, 0, tzinfo=datetime.timezone.utc), for_qual_investor_flag=False, weekend_flag=True, blocked_tca_flag=False, lot=10),\n",
       " InstrumentShort(isin='RU000A101C89', figi='BBG00RKBQ4D2', ticker='RU000A101C89', class_code='TQCB', instrument_type='bond', name='Сбер Банк 001P-SBER15', uid='c6bcc9c0-aca0-4c0d-b0e4-0f7fece89b3a', position_uid='abcd110d-fdc3-4671-a793-9e9bdfe1aa2d', instrument_kind=<InstrumentType.INSTRUMENT_TYPE_BOND: 1>, api_trade_available_flag=False, for_iis_flag=True, first_1min_candle_date=datetime.datetime(1970, 1, 1, 0, 0, tzinfo=datetime.timezone.utc), first_1day_candle_date=datetime.datetime(1970, 1, 1, 0, 0, tzinfo=datetime.timezone.utc), for_qual_investor_flag=False, weekend_flag=False, blocked_tca_flag=False, lot=1),\n",
       " InstrumentShort(isin='XS0935311240', figi='BBG004JVKZ11', ticker='XS0935311240', class_code='XS0935311240', instrument_type='bond', name='Sberbank', uid='30549475-e086-4c62-a6bc-6eb4d59572f1', position_uid='d418b2d5-4ca4-4b08-a5ce-687659611d78', instrument_kind=<InstrumentType.INSTRUMENT_TYPE_BOND: 1>, api_trade_available_flag=False, for_iis_flag=False, first_1min_candle_date=datetime.datetime(1970, 1, 1, 0, 0, tzinfo=datetime.timezone.utc), first_1day_candle_date=datetime.datetime(1970, 1, 1, 0, 0, tzinfo=datetime.timezone.utc), for_qual_investor_flag=True, weekend_flag=False, blocked_tca_flag=False, lot=1),\n",
       " InstrumentShort(isin='RU0009029557', figi='TCS009029557', ticker='SBERP', class_code='SMAL', instrument_type='share', name='Сбер Банк - привилегированные акции', uid='16e54a78-35b3-41f5-83e2-0cecb2b53e5c', position_uid='9cf9718d-50df-4326-a205-cf306933607e', instrument_kind=<InstrumentType.INSTRUMENT_TYPE_SHARE: 2>, api_trade_available_flag=False, for_iis_flag=True, first_1min_candle_date=datetime.datetime(2018, 3, 8, 4, 3, tzinfo=datetime.timezone.utc), first_1day_candle_date=datetime.datetime(2018, 3, 13, 7, 0, tzinfo=datetime.timezone.utc), for_qual_investor_flag=False, weekend_flag=True, blocked_tca_flag=False, lot=1)]"
      ]
     },
     "execution_count": 7,
     "metadata": {},
     "output_type": "execute_result"
    }
   ],
   "source": [
    "await find_instrument(\"Sber\")"
   ]
  },
  {
   "cell_type": "code",
   "execution_count": 8,
   "metadata": {},
   "outputs": [],
   "source": [
    "train_args = {\"iterations\" : 3000, \n",
    "        \"depth\" : 5, \n",
    "        \"learning_rate\" : 0.01, \n",
    "        \"use_best_model\" : True, \n",
    "        \"l2_leaf_reg\" : 3,\n",
    "        \"loss_function\" : 'Logloss', \n",
    "        \"eval_metric\" : 'Logloss', \n",
    "        \"cat_features\" : [], \n",
    "        \"random_state\" : 42,\n",
    "        \"verbose\" : 0,\n",
    "        \"early_stopping_rounds\" : 1000}\n",
    "\n",
    "\n",
    "w1 = [1, 2, 3, 4, 5, 6, 7]\n",
    "w2 = [2, 4, 6, 8, 10, 18, 30]\n",
    "\n",
    "feature_settings = {\n",
    "    \"shifts_norms\" : w1, \n",
    "    \"ma\" : w2, \n",
    "    \"ema\" : w2, \n",
    "    \"boll\" : 1, \n",
    "    \"rsi\" : 1, \n",
    "    \"hl_diff\" : 1, \n",
    "    \"stoch_ocs\" : 1, \n",
    "    \"rand_pred\" : 1,\n",
    "}\n"
   ]
  },
  {
   "cell_type": "code",
   "execution_count": 9,
   "metadata": {},
   "outputs": [],
   "source": [
    "import datetime as dt"
   ]
  },
  {
   "cell_type": "code",
   "execution_count": null,
   "metadata": {},
   "outputs": [
    {
     "name": "stderr",
     "output_type": "stream",
     "text": [
      "2025-02-12 11:37:42,421 - INFO - Начало загрузки данных для обучения модели\n",
      "2025-02-12 11:37:42,938 - INFO - b6d691b6bb5e554a460b9229f24b3bfe GetCandles\n",
      "2025-02-12 11:37:43,122 - INFO - 38b5411e2b2022aa9a2070260005a9ac GetCandles\n",
      "2025-02-12 11:37:43,304 - INFO - 20244e291bd5e4c028c7866e44901633 GetCandles\n",
      "2025-02-12 11:37:43,457 - INFO - 31ee8586caecbde60d4bfcd00babb36b GetCandles\n",
      "2025-02-12 11:37:43,625 - INFO - 9af3a2ec96b6714259bc7434ff86bdda GetCandles\n",
      "2025-02-12 11:37:43,750 - INFO - 81eb6b5c8a1fd657a9f5dd44b69d2b42 GetCandles\n",
      "2025-02-12 11:37:43,925 - INFO - 579bf3d846b18720e670576bcf2bc774 GetCandles\n",
      "2025-02-12 11:37:44,106 - INFO - eb6e24ed0b1d01371f842edc5de351f4 GetCandles\n",
      "2025-02-12 11:37:44,288 - INFO - 81e895071de00641aafa9c445b9f2ac3 GetCandles\n",
      "2025-02-12 11:37:44,472 - INFO - fd65d0aa7330c1066fe03bdcb5f5f258 GetCandles\n",
      "2025-02-12 11:37:44,656 - INFO - 1c3b7b5a9c4452db5bc7029e872f2406 GetCandles\n",
      "2025-02-12 11:37:44,839 - INFO - d5f1f055d69da760dfb14ac13ca68e9b GetCandles\n",
      "2025-02-12 11:37:45,019 - INFO - f091336b3bc092cde3595ddbc11353b7 GetCandles\n",
      "2025-02-12 11:37:45,196 - INFO - c50f961b3fdf5594dfd651341d2729c5 GetCandles\n",
      "2025-02-12 11:37:45,334 - INFO - 384c76f1b80b1383f944e25138abbdfd GetCandles\n",
      "2025-02-12 11:37:45,527 - INFO - 3a3f1d489dedccda40aed7eb670b3e7e GetCandles\n",
      "2025-02-12 11:37:45,695 - INFO - 6da729475f86f8ae1159fcc6f38ffd5e GetCandles\n",
      "2025-02-12 11:37:45,845 - INFO - 2fe4988f276e66e224708741a14078b7 GetCandles\n",
      "2025-02-12 11:37:46,040 - INFO - d9c452aed12992fcbec4633a374d5692 GetCandles\n",
      "2025-02-12 11:37:46,227 - INFO - 3a40a2c68c5f7488a380eed069c9c316 GetCandles\n",
      "2025-02-12 11:37:46,359 - INFO - 822b65d8bb5b50cd60740734b6a2fe15 GetCandles\n",
      "2025-02-12 11:37:46,498 - INFO - 586bf3d6eb56c5686856c3fa6f6a01f5 GetCandles\n",
      "2025-02-12 11:37:46,674 - INFO - 35414d4e367fb24345655bbd6d7679af GetCandles\n",
      "2025-02-12 11:37:46,855 - INFO - 9c01339d5c3454e6d83ae8493afb98d1 GetCandles\n",
      "2025-02-12 11:37:47,055 - INFO - 57d8fef30d128b1392b9d96bc9e08704 GetCandles\n",
      "2025-02-12 11:37:47,238 - INFO - 68d2b2083a03f3bf208b1c8b89170f98 GetCandles\n",
      "2025-02-12 11:37:47,405 - INFO - 1a2243ec0fa11322961e1ae5410aded3 GetCandles\n",
      "2025-02-12 11:37:47,576 - INFO - e3e45ab28cdde8cc991b4b190fd89942 GetCandles\n",
      "2025-02-12 11:37:47,715 - INFO - b63d9464fb025a64aaddf824b91b2656 GetCandles\n",
      "2025-02-12 11:37:47,892 - INFO - 28d1b7ea78390396ac92ae4a3497039c GetCandles\n",
      "2025-02-12 11:37:48,023 - INFO - 09eca3ef036064af279c47576fa1e47a GetCandles\n",
      "2025-02-12 11:37:48,188 - INFO - ab064b466d6db675a89903a8689ddb8b GetCandles\n",
      "2025-02-12 11:37:48,357 - INFO - bb4d08c78beca604ec04bcab8fe76413 GetCandles\n",
      "2025-02-12 11:37:48,555 - INFO - e172f635c2457db76cb31ac4ff52b0ef GetCandles\n",
      "2025-02-12 11:37:48,788 - INFO - 83e382b8e66900e5111df7f779d6da02 GetCandles\n",
      "2025-02-12 11:37:48,943 - INFO - 37c9f0ea49eb6f362e9159f8506d5f2f GetCandles\n",
      "2025-02-12 11:37:49,134 - INFO - 4555bc7eb71b85dd648ba7baa40e960e GetCandles\n",
      "2025-02-12 11:37:49,273 - INFO - 2a20bb5546f8430aa3ba340c49cf3049 GetCandles\n",
      "2025-02-12 11:37:49,457 - INFO - c68f22f31492b27321f01310dd255ad3 GetCandles\n",
      "2025-02-12 11:37:49,643 - INFO - d5253bb96f6d5810ca14ec58c45afc3d GetCandles\n",
      "2025-02-12 11:37:49,848 - INFO - 5457df686eaadcca46e8f923257c87f4 GetCandles\n",
      "2025-02-12 11:37:49,996 - INFO - 564c054a3643f1f4c21e4adc0413e16d GetCandles\n",
      "2025-02-12 11:37:50,127 - INFO - 06d04625927b90fe268753f99166bb9a GetCandles\n",
      "2025-02-12 11:37:50,281 - INFO - 61cc8a8eac7570852e2e209de82da194 GetCandles\n",
      "2025-02-12 11:37:50,458 - INFO - 57e9ee895e6408ec79c876325db8d189 GetCandles\n",
      "2025-02-12 11:37:50,635 - INFO - 109e9bdee57bc25c6fe396f3ee60eb6c GetCandles\n",
      "2025-02-12 11:37:50,809 - INFO - e21b947dce4f7cd1f4c47bbb95079cd6 GetCandles\n",
      "2025-02-12 11:37:50,990 - INFO - 9ab06453818abab1e6bdf443b307ce4b GetCandles\n",
      "2025-02-12 11:37:51,120 - INFO - 6b4194782d6f49cf8b6b39cd01db9434 GetCandles\n",
      "2025-02-12 11:37:51,288 - INFO - 7ece68a7cacec955b6ec0b87fb0a3101 GetCandles\n",
      "2025-02-12 11:37:51,470 - INFO - 15eaf285756ea90ce6f99b2e5f6413c8 GetCandles\n",
      "2025-02-12 11:37:51,658 - INFO - d72edd04e02e2d3566392dfc2df92c90 GetCandles\n",
      "2025-02-12 11:37:51,828 - INFO - ba2b8d1c0180c9a06ad378ed895fd640 GetCandles\n",
      "2025-02-12 11:37:52,006 - INFO - a50093cc950a1d129b3f6e286a2eee1f GetCandles\n",
      "2025-02-12 11:37:52,188 - INFO - ec648f9c7fc57490785f060f4be96fef GetCandles\n",
      "2025-02-12 11:37:52,335 - INFO - f99462b9ba18be65125a62f7efef9204 GetCandles\n",
      "2025-02-12 11:37:52,469 - INFO - ea186d12c8b1b707f9b34bae551aff44 GetCandles\n",
      "2025-02-12 11:37:52,656 - INFO - 7fd60dc97a9da8605267015b1c1cf898 GetCandles\n",
      "2025-02-12 11:37:52,826 - INFO - 8c0f2806ebe03de9e93a10b347e20e0c GetCandles\n",
      "2025-02-12 11:37:52,999 - INFO - b41bd9a6e432dd963e5bb5360549ac9e GetCandles\n",
      "2025-02-12 11:37:53,178 - INFO - 2e97e5b04b6199be22018d16524828dc GetCandles\n",
      "2025-02-12 11:37:53,339 - INFO - 4198c7ea3d1d01ea9c54c8ac21483f20 GetCandles\n",
      "2025-02-12 11:37:53,465 - INFO - 4a9fb0f94dcc6abdad5a92a4fbe64335 GetCandles\n",
      "2025-02-12 11:37:53,602 - INFO - 3a90d6ff050bd88300d9066d4ca8b8ef GetCandles\n",
      "2025-02-12 11:37:53,904 - INFO - 3e9f835c13ccb14dca89a0fa1449ffda GetCandles\n",
      "2025-02-12 11:37:54,089 - INFO - 2cf8454c6e87352cee6118aed0caed8d GetCandles\n",
      "2025-02-12 11:37:54,258 - INFO - 7a8f38fc40965ca37b97f3524f65946a GetCandles\n",
      "2025-02-12 11:37:54,437 - INFO - 74ca6237a3bea83e92894d413ed95924 GetCandles\n",
      "2025-02-12 11:37:54,604 - INFO - bbe9f6306970afe6c5ed9a1ebe099676 GetCandles\n",
      "2025-02-12 11:37:54,736 - INFO - 934e812856cace96bdb3bb6444dd2bae GetCandles\n",
      "2025-02-12 11:37:54,879 - INFO - 9363a5ce6d45aebc62b1ea21c03d3653 GetCandles\n",
      "2025-02-12 11:37:55,055 - INFO - edecf7e10c86867eab5b979ec35021a3 GetCandles\n",
      "2025-02-12 11:37:55,226 - INFO - f1662e2f413dae559b0d29115de3db62 GetCandles\n",
      "2025-02-12 11:37:55,346 - INFO - 369d2ca94abfbd2a7c8a6b4d4d221be0 GetCandles\n",
      "2025-02-12 11:37:55,526 - INFO -         open    high     low   close  volume                       utc  \\\n",
      "0     236.88  237.35  235.45  236.57     301 2024-12-01 04:00:00+00:00   \n",
      "1     236.11  236.48  236.10  236.47      37 2024-12-01 04:10:00+00:00   \n",
      "2     236.17  236.48  236.17  236.24      34 2024-12-01 04:20:00+00:00   \n",
      "3     236.26  236.52  236.24  236.52     133 2024-12-01 04:30:00+00:00   \n",
      "4     236.50  236.53  236.24  236.53     110 2024-12-01 04:40:00+00:00   \n",
      "...      ...     ...     ...     ...     ...                       ...   \n",
      "7766  296.95  297.09  296.65  296.99  101387 2025-02-12 07:50:00+00:00   \n",
      "7767  296.98  297.38  296.80  297.24   81132 2025-02-12 08:00:00+00:00   \n",
      "7768  297.29  297.40  297.21  297.30   61065 2025-02-12 08:10:00+00:00   \n",
      "7769  297.31  297.47  297.29  297.46   63851 2025-02-12 08:20:00+00:00   \n",
      "7770  297.46  298.22  297.44  298.17  161994 2025-02-12 08:30:00+00:00   \n",
      "\n",
      "      is_complete  candle_source_type  \n",
      "0            True                   2  \n",
      "1            True                   2  \n",
      "2            True                   2  \n",
      "3            True                   2  \n",
      "4            True                   2  \n",
      "...           ...                 ...  \n",
      "7766         True                   1  \n",
      "7767         True                   1  \n",
      "7768         True                   1  \n",
      "7769         True                   1  \n",
      "7770        False                   1  \n",
      "\n",
      "[7771 rows x 8 columns]\n",
      "2025-02-12 11:37:59,753 - INFO - Собрано 7770 свечей\n",
      "2025-02-12 11:37:59,754 - INFO - Данные успешно загружены и обработаны\n",
      "2025-02-12 11:37:59,756 - INFO - Начало обучения модели\n",
      "2025-02-12 11:38:16,686 - INFO - Обучение модели завершено\n",
      "2025-02-12 11:38:16,687 - INFO - Запуск торгов в песочнице\n",
      "2025-02-12 11:38:17,177 - INFO - 6383f1e9913c7fc2e10339c692a25a6c OpenSandboxAccount\n",
      "2025-02-12 11:38:17,315 - INFO - 81c5993ac4061ec89e89e969f944a27e SandboxPayIn\n",
      "2025-02-12 11:38:17,316 - INFO - Создан аккаунт f14df70d-2389-4e04-aaae-34bcd99d03cb, пополнен на MoneyValue(currency='643', units=10000, nano=0)\n",
      "2025-02-12 11:38:17,317 - INFO - Торги начинаются: 2025-02-12 11:38:17.317947 / Завершение: 2025-02-12 12:00:00\n",
      "2025-02-12 11:38:17,318 - INFO - Ждем 102.68 секунд до 11:40:00...\n",
      "2025-02-12 11:40:00,002 - INFO - Начинаем новый торговый цикл\n",
      "2025-02-12 11:40:00,611 - INFO - 0cee63ab37ab341f4f5ea82b20946f06 GetCandles\n",
      "2025-02-12 11:40:00,617 - INFO -      open   high     low   close  volume                        utc  \\\n",
      "0  297.46  298.3  297.44  298.28  198032  2025-02-12 08:30:00+00:00   \n",
      "\n",
      "  is_complete candle_source_type  \n",
      "0       False                  1  \n",
      "2025-02-12 11:40:05,518 - INFO - Предсказание модели: [0]\n",
      "2025-02-12 11:40:05,961 - INFO - d629a807f1ccc9247df0592034133850 PostOrder\n",
      "2025-02-12 11:40:05,964 - INFO - Продана акция: PostOrderResponse(order_id='6edc3e5f-7a38-48fd-849f-c62cd5b4215c', execution_report_status=<OrderExecutionReportStatus.EXECUTION_REPORT_STATUS_FILL: 1>, lots_requested=1, lots_executed=1, initial_order_price=MoneyValue(currency='rub', units=2983, nano=300000000), executed_order_price=MoneyValue(currency='rub', units=298, nano=330000000), total_order_amount=MoneyValue(currency='rub', units=2983, nano=300000000), initial_commission=MoneyValue(currency='rub', units=1, nano=491650000), executed_commission=MoneyValue(currency='rub', units=1, nano=491650000), aci_value=MoneyValue(currency='', units=0, nano=0), figi='BBG004730N88', direction=<OrderDirection.ORDER_DIRECTION_SELL: 2>, initial_security_price=MoneyValue(currency='rub', units=298, nano=330000000), order_type=<OrderType.ORDER_TYPE_MARKET: 2>, message='', initial_order_price_pt=Quotation(units=0, nano=0), instrument_uid='e6123145-9665-43e0-8413-cd61b8aa9b13', order_request_id='22fda45e-4f70-4741-bd87-33b3aa86162d', response_metadata=ResponseMetadata(tracking_id='d629a807f1ccc9247df0592034133850', server_time=datetime.datetime(2025, 2, 12, 8, 40, 5, 918832, tzinfo=datetime.timezone.utc)))\n",
      "2025-02-12 11:40:05,965 - INFO - Ждем 594.04 секунд до 11:50:00...\n",
      "2025-02-12 11:50:00,000 - INFO - Начинаем новый торговый цикл\n",
      "2025-02-12 11:50:00,570 - INFO - dfe5197e62533ea059f01fa422b326fb PostOrder\n",
      "2025-02-12 11:50:00,573 - INFO - Продана акция: PostOrderResponse(order_id='55861639-1faa-4dd5-b5ae-3cb437e78d59', execution_report_status=<OrderExecutionReportStatus.EXECUTION_REPORT_STATUS_FILL: 1>, lots_requested=1, lots_executed=1, initial_order_price=MoneyValue(currency='rub', units=2978, nano=400000000), executed_order_price=MoneyValue(currency='rub', units=297, nano=840000000), total_order_amount=MoneyValue(currency='rub', units=2978, nano=400000000), initial_commission=MoneyValue(currency='rub', units=1, nano=489200000), executed_commission=MoneyValue(currency='rub', units=1, nano=489200000), aci_value=MoneyValue(currency='', units=0, nano=0), figi='BBG004730N88', direction=<OrderDirection.ORDER_DIRECTION_SELL: 2>, initial_security_price=MoneyValue(currency='rub', units=297, nano=840000000), order_type=<OrderType.ORDER_TYPE_MARKET: 2>, message='', initial_order_price_pt=Quotation(units=0, nano=0), instrument_uid='e6123145-9665-43e0-8413-cd61b8aa9b13', order_request_id='feee33c3-0d59-45eb-ae20-45ee9730e921', response_metadata=ResponseMetadata(tracking_id='dfe5197e62533ea059f01fa422b326fb', server_time=datetime.datetime(2025, 2, 12, 8, 50, 0, 525831, tzinfo=datetime.timezone.utc)))\n",
      "2025-02-12 11:50:01,134 - INFO - 07fba8759d74d36a3dc7208fb3fbe7bf GetCandles\n",
      "2025-02-12 11:50:01,142 - INFO -      open    high    low   close  volume                        utc  \\\n",
      "0  298.27  298.35  297.6  297.84  111188  2025-02-12 08:40:00+00:00   \n",
      "\n",
      "  is_complete candle_source_type  \n",
      "0        True                  1  \n",
      "2025-02-12 11:50:06,571 - INFO - Предсказание модели: [1]\n",
      "2025-02-12 11:50:07,072 - INFO - a7a867f377548c5cd60a2297047316cc PostOrder\n",
      "2025-02-12 11:50:07,077 - INFO - Куплена акция: PostOrderResponse(order_id='27a51aee-506e-42f5-8447-5e6f09cff142', execution_report_status=<OrderExecutionReportStatus.EXECUTION_REPORT_STATUS_FILL: 1>, lots_requested=1, lots_executed=1, initial_order_price=MoneyValue(currency='rub', units=2978, nano=400000000), executed_order_price=MoneyValue(currency='rub', units=297, nano=840000000), total_order_amount=MoneyValue(currency='rub', units=2978, nano=400000000), initial_commission=MoneyValue(currency='rub', units=1, nano=489200000), executed_commission=MoneyValue(currency='rub', units=1, nano=489200000), aci_value=MoneyValue(currency='', units=0, nano=0), figi='BBG004730N88', direction=<OrderDirection.ORDER_DIRECTION_BUY: 1>, initial_security_price=MoneyValue(currency='rub', units=297, nano=840000000), order_type=<OrderType.ORDER_TYPE_MARKET: 2>, message='', initial_order_price_pt=Quotation(units=0, nano=0), instrument_uid='e6123145-9665-43e0-8413-cd61b8aa9b13', order_request_id='9100cc01-43b9-4d0c-a557-1df0425303f9', response_metadata=ResponseMetadata(tracking_id='a7a867f377548c5cd60a2297047316cc', server_time=datetime.datetime(2025, 2, 12, 8, 50, 7, 17781, tzinfo=datetime.timezone.utc)))\n",
      "2025-02-12 11:50:07,081 - INFO - Ждем 592.92 секунд до 12:00:00...\n"
     ]
    }
   ],
   "source": [
    "trade_sets = {\n",
    "    'figi' : 'BBG004730N88', \n",
    "    'lot' : 1, \n",
    "    'args' : train_args, \n",
    "    'start_date' : dt.datetime(2024, 12, 1),\n",
    "    'end_date' : dt.datetime(2025, 2, 12, 12),\n",
    "    'features_sets' : feature_settings, \n",
    "    'train_size' : 3000, \n",
    "    'val_size' : 500\n",
    "}\n",
    "\n",
    "\n",
    "portfolio = await trade(**trade_sets)"
   ]
  }
 ],
 "metadata": {
  "kernelspec": {
   "display_name": "myenv",
   "language": "python",
   "name": "python3"
  },
  "language_info": {
   "codemirror_mode": {
    "name": "ipython",
    "version": 3
   },
   "file_extension": ".py",
   "mimetype": "text/x-python",
   "name": "python",
   "nbconvert_exporter": "python",
   "pygments_lexer": "ipython3",
   "version": "3.12.6"
  }
 },
 "nbformat": 4,
 "nbformat_minor": 2
}
