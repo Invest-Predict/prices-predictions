{
 "cells": [
  {
   "cell_type": "code",
   "execution_count": 1,
   "metadata": {},
   "outputs": [],
   "source": [
    "%load_ext IPython.extensions.autoreload\n",
    "%autoreload 2"
   ]
  },
  {
   "cell_type": "code",
   "execution_count": 37,
   "metadata": {},
   "outputs": [],
   "source": [
    "import pandas as pd\n",
    "import polars as pl\n",
    "import numpy as np\n",
    "import matplotlib.pyplot as plt\n",
    "import seaborn as sns\n",
    "import sklearn\n",
    "import datetime as dt\n",
    "\n",
    "from data import FinData\n",
    "from preprocessing import train_valid_split\n",
    "from model import CatboostFinModel"
   ]
  },
  {
   "cell_type": "code",
   "execution_count": 38,
   "metadata": {},
   "outputs": [],
   "source": [
    "data = FinData(\"../datasets/T_yandex_10min.csv\")\n",
    "\n",
    "data.insert_all()\n",
    "data.make_binary_class_target()"
   ]
  },
  {
   "cell_type": "code",
   "execution_count": 39,
   "metadata": {},
   "outputs": [
    {
     "data": {
      "text/plain": [
       "['hours',\n",
       " 'day',\n",
       " 'minute',\n",
       " 'is_holiday',\n",
       " 'pred_holiday',\n",
       " 'week_pred_holiday',\n",
       " 'day_time',\n",
       " 'season']"
      ]
     },
     "execution_count": 39,
     "metadata": {},
     "output_type": "execute_result"
    }
   ],
   "source": [
    "data.cat_features"
   ]
  },
  {
   "cell_type": "code",
   "execution_count": 43,
   "metadata": {},
   "outputs": [],
   "source": [
    "numeric = data.numeric_features[::5] + data.numeric_features[1::5]\n",
    "\n",
    "cat = data.cat_features\n",
    "\n",
    "args = {\"iterations\" : 10000, \n",
    "        \"depth\" : 5, \n",
    "        \"learning_rate\" : 0.01, # тут слегка неадекватные параметры, которые можно менять \n",
    "        \"use_best_model\" : True, \n",
    "        \"l2_leaf_reg\" : 200,\n",
    "        \"verbose\" : 100, # отчет каждые 100 итераций \n",
    "        \"loss_function\" : 'CrossEntropy', \n",
    "        \"eval_metric\" : 'Accuracy', \n",
    "        \"cat_features\" : cat, \n",
    "        \"random_state\" : 42,\n",
    "        \"early_stopping_rounds\" : 5000}\n",
    "\n",
    "# data.restrict_time_down(2024, 11, 1)"
   ]
  },
  {
   "cell_type": "code",
   "execution_count": 47,
   "metadata": {},
   "outputs": [],
   "source": [
    "X_train, X_val, y_train, y_val = train_valid_split(data=data.df, \n",
    "                                                   year=2024, month=12, day=5, \n",
    "                                                   numeric=numeric, cat=cat, target=\"direction_binary\")"
   ]
  },
  {
   "cell_type": "code",
   "execution_count": 48,
   "metadata": {},
   "outputs": [
    {
     "name": "stdout",
     "output_type": "stream",
     "text": [
      "0:\tlearn: 0.5537687\ttest: 0.6060606\tbest: 0.6060606 (0)\ttotal: 96.5ms\tremaining: 16m 4s\n",
      "100:\tlearn: 0.5559363\ttest: 0.5858586\tbest: 0.6111111 (1)\ttotal: 10.7s\tremaining: 17m 32s\n",
      "200:\tlearn: 0.5581560\ttest: 0.5909091\tbest: 0.6111111 (1)\ttotal: 23.2s\tremaining: 18m 50s\n",
      "300:\tlearn: 0.5596606\ttest: 0.5959596\tbest: 0.6111111 (1)\ttotal: 35.3s\tremaining: 18m 58s\n",
      "400:\tlearn: 0.5609046\ttest: 0.5959596\tbest: 0.6111111 (1)\ttotal: 46.6s\tremaining: 18m 35s\n",
      "500:\tlearn: 0.5617761\ttest: 0.5909091\tbest: 0.6111111 (1)\ttotal: 58s\tremaining: 18m 20s\n",
      "600:\tlearn: 0.5632211\ttest: 0.5909091\tbest: 0.6111111 (1)\ttotal: 1m 11s\tremaining: 18m 36s\n",
      "700:\tlearn: 0.5645545\ttest: 0.5909091\tbest: 0.6111111 (1)\ttotal: 1m 22s\tremaining: 18m 20s\n",
      "800:\tlearn: 0.5657388\ttest: 0.5909091\tbest: 0.6111111 (1)\ttotal: 1m 35s\tremaining: 18m 16s\n",
      "900:\tlearn: 0.5674148\ttest: 0.5959596\tbest: 0.6111111 (1)\ttotal: 1m 47s\tremaining: 18m 7s\n",
      "1000:\tlearn: 0.5685246\ttest: 0.5959596\tbest: 0.6111111 (1)\ttotal: 1m 59s\tremaining: 17m 54s\n",
      "1100:\tlearn: 0.5698207\ttest: 0.6010101\tbest: 0.6111111 (1)\ttotal: 2m 11s\tremaining: 17m 44s\n",
      "1200:\tlearn: 0.5709529\ttest: 0.6010101\tbest: 0.6111111 (1)\ttotal: 2m 29s\tremaining: 18m 17s\n",
      "1300:\tlearn: 0.5728449\ttest: 0.6060606\tbest: 0.6111111 (1)\ttotal: 2m 49s\tremaining: 18m 55s\n",
      "1400:\tlearn: 0.5743868\ttest: 0.6060606\tbest: 0.6111111 (1)\ttotal: 3m 11s\tremaining: 19m 32s\n",
      "1500:\tlearn: 0.5760255\ttest: 0.6060606\tbest: 0.6111111 (1)\ttotal: 3m 30s\tremaining: 19m 52s\n",
      "1600:\tlearn: 0.5776866\ttest: 0.5959596\tbest: 0.6111111 (1)\ttotal: 3m 48s\tremaining: 19m 58s\n",
      "1700:\tlearn: 0.5794892\ttest: 0.5909091\tbest: 0.6111111 (1)\ttotal: 4m 6s\tremaining: 20m 3s\n",
      "1800:\tlearn: 0.5807480\ttest: 0.5909091\tbest: 0.6111111 (1)\ttotal: 4m 27s\tremaining: 20m 19s\n",
      "1900:\tlearn: 0.5818132\ttest: 0.5959596\tbest: 0.6111111 (1)\ttotal: 4m 50s\tremaining: 20m 36s\n",
      "2000:\tlearn: 0.5832508\ttest: 0.5959596\tbest: 0.6111111 (1)\ttotal: 5m 10s\tremaining: 20m 41s\n",
      "2100:\tlearn: 0.5846213\ttest: 0.5909091\tbest: 0.6111111 (1)\ttotal: 5m 30s\tremaining: 20m 42s\n",
      "2200:\tlearn: 0.5858876\ttest: 0.5858586\tbest: 0.6111111 (1)\ttotal: 5m 48s\tremaining: 20m 33s\n",
      "2300:\tlearn: 0.5870869\ttest: 0.5909091\tbest: 0.6111111 (1)\ttotal: 6m 5s\tremaining: 20m 21s\n",
      "2400:\tlearn: 0.5880552\ttest: 0.5909091\tbest: 0.6111111 (1)\ttotal: 6m 21s\tremaining: 20m 7s\n",
      "2500:\tlearn: 0.5895673\ttest: 0.5959596\tbest: 0.6111111 (1)\ttotal: 6m 39s\tremaining: 19m 58s\n",
      "2600:\tlearn: 0.5907293\ttest: 0.5959596\tbest: 0.6111111 (1)\ttotal: 6m 58s\tremaining: 19m 50s\n",
      "2700:\tlearn: 0.5918764\ttest: 0.5959596\tbest: 0.6111111 (1)\ttotal: 7m 12s\tremaining: 19m 28s\n",
      "2800:\tlearn: 0.5932470\ttest: 0.5959596\tbest: 0.6111111 (1)\ttotal: 7m 26s\tremaining: 19m 8s\n",
      "2900:\tlearn: 0.5945803\ttest: 0.6010101\tbest: 0.6111111 (1)\ttotal: 7m 40s\tremaining: 18m 46s\n",
      "3000:\tlearn: 0.5954146\ttest: 0.6010101\tbest: 0.6111111 (1)\ttotal: 7m 53s\tremaining: 18m 24s\n",
      "3100:\tlearn: 0.5964127\ttest: 0.6060606\tbest: 0.6111111 (1)\ttotal: 8m 7s\tremaining: 18m 4s\n",
      "3200:\tlearn: 0.5977758\ttest: 0.6060606\tbest: 0.6111111 (1)\ttotal: 8m 20s\tremaining: 17m 43s\n",
      "3300:\tlearn: 0.5989006\ttest: 0.6060606\tbest: 0.6111111 (1)\ttotal: 8m 33s\tremaining: 17m 23s\n",
      "3400:\tlearn: 0.5996231\ttest: 0.6060606\tbest: 0.6111111 (1)\ttotal: 8m 46s\tremaining: 17m 2s\n",
      "3500:\tlearn: 0.6008521\ttest: 0.6060606\tbest: 0.6111111 (1)\ttotal: 8m 59s\tremaining: 16m 42s\n",
      "3600:\tlearn: 0.6016194\ttest: 0.6060606\tbest: 0.6111111 (1)\ttotal: 9m 13s\tremaining: 16m 24s\n",
      "3700:\tlearn: 0.6022897\ttest: 0.6060606\tbest: 0.6111111 (1)\ttotal: 9m 28s\tremaining: 16m 7s\n",
      "3800:\tlearn: 0.6034815\ttest: 0.6010101\tbest: 0.6111111 (1)\ttotal: 9m 42s\tremaining: 15m 50s\n",
      "3900:\tlearn: 0.6047329\ttest: 0.6010101\tbest: 0.6111111 (1)\ttotal: 9m 57s\tremaining: 15m 33s\n",
      "4000:\tlearn: 0.6055225\ttest: 0.6010101\tbest: 0.6111111 (1)\ttotal: 10m 10s\tremaining: 15m 15s\n",
      "4100:\tlearn: 0.6067590\ttest: 0.6010101\tbest: 0.6111111 (1)\ttotal: 10m 23s\tremaining: 14m 56s\n",
      "4200:\tlearn: 0.6073251\ttest: 0.6010101\tbest: 0.6111111 (1)\ttotal: 10m 35s\tremaining: 14m 37s\n",
      "4300:\tlearn: 0.6078986\ttest: 0.6010101\tbest: 0.6111111 (1)\ttotal: 10m 46s\tremaining: 14m 16s\n",
      "4400:\tlearn: 0.6091724\ttest: 0.6010101\tbest: 0.6111111 (1)\ttotal: 10m 58s\tremaining: 13m 57s\n",
      "4500:\tlearn: 0.6097087\ttest: 0.6010101\tbest: 0.6111111 (1)\ttotal: 11m 10s\tremaining: 13m 38s\n",
      "4600:\tlearn: 0.6106845\ttest: 0.6060606\tbest: 0.6111111 (1)\ttotal: 11m 23s\tremaining: 13m 22s\n",
      "4700:\tlearn: 0.6114144\ttest: 0.6010101\tbest: 0.6111111 (1)\ttotal: 11m 36s\tremaining: 13m 4s\n",
      "4800:\tlearn: 0.6124051\ttest: 0.6060606\tbest: 0.6111111 (1)\ttotal: 11m 48s\tremaining: 12m 46s\n",
      "4900:\tlearn: 0.6133064\ttest: 0.6060606\tbest: 0.6111111 (1)\ttotal: 12m 2s\tremaining: 12m 31s\n",
      "5000:\tlearn: 0.6142897\ttest: 0.6010101\tbest: 0.6111111 (1)\ttotal: 12m 18s\tremaining: 12m 18s\n",
      "Stopped by overfitting detector  (5000 iterations wait)\n",
      "\n",
      "bestTest = 0.6111111111\n",
      "bestIteration = 1\n",
      "\n",
      "Shrink model to first 2 iterations.\n"
     ]
    },
    {
     "data": {
      "text/plain": [
       "<model.CatboostFinModel at 0x2098ef32d90>"
      ]
     },
     "execution_count": 48,
     "metadata": {},
     "output_type": "execute_result"
    }
   ],
   "source": [
    "model = CatboostFinModel(args)\n",
    "\n",
    "model.set_datasets(X_train, X_val, y_train, y_val)\n",
    "model.set_features(numeric, cat)\n",
    "\n",
    "model.fit()"
   ]
  },
  {
   "cell_type": "markdown",
   "metadata": {},
   "source": [
    "Посмотрим на фильтр Баттерворта"
   ]
  },
  {
   "cell_type": "code",
   "execution_count": 28,
   "metadata": {},
   "outputs": [],
   "source": [
    "data2 = FinData(\"../datasets/T_yandex_10min.csv\")\n",
    "\n",
    "data2.insert_shifts_norms([3, 6, 18])\n",
    "data2.insert_rolling_means()\n",
    "data2.insert_exp_rolling_means()\n",
    "data2.insert_stochastic_oscillator()\n",
    "data2.insert_high_low_diff()\n",
    "data2.insert_butter_filter()\n",
    "data2.insert_trend_rsi()\n",
    "data2.insert_trend_rolling_means()\n",
    "data2.insert_trend_deviation()\n",
    "\n",
    "data2.make_binary_class_target()\n"
   ]
  },
  {
   "cell_type": "code",
   "execution_count": 8,
   "metadata": {},
   "outputs": [
    {
     "name": "stdout",
     "output_type": "stream",
     "text": [
      "0:\tlearn: 0.6563452\ttest: 0.6262626\tbest: 0.6262626 (0)\ttotal: 178ms\tremaining: 29m 36s\n",
      "100:\tlearn: 0.6615891\ttest: 0.6363636\tbest: 0.6464646 (7)\ttotal: 3.59s\tremaining: 5m 52s\n",
      "200:\tlearn: 0.6668926\ttest: 0.6363636\tbest: 0.6464646 (7)\ttotal: 7.35s\tremaining: 5m 58s\n",
      "300:\tlearn: 0.6711160\ttest: 0.6464646\tbest: 0.6464646 (7)\ttotal: 11s\tremaining: 5m 55s\n",
      "400:\tlearn: 0.6740434\ttest: 0.6414141\tbest: 0.6464646 (7)\ttotal: 14.6s\tremaining: 5m 49s\n",
      "500:\tlearn: 0.6759354\ttest: 0.6565657\tbest: 0.6565657 (480)\ttotal: 17.9s\tremaining: 5m 38s\n",
      "600:\tlearn: 0.6774624\ttest: 0.6666667\tbest: 0.6666667 (595)\ttotal: 21.5s\tremaining: 5m 35s\n",
      "700:\tlearn: 0.6785499\ttest: 0.6717172\tbest: 0.6717172 (649)\ttotal: 25.1s\tremaining: 5m 32s\n",
      "800:\tlearn: 0.6795331\ttest: 0.6717172\tbest: 0.6717172 (649)\ttotal: 28.4s\tremaining: 5m 25s\n",
      "900:\tlearn: 0.6801514\ttest: 0.6717172\tbest: 0.6717172 (649)\ttotal: 31.9s\tremaining: 5m 21s\n",
      "1000:\tlearn: 0.6805983\ttest: 0.6666667\tbest: 0.6717172 (649)\ttotal: 35.3s\tremaining: 5m 17s\n",
      "1100:\tlearn: 0.6813208\ttest: 0.6666667\tbest: 0.6717172 (649)\ttotal: 38.7s\tremaining: 5m 13s\n",
      "1200:\tlearn: 0.6819837\ttest: 0.6767677\tbest: 0.6767677 (1168)\ttotal: 42.4s\tremaining: 5m 10s\n",
      "1300:\tlearn: 0.6828031\ttest: 0.6666667\tbest: 0.6767677 (1168)\ttotal: 46.2s\tremaining: 5m 8s\n",
      "1400:\tlearn: 0.6832798\ttest: 0.6717172\tbest: 0.6767677 (1168)\ttotal: 49.7s\tremaining: 5m 5s\n",
      "1500:\tlearn: 0.6837640\ttest: 0.6717172\tbest: 0.6767677 (1168)\ttotal: 53.6s\tremaining: 5m 3s\n",
      "1600:\tlearn: 0.6845908\ttest: 0.6717172\tbest: 0.6767677 (1168)\ttotal: 57.2s\tremaining: 5m\n",
      "1700:\tlearn: 0.6852463\ttest: 0.6717172\tbest: 0.6767677 (1168)\ttotal: 1m 1s\tremaining: 4m 57s\n",
      "1800:\tlearn: 0.6859688\ttest: 0.6717172\tbest: 0.6767677 (1168)\ttotal: 1m 5s\tremaining: 4m 55s\n",
      "1900:\tlearn: 0.6866094\ttest: 0.6666667\tbest: 0.6767677 (1168)\ttotal: 1m 8s\tremaining: 4m 53s\n",
      "2000:\tlearn: 0.6873170\ttest: 0.6666667\tbest: 0.6767677 (1168)\ttotal: 1m 12s\tremaining: 4m 50s\n",
      "2100:\tlearn: 0.6878608\ttest: 0.6666667\tbest: 0.6767677 (1168)\ttotal: 1m 17s\tremaining: 4m 49s\n",
      "2200:\tlearn: 0.6885163\ttest: 0.6767677\tbest: 0.6767677 (1168)\ttotal: 1m 20s\tremaining: 4m 45s\n",
      "2300:\tlearn: 0.6888291\ttest: 0.6818182\tbest: 0.6818182 (2273)\ttotal: 1m 24s\tremaining: 4m 43s\n",
      "2400:\tlearn: 0.6893356\ttest: 0.6818182\tbest: 0.6818182 (2273)\ttotal: 1m 28s\tremaining: 4m 39s\n",
      "2500:\tlearn: 0.6899092\ttest: 0.6818182\tbest: 0.6818182 (2273)\ttotal: 1m 32s\tremaining: 4m 36s\n",
      "2600:\tlearn: 0.6902667\ttest: 0.6868687\tbest: 0.6868687 (2521)\ttotal: 1m 36s\tremaining: 4m 35s\n",
      "2700:\tlearn: 0.6907509\ttest: 0.6868687\tbest: 0.6868687 (2521)\ttotal: 1m 40s\tremaining: 4m 32s\n",
      "2800:\tlearn: 0.6911308\ttest: 0.6868687\tbest: 0.6868687 (2521)\ttotal: 1m 45s\tremaining: 4m 30s\n",
      "2900:\tlearn: 0.6914436\ttest: 0.6868687\tbest: 0.6868687 (2521)\ttotal: 1m 49s\tremaining: 4m 27s\n",
      "3000:\tlearn: 0.6918384\ttest: 0.6868687\tbest: 0.6868687 (2521)\ttotal: 1m 53s\tremaining: 4m 23s\n",
      "3100:\tlearn: 0.6921066\ttest: 0.6868687\tbest: 0.6868687 (2521)\ttotal: 1m 57s\tremaining: 4m 20s\n",
      "3200:\tlearn: 0.6925758\ttest: 0.6868687\tbest: 0.6868687 (2521)\ttotal: 2m 1s\tremaining: 4m 17s\n",
      "3300:\tlearn: 0.6930898\ttest: 0.6868687\tbest: 0.6868687 (2521)\ttotal: 2m 6s\tremaining: 4m 16s\n",
      "3400:\tlearn: 0.6934473\ttest: 0.6868687\tbest: 0.6868687 (2521)\ttotal: 2m 10s\tremaining: 4m 12s\n",
      "3500:\tlearn: 0.6938645\ttest: 0.6919192\tbest: 0.6919192 (3490)\ttotal: 2m 14s\tremaining: 4m 10s\n",
      "3600:\tlearn: 0.6942518\ttest: 0.6919192\tbest: 0.6919192 (3490)\ttotal: 2m 19s\tremaining: 4m 7s\n",
      "3700:\tlearn: 0.6948924\ttest: 0.6919192\tbest: 0.6919192 (3490)\ttotal: 2m 23s\tremaining: 4m 3s\n",
      "3800:\tlearn: 0.6953319\ttest: 0.6919192\tbest: 0.6919192 (3490)\ttotal: 2m 27s\tremaining: 4m\n",
      "3900:\tlearn: 0.6957788\ttest: 0.6919192\tbest: 0.6919192 (3490)\ttotal: 2m 31s\tremaining: 3m 56s\n",
      "4000:\tlearn: 0.6962704\ttest: 0.6919192\tbest: 0.6919192 (3490)\ttotal: 2m 35s\tremaining: 3m 53s\n",
      "4100:\tlearn: 0.6965982\ttest: 0.6919192\tbest: 0.6919192 (3490)\ttotal: 2m 40s\tremaining: 3m 50s\n",
      "4200:\tlearn: 0.6969185\ttest: 0.6919192\tbest: 0.6969697 (4190)\ttotal: 2m 44s\tremaining: 3m 47s\n",
      "4300:\tlearn: 0.6972090\ttest: 0.6919192\tbest: 0.6969697 (4190)\ttotal: 2m 48s\tremaining: 3m 43s\n",
      "4400:\tlearn: 0.6976782\ttest: 0.6919192\tbest: 0.6969697 (4190)\ttotal: 2m 52s\tremaining: 3m 39s\n",
      "4500:\tlearn: 0.6979836\ttest: 0.6919192\tbest: 0.6969697 (4190)\ttotal: 2m 55s\tremaining: 3m 34s\n",
      "4600:\tlearn: 0.6983337\ttest: 0.6919192\tbest: 0.6969697 (4190)\ttotal: 2m 59s\tremaining: 3m 31s\n",
      "4700:\tlearn: 0.6986540\ttest: 0.6969697\tbest: 0.6969697 (4190)\ttotal: 3m 3s\tremaining: 3m 27s\n",
      "4800:\tlearn: 0.6990413\ttest: 0.6969697\tbest: 0.6969697 (4190)\ttotal: 3m 8s\tremaining: 3m 24s\n",
      "4900:\tlearn: 0.6994138\ttest: 0.6969697\tbest: 0.6969697 (4190)\ttotal: 3m 18s\tremaining: 3m 26s\n",
      "5000:\tlearn: 0.6995628\ttest: 0.6919192\tbest: 0.6969697 (4190)\ttotal: 3m 29s\tremaining: 3m 29s\n",
      "5100:\tlearn: 0.6998905\ttest: 0.6919192\tbest: 0.6969697 (4190)\ttotal: 3m 40s\tremaining: 3m 31s\n",
      "5200:\tlearn: 0.7003523\ttest: 0.6919192\tbest: 0.6969697 (4190)\ttotal: 3m 50s\tremaining: 3m 32s\n",
      "5300:\tlearn: 0.7007695\ttest: 0.6919192\tbest: 0.6969697 (4190)\ttotal: 4m 4s\tremaining: 3m 36s\n",
      "5400:\tlearn: 0.7012015\ttest: 0.6919192\tbest: 0.6969697 (4190)\ttotal: 4m 16s\tremaining: 3m 38s\n",
      "5500:\tlearn: 0.7013058\ttest: 0.6919192\tbest: 0.6969697 (4190)\ttotal: 4m 25s\tremaining: 3m 37s\n",
      "5600:\tlearn: 0.7016261\ttest: 0.6919192\tbest: 0.6969697 (4190)\ttotal: 4m 35s\tremaining: 3m 36s\n",
      "5700:\tlearn: 0.7019910\ttest: 0.6919192\tbest: 0.6969697 (4190)\ttotal: 4m 46s\tremaining: 3m 36s\n",
      "5800:\tlearn: 0.7023337\ttest: 0.6919192\tbest: 0.6969697 (4190)\ttotal: 4m 57s\tremaining: 3m 35s\n",
      "5900:\tlearn: 0.7028030\ttest: 0.6919192\tbest: 0.6969697 (4190)\ttotal: 5m 8s\tremaining: 3m 34s\n",
      "6000:\tlearn: 0.7031158\ttest: 0.6919192\tbest: 0.6969697 (4190)\ttotal: 5m 19s\tremaining: 3m 33s\n",
      "6100:\tlearn: 0.7033095\ttest: 0.6969697\tbest: 0.6969697 (4190)\ttotal: 5m 31s\tremaining: 3m 32s\n",
      "6200:\tlearn: 0.7035553\ttest: 0.6969697\tbest: 0.6969697 (4190)\ttotal: 5m 41s\tremaining: 3m 29s\n",
      "6300:\tlearn: 0.7038383\ttest: 0.6969697\tbest: 0.7020202 (6239)\ttotal: 5m 50s\tremaining: 3m 25s\n",
      "6400:\tlearn: 0.7042778\ttest: 0.6969697\tbest: 0.7020202 (6239)\ttotal: 6m 2s\tremaining: 3m 23s\n",
      "6500:\tlearn: 0.7045832\ttest: 0.6969697\tbest: 0.7020202 (6239)\ttotal: 6m 8s\tremaining: 3m 18s\n",
      "6600:\tlearn: 0.7050376\ttest: 0.6969697\tbest: 0.7020202 (6239)\ttotal: 6m 12s\tremaining: 3m 11s\n",
      "6700:\tlearn: 0.7051195\ttest: 0.6969697\tbest: 0.7020202 (6239)\ttotal: 6m 15s\tremaining: 3m 4s\n",
      "6800:\tlearn: 0.7053653\ttest: 0.6969697\tbest: 0.7020202 (6239)\ttotal: 6m 19s\tremaining: 2m 58s\n",
      "6900:\tlearn: 0.7057676\ttest: 0.6969697\tbest: 0.7020202 (6239)\ttotal: 6m 23s\tremaining: 2m 52s\n",
      "7000:\tlearn: 0.7059612\ttest: 0.6969697\tbest: 0.7020202 (6239)\ttotal: 6m 26s\tremaining: 2m 45s\n",
      "7100:\tlearn: 0.7062145\ttest: 0.6969697\tbest: 0.7020202 (6239)\ttotal: 6m 30s\tremaining: 2m 39s\n",
      "7200:\tlearn: 0.7065869\ttest: 0.6969697\tbest: 0.7020202 (6239)\ttotal: 6m 34s\tremaining: 2m 33s\n",
      "7300:\tlearn: 0.7069519\ttest: 0.7020202\tbest: 0.7020202 (6239)\ttotal: 6m 37s\tremaining: 2m 27s\n",
      "7400:\tlearn: 0.7073020\ttest: 0.7070707\tbest: 0.7070707 (7319)\ttotal: 6m 41s\tremaining: 2m 21s\n",
      "7500:\tlearn: 0.7073690\ttest: 0.7070707\tbest: 0.7070707 (7319)\ttotal: 6m 45s\tremaining: 2m 15s\n",
      "7600:\tlearn: 0.7075925\ttest: 0.7070707\tbest: 0.7070707 (7319)\ttotal: 6m 50s\tremaining: 2m 9s\n",
      "7700:\tlearn: 0.7078755\ttest: 0.7070707\tbest: 0.7070707 (7319)\ttotal: 6m 53s\tremaining: 2m 3s\n",
      "7800:\tlearn: 0.7083374\ttest: 0.7070707\tbest: 0.7070707 (7319)\ttotal: 6m 57s\tremaining: 1m 57s\n",
      "7900:\tlearn: 0.7085757\ttest: 0.7070707\tbest: 0.7070707 (7319)\ttotal: 7m 1s\tremaining: 1m 52s\n",
      "8000:\tlearn: 0.7088811\ttest: 0.7070707\tbest: 0.7070707 (7319)\ttotal: 7m 5s\tremaining: 1m 46s\n",
      "8100:\tlearn: 0.7091418\ttest: 0.7070707\tbest: 0.7070707 (7319)\ttotal: 7m 10s\tremaining: 1m 40s\n",
      "8200:\tlearn: 0.7095813\ttest: 0.7070707\tbest: 0.7070707 (7319)\ttotal: 7m 14s\tremaining: 1m 35s\n",
      "8300:\tlearn: 0.7099984\ttest: 0.7070707\tbest: 0.7070707 (7319)\ttotal: 7m 18s\tremaining: 1m 29s\n",
      "8400:\tlearn: 0.7101400\ttest: 0.7070707\tbest: 0.7070707 (7319)\ttotal: 7m 21s\tremaining: 1m 24s\n",
      "8500:\tlearn: 0.7104752\ttest: 0.7070707\tbest: 0.7070707 (7319)\ttotal: 7m 25s\tremaining: 1m 18s\n",
      "8600:\tlearn: 0.7106092\ttest: 0.7070707\tbest: 0.7070707 (7319)\ttotal: 7m 29s\tremaining: 1m 13s\n",
      "8700:\tlearn: 0.7110562\ttest: 0.7070707\tbest: 0.7070707 (7319)\ttotal: 7m 32s\tremaining: 1m 7s\n",
      "8800:\tlearn: 0.7113318\ttest: 0.7070707\tbest: 0.7070707 (7319)\ttotal: 7m 36s\tremaining: 1m 2s\n",
      "8900:\tlearn: 0.7117861\ttest: 0.7070707\tbest: 0.7070707 (7319)\ttotal: 7m 40s\tremaining: 56.9s\n",
      "9000:\tlearn: 0.7120915\ttest: 0.7070707\tbest: 0.7070707 (7319)\ttotal: 7m 44s\tremaining: 51.5s\n",
      "9100:\tlearn: 0.7123075\ttest: 0.7070707\tbest: 0.7070707 (7319)\ttotal: 7m 48s\tremaining: 46.2s\n",
      "9200:\tlearn: 0.7125980\ttest: 0.7070707\tbest: 0.7070707 (7319)\ttotal: 7m 56s\tremaining: 41.3s\n",
      "9300:\tlearn: 0.7127768\ttest: 0.7121212\tbest: 0.7121212 (9209)\ttotal: 8m 6s\tremaining: 36.6s\n",
      "9400:\tlearn: 0.7130301\ttest: 0.7070707\tbest: 0.7121212 (9209)\ttotal: 8m 11s\tremaining: 31.3s\n",
      "9500:\tlearn: 0.7132759\ttest: 0.7121212\tbest: 0.7121212 (9209)\ttotal: 8m 15s\tremaining: 26s\n",
      "9600:\tlearn: 0.7136409\ttest: 0.7121212\tbest: 0.7121212 (9209)\ttotal: 8m 19s\tremaining: 20.8s\n",
      "9700:\tlearn: 0.7138196\ttest: 0.7121212\tbest: 0.7121212 (9209)\ttotal: 8m 27s\tremaining: 15.6s\n",
      "9800:\tlearn: 0.7139612\ttest: 0.7121212\tbest: 0.7121212 (9209)\ttotal: 8m 33s\tremaining: 10.4s\n",
      "9900:\tlearn: 0.7141623\ttest: 0.7121212\tbest: 0.7121212 (9209)\ttotal: 8m 38s\tremaining: 5.19s\n",
      "9999:\tlearn: 0.7144826\ttest: 0.7121212\tbest: 0.7121212 (9209)\ttotal: 8m 48s\tremaining: 0us\n",
      "\n",
      "bestTest = 0.7121212121\n",
      "bestIteration = 9209\n",
      "\n",
      "Shrink model to first 9210 iterations.\n"
     ]
    },
    {
     "data": {
      "text/plain": [
       "<model.CatboostFinModel at 0x215034ddaf0>"
      ]
     },
     "execution_count": 8,
     "metadata": {},
     "output_type": "execute_result"
    }
   ],
   "source": [
    "numeric = data2.numeric_features\n",
    "\n",
    "cat = data2.cat_features\n",
    "\n",
    "args = {\"iterations\" : 10000, \n",
    "        \"depth\" : 5, \n",
    "        \"learning_rate\" : 0.01, # тут слегка неадекватные параметры, которые можно менять \n",
    "        \"use_best_model\" : True, \n",
    "        \"l2_leaf_reg\" : 200,\n",
    "        \"verbose\" : 100, # отчет каждые 100 итераций \n",
    "        \"loss_function\" : 'CrossEntropy', \n",
    "        \"eval_metric\" : 'Accuracy', \n",
    "        \"cat_features\" : cat, \n",
    "        \"random_state\" : 42,\n",
    "        \"early_stopping_rounds\" : 5000}\n",
    "\n",
    "X_train, X_val, y_train, y_val = train_valid_split(data=data2.df, \n",
    "                                                   year=2024, month=12, day=5, \n",
    "                                                   numeric=numeric, cat=cat, target=\"direction_binary\")\n",
    "\n",
    "model = CatboostFinModel(args)\n",
    "\n",
    "model.set_datasets(X_train, X_val, y_train, y_val)\n",
    "model.set_features(numeric, cat)\n",
    "\n",
    "model.fit()\n"
   ]
  },
  {
   "cell_type": "code",
   "execution_count": 25,
   "metadata": {},
   "outputs": [
    {
     "data": {
      "image/png": "[encoded data removed]",
      "text/plain": [
       "<Figure size 640x480 with 1 Axes>"
      ]
     },
     "metadata": {},
     "output_type": "display_data"
    }
   ],
   "source": [
    "data2.restrict_time_down_stupidly(months=0, days=20)\n",
    "data2.insert_butter_filter(visualise=True)"
   ]
  }
 ],
 "metadata": {
  "kernelspec": {
   "display_name": ".venv",
   "language": "python",
   "name": "python3"
  },
  "language_info": {
   "codemirror_mode": {
    "name": "ipython",
    "version": 3
   },
   "file_extension": ".py",
   "mimetype": "text/x-python",
   "name": "python",
   "nbconvert_exporter": "python",
   "pygments_lexer": "ipython3",
   "version": "3.12.8"
  }
 },
 "nbformat": 4,
 "nbformat_minor": 2
}
