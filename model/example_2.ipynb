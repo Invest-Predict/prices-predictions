{
 "cells": [
  {
   "cell_type": "code",
   "execution_count": 20,
   "metadata": {},
   "outputs": [
    {
     "name": "stdout",
     "output_type": "stream",
     "text": [
      "The IPython.extensions.autoreload extension is already loaded. To reload it, use:\n",
      "  %reload_ext IPython.extensions.autoreload\n"
     ]
    }
   ],
   "source": [
    "%load_ext IPython.extensions.autoreload\n",
    "%autoreload 2"
   ]
  },
  {
   "cell_type": "code",
   "execution_count": 32,
   "metadata": {},
   "outputs": [],
   "source": [
    "import pandas as pd\n",
    "import polars as pl\n",
    "import numpy as np\n",
    "import matplotlib.pyplot as plt\n",
    "import seaborn as sns\n",
    "import sklearn\n",
    "import datetime as dt\n",
    "\n",
    "from data import FinData\n",
    "from preprocessing import train_valid_split\n",
    "from model import CatboostFinModel"
   ]
  },
  {
   "cell_type": "code",
   "execution_count": 38,
   "metadata": {},
   "outputs": [],
   "source": [
    "data = FinData(\"../datasets/T_yandex_10min.csv\")\n",
    "\n",
    "data.insert_all()\n",
    "data.make_binary_class_target()"
   ]
  },
  {
   "cell_type": "code",
   "execution_count": 39,
   "metadata": {},
   "outputs": [
    {
     "data": {
      "text/plain": [
       "['hours', 'day', 'minute', 'is_holiday', 'pred_holiday', 'week_pred_holiday']"
      ]
     },
     "execution_count": 39,
     "metadata": {},
     "output_type": "execute_result"
    }
   ],
   "source": [
    "data.cat_features"
   ]
  },
  {
   "cell_type": "code",
   "execution_count": 43,
   "metadata": {},
   "outputs": [],
   "source": [
    "numeric = data.numeric_features[::5] + data.numeric_features[1::5]\n",
    "\n",
    "cat = data.cat_features\n",
    "\n",
    "args = {\"iterations\" : 10000, \n",
    "        \"depth\" : 5, \n",
    "        \"learning_rate\" : 0.01, # тут слегка неадекватные параметры, которые можно менять \n",
    "        \"use_best_model\" : True, \n",
    "        \"l2_leaf_reg\" : 200,\n",
    "        \"verbose\" : 100, # отчет каждые 100 итераций \n",
    "        \"loss_function\" : 'CrossEntropy', \n",
    "        \"eval_metric\" : 'Accuracy', \n",
    "        \"cat_features\" : cat, \n",
    "        \"random_state\" : 42,\n",
    "        \"early_stopping_rounds\" : 5000}\n",
    "\n",
    "# data.restrict_time_down(2024, 11, 1)"
   ]
  },
  {
   "cell_type": "code",
   "execution_count": 47,
   "metadata": {},
   "outputs": [],
   "source": [
    "X_train, X_val, y_train, y_val = train_valid_split(data=data.df, \n",
    "                                                   year=2024, month=12, day=5, \n",
    "                                                   numeric=numeric, cat=cat, target=\"direction_binary\")"
   ]
  },
  {
   "cell_type": "code",
   "execution_count": 48,
   "metadata": {},
   "outputs": [
    {
     "name": "stdout",
     "output_type": "stream",
     "text": [
      "0:\tlearn: 0.5537687\ttest: 0.6060606\tbest: 0.6060606 (0)\ttotal: 96.5ms\tremaining: 16m 4s\n",
      "100:\tlearn: 0.5559363\ttest: 0.5858586\tbest: 0.6111111 (1)\ttotal: 10.7s\tremaining: 17m 32s\n",
      "200:\tlearn: 0.5581560\ttest: 0.5909091\tbest: 0.6111111 (1)\ttotal: 23.2s\tremaining: 18m 50s\n",
      "300:\tlearn: 0.5596606\ttest: 0.5959596\tbest: 0.6111111 (1)\ttotal: 35.3s\tremaining: 18m 58s\n",
      "400:\tlearn: 0.5609046\ttest: 0.5959596\tbest: 0.6111111 (1)\ttotal: 46.6s\tremaining: 18m 35s\n",
      "500:\tlearn: 0.5617761\ttest: 0.5909091\tbest: 0.6111111 (1)\ttotal: 58s\tremaining: 18m 20s\n",
      "600:\tlearn: 0.5632211\ttest: 0.5909091\tbest: 0.6111111 (1)\ttotal: 1m 11s\tremaining: 18m 36s\n",
      "700:\tlearn: 0.5645545\ttest: 0.5909091\tbest: 0.6111111 (1)\ttotal: 1m 22s\tremaining: 18m 20s\n",
      "800:\tlearn: 0.5657388\ttest: 0.5909091\tbest: 0.6111111 (1)\ttotal: 1m 35s\tremaining: 18m 16s\n",
      "900:\tlearn: 0.5674148\ttest: 0.5959596\tbest: 0.6111111 (1)\ttotal: 1m 47s\tremaining: 18m 7s\n",
      "1000:\tlearn: 0.5685246\ttest: 0.5959596\tbest: 0.6111111 (1)\ttotal: 1m 59s\tremaining: 17m 54s\n",
      "1100:\tlearn: 0.5698207\ttest: 0.6010101\tbest: 0.6111111 (1)\ttotal: 2m 11s\tremaining: 17m 44s\n",
      "1200:\tlearn: 0.5709529\ttest: 0.6010101\tbest: 0.6111111 (1)\ttotal: 2m 29s\tremaining: 18m 17s\n",
      "1300:\tlearn: 0.5728449\ttest: 0.6060606\tbest: 0.6111111 (1)\ttotal: 2m 49s\tremaining: 18m 55s\n",
      "1400:\tlearn: 0.5743868\ttest: 0.6060606\tbest: 0.6111111 (1)\ttotal: 3m 11s\tremaining: 19m 32s\n",
      "1500:\tlearn: 0.5760255\ttest: 0.6060606\tbest: 0.6111111 (1)\ttotal: 3m 30s\tremaining: 19m 52s\n",
      "1600:\tlearn: 0.5776866\ttest: 0.5959596\tbest: 0.6111111 (1)\ttotal: 3m 48s\tremaining: 19m 58s\n",
      "1700:\tlearn: 0.5794892\ttest: 0.5909091\tbest: 0.6111111 (1)\ttotal: 4m 6s\tremaining: 20m 3s\n",
      "1800:\tlearn: 0.5807480\ttest: 0.5909091\tbest: 0.6111111 (1)\ttotal: 4m 27s\tremaining: 20m 19s\n",
      "1900:\tlearn: 0.5818132\ttest: 0.5959596\tbest: 0.6111111 (1)\ttotal: 4m 50s\tremaining: 20m 36s\n",
      "2000:\tlearn: 0.5832508\ttest: 0.5959596\tbest: 0.6111111 (1)\ttotal: 5m 10s\tremaining: 20m 41s\n",
      "2100:\tlearn: 0.5846213\ttest: 0.5909091\tbest: 0.6111111 (1)\ttotal: 5m 30s\tremaining: 20m 42s\n",
      "2200:\tlearn: 0.5858876\ttest: 0.5858586\tbest: 0.6111111 (1)\ttotal: 5m 48s\tremaining: 20m 33s\n",
      "2300:\tlearn: 0.5870869\ttest: 0.5909091\tbest: 0.6111111 (1)\ttotal: 6m 5s\tremaining: 20m 21s\n",
      "2400:\tlearn: 0.5880552\ttest: 0.5909091\tbest: 0.6111111 (1)\ttotal: 6m 21s\tremaining: 20m 7s\n",
      "2500:\tlearn: 0.5895673\ttest: 0.5959596\tbest: 0.6111111 (1)\ttotal: 6m 39s\tremaining: 19m 58s\n",
      "2600:\tlearn: 0.5907293\ttest: 0.5959596\tbest: 0.6111111 (1)\ttotal: 6m 58s\tremaining: 19m 50s\n",
      "2700:\tlearn: 0.5918764\ttest: 0.5959596\tbest: 0.6111111 (1)\ttotal: 7m 12s\tremaining: 19m 28s\n",
      "2800:\tlearn: 0.5932470\ttest: 0.5959596\tbest: 0.6111111 (1)\ttotal: 7m 26s\tremaining: 19m 8s\n",
      "2900:\tlearn: 0.5945803\ttest: 0.6010101\tbest: 0.6111111 (1)\ttotal: 7m 40s\tremaining: 18m 46s\n",
      "3000:\tlearn: 0.5954146\ttest: 0.6010101\tbest: 0.6111111 (1)\ttotal: 7m 53s\tremaining: 18m 24s\n",
      "3100:\tlearn: 0.5964127\ttest: 0.6060606\tbest: 0.6111111 (1)\ttotal: 8m 7s\tremaining: 18m 4s\n",
      "3200:\tlearn: 0.5977758\ttest: 0.6060606\tbest: 0.6111111 (1)\ttotal: 8m 20s\tremaining: 17m 43s\n",
      "3300:\tlearn: 0.5989006\ttest: 0.6060606\tbest: 0.6111111 (1)\ttotal: 8m 33s\tremaining: 17m 23s\n",
      "3400:\tlearn: 0.5996231\ttest: 0.6060606\tbest: 0.6111111 (1)\ttotal: 8m 46s\tremaining: 17m 2s\n",
      "3500:\tlearn: 0.6008521\ttest: 0.6060606\tbest: 0.6111111 (1)\ttotal: 8m 59s\tremaining: 16m 42s\n",
      "3600:\tlearn: 0.6016194\ttest: 0.6060606\tbest: 0.6111111 (1)\ttotal: 9m 13s\tremaining: 16m 24s\n",
      "3700:\tlearn: 0.6022897\ttest: 0.6060606\tbest: 0.6111111 (1)\ttotal: 9m 28s\tremaining: 16m 7s\n",
      "3800:\tlearn: 0.6034815\ttest: 0.6010101\tbest: 0.6111111 (1)\ttotal: 9m 42s\tremaining: 15m 50s\n",
      "3900:\tlearn: 0.6047329\ttest: 0.6010101\tbest: 0.6111111 (1)\ttotal: 9m 57s\tremaining: 15m 33s\n",
      "4000:\tlearn: 0.6055225\ttest: 0.6010101\tbest: 0.6111111 (1)\ttotal: 10m 10s\tremaining: 15m 15s\n",
      "4100:\tlearn: 0.6067590\ttest: 0.6010101\tbest: 0.6111111 (1)\ttotal: 10m 23s\tremaining: 14m 56s\n",
      "4200:\tlearn: 0.6073251\ttest: 0.6010101\tbest: 0.6111111 (1)\ttotal: 10m 35s\tremaining: 14m 37s\n",
      "4300:\tlearn: 0.6078986\ttest: 0.6010101\tbest: 0.6111111 (1)\ttotal: 10m 46s\tremaining: 14m 16s\n",
      "4400:\tlearn: 0.6091724\ttest: 0.6010101\tbest: 0.6111111 (1)\ttotal: 10m 58s\tremaining: 13m 57s\n",
      "4500:\tlearn: 0.6097087\ttest: 0.6010101\tbest: 0.6111111 (1)\ttotal: 11m 10s\tremaining: 13m 38s\n",
      "4600:\tlearn: 0.6106845\ttest: 0.6060606\tbest: 0.6111111 (1)\ttotal: 11m 23s\tremaining: 13m 22s\n",
      "4700:\tlearn: 0.6114144\ttest: 0.6010101\tbest: 0.6111111 (1)\ttotal: 11m 36s\tremaining: 13m 4s\n",
      "4800:\tlearn: 0.6124051\ttest: 0.6060606\tbest: 0.6111111 (1)\ttotal: 11m 48s\tremaining: 12m 46s\n",
      "4900:\tlearn: 0.6133064\ttest: 0.6060606\tbest: 0.6111111 (1)\ttotal: 12m 2s\tremaining: 12m 31s\n",
      "5000:\tlearn: 0.6142897\ttest: 0.6010101\tbest: 0.6111111 (1)\ttotal: 12m 18s\tremaining: 12m 18s\n",
      "Stopped by overfitting detector  (5000 iterations wait)\n",
      "\n",
      "bestTest = 0.6111111111\n",
      "bestIteration = 1\n",
      "\n",
      "Shrink model to first 2 iterations.\n"
     ]
    },
    {
     "data": {
      "text/plain": [
       "<model.CatboostFinModel at 0x2098ef32d90>"
      ]
     },
     "execution_count": 48,
     "metadata": {},
     "output_type": "execute_result"
    }
   ],
   "source": [
    "model = CatboostFinModel(args)\n",
    "\n",
    "model.set_datasets(X_train, X_val, y_train, y_val)\n",
    "model.set_features(numeric, cat)\n",
    "\n",
    "model.fit()"
   ]
  }
 ],
 "metadata": {
  "kernelspec": {
   "display_name": "base",
   "language": "python",
   "name": "python3"
  },
  "language_info": {
   "codemirror_mode": {
    "name": "ipython",
    "version": 3
   },
   "file_extension": ".py",
   "mimetype": "text/x-python",
   "name": "python",
   "nbconvert_exporter": "python",
   "pygments_lexer": "ipython3",
   "version": "3.9.13"
  }
 },
 "nbformat": 4,
 "nbformat_minor": 2
}
