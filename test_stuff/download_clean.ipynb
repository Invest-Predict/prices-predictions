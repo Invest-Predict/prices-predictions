{
 "cells": [
  {
   "cell_type": "code",
   "execution_count": 2,
   "metadata": {},
   "outputs": [],
   "source": [
    "from dotenv import get_variable\n",
    "from io import BytesIO\n",
    "from requests import get\n",
    "from zipfile import ZipFile\n",
    "from tinkoff.invest.sandbox.client import SandboxClient\n",
    "from tinkoff.invest.constants import INVEST_GRPC_API_SANDBOX\n",
    "from tinkoff.invest.schemas import InstrumentStatus\n",
    "import polars as  pl\n",
    "from time import sleep\n",
    "import matplotlib.pyplot as plt\n",
    "\n",
    "TOKEN = get_variable('.env', 'TOKEN')"
   ]
  },
  {
   "cell_type": "markdown",
   "metadata": {},
   "source": [
    "По тикерам данные не достать, но можно достать по figi (это уникальный идентификатор бумаги для всех бирж), а figi можно достать по тикеру"
   ]
  },
  {
   "cell_type": "code",
   "execution_count": 3,
   "metadata": {},
   "outputs": [],
   "source": [
    "def get_all_figi_by_ticker(ticker):\n",
    "    with SandboxClient(TOKEN, target=INVEST_GRPC_API_SANDBOX) as client:\n",
    "        return [i.figi for i in client.instruments.shares(instrument_status=InstrumentStatus.INSTRUMENT_STATUS_ALL).instruments if i.ticker == ticker]"
   ]
  },
  {
   "cell_type": "code",
   "execution_count": 76,
   "metadata": {},
   "outputs": [],
   "source": [
    "def download_by_figi(figi, name, start_year, end_year=None):\n",
    "    if end_year is None:\n",
    "        end_year = start_year\n",
    "    instrument_dfs = []\n",
    "    for year in range(start_year, end_year + 1):\n",
    "        while True:\n",
    "            r = get('https://invest-public-api.tinkoff.ru/history-data', params={'figi': figi, 'year': year}, headers={'Authorization': f'Bearer {TOKEN}'})\n",
    "            if r.status_code == 429: # timeout\n",
    "                print('[timeout] ', end='')\n",
    "                sleep(5)\n",
    "                continue\n",
    "            if r.status_code == 404: # not found\n",
    "                print(f'{name} ({figi}) not found for year {year}')\n",
    "                return None\n",
    "            if r.status_code != 200: # some other error\n",
    "                print(f'failed with error {r.status_code}')\n",
    "                return None\n",
    "            with ZipFile(BytesIO(r.content)) as z:\n",
    "                for file in z.namelist():\n",
    "                    instrument_dfs.append(pl.read_csv(z.open(file).read(), separator=';', new_columns=['utc', 'open', 'close', 'high', 'low', 'volume'], columns=[1, 2, 3, 4, 5, 6], try_parse_dates=True, infer_schema_length=None).select(pl.col('utc').cast(pl.Datetime), pl.exclude('utc', 'volume').cast(pl.Float64), 'volume'))\n",
    "            break\n",
    "        print(year, '...', sep='', end=' ')\n",
    "    return pl.concat(instrument_dfs).unique().sort(by='utc')"
   ]
  },
  {
   "cell_type": "markdown",
   "metadata": {},
   "source": [
    "### Яндекс"
   ]
  },
  {
   "cell_type": "code",
   "execution_count": 4,
   "metadata": {},
   "outputs": [
    {
     "data": {
      "text/plain": [
       "['TCSS09805522', 'TCS109805522', 'BBG006L8G4H1']"
      ]
     },
     "execution_count": 4,
     "metadata": {},
     "output_type": "execute_result"
    }
   ],
   "source": [
    "get_all_figi_by_ticker('YNDX')"
   ]
  },
  {
   "cell_type": "code",
   "execution_count": 98,
   "metadata": {},
   "outputs": [
    {
     "name": "stdout",
     "output_type": "stream",
     "text": [
      "2018... 2019... 2020... 2021... 2022... 2023... 2024... "
     ]
    }
   ],
   "source": [
    "YNDX_df = download_by_figi('BBG006L8G4H1', 'Yandex', 2018, 2024)"
   ]
  },
  {
   "cell_type": "code",
   "execution_count": 99,
   "metadata": {},
   "outputs": [
    {
     "data": {
      "text/plain": [
       "['TCS00A107T19']"
      ]
     },
     "execution_count": 99,
     "metadata": {},
     "output_type": "execute_result"
    }
   ],
   "source": [
    "get_all_figi_by_ticker('YDEX')"
   ]
  },
  {
   "cell_type": "code",
   "execution_count": 100,
   "metadata": {},
   "outputs": [
    {
     "name": "stdout",
     "output_type": "stream",
     "text": [
      "2024... "
     ]
    }
   ],
   "source": [
    "YDEX_df = download_by_figi('TCS00A107T19', 'Yandex', 2024)"
   ]
  },
  {
   "cell_type": "markdown",
   "metadata": {},
   "source": [
    "Склеим данные по двум тикерам:"
   ]
  },
  {
   "cell_type": "code",
   "execution_count": 101,
   "metadata": {},
   "outputs": [],
   "source": [
    "yandex_data = pl.concat([YNDX_df, YDEX_df]).unique().sort(by='utc')"
   ]
  },
  {
   "cell_type": "code",
   "execution_count": 9,
   "metadata": {},
   "outputs": [
    {
     "data": {
      "text/html": [
       "<div><style>\n",
       ".dataframe > thead > tr,\n",
       ".dataframe > tbody > tr {\n",
       "  text-align: right;\n",
       "  white-space: pre-wrap;\n",
       "}\n",
       "</style>\n",
       "<small>shape: (1_259_801, 6)</small><table border=\"1\" class=\"dataframe\"><thead><tr><th>utc</th><th>Yandex open</th><th>Yandex close</th><th>Yandex high</th><th>Yandex low</th><th>Yandex volume</th></tr><tr><td>datetime[μs, UTC]</td><td>f64</td><td>f64</td><td>f64</td><td>f64</td><td>i64</td></tr></thead><tbody><tr><td>2018-03-07 18:40:00 UTC</td><td>2375.0</td><td>2375.0</td><td>2375.0</td><td>2375.0</td><td>80</td></tr><tr><td>2018-03-07 18:41:00 UTC</td><td>2377.5</td><td>2377.5</td><td>2377.5</td><td>2377.5</td><td>39</td></tr><tr><td>2018-03-07 18:42:00 UTC</td><td>2377.5</td><td>2377.5</td><td>2377.5</td><td>2377.5</td><td>19</td></tr><tr><td>2018-03-07 18:43:00 UTC</td><td>2378.0</td><td>2378.0</td><td>2378.0</td><td>2378.0</td><td>51</td></tr><tr><td>2018-03-07 18:44:00 UTC</td><td>2379.0</td><td>2379.0</td><td>2379.0</td><td>2379.0</td><td>5</td></tr><tr><td>&hellip;</td><td>&hellip;</td><td>&hellip;</td><td>&hellip;</td><td>&hellip;</td><td>&hellip;</td></tr><tr><td>2024-12-06 20:45:00 UTC</td><td>3375.0</td><td>3375.0</td><td>3375.5</td><td>3375.0</td><td>249</td></tr><tr><td>2024-12-06 20:46:00 UTC</td><td>3375.0</td><td>3373.5</td><td>3375.0</td><td>3372.0</td><td>185</td></tr><tr><td>2024-12-06 20:47:00 UTC</td><td>3371.5</td><td>3373.0</td><td>3373.0</td><td>3370.0</td><td>264</td></tr><tr><td>2024-12-06 20:48:00 UTC</td><td>3371.0</td><td>3373.5</td><td>3374.0</td><td>3369.5</td><td>438</td></tr><tr><td>2024-12-06 20:49:00 UTC</td><td>3374.5</td><td>3376.0</td><td>3376.5</td><td>3371.0</td><td>405</td></tr></tbody></table></div>"
      ],
      "text/plain": [
       "shape: (1_259_801, 6)\n",
       "┌─────────────────────────┬─────────────┬──────────────┬─────────────┬────────────┬───────────────┐\n",
       "│ utc                     ┆ Yandex open ┆ Yandex close ┆ Yandex high ┆ Yandex low ┆ Yandex volume │\n",
       "│ ---                     ┆ ---         ┆ ---          ┆ ---         ┆ ---        ┆ ---           │\n",
       "│ datetime[μs, UTC]       ┆ f64         ┆ f64          ┆ f64         ┆ f64        ┆ i64           │\n",
       "╞═════════════════════════╪═════════════╪══════════════╪═════════════╪════════════╪═══════════════╡\n",
       "│ 2018-03-07 18:40:00 UTC ┆ 2375.0      ┆ 2375.0       ┆ 2375.0      ┆ 2375.0     ┆ 80            │\n",
       "│ 2018-03-07 18:41:00 UTC ┆ 2377.5      ┆ 2377.5       ┆ 2377.5      ┆ 2377.5     ┆ 39            │\n",
       "│ 2018-03-07 18:42:00 UTC ┆ 2377.5      ┆ 2377.5       ┆ 2377.5      ┆ 2377.5     ┆ 19            │\n",
       "│ 2018-03-07 18:43:00 UTC ┆ 2378.0      ┆ 2378.0       ┆ 2378.0      ┆ 2378.0     ┆ 51            │\n",
       "│ 2018-03-07 18:44:00 UTC ┆ 2379.0      ┆ 2379.0       ┆ 2379.0      ┆ 2379.0     ┆ 5             │\n",
       "│ …                       ┆ …           ┆ …            ┆ …           ┆ …          ┆ …             │\n",
       "│ 2024-12-06 20:45:00 UTC ┆ 3375.0      ┆ 3375.0       ┆ 3375.5      ┆ 3375.0     ┆ 249           │\n",
       "│ 2024-12-06 20:46:00 UTC ┆ 3375.0      ┆ 3373.5       ┆ 3375.0      ┆ 3372.0     ┆ 185           │\n",
       "│ 2024-12-06 20:47:00 UTC ┆ 3371.5      ┆ 3373.0       ┆ 3373.0      ┆ 3370.0     ┆ 264           │\n",
       "│ 2024-12-06 20:48:00 UTC ┆ 3371.0      ┆ 3373.5       ┆ 3374.0      ┆ 3369.5     ┆ 438           │\n",
       "│ 2024-12-06 20:49:00 UTC ┆ 3374.5      ┆ 3376.0       ┆ 3376.5      ┆ 3371.0     ┆ 405           │\n",
       "└─────────────────────────┴─────────────┴──────────────┴─────────────┴────────────┴───────────────┘"
      ]
     },
     "execution_count": 9,
     "metadata": {},
     "output_type": "execute_result"
    }
   ],
   "source": [
    "yandex_data"
   ]
  },
  {
   "cell_type": "code",
   "execution_count": 32,
   "metadata": {},
   "outputs": [],
   "source": [
    "# Функция для увеличения интервала свечей для Polars\n",
    "\n",
    "def merge_candles(df, freq):\n",
    "    # Берем первое значение колонок, помеченных как open, последнее для high, максимальное для high и минимальное для low\n",
    "    return df.group_by_dynamic('utc', every=freq).agg({'open': pl.first, 'close': pl.last, 'high': pl.max, 'low': pl.min, 'volume': pl.sum}[col.split()[-1]](col) for col in df.columns[1:])"
   ]
  },
  {
   "cell_type": "code",
   "execution_count": 103,
   "metadata": {},
   "outputs": [
    {
     "data": {
      "text/html": [
       "<div><style>\n",
       ".dataframe > thead > tr,\n",
       ".dataframe > tbody > tr {\n",
       "  text-align: right;\n",
       "  white-space: pre-wrap;\n",
       "}\n",
       "</style>\n",
       "<small>shape: (137_084, 6)</small><table border=\"1\" class=\"dataframe\"><thead><tr><th>utc</th><th>open</th><th>close</th><th>high</th><th>low</th><th>volume</th></tr><tr><td>datetime[μs]</td><td>f64</td><td>f64</td><td>f64</td><td>f64</td><td>i64</td></tr></thead><tbody><tr><td>2018-03-07 18:40:00</td><td>2375.0</td><td>2379.5</td><td>2379.5</td><td>2375.0</td><td>231</td></tr><tr><td>2018-03-07 18:50:00</td><td>2380.0</td><td>2385.0</td><td>2385.0</td><td>2380.0</td><td>514</td></tr><tr><td>2018-03-07 19:00:00</td><td>2385.5</td><td>2388.0</td><td>2388.0</td><td>2384.0</td><td>226</td></tr><tr><td>2018-03-07 19:10:00</td><td>2388.0</td><td>2389.5</td><td>2389.5</td><td>2387.0</td><td>207</td></tr><tr><td>2018-03-07 19:20:00</td><td>2386.5</td><td>2386.0</td><td>2389.0</td><td>2386.0</td><td>25</td></tr><tr><td>&hellip;</td><td>&hellip;</td><td>&hellip;</td><td>&hellip;</td><td>&hellip;</td><td>&hellip;</td></tr><tr><td>2024-12-31 20:00:00</td><td>3990.5</td><td>3995.0</td><td>3999.0</td><td>3990.0</td><td>32</td></tr><tr><td>2024-12-31 20:10:00</td><td>3995.0</td><td>3998.5</td><td>3998.5</td><td>3995.0</td><td>19</td></tr><tr><td>2024-12-31 20:20:00</td><td>3995.5</td><td>4000.0</td><td>4000.0</td><td>3995.5</td><td>56</td></tr><tr><td>2024-12-31 20:30:00</td><td>3995.5</td><td>3998.0</td><td>3998.0</td><td>3995.5</td><td>12</td></tr><tr><td>2024-12-31 20:40:00</td><td>3999.5</td><td>4003.5</td><td>4003.5</td><td>3996.0</td><td>359</td></tr></tbody></table></div>"
      ],
      "text/plain": [
       "shape: (137_084, 6)\n",
       "┌─────────────────────┬────────┬────────┬────────┬────────┬────────┐\n",
       "│ utc                 ┆ open   ┆ close  ┆ high   ┆ low    ┆ volume │\n",
       "│ ---                 ┆ ---    ┆ ---    ┆ ---    ┆ ---    ┆ ---    │\n",
       "│ datetime[μs]        ┆ f64    ┆ f64    ┆ f64    ┆ f64    ┆ i64    │\n",
       "╞═════════════════════╪════════╪════════╪════════╪════════╪════════╡\n",
       "│ 2018-03-07 18:40:00 ┆ 2375.0 ┆ 2379.5 ┆ 2379.5 ┆ 2375.0 ┆ 231    │\n",
       "│ 2018-03-07 18:50:00 ┆ 2380.0 ┆ 2385.0 ┆ 2385.0 ┆ 2380.0 ┆ 514    │\n",
       "│ 2018-03-07 19:00:00 ┆ 2385.5 ┆ 2388.0 ┆ 2388.0 ┆ 2384.0 ┆ 226    │\n",
       "│ 2018-03-07 19:10:00 ┆ 2388.0 ┆ 2389.5 ┆ 2389.5 ┆ 2387.0 ┆ 207    │\n",
       "│ 2018-03-07 19:20:00 ┆ 2386.5 ┆ 2386.0 ┆ 2389.0 ┆ 2386.0 ┆ 25     │\n",
       "│ …                   ┆ …      ┆ …      ┆ …      ┆ …      ┆ …      │\n",
       "│ 2024-12-31 20:00:00 ┆ 3990.5 ┆ 3995.0 ┆ 3999.0 ┆ 3990.0 ┆ 32     │\n",
       "│ 2024-12-31 20:10:00 ┆ 3995.0 ┆ 3998.5 ┆ 3998.5 ┆ 3995.0 ┆ 19     │\n",
       "│ 2024-12-31 20:20:00 ┆ 3995.5 ┆ 4000.0 ┆ 4000.0 ┆ 3995.5 ┆ 56     │\n",
       "│ 2024-12-31 20:30:00 ┆ 3995.5 ┆ 3998.0 ┆ 3998.0 ┆ 3995.5 ┆ 12     │\n",
       "│ 2024-12-31 20:40:00 ┆ 3999.5 ┆ 4003.5 ┆ 4003.5 ┆ 3996.0 ┆ 359    │\n",
       "└─────────────────────┴────────┴────────┴────────┴────────┴────────┘"
      ]
     },
     "execution_count": 103,
     "metadata": {},
     "output_type": "execute_result"
    }
   ],
   "source": [
    "# Превращаем минутные свечки в десятиминутные \n",
    "yandex_data.write_csv(\"Yandex_1_min.csv\")\n",
    "yandex_data_10min = merge_candles(yandex_data, '10m')\n",
    "yandex_data_10min.write_csv(\"T_yandex_10min.csv\")\n",
    "yandex_data_10min"
   ]
  },
  {
   "cell_type": "markdown",
   "metadata": {},
   "source": [
    "Посмотрим на временные промежутки, в которые были торги"
   ]
  },
  {
   "cell_type": "code",
   "execution_count": 12,
   "metadata": {},
   "outputs": [
    {
     "data": {
      "image/png": "[encoded data removed]",
      "text/plain": [
       "<Figure size 2000x1000 with 1 Axes>"
      ]
     },
     "metadata": {},
     "output_type": "display_data"
    }
   ],
   "source": [
    "yandex_data_10min.group_by_dynamic('utc', every='1d').agg(pl.col('utc').dt.hour().min().alias('first'), pl.col('utc').dt.hour().max().alias('last')).to_pandas().set_index('utc').plot(figsize=(20, 10))\n",
    "\n",
    "plt.yticks(range(24))\n",
    "plt.show()"
   ]
  },
  {
   "cell_type": "markdown",
   "metadata": {},
   "source": [
    "Посмотрим, появились данные по выходным"
   ]
  },
  {
   "cell_type": "code",
   "execution_count": 16,
   "metadata": {},
   "outputs": [
    {
     "data": {
      "image/png": "[encoded data removed]",
      "text/plain": [
       "<Figure size 2000x1000 with 1 Axes>"
      ]
     },
     "metadata": {},
     "output_type": "display_data"
    }
   ],
   "source": [
    "yandex_data_10min.group_by_dynamic('utc', every='1w').agg(pl.col('utc').dt.weekday().min().alias('first'), pl.col('utc').dt.weekday().max().alias('last')).to_pandas().set_index('utc').plot(figsize=(20, 10))\n",
    "\n",
    "plt.yticks(range(7))\n",
    "plt.show()"
   ]
  },
  {
   "cell_type": "markdown",
   "metadata": {},
   "source": [
    "### Татнефть"
   ]
  },
  {
   "cell_type": "code",
   "execution_count": 7,
   "metadata": {},
   "outputs": [
    {
     "data": {
      "text/plain": [
       "['BBG004RVFFC0', 'TCS009033591']"
      ]
     },
     "execution_count": 7,
     "metadata": {},
     "output_type": "execute_result"
    }
   ],
   "source": [
    "get_all_figi_by_ticker('TATN')"
   ]
  },
  {
   "cell_type": "code",
   "execution_count": 28,
   "metadata": {},
   "outputs": [
    {
     "name": "stdout",
     "output_type": "stream",
     "text": [
      "2018... 2019... 2020... 2021... 2022... 2023... 2024... "
     ]
    }
   ],
   "source": [
    "TATN_df = download_by_figi('BBG004RVFFC0', 'Tatneft', 2018, 2024)"
   ]
  },
  {
   "cell_type": "code",
   "execution_count": 29,
   "metadata": {},
   "outputs": [],
   "source": [
    "TATN_df.write_csv(\"Tatneft_1_min.csv\")\n",
    "merge_candles(TATN_df, '10m').write_csv(\"Tatneft_10_min.csv\")"
   ]
  },
  {
   "cell_type": "markdown",
   "metadata": {},
   "source": [
    "### Сбербанк"
   ]
  },
  {
   "cell_type": "code",
   "execution_count": 16,
   "metadata": {},
   "outputs": [
    {
     "data": {
      "text/plain": [
       "['BBG004RVFFC0', 'TCS009033591']"
      ]
     },
     "execution_count": 16,
     "metadata": {},
     "output_type": "execute_result"
    }
   ],
   "source": [
    "get_all_figi_by_ticker('TATN')"
   ]
  },
  {
   "cell_type": "code",
   "execution_count": 26,
   "metadata": {},
   "outputs": [
    {
     "name": "stdout",
     "output_type": "stream",
     "text": [
      "2018... 2019... 2020... 2021... 2022... 2023... 2024... "
     ]
    }
   ],
   "source": [
    "SBER_df = download_by_figi('BBG004RVFFC0', 'Sber', 2018, 2024)"
   ]
  },
  {
   "cell_type": "code",
   "execution_count": 27,
   "metadata": {},
   "outputs": [],
   "source": [
    "SBER_df.write_csv(\"Sber_1_min.csv\")\n",
    "merge_candles(SBER_df, '10m').write_csv(\"Sber_10_min.csv\")"
   ]
  },
  {
   "cell_type": "markdown",
   "metadata": {},
   "source": [
    "### ФосАгро"
   ]
  },
  {
   "cell_type": "code",
   "execution_count": 30,
   "metadata": {},
   "outputs": [
    {
     "data": {
      "text/plain": [
       "['BBG004S689R0', 'TCS00A0JRKT8']"
      ]
     },
     "execution_count": 30,
     "metadata": {},
     "output_type": "execute_result"
    }
   ],
   "source": [
    "get_all_figi_by_ticker('PHOR')"
   ]
  },
  {
   "cell_type": "code",
   "execution_count": 55,
   "metadata": {},
   "outputs": [
    {
     "name": "stdout",
     "output_type": "stream",
     "text": [
      "2018... 2019... 2020... 2021... 2022... 2023... 2024... "
     ]
    }
   ],
   "source": [
    "PHOR_df = download_by_figi('BBG004S689R0', 'Phosagro', 2018, 2024)"
   ]
  },
  {
   "cell_type": "code",
   "execution_count": 56,
   "metadata": {},
   "outputs": [],
   "source": [
    "PHOR_df.write_csv(\"Phosagro_1_min.csv\")\n",
    "merge_candles(PHOR_df, '10m').write_csv(\"Phosagro_10_min.csv\")"
   ]
  },
  {
   "cell_type": "markdown",
   "metadata": {},
   "source": [
    "### MOEX"
   ]
  },
  {
   "cell_type": "code",
   "execution_count": 57,
   "metadata": {},
   "outputs": [
    {
     "data": {
      "text/plain": [
       "['TCS10A0JR4A1', 'BBG004730JJ5']"
      ]
     },
     "execution_count": 57,
     "metadata": {},
     "output_type": "execute_result"
    }
   ],
   "source": [
    "get_all_figi_by_ticker('MOEX')"
   ]
  },
  {
   "cell_type": "code",
   "execution_count": 59,
   "metadata": {},
   "outputs": [
    {
     "name": "stdout",
     "output_type": "stream",
     "text": [
      "2018... 2019... 2020... 2021... 2022... 2023... 2024... "
     ]
    }
   ],
   "source": [
    "MOEX_df = download_by_figi('BBG004730JJ5', 'Moex', 2018, 2024)"
   ]
  },
  {
   "cell_type": "code",
   "execution_count": 60,
   "metadata": {},
   "outputs": [],
   "source": [
    "MOEX_df.write_csv(\"Moex_1_min.csv\")\n",
    "merge_candles(MOEX_df, '10m').write_csv(\"Moex_10_min.csv\")"
   ]
  },
  {
   "cell_type": "markdown",
   "metadata": {},
   "source": [
    "### Норильский никель"
   ]
  },
  {
   "cell_type": "code",
   "execution_count": 61,
   "metadata": {},
   "outputs": [
    {
     "data": {
      "text/plain": [
       "['TCS907288411', 'BBG004731489', 'TCS007288411']"
      ]
     },
     "execution_count": 61,
     "metadata": {},
     "output_type": "execute_result"
    }
   ],
   "source": [
    "get_all_figi_by_ticker('GMKN')"
   ]
  },
  {
   "cell_type": "code",
   "execution_count": 63,
   "metadata": {},
   "outputs": [
    {
     "name": "stdout",
     "output_type": "stream",
     "text": [
      "2018... 2019... 2020... 2021... 2022... 2023... 2024... "
     ]
    }
   ],
   "source": [
    "GMKN_df = download_by_figi('BBG004731489', 'Nornickel', 2018, 2024)"
   ]
  },
  {
   "cell_type": "code",
   "execution_count": 65,
   "metadata": {},
   "outputs": [],
   "source": [
    "GMKN_df.write_csv(\"Nornickel_1_min.csv\")\n",
    "merge_candles(GMKN_df, '10m').write_csv(\"Nornickel_10_min.csv\")"
   ]
  },
  {
   "cell_type": "markdown",
   "metadata": {},
   "source": [
    "### Газпром"
   ]
  },
  {
   "cell_type": "code",
   "execution_count": 78,
   "metadata": {},
   "outputs": [
    {
     "data": {
      "text/plain": [
       "['TCS907661625', 'TCSS07661625', 'TCS007661625', 'BBG004730RP0']"
      ]
     },
     "execution_count": 78,
     "metadata": {},
     "output_type": "execute_result"
    }
   ],
   "source": [
    "get_all_figi_by_ticker('GAZP')"
   ]
  },
  {
   "cell_type": "code",
   "execution_count": 79,
   "metadata": {},
   "outputs": [
    {
     "name": "stdout",
     "output_type": "stream",
     "text": [
      "2018... 2019... 2020... 2021... 2022... 2023... 2024... "
     ]
    }
   ],
   "source": [
    "GAZP_df = download_by_figi('BBG004730RP0', 'Gazprom', 2018, 2024)"
   ]
  },
  {
   "cell_type": "code",
   "execution_count": 80,
   "metadata": {},
   "outputs": [],
   "source": [
    "GAZP_df.write_csv(\"Gazprom_1_min.csv\")\n",
    "merge_candles(GAZP_df, '10m').write_csv(\"Gazprom_10_min.csv\")"
   ]
  },
  {
   "cell_type": "markdown",
   "metadata": {},
   "source": [
    "### Новатэк"
   ]
  },
  {
   "cell_type": "code",
   "execution_count": 81,
   "metadata": {},
   "outputs": [
    {
     "data": {
      "text/plain": [
       "['TCS00A0DKVS5', 'BBG00475KKY8']"
      ]
     },
     "execution_count": 81,
     "metadata": {},
     "output_type": "execute_result"
    }
   ],
   "source": [
    "get_all_figi_by_ticker('NVTK')"
   ]
  },
  {
   "cell_type": "code",
   "execution_count": 82,
   "metadata": {},
   "outputs": [
    {
     "name": "stdout",
     "output_type": "stream",
     "text": [
      "2018... 2019... 2020... 2021... 2022... 2023... 2024... "
     ]
    }
   ],
   "source": [
    "NVTK_df = download_by_figi('BBG00475KKY8', 'Novatek', 2018, 2024)"
   ]
  },
  {
   "cell_type": "code",
   "execution_count": 83,
   "metadata": {},
   "outputs": [],
   "source": [
    "NVTK_df.write_csv(\"Novatek_1_min.csv\")\n",
    "merge_candles(NVTK_df, '10m').write_csv(\"Novatek_10_min.csv\")"
   ]
  },
  {
   "cell_type": "markdown",
   "metadata": {},
   "source": [
    "### Positive Technologies 🧘‍♀️🙏"
   ]
  },
  {
   "cell_type": "code",
   "execution_count": 84,
   "metadata": {},
   "outputs": [
    {
     "data": {
      "text/plain": [
       "['TCS10A103X66', 'TCS20A103X66', 'TCS00A103X66', 'TCS30A103X66']"
      ]
     },
     "execution_count": 84,
     "metadata": {},
     "output_type": "execute_result"
    }
   ],
   "source": [
    "get_all_figi_by_ticker('POSI')"
   ]
  },
  {
   "cell_type": "code",
   "execution_count": 90,
   "metadata": {},
   "outputs": [
    {
     "name": "stdout",
     "output_type": "stream",
     "text": [
      "2021... 2022... 2023... 2024... "
     ]
    }
   ],
   "source": [
    "POSI_df = download_by_figi('TCS00A103X66', 'PositiveTech', 2021, 2024)"
   ]
  },
  {
   "cell_type": "code",
   "execution_count": 91,
   "metadata": {},
   "outputs": [],
   "source": [
    "POSI_df.write_csv(\"Positive_1_min.csv\")\n",
    "merge_candles(POSI_df, '10m').write_csv(\"Positive_10_min.csv\")"
   ]
  }
 ],
 "metadata": {
  "kernelspec": {
   "display_name": "Python 3",
   "language": "python",
   "name": "python3"
  },
  "language_info": {
   "codemirror_mode": {
    "name": "ipython",
    "version": 3
   },
   "file_extension": ".py",
   "mimetype": "text/x-python",
   "name": "python",
   "nbconvert_exporter": "python",
   "pygments_lexer": "ipython3",
   "version": "3.10.0"
  }
 },
 "nbformat": 4,
 "nbformat_minor": 2
}
