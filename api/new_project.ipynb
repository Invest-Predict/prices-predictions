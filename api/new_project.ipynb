{
 "cells": [
  {
   "cell_type": "code",
   "execution_count": 157,
   "metadata": {},
   "outputs": [],
   "source": [
    "import pandas as pd\n",
    "import numpy as np\n",
    "import matplotlib.pyplot as plt\n",
    "import seaborn as sns"
   ]
  },
  {
   "cell_type": "code",
   "execution_count": 168,
   "metadata": {},
   "outputs": [
    {
     "data": {
      "text/html": [
       "<div>\n",
       "<style scoped>\n",
       "    .dataframe tbody tr th:only-of-type {\n",
       "        vertical-align: middle;\n",
       "    }\n",
       "\n",
       "    .dataframe tbody tr th {\n",
       "        vertical-align: top;\n",
       "    }\n",
       "\n",
       "    .dataframe thead th {\n",
       "        text-align: right;\n",
       "    }\n",
       "</style>\n",
       "<table border=\"1\" class=\"dataframe\">\n",
       "  <thead>\n",
       "    <tr style=\"text-align: right;\">\n",
       "      <th></th>\n",
       "      <th>utc</th>\n",
       "      <th>Yandex open</th>\n",
       "      <th>Yandex close</th>\n",
       "      <th>Yandex high</th>\n",
       "      <th>Yandex low</th>\n",
       "      <th>Yandex volume</th>\n",
       "    </tr>\n",
       "  </thead>\n",
       "  <tbody>\n",
       "    <tr>\n",
       "      <th>0</th>\n",
       "      <td>2018-03-07T18:40:00.000000+0000</td>\n",
       "      <td>2375.0</td>\n",
       "      <td>2379.5</td>\n",
       "      <td>2379.5</td>\n",
       "      <td>2375.0</td>\n",
       "      <td>231</td>\n",
       "    </tr>\n",
       "    <tr>\n",
       "      <th>1</th>\n",
       "      <td>2018-03-07T18:50:00.000000+0000</td>\n",
       "      <td>2380.0</td>\n",
       "      <td>2385.0</td>\n",
       "      <td>2385.0</td>\n",
       "      <td>2380.0</td>\n",
       "      <td>514</td>\n",
       "    </tr>\n",
       "    <tr>\n",
       "      <th>2</th>\n",
       "      <td>2018-03-07T19:00:00.000000+0000</td>\n",
       "      <td>2385.5</td>\n",
       "      <td>2388.0</td>\n",
       "      <td>2388.0</td>\n",
       "      <td>2384.0</td>\n",
       "      <td>226</td>\n",
       "    </tr>\n",
       "    <tr>\n",
       "      <th>3</th>\n",
       "      <td>2018-03-07T19:10:00.000000+0000</td>\n",
       "      <td>2388.0</td>\n",
       "      <td>2389.5</td>\n",
       "      <td>2389.5</td>\n",
       "      <td>2387.0</td>\n",
       "      <td>207</td>\n",
       "    </tr>\n",
       "    <tr>\n",
       "      <th>4</th>\n",
       "      <td>2018-03-07T19:20:00.000000+0000</td>\n",
       "      <td>2386.5</td>\n",
       "      <td>2386.0</td>\n",
       "      <td>2389.0</td>\n",
       "      <td>2386.0</td>\n",
       "      <td>25</td>\n",
       "    </tr>\n",
       "    <tr>\n",
       "      <th>...</th>\n",
       "      <td>...</td>\n",
       "      <td>...</td>\n",
       "      <td>...</td>\n",
       "      <td>...</td>\n",
       "      <td>...</td>\n",
       "      <td>...</td>\n",
       "    </tr>\n",
       "    <tr>\n",
       "      <th>134444</th>\n",
       "      <td>2024-12-06T20:00:00.000000+0000</td>\n",
       "      <td>3379.5</td>\n",
       "      <td>3384.0</td>\n",
       "      <td>3384.5</td>\n",
       "      <td>3379.5</td>\n",
       "      <td>741</td>\n",
       "    </tr>\n",
       "    <tr>\n",
       "      <th>134445</th>\n",
       "      <td>2024-12-06T20:10:00.000000+0000</td>\n",
       "      <td>3383.5</td>\n",
       "      <td>3382.5</td>\n",
       "      <td>3383.5</td>\n",
       "      <td>3382.5</td>\n",
       "      <td>563</td>\n",
       "    </tr>\n",
       "    <tr>\n",
       "      <th>134446</th>\n",
       "      <td>2024-12-06T20:20:00.000000+0000</td>\n",
       "      <td>3382.0</td>\n",
       "      <td>3378.5</td>\n",
       "      <td>3382.0</td>\n",
       "      <td>3378.0</td>\n",
       "      <td>1449</td>\n",
       "    </tr>\n",
       "    <tr>\n",
       "      <th>134447</th>\n",
       "      <td>2024-12-06T20:30:00.000000+0000</td>\n",
       "      <td>3378.5</td>\n",
       "      <td>3366.5</td>\n",
       "      <td>3380.0</td>\n",
       "      <td>3351.0</td>\n",
       "      <td>8532</td>\n",
       "    </tr>\n",
       "    <tr>\n",
       "      <th>134448</th>\n",
       "      <td>2024-12-06T20:40:00.000000+0000</td>\n",
       "      <td>3367.0</td>\n",
       "      <td>3376.0</td>\n",
       "      <td>3379.0</td>\n",
       "      <td>3367.0</td>\n",
       "      <td>3718</td>\n",
       "    </tr>\n",
       "  </tbody>\n",
       "</table>\n",
       "<p>134449 rows × 6 columns</p>\n",
       "</div>"
      ],
      "text/plain": [
       "                                    utc  Yandex open  Yandex close  \\\n",
       "0       2018-03-07T18:40:00.000000+0000       2375.0        2379.5   \n",
       "1       2018-03-07T18:50:00.000000+0000       2380.0        2385.0   \n",
       "2       2018-03-07T19:00:00.000000+0000       2385.5        2388.0   \n",
       "3       2018-03-07T19:10:00.000000+0000       2388.0        2389.5   \n",
       "4       2018-03-07T19:20:00.000000+0000       2386.5        2386.0   \n",
       "...                                 ...          ...           ...   \n",
       "134444  2024-12-06T20:00:00.000000+0000       3379.5        3384.0   \n",
       "134445  2024-12-06T20:10:00.000000+0000       3383.5        3382.5   \n",
       "134446  2024-12-06T20:20:00.000000+0000       3382.0        3378.5   \n",
       "134447  2024-12-06T20:30:00.000000+0000       3378.5        3366.5   \n",
       "134448  2024-12-06T20:40:00.000000+0000       3367.0        3376.0   \n",
       "\n",
       "        Yandex high  Yandex low  Yandex volume  \n",
       "0            2379.5      2375.0            231  \n",
       "1            2385.0      2380.0            514  \n",
       "2            2388.0      2384.0            226  \n",
       "3            2389.5      2387.0            207  \n",
       "4            2389.0      2386.0             25  \n",
       "...             ...         ...            ...  \n",
       "134444       3384.5      3379.5            741  \n",
       "134445       3383.5      3382.5            563  \n",
       "134446       3382.0      3378.0           1449  \n",
       "134447       3380.0      3351.0           8532  \n",
       "134448       3379.0      3367.0           3718  \n",
       "\n",
       "[134449 rows x 6 columns]"
      ]
     },
     "execution_count": 168,
     "metadata": {},
     "output_type": "execute_result"
    }
   ],
   "source": [
    "data = pd.read_csv('../datasets/T_yandex_10min.csv')\n",
    "\n",
    "categoricals = []\n",
    "numeric = []\n",
    "normalize = []\n",
    "\n",
    "data"
   ]
  },
  {
   "cell_type": "markdown",
   "metadata": {},
   "source": [
    "Небольшое переименнование и преобразование типов признаков"
   ]
  },
  {
   "cell_type": "code",
   "execution_count": 169,
   "metadata": {},
   "outputs": [],
   "source": [
    "data['open'] = data['Yandex open']\n",
    "data['close'] = data['Yandex close']\n",
    "data['high'] = data['Yandex high']\n",
    "data['low'] = data['Yandex low']\n",
    "data['volume'] = data['Yandex volume']\n",
    "data = data.drop(columns=['Yandex open', 'Yandex close', 'Yandex high', 'Yandex low', 'Yandex volume'])\n",
    "\n",
    "# numeric += ['open', 'close', 'high', 'low', 'volume']\n",
    "# normalize += ['open', 'close', 'high', 'low', 'volume']\n",
    "\n",
    "data['open_div'] = data['open'] / data['open'].shift()\n",
    "data['close_div'] = data['close'] / data['close'].shift()\n",
    "data['high_div'] = data['high'] / data['high'].shift()\n",
    "data['low_div'] = data['low'] / data['low'].shift()\n",
    "numeric += ['open_div', 'close_div', 'high_div', 'low_div', 'volume']"
   ]
  },
  {
   "cell_type": "code",
   "execution_count": 170,
   "metadata": {},
   "outputs": [
    {
     "data": {
      "image/png": "[encoded data removed]",
      "text/plain": [
       "<Figure size 640x480 with 1 Axes>"
      ]
     },
     "metadata": {},
     "output_type": "display_data"
    }
   ],
   "source": [
    "from scipy.signal import butter, filtfilt\n",
    "\n",
    "data1 = data[-100:]\n",
    "def butter_filter(data, cutoff_frequency, fs, order=4):\n",
    "    nyquist = 0.5 * fs\n",
    "    normal_cutoff = cutoff_frequency / nyquist\n",
    "    b, a = butter(order, normal_cutoff, btype='low', analog=False)\n",
    "    return filtfilt(b, a, data)\n",
    "\n",
    "fs = 144\n",
    "cutoff_frequency = 5\n",
    "data_filtered = butter_filter(data1['open'].values, cutoff_frequency, fs)\n",
    "\n",
    "plt.plot(data1['utc'], data1['open'], label='Original')\n",
    "plt.plot(data1['utc'], data_filtered, label='Filtered', color='red')\n",
    "plt.xticks(data1['utc'][::10], rotation=45)\n",
    "plt.legend()\n",
    "plt.show()"
   ]
  },
  {
   "cell_type": "code",
   "execution_count": 125,
   "metadata": {},
   "outputs": [],
   "source": [
    "data['open_diff'] = (data['open'] - data['open'].shift()) / data['open'].shift()\n",
    "data['high_diff'] = (data['high'] - data['high'].shift()) / data['high'].shift()\n",
    "data['low_diff'] = (data['low'] - data['low'].shift()) / data['low'].shift()\n",
    "\n",
    "numeric += ['open_diff', 'high_diff', 'low_diff']\n",
    "normalize += ['open_diff','high_diff', 'low_diff']"
   ]
  },
  {
   "cell_type": "code",
   "execution_count": 126,
   "metadata": {},
   "outputs": [
    {
     "data": {
      "text/plain": [
       "open                     float64\n",
       "close                    float64\n",
       "high                     float64\n",
       "low                      float64\n",
       "volume                     int64\n",
       "open_div                 float64\n",
       "close_div                float64\n",
       "high_div                 float64\n",
       "low_div                  float64\n",
       "open_diff                float64\n",
       "high_diff                float64\n",
       "low_diff                 float64\n",
       "date         datetime64[ns, UTC]\n",
       "dtype: object"
      ]
     },
     "execution_count": 126,
     "metadata": {},
     "output_type": "execute_result"
    }
   ],
   "source": [
    "data['date'] = pd.to_datetime(data['utc'])\n",
    "data = data.drop(columns='utc')\n",
    "data.dtypes"
   ]
  },
  {
   "cell_type": "markdown",
   "metadata": {},
   "source": [
    "Добавляем целевую переменную $I [close_{t+1} > close_t]$"
   ]
  },
  {
   "cell_type": "code",
   "execution_count": 127,
   "metadata": {},
   "outputs": [
    {
     "data": {
      "text/html": [
       "<div>\n",
       "<style scoped>\n",
       "    .dataframe tbody tr th:only-of-type {\n",
       "        vertical-align: middle;\n",
       "    }\n",
       "\n",
       "    .dataframe tbody tr th {\n",
       "        vertical-align: top;\n",
       "    }\n",
       "\n",
       "    .dataframe thead th {\n",
       "        text-align: right;\n",
       "    }\n",
       "</style>\n",
       "<table border=\"1\" class=\"dataframe\">\n",
       "  <thead>\n",
       "    <tr style=\"text-align: right;\">\n",
       "      <th></th>\n",
       "      <th>open</th>\n",
       "      <th>close</th>\n",
       "      <th>high</th>\n",
       "      <th>low</th>\n",
       "      <th>volume</th>\n",
       "      <th>open_div</th>\n",
       "      <th>close_div</th>\n",
       "      <th>high_div</th>\n",
       "      <th>low_div</th>\n",
       "      <th>open_diff</th>\n",
       "      <th>high_diff</th>\n",
       "      <th>low_diff</th>\n",
       "      <th>date</th>\n",
       "      <th>target</th>\n",
       "    </tr>\n",
       "  </thead>\n",
       "  <tbody>\n",
       "    <tr>\n",
       "      <th>0</th>\n",
       "      <td>2375.0</td>\n",
       "      <td>2379.5</td>\n",
       "      <td>2379.5</td>\n",
       "      <td>2375.0</td>\n",
       "      <td>231</td>\n",
       "      <td>NaN</td>\n",
       "      <td>NaN</td>\n",
       "      <td>NaN</td>\n",
       "      <td>NaN</td>\n",
       "      <td>NaN</td>\n",
       "      <td>NaN</td>\n",
       "      <td>NaN</td>\n",
       "      <td>2018-03-07 18:40:00+00:00</td>\n",
       "      <td>1</td>\n",
       "    </tr>\n",
       "    <tr>\n",
       "      <th>1</th>\n",
       "      <td>2380.0</td>\n",
       "      <td>2385.0</td>\n",
       "      <td>2385.0</td>\n",
       "      <td>2380.0</td>\n",
       "      <td>514</td>\n",
       "      <td>1.002105</td>\n",
       "      <td>1.002311</td>\n",
       "      <td>1.002311</td>\n",
       "      <td>1.002105</td>\n",
       "      <td>0.002105</td>\n",
       "      <td>0.002311</td>\n",
       "      <td>0.002105</td>\n",
       "      <td>2018-03-07 18:50:00+00:00</td>\n",
       "      <td>1</td>\n",
       "    </tr>\n",
       "    <tr>\n",
       "      <th>2</th>\n",
       "      <td>2385.5</td>\n",
       "      <td>2388.0</td>\n",
       "      <td>2388.0</td>\n",
       "      <td>2384.0</td>\n",
       "      <td>226</td>\n",
       "      <td>1.002311</td>\n",
       "      <td>1.001258</td>\n",
       "      <td>1.001258</td>\n",
       "      <td>1.001681</td>\n",
       "      <td>0.002311</td>\n",
       "      <td>0.001258</td>\n",
       "      <td>0.001681</td>\n",
       "      <td>2018-03-07 19:00:00+00:00</td>\n",
       "      <td>1</td>\n",
       "    </tr>\n",
       "    <tr>\n",
       "      <th>3</th>\n",
       "      <td>2388.0</td>\n",
       "      <td>2389.5</td>\n",
       "      <td>2389.5</td>\n",
       "      <td>2387.0</td>\n",
       "      <td>207</td>\n",
       "      <td>1.001048</td>\n",
       "      <td>1.000628</td>\n",
       "      <td>1.000628</td>\n",
       "      <td>1.001258</td>\n",
       "      <td>0.001048</td>\n",
       "      <td>0.000628</td>\n",
       "      <td>0.001258</td>\n",
       "      <td>2018-03-07 19:10:00+00:00</td>\n",
       "      <td>0</td>\n",
       "    </tr>\n",
       "    <tr>\n",
       "      <th>4</th>\n",
       "      <td>2386.5</td>\n",
       "      <td>2386.0</td>\n",
       "      <td>2389.0</td>\n",
       "      <td>2386.0</td>\n",
       "      <td>25</td>\n",
       "      <td>0.999372</td>\n",
       "      <td>0.998535</td>\n",
       "      <td>0.999791</td>\n",
       "      <td>0.999581</td>\n",
       "      <td>-0.000628</td>\n",
       "      <td>-0.000209</td>\n",
       "      <td>-0.000419</td>\n",
       "      <td>2018-03-07 19:20:00+00:00</td>\n",
       "      <td>0</td>\n",
       "    </tr>\n",
       "    <tr>\n",
       "      <th>...</th>\n",
       "      <td>...</td>\n",
       "      <td>...</td>\n",
       "      <td>...</td>\n",
       "      <td>...</td>\n",
       "      <td>...</td>\n",
       "      <td>...</td>\n",
       "      <td>...</td>\n",
       "      <td>...</td>\n",
       "      <td>...</td>\n",
       "      <td>...</td>\n",
       "      <td>...</td>\n",
       "      <td>...</td>\n",
       "      <td>...</td>\n",
       "      <td>...</td>\n",
       "    </tr>\n",
       "    <tr>\n",
       "      <th>134444</th>\n",
       "      <td>3379.5</td>\n",
       "      <td>3384.0</td>\n",
       "      <td>3384.5</td>\n",
       "      <td>3379.5</td>\n",
       "      <td>741</td>\n",
       "      <td>1.000000</td>\n",
       "      <td>1.001183</td>\n",
       "      <td>1.001183</td>\n",
       "      <td>1.000592</td>\n",
       "      <td>0.000000</td>\n",
       "      <td>0.001183</td>\n",
       "      <td>0.000592</td>\n",
       "      <td>2024-12-06 20:00:00+00:00</td>\n",
       "      <td>0</td>\n",
       "    </tr>\n",
       "    <tr>\n",
       "      <th>134445</th>\n",
       "      <td>3383.5</td>\n",
       "      <td>3382.5</td>\n",
       "      <td>3383.5</td>\n",
       "      <td>3382.5</td>\n",
       "      <td>563</td>\n",
       "      <td>1.001184</td>\n",
       "      <td>0.999557</td>\n",
       "      <td>0.999705</td>\n",
       "      <td>1.000888</td>\n",
       "      <td>0.001184</td>\n",
       "      <td>-0.000295</td>\n",
       "      <td>0.000888</td>\n",
       "      <td>2024-12-06 20:10:00+00:00</td>\n",
       "      <td>0</td>\n",
       "    </tr>\n",
       "    <tr>\n",
       "      <th>134446</th>\n",
       "      <td>3382.0</td>\n",
       "      <td>3378.5</td>\n",
       "      <td>3382.0</td>\n",
       "      <td>3378.0</td>\n",
       "      <td>1449</td>\n",
       "      <td>0.999557</td>\n",
       "      <td>0.998817</td>\n",
       "      <td>0.999557</td>\n",
       "      <td>0.998670</td>\n",
       "      <td>-0.000443</td>\n",
       "      <td>-0.000443</td>\n",
       "      <td>-0.001330</td>\n",
       "      <td>2024-12-06 20:20:00+00:00</td>\n",
       "      <td>0</td>\n",
       "    </tr>\n",
       "    <tr>\n",
       "      <th>134447</th>\n",
       "      <td>3378.5</td>\n",
       "      <td>3366.5</td>\n",
       "      <td>3380.0</td>\n",
       "      <td>3351.0</td>\n",
       "      <td>8532</td>\n",
       "      <td>0.998965</td>\n",
       "      <td>0.996448</td>\n",
       "      <td>0.999409</td>\n",
       "      <td>0.992007</td>\n",
       "      <td>-0.001035</td>\n",
       "      <td>-0.000591</td>\n",
       "      <td>-0.007993</td>\n",
       "      <td>2024-12-06 20:30:00+00:00</td>\n",
       "      <td>1</td>\n",
       "    </tr>\n",
       "    <tr>\n",
       "      <th>134448</th>\n",
       "      <td>3367.0</td>\n",
       "      <td>3376.0</td>\n",
       "      <td>3379.0</td>\n",
       "      <td>3367.0</td>\n",
       "      <td>3718</td>\n",
       "      <td>0.996596</td>\n",
       "      <td>1.002822</td>\n",
       "      <td>0.999704</td>\n",
       "      <td>1.004775</td>\n",
       "      <td>-0.003404</td>\n",
       "      <td>-0.000296</td>\n",
       "      <td>0.004775</td>\n",
       "      <td>2024-12-06 20:40:00+00:00</td>\n",
       "      <td>0</td>\n",
       "    </tr>\n",
       "  </tbody>\n",
       "</table>\n",
       "<p>134449 rows × 14 columns</p>\n",
       "</div>"
      ],
      "text/plain": [
       "          open   close    high     low  volume  open_div  close_div  high_div  \\\n",
       "0       2375.0  2379.5  2379.5  2375.0     231       NaN        NaN       NaN   \n",
       "1       2380.0  2385.0  2385.0  2380.0     514  1.002105   1.002311  1.002311   \n",
       "2       2385.5  2388.0  2388.0  2384.0     226  1.002311   1.001258  1.001258   \n",
       "3       2388.0  2389.5  2389.5  2387.0     207  1.001048   1.000628  1.000628   \n",
       "4       2386.5  2386.0  2389.0  2386.0      25  0.999372   0.998535  0.999791   \n",
       "...        ...     ...     ...     ...     ...       ...        ...       ...   \n",
       "134444  3379.5  3384.0  3384.5  3379.5     741  1.000000   1.001183  1.001183   \n",
       "134445  3383.5  3382.5  3383.5  3382.5     563  1.001184   0.999557  0.999705   \n",
       "134446  3382.0  3378.5  3382.0  3378.0    1449  0.999557   0.998817  0.999557   \n",
       "134447  3378.5  3366.5  3380.0  3351.0    8532  0.998965   0.996448  0.999409   \n",
       "134448  3367.0  3376.0  3379.0  3367.0    3718  0.996596   1.002822  0.999704   \n",
       "\n",
       "         low_div  open_diff  high_diff  low_diff                      date  \\\n",
       "0            NaN        NaN        NaN       NaN 2018-03-07 18:40:00+00:00   \n",
       "1       1.002105   0.002105   0.002311  0.002105 2018-03-07 18:50:00+00:00   \n",
       "2       1.001681   0.002311   0.001258  0.001681 2018-03-07 19:00:00+00:00   \n",
       "3       1.001258   0.001048   0.000628  0.001258 2018-03-07 19:10:00+00:00   \n",
       "4       0.999581  -0.000628  -0.000209 -0.000419 2018-03-07 19:20:00+00:00   \n",
       "...          ...        ...        ...       ...                       ...   \n",
       "134444  1.000592   0.000000   0.001183  0.000592 2024-12-06 20:00:00+00:00   \n",
       "134445  1.000888   0.001184  -0.000295  0.000888 2024-12-06 20:10:00+00:00   \n",
       "134446  0.998670  -0.000443  -0.000443 -0.001330 2024-12-06 20:20:00+00:00   \n",
       "134447  0.992007  -0.001035  -0.000591 -0.007993 2024-12-06 20:30:00+00:00   \n",
       "134448  1.004775  -0.003404  -0.000296  0.004775 2024-12-06 20:40:00+00:00   \n",
       "\n",
       "        target  \n",
       "0            1  \n",
       "1            1  \n",
       "2            1  \n",
       "3            0  \n",
       "4            0  \n",
       "...        ...  \n",
       "134444       0  \n",
       "134445       0  \n",
       "134446       0  \n",
       "134447       1  \n",
       "134448       0  \n",
       "\n",
       "[134449 rows x 14 columns]"
      ]
     },
     "execution_count": 127,
     "metadata": {},
     "output_type": "execute_result"
    }
   ],
   "source": [
    "data['target'] = (data['close'].shift(-1) > data['close']).astype('int')\n",
    "data"
   ]
  },
  {
   "cell_type": "markdown",
   "metadata": {},
   "source": [
    "**Признаки времени**\n",
    "\n",
    "Праздники 🦎🥳🌷 (поиграться с периодом до праздника)\n",
    "\n",
    "Ну хоть 2025 будет адекватным годом ... 😶"
   ]
  },
  {
   "cell_type": "code",
   "execution_count": 61,
   "metadata": {},
   "outputs": [],
   "source": [
    "# data['is_holiday'] = data['date'].dt.strftime('%m-%d').isin(['12-31', '01-01', '01-07', '02-14', '02-23', '03-08', '05-01']).astype('int')\n",
    "# data['pred_holiday'] = data['date'].dt.strftime('%m-%d').isin(['11-11', '11-30', '12-30', '02-13', '02-22', '03-07', '04-30']).astype('int') # + black friday\n",
    "# data['week_pred_holiday'] = data['date'].dt.strftime('%m-%d').isin(['12-24', '02-07', '02-16', '03-01', '04-24']).astype('int')\n",
    "# numeric += ['is_holiday', 'pred_holiday', 'week_pred_holiday']"
   ]
  },
  {
   "cell_type": "markdown",
   "metadata": {},
   "source": [
    "День в недели"
   ]
  },
  {
   "cell_type": "code",
   "execution_count": 128,
   "metadata": {},
   "outputs": [],
   "source": [
    "data['day_of_week'] = data['date'].dt.day_of_week\n",
    "\n",
    "categoricals += ['day_of_week']"
   ]
  },
  {
   "cell_type": "markdown",
   "metadata": {},
   "source": [
    "Время в сутках и сезон года"
   ]
  },
  {
   "cell_type": "code",
   "execution_count": 129,
   "metadata": {},
   "outputs": [],
   "source": [
    "def get_season(x):\n",
    "    if x < 3 or x == 12:\n",
    "        return 1\n",
    "    elif x < 6:\n",
    "        return 2\n",
    "    elif x < 9:\n",
    "        return 3\n",
    "    else:\n",
    "        return 4\n",
    "\n",
    "data['day_time'] = data['date'].dt.hour.where(data['date'].dt.hour > 12, 0)  # morning\n",
    "data['day_time'] = data['day_time'].mask(data['day_time'] > 18, 2)  # evening\n",
    "data['day_time'] = data['day_time'].mask(data['day_time'] > 2, 1) # afternoon\n",
    "\n",
    "\n",
    "data['season'] = data['date'].dt.month.apply(lambda x: get_season(x))\n",
    "\n",
    "categoricals += ['day_time', 'season']"
   ]
  },
  {
   "cell_type": "markdown",
   "metadata": {},
   "source": [
    "**Признаки связанные с временным рядом**\n",
    "\n",
    "Скользящее среднее"
   ]
  },
  {
   "cell_type": "code",
   "execution_count": 130,
   "metadata": {},
   "outputs": [],
   "source": [
    "data['div'] = data['close'] - data['close'].shift(1)\n",
    "\n",
    "data['avg_18'] = data['div'].rolling(window = 18, closed=\"left\").mean()\n",
    "data['avg_6'] = data['div'].rolling(window = 6, closed=\"left\").mean()\n",
    "data['avg_3'] = data['div'].rolling(window = 3, closed=\"left\").mean()\n",
    "\n",
    "numeric += ['avg_3', 'avg_6', 'avg_18']"
   ]
  },
  {
   "cell_type": "markdown",
   "metadata": {},
   "source": [
    "EMA - экспонен. среднее `(вставить формулу)`"
   ]
  },
  {
   "cell_type": "code",
   "execution_count": 131,
   "metadata": {},
   "outputs": [],
   "source": [
    "data['ema_3'] = data['div'].ewm(span=3).mean()\n",
    "data['ema_6'] = data['div'].ewm(span=6).mean()\n",
    "data['ema_18'] = data['div'].ewm(span=18).mean()\n",
    "data['ema'] = data['div'].ewm(alpha=0.7).mean()\n",
    "\n",
    "numeric += ['ema_3', 'ema_6', 'ema_18', 'ema']"
   ]
  },
  {
   "cell_type": "markdown",
   "metadata": {},
   "source": [
    "Разности"
   ]
  },
  {
   "cell_type": "code",
   "execution_count": 132,
   "metadata": {},
   "outputs": [],
   "source": [
    "data['rsi_3'] = data['close'] - data['close'].shift(3)\n",
    "data['rsi_6'] = data['close'] - data['close'].shift(6)\n",
    "data['rsi_18'] = data['close'] - data['close'].shift(18)\n",
    "\n",
    "numeric += ['rsi_3', 'rsi_6', 'rsi_18']"
   ]
  },
  {
   "cell_type": "markdown",
   "metadata": {},
   "source": [
    "Боллинджер и диспресия `formula`"
   ]
  },
  {
   "cell_type": "code",
   "execution_count": 133,
   "metadata": {},
   "outputs": [],
   "source": [
    "data['SD'] =np.sqrt(np.square((data[\"avg_18\"] - data[\"close\"])).rolling(18, closed='left').sum())\n",
    "data['upper_bollinger'] = data[\"avg_18\"] + data['SD'] * 2\n",
    "data['low_bollinger'] = data[\"avg_18\"] - data['SD'] * 2\n",
    "\n",
    "numeric += ['SD', 'low_bollinger', 'upper_bollinger']"
   ]
  },
  {
   "cell_type": "markdown",
   "metadata": {},
   "source": [
    "High and low stuff"
   ]
  },
  {
   "cell_type": "code",
   "execution_count": 134,
   "metadata": {},
   "outputs": [],
   "source": [
    "data['h_l'] = data['high'] - data['low']\n",
    "data['h_l_18'] = data['high'].shift(18) - data['low'].shift(18)\n",
    "\n",
    "data['h_l_vol'] = data['h_l'] * data['volume']\n",
    "\n",
    "numeric += ['h_l', 'h_l_18', 'h_l_vol']"
   ]
  },
  {
   "cell_type": "code",
   "execution_count": 135,
   "metadata": {},
   "outputs": [],
   "source": [
    "data['stochastic_oscillator'] = (data['close'] - data['low'].shift(18)) / (data['high'].shift(18) - data['low'].shift(18))\n",
    "data['stochastic_oscillator_avg_3'] = data['stochastic_oscillator'].rolling(3).mean()\n",
    "\n",
    "numeric += ['stochastic_oscillator', 'stochastic_oscillator_avg_3']"
   ]
  },
  {
   "cell_type": "markdown",
   "metadata": {},
   "source": [
    "Something random "
   ]
  },
  {
   "cell_type": "code",
   "execution_count": 136,
   "metadata": {},
   "outputs": [],
   "source": [
    "data['target_predict'] = np.exp(np.log1p(data['close'].shift(15)) + 4 * np.random.normal(1)) - data['close']\n",
    "\n",
    "numeric += ['target_predict']\n",
    "normalize += ['target_predict']"
   ]
  },
  {
   "cell_type": "code",
   "execution_count": 81,
   "metadata": {},
   "outputs": [
    {
     "name": "stderr",
     "output_type": "stream",
     "text": [
      "C:\\Users\\burko\\AppData\\Local\\Temp\\ipykernel_880\\3753414333.py:1: SettingWithCopyWarning: \n",
      "A value is trying to be set on a copy of a slice from a DataFrame.\n",
      "Try using .loc[row_indexer,col_indexer] = value instead\n",
      "\n",
      "See the caveats in the documentation: https://pandas.pydata.org/pandas-docs/stable/user_guide/indexing.html#returning-a-view-versus-a-copy\n",
      "  data['is_exam'] = data['date'].dt.strftime('%m-%d').isin(['12-11', '12-17', '12-24', '12-25']).astype('int')\n"
     ]
    }
   ],
   "source": [
    "# data['is_exam'] = data['date'].dt.strftime('%m-%d').isin(['12-11', '12-17', '12-24', '12-25']).astype('int')\n",
    "# numeric += ['is_exam']"
   ]
  },
  {
   "cell_type": "code",
   "execution_count": 137,
   "metadata": {},
   "outputs": [],
   "source": [
    "numeric_norm = []\n",
    "for feat in numeric:\n",
    "    # norm = np.linalg.norm(data_notna[feat])\n",
    "    # data_notna[feat + '_norm'] = data_notna[feat] - np.min(data_notna[feat]) / (np.max(data_notna[feat]) - np.min(data_notna[feat]))\n",
    "    data[feat + '_norm'] = np.tanh(data[feat])\n",
    "    numeric_norm.append(feat + \"_norm\")"
   ]
  },
  {
   "cell_type": "markdown",
   "metadata": {},
   "source": [
    "**Итоги**\n",
    "\n",
    "Корреляция"
   ]
  },
  {
   "cell_type": "code",
   "execution_count": 156,
   "metadata": {},
   "outputs": [
    {
     "data": {
      "text/plain": [
       "target                         1.000000\n",
       "close_div                     -0.085096\n",
       "ema                           -0.083760\n",
       "ema_3                         -0.081701\n",
       "ema_6                         -0.073050\n",
       "rsi_3                         -0.061959\n",
       "ema_18                        -0.052990\n",
       "rsi_6                         -0.048640\n",
       "low_diff                      -0.031580\n",
       "low_div                       -0.031580\n",
       "rsi_18                        -0.030365\n",
       "high_div                      -0.029637\n",
       "high_diff                     -0.029637\n",
       "stochastic_oscillator         -0.029332\n",
       "h_l                            0.017604\n",
       "avg_3                         -0.016588\n",
       "stochastic_oscillator_avg_3   -0.016294\n",
       "avg_6                         -0.014006\n",
       "open_div                      -0.013900\n",
       "open_diff                     -0.013900\n",
       "day_of_week                   -0.009592\n",
       "avg_18                        -0.009299\n",
       "h_l_18                         0.008435\n",
       "target_predict                 0.005793\n",
       "low_bollinger                 -0.005711\n",
       "SD                             0.005709\n",
       "upper_bollinger                0.005707\n",
       "season                        -0.004924\n",
       "day_time                       0.003401\n",
       "volume                         0.002553\n",
       "h_l_vol                        0.002526\n",
       "Name: target, dtype: float64"
      ]
     },
     "execution_count": 156,
     "metadata": {},
     "output_type": "execute_result"
    }
   ],
   "source": [
    "correlation_matrix = data[categoricals + numeric + ['target']].corr()\n",
    "correlation_matrix['abs_corr'] = np.abs(correlation_matrix['target'])\n",
    "correlation_matrix.sort_values(by = 'abs_corr', ascending = False)['target']"
   ]
  },
  {
   "cell_type": "code",
   "execution_count": 139,
   "metadata": {},
   "outputs": [
    {
     "data": {
      "text/plain": [
       "target                              1.000000\n",
       "ema_3_norm                         -0.117297\n",
       "ema_norm                           -0.116187\n",
       "ema_6_norm                         -0.109006\n",
       "close_div_norm                     -0.085921\n",
       "rsi_3_norm                         -0.079122\n",
       "ema_18_norm                        -0.078673\n",
       "rsi_6_norm                         -0.064788\n",
       "rsi_18_norm                        -0.051034\n",
       "stochastic_oscillator_norm         -0.049816\n",
       "low_diff_norm                      -0.030905\n",
       "low_div_norm                       -0.030588\n",
       "high_diff_norm                     -0.029416\n",
       "high_div_norm                      -0.029339\n",
       "stochastic_oscillator_avg_3_norm   -0.024859\n",
       "avg_3_norm                         -0.019160\n",
       "avg_6_norm                         -0.015128\n",
       "open_div_norm                      -0.013600\n",
       "open_diff_norm                     -0.013529\n",
       "avg_18_norm                        -0.012405\n",
       "day_of_week                        -0.009949\n",
       "season                             -0.005174\n",
       "h_l_norm                            0.005130\n",
       "volume_norm                         0.004555\n",
       "day_time                            0.004320\n",
       "h_l_18_norm                         0.001905\n",
       "h_l_vol_norm                       -0.000416\n",
       "SD_norm                                  NaN\n",
       "low_bollinger_norm                       NaN\n",
       "upper_bollinger_norm                     NaN\n",
       "target_predict_norm                      NaN\n",
       "Name: target, dtype: float64"
      ]
     },
     "execution_count": 139,
     "metadata": {},
     "output_type": "execute_result"
    }
   ],
   "source": [
    "correlation_matrix = data_notna[categoricals + numeric_norm + ['target']].corr()\n",
    "correlation_matrix['abs_corr'] = np.abs(correlation_matrix['target'])\n",
    "correlation_matrix.sort_values(by = 'abs_corr', ascending = False)['target']"
   ]
  },
  {
   "cell_type": "markdown",
   "metadata": {},
   "source": [
    "Модель"
   ]
  },
  {
   "cell_type": "code",
   "execution_count": 141,
   "metadata": {},
   "outputs": [
    {
     "name": "stdout",
     "output_type": "stream",
     "text": [
      "Index(['day_of_week', 'day_time', 'season', 'open_div_norm', 'close_div_norm',\n",
      "       'high_div_norm', 'low_div_norm', 'volume_norm', 'open_diff_norm',\n",
      "       'high_diff_norm', 'low_diff_norm', 'avg_3_norm', 'avg_6_norm',\n",
      "       'avg_18_norm', 'ema_3_norm', 'ema_6_norm', 'ema_18_norm', 'ema_norm',\n",
      "       'rsi_3_norm', 'rsi_6_norm', 'rsi_18_norm', 'SD_norm',\n",
      "       'low_bollinger_norm', 'upper_bollinger_norm', 'h_l_norm', 'h_l_18_norm',\n",
      "       'h_l_vol_norm', 'stochastic_oscillator_norm',\n",
      "       'stochastic_oscillator_avg_3_norm', 'target_predict_norm'],\n",
      "      dtype='object')\n"
     ]
    }
   ],
   "source": [
    "from sklearn.compose import ColumnTransformer\n",
    "from sklearn.preprocessing import OneHotEncoder\n",
    "from sklearn.preprocessing import StandardScaler\n",
    "\n",
    "other = []\n",
    "\n",
    "column_transformer = ColumnTransformer([\n",
    "    ('ohe', OneHotEncoder(handle_unknown='ignore'), categoricals),\n",
    "    ('scaling', StandardScaler(), numeric_norm),\n",
    "    ('other',  'passthrough', other)\n",
    "])\n",
    "\n",
    "x_cols = categoricals + numeric_norm\n",
    "# data_notna = data.dropna()\n",
    "data_res = data[data.date.dt.date > datetime.strptime('01-09-2024', \"%d-%m-%Y\").date()]\n",
    "x = data_res[x_cols]\n",
    "print(x.columns)\n",
    "x = column_transformer.fit_transform(x)"
   ]
  },
  {
   "cell_type": "code",
   "execution_count": 142,
   "metadata": {},
   "outputs": [],
   "source": [
    "from sklearn.model_selection import train_test_split\n",
    "\n",
    "X_train, X_test, y_train, y_test = train_test_split(x, data_res['target'], test_size=0.05, random_state=42)\n",
    "\n",
    "# X_train = column_transformer.transform(X_train)\n",
    "# X_test = column_transformer.transform(X_test)"
   ]
  },
  {
   "cell_type": "markdown",
   "metadata": {},
   "source": [
    "Проверка констант"
   ]
  },
  {
   "cell_type": "code",
   "execution_count": 143,
   "metadata": {},
   "outputs": [
    {
     "name": "stdout",
     "output_type": "stream",
     "text": [
      "Точность константного предсказания 0.5313807531380753\n"
     ]
    }
   ],
   "source": [
    "test_const = np.column_stack((X_test, y_test))\n",
    "ones = np.sum(test_const[:, -1])\n",
    "zeroes = test_const.shape[0] - ones\n",
    "# consts = test_const.group_by(pl.col(\"direction_binary\")).agg(pl.col(\"index\").count())\n",
    "# zeroes = consts.filter(pl.col(\"direction_binary\") == 0)['index'].item()\n",
    "# ones = consts.filter(pl.col(\"direction_binary\") == 1)['index'].item()\n",
    "\n",
    "print(f\"Точность константного предсказания {zeroes/(ones + zeroes)}\")"
   ]
  },
  {
   "cell_type": "code",
   "execution_count": 144,
   "metadata": {},
   "outputs": [],
   "source": [
    "from catboost import CatBoostClassifier\n",
    "from sklearn.metrics import accuracy_score, classification_report\n",
    "from sklearn.model_selection import train_test_split\n",
    "from catboost import CatBoostClassifier, Pool\n",
    "\n",
    "model = CatBoostClassifier(\n",
    "    iterations=500, depth=5,use_best_model=True, loss_function='CrossEntropy', eval_metric='Accuracy', verbose=False)\n",
    "model.fit(X_train, y_train, eval_set=Pool(X_test, y_test))\n",
    "y_pred = model.predict(X_test)"
   ]
  },
  {
   "cell_type": "code",
   "execution_count": 93,
   "metadata": {},
   "outputs": [
    {
     "data": {
      "text/plain": [
       "(478,)"
      ]
     },
     "execution_count": 93,
     "metadata": {},
     "output_type": "execute_result"
    }
   ],
   "source": [
    "y_test.shape"
   ]
  },
  {
   "cell_type": "code",
   "execution_count": 94,
   "metadata": {},
   "outputs": [
    {
     "name": "stdout",
     "output_type": "stream",
     "text": [
      "Classification Report:\n",
      "              precision    recall  f1-score   support\n",
      "\n",
      "           0       0.62      0.64      0.63       254\n",
      "           1       0.57      0.55      0.56       224\n",
      "\n",
      "    accuracy                           0.60       478\n",
      "   macro avg       0.59      0.59      0.59       478\n",
      "weighted avg       0.60      0.60      0.60       478\n",
      "\n"
     ]
    }
   ],
   "source": [
    "print(\"Classification Report:\")\n",
    "print(classification_report(y_test, y_pred))"
   ]
  },
  {
   "cell_type": "code",
   "execution_count": 84,
   "metadata": {},
   "outputs": [
    {
     "name": "stdout",
     "output_type": "stream",
     "text": [
      "Feature: upper_bollinger, Importance: 32.96\n",
      "Feature: high_div, Importance: 11.05\n",
      "Feature: h_l, Importance: 10.51\n",
      "Feature: h_l_vol, Importance: 9.94\n",
      "Feature: low_div, Importance: 5.78\n",
      "Feature: rsi_3, Importance: 3.16\n",
      "Feature: ema_3, Importance: 3.14\n",
      "Feature: target_predict, Importance: 2.36\n",
      "Feature: low_bollinger, Importance: 2.35\n",
      "Feature: ema_6, Importance: 2.20\n",
      "Feature: h_l_18, Importance: 1.84\n",
      "Feature: stochastic_oscillator_avg_3, Importance: 1.62\n",
      "Feature: rsi_6, Importance: 1.25\n",
      "Feature: stochastic_oscillator, Importance: 1.20\n",
      "Feature: rsi_18, Importance: 1.01\n",
      "Feature: avg_6, Importance: 0.93\n",
      "Feature: avg_18, Importance: 0.92\n",
      "Feature: SD, Importance: 0.54\n",
      "Feature: open_div, Importance: 0.43\n",
      "Feature: ema_18, Importance: 0.28\n",
      "Feature: ema, Importance: 0.22\n",
      "Feature: day_of_week, Importance: 0.00\n",
      "Feature: day_time, Importance: 0.00\n",
      "Feature: season, Importance: 0.00\n",
      "Feature: close_div, Importance: 0.00\n",
      "Feature: volume, Importance: 0.00\n",
      "Feature: open_diff, Importance: 0.00\n",
      "Feature: high_diff, Importance: 0.00\n",
      "Feature: low_diff, Importance: 0.00\n",
      "Feature: avg_3, Importance: 0.00\n"
     ]
    }
   ],
   "source": [
    "feature_importance = model.get_feature_importance()\n",
    "feature_names = categoricals+numeric\n",
    "s = zip(feature_importance, feature_names)\n",
    "s = sorted(s, key=lambda x: x[0], reverse=True)\n",
    "# Display feature importance\n",
    "for importance, name in s:\n",
    "    print(f\"Feature: {name}, Importance: {importance:.2f}\")"
   ]
  }
 ],
 "metadata": {
  "kernelspec": {
   "display_name": "base",
   "language": "python",
   "name": "python3"
  },
  "language_info": {
   "codemirror_mode": {
    "name": "ipython",
    "version": 3
   },
   "file_extension": ".py",
   "mimetype": "text/x-python",
   "name": "python",
   "nbconvert_exporter": "python",
   "pygments_lexer": "ipython3",
   "version": "3.9.13"
  }
 },
 "nbformat": 4,
 "nbformat_minor": 2
}
